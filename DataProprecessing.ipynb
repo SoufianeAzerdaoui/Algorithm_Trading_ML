{
 "cells": [
  {
   "cell_type": "code",
   "execution_count": 151,
   "id": "cf441b9e-8e1f-4acb-a2b2-7391e2a51879",
   "metadata": {},
   "outputs": [],
   "source": [
    "import pandas as pd\n",
    "import pandas_ta as ta \n",
    "import numpy as np"
   ]
  },
  {
   "cell_type": "code",
   "execution_count": 152,
   "id": "67a558c8-0360-43bd-a828-1f9e99d1e605",
   "metadata": {},
   "outputs": [
    {
     "data": {
      "text/plain": [
       "Date         object\n",
       "Adj Close    object\n",
       "Close        object\n",
       "High         object\n",
       "Low          object\n",
       "Open         object\n",
       "Volume       object\n",
       "dtype: object"
      ]
     },
     "execution_count": 152,
     "metadata": {},
     "output_type": "execute_result"
    }
   ],
   "source": [
    "path = \"Data Historical/AAPL_data.csv\"\n",
    "data = pd.read_csv(path)\n",
    "data.dtypes"
   ]
  },
  {
   "cell_type": "code",
   "execution_count": 153,
   "id": "c75b0f46-f4a8-48c5-987b-6a9c15bdd9da",
   "metadata": {},
   "outputs": [],
   "source": [
    "numeric_cols = ['Adj Close', 'Close', 'High', 'Low', 'Open', 'Volume']\n",
    "data[numeric_cols] = data[numeric_cols].apply(pd.to_numeric, errors='coerce')\n"
   ]
  },
  {
   "cell_type": "code",
   "execution_count": 154,
   "id": "70d53bd7-953b-4bc7-868a-8de74948377a",
   "metadata": {},
   "outputs": [
    {
     "name": "stdout",
     "output_type": "stream",
     "text": [
      "             Open        High         Low       Close   Adj Close     RSI_14  \\\n",
      "11076  225.250000  229.740005  225.169998  228.020004  228.020004  51.542650   \n",
      "11077  226.979996  230.160004  226.660004  228.279999  228.279999  51.986984   \n",
      "11078  228.059998  229.929993  225.889999  229.000000  229.000000  53.265028   \n",
      "11079  228.880005  230.160004  225.710007  228.520004  228.520004  52.266187   \n",
      "11080  228.059998  230.130005  228.059998  229.520004  229.520004  54.193399   \n",
      "\n",
      "          RSI_30    RSI_200    MOM_10    MOM_30  MACD_12_26_9  MACDh_12_26_9  \\\n",
      "11076  51.873211  53.925678  6.010010  6.330002     -0.680781      -0.026659   \n",
      "11077  52.068742  53.954426  4.830002  2.509995     -0.485303       0.135055   \n",
      "11078  52.620201  54.034246  6.279999 -0.539993     -0.269184       0.280939   \n",
      "11079  52.205970  53.971560  1.040009 -0.519989     -0.135083       0.332032   \n",
      "11080  53.003310  54.083096  2.559998  1.970001      0.051294       0.414727   \n",
      "\n",
      "       MACDs_12_26_9    PROC_9      EMA_10      EMA_30  \n",
      "11076      -0.654122  2.045204  226.341986  227.157843  \n",
      "11077      -0.620358  2.496407  226.694352  227.230240  \n",
      "11078      -0.550124  0.668193  227.113561  227.344418  \n",
      "11079      -0.467115  0.687345  227.369278  227.420263  \n",
      "11080      -0.363434  2.359189  227.760319  227.555730  \n"
     ]
    }
   ],
   "source": [
    "# Step 2: Calculate RSI for 14, 30, and 200 periods\n",
    "data['RSI_14'] = ta.rsi(data['Close'], length=14)\n",
    "data['RSI_30'] = ta.rsi(data['Close'], length=30)\n",
    "data['RSI_200'] = ta.rsi(data['Close'], length=200)\n",
    "\n",
    "# Step 3: Calculate Momentum for 10 and 30 periods\n",
    "data['MOM_10'] = ta.mom(data['Close'], length=10)\n",
    "data['MOM_30'] = ta.mom(data['Close'], length=30)\n",
    "\n",
    "# Step 4: Calculate MACD\n",
    "macd = ta.macd(data['Close'], fast=12, slow=26, signal=9)\n",
    "data = pd.concat([data, macd], axis=1)  # Add MACD columns to the dataframe\n",
    "\n",
    "# Step 5: Calculate PROC (Price Rate of Change) for 9 periods\n",
    "data['PROC_9'] = ta.roc(data['Close'], length=9)\n",
    "\n",
    "# Step 6: Calculate EMA for 10, 30 periods\n",
    "data['EMA_10'] = ta.ema(data['Close'], length=10)\n",
    "data['EMA_30'] = ta.ema(data['Close'], length=30)\n",
    "\n",
    "data['Pct_Change'] = data['Close'].pct_change()\n",
    "data['Log_Returns'] = np.log(data['Close'] / data['Close'].shift(1))\n",
    "\n",
    "data['Volatility_10'] = data['Close'].rolling(window=10).std()\n",
    "data['Volatility_30'] = data['Close'].rolling(window=30).std()\n",
    "\n",
    "\n",
    "# Step 7: Display the dataframe with new features\n",
    "print(data[['Open', 'High', 'Low', 'Close', 'Adj Close', \n",
    "            'RSI_14', 'RSI_30', 'RSI_200', \n",
    "            'MOM_10', 'MOM_30', \n",
    "            'MACD_12_26_9', 'MACDh_12_26_9', 'MACDs_12_26_9', \n",
    "            'PROC_9', \n",
    "            'EMA_10', 'EMA_30']].tail())"
   ]
  },
  {
   "cell_type": "code",
   "execution_count": 155,
   "id": "0897a1a0-9a66-4917-a9b2-2f4666d3948f",
   "metadata": {},
   "outputs": [
    {
     "data": {
      "text/html": [
       "<div>\n",
       "<style scoped>\n",
       "    .dataframe tbody tr th:only-of-type {\n",
       "        vertical-align: middle;\n",
       "    }\n",
       "\n",
       "    .dataframe tbody tr th {\n",
       "        vertical-align: top;\n",
       "    }\n",
       "\n",
       "    .dataframe thead th {\n",
       "        text-align: right;\n",
       "    }\n",
       "</style>\n",
       "<table border=\"1\" class=\"dataframe\">\n",
       "  <thead>\n",
       "    <tr style=\"text-align: right;\">\n",
       "      <th></th>\n",
       "      <th>Date</th>\n",
       "      <th>Adj Close</th>\n",
       "      <th>Close</th>\n",
       "      <th>High</th>\n",
       "      <th>Low</th>\n",
       "      <th>Open</th>\n",
       "      <th>Volume</th>\n",
       "      <th>RSI_14</th>\n",
       "      <th>RSI_30</th>\n",
       "      <th>RSI_200</th>\n",
       "      <th>...</th>\n",
       "      <th>MACD_12_26_9</th>\n",
       "      <th>MACDh_12_26_9</th>\n",
       "      <th>MACDs_12_26_9</th>\n",
       "      <th>PROC_9</th>\n",
       "      <th>EMA_10</th>\n",
       "      <th>EMA_30</th>\n",
       "      <th>Pct_Change</th>\n",
       "      <th>Log_Returns</th>\n",
       "      <th>Volatility_10</th>\n",
       "      <th>Volatility_30</th>\n",
       "    </tr>\n",
       "  </thead>\n",
       "  <tbody>\n",
       "    <tr>\n",
       "      <th>11076</th>\n",
       "      <td>2024-11-18</td>\n",
       "      <td>228.020004</td>\n",
       "      <td>228.020004</td>\n",
       "      <td>229.740005</td>\n",
       "      <td>225.169998</td>\n",
       "      <td>225.250000</td>\n",
       "      <td>44686000.0</td>\n",
       "      <td>51.542650</td>\n",
       "      <td>51.873211</td>\n",
       "      <td>53.925678</td>\n",
       "      <td>...</td>\n",
       "      <td>-0.680781</td>\n",
       "      <td>-0.026659</td>\n",
       "      <td>-0.654122</td>\n",
       "      <td>2.045204</td>\n",
       "      <td>226.341986</td>\n",
       "      <td>227.157843</td>\n",
       "      <td>0.013422</td>\n",
       "      <td>0.013333</td>\n",
       "      <td>1.981399</td>\n",
       "      <td>4.157991</td>\n",
       "    </tr>\n",
       "    <tr>\n",
       "      <th>11077</th>\n",
       "      <td>2024-11-19</td>\n",
       "      <td>228.279999</td>\n",
       "      <td>228.279999</td>\n",
       "      <td>230.160004</td>\n",
       "      <td>226.660004</td>\n",
       "      <td>226.979996</td>\n",
       "      <td>36211800.0</td>\n",
       "      <td>51.986984</td>\n",
       "      <td>52.068742</td>\n",
       "      <td>53.954426</td>\n",
       "      <td>...</td>\n",
       "      <td>-0.485303</td>\n",
       "      <td>0.135055</td>\n",
       "      <td>-0.620358</td>\n",
       "      <td>2.496407</td>\n",
       "      <td>226.694352</td>\n",
       "      <td>227.230240</td>\n",
       "      <td>0.001140</td>\n",
       "      <td>0.001140</td>\n",
       "      <td>2.003083</td>\n",
       "      <td>4.119655</td>\n",
       "    </tr>\n",
       "    <tr>\n",
       "      <th>11078</th>\n",
       "      <td>2024-11-20</td>\n",
       "      <td>229.000000</td>\n",
       "      <td>229.000000</td>\n",
       "      <td>229.929993</td>\n",
       "      <td>225.889999</td>\n",
       "      <td>228.059998</td>\n",
       "      <td>35169600.0</td>\n",
       "      <td>53.265028</td>\n",
       "      <td>52.620201</td>\n",
       "      <td>54.034246</td>\n",
       "      <td>...</td>\n",
       "      <td>-0.269184</td>\n",
       "      <td>0.280939</td>\n",
       "      <td>-0.550124</td>\n",
       "      <td>0.668193</td>\n",
       "      <td>227.113561</td>\n",
       "      <td>227.344418</td>\n",
       "      <td>0.003154</td>\n",
       "      <td>0.003149</td>\n",
       "      <td>1.828245</td>\n",
       "      <td>4.117942</td>\n",
       "    </tr>\n",
       "    <tr>\n",
       "      <th>11079</th>\n",
       "      <td>2024-11-21</td>\n",
       "      <td>228.520004</td>\n",
       "      <td>228.520004</td>\n",
       "      <td>230.160004</td>\n",
       "      <td>225.710007</td>\n",
       "      <td>228.880005</td>\n",
       "      <td>42071900.0</td>\n",
       "      <td>52.266187</td>\n",
       "      <td>52.205970</td>\n",
       "      <td>53.971560</td>\n",
       "      <td>...</td>\n",
       "      <td>-0.135083</td>\n",
       "      <td>0.332032</td>\n",
       "      <td>-0.467115</td>\n",
       "      <td>0.687345</td>\n",
       "      <td>227.369278</td>\n",
       "      <td>227.420263</td>\n",
       "      <td>-0.002096</td>\n",
       "      <td>-0.002098</td>\n",
       "      <td>1.908282</td>\n",
       "      <td>4.118348</td>\n",
       "    </tr>\n",
       "    <tr>\n",
       "      <th>11080</th>\n",
       "      <td>2024-11-22</td>\n",
       "      <td>229.520004</td>\n",
       "      <td>229.520004</td>\n",
       "      <td>230.130005</td>\n",
       "      <td>228.059998</td>\n",
       "      <td>228.059998</td>\n",
       "      <td>8449370.0</td>\n",
       "      <td>54.193399</td>\n",
       "      <td>53.003310</td>\n",
       "      <td>54.083096</td>\n",
       "      <td>...</td>\n",
       "      <td>0.051294</td>\n",
       "      <td>0.414727</td>\n",
       "      <td>-0.363434</td>\n",
       "      <td>2.359189</td>\n",
       "      <td>227.760319</td>\n",
       "      <td>227.555730</td>\n",
       "      <td>0.004376</td>\n",
       "      <td>0.004366</td>\n",
       "      <td>2.100432</td>\n",
       "      <td>4.112365</td>\n",
       "    </tr>\n",
       "  </tbody>\n",
       "</table>\n",
       "<p>5 rows × 22 columns</p>\n",
       "</div>"
      ],
      "text/plain": [
       "             Date   Adj Close       Close        High         Low        Open  \\\n",
       "11076  2024-11-18  228.020004  228.020004  229.740005  225.169998  225.250000   \n",
       "11077  2024-11-19  228.279999  228.279999  230.160004  226.660004  226.979996   \n",
       "11078  2024-11-20  229.000000  229.000000  229.929993  225.889999  228.059998   \n",
       "11079  2024-11-21  228.520004  228.520004  230.160004  225.710007  228.880005   \n",
       "11080  2024-11-22  229.520004  229.520004  230.130005  228.059998  228.059998   \n",
       "\n",
       "           Volume     RSI_14     RSI_30    RSI_200  ...  MACD_12_26_9  \\\n",
       "11076  44686000.0  51.542650  51.873211  53.925678  ...     -0.680781   \n",
       "11077  36211800.0  51.986984  52.068742  53.954426  ...     -0.485303   \n",
       "11078  35169600.0  53.265028  52.620201  54.034246  ...     -0.269184   \n",
       "11079  42071900.0  52.266187  52.205970  53.971560  ...     -0.135083   \n",
       "11080   8449370.0  54.193399  53.003310  54.083096  ...      0.051294   \n",
       "\n",
       "       MACDh_12_26_9  MACDs_12_26_9    PROC_9      EMA_10      EMA_30  \\\n",
       "11076      -0.026659      -0.654122  2.045204  226.341986  227.157843   \n",
       "11077       0.135055      -0.620358  2.496407  226.694352  227.230240   \n",
       "11078       0.280939      -0.550124  0.668193  227.113561  227.344418   \n",
       "11079       0.332032      -0.467115  0.687345  227.369278  227.420263   \n",
       "11080       0.414727      -0.363434  2.359189  227.760319  227.555730   \n",
       "\n",
       "       Pct_Change  Log_Returns  Volatility_10  Volatility_30  \n",
       "11076    0.013422     0.013333       1.981399       4.157991  \n",
       "11077    0.001140     0.001140       2.003083       4.119655  \n",
       "11078    0.003154     0.003149       1.828245       4.117942  \n",
       "11079   -0.002096    -0.002098       1.908282       4.118348  \n",
       "11080    0.004376     0.004366       2.100432       4.112365  \n",
       "\n",
       "[5 rows x 22 columns]"
      ]
     },
     "execution_count": 155,
     "metadata": {},
     "output_type": "execute_result"
    }
   ],
   "source": [
    "data.tail()"
   ]
  },
  {
   "cell_type": "code",
   "execution_count": 156,
   "id": "ea89886f-c875-4e17-a640-a653311947e8",
   "metadata": {},
   "outputs": [
    {
     "name": "stdout",
     "output_type": "stream",
     "text": [
      "Date             0\n",
      "Adj Close        0\n",
      "Close            0\n",
      "High             0\n",
      "Low              0\n",
      "Open             0\n",
      "Volume           0\n",
      "RSI_14           0\n",
      "RSI_30           0\n",
      "RSI_200          0\n",
      "MOM_10           0\n",
      "MOM_30           0\n",
      "MACD_12_26_9     0\n",
      "MACDh_12_26_9    0\n",
      "MACDs_12_26_9    0\n",
      "PROC_9           0\n",
      "EMA_10           0\n",
      "EMA_30           0\n",
      "Pct_Change       0\n",
      "Log_Returns      0\n",
      "Volatility_10    0\n",
      "Volatility_30    0\n",
      "dtype: int64\n"
     ]
    },
    {
     "name": "stderr",
     "output_type": "stream",
     "text": [
      "/tmp/ipykernel_8766/1071741576.py:6: FutureWarning: DataFrame.fillna with 'method' is deprecated and will raise in a future version. Use obj.ffill() or obj.bfill() instead.\n",
      "  data.fillna(method='ffill', inplace=True)\n"
     ]
    }
   ],
   "source": [
    "# Step 3: Handle null values\n",
    "# Drop rows with nulls in price data\n",
    "data.dropna(subset=['Open', 'High', 'Low', 'Close', 'Adj Close'], inplace=True)\n",
    "\n",
    "# Forward fill nulls in technical indicators\n",
    "data.fillna(method='ffill', inplace=True)\n",
    "\n",
    "# Drop any remaining nulls\n",
    "data.dropna(inplace=True)\n",
    "\n",
    "# Step 4: Display the cleaned dataframe\n",
    "print(data.isnull().sum())  # Check for remaining nulls\n"
   ]
  },
  {
   "cell_type": "markdown",
   "id": "b25473e2-3424-4aad-bd24-326e907a6cd9",
   "metadata": {},
   "source": [
    "## Define target value"
   ]
  },
  {
   "cell_type": "code",
   "execution_count": 157,
   "id": "7917a8bd-4da3-40ef-bbc7-1960ce209fbd",
   "metadata": {},
   "outputs": [],
   "source": [
    "# Define the horizon (e.g., 5 day ahead)\n",
    "horizon = 5\n",
    "\n",
    "# Calculate future price change\n",
    "data['Future_Close'] = data['Close'].shift(-horizon)  # Shift close price forward\n",
    "data['Price_Change'] = data['Future_Close'] - data['Close']\n",
    "\n",
    "# Define buy/sell signals\n",
    "data['Signal'] = np.where(data['Price_Change'] > threshold, 1, \n",
    "                         np.where(data['Price_Change'] < -threshold, 0, 2))\n",
    "data.dropna(subset=['Signal'], inplace=True)  # Remove rows with insignificant moves\n",
    "\n",
    "# Drop rows with NaN in the target variable (last `horizon` rows)\n",
    "data.dropna(subset=['Future_Close'], inplace=True)"
   ]
  },
  {
   "cell_type": "code",
   "execution_count": 158,
   "id": "0fd977de-5a44-4058-8052-dd3c018b7526",
   "metadata": {},
   "outputs": [
    {
     "data": {
      "text/plain": [
       "Index(['Date', 'Adj Close', 'Close', 'High', 'Low', 'Open', 'Volume', 'RSI_14',\n",
       "       'RSI_30', 'RSI_200', 'MOM_10', 'MOM_30', 'MACD_12_26_9',\n",
       "       'MACDh_12_26_9', 'MACDs_12_26_9', 'PROC_9', 'EMA_10', 'EMA_30',\n",
       "       'Pct_Change', 'Log_Returns', 'Volatility_10', 'Volatility_30',\n",
       "       'Future_Close', 'Price_Change', 'Signal'],\n",
       "      dtype='object')"
      ]
     },
     "execution_count": 158,
     "metadata": {},
     "output_type": "execute_result"
    }
   ],
   "source": [
    "data.columns"
   ]
  },
  {
   "cell_type": "code",
   "execution_count": 160,
   "id": "3ba6f507-5493-4c64-aa6e-63897fe0d7fa",
   "metadata": {},
   "outputs": [],
   "source": [
    "data.to_csv('final_data.csv', index = False)\n"
   ]
  }
 ],
 "metadata": {
  "kernelspec": {
   "display_name": "Python (Project M1)",
   "language": "python",
   "name": "project_m1"
  },
  "language_info": {
   "codemirror_mode": {
    "name": "ipython",
    "version": 3
   },
   "file_extension": ".py",
   "mimetype": "text/x-python",
   "name": "python",
   "nbconvert_exporter": "python",
   "pygments_lexer": "ipython3",
   "version": "3.10.12"
  },
  "widgets": {
   "application/vnd.jupyter.widget-state+json": {
    "state": {},
    "version_major": 2,
    "version_minor": 0
   }
  }
 },
 "nbformat": 4,
 "nbformat_minor": 5
}
