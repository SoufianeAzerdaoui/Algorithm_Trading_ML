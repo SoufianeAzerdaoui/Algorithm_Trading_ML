{
 "cells": [
  {
   "cell_type": "code",
   "execution_count": 1,
   "id": "cf441b9e-8e1f-4acb-a2b2-7391e2a51879",
   "metadata": {
    "execution": {
     "iopub.execute_input": "2025-02-25T18:43:57.264889Z",
     "iopub.status.busy": "2025-02-25T18:43:57.263486Z",
     "iopub.status.idle": "2025-02-25T18:43:58.935384Z",
     "shell.execute_reply": "2025-02-25T18:43:58.934386Z"
    },
    "papermill": {
     "duration": 1.682263,
     "end_time": "2025-02-25T18:43:58.937683",
     "exception": false,
     "start_time": "2025-02-25T18:43:57.255420",
     "status": "completed"
    },
    "tags": []
   },
   "outputs": [],
   "source": [
    "import pandas as pd\n",
    "import pandas_ta as ta \n",
    "import numpy as np"
   ]
  },
  {
   "cell_type": "code",
   "execution_count": 2,
   "id": "67a558c8-0360-43bd-a828-1f9e99d1e605",
   "metadata": {
    "execution": {
     "iopub.execute_input": "2025-02-25T18:43:58.955552Z",
     "iopub.status.busy": "2025-02-25T18:43:58.954543Z",
     "iopub.status.idle": "2025-02-25T18:43:59.060695Z",
     "shell.execute_reply": "2025-02-25T18:43:59.059624Z"
    },
    "papermill": {
     "duration": 0.118276,
     "end_time": "2025-02-25T18:43:59.064095",
     "exception": false,
     "start_time": "2025-02-25T18:43:58.945819",
     "status": "completed"
    },
    "tags": []
   },
   "outputs": [
    {
     "data": {
      "text/plain": [
       "Date      object\n",
       "Close     object\n",
       "High      object\n",
       "Low       object\n",
       "Open      object\n",
       "Volume    object\n",
       "dtype: object"
      ]
     },
     "execution_count": 2,
     "metadata": {},
     "output_type": "execute_result"
    }
   ],
   "source": [
    "path = \"Data Historical/AAPL_data.csv\"\n",
    "data = pd.read_csv(path)\n",
    "data.dtypes"
   ]
  },
  {
   "cell_type": "code",
   "execution_count": 3,
   "id": "5ecd4d85-11c2-44db-a2c4-d000a18d7af2",
   "metadata": {
    "execution": {
     "iopub.execute_input": "2025-02-25T18:43:59.081558Z",
     "iopub.status.busy": "2025-02-25T18:43:59.079771Z",
     "iopub.status.idle": "2025-02-25T18:43:59.123579Z",
     "shell.execute_reply": "2025-02-25T18:43:59.122489Z"
    },
    "papermill": {
     "duration": 0.055098,
     "end_time": "2025-02-25T18:43:59.127177",
     "exception": false,
     "start_time": "2025-02-25T18:43:59.072079",
     "status": "completed"
    },
    "tags": []
   },
   "outputs": [
    {
     "data": {
      "text/html": [
       "<div>\n",
       "<style scoped>\n",
       "    .dataframe tbody tr th:only-of-type {\n",
       "        vertical-align: middle;\n",
       "    }\n",
       "\n",
       "    .dataframe tbody tr th {\n",
       "        vertical-align: top;\n",
       "    }\n",
       "\n",
       "    .dataframe thead th {\n",
       "        text-align: right;\n",
       "    }\n",
       "</style>\n",
       "<table border=\"1\" class=\"dataframe\">\n",
       "  <thead>\n",
       "    <tr style=\"text-align: right;\">\n",
       "      <th></th>\n",
       "      <th>Date</th>\n",
       "      <th>Close</th>\n",
       "      <th>High</th>\n",
       "      <th>Low</th>\n",
       "      <th>Open</th>\n",
       "      <th>Volume</th>\n",
       "    </tr>\n",
       "  </thead>\n",
       "  <tbody>\n",
       "    <tr>\n",
       "      <th>0</th>\n",
       "      <td>NaN</td>\n",
       "      <td>AAPL</td>\n",
       "      <td>AAPL</td>\n",
       "      <td>AAPL</td>\n",
       "      <td>AAPL</td>\n",
       "      <td>AAPL</td>\n",
       "    </tr>\n",
       "    <tr>\n",
       "      <th>1</th>\n",
       "      <td>1980-12-12</td>\n",
       "      <td>0.09872590005397797</td>\n",
       "      <td>0.09915511927657</td>\n",
       "      <td>0.09872590005397798</td>\n",
       "      <td>0.09872590005397798</td>\n",
       "      <td>469033600</td>\n",
       "    </tr>\n",
       "    <tr>\n",
       "      <th>2</th>\n",
       "      <td>1980-12-15</td>\n",
       "      <td>0.09357534348964691</td>\n",
       "      <td>0.09400456286814542</td>\n",
       "      <td>0.09357534348964691</td>\n",
       "      <td>0.09400456286814542</td>\n",
       "      <td>175884800</td>\n",
       "    </tr>\n",
       "    <tr>\n",
       "      <th>3</th>\n",
       "      <td>1980-12-16</td>\n",
       "      <td>0.08670710772275925</td>\n",
       "      <td>0.08713632135240351</td>\n",
       "      <td>0.08670710772275925</td>\n",
       "      <td>0.08713632135240351</td>\n",
       "      <td>105728000</td>\n",
       "    </tr>\n",
       "    <tr>\n",
       "      <th>4</th>\n",
       "      <td>1980-12-17</td>\n",
       "      <td>0.08885317295789719</td>\n",
       "      <td>0.08928239224912475</td>\n",
       "      <td>0.08885317295789719</td>\n",
       "      <td>0.08885317295789719</td>\n",
       "      <td>86441600</td>\n",
       "    </tr>\n",
       "    <tr>\n",
       "      <th>...</th>\n",
       "      <td>...</td>\n",
       "      <td>...</td>\n",
       "      <td>...</td>\n",
       "      <td>...</td>\n",
       "      <td>...</td>\n",
       "      <td>...</td>\n",
       "    </tr>\n",
       "    <tr>\n",
       "      <th>11137</th>\n",
       "      <td>2025-02-19</td>\n",
       "      <td>244.8699951171875</td>\n",
       "      <td>246.00999450683594</td>\n",
       "      <td>243.16000366210938</td>\n",
       "      <td>244.66000366210938</td>\n",
       "      <td>32204200</td>\n",
       "    </tr>\n",
       "    <tr>\n",
       "      <th>11138</th>\n",
       "      <td>2025-02-20</td>\n",
       "      <td>245.8300018310547</td>\n",
       "      <td>246.77999877929688</td>\n",
       "      <td>244.2899932861328</td>\n",
       "      <td>244.94000244140625</td>\n",
       "      <td>32316900</td>\n",
       "    </tr>\n",
       "    <tr>\n",
       "      <th>11139</th>\n",
       "      <td>2025-02-21</td>\n",
       "      <td>245.5500030517578</td>\n",
       "      <td>248.69000244140625</td>\n",
       "      <td>245.22000122070312</td>\n",
       "      <td>245.9499969482422</td>\n",
       "      <td>53197400</td>\n",
       "    </tr>\n",
       "    <tr>\n",
       "      <th>11140</th>\n",
       "      <td>2025-02-24</td>\n",
       "      <td>247.10000610351562</td>\n",
       "      <td>248.86000061035156</td>\n",
       "      <td>244.4199981689453</td>\n",
       "      <td>244.92999267578125</td>\n",
       "      <td>51225800</td>\n",
       "    </tr>\n",
       "    <tr>\n",
       "      <th>11141</th>\n",
       "      <td>2025-02-25</td>\n",
       "      <td>248.5749969482422</td>\n",
       "      <td>249.97999572753906</td>\n",
       "      <td>244.91000366210938</td>\n",
       "      <td>248.0</td>\n",
       "      <td>28102908</td>\n",
       "    </tr>\n",
       "  </tbody>\n",
       "</table>\n",
       "<p>11142 rows × 6 columns</p>\n",
       "</div>"
      ],
      "text/plain": [
       "             Date                Close                 High  \\\n",
       "0             NaN                 AAPL                 AAPL   \n",
       "1      1980-12-12  0.09872590005397797     0.09915511927657   \n",
       "2      1980-12-15  0.09357534348964691  0.09400456286814542   \n",
       "3      1980-12-16  0.08670710772275925  0.08713632135240351   \n",
       "4      1980-12-17  0.08885317295789719  0.08928239224912475   \n",
       "...           ...                  ...                  ...   \n",
       "11137  2025-02-19    244.8699951171875   246.00999450683594   \n",
       "11138  2025-02-20    245.8300018310547   246.77999877929688   \n",
       "11139  2025-02-21    245.5500030517578   248.69000244140625   \n",
       "11140  2025-02-24   247.10000610351562   248.86000061035156   \n",
       "11141  2025-02-25    248.5749969482422   249.97999572753906   \n",
       "\n",
       "                       Low                 Open     Volume  \n",
       "0                     AAPL                 AAPL       AAPL  \n",
       "1      0.09872590005397798  0.09872590005397798  469033600  \n",
       "2      0.09357534348964691  0.09400456286814542  175884800  \n",
       "3      0.08670710772275925  0.08713632135240351  105728000  \n",
       "4      0.08885317295789719  0.08885317295789719   86441600  \n",
       "...                    ...                  ...        ...  \n",
       "11137   243.16000366210938   244.66000366210938   32204200  \n",
       "11138    244.2899932861328   244.94000244140625   32316900  \n",
       "11139   245.22000122070312    245.9499969482422   53197400  \n",
       "11140    244.4199981689453   244.92999267578125   51225800  \n",
       "11141   244.91000366210938                248.0   28102908  \n",
       "\n",
       "[11142 rows x 6 columns]"
      ]
     },
     "execution_count": 3,
     "metadata": {},
     "output_type": "execute_result"
    }
   ],
   "source": [
    "data"
   ]
  },
  {
   "cell_type": "code",
   "execution_count": 4,
   "id": "c75b0f46-f4a8-48c5-987b-6a9c15bdd9da",
   "metadata": {
    "execution": {
     "iopub.execute_input": "2025-02-25T18:43:59.145974Z",
     "iopub.status.busy": "2025-02-25T18:43:59.144559Z",
     "iopub.status.idle": "2025-02-25T18:43:59.230354Z",
     "shell.execute_reply": "2025-02-25T18:43:59.229353Z"
    },
    "papermill": {
     "duration": 0.099155,
     "end_time": "2025-02-25T18:43:59.234531",
     "exception": false,
     "start_time": "2025-02-25T18:43:59.135376",
     "status": "completed"
    },
    "tags": []
   },
   "outputs": [],
   "source": [
    "numeric_cols = ['Close', 'High', 'Low', 'Open', 'Volume']\n",
    "data[numeric_cols] = data[numeric_cols].apply(pd.to_numeric, errors='coerce')\n"
   ]
  },
  {
   "cell_type": "code",
   "execution_count": 5,
   "id": "70d53bd7-953b-4bc7-868a-8de74948377a",
   "metadata": {
    "execution": {
     "iopub.execute_input": "2025-02-25T18:43:59.252689Z",
     "iopub.status.busy": "2025-02-25T18:43:59.251691Z",
     "iopub.status.idle": "2025-02-25T18:43:59.477919Z",
     "shell.execute_reply": "2025-02-25T18:43:59.476921Z"
    },
    "papermill": {
     "duration": 0.238265,
     "end_time": "2025-02-25T18:43:59.480795",
     "exception": false,
     "start_time": "2025-02-25T18:43:59.242530",
     "status": "completed"
    },
    "tags": []
   },
   "outputs": [
    {
     "name": "stdout",
     "output_type": "stream",
     "text": [
      "             Open        High         Low       Close     RSI_14     RSI_30  \\\n",
      "11137  244.660004  246.009995  243.160004  244.869995  60.839364  55.370690   \n",
      "11138  244.940002  246.779999  244.289993  245.830002  61.803953  55.893241   \n",
      "11139  245.949997  248.690002  245.220001  245.550003  61.329462  55.696479   \n",
      "11140  244.929993  248.860001  244.419998  247.100006  63.021918  56.571969   \n",
      "11141  248.000000  249.979996  244.910004  248.574997  64.609253  57.400667   \n",
      "\n",
      "         RSI_200     MOM_10     MOM_30  MACD_12_26_9  MACDh_12_26_9  \\\n",
      "11137  54.361385  12.325668   1.777267      1.410605       2.040270   \n",
      "11138  54.459818  13.615311   1.099075      1.927654       2.045855   \n",
      "11139  54.425409  12.586136   3.606003      2.288446       1.925318   \n",
      "11140  54.585050  19.720001   4.666565      2.668686       1.844446   \n",
      "11141  54.736685  20.925003  11.985123      3.053845       1.783684   \n",
      "\n",
      "       MACDs_12_26_9    PROC_9      EMA_10      EMA_30  \n",
      "11137      -0.629665  5.449829  238.792587  236.645037  \n",
      "11138      -0.118201  5.522803  240.072117  237.237615  \n",
      "11139       0.363129  7.991027  241.068096  237.773898  \n",
      "11140       0.824240  8.543823  242.164807  238.375583  \n",
      "11141       1.270161  6.858826  243.330296  239.033610  \n"
     ]
    }
   ],
   "source": [
    "# Step 2: Calculate RSI for 14, 30, and 200 periods\n",
    "data['RSI_14'] = ta.rsi(data['Close'], length=14)\n",
    "data['RSI_30'] = ta.rsi(data['Close'], length=30)\n",
    "data['RSI_200'] = ta.rsi(data['Close'], length=200)\n",
    "\n",
    "# Step 3: Calculate Momentum for 10 and 30 periods\n",
    "data['MOM_10'] = ta.mom(data['Close'], length=10)\n",
    "data['MOM_30'] = ta.mom(data['Close'], length=30)\n",
    "\n",
    "# Step 4: Calculate MACD\n",
    "macd = ta.macd(data['Close'], fast=12, slow=26, signal=9)\n",
    "data = pd.concat([data, macd], axis=1)  # Add MACD columns to the dataframe\n",
    "\n",
    "# Step 5: Calculate PROC (Price Rate of Change) for 9 periods\n",
    "data['PROC_9'] = ta.roc(data['Close'], length=9)\n",
    "\n",
    "# Step 6: Calculate EMA for 10, 30 periods\n",
    "data['EMA_10'] = ta.ema(data['Close'], length=10)\n",
    "data['EMA_30'] = ta.ema(data['Close'], length=30)\n",
    "\n",
    "data['Pct_Change'] = data['Close'].pct_change()\n",
    "data['Log_Returns'] = np.log(data['Close'] / data['Close'].shift(1))\n",
    "\n",
    "data['Volatility_10'] = data['Close'].rolling(window=10).std()\n",
    "data['Volatility_30'] = data['Close'].rolling(window=30).std()\n",
    "\n",
    "\n",
    "# Step 7: Display the dataframe with new features\n",
    "print(data[['Open', 'High', 'Low', 'Close', \n",
    "            'RSI_14', 'RSI_30', 'RSI_200', \n",
    "            'MOM_10', 'MOM_30', \n",
    "            'MACD_12_26_9', 'MACDh_12_26_9', 'MACDs_12_26_9', \n",
    "            'PROC_9', \n",
    "            'EMA_10', 'EMA_30']].tail())"
   ]
  },
  {
   "cell_type": "code",
   "execution_count": 6,
   "id": "0897a1a0-9a66-4917-a9b2-2f4666d3948f",
   "metadata": {
    "execution": {
     "iopub.execute_input": "2025-02-25T18:43:59.497570Z",
     "iopub.status.busy": "2025-02-25T18:43:59.497570Z",
     "iopub.status.idle": "2025-02-25T18:43:59.538970Z",
     "shell.execute_reply": "2025-02-25T18:43:59.537964Z"
    },
    "papermill": {
     "duration": 0.053031,
     "end_time": "2025-02-25T18:43:59.540987",
     "exception": false,
     "start_time": "2025-02-25T18:43:59.487956",
     "status": "completed"
    },
    "tags": []
   },
   "outputs": [
    {
     "data": {
      "text/html": [
       "<div>\n",
       "<style scoped>\n",
       "    .dataframe tbody tr th:only-of-type {\n",
       "        vertical-align: middle;\n",
       "    }\n",
       "\n",
       "    .dataframe tbody tr th {\n",
       "        vertical-align: top;\n",
       "    }\n",
       "\n",
       "    .dataframe thead th {\n",
       "        text-align: right;\n",
       "    }\n",
       "</style>\n",
       "<table border=\"1\" class=\"dataframe\">\n",
       "  <thead>\n",
       "    <tr style=\"text-align: right;\">\n",
       "      <th></th>\n",
       "      <th>Date</th>\n",
       "      <th>Close</th>\n",
       "      <th>High</th>\n",
       "      <th>Low</th>\n",
       "      <th>Open</th>\n",
       "      <th>Volume</th>\n",
       "      <th>RSI_14</th>\n",
       "      <th>RSI_30</th>\n",
       "      <th>RSI_200</th>\n",
       "      <th>MOM_10</th>\n",
       "      <th>...</th>\n",
       "      <th>MACD_12_26_9</th>\n",
       "      <th>MACDh_12_26_9</th>\n",
       "      <th>MACDs_12_26_9</th>\n",
       "      <th>PROC_9</th>\n",
       "      <th>EMA_10</th>\n",
       "      <th>EMA_30</th>\n",
       "      <th>Pct_Change</th>\n",
       "      <th>Log_Returns</th>\n",
       "      <th>Volatility_10</th>\n",
       "      <th>Volatility_30</th>\n",
       "    </tr>\n",
       "  </thead>\n",
       "  <tbody>\n",
       "    <tr>\n",
       "      <th>11137</th>\n",
       "      <td>2025-02-19</td>\n",
       "      <td>244.869995</td>\n",
       "      <td>246.009995</td>\n",
       "      <td>243.160004</td>\n",
       "      <td>244.660004</td>\n",
       "      <td>32204200.0</td>\n",
       "      <td>60.839364</td>\n",
       "      <td>55.370690</td>\n",
       "      <td>54.361385</td>\n",
       "      <td>12.325668</td>\n",
       "      <td>...</td>\n",
       "      <td>1.410605</td>\n",
       "      <td>2.040270</td>\n",
       "      <td>-0.629665</td>\n",
       "      <td>5.449829</td>\n",
       "      <td>238.792587</td>\n",
       "      <td>236.645037</td>\n",
       "      <td>0.001636</td>\n",
       "      <td>0.001635</td>\n",
       "      <td>6.928542</td>\n",
       "      <td>7.001813</td>\n",
       "    </tr>\n",
       "    <tr>\n",
       "      <th>11138</th>\n",
       "      <td>2025-02-20</td>\n",
       "      <td>245.830002</td>\n",
       "      <td>246.779999</td>\n",
       "      <td>244.289993</td>\n",
       "      <td>244.940002</td>\n",
       "      <td>32316900.0</td>\n",
       "      <td>61.803953</td>\n",
       "      <td>55.893241</td>\n",
       "      <td>54.459818</td>\n",
       "      <td>13.615311</td>\n",
       "      <td>...</td>\n",
       "      <td>1.927654</td>\n",
       "      <td>2.045855</td>\n",
       "      <td>-0.118201</td>\n",
       "      <td>5.522803</td>\n",
       "      <td>240.072117</td>\n",
       "      <td>237.237615</td>\n",
       "      <td>0.003920</td>\n",
       "      <td>0.003913</td>\n",
       "      <td>7.316121</td>\n",
       "      <td>7.061546</td>\n",
       "    </tr>\n",
       "    <tr>\n",
       "      <th>11139</th>\n",
       "      <td>2025-02-21</td>\n",
       "      <td>245.550003</td>\n",
       "      <td>248.690002</td>\n",
       "      <td>245.220001</td>\n",
       "      <td>245.949997</td>\n",
       "      <td>53197400.0</td>\n",
       "      <td>61.329462</td>\n",
       "      <td>55.696479</td>\n",
       "      <td>54.425409</td>\n",
       "      <td>12.586136</td>\n",
       "      <td>...</td>\n",
       "      <td>2.288446</td>\n",
       "      <td>1.925318</td>\n",
       "      <td>0.363129</td>\n",
       "      <td>7.991027</td>\n",
       "      <td>241.068096</td>\n",
       "      <td>237.773898</td>\n",
       "      <td>-0.001139</td>\n",
       "      <td>-0.001140</td>\n",
       "      <td>7.457962</td>\n",
       "      <td>7.226390</td>\n",
       "    </tr>\n",
       "    <tr>\n",
       "      <th>11140</th>\n",
       "      <td>2025-02-24</td>\n",
       "      <td>247.100006</td>\n",
       "      <td>248.860001</td>\n",
       "      <td>244.419998</td>\n",
       "      <td>244.929993</td>\n",
       "      <td>51225800.0</td>\n",
       "      <td>63.021918</td>\n",
       "      <td>56.571969</td>\n",
       "      <td>54.585050</td>\n",
       "      <td>19.720001</td>\n",
       "      <td>...</td>\n",
       "      <td>2.668686</td>\n",
       "      <td>1.844446</td>\n",
       "      <td>0.824240</td>\n",
       "      <td>8.543823</td>\n",
       "      <td>242.164807</td>\n",
       "      <td>238.375583</td>\n",
       "      <td>0.006312</td>\n",
       "      <td>0.006293</td>\n",
       "      <td>6.556468</td>\n",
       "      <td>7.453356</td>\n",
       "    </tr>\n",
       "    <tr>\n",
       "      <th>11141</th>\n",
       "      <td>2025-02-25</td>\n",
       "      <td>248.574997</td>\n",
       "      <td>249.979996</td>\n",
       "      <td>244.910004</td>\n",
       "      <td>248.000000</td>\n",
       "      <td>28102908.0</td>\n",
       "      <td>64.609253</td>\n",
       "      <td>57.400667</td>\n",
       "      <td>54.736685</td>\n",
       "      <td>20.925003</td>\n",
       "      <td>...</td>\n",
       "      <td>3.053845</td>\n",
       "      <td>1.783684</td>\n",
       "      <td>1.270161</td>\n",
       "      <td>6.858826</td>\n",
       "      <td>243.330296</td>\n",
       "      <td>239.033610</td>\n",
       "      <td>0.005969</td>\n",
       "      <td>0.005951</td>\n",
       "      <td>4.918177</td>\n",
       "      <td>7.878753</td>\n",
       "    </tr>\n",
       "  </tbody>\n",
       "</table>\n",
       "<p>5 rows × 21 columns</p>\n",
       "</div>"
      ],
      "text/plain": [
       "             Date       Close        High         Low        Open      Volume  \\\n",
       "11137  2025-02-19  244.869995  246.009995  243.160004  244.660004  32204200.0   \n",
       "11138  2025-02-20  245.830002  246.779999  244.289993  244.940002  32316900.0   \n",
       "11139  2025-02-21  245.550003  248.690002  245.220001  245.949997  53197400.0   \n",
       "11140  2025-02-24  247.100006  248.860001  244.419998  244.929993  51225800.0   \n",
       "11141  2025-02-25  248.574997  249.979996  244.910004  248.000000  28102908.0   \n",
       "\n",
       "          RSI_14     RSI_30    RSI_200     MOM_10  ...  MACD_12_26_9  \\\n",
       "11137  60.839364  55.370690  54.361385  12.325668  ...      1.410605   \n",
       "11138  61.803953  55.893241  54.459818  13.615311  ...      1.927654   \n",
       "11139  61.329462  55.696479  54.425409  12.586136  ...      2.288446   \n",
       "11140  63.021918  56.571969  54.585050  19.720001  ...      2.668686   \n",
       "11141  64.609253  57.400667  54.736685  20.925003  ...      3.053845   \n",
       "\n",
       "       MACDh_12_26_9  MACDs_12_26_9    PROC_9      EMA_10      EMA_30  \\\n",
       "11137       2.040270      -0.629665  5.449829  238.792587  236.645037   \n",
       "11138       2.045855      -0.118201  5.522803  240.072117  237.237615   \n",
       "11139       1.925318       0.363129  7.991027  241.068096  237.773898   \n",
       "11140       1.844446       0.824240  8.543823  242.164807  238.375583   \n",
       "11141       1.783684       1.270161  6.858826  243.330296  239.033610   \n",
       "\n",
       "       Pct_Change  Log_Returns  Volatility_10  Volatility_30  \n",
       "11137    0.001636     0.001635       6.928542       7.001813  \n",
       "11138    0.003920     0.003913       7.316121       7.061546  \n",
       "11139   -0.001139    -0.001140       7.457962       7.226390  \n",
       "11140    0.006312     0.006293       6.556468       7.453356  \n",
       "11141    0.005969     0.005951       4.918177       7.878753  \n",
       "\n",
       "[5 rows x 21 columns]"
      ]
     },
     "execution_count": 6,
     "metadata": {},
     "output_type": "execute_result"
    }
   ],
   "source": [
    "data.tail()"
   ]
  },
  {
   "cell_type": "code",
   "execution_count": 7,
   "id": "ea89886f-c875-4e17-a640-a653311947e8",
   "metadata": {
    "execution": {
     "iopub.execute_input": "2025-02-25T18:43:59.559909Z",
     "iopub.status.busy": "2025-02-25T18:43:59.558889Z",
     "iopub.status.idle": "2025-02-25T18:43:59.600553Z",
     "shell.execute_reply": "2025-02-25T18:43:59.599522Z"
    },
    "papermill": {
     "duration": 0.053869,
     "end_time": "2025-02-25T18:43:59.603642",
     "exception": false,
     "start_time": "2025-02-25T18:43:59.549773",
     "status": "completed"
    },
    "tags": []
   },
   "outputs": [
    {
     "name": "stdout",
     "output_type": "stream",
     "text": [
      "Date             0\n",
      "Close            0\n",
      "High             0\n",
      "Low              0\n",
      "Open             0\n",
      "Volume           0\n",
      "RSI_14           0\n",
      "RSI_30           0\n",
      "RSI_200          0\n",
      "MOM_10           0\n",
      "MOM_30           0\n",
      "MACD_12_26_9     0\n",
      "MACDh_12_26_9    0\n",
      "MACDs_12_26_9    0\n",
      "PROC_9           0\n",
      "EMA_10           0\n",
      "EMA_30           0\n",
      "Pct_Change       0\n",
      "Log_Returns      0\n",
      "Volatility_10    0\n",
      "Volatility_30    0\n",
      "dtype: int64\n"
     ]
    },
    {
     "name": "stderr",
     "output_type": "stream",
     "text": [
      "C:\\Users\\PC\\AppData\\Local\\Temp\\ipykernel_24380\\3079324422.py:6: FutureWarning: DataFrame.fillna with 'method' is deprecated and will raise in a future version. Use obj.ffill() or obj.bfill() instead.\n",
      "  data.fillna(method='ffill', inplace=True)\n"
     ]
    }
   ],
   "source": [
    "# Step 3: Handle null values\n",
    "# Drop rows with nulls in price data\n",
    "data.dropna(subset=['Open', 'High', 'Low', 'Close'], inplace=True)\n",
    "\n",
    "# Forward fill nulls in technical indicators\n",
    "data.fillna(method='ffill', inplace=True)\n",
    "\n",
    "# Drop any remaining nulls\n",
    "data.dropna(inplace=True)\n",
    "\n",
    "# Step 4: Display the cleaned dataframe\n",
    "print(data.isnull().sum())  # Check for remaining nulls\n"
   ]
  },
  {
   "cell_type": "markdown",
   "id": "b25473e2-3424-4aad-bd24-326e907a6cd9",
   "metadata": {
    "papermill": {
     "duration": 0.010003,
     "end_time": "2025-02-25T18:43:59.621464",
     "exception": false,
     "start_time": "2025-02-25T18:43:59.611461",
     "status": "completed"
    },
    "tags": []
   },
   "source": [
    "## Define target value"
   ]
  },
  {
   "cell_type": "code",
   "execution_count": 8,
   "id": "7917a8bd-4da3-40ef-bbc7-1960ce209fbd",
   "metadata": {
    "execution": {
     "iopub.execute_input": "2025-02-25T18:43:59.640014Z",
     "iopub.status.busy": "2025-02-25T18:43:59.640014Z",
     "iopub.status.idle": "2025-02-25T18:43:59.676540Z",
     "shell.execute_reply": "2025-02-25T18:43:59.675034Z"
    },
    "papermill": {
     "duration": 0.04878,
     "end_time": "2025-02-25T18:43:59.678548",
     "exception": false,
     "start_time": "2025-02-25T18:43:59.629768",
     "status": "completed"
    },
    "tags": []
   },
   "outputs": [],
   "source": [
    "# Define the horizon (e.g., 5 day ahead)\n",
    "horizon = 5\n",
    "threshold = 0.02\n",
    "# Calculate future price change\n",
    "data['Future_Close'] = data['Close'].shift(-horizon)  # Shift close price forward\n",
    "data['Price_Change'] = data['Future_Close'] - data['Close']\n",
    "\n",
    "# Define buy/sell signals\n",
    "data['Signal'] = np.where(data['Price_Change'] > threshold, 1, \n",
    "                         np.where(data['Price_Change'] < -threshold, 0, 2))\n",
    "data.dropna(subset=['Signal'], inplace=True)  # Remove rows with insignificant moves\n",
    "\n",
    "# Drop rows with NaN in the target variable (last `horizon` rows)\n",
    "data.dropna(subset=['Future_Close'], inplace=True)"
   ]
  },
  {
   "cell_type": "code",
   "execution_count": 9,
   "id": "0fd977de-5a44-4058-8052-dd3c018b7526",
   "metadata": {
    "execution": {
     "iopub.execute_input": "2025-02-25T18:43:59.701186Z",
     "iopub.status.busy": "2025-02-25T18:43:59.700191Z",
     "iopub.status.idle": "2025-02-25T18:43:59.723070Z",
     "shell.execute_reply": "2025-02-25T18:43:59.721727Z"
    },
    "papermill": {
     "duration": 0.037559,
     "end_time": "2025-02-25T18:43:59.725791",
     "exception": false,
     "start_time": "2025-02-25T18:43:59.688232",
     "status": "completed"
    },
    "tags": []
   },
   "outputs": [
    {
     "data": {
      "text/plain": [
       "Index(['Date', 'Close', 'High', 'Low', 'Open', 'Volume', 'RSI_14', 'RSI_30',\n",
       "       'RSI_200', 'MOM_10', 'MOM_30', 'MACD_12_26_9', 'MACDh_12_26_9',\n",
       "       'MACDs_12_26_9', 'PROC_9', 'EMA_10', 'EMA_30', 'Pct_Change',\n",
       "       'Log_Returns', 'Volatility_10', 'Volatility_30', 'Future_Close',\n",
       "       'Price_Change', 'Signal'],\n",
       "      dtype='object')"
      ]
     },
     "execution_count": 9,
     "metadata": {},
     "output_type": "execute_result"
    }
   ],
   "source": [
    "data.columns"
   ]
  },
  {
   "cell_type": "code",
   "execution_count": 10,
   "id": "3ba6f507-5493-4c64-aa6e-63897fe0d7fa",
   "metadata": {
    "execution": {
     "iopub.execute_input": "2025-02-25T18:43:59.749012Z",
     "iopub.status.busy": "2025-02-25T18:43:59.747927Z",
     "iopub.status.idle": "2025-02-25T18:44:00.857926Z",
     "shell.execute_reply": "2025-02-25T18:44:00.853675Z"
    },
    "papermill": {
     "duration": 1.125404,
     "end_time": "2025-02-25T18:44:00.861072",
     "exception": false,
     "start_time": "2025-02-25T18:43:59.735668",
     "status": "completed"
    },
    "tags": []
   },
   "outputs": [],
   "source": [
    "data.to_csv('final_data.csv', index = False)\n"
   ]
  },
  {
   "cell_type": "code",
   "execution_count": null,
   "id": "1e49b5a2-1199-423c-bf88-b2ceee47c18c",
   "metadata": {
    "papermill": {
     "duration": 0.012806,
     "end_time": "2025-02-25T18:44:00.887416",
     "exception": false,
     "start_time": "2025-02-25T18:44:00.874610",
     "status": "completed"
    },
    "tags": []
   },
   "outputs": [],
   "source": []
  }
 ],
 "metadata": {
  "kernelspec": {
   "display_name": "Python (venv)",
   "language": "python",
   "name": "venv"
  },
  "language_info": {
   "codemirror_mode": {
    "name": "ipython",
    "version": 3
   },
   "file_extension": ".py",
   "mimetype": "text/x-python",
   "name": "python",
   "nbconvert_exporter": "python",
   "pygments_lexer": "ipython3",
   "version": "3.10.5"
  },
  "papermill": {
   "default_parameters": {},
   "duration": 6.636467,
   "end_time": "2025-02-25T18:44:01.373049",
   "environment_variables": {},
   "exception": null,
   "input_path": "C:/Users/PC/Desktop/ml_project/Algorithm_Trading_ML/DataProprecessing.ipynb",
   "output_path": "C:/Users/PC/Desktop/ml_project/Algorithm_Trading_ML/output_DataProprecessing.ipynb",
   "parameters": {},
   "start_time": "2025-02-25T18:43:54.736582",
   "version": "2.6.0"
  },
  "widgets": {
   "application/vnd.jupyter.widget-state+json": {
    "state": {},
    "version_major": 2,
    "version_minor": 0
   }
  }
 },
 "nbformat": 4,
 "nbformat_minor": 5
}