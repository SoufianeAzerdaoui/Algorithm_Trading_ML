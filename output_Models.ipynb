{
 "cells": [
  {
   "cell_type": "code",
   "execution_count": 1,
   "id": "7defd947-4413-45eb-9840-684326309e28",
   "metadata": {
    "execution": {
     "iopub.execute_input": "2025-01-24T17:08:53.103374Z",
     "iopub.status.busy": "2025-01-24T17:08:53.103136Z",
     "iopub.status.idle": "2025-01-24T17:08:54.260308Z",
     "shell.execute_reply": "2025-01-24T17:08:54.259716Z"
    },
    "papermill": {
     "duration": 1.164247,
     "end_time": "2025-01-24T17:08:54.261598",
     "exception": false,
     "start_time": "2025-01-24T17:08:53.097351",
     "status": "completed"
    },
    "tags": []
   },
   "outputs": [
    {
     "name": "stderr",
     "output_type": "stream",
     "text": [
      "/home/onizuka/Documents/Project M1/venv/lib/python3.10/site-packages/tqdm/auto.py:21: TqdmWarning: IProgress not found. Please update jupyter and ipywidgets. See https://ipywidgets.readthedocs.io/en/stable/user_install.html\n",
      "  from .autonotebook import tqdm as notebook_tqdm\n"
     ]
    }
   ],
   "source": [
    "import pandas as pd\n",
    "import numpy as np\n",
    "from sklearn.model_selection import train_test_split, cross_val_score\n",
    "from sklearn.metrics import confusion_matrix, classification_report, accuracy_score\n",
    "from sklearn.ensemble import RandomForestClassifier\n",
    "import optuna\n",
    "import matplotlib.pyplot as plt\n",
    "import seaborn as sns\n",
    "import joblib\n"
   ]
  },
  {
   "cell_type": "code",
   "execution_count": 2,
   "id": "d226ede7-86b6-4551-9d67-27d29d4cc70a",
   "metadata": {
    "execution": {
     "iopub.execute_input": "2025-01-24T17:08:54.275870Z",
     "iopub.status.busy": "2025-01-24T17:08:54.275564Z",
     "iopub.status.idle": "2025-01-24T17:08:54.279431Z",
     "shell.execute_reply": "2025-01-24T17:08:54.278823Z"
    },
    "papermill": {
     "duration": 0.013666,
     "end_time": "2025-01-24T17:08:54.280446",
     "exception": false,
     "start_time": "2025-01-24T17:08:54.266780",
     "status": "completed"
    },
    "tags": []
   },
   "outputs": [
    {
     "name": "stdout",
     "output_type": "stream",
     "text": [
      "/home/onizuka/Documents/Project M1/venv/bin/python3.10\n"
     ]
    }
   ],
   "source": [
    "import sys\n",
    "print(sys.executable)\n"
   ]
  },
  {
   "cell_type": "code",
   "execution_count": 3,
   "id": "a64079bc-df81-42a9-9fe9-bc3bdf817f87",
   "metadata": {
    "execution": {
     "iopub.execute_input": "2025-01-24T17:08:54.292720Z",
     "iopub.status.busy": "2025-01-24T17:08:54.292236Z",
     "iopub.status.idle": "2025-01-24T17:08:54.355162Z",
     "shell.execute_reply": "2025-01-24T17:08:54.354626Z"
    },
    "papermill": {
     "duration": 0.070622,
     "end_time": "2025-01-24T17:08:54.356181",
     "exception": false,
     "start_time": "2025-01-24T17:08:54.285559",
     "status": "completed"
    },
    "tags": []
   },
   "outputs": [
    {
     "data": {
      "text/plain": [
       "Index(['Date', 'Adj Close', 'Close', 'High', 'Low', 'Open', 'Volume', 'RSI_14',\n",
       "       'RSI_30', 'RSI_200', 'MOM_10', 'MOM_30', 'MACD_12_26_9',\n",
       "       'MACDh_12_26_9', 'MACDs_12_26_9', 'PROC_9', 'EMA_10', 'EMA_30',\n",
       "       'Pct_Change', 'Log_Returns', 'Volatility_10', 'Volatility_30',\n",
       "       'Future_Close', 'Price_Change', 'Signal'],\n",
       "      dtype='object')"
      ]
     },
     "execution_count": 3,
     "metadata": {},
     "output_type": "execute_result"
    }
   ],
   "source": [
    "data= pd.read_csv('final_data.csv')\n",
    "data.columns"
   ]
  },
  {
   "cell_type": "markdown",
   "id": "84877f02-3635-4060-80a2-ab8965d80aab",
   "metadata": {
    "papermill": {
     "duration": 0.005292,
     "end_time": "2025-01-24T17:08:54.366749",
     "exception": false,
     "start_time": "2025-01-24T17:08:54.361457",
     "status": "completed"
    },
    "tags": []
   },
   "source": [
    "## Split Data into Training and Testing Sets"
   ]
  },
  {
   "cell_type": "code",
   "execution_count": 4,
   "id": "b64eab87-e62c-4c06-9c16-aea0377ea26c",
   "metadata": {
    "execution": {
     "iopub.execute_input": "2025-01-24T17:08:54.378587Z",
     "iopub.status.busy": "2025-01-24T17:08:54.377904Z",
     "iopub.status.idle": "2025-01-24T17:08:54.382931Z",
     "shell.execute_reply": "2025-01-24T17:08:54.382312Z"
    },
    "papermill": {
     "duration": 0.012049,
     "end_time": "2025-01-24T17:08:54.384029",
     "exception": false,
     "start_time": "2025-01-24T17:08:54.371980",
     "status": "completed"
    },
    "tags": []
   },
   "outputs": [],
   "source": [
    "# Define the list of features\n",
    "features = ['RSI_14', 'RSI_30', 'RSI_200', 'MOM_10', 'MOM_30', \n",
    "            'MACD_12_26_9', 'MACDh_12_26_9', 'MACDs_12_26_9', \n",
    "            'PROC_9', 'EMA_10', 'EMA_30', 'Pct_Change', 'Log_Returns', \n",
    "            'Volatility_10', 'Volatility_30']\n",
    "\n",
    "# Define the features (X)\n",
    "X = data[features]\n",
    "\n",
    "# Define the target variable (y)\n",
    "y = data['Signal']\n"
   ]
  },
  {
   "cell_type": "code",
   "execution_count": 5,
   "id": "764f3556-b6d4-4e8d-a0d2-023b6c64e3e1",
   "metadata": {
    "execution": {
     "iopub.execute_input": "2025-01-24T17:08:54.395819Z",
     "iopub.status.busy": "2025-01-24T17:08:54.395572Z",
     "iopub.status.idle": "2025-01-24T17:08:54.399982Z",
     "shell.execute_reply": "2025-01-24T17:08:54.399201Z"
    },
    "papermill": {
     "duration": 0.011818,
     "end_time": "2025-01-24T17:08:54.401133",
     "exception": false,
     "start_time": "2025-01-24T17:08:54.389315",
     "status": "completed"
    },
    "tags": []
   },
   "outputs": [],
   "source": [
    "y = y.replace({2: 1})  # Replace '2' with '1'\n"
   ]
  },
  {
   "cell_type": "code",
   "execution_count": 6,
   "id": "287f183f-77ef-4528-8e26-163ee96df9f1",
   "metadata": {
    "execution": {
     "iopub.execute_input": "2025-01-24T17:08:54.413647Z",
     "iopub.status.busy": "2025-01-24T17:08:54.413404Z",
     "iopub.status.idle": "2025-01-24T17:08:54.419242Z",
     "shell.execute_reply": "2025-01-24T17:08:54.418506Z"
    },
    "papermill": {
     "duration": 0.013577,
     "end_time": "2025-01-24T17:08:54.420406",
     "exception": false,
     "start_time": "2025-01-24T17:08:54.406829",
     "status": "completed"
    },
    "tags": []
   },
   "outputs": [],
   "source": [
    "from sklearn.model_selection import train_test_split\n",
    "\n",
    "# Split data into 80% training and 20% testing\n",
    "X_train, X_test, y_train, y_test = train_test_split(X, y, test_size=0.2, random_state=42, shuffle=False)"
   ]
  },
  {
   "cell_type": "markdown",
   "id": "ff5b9bde-2867-4d84-b924-c86b3475da87",
   "metadata": {
    "papermill": {
     "duration": 0.009466,
     "end_time": "2025-01-24T17:08:54.435563",
     "exception": false,
     "start_time": "2025-01-24T17:08:54.426097",
     "status": "completed"
    },
    "tags": []
   },
   "source": [
    "##  Feature Scaling\n"
   ]
  },
  {
   "cell_type": "code",
   "execution_count": 7,
   "id": "43a7a935-ab07-4d2e-b26e-400dc2bb1fa5",
   "metadata": {
    "execution": {
     "iopub.execute_input": "2025-01-24T17:08:54.454822Z",
     "iopub.status.busy": "2025-01-24T17:08:54.454576Z",
     "iopub.status.idle": "2025-01-24T17:08:54.463074Z",
     "shell.execute_reply": "2025-01-24T17:08:54.462512Z"
    },
    "papermill": {
     "duration": 0.019569,
     "end_time": "2025-01-24T17:08:54.464196",
     "exception": false,
     "start_time": "2025-01-24T17:08:54.444627",
     "status": "completed"
    },
    "tags": []
   },
   "outputs": [],
   "source": [
    "from sklearn.preprocessing import StandardScaler\n",
    "\n",
    "# Initialize scaler\n",
    "scaler = StandardScaler()\n",
    "\n",
    "# Fit and transform training data\n",
    "X_train_scaled = scaler.fit_transform(X_train)\n",
    "\n",
    "# Transform testing data\n",
    "X_test_scaled = scaler.transform(X_test)"
   ]
  },
  {
   "cell_type": "code",
   "execution_count": 8,
   "id": "0b773c76-a0d7-454b-9371-eeddd6c9fe4f",
   "metadata": {
    "execution": {
     "iopub.execute_input": "2025-01-24T17:08:54.475728Z",
     "iopub.status.busy": "2025-01-24T17:08:54.475424Z",
     "iopub.status.idle": "2025-01-24T17:08:54.479688Z",
     "shell.execute_reply": "2025-01-24T17:08:54.478959Z"
    },
    "papermill": {
     "duration": 0.011497,
     "end_time": "2025-01-24T17:08:54.480783",
     "exception": false,
     "start_time": "2025-01-24T17:08:54.469286",
     "status": "completed"
    },
    "tags": []
   },
   "outputs": [
    {
     "name": "stdout",
     "output_type": "stream",
     "text": [
      "X_train_scaled shape: (8732, 15)\n",
      "y_train shape: (8732,)\n"
     ]
    }
   ],
   "source": [
    "print(\"X_train_scaled shape:\", X_train_scaled.shape)\n",
    "print(\"y_train shape:\", y_train.shape)"
   ]
  },
  {
   "cell_type": "markdown",
   "id": "4cc69a4b-af05-4bec-9b28-48ced7ac273b",
   "metadata": {
    "papermill": {
     "duration": 0.00531,
     "end_time": "2025-01-24T17:08:54.491571",
     "exception": false,
     "start_time": "2025-01-24T17:08:54.486261",
     "status": "completed"
    },
    "tags": []
   },
   "source": [
    "## LightGboost"
   ]
  },
  {
   "cell_type": "markdown",
   "id": "e33da936-337d-49e8-a97c-dabb0ec876ae",
   "metadata": {
    "papermill": {
     "duration": 0.005365,
     "end_time": "2025-01-24T17:08:54.502233",
     "exception": false,
     "start_time": "2025-01-24T17:08:54.496868",
     "status": "completed"
    },
    "tags": []
   },
   "source": [
    "from lightgbm import LGBMClassifier\n",
    "from sklearn.base import is_classifier\n",
    "\n",
    "# Initialize LightGBM model\n",
    "model = LGBMClassifier(n_estimators=100, learning_rate=0.1, random_state=42)\n",
    "\n",
    "# Check if the model is a classifier\n",
    "print(is_classifier(model))  # Should return True"
   ]
  },
  {
   "cell_type": "markdown",
   "id": "fcd22926-d491-4c12-bcd3-dfdd94d6a3e4",
   "metadata": {
    "papermill": {
     "duration": 0.005412,
     "end_time": "2025-01-24T17:08:54.512997",
     "exception": false,
     "start_time": "2025-01-24T17:08:54.507585",
     "status": "completed"
    },
    "tags": []
   },
   "source": [
    "import lightgbm as lgb\n",
    "import numpy as np\n",
    "from sklearn.model_selection import train_test_split\n",
    "from sklearn.preprocessing import StandardScaler\n",
    "\n",
    "# Step 1: Prepare the data\n",
    "# Assuming X and y are already defined\n",
    "X_train, X_test, y_train, y_test = train_test_split(X, y, test_size=0.2, random_state=42)\n",
    "\n",
    "# Step 2: Scale the features\n",
    "scaler = StandardScaler()\n",
    "X_train_scaled = scaler.fit_transform(X_train)\n",
    "X_test_scaled = scaler.transform(X_test)\n",
    "\n",
    "# Step 3: Perform cross-validation\n",
    "cv_results = lgb.cv(\n",
    "    params={\n",
    "        'objective': 'binary',\n",
    "        'metric': 'binary_logloss'  # Use binary_logloss instead of binary_error\n",
    "    },\n",
    "    train_set=lgb.Dataset(X_train_scaled, label=y_train),\n",
    "    num_boost_round=100,\n",
    "    nfold=5,\n",
    "    stratified=True,\n",
    "    shuffle=True\n",
    ")\n",
    "\n",
    "# Step 4: Get binary log loss\n",
    "if 'valid binary_logloss-mean' in cv_results:\n",
    "    binary_logloss_mean = np.mean(cv_results['valid binary_logloss-mean'])\n",
    "    print(\"Cross-Validation Binary Logloss:\", binary_logloss_mean)\n",
    "else:\n",
    "    print(\"'valid binary_logloss-mean' not found in cv_results.\")\n",
    "\n",
    "# If you want to calculate accuracy manually, train the model separately\n",
    "final_model = lgb.LGBMClassifier(objective='binary', random_state=42)\n",
    "final_model.fit(X_train_scaled, y_train)\n",
    "\n",
    "# Make predictions\n",
    "y_pred = final_model.predict(X_test_scaled)\n",
    "\n",
    "# Calculate accuracy\n",
    "from sklearn.metrics import accuracy_score\n",
    "accuracy = accuracy_score(y_test, y_pred)\n",
    "print(\"Accuracy on Test Data:\", accuracy)\n"
   ]
  },
  {
   "cell_type": "markdown",
   "id": "929df5cf-a75c-4725-9e4b-5c52a0432a15",
   "metadata": {
    "papermill": {
     "duration": 0.005572,
     "end_time": "2025-01-24T17:08:54.524024",
     "exception": false,
     "start_time": "2025-01-24T17:08:54.518452",
     "status": "completed"
    },
    "tags": []
   },
   "source": [
    "## Hyperparameter"
   ]
  },
  {
   "cell_type": "markdown",
   "id": "8e887381-2fe3-4154-a0a4-d6fb22ef29dc",
   "metadata": {
    "papermill": {
     "duration": 0.00537,
     "end_time": "2025-01-24T17:08:54.534570",
     "exception": false,
     "start_time": "2025-01-24T17:08:54.529200",
     "status": "completed"
    },
    "tags": []
   },
   "source": [
    "from sklearn.model_selection import GridSearchCV\n",
    "from lightgbm import LGBMClassifier\n",
    "\n",
    "# Define the model\n",
    "model = LGBMClassifier(objective='binary', random_state=42)\n",
    "\n",
    "# Define the hyperparameter grid\n",
    "param_grid = {\n",
    "    'num_leaves': [31, 50, 100],\n",
    "    'learning_rate': [0.01, 0.05, 0.1],\n",
    "    'n_estimators': [50, 100, 200]\n",
    "}\n",
    "\n",
    "# Perform GridSearchCV\n",
    "grid_search = GridSearchCV(model, param_grid, cv=5)\n",
    "grid_search.fit(X_train_scaled, y_train)\n",
    "\n",
    "# Print the best parameters\n",
    "print(\"Best Parameters:\", grid_search.best_params_)\n",
    "print(\"Best Score:\", grid_search.best_score_)\n"
   ]
  },
  {
   "cell_type": "markdown",
   "id": "0e6da01d-709b-4582-bf29-bc83a1b3d2c3",
   "metadata": {
    "papermill": {
     "duration": 0.005458,
     "end_time": "2025-01-24T17:08:54.545378",
     "exception": false,
     "start_time": "2025-01-24T17:08:54.539920",
     "status": "completed"
    },
    "tags": []
   },
   "source": [
    "##  Rebuild the model with Hyperparameters "
   ]
  },
  {
   "cell_type": "markdown",
   "id": "f48cc2a5-09d2-4b79-8458-d6808e723abd",
   "metadata": {
    "papermill": {
     "duration": 0.005405,
     "end_time": "2025-01-24T17:08:54.556187",
     "exception": false,
     "start_time": "2025-01-24T17:08:54.550782",
     "status": "completed"
    },
    "tags": []
   },
   "source": [
    "# Train the model with the best parameters\n",
    "best_model = LGBMClassifier(learning_rate=0.1, n_estimators=200, num_leaves=100, objective='binary', random_state=42)\n",
    "best_model.fit(X_train_scaled, y_train)\n",
    "\n",
    "# Make predictions\n",
    "y_pred = best_model.predict(X_test_scaled)\n",
    "\n",
    "# Evaluate performance\n",
    "accuracy = accuracy_score(y_test, y_pred)\n",
    "print(f\"Accuracy on Test Data with Tuned Parameters: {accuracy}\")\n"
   ]
  },
  {
   "cell_type": "markdown",
   "id": "6940c2d1-f3d5-473f-80a9-2ccb8eaa45d7",
   "metadata": {
    "papermill": {
     "duration": 0.005679,
     "end_time": "2025-01-24T17:08:54.567130",
     "exception": false,
     "start_time": "2025-01-24T17:08:54.561451",
     "status": "completed"
    },
    "tags": []
   },
   "source": [
    "import matplotlib.pyplot as plt\n",
    "\n",
    "# Plot feature importance\n",
    "feature_importances = best_model.feature_importances_\n",
    "features = X.columns\n",
    "\n",
    "# Sort and plot\n",
    "sorted_idx = feature_importances.argsort()\n",
    "plt.barh(features[sorted_idx], feature_importances[sorted_idx])\n",
    "plt.xlabel(\"Feature Importance\")\n",
    "plt.ylabel(\"Feature\")\n",
    "plt.title(\"Feature Importance (LightGBM)\")\n",
    "plt.show()\n"
   ]
  },
  {
   "cell_type": "markdown",
   "id": "5bb66b28-b6e4-4287-8047-09f75782c0c2",
   "metadata": {
    "papermill": {
     "duration": 0.005781,
     "end_time": "2025-01-24T17:08:54.578508",
     "exception": false,
     "start_time": "2025-01-24T17:08:54.572727",
     "status": "completed"
    },
    "tags": []
   },
   "source": [
    "from sklearn.metrics import confusion_matrix\n",
    "import seaborn as sns\n",
    "import matplotlib.pyplot as plt\n",
    "\n",
    "# Generate confusion matrix\n",
    "cm = confusion_matrix(y_test, y_pred)\n",
    "\n",
    "# Plot confusion matrix as heatmap\n",
    "plt.figure(figsize=(6, 4))\n",
    "sns.heatmap(cm, annot=True, fmt='d', cmap='Blues', xticklabels=['Sell', 'Buy'], yticklabels=['Sell', 'Buy'])\n",
    "plt.title('Confusion Matrix LightGBoost')\n",
    "plt.xlabel('Predicted')\n",
    "plt.ylabel('Actual')\n",
    "plt.show()\n"
   ]
  },
  {
   "cell_type": "markdown",
   "id": "d3d71fc3-f4de-467c-b3ec-d49a76fd7d10",
   "metadata": {
    "papermill": {
     "duration": 0.005547,
     "end_time": "2025-01-24T17:08:54.589502",
     "exception": false,
     "start_time": "2025-01-24T17:08:54.583955",
     "status": "completed"
    },
    "tags": []
   },
   "source": [
    "# 2. XGBoost Model\n"
   ]
  },
  {
   "cell_type": "markdown",
   "id": "980911e9-48e9-43ed-bb0e-24a65decf7f6",
   "metadata": {
    "papermill": {
     "duration": 0.005579,
     "end_time": "2025-01-24T17:08:54.600830",
     "exception": false,
     "start_time": "2025-01-24T17:08:54.595251",
     "status": "completed"
    },
    "tags": []
   },
   "source": [
    "import xgboost as xgb\n",
    "import numpy as np\n",
    "import optuna\n",
    "from sklearn.model_selection import train_test_split\n",
    "from sklearn.preprocessing import StandardScaler\n",
    "from sklearn.metrics import accuracy_score, classification_report\n"
   ]
  },
  {
   "cell_type": "markdown",
   "id": "42c58f73-ba7f-44d6-81b1-09033117cf9b",
   "metadata": {
    "jp-MarkdownHeadingCollapsed": true,
    "papermill": {
     "duration": 0.005563,
     "end_time": "2025-01-24T17:08:54.611785",
     "exception": false,
     "start_time": "2025-01-24T17:08:54.606222",
     "status": "completed"
    },
    "tags": []
   },
   "source": [
    "# Step 1: Define the list of features and target variable\n",
    "features = [\n",
    "    'RSI_14', 'RSI_30', 'RSI_200', 'MOM_10', 'MOM_30',\n",
    "    'MACD_12_26_9', 'MACDh_12_26_9', 'MACDs_12_26_9',\n",
    "    'PROC_9', 'EMA_10', 'EMA_30', 'Pct_Change', 'Log_Returns',\n",
    "    'Volatility_10', 'Volatility_30'\n",
    "]\n",
    "X = data[features]\n",
    "y = data['Signal'].replace({2: 1})  # Map '2' to '1' for binary classification\n"
   ]
  },
  {
   "cell_type": "markdown",
   "id": "135eb95a-a519-4a75-986a-c2333ebf8860",
   "metadata": {
    "papermill": {
     "duration": 0.006298,
     "end_time": "2025-01-24T17:08:54.623440",
     "exception": false,
     "start_time": "2025-01-24T17:08:54.617142",
     "status": "completed"
    },
    "tags": []
   },
   "source": [
    "# Step 2: Split the data into train and test sets\n",
    "X_train, X_test, y_train, y_test = train_test_split(\n",
    "    X, y, test_size=0.2, random_state=42, stratify=y\n",
    ")\n"
   ]
  },
  {
   "cell_type": "markdown",
   "id": "f10ecc6d-3d50-45fc-ab08-2f4dbdc8778e",
   "metadata": {
    "papermill": {
     "duration": 0.00553,
     "end_time": "2025-01-24T17:08:54.634464",
     "exception": false,
     "start_time": "2025-01-24T17:08:54.628934",
     "status": "completed"
    },
    "tags": []
   },
   "source": [
    "# Step 3: Scale the features\n",
    "scaler = StandardScaler()\n",
    "X_train_scaled = scaler.fit_transform(X_train)\n",
    "X_test_scaled = scaler.transform(X_test)\n"
   ]
  },
  {
   "cell_type": "markdown",
   "id": "2ac20ef6-075f-4116-9fc4-1f0472cf0c15",
   "metadata": {
    "papermill": {
     "duration": 0.005567,
     "end_time": "2025-01-24T17:08:54.645580",
     "exception": false,
     "start_time": "2025-01-24T17:08:54.640013",
     "status": "completed"
    },
    "tags": []
   },
   "source": [
    "# Step 4: Define the Optuna optimization function\n",
    "def objective(trial):\n",
    "    params = {\n",
    "        'booster': trial.suggest_categorical('booster', ['gbtree', 'dart']),\n",
    "        'objective': 'binary:logistic',\n",
    "        'eval_metric': 'logloss',\n",
    "        'eta': trial.suggest_float('eta', 0.01, 0.3, log=True),\n",
    "        'max_depth': trial.suggest_int('max_depth', 3, 10),\n",
    "        'min_child_weight': trial.suggest_float('min_child_weight', 1, 10, log=True),\n",
    "        'subsample': trial.suggest_float('subsample', 0.5, 1.0),\n",
    "        'colsample_bytree': trial.suggest_float('colsample_bytree', 0.5, 1.0),\n",
    "        'lambda': trial.suggest_float('lambda', 1e-3, 10.0, log=True),\n",
    "        'alpha': trial.suggest_float('alpha', 1e-3, 10.0, log=True),\n",
    "    }\n",
    "    \n",
    "    # Perform cross-validation using xgb.cv\n",
    "    dtrain = xgb.DMatrix(X_train_scaled, label=y_train)\n",
    "    cv_results = xgb.cv(\n",
    "        params=params,\n",
    "        dtrain=dtrain,\n",
    "        num_boost_round=100,\n",
    "        nfold=5,\n",
    "        stratified=True,\n",
    "        shuffle=True,\n",
    "        early_stopping_rounds=10,\n",
    "        seed=42,\n",
    "        verbose_eval=False\n",
    "    )\n",
    "    \n",
    "    # Return the mean of the test logloss\n",
    "    return cv_results['test-logloss-mean'].min()\n"
   ]
  },
  {
   "cell_type": "markdown",
   "id": "46a14cc9-c46d-4c55-a135-08f4475021be",
   "metadata": {
    "papermill": {
     "duration": 0.005547,
     "end_time": "2025-01-24T17:08:54.656575",
     "exception": false,
     "start_time": "2025-01-24T17:08:54.651028",
     "status": "completed"
    },
    "tags": []
   },
   "source": [
    "# Step 5: Run Optuna optimization\n",
    "study = optuna.create_study(direction='minimize', study_name=\"XGBoost Hyperparameter Tuning\")\n",
    "study.optimize(objective, n_trials=50)  # Adjust n_trials for more or fewer experiments\n",
    "\n",
    "# Step 6: Display the best hyperparameters\n",
    "print(\"Best Hyperparameters:\", study.best_params)\n"
   ]
  },
  {
   "cell_type": "markdown",
   "id": "90e8f176-4a12-4e64-bed0-0fad13a6578f",
   "metadata": {
    "papermill": {
     "duration": 0.005594,
     "end_time": "2025-01-24T17:08:54.667662",
     "exception": false,
     "start_time": "2025-01-24T17:08:54.662068",
     "status": "completed"
    },
    "tags": []
   },
   "source": [
    "# Step 7: Train the final model with the best hyperparameters\n",
    "best_params = study.best_params\n",
    "best_params.update({\n",
    "    'objective': 'binary:logistic',\n",
    "    'eval_metric': 'logloss',\n",
    "    'use_label_encoder': False  # Avoid deprecation warning\n",
    "})\n",
    "final_model = xgb.XGBClassifier(**best_params, random_state=42)\n",
    "final_model.fit(X_train_scaled, y_train)\n"
   ]
  },
  {
   "cell_type": "markdown",
   "id": "143983cd-2d6e-41bd-bc48-001541ef31cf",
   "metadata": {
    "papermill": {
     "duration": 0.005559,
     "end_time": "2025-01-24T17:08:54.678691",
     "exception": false,
     "start_time": "2025-01-24T17:08:54.673132",
     "status": "completed"
    },
    "tags": []
   },
   "source": [
    "# Step 8: Evaluate the model on the test set\n",
    "y_pred = final_model.predict(X_test_scaled)\n",
    "accuracy = accuracy_score(y_test, y_pred)\n",
    "print(\"\\nTest Accuracy:\", accuracy)\n",
    "print(\"\\nClassification Report:\\n\", classification_report(y_test, y_pred))\n"
   ]
  },
  {
   "cell_type": "markdown",
   "id": "0a133c2f-5a51-42e4-9d3a-eb0c004ddb66",
   "metadata": {
    "papermill": {
     "duration": 0.005669,
     "end_time": "2025-01-24T17:08:54.689724",
     "exception": false,
     "start_time": "2025-01-24T17:08:54.684055",
     "status": "completed"
    },
    "tags": []
   },
   "source": [
    "# Generate confusion matrix\n",
    "cm = confusion_matrix(y_test, y_pred)\n",
    "\n",
    "# Plot confusion matrix as heatmap\n",
    "plt.figure(figsize=(6, 4))\n",
    "sns.heatmap(cm, annot=True, fmt='d', cmap='Blues', xticklabels=['Sell', 'Buy'], yticklabels=['Sell', 'Buy'])\n",
    "plt.title('Confusion Matrix  XgBooost')\n",
    "plt.xlabel('Predicted')\n",
    "plt.ylabel('Actual')\n",
    "plt.show()\n"
   ]
  },
  {
   "cell_type": "markdown",
   "id": "efb8e894-ba62-4a2c-a4e1-faed99ba99d8",
   "metadata": {
    "papermill": {
     "duration": 0.005614,
     "end_time": "2025-01-24T17:08:54.700999",
     "exception": false,
     "start_time": "2025-01-24T17:08:54.695385",
     "status": "completed"
    },
    "tags": []
   },
   "source": [
    "## Random Forest Classifier"
   ]
  },
  {
   "cell_type": "code",
   "execution_count": 9,
   "id": "147fe2fe-d39d-43ff-8936-2df808c13d2d",
   "metadata": {
    "execution": {
     "iopub.execute_input": "2025-01-24T17:08:54.713309Z",
     "iopub.status.busy": "2025-01-24T17:08:54.712969Z",
     "iopub.status.idle": "2025-01-24T17:12:26.264514Z",
     "shell.execute_reply": "2025-01-24T17:12:26.263726Z"
    },
    "papermill": {
     "duration": 211.559394,
     "end_time": "2025-01-24T17:12:26.265799",
     "exception": false,
     "start_time": "2025-01-24T17:08:54.706405",
     "status": "completed"
    },
    "tags": []
   },
   "outputs": [
    {
     "name": "stderr",
     "output_type": "stream",
     "text": [
      "[I 2025-01-24 18:08:54,719] A new study created in memory with name: no-name-41a063df-4c87-4d4f-b251-28099377de49\n"
     ]
    },
    {
     "name": "stderr",
     "output_type": "stream",
     "text": [
      "[I 2025-01-24 18:09:01,967] Trial 0 finished with value: 6.116993577493714 and parameters: {'n_estimators': 98, 'max_depth': 5, 'min_samples_split': 19, 'min_samples_leaf': 3, 'max_features': None, 'bootstrap': True}. Best is trial 0 with value: 6.116993577493714.\n"
     ]
    },
    {
     "name": "stderr",
     "output_type": "stream",
     "text": [
      "[I 2025-01-24 18:09:09,630] Trial 1 finished with value: 2.593499277577031 and parameters: {'n_estimators': 171, 'max_depth': 19, 'min_samples_split': 11, 'min_samples_leaf': 17, 'max_features': 'sqrt', 'bootstrap': False}. Best is trial 1 with value: 2.593499277577031.\n"
     ]
    },
    {
     "name": "stderr",
     "output_type": "stream",
     "text": [
      "[I 2025-01-24 18:09:11,656] Trial 2 finished with value: 1.2919208053194833 and parameters: {'n_estimators': 155, 'max_depth': 4, 'min_samples_split': 5, 'min_samples_leaf': 4, 'max_features': 'log2', 'bootstrap': True}. Best is trial 2 with value: 1.2919208053194833.\n"
     ]
    },
    {
     "name": "stderr",
     "output_type": "stream",
     "text": [
      "[I 2025-01-24 18:09:15,602] Trial 3 finished with value: 1.5864427729487363 and parameters: {'n_estimators': 163, 'max_depth': 14, 'min_samples_split': 6, 'min_samples_leaf': 20, 'max_features': 'log2', 'bootstrap': True}. Best is trial 2 with value: 1.2919208053194833.\n"
     ]
    },
    {
     "name": "stderr",
     "output_type": "stream",
     "text": [
      "[I 2025-01-24 18:09:40,268] Trial 4 finished with value: 13.282507804792203 and parameters: {'n_estimators': 140, 'max_depth': 15, 'min_samples_split': 13, 'min_samples_leaf': 18, 'max_features': None, 'bootstrap': False}. Best is trial 2 with value: 1.2919208053194833.\n"
     ]
    },
    {
     "name": "stderr",
     "output_type": "stream",
     "text": [
      "[I 2025-01-24 18:09:43,662] Trial 5 finished with value: 2.912925981367109 and parameters: {'n_estimators': 103, 'max_depth': 9, 'min_samples_split': 9, 'min_samples_leaf': 14, 'max_features': 'log2', 'bootstrap': False}. Best is trial 2 with value: 1.2919208053194833.\n"
     ]
    },
    {
     "name": "stderr",
     "output_type": "stream",
     "text": [
      "[I 2025-01-24 18:10:23,011] Trial 6 finished with value: 15.946557022303441 and parameters: {'n_estimators': 190, 'max_depth': 19, 'min_samples_split': 11, 'min_samples_leaf': 6, 'max_features': None, 'bootstrap': False}. Best is trial 2 with value: 1.2919208053194833.\n"
     ]
    },
    {
     "name": "stderr",
     "output_type": "stream",
     "text": [
      "[I 2025-01-24 18:10:50,214] Trial 7 finished with value: 18.327090768835454 and parameters: {'n_estimators': 116, 'max_depth': 20, 'min_samples_split': 10, 'min_samples_leaf': 1, 'max_features': None, 'bootstrap': False}. Best is trial 2 with value: 1.2919208053194833.\n"
     ]
    },
    {
     "name": "stderr",
     "output_type": "stream",
     "text": [
      "[I 2025-01-24 18:10:58,613] Trial 8 finished with value: 4.444395002286757 and parameters: {'n_estimators': 167, 'max_depth': 18, 'min_samples_split': 13, 'min_samples_leaf': 3, 'max_features': 'sqrt', 'bootstrap': False}. Best is trial 2 with value: 1.2919208053194833.\n"
     ]
    },
    {
     "name": "stderr",
     "output_type": "stream",
     "text": [
      "[I 2025-01-24 18:11:02,535] Trial 9 finished with value: 3.3300266140248085 and parameters: {'n_estimators': 131, 'max_depth': 15, 'min_samples_split': 5, 'min_samples_leaf': 7, 'max_features': 'sqrt', 'bootstrap': True}. Best is trial 2 with value: 1.2919208053194833.\n"
     ]
    },
    {
     "name": "stderr",
     "output_type": "stream",
     "text": [
      "[I 2025-01-24 18:11:03,156] Trial 10 finished with value: 1.1076118916128053 and parameters: {'n_estimators': 51, 'max_depth': 3, 'min_samples_split': 2, 'min_samples_leaf': 10, 'max_features': 'log2', 'bootstrap': True}. Best is trial 10 with value: 1.1076118916128053.\n"
     ]
    },
    {
     "name": "stderr",
     "output_type": "stream",
     "text": [
      "[I 2025-01-24 18:11:03,989] Trial 11 finished with value: 1.1041793267174345 and parameters: {'n_estimators': 68, 'max_depth': 3, 'min_samples_split': 2, 'min_samples_leaf': 11, 'max_features': 'log2', 'bootstrap': True}. Best is trial 11 with value: 1.1041793267174345.\n"
     ]
    },
    {
     "name": "stderr",
     "output_type": "stream",
     "text": [
      "[I 2025-01-24 18:11:05,277] Trial 12 finished with value: 2.599985962966138 and parameters: {'n_estimators': 58, 'max_depth': 7, 'min_samples_split': 2, 'min_samples_leaf': 11, 'max_features': 'log2', 'bootstrap': True}. Best is trial 11 with value: 1.1041793267174345.\n"
     ]
    },
    {
     "name": "stderr",
     "output_type": "stream",
     "text": [
      "[I 2025-01-24 18:11:05,918] Trial 13 finished with value: 1.1039666517631375 and parameters: {'n_estimators': 50, 'max_depth': 3, 'min_samples_split': 2, 'min_samples_leaf': 10, 'max_features': 'log2', 'bootstrap': True}. Best is trial 13 with value: 1.1039666517631375.\n"
     ]
    },
    {
     "name": "stderr",
     "output_type": "stream",
     "text": [
      "[I 2025-01-24 18:11:07,932] Trial 14 finished with value: 2.901347963218018 and parameters: {'n_estimators': 78, 'max_depth': 9, 'min_samples_split': 2, 'min_samples_leaf': 11, 'max_features': 'log2', 'bootstrap': True}. Best is trial 13 with value: 1.1039666517631375.\n"
     ]
    },
    {
     "name": "stderr",
     "output_type": "stream",
     "text": [
      "[I 2025-01-24 18:11:09,390] Trial 15 finished with value: 2.1407842137919193 and parameters: {'n_estimators': 75, 'max_depth': 6, 'min_samples_split': 7, 'min_samples_leaf': 14, 'max_features': 'log2', 'bootstrap': True}. Best is trial 13 with value: 1.1039666517631375.\n"
     ]
    },
    {
     "name": "stderr",
     "output_type": "stream",
     "text": [
      "[I 2025-01-24 18:11:11,251] Trial 16 finished with value: 3.4335300869522527 and parameters: {'n_estimators': 75, 'max_depth': 9, 'min_samples_split': 19, 'min_samples_leaf': 8, 'max_features': 'log2', 'bootstrap': True}. Best is trial 13 with value: 1.1039666517631375.\n"
     ]
    },
    {
     "name": "stderr",
     "output_type": "stream",
     "text": [
      "[I 2025-01-24 18:11:11,971] Trial 17 finished with value: 1.1113352807244279 and parameters: {'n_estimators': 64, 'max_depth': 3, 'min_samples_split': 4, 'min_samples_leaf': 14, 'max_features': 'log2', 'bootstrap': True}. Best is trial 13 with value: 1.1039666517631375.\n"
     ]
    },
    {
     "name": "stderr",
     "output_type": "stream",
     "text": [
      "[I 2025-01-24 18:11:14,551] Trial 18 finished with value: 3.189829687483777 and parameters: {'n_estimators': 93, 'max_depth': 12, 'min_samples_split': 8, 'min_samples_leaf': 9, 'max_features': 'log2', 'bootstrap': True}. Best is trial 13 with value: 1.1039666517631375.\n"
     ]
    },
    {
     "name": "stderr",
     "output_type": "stream",
     "text": [
      "[I 2025-01-24 18:11:16,490] Trial 19 finished with value: 2.5457498366905584 and parameters: {'n_estimators': 86, 'max_depth': 7, 'min_samples_split': 16, 'min_samples_leaf': 12, 'max_features': 'sqrt', 'bootstrap': True}. Best is trial 13 with value: 1.1039666517631375.\n"
     ]
    },
    {
     "name": "stderr",
     "output_type": "stream",
     "text": [
      "[I 2025-01-24 18:11:18,471] Trial 20 finished with value: 1.480106860982045 and parameters: {'n_estimators': 116, 'max_depth': 5, 'min_samples_split': 3, 'min_samples_leaf': 6, 'max_features': 'log2', 'bootstrap': True}. Best is trial 13 with value: 1.1039666517631375.\n"
     ]
    },
    {
     "name": "stderr",
     "output_type": "stream",
     "text": [
      "[I 2025-01-24 18:11:19,111] Trial 21 finished with value: 1.099372831855951 and parameters: {'n_estimators': 50, 'max_depth': 3, 'min_samples_split': 2, 'min_samples_leaf': 9, 'max_features': 'log2', 'bootstrap': True}. Best is trial 21 with value: 1.099372831855951.\n"
     ]
    },
    {
     "name": "stderr",
     "output_type": "stream",
     "text": [
      "[I 2025-01-24 18:11:19,755] Trial 22 finished with value: 1.1127027648793368 and parameters: {'n_estimators': 50, 'max_depth': 3, 'min_samples_split': 4, 'min_samples_leaf': 13, 'max_features': 'log2', 'bootstrap': True}. Best is trial 21 with value: 1.099372831855951.\n"
     ]
    },
    {
     "name": "stderr",
     "output_type": "stream",
     "text": [
      "[I 2025-01-24 18:11:20,883] Trial 23 finished with value: 2.371341124783677 and parameters: {'n_estimators': 66, 'max_depth': 5, 'min_samples_split': 4, 'min_samples_leaf': 9, 'max_features': 'log2', 'bootstrap': True}. Best is trial 21 with value: 1.099372831855951.\n"
     ]
    },
    {
     "name": "stderr",
     "output_type": "stream",
     "text": [
      "[I 2025-01-24 18:11:22,273] Trial 24 finished with value: 2.8335080005515927 and parameters: {'n_estimators': 65, 'max_depth': 7, 'min_samples_split': 6, 'min_samples_leaf': 16, 'max_features': 'log2', 'bootstrap': True}. Best is trial 21 with value: 1.099372831855951.\n"
     ]
    },
    {
     "name": "stderr",
     "output_type": "stream",
     "text": [
      "[I 2025-01-24 18:11:23,028] Trial 25 finished with value: 1.3080868228800384 and parameters: {'n_estimators': 50, 'max_depth': 4, 'min_samples_split': 2, 'min_samples_leaf': 10, 'max_features': 'log2', 'bootstrap': True}. Best is trial 21 with value: 1.099372831855951.\n"
     ]
    },
    {
     "name": "stderr",
     "output_type": "stream",
     "text": [
      "[I 2025-01-24 18:11:25,123] Trial 26 finished with value: 3.162904149877266 and parameters: {'n_estimators': 81, 'max_depth': 11, 'min_samples_split': 4, 'min_samples_leaf': 12, 'max_features': 'log2', 'bootstrap': True}. Best is trial 21 with value: 1.099372831855951.\n"
     ]
    },
    {
     "name": "stderr",
     "output_type": "stream",
     "text": [
      "[I 2025-01-24 18:11:26,327] Trial 27 finished with value: 1.6694452667751172 and parameters: {'n_estimators': 64, 'max_depth': 6, 'min_samples_split': 7, 'min_samples_leaf': 8, 'max_features': 'sqrt', 'bootstrap': True}. Best is trial 21 with value: 1.099372831855951.\n"
     ]
    },
    {
     "name": "stderr",
     "output_type": "stream",
     "text": [
      "[I 2025-01-24 18:11:30,358] Trial 28 finished with value: 5.913459354273292 and parameters: {'n_estimators': 91, 'max_depth': 3, 'min_samples_split': 3, 'min_samples_leaf': 6, 'max_features': None, 'bootstrap': True}. Best is trial 21 with value: 1.099372831855951.\n"
     ]
    },
    {
     "name": "stderr",
     "output_type": "stream",
     "text": [
      "[I 2025-01-24 18:11:32,213] Trial 29 finished with value: 1.465243284033436 and parameters: {'n_estimators': 103, 'max_depth': 5, 'min_samples_split': 17, 'min_samples_leaf': 5, 'max_features': 'log2', 'bootstrap': True}. Best is trial 21 with value: 1.099372831855951.\n"
     ]
    },
    {
     "name": "stderr",
     "output_type": "stream",
     "text": [
      "[I 2025-01-24 18:11:39,230] Trial 30 finished with value: 7.3443080166658365 and parameters: {'n_estimators': 69, 'max_depth': 8, 'min_samples_split': 6, 'min_samples_leaf': 8, 'max_features': None, 'bootstrap': True}. Best is trial 21 with value: 1.099372831855951.\n"
     ]
    },
    {
     "name": "stderr",
     "output_type": "stream",
     "text": [
      "[I 2025-01-24 18:11:39,953] Trial 31 finished with value: 1.3080868228800384 and parameters: {'n_estimators': 50, 'max_depth': 4, 'min_samples_split': 2, 'min_samples_leaf': 10, 'max_features': 'log2', 'bootstrap': True}. Best is trial 21 with value: 1.099372831855951.\n"
     ]
    },
    {
     "name": "stderr",
     "output_type": "stream",
     "text": [
      "[I 2025-01-24 18:11:40,647] Trial 32 finished with value: 1.120496404384464 and parameters: {'n_estimators': 56, 'max_depth': 3, 'min_samples_split': 3, 'min_samples_leaf': 12, 'max_features': 'log2', 'bootstrap': True}. Best is trial 21 with value: 1.099372831855951.\n"
     ]
    },
    {
     "name": "stderr",
     "output_type": "stream",
     "text": [
      "[I 2025-01-24 18:11:41,523] Trial 33 finished with value: 1.3433491535423507 and parameters: {'n_estimators': 61, 'max_depth': 4, 'min_samples_split': 5, 'min_samples_leaf': 9, 'max_features': 'log2', 'bootstrap': True}. Best is trial 21 with value: 1.099372831855951.\n"
     ]
    },
    {
     "name": "stderr",
     "output_type": "stream",
     "text": [
      "[I 2025-01-24 18:11:42,821] Trial 34 finished with value: 2.4045211829235633 and parameters: {'n_estimators': 72, 'max_depth': 5, 'min_samples_split': 3, 'min_samples_leaf': 10, 'max_features': 'log2', 'bootstrap': True}. Best is trial 21 with value: 1.099372831855951.\n"
     ]
    },
    {
     "name": "stderr",
     "output_type": "stream",
     "text": [
      "[I 2025-01-24 18:11:43,777] Trial 35 finished with value: 1.1556152204291812 and parameters: {'n_estimators': 58, 'max_depth': 3, 'min_samples_split': 2, 'min_samples_leaf': 15, 'max_features': 'log2', 'bootstrap': False}. Best is trial 21 with value: 1.099372831855951.\n"
     ]
    },
    {
     "name": "stderr",
     "output_type": "stream",
     "text": [
      "[I 2025-01-24 18:11:46,671] Trial 36 finished with value: 2.1316908042049265 and parameters: {'n_estimators': 152, 'max_depth': 6, 'min_samples_split': 5, 'min_samples_leaf': 11, 'max_features': 'log2', 'bootstrap': True}. Best is trial 21 with value: 1.099372831855951.\n"
     ]
    },
    {
     "name": "stderr",
     "output_type": "stream",
     "text": [
      "[I 2025-01-24 18:11:53,898] Trial 37 finished with value: 2.398083565449631 and parameters: {'n_estimators': 185, 'max_depth': 11, 'min_samples_split': 13, 'min_samples_leaf': 19, 'max_features': 'sqrt', 'bootstrap': False}. Best is trial 21 with value: 1.099372831855951.\n"
     ]
    },
    {
     "name": "stderr",
     "output_type": "stream",
     "text": [
      "[I 2025-01-24 18:11:55,165] Trial 38 finished with value: 1.3070217474751389 and parameters: {'n_estimators': 84, 'max_depth': 4, 'min_samples_split': 8, 'min_samples_leaf': 7, 'max_features': 'log2', 'bootstrap': True}. Best is trial 21 with value: 1.099372831855951.\n"
     ]
    },
    {
     "name": "stderr",
     "output_type": "stream",
     "text": [
      "[I 2025-01-24 18:12:01,689] Trial 39 finished with value: 10.779185434155986 and parameters: {'n_estimators': 55, 'max_depth': 6, 'min_samples_split': 3, 'min_samples_leaf': 13, 'max_features': None, 'bootstrap': False}. Best is trial 21 with value: 1.099372831855951.\n"
     ]
    },
    {
     "name": "stderr",
     "output_type": "stream",
     "text": [
      "[I 2025-01-24 18:12:04,497] Trial 40 finished with value: 1.2975531942279026 and parameters: {'n_estimators': 199, 'max_depth': 4, 'min_samples_split': 6, 'min_samples_leaf': 17, 'max_features': 'log2', 'bootstrap': True}. Best is trial 21 with value: 1.099372831855951.\n"
     ]
    },
    {
     "name": "stderr",
     "output_type": "stream",
     "text": [
      "[I 2025-01-24 18:12:05,333] Trial 41 finished with value: 1.1050053242933224 and parameters: {'n_estimators': 69, 'max_depth': 3, 'min_samples_split': 4, 'min_samples_leaf': 13, 'max_features': 'log2', 'bootstrap': True}. Best is trial 21 with value: 1.099372831855951.\n"
     ]
    },
    {
     "name": "stderr",
     "output_type": "stream",
     "text": [
      "[I 2025-01-24 18:12:06,229] Trial 42 finished with value: 1.1013219486142567 and parameters: {'n_estimators': 72, 'max_depth': 3, 'min_samples_split': 2, 'min_samples_leaf': 13, 'max_features': 'log2', 'bootstrap': True}. Best is trial 21 with value: 1.099372831855951.\n"
     ]
    },
    {
     "name": "stderr",
     "output_type": "stream",
     "text": [
      "[I 2025-01-24 18:12:07,900] Trial 43 finished with value: 1.3157895308306384 and parameters: {'n_estimators': 112, 'max_depth': 4, 'min_samples_split': 4, 'min_samples_leaf': 13, 'max_features': 'log2', 'bootstrap': True}. Best is trial 21 with value: 1.099372831855951.\n"
     ]
    },
    {
     "name": "stderr",
     "output_type": "stream",
     "text": [
      "[I 2025-01-24 18:12:10,745] Trial 44 finished with value: 2.5139777743288874 and parameters: {'n_estimators': 97, 'max_depth': 17, 'min_samples_split': 3, 'min_samples_leaf': 15, 'max_features': 'log2', 'bootstrap': True}. Best is trial 21 with value: 1.099372831855951.\n"
     ]
    },
    {
     "name": "stderr",
     "output_type": "stream",
     "text": [
      "[I 2025-01-24 18:12:11,556] Trial 45 finished with value: 1.098341561968604 and parameters: {'n_estimators': 71, 'max_depth': 3, 'min_samples_split': 2, 'min_samples_leaf': 12, 'max_features': 'log2', 'bootstrap': True}. Best is trial 45 with value: 1.098341561968604.\n"
     ]
    },
    {
     "name": "stderr",
     "output_type": "stream",
     "text": [
      "[I 2025-01-24 18:12:20,330] Trial 46 finished with value: 8.699032280433677 and parameters: {'n_estimators': 85, 'max_depth': 5, 'min_samples_split': 2, 'min_samples_leaf': 11, 'max_features': None, 'bootstrap': False}. Best is trial 45 with value: 1.098341561968604.\n"
     ]
    },
    {
     "name": "stderr",
     "output_type": "stream",
     "text": [
      "[I 2025-01-24 18:12:23,479] Trial 47 finished with value: 3.726135371973787 and parameters: {'n_estimators': 133, 'max_depth': 8, 'min_samples_split': 12, 'min_samples_leaf': 1, 'max_features': 'sqrt', 'bootstrap': True}. Best is trial 45 with value: 1.098341561968604.\n"
     ]
    },
    {
     "name": "stderr",
     "output_type": "stream",
     "text": [
      "[I 2025-01-24 18:12:25,534] Trial 48 finished with value: 2.952940218493736 and parameters: {'n_estimators': 76, 'max_depth': 13, 'min_samples_split': 10, 'min_samples_leaf': 12, 'max_features': 'log2', 'bootstrap': True}. Best is trial 45 with value: 1.098341561968604.\n"
     ]
    },
    {
     "name": "stderr",
     "output_type": "stream",
     "text": [
      "[I 2025-01-24 18:12:26,261] Trial 49 finished with value: 1.1229792212524132 and parameters: {'n_estimators': 59, 'max_depth': 3, 'min_samples_split': 5, 'min_samples_leaf': 15, 'max_features': 'log2', 'bootstrap': True}. Best is trial 45 with value: 1.098341561968604.\n"
     ]
    }
   ],
   "source": [
    "import optuna\n",
    "from sklearn.ensemble import RandomForestClassifier\n",
    "from sklearn.model_selection import cross_val_score\n",
    "from sklearn.metrics import log_loss\n",
    "\n",
    "\n",
    "def objectiveRD(trial):\n",
    "    params = {\n",
    "        'n_estimators': trial.suggest_int('n_estimators', 50, 200),\n",
    "        'max_depth': trial.suggest_int('max_depth', 3, 20),\n",
    "        'min_samples_split': trial.suggest_int('min_samples_split', 2, 20),\n",
    "        'min_samples_leaf': trial.suggest_int('min_samples_leaf', 1, 20),\n",
    "        'max_features': trial.suggest_categorical('max_features', ['sqrt', 'log2', None]),\n",
    "        'bootstrap': trial.suggest_categorical('bootstrap', [True, False])\n",
    "    }\n",
    "    \n",
    "    # Créer le modèle RandomForest\n",
    "    model = RandomForestClassifier(**params, random_state=42)\n",
    "    \n",
    "    # Évaluation avec validation croisée\n",
    "    scores = cross_val_score(model, X_train_scaled, y_train, cv=5, scoring='neg_log_loss', n_jobs=-1)\n",
    "    \n",
    "    return -np.mean(scores)  # Minimiser la log loss\n",
    "\n",
    "# Étape d'optimisation avec Optuna\n",
    "study = optuna.create_study(direction=\"minimize\")\n",
    "study.optimize(objectiveRD, n_trials=50)"
   ]
  },
  {
   "cell_type": "code",
   "execution_count": 10,
   "id": "a1a4f1ba",
   "metadata": {
    "execution": {
     "iopub.execute_input": "2025-01-24T17:12:26.285604Z",
     "iopub.status.busy": "2025-01-24T17:12:26.285330Z",
     "iopub.status.idle": "2025-01-24T17:12:26.904633Z",
     "shell.execute_reply": "2025-01-24T17:12:26.904037Z"
    },
    "papermill": {
     "duration": 0.630393,
     "end_time": "2025-01-24T17:12:26.905630",
     "exception": false,
     "start_time": "2025-01-24T17:12:26.275237",
     "status": "completed"
    },
    "tags": []
   },
   "outputs": [
    {
     "data": {
      "text/html": [
       "<style>#sk-container-id-1 {\n",
       "  /* Definition of color scheme common for light and dark mode */\n",
       "  --sklearn-color-text: #000;\n",
       "  --sklearn-color-text-muted: #666;\n",
       "  --sklearn-color-line: gray;\n",
       "  /* Definition of color scheme for unfitted estimators */\n",
       "  --sklearn-color-unfitted-level-0: #fff5e6;\n",
       "  --sklearn-color-unfitted-level-1: #f6e4d2;\n",
       "  --sklearn-color-unfitted-level-2: #ffe0b3;\n",
       "  --sklearn-color-unfitted-level-3: chocolate;\n",
       "  /* Definition of color scheme for fitted estimators */\n",
       "  --sklearn-color-fitted-level-0: #f0f8ff;\n",
       "  --sklearn-color-fitted-level-1: #d4ebff;\n",
       "  --sklearn-color-fitted-level-2: #b3dbfd;\n",
       "  --sklearn-color-fitted-level-3: cornflowerblue;\n",
       "\n",
       "  /* Specific color for light theme */\n",
       "  --sklearn-color-text-on-default-background: var(--sg-text-color, var(--theme-code-foreground, var(--jp-content-font-color1, black)));\n",
       "  --sklearn-color-background: var(--sg-background-color, var(--theme-background, var(--jp-layout-color0, white)));\n",
       "  --sklearn-color-border-box: var(--sg-text-color, var(--theme-code-foreground, var(--jp-content-font-color1, black)));\n",
       "  --sklearn-color-icon: #696969;\n",
       "\n",
       "  @media (prefers-color-scheme: dark) {\n",
       "    /* Redefinition of color scheme for dark theme */\n",
       "    --sklearn-color-text-on-default-background: var(--sg-text-color, var(--theme-code-foreground, var(--jp-content-font-color1, white)));\n",
       "    --sklearn-color-background: var(--sg-background-color, var(--theme-background, var(--jp-layout-color0, #111)));\n",
       "    --sklearn-color-border-box: var(--sg-text-color, var(--theme-code-foreground, var(--jp-content-font-color1, white)));\n",
       "    --sklearn-color-icon: #878787;\n",
       "  }\n",
       "}\n",
       "\n",
       "#sk-container-id-1 {\n",
       "  color: var(--sklearn-color-text);\n",
       "}\n",
       "\n",
       "#sk-container-id-1 pre {\n",
       "  padding: 0;\n",
       "}\n",
       "\n",
       "#sk-container-id-1 input.sk-hidden--visually {\n",
       "  border: 0;\n",
       "  clip: rect(1px 1px 1px 1px);\n",
       "  clip: rect(1px, 1px, 1px, 1px);\n",
       "  height: 1px;\n",
       "  margin: -1px;\n",
       "  overflow: hidden;\n",
       "  padding: 0;\n",
       "  position: absolute;\n",
       "  width: 1px;\n",
       "}\n",
       "\n",
       "#sk-container-id-1 div.sk-dashed-wrapped {\n",
       "  border: 1px dashed var(--sklearn-color-line);\n",
       "  margin: 0 0.4em 0.5em 0.4em;\n",
       "  box-sizing: border-box;\n",
       "  padding-bottom: 0.4em;\n",
       "  background-color: var(--sklearn-color-background);\n",
       "}\n",
       "\n",
       "#sk-container-id-1 div.sk-container {\n",
       "  /* jupyter's `normalize.less` sets `[hidden] { display: none; }`\n",
       "     but bootstrap.min.css set `[hidden] { display: none !important; }`\n",
       "     so we also need the `!important` here to be able to override the\n",
       "     default hidden behavior on the sphinx rendered scikit-learn.org.\n",
       "     See: https://github.com/scikit-learn/scikit-learn/issues/21755 */\n",
       "  display: inline-block !important;\n",
       "  position: relative;\n",
       "}\n",
       "\n",
       "#sk-container-id-1 div.sk-text-repr-fallback {\n",
       "  display: none;\n",
       "}\n",
       "\n",
       "div.sk-parallel-item,\n",
       "div.sk-serial,\n",
       "div.sk-item {\n",
       "  /* draw centered vertical line to link estimators */\n",
       "  background-image: linear-gradient(var(--sklearn-color-text-on-default-background), var(--sklearn-color-text-on-default-background));\n",
       "  background-size: 2px 100%;\n",
       "  background-repeat: no-repeat;\n",
       "  background-position: center center;\n",
       "}\n",
       "\n",
       "/* Parallel-specific style estimator block */\n",
       "\n",
       "#sk-container-id-1 div.sk-parallel-item::after {\n",
       "  content: \"\";\n",
       "  width: 100%;\n",
       "  border-bottom: 2px solid var(--sklearn-color-text-on-default-background);\n",
       "  flex-grow: 1;\n",
       "}\n",
       "\n",
       "#sk-container-id-1 div.sk-parallel {\n",
       "  display: flex;\n",
       "  align-items: stretch;\n",
       "  justify-content: center;\n",
       "  background-color: var(--sklearn-color-background);\n",
       "  position: relative;\n",
       "}\n",
       "\n",
       "#sk-container-id-1 div.sk-parallel-item {\n",
       "  display: flex;\n",
       "  flex-direction: column;\n",
       "}\n",
       "\n",
       "#sk-container-id-1 div.sk-parallel-item:first-child::after {\n",
       "  align-self: flex-end;\n",
       "  width: 50%;\n",
       "}\n",
       "\n",
       "#sk-container-id-1 div.sk-parallel-item:last-child::after {\n",
       "  align-self: flex-start;\n",
       "  width: 50%;\n",
       "}\n",
       "\n",
       "#sk-container-id-1 div.sk-parallel-item:only-child::after {\n",
       "  width: 0;\n",
       "}\n",
       "\n",
       "/* Serial-specific style estimator block */\n",
       "\n",
       "#sk-container-id-1 div.sk-serial {\n",
       "  display: flex;\n",
       "  flex-direction: column;\n",
       "  align-items: center;\n",
       "  background-color: var(--sklearn-color-background);\n",
       "  padding-right: 1em;\n",
       "  padding-left: 1em;\n",
       "}\n",
       "\n",
       "\n",
       "/* Toggleable style: style used for estimator/Pipeline/ColumnTransformer box that is\n",
       "clickable and can be expanded/collapsed.\n",
       "- Pipeline and ColumnTransformer use this feature and define the default style\n",
       "- Estimators will overwrite some part of the style using the `sk-estimator` class\n",
       "*/\n",
       "\n",
       "/* Pipeline and ColumnTransformer style (default) */\n",
       "\n",
       "#sk-container-id-1 div.sk-toggleable {\n",
       "  /* Default theme specific background. It is overwritten whether we have a\n",
       "  specific estimator or a Pipeline/ColumnTransformer */\n",
       "  background-color: var(--sklearn-color-background);\n",
       "}\n",
       "\n",
       "/* Toggleable label */\n",
       "#sk-container-id-1 label.sk-toggleable__label {\n",
       "  cursor: pointer;\n",
       "  display: flex;\n",
       "  width: 100%;\n",
       "  margin-bottom: 0;\n",
       "  padding: 0.5em;\n",
       "  box-sizing: border-box;\n",
       "  text-align: center;\n",
       "  align-items: start;\n",
       "  justify-content: space-between;\n",
       "  gap: 0.5em;\n",
       "}\n",
       "\n",
       "#sk-container-id-1 label.sk-toggleable__label .caption {\n",
       "  font-size: 0.6rem;\n",
       "  font-weight: lighter;\n",
       "  color: var(--sklearn-color-text-muted);\n",
       "}\n",
       "\n",
       "#sk-container-id-1 label.sk-toggleable__label-arrow:before {\n",
       "  /* Arrow on the left of the label */\n",
       "  content: \"▸\";\n",
       "  float: left;\n",
       "  margin-right: 0.25em;\n",
       "  color: var(--sklearn-color-icon);\n",
       "}\n",
       "\n",
       "#sk-container-id-1 label.sk-toggleable__label-arrow:hover:before {\n",
       "  color: var(--sklearn-color-text);\n",
       "}\n",
       "\n",
       "/* Toggleable content - dropdown */\n",
       "\n",
       "#sk-container-id-1 div.sk-toggleable__content {\n",
       "  max-height: 0;\n",
       "  max-width: 0;\n",
       "  overflow: hidden;\n",
       "  text-align: left;\n",
       "  /* unfitted */\n",
       "  background-color: var(--sklearn-color-unfitted-level-0);\n",
       "}\n",
       "\n",
       "#sk-container-id-1 div.sk-toggleable__content.fitted {\n",
       "  /* fitted */\n",
       "  background-color: var(--sklearn-color-fitted-level-0);\n",
       "}\n",
       "\n",
       "#sk-container-id-1 div.sk-toggleable__content pre {\n",
       "  margin: 0.2em;\n",
       "  border-radius: 0.25em;\n",
       "  color: var(--sklearn-color-text);\n",
       "  /* unfitted */\n",
       "  background-color: var(--sklearn-color-unfitted-level-0);\n",
       "}\n",
       "\n",
       "#sk-container-id-1 div.sk-toggleable__content.fitted pre {\n",
       "  /* unfitted */\n",
       "  background-color: var(--sklearn-color-fitted-level-0);\n",
       "}\n",
       "\n",
       "#sk-container-id-1 input.sk-toggleable__control:checked~div.sk-toggleable__content {\n",
       "  /* Expand drop-down */\n",
       "  max-height: 200px;\n",
       "  max-width: 100%;\n",
       "  overflow: auto;\n",
       "}\n",
       "\n",
       "#sk-container-id-1 input.sk-toggleable__control:checked~label.sk-toggleable__label-arrow:before {\n",
       "  content: \"▾\";\n",
       "}\n",
       "\n",
       "/* Pipeline/ColumnTransformer-specific style */\n",
       "\n",
       "#sk-container-id-1 div.sk-label input.sk-toggleable__control:checked~label.sk-toggleable__label {\n",
       "  color: var(--sklearn-color-text);\n",
       "  background-color: var(--sklearn-color-unfitted-level-2);\n",
       "}\n",
       "\n",
       "#sk-container-id-1 div.sk-label.fitted input.sk-toggleable__control:checked~label.sk-toggleable__label {\n",
       "  background-color: var(--sklearn-color-fitted-level-2);\n",
       "}\n",
       "\n",
       "/* Estimator-specific style */\n",
       "\n",
       "/* Colorize estimator box */\n",
       "#sk-container-id-1 div.sk-estimator input.sk-toggleable__control:checked~label.sk-toggleable__label {\n",
       "  /* unfitted */\n",
       "  background-color: var(--sklearn-color-unfitted-level-2);\n",
       "}\n",
       "\n",
       "#sk-container-id-1 div.sk-estimator.fitted input.sk-toggleable__control:checked~label.sk-toggleable__label {\n",
       "  /* fitted */\n",
       "  background-color: var(--sklearn-color-fitted-level-2);\n",
       "}\n",
       "\n",
       "#sk-container-id-1 div.sk-label label.sk-toggleable__label,\n",
       "#sk-container-id-1 div.sk-label label {\n",
       "  /* The background is the default theme color */\n",
       "  color: var(--sklearn-color-text-on-default-background);\n",
       "}\n",
       "\n",
       "/* On hover, darken the color of the background */\n",
       "#sk-container-id-1 div.sk-label:hover label.sk-toggleable__label {\n",
       "  color: var(--sklearn-color-text);\n",
       "  background-color: var(--sklearn-color-unfitted-level-2);\n",
       "}\n",
       "\n",
       "/* Label box, darken color on hover, fitted */\n",
       "#sk-container-id-1 div.sk-label.fitted:hover label.sk-toggleable__label.fitted {\n",
       "  color: var(--sklearn-color-text);\n",
       "  background-color: var(--sklearn-color-fitted-level-2);\n",
       "}\n",
       "\n",
       "/* Estimator label */\n",
       "\n",
       "#sk-container-id-1 div.sk-label label {\n",
       "  font-family: monospace;\n",
       "  font-weight: bold;\n",
       "  display: inline-block;\n",
       "  line-height: 1.2em;\n",
       "}\n",
       "\n",
       "#sk-container-id-1 div.sk-label-container {\n",
       "  text-align: center;\n",
       "}\n",
       "\n",
       "/* Estimator-specific */\n",
       "#sk-container-id-1 div.sk-estimator {\n",
       "  font-family: monospace;\n",
       "  border: 1px dotted var(--sklearn-color-border-box);\n",
       "  border-radius: 0.25em;\n",
       "  box-sizing: border-box;\n",
       "  margin-bottom: 0.5em;\n",
       "  /* unfitted */\n",
       "  background-color: var(--sklearn-color-unfitted-level-0);\n",
       "}\n",
       "\n",
       "#sk-container-id-1 div.sk-estimator.fitted {\n",
       "  /* fitted */\n",
       "  background-color: var(--sklearn-color-fitted-level-0);\n",
       "}\n",
       "\n",
       "/* on hover */\n",
       "#sk-container-id-1 div.sk-estimator:hover {\n",
       "  /* unfitted */\n",
       "  background-color: var(--sklearn-color-unfitted-level-2);\n",
       "}\n",
       "\n",
       "#sk-container-id-1 div.sk-estimator.fitted:hover {\n",
       "  /* fitted */\n",
       "  background-color: var(--sklearn-color-fitted-level-2);\n",
       "}\n",
       "\n",
       "/* Specification for estimator info (e.g. \"i\" and \"?\") */\n",
       "\n",
       "/* Common style for \"i\" and \"?\" */\n",
       "\n",
       ".sk-estimator-doc-link,\n",
       "a:link.sk-estimator-doc-link,\n",
       "a:visited.sk-estimator-doc-link {\n",
       "  float: right;\n",
       "  font-size: smaller;\n",
       "  line-height: 1em;\n",
       "  font-family: monospace;\n",
       "  background-color: var(--sklearn-color-background);\n",
       "  border-radius: 1em;\n",
       "  height: 1em;\n",
       "  width: 1em;\n",
       "  text-decoration: none !important;\n",
       "  margin-left: 0.5em;\n",
       "  text-align: center;\n",
       "  /* unfitted */\n",
       "  border: var(--sklearn-color-unfitted-level-1) 1pt solid;\n",
       "  color: var(--sklearn-color-unfitted-level-1);\n",
       "}\n",
       "\n",
       ".sk-estimator-doc-link.fitted,\n",
       "a:link.sk-estimator-doc-link.fitted,\n",
       "a:visited.sk-estimator-doc-link.fitted {\n",
       "  /* fitted */\n",
       "  border: var(--sklearn-color-fitted-level-1) 1pt solid;\n",
       "  color: var(--sklearn-color-fitted-level-1);\n",
       "}\n",
       "\n",
       "/* On hover */\n",
       "div.sk-estimator:hover .sk-estimator-doc-link:hover,\n",
       ".sk-estimator-doc-link:hover,\n",
       "div.sk-label-container:hover .sk-estimator-doc-link:hover,\n",
       ".sk-estimator-doc-link:hover {\n",
       "  /* unfitted */\n",
       "  background-color: var(--sklearn-color-unfitted-level-3);\n",
       "  color: var(--sklearn-color-background);\n",
       "  text-decoration: none;\n",
       "}\n",
       "\n",
       "div.sk-estimator.fitted:hover .sk-estimator-doc-link.fitted:hover,\n",
       ".sk-estimator-doc-link.fitted:hover,\n",
       "div.sk-label-container:hover .sk-estimator-doc-link.fitted:hover,\n",
       ".sk-estimator-doc-link.fitted:hover {\n",
       "  /* fitted */\n",
       "  background-color: var(--sklearn-color-fitted-level-3);\n",
       "  color: var(--sklearn-color-background);\n",
       "  text-decoration: none;\n",
       "}\n",
       "\n",
       "/* Span, style for the box shown on hovering the info icon */\n",
       ".sk-estimator-doc-link span {\n",
       "  display: none;\n",
       "  z-index: 9999;\n",
       "  position: relative;\n",
       "  font-weight: normal;\n",
       "  right: .2ex;\n",
       "  padding: .5ex;\n",
       "  margin: .5ex;\n",
       "  width: min-content;\n",
       "  min-width: 20ex;\n",
       "  max-width: 50ex;\n",
       "  color: var(--sklearn-color-text);\n",
       "  box-shadow: 2pt 2pt 4pt #999;\n",
       "  /* unfitted */\n",
       "  background: var(--sklearn-color-unfitted-level-0);\n",
       "  border: .5pt solid var(--sklearn-color-unfitted-level-3);\n",
       "}\n",
       "\n",
       ".sk-estimator-doc-link.fitted span {\n",
       "  /* fitted */\n",
       "  background: var(--sklearn-color-fitted-level-0);\n",
       "  border: var(--sklearn-color-fitted-level-3);\n",
       "}\n",
       "\n",
       ".sk-estimator-doc-link:hover span {\n",
       "  display: block;\n",
       "}\n",
       "\n",
       "/* \"?\"-specific style due to the `<a>` HTML tag */\n",
       "\n",
       "#sk-container-id-1 a.estimator_doc_link {\n",
       "  float: right;\n",
       "  font-size: 1rem;\n",
       "  line-height: 1em;\n",
       "  font-family: monospace;\n",
       "  background-color: var(--sklearn-color-background);\n",
       "  border-radius: 1rem;\n",
       "  height: 1rem;\n",
       "  width: 1rem;\n",
       "  text-decoration: none;\n",
       "  /* unfitted */\n",
       "  color: var(--sklearn-color-unfitted-level-1);\n",
       "  border: var(--sklearn-color-unfitted-level-1) 1pt solid;\n",
       "}\n",
       "\n",
       "#sk-container-id-1 a.estimator_doc_link.fitted {\n",
       "  /* fitted */\n",
       "  border: var(--sklearn-color-fitted-level-1) 1pt solid;\n",
       "  color: var(--sklearn-color-fitted-level-1);\n",
       "}\n",
       "\n",
       "/* On hover */\n",
       "#sk-container-id-1 a.estimator_doc_link:hover {\n",
       "  /* unfitted */\n",
       "  background-color: var(--sklearn-color-unfitted-level-3);\n",
       "  color: var(--sklearn-color-background);\n",
       "  text-decoration: none;\n",
       "}\n",
       "\n",
       "#sk-container-id-1 a.estimator_doc_link.fitted:hover {\n",
       "  /* fitted */\n",
       "  background-color: var(--sklearn-color-fitted-level-3);\n",
       "}\n",
       "</style><div id=\"sk-container-id-1\" class=\"sk-top-container\"><div class=\"sk-text-repr-fallback\"><pre>RandomForestClassifier(max_depth=3, max_features=&#x27;log2&#x27;, min_samples_leaf=12,\n",
       "                       n_estimators=71, random_state=42)</pre><b>In a Jupyter environment, please rerun this cell to show the HTML representation or trust the notebook. <br />On GitHub, the HTML representation is unable to render, please try loading this page with nbviewer.org.</b></div><div class=\"sk-container\" hidden><div class=\"sk-item\"><div class=\"sk-estimator fitted sk-toggleable\"><input class=\"sk-toggleable__control sk-hidden--visually\" id=\"sk-estimator-id-1\" type=\"checkbox\" checked><label for=\"sk-estimator-id-1\" class=\"sk-toggleable__label fitted sk-toggleable__label-arrow\"><div><div>RandomForestClassifier</div></div><div><a class=\"sk-estimator-doc-link fitted\" rel=\"noreferrer\" target=\"_blank\" href=\"https://scikit-learn.org/1.6/modules/generated/sklearn.ensemble.RandomForestClassifier.html\">?<span>Documentation for RandomForestClassifier</span></a><span class=\"sk-estimator-doc-link fitted\">i<span>Fitted</span></span></div></label><div class=\"sk-toggleable__content fitted\"><pre>RandomForestClassifier(max_depth=3, max_features=&#x27;log2&#x27;, min_samples_leaf=12,\n",
       "                       n_estimators=71, random_state=42)</pre></div> </div></div></div></div>"
      ],
      "text/plain": [
       "RandomForestClassifier(max_depth=3, max_features='log2', min_samples_leaf=12,\n",
       "                       n_estimators=71, random_state=42)"
      ]
     },
     "execution_count": 10,
     "metadata": {},
     "output_type": "execute_result"
    }
   ],
   "source": [
    "# Récupérer les meilleurs hyperparamètres trouvés par Optuna\n",
    "best_params = study.best_params\n",
    "\n",
    "# Ajouter les paramètres fixes nécessaires pour RandomForestClassifier\n",
    "best_params.update({\n",
    "    'random_state': 42\n",
    "})\n",
    "\n",
    "# Créer et entraîner le modèle final avec les meilleurs hyperparamètres\n",
    "final_model = RandomForestClassifier(**best_params)\n",
    "final_model.fit(X_train_scaled, y_train)"
   ]
  },
  {
   "cell_type": "code",
   "execution_count": 11,
   "id": "5145a50e",
   "metadata": {
    "execution": {
     "iopub.execute_input": "2025-01-24T17:12:26.924808Z",
     "iopub.status.busy": "2025-01-24T17:12:26.924146Z",
     "iopub.status.idle": "2025-01-24T17:12:26.945988Z",
     "shell.execute_reply": "2025-01-24T17:12:26.945263Z"
    },
    "papermill": {
     "duration": 0.032979,
     "end_time": "2025-01-24T17:12:26.947131",
     "exception": false,
     "start_time": "2025-01-24T17:12:26.914152",
     "status": "completed"
    },
    "tags": []
   },
   "outputs": [
    {
     "name": "stdout",
     "output_type": "stream",
     "text": [
      "\n",
      "Test Accuracy: 0.43014200641319283\n",
      "\n",
      "Classification Report:\n",
      "               precision    recall  f1-score   support\n",
      "\n",
      "           0       0.41      0.90      0.56       889\n",
      "           1       0.61      0.11      0.18      1294\n",
      "\n",
      "    accuracy                           0.43      2183\n",
      "   macro avg       0.51      0.50      0.37      2183\n",
      "weighted avg       0.53      0.43      0.34      2183\n",
      "\n"
     ]
    }
   ],
   "source": [
    "y_pred = final_model.predict(X_test_scaled)\n",
    "accuracy = accuracy_score(y_test, y_pred)\n",
    "print(\"\\nTest Accuracy:\", accuracy)\n",
    "print(\"\\nClassification Report:\\n\", classification_report(y_test, y_pred))"
   ]
  },
  {
   "cell_type": "code",
   "execution_count": 12,
   "id": "5ab6e495",
   "metadata": {
    "execution": {
     "iopub.execute_input": "2025-01-24T17:12:26.967611Z",
     "iopub.status.busy": "2025-01-24T17:12:26.967380Z",
     "iopub.status.idle": "2025-01-24T17:12:27.223343Z",
     "shell.execute_reply": "2025-01-24T17:12:27.222640Z"
    },
    "papermill": {
     "duration": 0.266439,
     "end_time": "2025-01-24T17:12:27.224542",
     "exception": false,
     "start_time": "2025-01-24T17:12:26.958103",
     "status": "completed"
    },
    "tags": []
   },
   "outputs": [
    {
     "data": {
      "image/png": "[encoded data removed]",
      "text/plain": [
       "<Figure size 600x400 with 2 Axes>"
      ]
     },
     "metadata": {},
     "output_type": "display_data"
    }
   ],
   "source": [
    "cm = confusion_matrix(y_test, y_pred)\n",
    "\n",
    "# Plot confusion matrix as heatmap\n",
    "plt.figure(figsize=(6, 4))\n",
    "sns.heatmap(cm, annot=True, fmt='d', cmap='Blues', xticklabels=['Sell', 'Buy'], yticklabels=['Sell', 'Buy'])\n",
    "plt.title('Confusion Matrix  Random Forest')\n",
    "plt.xlabel('Predicted')\n",
    "plt.ylabel('Actual')\n",
    "plt.show()"
   ]
  },
  {
   "cell_type": "markdown",
   "id": "8e0e8655-1392-4170-90df-fb8e733a64b0",
   "metadata": {
    "papermill": {
     "duration": 0.00953,
     "end_time": "2025-01-24T17:12:27.243563",
     "exception": false,
     "start_time": "2025-01-24T17:12:27.234033",
     "status": "completed"
    },
    "tags": []
   },
   "source": [
    "## Save Final Model (The best Model)"
   ]
  },
  {
   "cell_type": "code",
   "execution_count": 13,
   "id": "1a54a46d-9697-4d6d-bcde-4c46db30efc5",
   "metadata": {
    "execution": {
     "iopub.execute_input": "2025-01-24T17:12:27.263819Z",
     "iopub.status.busy": "2025-01-24T17:12:27.263327Z",
     "iopub.status.idle": "2025-01-24T17:12:27.300980Z",
     "shell.execute_reply": "2025-01-24T17:12:27.300251Z"
    },
    "papermill": {
     "duration": 0.049532,
     "end_time": "2025-01-24T17:12:27.302502",
     "exception": false,
     "start_time": "2025-01-24T17:12:27.252970",
     "status": "completed"
    },
    "tags": []
   },
   "outputs": [
    {
     "name": "stdout",
     "output_type": "stream",
     "text": [
      "Model saved successfully.\n"
     ]
    }
   ],
   "source": [
    "# Save the model for future use\n",
    "joblib.dump(final_model, \"random_forest_model.pkl\")\n",
    "print(\"Model saved successfully.\")"
   ]
  },
  {
   "cell_type": "code",
   "execution_count": 14,
   "id": "11a59cff-9aad-4442-b375-0e6b652b9de8",
   "metadata": {
    "execution": {
     "iopub.execute_input": "2025-01-24T17:12:27.323489Z",
     "iopub.status.busy": "2025-01-24T17:12:27.323218Z",
     "iopub.status.idle": "2025-01-24T17:12:27.332883Z",
     "shell.execute_reply": "2025-01-24T17:12:27.332168Z"
    },
    "papermill": {
     "duration": 0.021906,
     "end_time": "2025-01-24T17:12:27.334303",
     "exception": false,
     "start_time": "2025-01-24T17:12:27.312397",
     "status": "completed"
    },
    "tags": []
   },
   "outputs": [
    {
     "name": "stdout",
     "output_type": "stream",
     "text": [
      "Predictions saved to data/final_predictions.csv\n"
     ]
    }
   ],
   "source": [
    "# Ensure that when saving predictions, we use the correct column names\n",
    "predictions_df = pd.DataFrame({\n",
    "    'Date': data.iloc[y_test.index]['Date'],  # Assuming there's a 'Date' column in your original data\n",
    "    'Actual': y_test,\n",
    "    'Predicted': y_pred\n",
    "})\n",
    "\n",
    "# Save predictions with the correct column names\n",
    "predictions_path = 'data/final_predictions.csv'\n",
    "predictions_df.to_csv(predictions_path, index=False)\n",
    "print(f\"Predictions saved to {predictions_path}\")\n"
   ]
  },
  {
   "cell_type": "code",
   "execution_count": null,
   "id": "85091d82-0b82-4a56-b052-ce884aae3ce8",
   "metadata": {
    "papermill": {
     "duration": 0.010142,
     "end_time": "2025-01-24T17:12:27.354791",
     "exception": false,
     "start_time": "2025-01-24T17:12:27.344649",
     "status": "completed"
    },
    "tags": []
   },
   "outputs": [],
   "source": []
  },
  {
   "cell_type": "code",
   "execution_count": null,
   "id": "2a62aea1-0bd4-4842-a735-f39a60f0c05c",
   "metadata": {
    "papermill": {
     "duration": 0.011225,
     "end_time": "2025-01-24T17:12:27.375939",
     "exception": false,
     "start_time": "2025-01-24T17:12:27.364714",
     "status": "completed"
    },
    "tags": []
   },
   "outputs": [],
   "source": []
  },
  {
   "cell_type": "code",
   "execution_count": null,
   "id": "8cd659c8-8800-440e-8c40-42e0aa5109df",
   "metadata": {
    "papermill": {
     "duration": 0.010041,
     "end_time": "2025-01-24T17:12:27.396106",
     "exception": false,
     "start_time": "2025-01-24T17:12:27.386065",
     "status": "completed"
    },
    "tags": []
   },
   "outputs": [],
   "source": []
  },
  {
   "cell_type": "code",
   "execution_count": null,
   "id": "bc9f8ab9-125f-459b-9be8-5b5f3e820471",
   "metadata": {
    "papermill": {
     "duration": 0.009958,
     "end_time": "2025-01-24T17:12:27.415890",
     "exception": false,
     "start_time": "2025-01-24T17:12:27.405932",
     "status": "completed"
    },
    "tags": []
   },
   "outputs": [],
   "source": []
  },
  {
   "cell_type": "code",
   "execution_count": null,
   "id": "9f021e3f-7ba3-485e-83a2-5f25123b2206",
   "metadata": {
    "papermill": {
     "duration": 0.010013,
     "end_time": "2025-01-24T17:12:27.435709",
     "exception": false,
     "start_time": "2025-01-24T17:12:27.425696",
     "status": "completed"
    },
    "tags": []
   },
   "outputs": [],
   "source": []
  },
  {
   "cell_type": "code",
   "execution_count": null,
   "id": "9f17466b-8fc9-4dc5-8bf3-ec9b169564c9",
   "metadata": {
    "papermill": {
     "duration": 0.009999,
     "end_time": "2025-01-24T17:12:27.455710",
     "exception": false,
     "start_time": "2025-01-24T17:12:27.445711",
     "status": "completed"
    },
    "tags": []
   },
   "outputs": [],
   "source": []
  },
  {
   "cell_type": "code",
   "execution_count": null,
   "id": "4f019aaa-c461-484f-a571-1a68c458904c",
   "metadata": {
    "papermill": {
     "duration": 0.010382,
     "end_time": "2025-01-24T17:12:27.475920",
     "exception": false,
     "start_time": "2025-01-24T17:12:27.465538",
     "status": "completed"
    },
    "tags": []
   },
   "outputs": [],
   "source": []
  }
 ],
 "metadata": {
  "kernelspec": {
   "display_name": "Python (Project M1)",
   "language": "python",
   "name": "project_m1"
  },
  "language_info": {
   "codemirror_mode": {
    "name": "ipython",
    "version": 3
   },
   "file_extension": ".py",
   "mimetype": "text/x-python",
   "name": "python",
   "nbconvert_exporter": "python",
   "pygments_lexer": "ipython3",
   "version": "3.10.12"
  },
  "papermill": {
   "default_parameters": {},
   "duration": 217.626438,
   "end_time": "2025-01-24T17:12:30.104480",
   "environment_variables": {},
   "exception": null,
   "input_path": "Models.ipynb",
   "output_path": "output_Models.ipynb",
   "parameters": {},
   "start_time": "2025-01-24T17:08:52.478042",
   "version": "2.6.0"
  },
  "widgets": {
   "application/vnd.jupyter.widget-state+json": {
    "state": {},
    "version_major": 2,
    "version_minor": 0
   }
  }
 },
 "nbformat": 4,
 "nbformat_minor": 5
}