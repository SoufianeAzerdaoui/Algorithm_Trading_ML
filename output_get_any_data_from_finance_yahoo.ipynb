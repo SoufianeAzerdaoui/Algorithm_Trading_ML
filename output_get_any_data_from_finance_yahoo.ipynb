{
 "cells": [
  {
   "cell_type": "markdown",
   "id": "6b2caa93-4a41-47dc-aa09-db60d4f0fd56",
   "metadata": {
    "papermill": {
     "duration": 0.003244,
     "end_time": "2025-01-24T17:08:48.203805",
     "exception": false,
     "start_time": "2025-01-24T17:08:48.200561",
     "status": "completed"
    },
    "tags": []
   },
   "source": [
    "## Tesing  wiht web scraping "
   ]
  },
  {
   "cell_type": "code",
   "execution_count": 1,
   "id": "bfbd1070-b83e-463a-99ec-db859a6b635d",
   "metadata": {
    "execution": {
     "iopub.execute_input": "2025-01-24T17:08:48.209933Z",
     "iopub.status.busy": "2025-01-24T17:08:48.209626Z",
     "iopub.status.idle": "2025-01-24T17:08:48.640332Z",
     "shell.execute_reply": "2025-01-24T17:08:48.639757Z"
    },
    "papermill": {
     "duration": 0.435331,
     "end_time": "2025-01-24T17:08:48.641596",
     "exception": false,
     "start_time": "2025-01-24T17:08:48.206265",
     "status": "completed"
    },
    "tags": []
   },
   "outputs": [],
   "source": [
    "import yfinance as yf\n",
    "import pandas as pd\n"
   ]
  },
  {
   "cell_type": "code",
   "execution_count": 2,
   "id": "69cc71bf-a22a-404b-983b-de241a82dfe2",
   "metadata": {
    "execution": {
     "iopub.execute_input": "2025-01-24T17:08:48.652012Z",
     "iopub.status.busy": "2025-01-24T17:08:48.651711Z",
     "iopub.status.idle": "2025-01-24T17:08:48.655048Z",
     "shell.execute_reply": "2025-01-24T17:08:48.654349Z"
    },
    "papermill": {
     "duration": 0.01296,
     "end_time": "2025-01-24T17:08:48.656101",
     "exception": false,
     "start_time": "2025-01-24T17:08:48.643141",
     "status": "completed"
    },
    "tags": []
   },
   "outputs": [],
   "source": [
    "#appl_rows = historical_data.shape[0]\n",
    "#appl_rows"
   ]
  },
  {
   "cell_type": "code",
   "execution_count": 3,
   "id": "c2ab98d9-349d-4ee1-b408-86ab1900c8c3",
   "metadata": {
    "execution": {
     "iopub.execute_input": "2025-01-24T17:08:48.661412Z",
     "iopub.status.busy": "2025-01-24T17:08:48.661160Z",
     "iopub.status.idle": "2025-01-24T17:08:50.424250Z",
     "shell.execute_reply": "2025-01-24T17:08:50.423561Z"
    },
    "papermill": {
     "duration": 1.76694,
     "end_time": "2025-01-24T17:08:50.425216",
     "exception": false,
     "start_time": "2025-01-24T17:08:48.658276",
     "status": "completed"
    },
    "tags": []
   },
   "outputs": [
    {
     "name": "stdout",
     "output_type": "stream",
     "text": [
      "Fetching historical data for AAPL...\n"
     ]
    },
    {
     "name": "stderr",
     "output_type": "stream",
     "text": [
      "\r",
      "[*********************100%***********************]  1 of 1 completed"
     ]
    },
    {
     "name": "stdout",
     "output_type": "stream",
     "text": [
      "Fetched 11120 rows of data.\n",
      "Price        Date Adj Close     Close      High       Low      Open     Volume\n",
      "Ticker                 AAPL      AAPL      AAPL      AAPL      AAPL       AAPL\n",
      "0      1980-12-12  0.098834  0.128348  0.128906  0.128348  0.128348  469033600\n",
      "1      1980-12-15  0.093678  0.121652  0.122210  0.121652  0.122210  175884800\n",
      "2      1980-12-16  0.086802  0.112723  0.113281  0.112723  0.113281  105728000\n",
      "3      1980-12-17  0.088951  0.115513  0.116071  0.115513  0.115513   86441600\n",
      "4      1980-12-18  0.091530  0.118862  0.119420  0.118862  0.118862   73449600\n"
     ]
    },
    {
     "name": "stderr",
     "output_type": "stream",
     "text": [
      "\n"
     ]
    }
   ],
   "source": [
    "import pandas as pd\n",
    "\n",
    "# Fetch data with yfinance\n",
    "def fetch_historical_data(symbol, start_date=\"1970-01-01\"):\n",
    "    \"\"\"\n",
    "    Fetch historical stock data using yfinance.\n",
    "\n",
    "    Parameters:\n",
    "    - symbol (str): Stock ticker symbol (e.g., 'AAPL').\n",
    "    - start_date (str): Start date for data (format 'YYYY-MM-DD').\n",
    "\n",
    "    Returns:\n",
    "    - pd.DataFrame: DataFrame containing historical data with the 'Date' column.\n",
    "    \"\"\"\n",
    "    try:\n",
    "        print(f\"Fetching historical data for {symbol}...\")\n",
    "        data = yf.download(symbol, start=start_date)\n",
    "\n",
    "        # Ensure 'Date' column is properly set\n",
    "        if not data.empty:\n",
    "            data.reset_index(inplace=True)  # Ensure 'Date' is a column, not the index\n",
    "            print(f\"Fetched {len(data)} rows of data.\")\n",
    "        else:\n",
    "            print(\"No data found!\")\n",
    "\n",
    "        return data\n",
    "    except Exception as e:\n",
    "        print(f\"Error: {e}\")\n",
    "        return pd.DataFrame()\n",
    "\n",
    "# Example usage\n",
    "if __name__ == \"__main__\":\n",
    "    stock_symbol = \"AAPL\"  # Replace with desired stock symbol\n",
    "    historical_data = fetch_historical_data(stock_symbol)\n",
    "\n",
    "    if not historical_data.empty:\n",
    "        # Save data to a CSV file\n",
    "        historical_data.to_csv(f\"Data Historical/{stock_symbol}_data.csv\", index=False)\n",
    "        print(historical_data.head())  # Display the first few rows\n"
   ]
  },
  {
   "cell_type": "code",
   "execution_count": 4,
   "id": "a2ea3ec1-cb34-474b-8f43-4ab884f2a564",
   "metadata": {
    "execution": {
     "iopub.execute_input": "2025-01-24T17:08:50.429375Z",
     "iopub.status.busy": "2025-01-24T17:08:50.428926Z",
     "iopub.status.idle": "2025-01-24T17:08:50.441993Z",
     "shell.execute_reply": "2025-01-24T17:08:50.441288Z"
    },
    "papermill": {
     "duration": 0.016138,
     "end_time": "2025-01-24T17:08:50.442991",
     "exception": false,
     "start_time": "2025-01-24T17:08:50.426853",
     "status": "completed"
    },
    "tags": []
   },
   "outputs": [
    {
     "data": {
      "text/html": [
       "<div>\n",
       "<style scoped>\n",
       "    .dataframe tbody tr th:only-of-type {\n",
       "        vertical-align: middle;\n",
       "    }\n",
       "\n",
       "    .dataframe tbody tr th {\n",
       "        vertical-align: top;\n",
       "    }\n",
       "\n",
       "    .dataframe thead tr th {\n",
       "        text-align: left;\n",
       "    }\n",
       "</style>\n",
       "<table border=\"1\" class=\"dataframe\">\n",
       "  <thead>\n",
       "    <tr>\n",
       "      <th>Price</th>\n",
       "      <th>Date</th>\n",
       "      <th>Adj Close</th>\n",
       "      <th>Close</th>\n",
       "      <th>High</th>\n",
       "      <th>Low</th>\n",
       "      <th>Open</th>\n",
       "      <th>Volume</th>\n",
       "    </tr>\n",
       "    <tr>\n",
       "      <th>Ticker</th>\n",
       "      <th></th>\n",
       "      <th>AAPL</th>\n",
       "      <th>AAPL</th>\n",
       "      <th>AAPL</th>\n",
       "      <th>AAPL</th>\n",
       "      <th>AAPL</th>\n",
       "      <th>AAPL</th>\n",
       "    </tr>\n",
       "  </thead>\n",
       "  <tbody>\n",
       "    <tr>\n",
       "      <th>11110</th>\n",
       "      <td>2025-01-10</td>\n",
       "      <td>236.850006</td>\n",
       "      <td>236.850006</td>\n",
       "      <td>240.160004</td>\n",
       "      <td>233.000000</td>\n",
       "      <td>240.009995</td>\n",
       "      <td>61710900</td>\n",
       "    </tr>\n",
       "    <tr>\n",
       "      <th>11111</th>\n",
       "      <td>2025-01-13</td>\n",
       "      <td>234.399994</td>\n",
       "      <td>234.399994</td>\n",
       "      <td>234.669998</td>\n",
       "      <td>229.720001</td>\n",
       "      <td>233.529999</td>\n",
       "      <td>49630700</td>\n",
       "    </tr>\n",
       "    <tr>\n",
       "      <th>11112</th>\n",
       "      <td>2025-01-14</td>\n",
       "      <td>233.279999</td>\n",
       "      <td>233.279999</td>\n",
       "      <td>236.119995</td>\n",
       "      <td>232.470001</td>\n",
       "      <td>234.750000</td>\n",
       "      <td>39435300</td>\n",
       "    </tr>\n",
       "    <tr>\n",
       "      <th>11113</th>\n",
       "      <td>2025-01-15</td>\n",
       "      <td>237.869995</td>\n",
       "      <td>237.869995</td>\n",
       "      <td>238.960007</td>\n",
       "      <td>234.429993</td>\n",
       "      <td>234.639999</td>\n",
       "      <td>39832000</td>\n",
       "    </tr>\n",
       "    <tr>\n",
       "      <th>11114</th>\n",
       "      <td>2025-01-16</td>\n",
       "      <td>228.259995</td>\n",
       "      <td>228.259995</td>\n",
       "      <td>238.009995</td>\n",
       "      <td>228.029999</td>\n",
       "      <td>237.350006</td>\n",
       "      <td>71759100</td>\n",
       "    </tr>\n",
       "    <tr>\n",
       "      <th>11115</th>\n",
       "      <td>2025-01-17</td>\n",
       "      <td>229.979996</td>\n",
       "      <td>229.979996</td>\n",
       "      <td>232.289993</td>\n",
       "      <td>228.479996</td>\n",
       "      <td>232.119995</td>\n",
       "      <td>68488300</td>\n",
       "    </tr>\n",
       "    <tr>\n",
       "      <th>11116</th>\n",
       "      <td>2025-01-21</td>\n",
       "      <td>222.639999</td>\n",
       "      <td>222.639999</td>\n",
       "      <td>224.419998</td>\n",
       "      <td>219.380005</td>\n",
       "      <td>224.000000</td>\n",
       "      <td>98070400</td>\n",
       "    </tr>\n",
       "    <tr>\n",
       "      <th>11117</th>\n",
       "      <td>2025-01-22</td>\n",
       "      <td>223.830002</td>\n",
       "      <td>223.830002</td>\n",
       "      <td>224.119995</td>\n",
       "      <td>219.789993</td>\n",
       "      <td>219.789993</td>\n",
       "      <td>64126500</td>\n",
       "    </tr>\n",
       "    <tr>\n",
       "      <th>11118</th>\n",
       "      <td>2025-01-23</td>\n",
       "      <td>223.660004</td>\n",
       "      <td>223.660004</td>\n",
       "      <td>227.029999</td>\n",
       "      <td>222.300003</td>\n",
       "      <td>224.740005</td>\n",
       "      <td>60178200</td>\n",
       "    </tr>\n",
       "    <tr>\n",
       "      <th>11119</th>\n",
       "      <td>2025-01-24</td>\n",
       "      <td>222.779999</td>\n",
       "      <td>222.779999</td>\n",
       "      <td>225.630005</td>\n",
       "      <td>222.350098</td>\n",
       "      <td>224.975006</td>\n",
       "      <td>24824447</td>\n",
       "    </tr>\n",
       "  </tbody>\n",
       "</table>\n",
       "</div>"
      ],
      "text/plain": [
       "Price        Date   Adj Close       Close        High         Low        Open  \\\n",
       "Ticker                   AAPL        AAPL        AAPL        AAPL        AAPL   \n",
       "11110  2025-01-10  236.850006  236.850006  240.160004  233.000000  240.009995   \n",
       "11111  2025-01-13  234.399994  234.399994  234.669998  229.720001  233.529999   \n",
       "11112  2025-01-14  233.279999  233.279999  236.119995  232.470001  234.750000   \n",
       "11113  2025-01-15  237.869995  237.869995  238.960007  234.429993  234.639999   \n",
       "11114  2025-01-16  228.259995  228.259995  238.009995  228.029999  237.350006   \n",
       "11115  2025-01-17  229.979996  229.979996  232.289993  228.479996  232.119995   \n",
       "11116  2025-01-21  222.639999  222.639999  224.419998  219.380005  224.000000   \n",
       "11117  2025-01-22  223.830002  223.830002  224.119995  219.789993  219.789993   \n",
       "11118  2025-01-23  223.660004  223.660004  227.029999  222.300003  224.740005   \n",
       "11119  2025-01-24  222.779999  222.779999  225.630005  222.350098  224.975006   \n",
       "\n",
       "Price     Volume  \n",
       "Ticker      AAPL  \n",
       "11110   61710900  \n",
       "11111   49630700  \n",
       "11112   39435300  \n",
       "11113   39832000  \n",
       "11114   71759100  \n",
       "11115   68488300  \n",
       "11116   98070400  \n",
       "11117   64126500  \n",
       "11118   60178200  \n",
       "11119   24824447  "
      ]
     },
     "execution_count": 4,
     "metadata": {},
     "output_type": "execute_result"
    }
   ],
   "source": [
    "historical_data.tail(10)"
   ]
  }
 ],
 "metadata": {
  "kernelspec": {
   "display_name": "Python (Project M1)",
   "language": "python",
   "name": "project_m1"
  },
  "language_info": {
   "codemirror_mode": {
    "name": "ipython",
    "version": 3
   },
   "file_extension": ".py",
   "mimetype": "text/x-python",
   "name": "python",
   "nbconvert_exporter": "python",
   "pygments_lexer": "ipython3",
   "version": "3.10.12"
  },
  "papermill": {
   "default_parameters": {},
   "duration": 3.287941,
   "end_time": "2025-01-24T17:08:50.661857",
   "environment_variables": {},
   "exception": null,
   "input_path": "get_any_data_from_finance_yahoo.ipynb",
   "output_path": "output_get_any_data_from_finance_yahoo.ipynb",
   "parameters": {},
   "start_time": "2025-01-24T17:08:47.373916",
   "version": "2.6.0"
  },
  "widgets": {
   "application/vnd.jupyter.widget-state+json": {
    "state": {},
    "version_major": 2,
    "version_minor": 0
   }
  }
 },
 "nbformat": 4,
 "nbformat_minor": 5
}