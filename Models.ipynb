{
 "cells": [
  {
   "cell_type": "code",
   "execution_count": 24,
   "id": "7defd947-4413-45eb-9840-684326309e28",
   "metadata": {},
   "outputs": [],
   "source": [
    "import pandas as pd\n",
    "import numpy as np\n",
    "from sklearn.model_selection import train_test_split, cross_val_score\n",
    "from sklearn.metrics import confusion_matrix, classification_report, accuracy_score\n",
    "from sklearn.ensemble import RandomForestClassifier\n",
    "import optuna\n",
    "import matplotlib.pyplot as plt\n",
    "import seaborn as sns"
   ]
  },
  {
   "cell_type": "code",
   "execution_count": 25,
   "id": "d226ede7-86b6-4551-9d67-27d29d4cc70a",
   "metadata": {},
   "outputs": [
    {
     "name": "stdout",
     "output_type": "stream",
     "text": [
      "C:\\Users\\PC\\Desktop\\ml_project\\venv\\Scripts\\python.exe\n"
     ]
    }
   ],
   "source": [
    "import sys\n",
    "print(sys.executable)\n"
   ]
  },
  {
   "cell_type": "code",
   "execution_count": 26,
   "id": "a64079bc-df81-42a9-9fe9-bc3bdf817f87",
   "metadata": {},
   "outputs": [
    {
     "data": {
      "text/plain": [
       "Index(['Date', 'Close', 'High', 'Low', 'Open', 'Volume', 'RSI_14', 'RSI_30',\n",
       "       'RSI_200', 'MOM_10', 'MOM_30', 'MACD_12_26_9', 'MACDh_12_26_9',\n",
       "       'MACDs_12_26_9', 'PROC_9', 'EMA_10', 'EMA_30', 'Pct_Change',\n",
       "       'Log_Returns', 'Volatility_10', 'Volatility_30', 'Future_Close',\n",
       "       'Price_Change', 'Signal'],\n",
       "      dtype='object')"
      ]
     },
     "execution_count": 26,
     "metadata": {},
     "output_type": "execute_result"
    }
   ],
   "source": [
    "data= pd.read_csv('final_data.csv')\n",
    "data.columns"
   ]
  },
  {
   "cell_type": "markdown",
   "id": "84877f02-3635-4060-80a2-ab8965d80aab",
   "metadata": {},
   "source": [
    "## Split Data into Training and Testing Sets"
   ]
  },
  {
   "cell_type": "code",
   "execution_count": 27,
   "id": "b64eab87-e62c-4c06-9c16-aea0377ea26c",
   "metadata": {},
   "outputs": [],
   "source": [
    "# Define the list of features\n",
    "features = ['RSI_14', 'RSI_30', 'RSI_200', 'MOM_10', 'MOM_30', \n",
    "            'MACD_12_26_9', 'MACDh_12_26_9', 'MACDs_12_26_9', \n",
    "            'PROC_9', 'EMA_10', 'EMA_30', 'Pct_Change', 'Log_Returns', \n",
    "            'Volatility_10', 'Volatility_30']\n",
    "\n",
    "# Define the features (X)\n",
    "X = data[features]\n",
    "\n",
    "# Define the target variable (y)\n",
    "y = data['Signal']\n"
   ]
  },
  {
   "cell_type": "code",
   "execution_count": 28,
   "id": "764f3556-b6d4-4e8d-a0d2-023b6c64e3e1",
   "metadata": {},
   "outputs": [],
   "source": [
    "y = y.replace({2: 1})  # Replace '2' with '1'\n"
   ]
  },
  {
   "cell_type": "code",
   "execution_count": 29,
   "id": "287f183f-77ef-4528-8e26-163ee96df9f1",
   "metadata": {},
   "outputs": [],
   "source": [
    "from sklearn.model_selection import train_test_split\n",
    "\n",
    "# Split data into 80% training and 20% testing\n",
    "X_train, X_test, y_train, y_test = train_test_split(X, y, test_size=0.2, random_state=42, shuffle=False)"
   ]
  },
  {
   "cell_type": "markdown",
   "id": "ff5b9bde-2867-4d84-b924-c86b3475da87",
   "metadata": {},
   "source": [
    "##  Feature Scaling\n"
   ]
  },
  {
   "cell_type": "code",
   "execution_count": 30,
   "id": "43a7a935-ab07-4d2e-b26e-400dc2bb1fa5",
   "metadata": {},
   "outputs": [],
   "source": [
    "from sklearn.preprocessing import StandardScaler\n",
    "\n",
    "# Initialize scaler\n",
    "scaler = StandardScaler()\n",
    "\n",
    "# Fit and transform training data\n",
    "X_train_scaled = scaler.fit_transform(X_train)\n",
    "\n",
    "# Transform testing data\n",
    "X_test_scaled = scaler.transform(X_test)"
   ]
  },
  {
   "cell_type": "code",
   "execution_count": 31,
   "id": "0b773c76-a0d7-454b-9371-eeddd6c9fe4f",
   "metadata": {},
   "outputs": [
    {
     "name": "stdout",
     "output_type": "stream",
     "text": [
      "X_train_scaled shape: (8748, 15)\n",
      "y_train shape: (8748,)\n"
     ]
    }
   ],
   "source": [
    "print(\"X_train_scaled shape:\", X_train_scaled.shape)\n",
    "print(\"y_train shape:\", y_train.shape)"
   ]
  },
  {
   "cell_type": "markdown",
   "id": "4cc69a4b-af05-4bec-9b28-48ced7ac273b",
   "metadata": {},
   "source": [
    "## LightGboost"
   ]
  },
  {
   "cell_type": "code",
   "execution_count": 32,
   "id": "c6df8cce-3a48-424a-961c-8242e2f6a538",
   "metadata": {},
   "outputs": [
    {
     "name": "stdout",
     "output_type": "stream",
     "text": [
      "True\n"
     ]
    }
   ],
   "source": [
    "from lightgbm import LGBMClassifier\n",
    "from sklearn.base import is_classifier\n",
    "\n",
    "# Initialize LightGBM model\n",
    "model = LGBMClassifier(n_estimators=100, learning_rate=0.1, random_state=42)\n",
    "\n",
    "# Check if the model is a classifier\n",
    "print(is_classifier(model))  # Should return True"
   ]
  },
  {
   "cell_type": "code",
   "execution_count": 33,
   "id": "f3098907-9170-479a-90fd-ac3d7a4f620f",
   "metadata": {},
   "outputs": [
    {
     "name": "stdout",
     "output_type": "stream",
     "text": [
      "[LightGBM] [Info] Number of positive: 5371, number of negative: 1627\n",
      "[LightGBM] [Info] Auto-choosing col-wise multi-threading, the overhead of testing was 0.002486 seconds.\n",
      "You can set `force_col_wise=true` to remove the overhead.\n",
      "[LightGBM] [Info] Total Bins 3825\n",
      "[LightGBM] [Info] Number of data points in the train set: 6998, number of used features: 15\n",
      "[LightGBM] [Info] Number of positive: 5371, number of negative: 1627\n",
      "[LightGBM] [Info] Auto-choosing col-wise multi-threading, the overhead of testing was 0.001233 seconds.\n",
      "You can set `force_col_wise=true` to remove the overhead.\n",
      "[LightGBM] [Info] Total Bins 3825\n",
      "[LightGBM] [Info] Number of data points in the train set: 6998, number of used features: 15\n",
      "[LightGBM] [Info] Number of positive: 5371, number of negative: 1627\n",
      "[LightGBM] [Info] Auto-choosing col-wise multi-threading, the overhead of testing was 0.000893 seconds.\n",
      "You can set `force_col_wise=true` to remove the overhead.\n",
      "[LightGBM] [Info] Total Bins 3825\n",
      "[LightGBM] [Info] Number of data points in the train set: 6998, number of used features: 15\n",
      "[LightGBM] [Info] Number of positive: 5371, number of negative: 1628\n",
      "[LightGBM] [Info] Auto-choosing col-wise multi-threading, the overhead of testing was 0.001271 seconds.\n",
      "You can set `force_col_wise=true` to remove the overhead.\n",
      "[LightGBM] [Info] Total Bins 3825\n",
      "[LightGBM] [Info] Number of data points in the train set: 6999, number of used features: 15\n",
      "[LightGBM] [Info] Number of positive: 5372, number of negative: 1627\n",
      "[LightGBM] [Info] Auto-choosing col-wise multi-threading, the overhead of testing was 0.001794 seconds.\n",
      "You can set `force_col_wise=true` to remove the overhead.\n",
      "[LightGBM] [Info] Total Bins 3825\n",
      "[LightGBM] [Info] Number of data points in the train set: 6999, number of used features: 15\n",
      "[LightGBM] [Info] [binary:BoostFromScore]: pavg=0.767505 -> initscore=1.194276\n",
      "[LightGBM] [Info] Start training from score 1.194276\n",
      "[LightGBM] [Info] [binary:BoostFromScore]: pavg=0.767505 -> initscore=1.194276\n",
      "[LightGBM] [Info] Start training from score 1.194276\n",
      "[LightGBM] [Info] [binary:BoostFromScore]: pavg=0.767505 -> initscore=1.194276\n",
      "[LightGBM] [Info] Start training from score 1.194276\n",
      "[LightGBM] [Info] [binary:BoostFromScore]: pavg=0.767395 -> initscore=1.193662\n",
      "[LightGBM] [Info] Start training from score 1.193662\n",
      "[LightGBM] [Info] [binary:BoostFromScore]: pavg=0.767538 -> initscore=1.194462\n",
      "[LightGBM] [Info] Start training from score 1.194462\n",
      "Cross-Validation Binary Logloss: 0.41783970720549013\n",
      "[LightGBM] [Info] Number of positive: 6714, number of negative: 2034\n",
      "[LightGBM] [Info] Auto-choosing col-wise multi-threading, the overhead of testing was 0.001533 seconds.\n",
      "You can set `force_col_wise=true` to remove the overhead.\n",
      "[LightGBM] [Info] Total Bins 3825\n",
      "[LightGBM] [Info] Number of data points in the train set: 8748, number of used features: 15\n",
      "[LightGBM] [Info] [binary:BoostFromScore]: pavg=0.767490 -> initscore=1.194191\n",
      "[LightGBM] [Info] Start training from score 1.194191\n",
      "Accuracy on Test Data: 0.81672760511883\n"
     ]
    },
    {
     "name": "stderr",
     "output_type": "stream",
     "text": [
      "C:\\Users\\PC\\Desktop\\ml_project\\venv\\lib\\site-packages\\sklearn\\utils\\validation.py:2739: UserWarning: X does not have valid feature names, but LGBMClassifier was fitted with feature names\n",
      "  warnings.warn(\n"
     ]
    }
   ],
   "source": [
    "import lightgbm as lgb\n",
    "import numpy as np\n",
    "from sklearn.model_selection import train_test_split\n",
    "from sklearn.preprocessing import StandardScaler\n",
    "\n",
    "# Step 1: Prepare the data\n",
    "X_train, X_test, y_train, y_test = train_test_split(X, y, test_size=0.2, random_state=42)\n",
    "\n",
    "# Step 2: Scale the features\n",
    "scaler = StandardScaler()\n",
    "X_train_scaled = scaler.fit_transform(X_train)\n",
    "X_test_scaled = scaler.transform(X_test)\n",
    "\n",
    "# Step 3: Perform cross-validation\n",
    "cv_results = lgb.cv(\n",
    "    params={\n",
    "        'objective': 'binary',\n",
    "        'metric': 'binary_logloss'  # Use binary_logloss \n",
    "    },\n",
    "    train_set=lgb.Dataset(X_train_scaled, label=y_train),\n",
    "    num_boost_round=100,\n",
    "    nfold=5,\n",
    "    stratified=True,\n",
    "    shuffle=True\n",
    ")\n",
    "\n",
    "# Step 4: Get binary log loss\n",
    "if 'valid binary_logloss-mean' in cv_results:\n",
    "    binary_logloss_mean = np.mean(cv_results['valid binary_logloss-mean'])\n",
    "    print(\"Cross-Validation Binary Logloss:\", binary_logloss_mean)\n",
    "else:\n",
    "    print(\"'valid binary_logloss-mean' not found in cv_results.\")\n",
    "\n",
    "# If you want to calculate accuracy manually, train the model separately\n",
    "final_model = lgb.LGBMClassifier(objective='binary', random_state=42)\n",
    "final_model.fit(X_train_scaled, y_train)\n",
    "\n",
    "# Make predictions\n",
    "y_pred = final_model.predict(X_test_scaled)\n",
    "\n",
    "# Calculate accuracy\n",
    "from sklearn.metrics import accuracy_score\n",
    "accuracy = accuracy_score(y_test, y_pred)\n",
    "print(\"Accuracy on Test Data:\", accuracy)\n"
   ]
  },
  {
   "cell_type": "markdown",
   "id": "929df5cf-a75c-4725-9e4b-5c52a0432a15",
   "metadata": {},
   "source": [
    "## Hyperparameter"
   ]
  },
  {
   "cell_type": "code",
   "execution_count": 34,
   "id": "0d045aa1-54b9-463b-868a-5215f52a0c9b",
   "metadata": {},
   "outputs": [
    {
     "name": "stdout",
     "output_type": "stream",
     "text": [
      "[LightGBM] [Info] Number of positive: 5371, number of negative: 1627\n",
      "[LightGBM] [Info] Auto-choosing col-wise multi-threading, the overhead of testing was 0.000682 seconds.\n",
      "You can set `force_col_wise=true` to remove the overhead.\n",
      "[LightGBM] [Info] Total Bins 3825\n",
      "[LightGBM] [Info] Number of data points in the train set: 6998, number of used features: 15\n",
      "[LightGBM] [Info] [binary:BoostFromScore]: pavg=0.767505 -> initscore=1.194276\n",
      "[LightGBM] [Info] Start training from score 1.194276\n"
     ]
    },
    {
     "name": "stderr",
     "output_type": "stream",
     "text": [
      "C:\\Users\\PC\\Desktop\\ml_project\\venv\\lib\\site-packages\\sklearn\\utils\\validation.py:2739: UserWarning: X does not have valid feature names, but LGBMClassifier was fitted with feature names\n",
      "  warnings.warn(\n"
     ]
    },
    {
     "name": "stdout",
     "output_type": "stream",
     "text": [
      "[LightGBM] [Info] Number of positive: 5371, number of negative: 1627\n",
      "[LightGBM] [Info] Auto-choosing col-wise multi-threading, the overhead of testing was 0.000956 seconds.\n",
      "You can set `force_col_wise=true` to remove the overhead.\n",
      "[LightGBM] [Info] Total Bins 3825\n",
      "[LightGBM] [Info] Number of data points in the train set: 6998, number of used features: 15\n",
      "[LightGBM] [Info] [binary:BoostFromScore]: pavg=0.767505 -> initscore=1.194276\n",
      "[LightGBM] [Info] Start training from score 1.194276\n"
     ]
    },
    {
     "name": "stderr",
     "output_type": "stream",
     "text": [
      "C:\\Users\\PC\\Desktop\\ml_project\\venv\\lib\\site-packages\\sklearn\\utils\\validation.py:2739: UserWarning: X does not have valid feature names, but LGBMClassifier was fitted with feature names\n",
      "  warnings.warn(\n"
     ]
    },
    {
     "name": "stdout",
     "output_type": "stream",
     "text": [
      "[LightGBM] [Info] Number of positive: 5371, number of negative: 1627\n",
      "[LightGBM] [Info] Auto-choosing col-wise multi-threading, the overhead of testing was 0.001102 seconds.\n",
      "You can set `force_col_wise=true` to remove the overhead.\n",
      "[LightGBM] [Info] Total Bins 3825\n",
      "[LightGBM] [Info] Number of data points in the train set: 6998, number of used features: 15\n",
      "[LightGBM] [Info] [binary:BoostFromScore]: pavg=0.767505 -> initscore=1.194276\n",
      "[LightGBM] [Info] Start training from score 1.194276\n"
     ]
    },
    {
     "name": "stderr",
     "output_type": "stream",
     "text": [
      "C:\\Users\\PC\\Desktop\\ml_project\\venv\\lib\\site-packages\\sklearn\\utils\\validation.py:2739: UserWarning: X does not have valid feature names, but LGBMClassifier was fitted with feature names\n",
      "  warnings.warn(\n"
     ]
    },
    {
     "name": "stdout",
     "output_type": "stream",
     "text": [
      "[LightGBM] [Info] Number of positive: 5371, number of negative: 1628\n",
      "[LightGBM] [Info] Auto-choosing col-wise multi-threading, the overhead of testing was 0.000900 seconds.\n",
      "You can set `force_col_wise=true` to remove the overhead.\n",
      "[LightGBM] [Info] Total Bins 3825\n",
      "[LightGBM] [Info] Number of data points in the train set: 6999, number of used features: 15\n",
      "[LightGBM] [Info] [binary:BoostFromScore]: pavg=0.767395 -> initscore=1.193662\n",
      "[LightGBM] [Info] Start training from score 1.193662\n"
     ]
    },
    {
     "name": "stderr",
     "output_type": "stream",
     "text": [
      "C:\\Users\\PC\\Desktop\\ml_project\\venv\\lib\\site-packages\\sklearn\\utils\\validation.py:2739: UserWarning: X does not have valid feature names, but LGBMClassifier was fitted with feature names\n",
      "  warnings.warn(\n"
     ]
    },
    {
     "name": "stdout",
     "output_type": "stream",
     "text": [
      "[LightGBM] [Info] Number of positive: 5372, number of negative: 1627\n",
      "[LightGBM] [Info] Auto-choosing col-wise multi-threading, the overhead of testing was 0.001231 seconds.\n",
      "You can set `force_col_wise=true` to remove the overhead.\n",
      "[LightGBM] [Info] Total Bins 3825\n",
      "[LightGBM] [Info] Number of data points in the train set: 6999, number of used features: 15\n",
      "[LightGBM] [Info] [binary:BoostFromScore]: pavg=0.767538 -> initscore=1.194462\n",
      "[LightGBM] [Info] Start training from score 1.194462\n"
     ]
    },
    {
     "name": "stderr",
     "output_type": "stream",
     "text": [
      "C:\\Users\\PC\\Desktop\\ml_project\\venv\\lib\\site-packages\\sklearn\\utils\\validation.py:2739: UserWarning: X does not have valid feature names, but LGBMClassifier was fitted with feature names\n",
      "  warnings.warn(\n"
     ]
    },
    {
     "name": "stdout",
     "output_type": "stream",
     "text": [
      "[LightGBM] [Info] Number of positive: 5371, number of negative: 1627\n",
      "[LightGBM] [Info] Auto-choosing col-wise multi-threading, the overhead of testing was 0.000918 seconds.\n",
      "You can set `force_col_wise=true` to remove the overhead.\n",
      "[LightGBM] [Info] Total Bins 3825\n",
      "[LightGBM] [Info] Number of data points in the train set: 6998, number of used features: 15\n",
      "[LightGBM] [Info] [binary:BoostFromScore]: pavg=0.767505 -> initscore=1.194276\n",
      "[LightGBM] [Info] Start training from score 1.194276\n"
     ]
    },
    {
     "name": "stderr",
     "output_type": "stream",
     "text": [
      "C:\\Users\\PC\\Desktop\\ml_project\\venv\\lib\\site-packages\\sklearn\\utils\\validation.py:2739: UserWarning: X does not have valid feature names, but LGBMClassifier was fitted with feature names\n",
      "  warnings.warn(\n"
     ]
    },
    {
     "name": "stdout",
     "output_type": "stream",
     "text": [
      "[LightGBM] [Info] Number of positive: 5371, number of negative: 1627\n",
      "[LightGBM] [Info] Auto-choosing col-wise multi-threading, the overhead of testing was 0.002094 seconds.\n",
      "You can set `force_col_wise=true` to remove the overhead.\n",
      "[LightGBM] [Info] Total Bins 3825\n",
      "[LightGBM] [Info] Number of data points in the train set: 6998, number of used features: 15\n",
      "[LightGBM] [Info] [binary:BoostFromScore]: pavg=0.767505 -> initscore=1.194276\n",
      "[LightGBM] [Info] Start training from score 1.194276\n"
     ]
    },
    {
     "name": "stderr",
     "output_type": "stream",
     "text": [
      "C:\\Users\\PC\\Desktop\\ml_project\\venv\\lib\\site-packages\\sklearn\\utils\\validation.py:2739: UserWarning: X does not have valid feature names, but LGBMClassifier was fitted with feature names\n",
      "  warnings.warn(\n"
     ]
    },
    {
     "name": "stdout",
     "output_type": "stream",
     "text": [
      "[LightGBM] [Info] Number of positive: 5371, number of negative: 1627\n",
      "[LightGBM] [Info] Auto-choosing col-wise multi-threading, the overhead of testing was 0.000801 seconds.\n",
      "You can set `force_col_wise=true` to remove the overhead.\n",
      "[LightGBM] [Info] Total Bins 3825\n",
      "[LightGBM] [Info] Number of data points in the train set: 6998, number of used features: 15\n",
      "[LightGBM] [Info] [binary:BoostFromScore]: pavg=0.767505 -> initscore=1.194276\n",
      "[LightGBM] [Info] Start training from score 1.194276\n"
     ]
    },
    {
     "name": "stderr",
     "output_type": "stream",
     "text": [
      "C:\\Users\\PC\\Desktop\\ml_project\\venv\\lib\\site-packages\\sklearn\\utils\\validation.py:2739: UserWarning: X does not have valid feature names, but LGBMClassifier was fitted with feature names\n",
      "  warnings.warn(\n"
     ]
    },
    {
     "name": "stdout",
     "output_type": "stream",
     "text": [
      "[LightGBM] [Info] Number of positive: 5371, number of negative: 1628\n",
      "[LightGBM] [Info] Auto-choosing col-wise multi-threading, the overhead of testing was 0.000658 seconds.\n",
      "You can set `force_col_wise=true` to remove the overhead.\n",
      "[LightGBM] [Info] Total Bins 3825\n",
      "[LightGBM] [Info] Number of data points in the train set: 6999, number of used features: 15\n",
      "[LightGBM] [Info] [binary:BoostFromScore]: pavg=0.767395 -> initscore=1.193662\n",
      "[LightGBM] [Info] Start training from score 1.193662\n"
     ]
    },
    {
     "name": "stderr",
     "output_type": "stream",
     "text": [
      "C:\\Users\\PC\\Desktop\\ml_project\\venv\\lib\\site-packages\\sklearn\\utils\\validation.py:2739: UserWarning: X does not have valid feature names, but LGBMClassifier was fitted with feature names\n",
      "  warnings.warn(\n"
     ]
    },
    {
     "name": "stdout",
     "output_type": "stream",
     "text": [
      "[LightGBM] [Info] Number of positive: 5372, number of negative: 1627\n",
      "[LightGBM] [Info] Auto-choosing col-wise multi-threading, the overhead of testing was 0.000625 seconds.\n",
      "You can set `force_col_wise=true` to remove the overhead.\n",
      "[LightGBM] [Info] Total Bins 3825\n",
      "[LightGBM] [Info] Number of data points in the train set: 6999, number of used features: 15\n",
      "[LightGBM] [Info] [binary:BoostFromScore]: pavg=0.767538 -> initscore=1.194462\n",
      "[LightGBM] [Info] Start training from score 1.194462\n"
     ]
    },
    {
     "name": "stderr",
     "output_type": "stream",
     "text": [
      "C:\\Users\\PC\\Desktop\\ml_project\\venv\\lib\\site-packages\\sklearn\\utils\\validation.py:2739: UserWarning: X does not have valid feature names, but LGBMClassifier was fitted with feature names\n",
      "  warnings.warn(\n"
     ]
    },
    {
     "name": "stdout",
     "output_type": "stream",
     "text": [
      "[LightGBM] [Info] Number of positive: 5371, number of negative: 1627\n",
      "[LightGBM] [Info] Auto-choosing col-wise multi-threading, the overhead of testing was 0.001128 seconds.\n",
      "You can set `force_col_wise=true` to remove the overhead.\n",
      "[LightGBM] [Info] Total Bins 3825\n",
      "[LightGBM] [Info] Number of data points in the train set: 6998, number of used features: 15\n",
      "[LightGBM] [Info] [binary:BoostFromScore]: pavg=0.767505 -> initscore=1.194276\n",
      "[LightGBM] [Info] Start training from score 1.194276\n"
     ]
    },
    {
     "name": "stderr",
     "output_type": "stream",
     "text": [
      "C:\\Users\\PC\\Desktop\\ml_project\\venv\\lib\\site-packages\\sklearn\\utils\\validation.py:2739: UserWarning: X does not have valid feature names, but LGBMClassifier was fitted with feature names\n",
      "  warnings.warn(\n"
     ]
    },
    {
     "name": "stdout",
     "output_type": "stream",
     "text": [
      "[LightGBM] [Info] Number of positive: 5371, number of negative: 1627\n",
      "[LightGBM] [Info] Auto-choosing col-wise multi-threading, the overhead of testing was 0.015909 seconds.\n",
      "You can set `force_col_wise=true` to remove the overhead.\n",
      "[LightGBM] [Info] Total Bins 3825\n",
      "[LightGBM] [Info] Number of data points in the train set: 6998, number of used features: 15\n",
      "[LightGBM] [Info] [binary:BoostFromScore]: pavg=0.767505 -> initscore=1.194276\n",
      "[LightGBM] [Info] Start training from score 1.194276\n"
     ]
    },
    {
     "name": "stderr",
     "output_type": "stream",
     "text": [
      "C:\\Users\\PC\\Desktop\\ml_project\\venv\\lib\\site-packages\\sklearn\\utils\\validation.py:2739: UserWarning: X does not have valid feature names, but LGBMClassifier was fitted with feature names\n",
      "  warnings.warn(\n"
     ]
    },
    {
     "name": "stdout",
     "output_type": "stream",
     "text": [
      "[LightGBM] [Info] Number of positive: 5371, number of negative: 1627\n",
      "[LightGBM] [Info] Auto-choosing col-wise multi-threading, the overhead of testing was 0.000736 seconds.\n",
      "You can set `force_col_wise=true` to remove the overhead.\n",
      "[LightGBM] [Info] Total Bins 3825\n",
      "[LightGBM] [Info] Number of data points in the train set: 6998, number of used features: 15\n",
      "[LightGBM] [Info] [binary:BoostFromScore]: pavg=0.767505 -> initscore=1.194276\n",
      "[LightGBM] [Info] Start training from score 1.194276\n"
     ]
    },
    {
     "name": "stderr",
     "output_type": "stream",
     "text": [
      "C:\\Users\\PC\\Desktop\\ml_project\\venv\\lib\\site-packages\\sklearn\\utils\\validation.py:2739: UserWarning: X does not have valid feature names, but LGBMClassifier was fitted with feature names\n",
      "  warnings.warn(\n"
     ]
    },
    {
     "name": "stdout",
     "output_type": "stream",
     "text": [
      "[LightGBM] [Info] Number of positive: 5371, number of negative: 1628\n",
      "[LightGBM] [Info] Auto-choosing row-wise multi-threading, the overhead of testing was 0.001393 seconds.\n",
      "You can set `force_row_wise=true` to remove the overhead.\n",
      "And if memory is not enough, you can set `force_col_wise=true`.\n",
      "[LightGBM] [Info] Total Bins 3825\n",
      "[LightGBM] [Info] Number of data points in the train set: 6999, number of used features: 15\n",
      "[LightGBM] [Info] [binary:BoostFromScore]: pavg=0.767395 -> initscore=1.193662\n",
      "[LightGBM] [Info] Start training from score 1.193662\n"
     ]
    },
    {
     "name": "stderr",
     "output_type": "stream",
     "text": [
      "C:\\Users\\PC\\Desktop\\ml_project\\venv\\lib\\site-packages\\sklearn\\utils\\validation.py:2739: UserWarning: X does not have valid feature names, but LGBMClassifier was fitted with feature names\n",
      "  warnings.warn(\n"
     ]
    },
    {
     "name": "stdout",
     "output_type": "stream",
     "text": [
      "[LightGBM] [Info] Number of positive: 5372, number of negative: 1627\n",
      "[LightGBM] [Info] Auto-choosing col-wise multi-threading, the overhead of testing was 0.001034 seconds.\n",
      "You can set `force_col_wise=true` to remove the overhead.\n",
      "[LightGBM] [Info] Total Bins 3825\n",
      "[LightGBM] [Info] Number of data points in the train set: 6999, number of used features: 15\n",
      "[LightGBM] [Info] [binary:BoostFromScore]: pavg=0.767538 -> initscore=1.194462\n",
      "[LightGBM] [Info] Start training from score 1.194462\n"
     ]
    },
    {
     "name": "stderr",
     "output_type": "stream",
     "text": [
      "C:\\Users\\PC\\Desktop\\ml_project\\venv\\lib\\site-packages\\sklearn\\utils\\validation.py:2739: UserWarning: X does not have valid feature names, but LGBMClassifier was fitted with feature names\n",
      "  warnings.warn(\n"
     ]
    },
    {
     "name": "stdout",
     "output_type": "stream",
     "text": [
      "[LightGBM] [Info] Number of positive: 5371, number of negative: 1627\n",
      "[LightGBM] [Info] Auto-choosing col-wise multi-threading, the overhead of testing was 0.002161 seconds.\n",
      "You can set `force_col_wise=true` to remove the overhead.\n",
      "[LightGBM] [Info] Total Bins 3825\n",
      "[LightGBM] [Info] Number of data points in the train set: 6998, number of used features: 15\n",
      "[LightGBM] [Info] [binary:BoostFromScore]: pavg=0.767505 -> initscore=1.194276\n",
      "[LightGBM] [Info] Start training from score 1.194276\n"
     ]
    },
    {
     "name": "stderr",
     "output_type": "stream",
     "text": [
      "C:\\Users\\PC\\Desktop\\ml_project\\venv\\lib\\site-packages\\sklearn\\utils\\validation.py:2739: UserWarning: X does not have valid feature names, but LGBMClassifier was fitted with feature names\n",
      "  warnings.warn(\n"
     ]
    },
    {
     "name": "stdout",
     "output_type": "stream",
     "text": [
      "[LightGBM] [Info] Number of positive: 5371, number of negative: 1627\n",
      "[LightGBM] [Info] Auto-choosing col-wise multi-threading, the overhead of testing was 0.000940 seconds.\n",
      "You can set `force_col_wise=true` to remove the overhead.\n",
      "[LightGBM] [Info] Total Bins 3825\n",
      "[LightGBM] [Info] Number of data points in the train set: 6998, number of used features: 15\n",
      "[LightGBM] [Info] [binary:BoostFromScore]: pavg=0.767505 -> initscore=1.194276\n",
      "[LightGBM] [Info] Start training from score 1.194276\n"
     ]
    },
    {
     "name": "stderr",
     "output_type": "stream",
     "text": [
      "C:\\Users\\PC\\Desktop\\ml_project\\venv\\lib\\site-packages\\sklearn\\utils\\validation.py:2739: UserWarning: X does not have valid feature names, but LGBMClassifier was fitted with feature names\n",
      "  warnings.warn(\n"
     ]
    },
    {
     "name": "stdout",
     "output_type": "stream",
     "text": [
      "[LightGBM] [Info] Number of positive: 5371, number of negative: 1627\n",
      "[LightGBM] [Info] Auto-choosing col-wise multi-threading, the overhead of testing was 0.001119 seconds.\n",
      "You can set `force_col_wise=true` to remove the overhead.\n",
      "[LightGBM] [Info] Total Bins 3825\n",
      "[LightGBM] [Info] Number of data points in the train set: 6998, number of used features: 15\n",
      "[LightGBM] [Info] [binary:BoostFromScore]: pavg=0.767505 -> initscore=1.194276\n",
      "[LightGBM] [Info] Start training from score 1.194276\n"
     ]
    },
    {
     "name": "stderr",
     "output_type": "stream",
     "text": [
      "C:\\Users\\PC\\Desktop\\ml_project\\venv\\lib\\site-packages\\sklearn\\utils\\validation.py:2739: UserWarning: X does not have valid feature names, but LGBMClassifier was fitted with feature names\n",
      "  warnings.warn(\n"
     ]
    },
    {
     "name": "stdout",
     "output_type": "stream",
     "text": [
      "[LightGBM] [Info] Number of positive: 5371, number of negative: 1628\n",
      "[LightGBM] [Info] Auto-choosing col-wise multi-threading, the overhead of testing was 0.000854 seconds.\n",
      "You can set `force_col_wise=true` to remove the overhead.\n",
      "[LightGBM] [Info] Total Bins 3825\n",
      "[LightGBM] [Info] Number of data points in the train set: 6999, number of used features: 15\n",
      "[LightGBM] [Info] [binary:BoostFromScore]: pavg=0.767395 -> initscore=1.193662\n",
      "[LightGBM] [Info] Start training from score 1.193662\n"
     ]
    },
    {
     "name": "stderr",
     "output_type": "stream",
     "text": [
      "C:\\Users\\PC\\Desktop\\ml_project\\venv\\lib\\site-packages\\sklearn\\utils\\validation.py:2739: UserWarning: X does not have valid feature names, but LGBMClassifier was fitted with feature names\n",
      "  warnings.warn(\n"
     ]
    },
    {
     "name": "stdout",
     "output_type": "stream",
     "text": [
      "[LightGBM] [Info] Number of positive: 5372, number of negative: 1627\n",
      "[LightGBM] [Info] Auto-choosing row-wise multi-threading, the overhead of testing was 0.008386 seconds.\n",
      "You can set `force_row_wise=true` to remove the overhead.\n",
      "And if memory is not enough, you can set `force_col_wise=true`.\n",
      "[LightGBM] [Info] Total Bins 3825\n",
      "[LightGBM] [Info] Number of data points in the train set: 6999, number of used features: 15\n",
      "[LightGBM] [Info] [binary:BoostFromScore]: pavg=0.767538 -> initscore=1.194462\n",
      "[LightGBM] [Info] Start training from score 1.194462\n"
     ]
    },
    {
     "name": "stderr",
     "output_type": "stream",
     "text": [
      "C:\\Users\\PC\\Desktop\\ml_project\\venv\\lib\\site-packages\\sklearn\\utils\\validation.py:2739: UserWarning: X does not have valid feature names, but LGBMClassifier was fitted with feature names\n",
      "  warnings.warn(\n"
     ]
    },
    {
     "name": "stdout",
     "output_type": "stream",
     "text": [
      "[LightGBM] [Info] Number of positive: 5371, number of negative: 1627\n",
      "[LightGBM] [Info] Auto-choosing col-wise multi-threading, the overhead of testing was 0.002083 seconds.\n",
      "You can set `force_col_wise=true` to remove the overhead.\n",
      "[LightGBM] [Info] Total Bins 3825\n",
      "[LightGBM] [Info] Number of data points in the train set: 6998, number of used features: 15\n",
      "[LightGBM] [Info] [binary:BoostFromScore]: pavg=0.767505 -> initscore=1.194276\n",
      "[LightGBM] [Info] Start training from score 1.194276\n"
     ]
    },
    {
     "name": "stderr",
     "output_type": "stream",
     "text": [
      "C:\\Users\\PC\\Desktop\\ml_project\\venv\\lib\\site-packages\\sklearn\\utils\\validation.py:2739: UserWarning: X does not have valid feature names, but LGBMClassifier was fitted with feature names\n",
      "  warnings.warn(\n"
     ]
    },
    {
     "name": "stdout",
     "output_type": "stream",
     "text": [
      "[LightGBM] [Info] Number of positive: 5371, number of negative: 1627\n",
      "[LightGBM] [Info] Auto-choosing col-wise multi-threading, the overhead of testing was 0.001218 seconds.\n",
      "You can set `force_col_wise=true` to remove the overhead.\n",
      "[LightGBM] [Info] Total Bins 3825\n",
      "[LightGBM] [Info] Number of data points in the train set: 6998, number of used features: 15\n",
      "[LightGBM] [Info] [binary:BoostFromScore]: pavg=0.767505 -> initscore=1.194276\n",
      "[LightGBM] [Info] Start training from score 1.194276\n"
     ]
    },
    {
     "name": "stderr",
     "output_type": "stream",
     "text": [
      "C:\\Users\\PC\\Desktop\\ml_project\\venv\\lib\\site-packages\\sklearn\\utils\\validation.py:2739: UserWarning: X does not have valid feature names, but LGBMClassifier was fitted with feature names\n",
      "  warnings.warn(\n"
     ]
    },
    {
     "name": "stdout",
     "output_type": "stream",
     "text": [
      "[LightGBM] [Info] Number of positive: 5371, number of negative: 1627\n",
      "[LightGBM] [Info] Auto-choosing col-wise multi-threading, the overhead of testing was 0.001144 seconds.\n",
      "You can set `force_col_wise=true` to remove the overhead.\n",
      "[LightGBM] [Info] Total Bins 3825\n",
      "[LightGBM] [Info] Number of data points in the train set: 6998, number of used features: 15\n",
      "[LightGBM] [Info] [binary:BoostFromScore]: pavg=0.767505 -> initscore=1.194276\n",
      "[LightGBM] [Info] Start training from score 1.194276\n"
     ]
    },
    {
     "name": "stderr",
     "output_type": "stream",
     "text": [
      "C:\\Users\\PC\\Desktop\\ml_project\\venv\\lib\\site-packages\\sklearn\\utils\\validation.py:2739: UserWarning: X does not have valid feature names, but LGBMClassifier was fitted with feature names\n",
      "  warnings.warn(\n"
     ]
    },
    {
     "name": "stdout",
     "output_type": "stream",
     "text": [
      "[LightGBM] [Info] Number of positive: 5371, number of negative: 1628\n",
      "[LightGBM] [Info] Auto-choosing col-wise multi-threading, the overhead of testing was 0.000789 seconds.\n",
      "You can set `force_col_wise=true` to remove the overhead.\n",
      "[LightGBM] [Info] Total Bins 3825\n",
      "[LightGBM] [Info] Number of data points in the train set: 6999, number of used features: 15\n",
      "[LightGBM] [Info] [binary:BoostFromScore]: pavg=0.767395 -> initscore=1.193662\n",
      "[LightGBM] [Info] Start training from score 1.193662\n"
     ]
    },
    {
     "name": "stderr",
     "output_type": "stream",
     "text": [
      "C:\\Users\\PC\\Desktop\\ml_project\\venv\\lib\\site-packages\\sklearn\\utils\\validation.py:2739: UserWarning: X does not have valid feature names, but LGBMClassifier was fitted with feature names\n",
      "  warnings.warn(\n"
     ]
    },
    {
     "name": "stdout",
     "output_type": "stream",
     "text": [
      "[LightGBM] [Info] Number of positive: 5372, number of negative: 1627\n",
      "[LightGBM] [Info] Auto-choosing col-wise multi-threading, the overhead of testing was 0.000885 seconds.\n",
      "You can set `force_col_wise=true` to remove the overhead.\n",
      "[LightGBM] [Info] Total Bins 3825\n",
      "[LightGBM] [Info] Number of data points in the train set: 6999, number of used features: 15\n",
      "[LightGBM] [Info] [binary:BoostFromScore]: pavg=0.767538 -> initscore=1.194462\n",
      "[LightGBM] [Info] Start training from score 1.194462\n"
     ]
    },
    {
     "name": "stderr",
     "output_type": "stream",
     "text": [
      "C:\\Users\\PC\\Desktop\\ml_project\\venv\\lib\\site-packages\\sklearn\\utils\\validation.py:2739: UserWarning: X does not have valid feature names, but LGBMClassifier was fitted with feature names\n",
      "  warnings.warn(\n"
     ]
    },
    {
     "name": "stdout",
     "output_type": "stream",
     "text": [
      "[LightGBM] [Info] Number of positive: 5371, number of negative: 1627\n",
      "[LightGBM] [Info] Auto-choosing col-wise multi-threading, the overhead of testing was 0.001046 seconds.\n",
      "You can set `force_col_wise=true` to remove the overhead.\n",
      "[LightGBM] [Info] Total Bins 3825\n",
      "[LightGBM] [Info] Number of data points in the train set: 6998, number of used features: 15\n",
      "[LightGBM] [Info] [binary:BoostFromScore]: pavg=0.767505 -> initscore=1.194276\n",
      "[LightGBM] [Info] Start training from score 1.194276\n"
     ]
    },
    {
     "name": "stderr",
     "output_type": "stream",
     "text": [
      "C:\\Users\\PC\\Desktop\\ml_project\\venv\\lib\\site-packages\\sklearn\\utils\\validation.py:2739: UserWarning: X does not have valid feature names, but LGBMClassifier was fitted with feature names\n",
      "  warnings.warn(\n"
     ]
    },
    {
     "name": "stdout",
     "output_type": "stream",
     "text": [
      "[LightGBM] [Info] Number of positive: 5371, number of negative: 1627\n",
      "[LightGBM] [Info] Auto-choosing col-wise multi-threading, the overhead of testing was 0.001233 seconds.\n",
      "You can set `force_col_wise=true` to remove the overhead.\n",
      "[LightGBM] [Info] Total Bins 3825\n",
      "[LightGBM] [Info] Number of data points in the train set: 6998, number of used features: 15\n",
      "[LightGBM] [Info] [binary:BoostFromScore]: pavg=0.767505 -> initscore=1.194276\n",
      "[LightGBM] [Info] Start training from score 1.194276\n"
     ]
    },
    {
     "name": "stderr",
     "output_type": "stream",
     "text": [
      "C:\\Users\\PC\\Desktop\\ml_project\\venv\\lib\\site-packages\\sklearn\\utils\\validation.py:2739: UserWarning: X does not have valid feature names, but LGBMClassifier was fitted with feature names\n",
      "  warnings.warn(\n"
     ]
    },
    {
     "name": "stdout",
     "output_type": "stream",
     "text": [
      "[LightGBM] [Info] Number of positive: 5371, number of negative: 1627\n",
      "[LightGBM] [Info] Auto-choosing row-wise multi-threading, the overhead of testing was 0.007708 seconds.\n",
      "You can set `force_row_wise=true` to remove the overhead.\n",
      "And if memory is not enough, you can set `force_col_wise=true`.\n",
      "[LightGBM] [Info] Total Bins 3825\n",
      "[LightGBM] [Info] Number of data points in the train set: 6998, number of used features: 15\n",
      "[LightGBM] [Info] [binary:BoostFromScore]: pavg=0.767505 -> initscore=1.194276\n",
      "[LightGBM] [Info] Start training from score 1.194276\n"
     ]
    },
    {
     "name": "stderr",
     "output_type": "stream",
     "text": [
      "C:\\Users\\PC\\Desktop\\ml_project\\venv\\lib\\site-packages\\sklearn\\utils\\validation.py:2739: UserWarning: X does not have valid feature names, but LGBMClassifier was fitted with feature names\n",
      "  warnings.warn(\n"
     ]
    },
    {
     "name": "stdout",
     "output_type": "stream",
     "text": [
      "[LightGBM] [Info] Number of positive: 5371, number of negative: 1628\n",
      "[LightGBM] [Info] Auto-choosing col-wise multi-threading, the overhead of testing was 0.000990 seconds.\n",
      "You can set `force_col_wise=true` to remove the overhead.\n",
      "[LightGBM] [Info] Total Bins 3825\n",
      "[LightGBM] [Info] Number of data points in the train set: 6999, number of used features: 15\n",
      "[LightGBM] [Info] [binary:BoostFromScore]: pavg=0.767395 -> initscore=1.193662\n",
      "[LightGBM] [Info] Start training from score 1.193662\n"
     ]
    },
    {
     "name": "stderr",
     "output_type": "stream",
     "text": [
      "C:\\Users\\PC\\Desktop\\ml_project\\venv\\lib\\site-packages\\sklearn\\utils\\validation.py:2739: UserWarning: X does not have valid feature names, but LGBMClassifier was fitted with feature names\n",
      "  warnings.warn(\n"
     ]
    },
    {
     "name": "stdout",
     "output_type": "stream",
     "text": [
      "[LightGBM] [Info] Number of positive: 5372, number of negative: 1627\n",
      "[LightGBM] [Info] Auto-choosing col-wise multi-threading, the overhead of testing was 0.001601 seconds.\n",
      "You can set `force_col_wise=true` to remove the overhead.\n",
      "[LightGBM] [Info] Total Bins 3825\n",
      "[LightGBM] [Info] Number of data points in the train set: 6999, number of used features: 15\n",
      "[LightGBM] [Info] [binary:BoostFromScore]: pavg=0.767538 -> initscore=1.194462\n",
      "[LightGBM] [Info] Start training from score 1.194462\n"
     ]
    },
    {
     "name": "stderr",
     "output_type": "stream",
     "text": [
      "C:\\Users\\PC\\Desktop\\ml_project\\venv\\lib\\site-packages\\sklearn\\utils\\validation.py:2739: UserWarning: X does not have valid feature names, but LGBMClassifier was fitted with feature names\n",
      "  warnings.warn(\n"
     ]
    },
    {
     "name": "stdout",
     "output_type": "stream",
     "text": [
      "[LightGBM] [Info] Number of positive: 5371, number of negative: 1627\n",
      "[LightGBM] [Info] Auto-choosing col-wise multi-threading, the overhead of testing was 0.001080 seconds.\n",
      "You can set `force_col_wise=true` to remove the overhead.\n",
      "[LightGBM] [Info] Total Bins 3825\n",
      "[LightGBM] [Info] Number of data points in the train set: 6998, number of used features: 15\n",
      "[LightGBM] [Info] [binary:BoostFromScore]: pavg=0.767505 -> initscore=1.194276\n",
      "[LightGBM] [Info] Start training from score 1.194276\n"
     ]
    },
    {
     "name": "stderr",
     "output_type": "stream",
     "text": [
      "C:\\Users\\PC\\Desktop\\ml_project\\venv\\lib\\site-packages\\sklearn\\utils\\validation.py:2739: UserWarning: X does not have valid feature names, but LGBMClassifier was fitted with feature names\n",
      "  warnings.warn(\n"
     ]
    },
    {
     "name": "stdout",
     "output_type": "stream",
     "text": [
      "[LightGBM] [Info] Number of positive: 5371, number of negative: 1627\n",
      "[LightGBM] [Info] Auto-choosing col-wise multi-threading, the overhead of testing was 0.001333 seconds.\n",
      "You can set `force_col_wise=true` to remove the overhead.\n",
      "[LightGBM] [Info] Total Bins 3825\n",
      "[LightGBM] [Info] Number of data points in the train set: 6998, number of used features: 15\n",
      "[LightGBM] [Info] [binary:BoostFromScore]: pavg=0.767505 -> initscore=1.194276\n",
      "[LightGBM] [Info] Start training from score 1.194276\n"
     ]
    },
    {
     "name": "stderr",
     "output_type": "stream",
     "text": [
      "C:\\Users\\PC\\Desktop\\ml_project\\venv\\lib\\site-packages\\sklearn\\utils\\validation.py:2739: UserWarning: X does not have valid feature names, but LGBMClassifier was fitted with feature names\n",
      "  warnings.warn(\n"
     ]
    },
    {
     "name": "stdout",
     "output_type": "stream",
     "text": [
      "[LightGBM] [Info] Number of positive: 5371, number of negative: 1627\n",
      "[LightGBM] [Info] Auto-choosing col-wise multi-threading, the overhead of testing was 0.001118 seconds.\n",
      "You can set `force_col_wise=true` to remove the overhead.\n",
      "[LightGBM] [Info] Total Bins 3825\n",
      "[LightGBM] [Info] Number of data points in the train set: 6998, number of used features: 15\n",
      "[LightGBM] [Info] [binary:BoostFromScore]: pavg=0.767505 -> initscore=1.194276\n",
      "[LightGBM] [Info] Start training from score 1.194276\n"
     ]
    },
    {
     "name": "stderr",
     "output_type": "stream",
     "text": [
      "C:\\Users\\PC\\Desktop\\ml_project\\venv\\lib\\site-packages\\sklearn\\utils\\validation.py:2739: UserWarning: X does not have valid feature names, but LGBMClassifier was fitted with feature names\n",
      "  warnings.warn(\n"
     ]
    },
    {
     "name": "stdout",
     "output_type": "stream",
     "text": [
      "[LightGBM] [Info] Number of positive: 5371, number of negative: 1628\n",
      "[LightGBM] [Info] Auto-choosing col-wise multi-threading, the overhead of testing was 0.001118 seconds.\n",
      "You can set `force_col_wise=true` to remove the overhead.\n",
      "[LightGBM] [Info] Total Bins 3825\n",
      "[LightGBM] [Info] Number of data points in the train set: 6999, number of used features: 15\n",
      "[LightGBM] [Info] [binary:BoostFromScore]: pavg=0.767395 -> initscore=1.193662\n",
      "[LightGBM] [Info] Start training from score 1.193662\n"
     ]
    },
    {
     "name": "stderr",
     "output_type": "stream",
     "text": [
      "C:\\Users\\PC\\Desktop\\ml_project\\venv\\lib\\site-packages\\sklearn\\utils\\validation.py:2739: UserWarning: X does not have valid feature names, but LGBMClassifier was fitted with feature names\n",
      "  warnings.warn(\n"
     ]
    },
    {
     "name": "stdout",
     "output_type": "stream",
     "text": [
      "[LightGBM] [Info] Number of positive: 5372, number of negative: 1627\n",
      "[LightGBM] [Info] Auto-choosing col-wise multi-threading, the overhead of testing was 0.001713 seconds.\n",
      "You can set `force_col_wise=true` to remove the overhead.\n",
      "[LightGBM] [Info] Total Bins 3825\n",
      "[LightGBM] [Info] Number of data points in the train set: 6999, number of used features: 15\n",
      "[LightGBM] [Info] [binary:BoostFromScore]: pavg=0.767538 -> initscore=1.194462\n",
      "[LightGBM] [Info] Start training from score 1.194462\n"
     ]
    },
    {
     "name": "stderr",
     "output_type": "stream",
     "text": [
      "C:\\Users\\PC\\Desktop\\ml_project\\venv\\lib\\site-packages\\sklearn\\utils\\validation.py:2739: UserWarning: X does not have valid feature names, but LGBMClassifier was fitted with feature names\n",
      "  warnings.warn(\n"
     ]
    },
    {
     "name": "stdout",
     "output_type": "stream",
     "text": [
      "[LightGBM] [Info] Number of positive: 5371, number of negative: 1627\n",
      "[LightGBM] [Info] Auto-choosing col-wise multi-threading, the overhead of testing was 0.001144 seconds.\n",
      "You can set `force_col_wise=true` to remove the overhead.\n",
      "[LightGBM] [Info] Total Bins 3825\n",
      "[LightGBM] [Info] Number of data points in the train set: 6998, number of used features: 15\n",
      "[LightGBM] [Info] [binary:BoostFromScore]: pavg=0.767505 -> initscore=1.194276\n",
      "[LightGBM] [Info] Start training from score 1.194276\n"
     ]
    },
    {
     "name": "stderr",
     "output_type": "stream",
     "text": [
      "C:\\Users\\PC\\Desktop\\ml_project\\venv\\lib\\site-packages\\sklearn\\utils\\validation.py:2739: UserWarning: X does not have valid feature names, but LGBMClassifier was fitted with feature names\n",
      "  warnings.warn(\n"
     ]
    },
    {
     "name": "stdout",
     "output_type": "stream",
     "text": [
      "[LightGBM] [Info] Number of positive: 5371, number of negative: 1627\n",
      "[LightGBM] [Info] Auto-choosing col-wise multi-threading, the overhead of testing was 0.000733 seconds.\n",
      "You can set `force_col_wise=true` to remove the overhead.\n",
      "[LightGBM] [Info] Total Bins 3825\n",
      "[LightGBM] [Info] Number of data points in the train set: 6998, number of used features: 15\n",
      "[LightGBM] [Info] [binary:BoostFromScore]: pavg=0.767505 -> initscore=1.194276\n",
      "[LightGBM] [Info] Start training from score 1.194276\n"
     ]
    },
    {
     "name": "stderr",
     "output_type": "stream",
     "text": [
      "C:\\Users\\PC\\Desktop\\ml_project\\venv\\lib\\site-packages\\sklearn\\utils\\validation.py:2739: UserWarning: X does not have valid feature names, but LGBMClassifier was fitted with feature names\n",
      "  warnings.warn(\n"
     ]
    },
    {
     "name": "stdout",
     "output_type": "stream",
     "text": [
      "[LightGBM] [Info] Number of positive: 5371, number of negative: 1627\n",
      "[LightGBM] [Info] Auto-choosing col-wise multi-threading, the overhead of testing was 0.000726 seconds.\n",
      "You can set `force_col_wise=true` to remove the overhead.\n",
      "[LightGBM] [Info] Total Bins 3825\n",
      "[LightGBM] [Info] Number of data points in the train set: 6998, number of used features: 15\n",
      "[LightGBM] [Info] [binary:BoostFromScore]: pavg=0.767505 -> initscore=1.194276\n",
      "[LightGBM] [Info] Start training from score 1.194276\n"
     ]
    },
    {
     "name": "stderr",
     "output_type": "stream",
     "text": [
      "C:\\Users\\PC\\Desktop\\ml_project\\venv\\lib\\site-packages\\sklearn\\utils\\validation.py:2739: UserWarning: X does not have valid feature names, but LGBMClassifier was fitted with feature names\n",
      "  warnings.warn(\n"
     ]
    },
    {
     "name": "stdout",
     "output_type": "stream",
     "text": [
      "[LightGBM] [Info] Number of positive: 5371, number of negative: 1628\n",
      "[LightGBM] [Info] Auto-choosing col-wise multi-threading, the overhead of testing was 0.001153 seconds.\n",
      "You can set `force_col_wise=true` to remove the overhead.\n",
      "[LightGBM] [Info] Total Bins 3825\n",
      "[LightGBM] [Info] Number of data points in the train set: 6999, number of used features: 15\n",
      "[LightGBM] [Info] [binary:BoostFromScore]: pavg=0.767395 -> initscore=1.193662\n",
      "[LightGBM] [Info] Start training from score 1.193662\n"
     ]
    },
    {
     "name": "stderr",
     "output_type": "stream",
     "text": [
      "C:\\Users\\PC\\Desktop\\ml_project\\venv\\lib\\site-packages\\sklearn\\utils\\validation.py:2739: UserWarning: X does not have valid feature names, but LGBMClassifier was fitted with feature names\n",
      "  warnings.warn(\n"
     ]
    },
    {
     "name": "stdout",
     "output_type": "stream",
     "text": [
      "[LightGBM] [Info] Number of positive: 5372, number of negative: 1627\n",
      "[LightGBM] [Info] Auto-choosing col-wise multi-threading, the overhead of testing was 0.001042 seconds.\n",
      "You can set `force_col_wise=true` to remove the overhead.\n",
      "[LightGBM] [Info] Total Bins 3825\n",
      "[LightGBM] [Info] Number of data points in the train set: 6999, number of used features: 15\n",
      "[LightGBM] [Info] [binary:BoostFromScore]: pavg=0.767538 -> initscore=1.194462\n",
      "[LightGBM] [Info] Start training from score 1.194462\n"
     ]
    },
    {
     "name": "stderr",
     "output_type": "stream",
     "text": [
      "C:\\Users\\PC\\Desktop\\ml_project\\venv\\lib\\site-packages\\sklearn\\utils\\validation.py:2739: UserWarning: X does not have valid feature names, but LGBMClassifier was fitted with feature names\n",
      "  warnings.warn(\n"
     ]
    },
    {
     "name": "stdout",
     "output_type": "stream",
     "text": [
      "[LightGBM] [Info] Number of positive: 5371, number of negative: 1627\n",
      "[LightGBM] [Info] Auto-choosing col-wise multi-threading, the overhead of testing was 0.000902 seconds.\n",
      "You can set `force_col_wise=true` to remove the overhead.\n",
      "[LightGBM] [Info] Total Bins 3825\n",
      "[LightGBM] [Info] Number of data points in the train set: 6998, number of used features: 15\n",
      "[LightGBM] [Info] [binary:BoostFromScore]: pavg=0.767505 -> initscore=1.194276\n",
      "[LightGBM] [Info] Start training from score 1.194276\n"
     ]
    },
    {
     "name": "stderr",
     "output_type": "stream",
     "text": [
      "C:\\Users\\PC\\Desktop\\ml_project\\venv\\lib\\site-packages\\sklearn\\utils\\validation.py:2739: UserWarning: X does not have valid feature names, but LGBMClassifier was fitted with feature names\n",
      "  warnings.warn(\n"
     ]
    },
    {
     "name": "stdout",
     "output_type": "stream",
     "text": [
      "[LightGBM] [Info] Number of positive: 5371, number of negative: 1627\n",
      "[LightGBM] [Info] Auto-choosing col-wise multi-threading, the overhead of testing was 0.000860 seconds.\n",
      "You can set `force_col_wise=true` to remove the overhead.\n",
      "[LightGBM] [Info] Total Bins 3825\n",
      "[LightGBM] [Info] Number of data points in the train set: 6998, number of used features: 15\n",
      "[LightGBM] [Info] [binary:BoostFromScore]: pavg=0.767505 -> initscore=1.194276\n",
      "[LightGBM] [Info] Start training from score 1.194276\n"
     ]
    },
    {
     "name": "stderr",
     "output_type": "stream",
     "text": [
      "C:\\Users\\PC\\Desktop\\ml_project\\venv\\lib\\site-packages\\sklearn\\utils\\validation.py:2739: UserWarning: X does not have valid feature names, but LGBMClassifier was fitted with feature names\n",
      "  warnings.warn(\n"
     ]
    },
    {
     "name": "stdout",
     "output_type": "stream",
     "text": [
      "[LightGBM] [Info] Number of positive: 5371, number of negative: 1627\n",
      "[LightGBM] [Info] Auto-choosing col-wise multi-threading, the overhead of testing was 0.002141 seconds.\n",
      "You can set `force_col_wise=true` to remove the overhead.\n",
      "[LightGBM] [Info] Total Bins 3825\n",
      "[LightGBM] [Info] Number of data points in the train set: 6998, number of used features: 15\n",
      "[LightGBM] [Info] [binary:BoostFromScore]: pavg=0.767505 -> initscore=1.194276\n",
      "[LightGBM] [Info] Start training from score 1.194276\n"
     ]
    },
    {
     "name": "stderr",
     "output_type": "stream",
     "text": [
      "C:\\Users\\PC\\Desktop\\ml_project\\venv\\lib\\site-packages\\sklearn\\utils\\validation.py:2739: UserWarning: X does not have valid feature names, but LGBMClassifier was fitted with feature names\n",
      "  warnings.warn(\n"
     ]
    },
    {
     "name": "stdout",
     "output_type": "stream",
     "text": [
      "[LightGBM] [Info] Number of positive: 5371, number of negative: 1628\n",
      "[LightGBM] [Info] Auto-choosing col-wise multi-threading, the overhead of testing was 0.000829 seconds.\n",
      "You can set `force_col_wise=true` to remove the overhead.\n",
      "[LightGBM] [Info] Total Bins 3825\n",
      "[LightGBM] [Info] Number of data points in the train set: 6999, number of used features: 15\n",
      "[LightGBM] [Info] [binary:BoostFromScore]: pavg=0.767395 -> initscore=1.193662\n",
      "[LightGBM] [Info] Start training from score 1.193662\n"
     ]
    },
    {
     "name": "stderr",
     "output_type": "stream",
     "text": [
      "C:\\Users\\PC\\Desktop\\ml_project\\venv\\lib\\site-packages\\sklearn\\utils\\validation.py:2739: UserWarning: X does not have valid feature names, but LGBMClassifier was fitted with feature names\n",
      "  warnings.warn(\n"
     ]
    },
    {
     "name": "stdout",
     "output_type": "stream",
     "text": [
      "[LightGBM] [Info] Number of positive: 5372, number of negative: 1627\n",
      "[LightGBM] [Info] Auto-choosing col-wise multi-threading, the overhead of testing was 0.001441 seconds.\n",
      "You can set `force_col_wise=true` to remove the overhead.\n",
      "[LightGBM] [Info] Total Bins 3825\n",
      "[LightGBM] [Info] Number of data points in the train set: 6999, number of used features: 15\n",
      "[LightGBM] [Info] [binary:BoostFromScore]: pavg=0.767538 -> initscore=1.194462\n",
      "[LightGBM] [Info] Start training from score 1.194462\n"
     ]
    },
    {
     "name": "stderr",
     "output_type": "stream",
     "text": [
      "C:\\Users\\PC\\Desktop\\ml_project\\venv\\lib\\site-packages\\sklearn\\utils\\validation.py:2739: UserWarning: X does not have valid feature names, but LGBMClassifier was fitted with feature names\n",
      "  warnings.warn(\n",
      "C:\\Users\\PC\\Desktop\\ml_project\\venv\\lib\\site-packages\\sklearn\\utils\\validation.py:2739: UserWarning: X does not have valid feature names, but LGBMClassifier was fitted with feature names\n",
      "  warnings.warn(\n"
     ]
    },
    {
     "name": "stdout",
     "output_type": "stream",
     "text": [
      "[LightGBM] [Info] Number of positive: 5371, number of negative: 1627\n",
      "[LightGBM] [Info] Auto-choosing col-wise multi-threading, the overhead of testing was 0.000875 seconds.\n",
      "You can set `force_col_wise=true` to remove the overhead.\n",
      "[LightGBM] [Info] Total Bins 3825\n",
      "[LightGBM] [Info] Number of data points in the train set: 6998, number of used features: 15\n",
      "[LightGBM] [Info] [binary:BoostFromScore]: pavg=0.767505 -> initscore=1.194276\n",
      "[LightGBM] [Info] Start training from score 1.194276\n",
      "[LightGBM] [Info] Number of positive: 5371, number of negative: 1627\n",
      "[LightGBM] [Info] Auto-choosing col-wise multi-threading, the overhead of testing was 0.000829 seconds.\n",
      "You can set `force_col_wise=true` to remove the overhead.\n",
      "[LightGBM] [Info] Total Bins 3825\n",
      "[LightGBM] [Info] Number of data points in the train set: 6998, number of used features: 15\n",
      "[LightGBM] [Info] [binary:BoostFromScore]: pavg=0.767505 -> initscore=1.194276\n",
      "[LightGBM] [Info] Start training from score 1.194276\n",
      "[LightGBM] [Info] Number of positive: 5371, number of negative: 1627\n",
      "[LightGBM] [Info] Auto-choosing col-wise multi-threading, the overhead of testing was 0.001894 seconds.\n",
      "You can set `force_col_wise=true` to remove the overhead.\n",
      "[LightGBM] [Info] Total Bins 3825\n",
      "[LightGBM] [Info] Number of data points in the train set: 6998, number of used features: 15\n",
      "[LightGBM] [Info] [binary:BoostFromScore]: pavg=0.767505 -> initscore=1.194276\n",
      "[LightGBM] [Info] Start training from score 1.194276\n"
     ]
    },
    {
     "name": "stderr",
     "output_type": "stream",
     "text": [
      "C:\\Users\\PC\\Desktop\\ml_project\\venv\\lib\\site-packages\\sklearn\\utils\\validation.py:2739: UserWarning: X does not have valid feature names, but LGBMClassifier was fitted with feature names\n",
      "  warnings.warn(\n",
      "C:\\Users\\PC\\Desktop\\ml_project\\venv\\lib\\site-packages\\sklearn\\utils\\validation.py:2739: UserWarning: X does not have valid feature names, but LGBMClassifier was fitted with feature names\n",
      "  warnings.warn(\n"
     ]
    },
    {
     "name": "stdout",
     "output_type": "stream",
     "text": [
      "[LightGBM] [Info] Number of positive: 5371, number of negative: 1628\n",
      "[LightGBM] [Info] Auto-choosing col-wise multi-threading, the overhead of testing was 0.000952 seconds.\n",
      "You can set `force_col_wise=true` to remove the overhead.\n",
      "[LightGBM] [Info] Total Bins 3825\n",
      "[LightGBM] [Info] Number of data points in the train set: 6999, number of used features: 15\n",
      "[LightGBM] [Info] [binary:BoostFromScore]: pavg=0.767395 -> initscore=1.193662\n",
      "[LightGBM] [Info] Start training from score 1.193662\n",
      "[LightGBM] [Info] Number of positive: 5372, number of negative: 1627\n",
      "[LightGBM] [Info] Auto-choosing col-wise multi-threading, the overhead of testing was 0.001157 seconds.\n",
      "You can set `force_col_wise=true` to remove the overhead.\n",
      "[LightGBM] [Info] Total Bins 3825\n",
      "[LightGBM] [Info] Number of data points in the train set: 6999, number of used features: 15\n",
      "[LightGBM] [Info] [binary:BoostFromScore]: pavg=0.767538 -> initscore=1.194462\n",
      "[LightGBM] [Info] Start training from score 1.194462\n"
     ]
    },
    {
     "name": "stderr",
     "output_type": "stream",
     "text": [
      "C:\\Users\\PC\\Desktop\\ml_project\\venv\\lib\\site-packages\\sklearn\\utils\\validation.py:2739: UserWarning: X does not have valid feature names, but LGBMClassifier was fitted with feature names\n",
      "  warnings.warn(\n",
      "C:\\Users\\PC\\Desktop\\ml_project\\venv\\lib\\site-packages\\sklearn\\utils\\validation.py:2739: UserWarning: X does not have valid feature names, but LGBMClassifier was fitted with feature names\n",
      "  warnings.warn(\n"
     ]
    },
    {
     "name": "stdout",
     "output_type": "stream",
     "text": [
      "[LightGBM] [Info] Number of positive: 5371, number of negative: 1627\n",
      "[LightGBM] [Info] Auto-choosing col-wise multi-threading, the overhead of testing was 0.001321 seconds.\n",
      "You can set `force_col_wise=true` to remove the overhead.\n",
      "[LightGBM] [Info] Total Bins 3825\n",
      "[LightGBM] [Info] Number of data points in the train set: 6998, number of used features: 15\n",
      "[LightGBM] [Info] [binary:BoostFromScore]: pavg=0.767505 -> initscore=1.194276\n",
      "[LightGBM] [Info] Start training from score 1.194276\n"
     ]
    },
    {
     "name": "stderr",
     "output_type": "stream",
     "text": [
      "C:\\Users\\PC\\Desktop\\ml_project\\venv\\lib\\site-packages\\sklearn\\utils\\validation.py:2739: UserWarning: X does not have valid feature names, but LGBMClassifier was fitted with feature names\n",
      "  warnings.warn(\n"
     ]
    },
    {
     "name": "stdout",
     "output_type": "stream",
     "text": [
      "[LightGBM] [Info] Number of positive: 5371, number of negative: 1627\n",
      "[LightGBM] [Info] Auto-choosing col-wise multi-threading, the overhead of testing was 0.000858 seconds.\n",
      "You can set `force_col_wise=true` to remove the overhead.\n",
      "[LightGBM] [Info] Total Bins 3825\n",
      "[LightGBM] [Info] Number of data points in the train set: 6998, number of used features: 15\n",
      "[LightGBM] [Info] [binary:BoostFromScore]: pavg=0.767505 -> initscore=1.194276\n",
      "[LightGBM] [Info] Start training from score 1.194276\n"
     ]
    },
    {
     "name": "stderr",
     "output_type": "stream",
     "text": [
      "C:\\Users\\PC\\Desktop\\ml_project\\venv\\lib\\site-packages\\sklearn\\utils\\validation.py:2739: UserWarning: X does not have valid feature names, but LGBMClassifier was fitted with feature names\n",
      "  warnings.warn(\n"
     ]
    },
    {
     "name": "stdout",
     "output_type": "stream",
     "text": [
      "[LightGBM] [Info] Number of positive: 5371, number of negative: 1627\n",
      "[LightGBM] [Info] Auto-choosing col-wise multi-threading, the overhead of testing was 0.001587 seconds.\n",
      "You can set `force_col_wise=true` to remove the overhead.\n",
      "[LightGBM] [Info] Total Bins 3825\n",
      "[LightGBM] [Info] Number of data points in the train set: 6998, number of used features: 15\n",
      "[LightGBM] [Info] [binary:BoostFromScore]: pavg=0.767505 -> initscore=1.194276\n",
      "[LightGBM] [Info] Start training from score 1.194276\n"
     ]
    },
    {
     "name": "stderr",
     "output_type": "stream",
     "text": [
      "C:\\Users\\PC\\Desktop\\ml_project\\venv\\lib\\site-packages\\sklearn\\utils\\validation.py:2739: UserWarning: X does not have valid feature names, but LGBMClassifier was fitted with feature names\n",
      "  warnings.warn(\n"
     ]
    },
    {
     "name": "stdout",
     "output_type": "stream",
     "text": [
      "[LightGBM] [Info] Number of positive: 5371, number of negative: 1628\n",
      "[LightGBM] [Info] Auto-choosing col-wise multi-threading, the overhead of testing was 0.001082 seconds.\n",
      "You can set `force_col_wise=true` to remove the overhead.\n",
      "[LightGBM] [Info] Total Bins 3825\n",
      "[LightGBM] [Info] Number of data points in the train set: 6999, number of used features: 15\n",
      "[LightGBM] [Info] [binary:BoostFromScore]: pavg=0.767395 -> initscore=1.193662\n",
      "[LightGBM] [Info] Start training from score 1.193662\n"
     ]
    },
    {
     "name": "stderr",
     "output_type": "stream",
     "text": [
      "C:\\Users\\PC\\Desktop\\ml_project\\venv\\lib\\site-packages\\sklearn\\utils\\validation.py:2739: UserWarning: X does not have valid feature names, but LGBMClassifier was fitted with feature names\n",
      "  warnings.warn(\n"
     ]
    },
    {
     "name": "stdout",
     "output_type": "stream",
     "text": [
      "[LightGBM] [Info] Number of positive: 5372, number of negative: 1627\n",
      "[LightGBM] [Info] Auto-choosing col-wise multi-threading, the overhead of testing was 0.001396 seconds.\n",
      "You can set `force_col_wise=true` to remove the overhead.\n",
      "[LightGBM] [Info] Total Bins 3825\n",
      "[LightGBM] [Info] Number of data points in the train set: 6999, number of used features: 15\n",
      "[LightGBM] [Info] [binary:BoostFromScore]: pavg=0.767538 -> initscore=1.194462\n",
      "[LightGBM] [Info] Start training from score 1.194462\n"
     ]
    },
    {
     "name": "stderr",
     "output_type": "stream",
     "text": [
      "C:\\Users\\PC\\Desktop\\ml_project\\venv\\lib\\site-packages\\sklearn\\utils\\validation.py:2739: UserWarning: X does not have valid feature names, but LGBMClassifier was fitted with feature names\n",
      "  warnings.warn(\n"
     ]
    },
    {
     "name": "stdout",
     "output_type": "stream",
     "text": [
      "[LightGBM] [Info] Number of positive: 5371, number of negative: 1627\n",
      "[LightGBM] [Info] Auto-choosing col-wise multi-threading, the overhead of testing was 0.000975 seconds.\n",
      "You can set `force_col_wise=true` to remove the overhead.\n",
      "[LightGBM] [Info] Total Bins 3825\n",
      "[LightGBM] [Info] Number of data points in the train set: 6998, number of used features: 15\n",
      "[LightGBM] [Info] [binary:BoostFromScore]: pavg=0.767505 -> initscore=1.194276\n",
      "[LightGBM] [Info] Start training from score 1.194276\n"
     ]
    },
    {
     "name": "stderr",
     "output_type": "stream",
     "text": [
      "C:\\Users\\PC\\Desktop\\ml_project\\venv\\lib\\site-packages\\sklearn\\utils\\validation.py:2739: UserWarning: X does not have valid feature names, but LGBMClassifier was fitted with feature names\n",
      "  warnings.warn(\n"
     ]
    },
    {
     "name": "stdout",
     "output_type": "stream",
     "text": [
      "[LightGBM] [Info] Number of positive: 5371, number of negative: 1627\n",
      "[LightGBM] [Info] Auto-choosing col-wise multi-threading, the overhead of testing was 0.005314 seconds.\n",
      "You can set `force_col_wise=true` to remove the overhead.\n",
      "[LightGBM] [Info] Total Bins 3825\n",
      "[LightGBM] [Info] Number of data points in the train set: 6998, number of used features: 15\n",
      "[LightGBM] [Info] [binary:BoostFromScore]: pavg=0.767505 -> initscore=1.194276\n",
      "[LightGBM] [Info] Start training from score 1.194276\n"
     ]
    },
    {
     "name": "stderr",
     "output_type": "stream",
     "text": [
      "C:\\Users\\PC\\Desktop\\ml_project\\venv\\lib\\site-packages\\sklearn\\utils\\validation.py:2739: UserWarning: X does not have valid feature names, but LGBMClassifier was fitted with feature names\n",
      "  warnings.warn(\n"
     ]
    },
    {
     "name": "stdout",
     "output_type": "stream",
     "text": [
      "[LightGBM] [Info] Number of positive: 5371, number of negative: 1627\n",
      "[LightGBM] [Info] Auto-choosing col-wise multi-threading, the overhead of testing was 0.000665 seconds.\n",
      "You can set `force_col_wise=true` to remove the overhead.\n",
      "[LightGBM] [Info] Total Bins 3825\n",
      "[LightGBM] [Info] Number of data points in the train set: 6998, number of used features: 15\n",
      "[LightGBM] [Info] [binary:BoostFromScore]: pavg=0.767505 -> initscore=1.194276\n",
      "[LightGBM] [Info] Start training from score 1.194276\n"
     ]
    },
    {
     "name": "stderr",
     "output_type": "stream",
     "text": [
      "C:\\Users\\PC\\Desktop\\ml_project\\venv\\lib\\site-packages\\sklearn\\utils\\validation.py:2739: UserWarning: X does not have valid feature names, but LGBMClassifier was fitted with feature names\n",
      "  warnings.warn(\n"
     ]
    },
    {
     "name": "stdout",
     "output_type": "stream",
     "text": [
      "[LightGBM] [Info] Number of positive: 5371, number of negative: 1628\n",
      "[LightGBM] [Info] Auto-choosing col-wise multi-threading, the overhead of testing was 0.001992 seconds.\n",
      "You can set `force_col_wise=true` to remove the overhead.\n",
      "[LightGBM] [Info] Total Bins 3825\n",
      "[LightGBM] [Info] Number of data points in the train set: 6999, number of used features: 15\n",
      "[LightGBM] [Info] [binary:BoostFromScore]: pavg=0.767395 -> initscore=1.193662\n",
      "[LightGBM] [Info] Start training from score 1.193662\n"
     ]
    },
    {
     "name": "stderr",
     "output_type": "stream",
     "text": [
      "C:\\Users\\PC\\Desktop\\ml_project\\venv\\lib\\site-packages\\sklearn\\utils\\validation.py:2739: UserWarning: X does not have valid feature names, but LGBMClassifier was fitted with feature names\n",
      "  warnings.warn(\n"
     ]
    },
    {
     "name": "stdout",
     "output_type": "stream",
     "text": [
      "[LightGBM] [Info] Number of positive: 5372, number of negative: 1627\n",
      "[LightGBM] [Info] Auto-choosing col-wise multi-threading, the overhead of testing was 0.000992 seconds.\n",
      "You can set `force_col_wise=true` to remove the overhead.\n",
      "[LightGBM] [Info] Total Bins 3825\n",
      "[LightGBM] [Info] Number of data points in the train set: 6999, number of used features: 15\n",
      "[LightGBM] [Info] [binary:BoostFromScore]: pavg=0.767538 -> initscore=1.194462\n",
      "[LightGBM] [Info] Start training from score 1.194462\n"
     ]
    },
    {
     "name": "stderr",
     "output_type": "stream",
     "text": [
      "C:\\Users\\PC\\Desktop\\ml_project\\venv\\lib\\site-packages\\sklearn\\utils\\validation.py:2739: UserWarning: X does not have valid feature names, but LGBMClassifier was fitted with feature names\n",
      "  warnings.warn(\n"
     ]
    },
    {
     "name": "stdout",
     "output_type": "stream",
     "text": [
      "[LightGBM] [Info] Number of positive: 5371, number of negative: 1627\n",
      "[LightGBM] [Info] Auto-choosing col-wise multi-threading, the overhead of testing was 0.003081 seconds.\n",
      "You can set `force_col_wise=true` to remove the overhead.\n",
      "[LightGBM] [Info] Total Bins 3825\n",
      "[LightGBM] [Info] Number of data points in the train set: 6998, number of used features: 15\n",
      "[LightGBM] [Info] [binary:BoostFromScore]: pavg=0.767505 -> initscore=1.194276\n",
      "[LightGBM] [Info] Start training from score 1.194276\n"
     ]
    },
    {
     "name": "stderr",
     "output_type": "stream",
     "text": [
      "C:\\Users\\PC\\Desktop\\ml_project\\venv\\lib\\site-packages\\sklearn\\utils\\validation.py:2739: UserWarning: X does not have valid feature names, but LGBMClassifier was fitted with feature names\n",
      "  warnings.warn(\n"
     ]
    },
    {
     "name": "stdout",
     "output_type": "stream",
     "text": [
      "[LightGBM] [Info] Number of positive: 5371, number of negative: 1627\n",
      "[LightGBM] [Info] Auto-choosing col-wise multi-threading, the overhead of testing was 0.000997 seconds.\n",
      "You can set `force_col_wise=true` to remove the overhead.\n",
      "[LightGBM] [Info] Total Bins 3825\n",
      "[LightGBM] [Info] Number of data points in the train set: 6998, number of used features: 15\n",
      "[LightGBM] [Info] [binary:BoostFromScore]: pavg=0.767505 -> initscore=1.194276\n",
      "[LightGBM] [Info] Start training from score 1.194276\n"
     ]
    },
    {
     "name": "stderr",
     "output_type": "stream",
     "text": [
      "C:\\Users\\PC\\Desktop\\ml_project\\venv\\lib\\site-packages\\sklearn\\utils\\validation.py:2739: UserWarning: X does not have valid feature names, but LGBMClassifier was fitted with feature names\n",
      "  warnings.warn(\n"
     ]
    },
    {
     "name": "stdout",
     "output_type": "stream",
     "text": [
      "[LightGBM] [Info] Number of positive: 5371, number of negative: 1627\n",
      "[LightGBM] [Info] Auto-choosing col-wise multi-threading, the overhead of testing was 0.002053 seconds.\n",
      "You can set `force_col_wise=true` to remove the overhead.\n",
      "[LightGBM] [Info] Total Bins 3825\n",
      "[LightGBM] [Info] Number of data points in the train set: 6998, number of used features: 15\n",
      "[LightGBM] [Info] [binary:BoostFromScore]: pavg=0.767505 -> initscore=1.194276\n",
      "[LightGBM] [Info] Start training from score 1.194276\n"
     ]
    },
    {
     "name": "stderr",
     "output_type": "stream",
     "text": [
      "C:\\Users\\PC\\Desktop\\ml_project\\venv\\lib\\site-packages\\sklearn\\utils\\validation.py:2739: UserWarning: X does not have valid feature names, but LGBMClassifier was fitted with feature names\n",
      "  warnings.warn(\n"
     ]
    },
    {
     "name": "stdout",
     "output_type": "stream",
     "text": [
      "[LightGBM] [Info] Number of positive: 5371, number of negative: 1628\n",
      "[LightGBM] [Info] Auto-choosing col-wise multi-threading, the overhead of testing was 0.001674 seconds.\n",
      "You can set `force_col_wise=true` to remove the overhead.\n",
      "[LightGBM] [Info] Total Bins 3825\n",
      "[LightGBM] [Info] Number of data points in the train set: 6999, number of used features: 15\n",
      "[LightGBM] [Info] [binary:BoostFromScore]: pavg=0.767395 -> initscore=1.193662\n",
      "[LightGBM] [Info] Start training from score 1.193662\n"
     ]
    },
    {
     "name": "stderr",
     "output_type": "stream",
     "text": [
      "C:\\Users\\PC\\Desktop\\ml_project\\venv\\lib\\site-packages\\sklearn\\utils\\validation.py:2739: UserWarning: X does not have valid feature names, but LGBMClassifier was fitted with feature names\n",
      "  warnings.warn(\n"
     ]
    },
    {
     "name": "stdout",
     "output_type": "stream",
     "text": [
      "[LightGBM] [Info] Number of positive: 5372, number of negative: 1627\n",
      "[LightGBM] [Info] Auto-choosing col-wise multi-threading, the overhead of testing was 0.000751 seconds.\n",
      "You can set `force_col_wise=true` to remove the overhead.\n",
      "[LightGBM] [Info] Total Bins 3825\n",
      "[LightGBM] [Info] Number of data points in the train set: 6999, number of used features: 15\n",
      "[LightGBM] [Info] [binary:BoostFromScore]: pavg=0.767538 -> initscore=1.194462\n",
      "[LightGBM] [Info] Start training from score 1.194462\n"
     ]
    },
    {
     "name": "stderr",
     "output_type": "stream",
     "text": [
      "C:\\Users\\PC\\Desktop\\ml_project\\venv\\lib\\site-packages\\sklearn\\utils\\validation.py:2739: UserWarning: X does not have valid feature names, but LGBMClassifier was fitted with feature names\n",
      "  warnings.warn(\n"
     ]
    },
    {
     "name": "stdout",
     "output_type": "stream",
     "text": [
      "[LightGBM] [Info] Number of positive: 5371, number of negative: 1627\n",
      "[LightGBM] [Info] Auto-choosing col-wise multi-threading, the overhead of testing was 0.000901 seconds.\n",
      "You can set `force_col_wise=true` to remove the overhead.\n",
      "[LightGBM] [Info] Total Bins 3825\n",
      "[LightGBM] [Info] Number of data points in the train set: 6998, number of used features: 15\n",
      "[LightGBM] [Info] [binary:BoostFromScore]: pavg=0.767505 -> initscore=1.194276\n",
      "[LightGBM] [Info] Start training from score 1.194276\n"
     ]
    },
    {
     "name": "stderr",
     "output_type": "stream",
     "text": [
      "C:\\Users\\PC\\Desktop\\ml_project\\venv\\lib\\site-packages\\sklearn\\utils\\validation.py:2739: UserWarning: X does not have valid feature names, but LGBMClassifier was fitted with feature names\n",
      "  warnings.warn(\n"
     ]
    },
    {
     "name": "stdout",
     "output_type": "stream",
     "text": [
      "[LightGBM] [Info] Number of positive: 5371, number of negative: 1627\n",
      "[LightGBM] [Info] Auto-choosing col-wise multi-threading, the overhead of testing was 0.000875 seconds.\n",
      "You can set `force_col_wise=true` to remove the overhead.\n",
      "[LightGBM] [Info] Total Bins 3825\n",
      "[LightGBM] [Info] Number of data points in the train set: 6998, number of used features: 15\n",
      "[LightGBM] [Info] [binary:BoostFromScore]: pavg=0.767505 -> initscore=1.194276\n",
      "[LightGBM] [Info] Start training from score 1.194276\n"
     ]
    },
    {
     "name": "stderr",
     "output_type": "stream",
     "text": [
      "C:\\Users\\PC\\Desktop\\ml_project\\venv\\lib\\site-packages\\sklearn\\utils\\validation.py:2739: UserWarning: X does not have valid feature names, but LGBMClassifier was fitted with feature names\n",
      "  warnings.warn(\n"
     ]
    },
    {
     "name": "stdout",
     "output_type": "stream",
     "text": [
      "[LightGBM] [Info] Number of positive: 5371, number of negative: 1627\n",
      "[LightGBM] [Info] Auto-choosing col-wise multi-threading, the overhead of testing was 0.001119 seconds.\n",
      "You can set `force_col_wise=true` to remove the overhead.\n",
      "[LightGBM] [Info] Total Bins 3825\n",
      "[LightGBM] [Info] Number of data points in the train set: 6998, number of used features: 15\n",
      "[LightGBM] [Info] [binary:BoostFromScore]: pavg=0.767505 -> initscore=1.194276\n",
      "[LightGBM] [Info] Start training from score 1.194276\n"
     ]
    },
    {
     "name": "stderr",
     "output_type": "stream",
     "text": [
      "C:\\Users\\PC\\Desktop\\ml_project\\venv\\lib\\site-packages\\sklearn\\utils\\validation.py:2739: UserWarning: X does not have valid feature names, but LGBMClassifier was fitted with feature names\n",
      "  warnings.warn(\n"
     ]
    },
    {
     "name": "stdout",
     "output_type": "stream",
     "text": [
      "[LightGBM] [Info] Number of positive: 5371, number of negative: 1628\n",
      "[LightGBM] [Info] Auto-choosing col-wise multi-threading, the overhead of testing was 0.001062 seconds.\n",
      "You can set `force_col_wise=true` to remove the overhead.\n",
      "[LightGBM] [Info] Total Bins 3825\n",
      "[LightGBM] [Info] Number of data points in the train set: 6999, number of used features: 15\n",
      "[LightGBM] [Info] [binary:BoostFromScore]: pavg=0.767395 -> initscore=1.193662\n",
      "[LightGBM] [Info] Start training from score 1.193662\n"
     ]
    },
    {
     "name": "stderr",
     "output_type": "stream",
     "text": [
      "C:\\Users\\PC\\Desktop\\ml_project\\venv\\lib\\site-packages\\sklearn\\utils\\validation.py:2739: UserWarning: X does not have valid feature names, but LGBMClassifier was fitted with feature names\n",
      "  warnings.warn(\n"
     ]
    },
    {
     "name": "stdout",
     "output_type": "stream",
     "text": [
      "[LightGBM] [Info] Number of positive: 5372, number of negative: 1627\n",
      "[LightGBM] [Info] Auto-choosing col-wise multi-threading, the overhead of testing was 0.000872 seconds.\n",
      "You can set `force_col_wise=true` to remove the overhead.\n",
      "[LightGBM] [Info] Total Bins 3825\n",
      "[LightGBM] [Info] Number of data points in the train set: 6999, number of used features: 15\n",
      "[LightGBM] [Info] [binary:BoostFromScore]: pavg=0.767538 -> initscore=1.194462\n",
      "[LightGBM] [Info] Start training from score 1.194462\n"
     ]
    },
    {
     "name": "stderr",
     "output_type": "stream",
     "text": [
      "C:\\Users\\PC\\Desktop\\ml_project\\venv\\lib\\site-packages\\sklearn\\utils\\validation.py:2739: UserWarning: X does not have valid feature names, but LGBMClassifier was fitted with feature names\n",
      "  warnings.warn(\n"
     ]
    },
    {
     "name": "stdout",
     "output_type": "stream",
     "text": [
      "[LightGBM] [Info] Number of positive: 5371, number of negative: 1627\n",
      "[LightGBM] [Info] Auto-choosing col-wise multi-threading, the overhead of testing was 0.001366 seconds.\n",
      "You can set `force_col_wise=true` to remove the overhead.\n",
      "[LightGBM] [Info] Total Bins 3825\n",
      "[LightGBM] [Info] Number of data points in the train set: 6998, number of used features: 15\n",
      "[LightGBM] [Info] [binary:BoostFromScore]: pavg=0.767505 -> initscore=1.194276\n",
      "[LightGBM] [Info] Start training from score 1.194276\n"
     ]
    },
    {
     "name": "stderr",
     "output_type": "stream",
     "text": [
      "C:\\Users\\PC\\Desktop\\ml_project\\venv\\lib\\site-packages\\sklearn\\utils\\validation.py:2739: UserWarning: X does not have valid feature names, but LGBMClassifier was fitted with feature names\n",
      "  warnings.warn(\n"
     ]
    },
    {
     "name": "stdout",
     "output_type": "stream",
     "text": [
      "[LightGBM] [Info] Number of positive: 5371, number of negative: 1627\n",
      "[LightGBM] [Info] Auto-choosing col-wise multi-threading, the overhead of testing was 0.000740 seconds.\n",
      "You can set `force_col_wise=true` to remove the overhead.\n",
      "[LightGBM] [Info] Total Bins 3825\n",
      "[LightGBM] [Info] Number of data points in the train set: 6998, number of used features: 15\n",
      "[LightGBM] [Info] [binary:BoostFromScore]: pavg=0.767505 -> initscore=1.194276\n",
      "[LightGBM] [Info] Start training from score 1.194276\n"
     ]
    },
    {
     "name": "stderr",
     "output_type": "stream",
     "text": [
      "C:\\Users\\PC\\Desktop\\ml_project\\venv\\lib\\site-packages\\sklearn\\utils\\validation.py:2739: UserWarning: X does not have valid feature names, but LGBMClassifier was fitted with feature names\n",
      "  warnings.warn(\n"
     ]
    },
    {
     "name": "stdout",
     "output_type": "stream",
     "text": [
      "[LightGBM] [Info] Number of positive: 5371, number of negative: 1627\n",
      "[LightGBM] [Info] Auto-choosing col-wise multi-threading, the overhead of testing was 0.001380 seconds.\n",
      "You can set `force_col_wise=true` to remove the overhead.\n",
      "[LightGBM] [Info] Total Bins 3825\n",
      "[LightGBM] [Info] Number of data points in the train set: 6998, number of used features: 15\n",
      "[LightGBM] [Info] [binary:BoostFromScore]: pavg=0.767505 -> initscore=1.194276\n",
      "[LightGBM] [Info] Start training from score 1.194276\n"
     ]
    },
    {
     "name": "stderr",
     "output_type": "stream",
     "text": [
      "C:\\Users\\PC\\Desktop\\ml_project\\venv\\lib\\site-packages\\sklearn\\utils\\validation.py:2739: UserWarning: X does not have valid feature names, but LGBMClassifier was fitted with feature names\n",
      "  warnings.warn(\n"
     ]
    },
    {
     "name": "stdout",
     "output_type": "stream",
     "text": [
      "[LightGBM] [Info] Number of positive: 5371, number of negative: 1628\n",
      "[LightGBM] [Info] Auto-choosing col-wise multi-threading, the overhead of testing was 0.001613 seconds.\n",
      "You can set `force_col_wise=true` to remove the overhead.\n",
      "[LightGBM] [Info] Total Bins 3825\n",
      "[LightGBM] [Info] Number of data points in the train set: 6999, number of used features: 15\n",
      "[LightGBM] [Info] [binary:BoostFromScore]: pavg=0.767395 -> initscore=1.193662\n",
      "[LightGBM] [Info] Start training from score 1.193662\n"
     ]
    },
    {
     "name": "stderr",
     "output_type": "stream",
     "text": [
      "C:\\Users\\PC\\Desktop\\ml_project\\venv\\lib\\site-packages\\sklearn\\utils\\validation.py:2739: UserWarning: X does not have valid feature names, but LGBMClassifier was fitted with feature names\n",
      "  warnings.warn(\n"
     ]
    },
    {
     "name": "stdout",
     "output_type": "stream",
     "text": [
      "[LightGBM] [Info] Number of positive: 5372, number of negative: 1627\n",
      "[LightGBM] [Info] Auto-choosing col-wise multi-threading, the overhead of testing was 0.000754 seconds.\n",
      "You can set `force_col_wise=true` to remove the overhead.\n",
      "[LightGBM] [Info] Total Bins 3825\n",
      "[LightGBM] [Info] Number of data points in the train set: 6999, number of used features: 15\n",
      "[LightGBM] [Info] [binary:BoostFromScore]: pavg=0.767538 -> initscore=1.194462\n",
      "[LightGBM] [Info] Start training from score 1.194462\n"
     ]
    },
    {
     "name": "stderr",
     "output_type": "stream",
     "text": [
      "C:\\Users\\PC\\Desktop\\ml_project\\venv\\lib\\site-packages\\sklearn\\utils\\validation.py:2739: UserWarning: X does not have valid feature names, but LGBMClassifier was fitted with feature names\n",
      "  warnings.warn(\n"
     ]
    },
    {
     "name": "stdout",
     "output_type": "stream",
     "text": [
      "[LightGBM] [Info] Number of positive: 5371, number of negative: 1627\n",
      "[LightGBM] [Info] Auto-choosing col-wise multi-threading, the overhead of testing was 0.000849 seconds.\n",
      "You can set `force_col_wise=true` to remove the overhead.\n",
      "[LightGBM] [Info] Total Bins 3825\n",
      "[LightGBM] [Info] Number of data points in the train set: 6998, number of used features: 15\n",
      "[LightGBM] [Info] [binary:BoostFromScore]: pavg=0.767505 -> initscore=1.194276\n",
      "[LightGBM] [Info] Start training from score 1.194276\n"
     ]
    },
    {
     "name": "stderr",
     "output_type": "stream",
     "text": [
      "C:\\Users\\PC\\Desktop\\ml_project\\venv\\lib\\site-packages\\sklearn\\utils\\validation.py:2739: UserWarning: X does not have valid feature names, but LGBMClassifier was fitted with feature names\n",
      "  warnings.warn(\n"
     ]
    },
    {
     "name": "stdout",
     "output_type": "stream",
     "text": [
      "[LightGBM] [Info] Number of positive: 5371, number of negative: 1627\n",
      "[LightGBM] [Info] Auto-choosing col-wise multi-threading, the overhead of testing was 0.001307 seconds.\n",
      "You can set `force_col_wise=true` to remove the overhead.\n",
      "[LightGBM] [Info] Total Bins 3825\n",
      "[LightGBM] [Info] Number of data points in the train set: 6998, number of used features: 15\n",
      "[LightGBM] [Info] [binary:BoostFromScore]: pavg=0.767505 -> initscore=1.194276\n",
      "[LightGBM] [Info] Start training from score 1.194276\n"
     ]
    },
    {
     "name": "stderr",
     "output_type": "stream",
     "text": [
      "C:\\Users\\PC\\Desktop\\ml_project\\venv\\lib\\site-packages\\sklearn\\utils\\validation.py:2739: UserWarning: X does not have valid feature names, but LGBMClassifier was fitted with feature names\n",
      "  warnings.warn(\n"
     ]
    },
    {
     "name": "stdout",
     "output_type": "stream",
     "text": [
      "[LightGBM] [Info] Number of positive: 5371, number of negative: 1627\n",
      "[LightGBM] [Info] Auto-choosing col-wise multi-threading, the overhead of testing was 0.001208 seconds.\n",
      "You can set `force_col_wise=true` to remove the overhead.\n",
      "[LightGBM] [Info] Total Bins 3825\n",
      "[LightGBM] [Info] Number of data points in the train set: 6998, number of used features: 15\n",
      "[LightGBM] [Info] [binary:BoostFromScore]: pavg=0.767505 -> initscore=1.194276\n",
      "[LightGBM] [Info] Start training from score 1.194276\n"
     ]
    },
    {
     "name": "stderr",
     "output_type": "stream",
     "text": [
      "C:\\Users\\PC\\Desktop\\ml_project\\venv\\lib\\site-packages\\sklearn\\utils\\validation.py:2739: UserWarning: X does not have valid feature names, but LGBMClassifier was fitted with feature names\n",
      "  warnings.warn(\n"
     ]
    },
    {
     "name": "stdout",
     "output_type": "stream",
     "text": [
      "[LightGBM] [Info] Number of positive: 5371, number of negative: 1628\n",
      "[LightGBM] [Info] Auto-choosing col-wise multi-threading, the overhead of testing was 0.000837 seconds.\n",
      "You can set `force_col_wise=true` to remove the overhead.\n",
      "[LightGBM] [Info] Total Bins 3825\n",
      "[LightGBM] [Info] Number of data points in the train set: 6999, number of used features: 15\n",
      "[LightGBM] [Info] [binary:BoostFromScore]: pavg=0.767395 -> initscore=1.193662\n",
      "[LightGBM] [Info] Start training from score 1.193662\n"
     ]
    },
    {
     "name": "stderr",
     "output_type": "stream",
     "text": [
      "C:\\Users\\PC\\Desktop\\ml_project\\venv\\lib\\site-packages\\sklearn\\utils\\validation.py:2739: UserWarning: X does not have valid feature names, but LGBMClassifier was fitted with feature names\n",
      "  warnings.warn(\n"
     ]
    },
    {
     "name": "stdout",
     "output_type": "stream",
     "text": [
      "[LightGBM] [Info] Number of positive: 5372, number of negative: 1627\n",
      "[LightGBM] [Info] Auto-choosing col-wise multi-threading, the overhead of testing was 0.001010 seconds.\n",
      "You can set `force_col_wise=true` to remove the overhead.\n",
      "[LightGBM] [Info] Total Bins 3825\n",
      "[LightGBM] [Info] Number of data points in the train set: 6999, number of used features: 15\n",
      "[LightGBM] [Info] [binary:BoostFromScore]: pavg=0.767538 -> initscore=1.194462\n",
      "[LightGBM] [Info] Start training from score 1.194462\n"
     ]
    },
    {
     "name": "stderr",
     "output_type": "stream",
     "text": [
      "C:\\Users\\PC\\Desktop\\ml_project\\venv\\lib\\site-packages\\sklearn\\utils\\validation.py:2739: UserWarning: X does not have valid feature names, but LGBMClassifier was fitted with feature names\n",
      "  warnings.warn(\n"
     ]
    },
    {
     "name": "stdout",
     "output_type": "stream",
     "text": [
      "[LightGBM] [Info] Number of positive: 5371, number of negative: 1627\n",
      "[LightGBM] [Info] Auto-choosing col-wise multi-threading, the overhead of testing was 0.000912 seconds.\n",
      "You can set `force_col_wise=true` to remove the overhead.\n",
      "[LightGBM] [Info] Total Bins 3825\n",
      "[LightGBM] [Info] Number of data points in the train set: 6998, number of used features: 15\n",
      "[LightGBM] [Info] [binary:BoostFromScore]: pavg=0.767505 -> initscore=1.194276\n",
      "[LightGBM] [Info] Start training from score 1.194276\n"
     ]
    },
    {
     "name": "stderr",
     "output_type": "stream",
     "text": [
      "C:\\Users\\PC\\Desktop\\ml_project\\venv\\lib\\site-packages\\sklearn\\utils\\validation.py:2739: UserWarning: X does not have valid feature names, but LGBMClassifier was fitted with feature names\n",
      "  warnings.warn(\n"
     ]
    },
    {
     "name": "stdout",
     "output_type": "stream",
     "text": [
      "[LightGBM] [Info] Number of positive: 5371, number of negative: 1627\n",
      "[LightGBM] [Info] Auto-choosing col-wise multi-threading, the overhead of testing was 0.000827 seconds.\n",
      "You can set `force_col_wise=true` to remove the overhead.\n",
      "[LightGBM] [Info] Total Bins 3825\n",
      "[LightGBM] [Info] Number of data points in the train set: 6998, number of used features: 15\n",
      "[LightGBM] [Info] [binary:BoostFromScore]: pavg=0.767505 -> initscore=1.194276\n",
      "[LightGBM] [Info] Start training from score 1.194276\n"
     ]
    },
    {
     "name": "stderr",
     "output_type": "stream",
     "text": [
      "C:\\Users\\PC\\Desktop\\ml_project\\venv\\lib\\site-packages\\sklearn\\utils\\validation.py:2739: UserWarning: X does not have valid feature names, but LGBMClassifier was fitted with feature names\n",
      "  warnings.warn(\n"
     ]
    },
    {
     "name": "stdout",
     "output_type": "stream",
     "text": [
      "[LightGBM] [Info] Number of positive: 5371, number of negative: 1627\n",
      "[LightGBM] [Info] Auto-choosing col-wise multi-threading, the overhead of testing was 0.002366 seconds.\n",
      "You can set `force_col_wise=true` to remove the overhead.\n",
      "[LightGBM] [Info] Total Bins 3825\n",
      "[LightGBM] [Info] Number of data points in the train set: 6998, number of used features: 15\n",
      "[LightGBM] [Info] [binary:BoostFromScore]: pavg=0.767505 -> initscore=1.194276\n",
      "[LightGBM] [Info] Start training from score 1.194276\n"
     ]
    },
    {
     "name": "stderr",
     "output_type": "stream",
     "text": [
      "C:\\Users\\PC\\Desktop\\ml_project\\venv\\lib\\site-packages\\sklearn\\utils\\validation.py:2739: UserWarning: X does not have valid feature names, but LGBMClassifier was fitted with feature names\n",
      "  warnings.warn(\n"
     ]
    },
    {
     "name": "stdout",
     "output_type": "stream",
     "text": [
      "[LightGBM] [Info] Number of positive: 5371, number of negative: 1628\n",
      "[LightGBM] [Info] Auto-choosing col-wise multi-threading, the overhead of testing was 0.000644 seconds.\n",
      "You can set `force_col_wise=true` to remove the overhead.\n",
      "[LightGBM] [Info] Total Bins 3825\n",
      "[LightGBM] [Info] Number of data points in the train set: 6999, number of used features: 15\n",
      "[LightGBM] [Info] [binary:BoostFromScore]: pavg=0.767395 -> initscore=1.193662\n",
      "[LightGBM] [Info] Start training from score 1.193662\n"
     ]
    },
    {
     "name": "stderr",
     "output_type": "stream",
     "text": [
      "C:\\Users\\PC\\Desktop\\ml_project\\venv\\lib\\site-packages\\sklearn\\utils\\validation.py:2739: UserWarning: X does not have valid feature names, but LGBMClassifier was fitted with feature names\n",
      "  warnings.warn(\n"
     ]
    },
    {
     "name": "stdout",
     "output_type": "stream",
     "text": [
      "[LightGBM] [Info] Number of positive: 5372, number of negative: 1627\n",
      "[LightGBM] [Info] Auto-choosing col-wise multi-threading, the overhead of testing was 0.001268 seconds.\n",
      "You can set `force_col_wise=true` to remove the overhead.\n",
      "[LightGBM] [Info] Total Bins 3825\n",
      "[LightGBM] [Info] Number of data points in the train set: 6999, number of used features: 15\n",
      "[LightGBM] [Info] [binary:BoostFromScore]: pavg=0.767538 -> initscore=1.194462\n",
      "[LightGBM] [Info] Start training from score 1.194462\n"
     ]
    },
    {
     "name": "stderr",
     "output_type": "stream",
     "text": [
      "C:\\Users\\PC\\Desktop\\ml_project\\venv\\lib\\site-packages\\sklearn\\utils\\validation.py:2739: UserWarning: X does not have valid feature names, but LGBMClassifier was fitted with feature names\n",
      "  warnings.warn(\n"
     ]
    },
    {
     "name": "stdout",
     "output_type": "stream",
     "text": [
      "[LightGBM] [Info] Number of positive: 5371, number of negative: 1627\n",
      "[LightGBM] [Info] Auto-choosing col-wise multi-threading, the overhead of testing was 0.000761 seconds.\n",
      "You can set `force_col_wise=true` to remove the overhead.\n",
      "[LightGBM] [Info] Total Bins 3825\n",
      "[LightGBM] [Info] Number of data points in the train set: 6998, number of used features: 15\n",
      "[LightGBM] [Info] [binary:BoostFromScore]: pavg=0.767505 -> initscore=1.194276\n",
      "[LightGBM] [Info] Start training from score 1.194276\n"
     ]
    },
    {
     "name": "stderr",
     "output_type": "stream",
     "text": [
      "C:\\Users\\PC\\Desktop\\ml_project\\venv\\lib\\site-packages\\sklearn\\utils\\validation.py:2739: UserWarning: X does not have valid feature names, but LGBMClassifier was fitted with feature names\n",
      "  warnings.warn(\n"
     ]
    },
    {
     "name": "stdout",
     "output_type": "stream",
     "text": [
      "[LightGBM] [Info] Number of positive: 5371, number of negative: 1627\n",
      "[LightGBM] [Info] Auto-choosing col-wise multi-threading, the overhead of testing was 0.001334 seconds.\n",
      "You can set `force_col_wise=true` to remove the overhead.\n",
      "[LightGBM] [Info] Total Bins 3825\n",
      "[LightGBM] [Info] Number of data points in the train set: 6998, number of used features: 15\n",
      "[LightGBM] [Info] [binary:BoostFromScore]: pavg=0.767505 -> initscore=1.194276\n",
      "[LightGBM] [Info] Start training from score 1.194276\n"
     ]
    },
    {
     "name": "stderr",
     "output_type": "stream",
     "text": [
      "C:\\Users\\PC\\Desktop\\ml_project\\venv\\lib\\site-packages\\sklearn\\utils\\validation.py:2739: UserWarning: X does not have valid feature names, but LGBMClassifier was fitted with feature names\n",
      "  warnings.warn(\n"
     ]
    },
    {
     "name": "stdout",
     "output_type": "stream",
     "text": [
      "[LightGBM] [Info] Number of positive: 5371, number of negative: 1627\n",
      "[LightGBM] [Info] Auto-choosing row-wise multi-threading, the overhead of testing was 0.005265 seconds.\n",
      "You can set `force_row_wise=true` to remove the overhead.\n",
      "And if memory is not enough, you can set `force_col_wise=true`.\n",
      "[LightGBM] [Info] Total Bins 3825\n",
      "[LightGBM] [Info] Number of data points in the train set: 6998, number of used features: 15\n",
      "[LightGBM] [Info] [binary:BoostFromScore]: pavg=0.767505 -> initscore=1.194276\n",
      "[LightGBM] [Info] Start training from score 1.194276\n"
     ]
    },
    {
     "name": "stderr",
     "output_type": "stream",
     "text": [
      "C:\\Users\\PC\\Desktop\\ml_project\\venv\\lib\\site-packages\\sklearn\\utils\\validation.py:2739: UserWarning: X does not have valid feature names, but LGBMClassifier was fitted with feature names\n",
      "  warnings.warn(\n"
     ]
    },
    {
     "name": "stdout",
     "output_type": "stream",
     "text": [
      "[LightGBM] [Info] Number of positive: 5371, number of negative: 1628\n",
      "[LightGBM] [Info] Auto-choosing col-wise multi-threading, the overhead of testing was 0.000685 seconds.\n",
      "You can set `force_col_wise=true` to remove the overhead.\n",
      "[LightGBM] [Info] Total Bins 3825\n",
      "[LightGBM] [Info] Number of data points in the train set: 6999, number of used features: 15\n",
      "[LightGBM] [Info] [binary:BoostFromScore]: pavg=0.767395 -> initscore=1.193662\n",
      "[LightGBM] [Info] Start training from score 1.193662\n"
     ]
    },
    {
     "name": "stderr",
     "output_type": "stream",
     "text": [
      "C:\\Users\\PC\\Desktop\\ml_project\\venv\\lib\\site-packages\\sklearn\\utils\\validation.py:2739: UserWarning: X does not have valid feature names, but LGBMClassifier was fitted with feature names\n",
      "  warnings.warn(\n"
     ]
    },
    {
     "name": "stdout",
     "output_type": "stream",
     "text": [
      "[LightGBM] [Info] Number of positive: 5372, number of negative: 1627\n",
      "[LightGBM] [Info] Auto-choosing row-wise multi-threading, the overhead of testing was 0.001604 seconds.\n",
      "You can set `force_row_wise=true` to remove the overhead.\n",
      "And if memory is not enough, you can set `force_col_wise=true`.\n",
      "[LightGBM] [Info] Total Bins 3825\n",
      "[LightGBM] [Info] Number of data points in the train set: 6999, number of used features: 15\n",
      "[LightGBM] [Info] [binary:BoostFromScore]: pavg=0.767538 -> initscore=1.194462\n",
      "[LightGBM] [Info] Start training from score 1.194462\n"
     ]
    },
    {
     "name": "stderr",
     "output_type": "stream",
     "text": [
      "C:\\Users\\PC\\Desktop\\ml_project\\venv\\lib\\site-packages\\sklearn\\utils\\validation.py:2739: UserWarning: X does not have valid feature names, but LGBMClassifier was fitted with feature names\n",
      "  warnings.warn(\n"
     ]
    },
    {
     "name": "stdout",
     "output_type": "stream",
     "text": [
      "[LightGBM] [Info] Number of positive: 5371, number of negative: 1627\n",
      "[LightGBM] [Info] Auto-choosing col-wise multi-threading, the overhead of testing was 0.001212 seconds.\n",
      "You can set `force_col_wise=true` to remove the overhead.\n",
      "[LightGBM] [Info] Total Bins 3825\n",
      "[LightGBM] [Info] Number of data points in the train set: 6998, number of used features: 15\n",
      "[LightGBM] [Info] [binary:BoostFromScore]: pavg=0.767505 -> initscore=1.194276\n",
      "[LightGBM] [Info] Start training from score 1.194276\n"
     ]
    },
    {
     "name": "stderr",
     "output_type": "stream",
     "text": [
      "C:\\Users\\PC\\Desktop\\ml_project\\venv\\lib\\site-packages\\sklearn\\utils\\validation.py:2739: UserWarning: X does not have valid feature names, but LGBMClassifier was fitted with feature names\n",
      "  warnings.warn(\n"
     ]
    },
    {
     "name": "stdout",
     "output_type": "stream",
     "text": [
      "[LightGBM] [Info] Number of positive: 5371, number of negative: 1627\n",
      "[LightGBM] [Info] Auto-choosing col-wise multi-threading, the overhead of testing was 0.097571 seconds.\n",
      "You can set `force_col_wise=true` to remove the overhead.\n",
      "[LightGBM] [Info] Total Bins 3825\n",
      "[LightGBM] [Info] Number of data points in the train set: 6998, number of used features: 15\n",
      "[LightGBM] [Info] [binary:BoostFromScore]: pavg=0.767505 -> initscore=1.194276\n",
      "[LightGBM] [Info] Start training from score 1.194276\n"
     ]
    },
    {
     "name": "stderr",
     "output_type": "stream",
     "text": [
      "C:\\Users\\PC\\Desktop\\ml_project\\venv\\lib\\site-packages\\sklearn\\utils\\validation.py:2739: UserWarning: X does not have valid feature names, but LGBMClassifier was fitted with feature names\n",
      "  warnings.warn(\n"
     ]
    },
    {
     "name": "stdout",
     "output_type": "stream",
     "text": [
      "[LightGBM] [Info] Number of positive: 5371, number of negative: 1627\n",
      "[LightGBM] [Info] Auto-choosing row-wise multi-threading, the overhead of testing was 0.001685 seconds.\n",
      "You can set `force_row_wise=true` to remove the overhead.\n",
      "And if memory is not enough, you can set `force_col_wise=true`.\n",
      "[LightGBM] [Info] Total Bins 3825\n",
      "[LightGBM] [Info] Number of data points in the train set: 6998, number of used features: 15\n",
      "[LightGBM] [Info] [binary:BoostFromScore]: pavg=0.767505 -> initscore=1.194276\n",
      "[LightGBM] [Info] Start training from score 1.194276\n"
     ]
    },
    {
     "name": "stderr",
     "output_type": "stream",
     "text": [
      "C:\\Users\\PC\\Desktop\\ml_project\\venv\\lib\\site-packages\\sklearn\\utils\\validation.py:2739: UserWarning: X does not have valid feature names, but LGBMClassifier was fitted with feature names\n",
      "  warnings.warn(\n"
     ]
    },
    {
     "name": "stdout",
     "output_type": "stream",
     "text": [
      "[LightGBM] [Info] Number of positive: 5371, number of negative: 1628\n",
      "[LightGBM] [Info] Auto-choosing col-wise multi-threading, the overhead of testing was 0.001049 seconds.\n",
      "You can set `force_col_wise=true` to remove the overhead.\n",
      "[LightGBM] [Info] Total Bins 3825\n",
      "[LightGBM] [Info] Number of data points in the train set: 6999, number of used features: 15\n",
      "[LightGBM] [Info] [binary:BoostFromScore]: pavg=0.767395 -> initscore=1.193662\n",
      "[LightGBM] [Info] Start training from score 1.193662\n"
     ]
    },
    {
     "name": "stderr",
     "output_type": "stream",
     "text": [
      "C:\\Users\\PC\\Desktop\\ml_project\\venv\\lib\\site-packages\\sklearn\\utils\\validation.py:2739: UserWarning: X does not have valid feature names, but LGBMClassifier was fitted with feature names\n",
      "  warnings.warn(\n"
     ]
    },
    {
     "name": "stdout",
     "output_type": "stream",
     "text": [
      "[LightGBM] [Info] Number of positive: 5372, number of negative: 1627\n",
      "[LightGBM] [Info] Auto-choosing col-wise multi-threading, the overhead of testing was 0.002114 seconds.\n",
      "You can set `force_col_wise=true` to remove the overhead.\n",
      "[LightGBM] [Info] Total Bins 3825\n",
      "[LightGBM] [Info] Number of data points in the train set: 6999, number of used features: 15\n",
      "[LightGBM] [Info] [binary:BoostFromScore]: pavg=0.767538 -> initscore=1.194462\n",
      "[LightGBM] [Info] Start training from score 1.194462\n"
     ]
    },
    {
     "name": "stderr",
     "output_type": "stream",
     "text": [
      "C:\\Users\\PC\\Desktop\\ml_project\\venv\\lib\\site-packages\\sklearn\\utils\\validation.py:2739: UserWarning: X does not have valid feature names, but LGBMClassifier was fitted with feature names\n",
      "  warnings.warn(\n"
     ]
    },
    {
     "name": "stdout",
     "output_type": "stream",
     "text": [
      "[LightGBM] [Info] Number of positive: 5371, number of negative: 1627\n",
      "[LightGBM] [Info] Auto-choosing col-wise multi-threading, the overhead of testing was 0.001065 seconds.\n",
      "You can set `force_col_wise=true` to remove the overhead.\n",
      "[LightGBM] [Info] Total Bins 3825\n",
      "[LightGBM] [Info] Number of data points in the train set: 6998, number of used features: 15\n",
      "[LightGBM] [Info] [binary:BoostFromScore]: pavg=0.767505 -> initscore=1.194276\n",
      "[LightGBM] [Info] Start training from score 1.194276\n"
     ]
    },
    {
     "name": "stderr",
     "output_type": "stream",
     "text": [
      "C:\\Users\\PC\\Desktop\\ml_project\\venv\\lib\\site-packages\\sklearn\\utils\\validation.py:2739: UserWarning: X does not have valid feature names, but LGBMClassifier was fitted with feature names\n",
      "  warnings.warn(\n"
     ]
    },
    {
     "name": "stdout",
     "output_type": "stream",
     "text": [
      "[LightGBM] [Info] Number of positive: 5371, number of negative: 1627\n",
      "[LightGBM] [Info] Auto-choosing col-wise multi-threading, the overhead of testing was 0.001460 seconds.\n",
      "You can set `force_col_wise=true` to remove the overhead.\n",
      "[LightGBM] [Info] Total Bins 3825\n",
      "[LightGBM] [Info] Number of data points in the train set: 6998, number of used features: 15\n",
      "[LightGBM] [Info] [binary:BoostFromScore]: pavg=0.767505 -> initscore=1.194276\n",
      "[LightGBM] [Info] Start training from score 1.194276\n"
     ]
    },
    {
     "name": "stderr",
     "output_type": "stream",
     "text": [
      "C:\\Users\\PC\\Desktop\\ml_project\\venv\\lib\\site-packages\\sklearn\\utils\\validation.py:2739: UserWarning: X does not have valid feature names, but LGBMClassifier was fitted with feature names\n",
      "  warnings.warn(\n"
     ]
    },
    {
     "name": "stdout",
     "output_type": "stream",
     "text": [
      "[LightGBM] [Info] Number of positive: 5371, number of negative: 1627\n",
      "[LightGBM] [Info] Auto-choosing col-wise multi-threading, the overhead of testing was 0.003607 seconds.\n",
      "You can set `force_col_wise=true` to remove the overhead.\n",
      "[LightGBM] [Info] Total Bins 3825\n",
      "[LightGBM] [Info] Number of data points in the train set: 6998, number of used features: 15\n",
      "[LightGBM] [Info] [binary:BoostFromScore]: pavg=0.767505 -> initscore=1.194276\n",
      "[LightGBM] [Info] Start training from score 1.194276\n"
     ]
    },
    {
     "name": "stderr",
     "output_type": "stream",
     "text": [
      "C:\\Users\\PC\\Desktop\\ml_project\\venv\\lib\\site-packages\\sklearn\\utils\\validation.py:2739: UserWarning: X does not have valid feature names, but LGBMClassifier was fitted with feature names\n",
      "  warnings.warn(\n"
     ]
    },
    {
     "name": "stdout",
     "output_type": "stream",
     "text": [
      "[LightGBM] [Info] Number of positive: 5371, number of negative: 1628\n",
      "[LightGBM] [Info] Auto-choosing col-wise multi-threading, the overhead of testing was 0.002005 seconds.\n",
      "You can set `force_col_wise=true` to remove the overhead.\n",
      "[LightGBM] [Info] Total Bins 3825\n",
      "[LightGBM] [Info] Number of data points in the train set: 6999, number of used features: 15\n",
      "[LightGBM] [Info] [binary:BoostFromScore]: pavg=0.767395 -> initscore=1.193662\n",
      "[LightGBM] [Info] Start training from score 1.193662\n"
     ]
    },
    {
     "name": "stderr",
     "output_type": "stream",
     "text": [
      "C:\\Users\\PC\\Desktop\\ml_project\\venv\\lib\\site-packages\\sklearn\\utils\\validation.py:2739: UserWarning: X does not have valid feature names, but LGBMClassifier was fitted with feature names\n",
      "  warnings.warn(\n"
     ]
    },
    {
     "name": "stdout",
     "output_type": "stream",
     "text": [
      "[LightGBM] [Info] Number of positive: 5372, number of negative: 1627\n",
      "[LightGBM] [Info] Auto-choosing col-wise multi-threading, the overhead of testing was 0.002418 seconds.\n",
      "You can set `force_col_wise=true` to remove the overhead.\n",
      "[LightGBM] [Info] Total Bins 3825\n",
      "[LightGBM] [Info] Number of data points in the train set: 6999, number of used features: 15\n",
      "[LightGBM] [Info] [binary:BoostFromScore]: pavg=0.767538 -> initscore=1.194462\n",
      "[LightGBM] [Info] Start training from score 1.194462\n"
     ]
    },
    {
     "name": "stderr",
     "output_type": "stream",
     "text": [
      "C:\\Users\\PC\\Desktop\\ml_project\\venv\\lib\\site-packages\\sklearn\\utils\\validation.py:2739: UserWarning: X does not have valid feature names, but LGBMClassifier was fitted with feature names\n",
      "  warnings.warn(\n"
     ]
    },
    {
     "name": "stdout",
     "output_type": "stream",
     "text": [
      "[LightGBM] [Info] Number of positive: 5371, number of negative: 1627\n",
      "[LightGBM] [Info] Auto-choosing col-wise multi-threading, the overhead of testing was 0.001165 seconds.\n",
      "You can set `force_col_wise=true` to remove the overhead.\n",
      "[LightGBM] [Info] Total Bins 3825\n",
      "[LightGBM] [Info] Number of data points in the train set: 6998, number of used features: 15\n",
      "[LightGBM] [Info] [binary:BoostFromScore]: pavg=0.767505 -> initscore=1.194276\n",
      "[LightGBM] [Info] Start training from score 1.194276\n"
     ]
    },
    {
     "name": "stderr",
     "output_type": "stream",
     "text": [
      "C:\\Users\\PC\\Desktop\\ml_project\\venv\\lib\\site-packages\\sklearn\\utils\\validation.py:2739: UserWarning: X does not have valid feature names, but LGBMClassifier was fitted with feature names\n",
      "  warnings.warn(\n"
     ]
    },
    {
     "name": "stdout",
     "output_type": "stream",
     "text": [
      "[LightGBM] [Info] Number of positive: 5371, number of negative: 1627\n",
      "[LightGBM] [Info] Auto-choosing col-wise multi-threading, the overhead of testing was 0.000814 seconds.\n",
      "You can set `force_col_wise=true` to remove the overhead.\n",
      "[LightGBM] [Info] Total Bins 3825\n",
      "[LightGBM] [Info] Number of data points in the train set: 6998, number of used features: 15\n",
      "[LightGBM] [Info] [binary:BoostFromScore]: pavg=0.767505 -> initscore=1.194276\n",
      "[LightGBM] [Info] Start training from score 1.194276\n"
     ]
    },
    {
     "name": "stderr",
     "output_type": "stream",
     "text": [
      "C:\\Users\\PC\\Desktop\\ml_project\\venv\\lib\\site-packages\\sklearn\\utils\\validation.py:2739: UserWarning: X does not have valid feature names, but LGBMClassifier was fitted with feature names\n",
      "  warnings.warn(\n"
     ]
    },
    {
     "name": "stdout",
     "output_type": "stream",
     "text": [
      "[LightGBM] [Info] Number of positive: 5371, number of negative: 1627\n",
      "[LightGBM] [Info] Auto-choosing col-wise multi-threading, the overhead of testing was 0.001491 seconds.\n",
      "You can set `force_col_wise=true` to remove the overhead.\n",
      "[LightGBM] [Info] Total Bins 3825\n",
      "[LightGBM] [Info] Number of data points in the train set: 6998, number of used features: 15\n",
      "[LightGBM] [Info] [binary:BoostFromScore]: pavg=0.767505 -> initscore=1.194276\n",
      "[LightGBM] [Info] Start training from score 1.194276\n"
     ]
    },
    {
     "name": "stderr",
     "output_type": "stream",
     "text": [
      "C:\\Users\\PC\\Desktop\\ml_project\\venv\\lib\\site-packages\\sklearn\\utils\\validation.py:2739: UserWarning: X does not have valid feature names, but LGBMClassifier was fitted with feature names\n",
      "  warnings.warn(\n"
     ]
    },
    {
     "name": "stdout",
     "output_type": "stream",
     "text": [
      "[LightGBM] [Info] Number of positive: 5371, number of negative: 1628\n",
      "[LightGBM] [Info] Auto-choosing col-wise multi-threading, the overhead of testing was 0.011227 seconds.\n",
      "You can set `force_col_wise=true` to remove the overhead.\n",
      "[LightGBM] [Info] Total Bins 3825\n",
      "[LightGBM] [Info] Number of data points in the train set: 6999, number of used features: 15\n",
      "[LightGBM] [Info] [binary:BoostFromScore]: pavg=0.767395 -> initscore=1.193662\n",
      "[LightGBM] [Info] Start training from score 1.193662\n"
     ]
    },
    {
     "name": "stderr",
     "output_type": "stream",
     "text": [
      "C:\\Users\\PC\\Desktop\\ml_project\\venv\\lib\\site-packages\\sklearn\\utils\\validation.py:2739: UserWarning: X does not have valid feature names, but LGBMClassifier was fitted with feature names\n",
      "  warnings.warn(\n"
     ]
    },
    {
     "name": "stdout",
     "output_type": "stream",
     "text": [
      "[LightGBM] [Info] Number of positive: 5372, number of negative: 1627\n",
      "[LightGBM] [Info] Auto-choosing col-wise multi-threading, the overhead of testing was 0.001373 seconds.\n",
      "You can set `force_col_wise=true` to remove the overhead.\n",
      "[LightGBM] [Info] Total Bins 3825\n",
      "[LightGBM] [Info] Number of data points in the train set: 6999, number of used features: 15\n",
      "[LightGBM] [Info] [binary:BoostFromScore]: pavg=0.767538 -> initscore=1.194462\n",
      "[LightGBM] [Info] Start training from score 1.194462\n"
     ]
    },
    {
     "name": "stderr",
     "output_type": "stream",
     "text": [
      "C:\\Users\\PC\\Desktop\\ml_project\\venv\\lib\\site-packages\\sklearn\\utils\\validation.py:2739: UserWarning: X does not have valid feature names, but LGBMClassifier was fitted with feature names\n",
      "  warnings.warn(\n"
     ]
    },
    {
     "name": "stdout",
     "output_type": "stream",
     "text": [
      "[LightGBM] [Info] Number of positive: 5371, number of negative: 1627\n",
      "[LightGBM] [Info] Auto-choosing col-wise multi-threading, the overhead of testing was 0.000789 seconds.\n",
      "You can set `force_col_wise=true` to remove the overhead.\n",
      "[LightGBM] [Info] Total Bins 3825\n",
      "[LightGBM] [Info] Number of data points in the train set: 6998, number of used features: 15\n",
      "[LightGBM] [Info] [binary:BoostFromScore]: pavg=0.767505 -> initscore=1.194276\n",
      "[LightGBM] [Info] Start training from score 1.194276\n"
     ]
    },
    {
     "name": "stderr",
     "output_type": "stream",
     "text": [
      "C:\\Users\\PC\\Desktop\\ml_project\\venv\\lib\\site-packages\\sklearn\\utils\\validation.py:2739: UserWarning: X does not have valid feature names, but LGBMClassifier was fitted with feature names\n",
      "  warnings.warn(\n"
     ]
    },
    {
     "name": "stdout",
     "output_type": "stream",
     "text": [
      "[LightGBM] [Info] Number of positive: 5371, number of negative: 1627\n",
      "[LightGBM] [Info] Auto-choosing col-wise multi-threading, the overhead of testing was 0.000811 seconds.\n",
      "You can set `force_col_wise=true` to remove the overhead.\n",
      "[LightGBM] [Info] Total Bins 3825\n",
      "[LightGBM] [Info] Number of data points in the train set: 6998, number of used features: 15\n",
      "[LightGBM] [Info] [binary:BoostFromScore]: pavg=0.767505 -> initscore=1.194276\n",
      "[LightGBM] [Info] Start training from score 1.194276\n"
     ]
    },
    {
     "name": "stderr",
     "output_type": "stream",
     "text": [
      "C:\\Users\\PC\\Desktop\\ml_project\\venv\\lib\\site-packages\\sklearn\\utils\\validation.py:2739: UserWarning: X does not have valid feature names, but LGBMClassifier was fitted with feature names\n",
      "  warnings.warn(\n"
     ]
    },
    {
     "name": "stdout",
     "output_type": "stream",
     "text": [
      "[LightGBM] [Info] Number of positive: 5371, number of negative: 1627\n",
      "[LightGBM] [Info] Auto-choosing col-wise multi-threading, the overhead of testing was 0.001079 seconds.\n",
      "You can set `force_col_wise=true` to remove the overhead.\n",
      "[LightGBM] [Info] Total Bins 3825\n",
      "[LightGBM] [Info] Number of data points in the train set: 6998, number of used features: 15\n",
      "[LightGBM] [Info] [binary:BoostFromScore]: pavg=0.767505 -> initscore=1.194276\n",
      "[LightGBM] [Info] Start training from score 1.194276\n"
     ]
    },
    {
     "name": "stderr",
     "output_type": "stream",
     "text": [
      "C:\\Users\\PC\\Desktop\\ml_project\\venv\\lib\\site-packages\\sklearn\\utils\\validation.py:2739: UserWarning: X does not have valid feature names, but LGBMClassifier was fitted with feature names\n",
      "  warnings.warn(\n"
     ]
    },
    {
     "name": "stdout",
     "output_type": "stream",
     "text": [
      "[LightGBM] [Info] Number of positive: 5371, number of negative: 1628\n",
      "[LightGBM] [Info] Auto-choosing col-wise multi-threading, the overhead of testing was 0.000930 seconds.\n",
      "You can set `force_col_wise=true` to remove the overhead.\n",
      "[LightGBM] [Info] Total Bins 3825\n",
      "[LightGBM] [Info] Number of data points in the train set: 6999, number of used features: 15\n",
      "[LightGBM] [Info] [binary:BoostFromScore]: pavg=0.767395 -> initscore=1.193662\n",
      "[LightGBM] [Info] Start training from score 1.193662\n"
     ]
    },
    {
     "name": "stderr",
     "output_type": "stream",
     "text": [
      "C:\\Users\\PC\\Desktop\\ml_project\\venv\\lib\\site-packages\\sklearn\\utils\\validation.py:2739: UserWarning: X does not have valid feature names, but LGBMClassifier was fitted with feature names\n",
      "  warnings.warn(\n"
     ]
    },
    {
     "name": "stdout",
     "output_type": "stream",
     "text": [
      "[LightGBM] [Info] Number of positive: 5372, number of negative: 1627\n",
      "[LightGBM] [Info] Auto-choosing col-wise multi-threading, the overhead of testing was 0.001144 seconds.\n",
      "You can set `force_col_wise=true` to remove the overhead.\n",
      "[LightGBM] [Info] Total Bins 3825\n",
      "[LightGBM] [Info] Number of data points in the train set: 6999, number of used features: 15\n",
      "[LightGBM] [Info] [binary:BoostFromScore]: pavg=0.767538 -> initscore=1.194462\n",
      "[LightGBM] [Info] Start training from score 1.194462\n"
     ]
    },
    {
     "name": "stderr",
     "output_type": "stream",
     "text": [
      "C:\\Users\\PC\\Desktop\\ml_project\\venv\\lib\\site-packages\\sklearn\\utils\\validation.py:2739: UserWarning: X does not have valid feature names, but LGBMClassifier was fitted with feature names\n",
      "  warnings.warn(\n"
     ]
    },
    {
     "name": "stdout",
     "output_type": "stream",
     "text": [
      "[LightGBM] [Info] Number of positive: 5371, number of negative: 1627\n",
      "[LightGBM] [Info] Auto-choosing col-wise multi-threading, the overhead of testing was 0.000805 seconds.\n",
      "You can set `force_col_wise=true` to remove the overhead.\n",
      "[LightGBM] [Info] Total Bins 3825\n",
      "[LightGBM] [Info] Number of data points in the train set: 6998, number of used features: 15\n",
      "[LightGBM] [Info] [binary:BoostFromScore]: pavg=0.767505 -> initscore=1.194276\n",
      "[LightGBM] [Info] Start training from score 1.194276\n"
     ]
    },
    {
     "name": "stderr",
     "output_type": "stream",
     "text": [
      "C:\\Users\\PC\\Desktop\\ml_project\\venv\\lib\\site-packages\\sklearn\\utils\\validation.py:2739: UserWarning: X does not have valid feature names, but LGBMClassifier was fitted with feature names\n",
      "  warnings.warn(\n"
     ]
    },
    {
     "name": "stdout",
     "output_type": "stream",
     "text": [
      "[LightGBM] [Info] Number of positive: 5371, number of negative: 1627\n",
      "[LightGBM] [Info] Auto-choosing col-wise multi-threading, the overhead of testing was 0.001035 seconds.\n",
      "You can set `force_col_wise=true` to remove the overhead.\n",
      "[LightGBM] [Info] Total Bins 3825\n",
      "[LightGBM] [Info] Number of data points in the train set: 6998, number of used features: 15\n",
      "[LightGBM] [Info] [binary:BoostFromScore]: pavg=0.767505 -> initscore=1.194276\n",
      "[LightGBM] [Info] Start training from score 1.194276\n"
     ]
    },
    {
     "name": "stderr",
     "output_type": "stream",
     "text": [
      "C:\\Users\\PC\\Desktop\\ml_project\\venv\\lib\\site-packages\\sklearn\\utils\\validation.py:2739: UserWarning: X does not have valid feature names, but LGBMClassifier was fitted with feature names\n",
      "  warnings.warn(\n"
     ]
    },
    {
     "name": "stdout",
     "output_type": "stream",
     "text": [
      "[LightGBM] [Info] Number of positive: 5371, number of negative: 1627\n",
      "[LightGBM] [Info] Auto-choosing col-wise multi-threading, the overhead of testing was 0.000966 seconds.\n",
      "You can set `force_col_wise=true` to remove the overhead.\n",
      "[LightGBM] [Info] Total Bins 3825\n",
      "[LightGBM] [Info] Number of data points in the train set: 6998, number of used features: 15\n",
      "[LightGBM] [Info] [binary:BoostFromScore]: pavg=0.767505 -> initscore=1.194276\n",
      "[LightGBM] [Info] Start training from score 1.194276\n"
     ]
    },
    {
     "name": "stderr",
     "output_type": "stream",
     "text": [
      "C:\\Users\\PC\\Desktop\\ml_project\\venv\\lib\\site-packages\\sklearn\\utils\\validation.py:2739: UserWarning: X does not have valid feature names, but LGBMClassifier was fitted with feature names\n",
      "  warnings.warn(\n"
     ]
    },
    {
     "name": "stdout",
     "output_type": "stream",
     "text": [
      "[LightGBM] [Info] Number of positive: 5371, number of negative: 1628\n",
      "[LightGBM] [Info] Auto-choosing col-wise multi-threading, the overhead of testing was 0.001249 seconds.\n",
      "You can set `force_col_wise=true` to remove the overhead.\n",
      "[LightGBM] [Info] Total Bins 3825\n",
      "[LightGBM] [Info] Number of data points in the train set: 6999, number of used features: 15\n",
      "[LightGBM] [Info] [binary:BoostFromScore]: pavg=0.767395 -> initscore=1.193662\n",
      "[LightGBM] [Info] Start training from score 1.193662\n"
     ]
    },
    {
     "name": "stderr",
     "output_type": "stream",
     "text": [
      "C:\\Users\\PC\\Desktop\\ml_project\\venv\\lib\\site-packages\\sklearn\\utils\\validation.py:2739: UserWarning: X does not have valid feature names, but LGBMClassifier was fitted with feature names\n",
      "  warnings.warn(\n"
     ]
    },
    {
     "name": "stdout",
     "output_type": "stream",
     "text": [
      "[LightGBM] [Info] Number of positive: 5372, number of negative: 1627\n",
      "[LightGBM] [Info] Auto-choosing col-wise multi-threading, the overhead of testing was 0.000957 seconds.\n",
      "You can set `force_col_wise=true` to remove the overhead.\n",
      "[LightGBM] [Info] Total Bins 3825\n",
      "[LightGBM] [Info] Number of data points in the train set: 6999, number of used features: 15\n",
      "[LightGBM] [Info] [binary:BoostFromScore]: pavg=0.767538 -> initscore=1.194462\n",
      "[LightGBM] [Info] Start training from score 1.194462\n"
     ]
    },
    {
     "name": "stderr",
     "output_type": "stream",
     "text": [
      "C:\\Users\\PC\\Desktop\\ml_project\\venv\\lib\\site-packages\\sklearn\\utils\\validation.py:2739: UserWarning: X does not have valid feature names, but LGBMClassifier was fitted with feature names\n",
      "  warnings.warn(\n"
     ]
    },
    {
     "name": "stdout",
     "output_type": "stream",
     "text": [
      "[LightGBM] [Info] Number of positive: 5371, number of negative: 1627\n",
      "[LightGBM] [Info] Auto-choosing col-wise multi-threading, the overhead of testing was 0.001313 seconds.\n",
      "You can set `force_col_wise=true` to remove the overhead.\n",
      "[LightGBM] [Info] Total Bins 3825\n",
      "[LightGBM] [Info] Number of data points in the train set: 6998, number of used features: 15\n",
      "[LightGBM] [Info] [binary:BoostFromScore]: pavg=0.767505 -> initscore=1.194276\n",
      "[LightGBM] [Info] Start training from score 1.194276\n"
     ]
    },
    {
     "name": "stderr",
     "output_type": "stream",
     "text": [
      "C:\\Users\\PC\\Desktop\\ml_project\\venv\\lib\\site-packages\\sklearn\\utils\\validation.py:2739: UserWarning: X does not have valid feature names, but LGBMClassifier was fitted with feature names\n",
      "  warnings.warn(\n"
     ]
    },
    {
     "name": "stdout",
     "output_type": "stream",
     "text": [
      "[LightGBM] [Info] Number of positive: 5371, number of negative: 1627\n",
      "[LightGBM] [Info] Auto-choosing col-wise multi-threading, the overhead of testing was 0.000746 seconds.\n",
      "You can set `force_col_wise=true` to remove the overhead.\n",
      "[LightGBM] [Info] Total Bins 3825\n",
      "[LightGBM] [Info] Number of data points in the train set: 6998, number of used features: 15\n",
      "[LightGBM] [Info] [binary:BoostFromScore]: pavg=0.767505 -> initscore=1.194276\n",
      "[LightGBM] [Info] Start training from score 1.194276\n"
     ]
    },
    {
     "name": "stderr",
     "output_type": "stream",
     "text": [
      "C:\\Users\\PC\\Desktop\\ml_project\\venv\\lib\\site-packages\\sklearn\\utils\\validation.py:2739: UserWarning: X does not have valid feature names, but LGBMClassifier was fitted with feature names\n",
      "  warnings.warn(\n"
     ]
    },
    {
     "name": "stdout",
     "output_type": "stream",
     "text": [
      "[LightGBM] [Info] Number of positive: 5371, number of negative: 1627\n",
      "[LightGBM] [Info] Auto-choosing col-wise multi-threading, the overhead of testing was 0.000795 seconds.\n",
      "You can set `force_col_wise=true` to remove the overhead.\n",
      "[LightGBM] [Info] Total Bins 3825\n",
      "[LightGBM] [Info] Number of data points in the train set: 6998, number of used features: 15\n",
      "[LightGBM] [Info] [binary:BoostFromScore]: pavg=0.767505 -> initscore=1.194276\n",
      "[LightGBM] [Info] Start training from score 1.194276\n"
     ]
    },
    {
     "name": "stderr",
     "output_type": "stream",
     "text": [
      "C:\\Users\\PC\\Desktop\\ml_project\\venv\\lib\\site-packages\\sklearn\\utils\\validation.py:2739: UserWarning: X does not have valid feature names, but LGBMClassifier was fitted with feature names\n",
      "  warnings.warn(\n"
     ]
    },
    {
     "name": "stdout",
     "output_type": "stream",
     "text": [
      "[LightGBM] [Info] Number of positive: 5371, number of negative: 1628\n",
      "[LightGBM] [Info] Auto-choosing col-wise multi-threading, the overhead of testing was 0.001128 seconds.\n",
      "You can set `force_col_wise=true` to remove the overhead.\n",
      "[LightGBM] [Info] Total Bins 3825\n",
      "[LightGBM] [Info] Number of data points in the train set: 6999, number of used features: 15\n",
      "[LightGBM] [Info] [binary:BoostFromScore]: pavg=0.767395 -> initscore=1.193662\n",
      "[LightGBM] [Info] Start training from score 1.193662\n"
     ]
    },
    {
     "name": "stderr",
     "output_type": "stream",
     "text": [
      "C:\\Users\\PC\\Desktop\\ml_project\\venv\\lib\\site-packages\\sklearn\\utils\\validation.py:2739: UserWarning: X does not have valid feature names, but LGBMClassifier was fitted with feature names\n",
      "  warnings.warn(\n"
     ]
    },
    {
     "name": "stdout",
     "output_type": "stream",
     "text": [
      "[LightGBM] [Info] Number of positive: 5372, number of negative: 1627\n",
      "[LightGBM] [Info] Auto-choosing col-wise multi-threading, the overhead of testing was 0.001364 seconds.\n",
      "You can set `force_col_wise=true` to remove the overhead.\n",
      "[LightGBM] [Info] Total Bins 3825\n",
      "[LightGBM] [Info] Number of data points in the train set: 6999, number of used features: 15\n",
      "[LightGBM] [Info] [binary:BoostFromScore]: pavg=0.767538 -> initscore=1.194462\n",
      "[LightGBM] [Info] Start training from score 1.194462\n"
     ]
    },
    {
     "name": "stderr",
     "output_type": "stream",
     "text": [
      "C:\\Users\\PC\\Desktop\\ml_project\\venv\\lib\\site-packages\\sklearn\\utils\\validation.py:2739: UserWarning: X does not have valid feature names, but LGBMClassifier was fitted with feature names\n",
      "  warnings.warn(\n"
     ]
    },
    {
     "name": "stdout",
     "output_type": "stream",
     "text": [
      "[LightGBM] [Info] Number of positive: 5371, number of negative: 1627\n",
      "[LightGBM] [Info] Auto-choosing col-wise multi-threading, the overhead of testing was 0.002048 seconds.\n",
      "You can set `force_col_wise=true` to remove the overhead.\n",
      "[LightGBM] [Info] Total Bins 3825\n",
      "[LightGBM] [Info] Number of data points in the train set: 6998, number of used features: 15\n",
      "[LightGBM] [Info] [binary:BoostFromScore]: pavg=0.767505 -> initscore=1.194276\n",
      "[LightGBM] [Info] Start training from score 1.194276\n"
     ]
    },
    {
     "name": "stderr",
     "output_type": "stream",
     "text": [
      "C:\\Users\\PC\\Desktop\\ml_project\\venv\\lib\\site-packages\\sklearn\\utils\\validation.py:2739: UserWarning: X does not have valid feature names, but LGBMClassifier was fitted with feature names\n",
      "  warnings.warn(\n"
     ]
    },
    {
     "name": "stdout",
     "output_type": "stream",
     "text": [
      "[LightGBM] [Info] Number of positive: 5371, number of negative: 1627\n",
      "[LightGBM] [Info] Auto-choosing col-wise multi-threading, the overhead of testing was 0.000936 seconds.\n",
      "You can set `force_col_wise=true` to remove the overhead.\n",
      "[LightGBM] [Info] Total Bins 3825\n",
      "[LightGBM] [Info] Number of data points in the train set: 6998, number of used features: 15\n",
      "[LightGBM] [Info] [binary:BoostFromScore]: pavg=0.767505 -> initscore=1.194276\n",
      "[LightGBM] [Info] Start training from score 1.194276\n"
     ]
    },
    {
     "name": "stderr",
     "output_type": "stream",
     "text": [
      "C:\\Users\\PC\\Desktop\\ml_project\\venv\\lib\\site-packages\\sklearn\\utils\\validation.py:2739: UserWarning: X does not have valid feature names, but LGBMClassifier was fitted with feature names\n",
      "  warnings.warn(\n"
     ]
    },
    {
     "name": "stdout",
     "output_type": "stream",
     "text": [
      "[LightGBM] [Info] Number of positive: 5371, number of negative: 1627\n",
      "[LightGBM] [Info] Auto-choosing col-wise multi-threading, the overhead of testing was 0.000719 seconds.\n",
      "You can set `force_col_wise=true` to remove the overhead.\n",
      "[LightGBM] [Info] Total Bins 3825\n",
      "[LightGBM] [Info] Number of data points in the train set: 6998, number of used features: 15\n",
      "[LightGBM] [Info] [binary:BoostFromScore]: pavg=0.767505 -> initscore=1.194276\n",
      "[LightGBM] [Info] Start training from score 1.194276\n"
     ]
    },
    {
     "name": "stderr",
     "output_type": "stream",
     "text": [
      "C:\\Users\\PC\\Desktop\\ml_project\\venv\\lib\\site-packages\\sklearn\\utils\\validation.py:2739: UserWarning: X does not have valid feature names, but LGBMClassifier was fitted with feature names\n",
      "  warnings.warn(\n"
     ]
    },
    {
     "name": "stdout",
     "output_type": "stream",
     "text": [
      "[LightGBM] [Info] Number of positive: 5371, number of negative: 1628\n",
      "[LightGBM] [Info] Auto-choosing col-wise multi-threading, the overhead of testing was 0.000740 seconds.\n",
      "You can set `force_col_wise=true` to remove the overhead.\n",
      "[LightGBM] [Info] Total Bins 3825\n",
      "[LightGBM] [Info] Number of data points in the train set: 6999, number of used features: 15\n",
      "[LightGBM] [Info] [binary:BoostFromScore]: pavg=0.767395 -> initscore=1.193662\n",
      "[LightGBM] [Info] Start training from score 1.193662\n"
     ]
    },
    {
     "name": "stderr",
     "output_type": "stream",
     "text": [
      "C:\\Users\\PC\\Desktop\\ml_project\\venv\\lib\\site-packages\\sklearn\\utils\\validation.py:2739: UserWarning: X does not have valid feature names, but LGBMClassifier was fitted with feature names\n",
      "  warnings.warn(\n"
     ]
    },
    {
     "name": "stdout",
     "output_type": "stream",
     "text": [
      "[LightGBM] [Info] Number of positive: 5372, number of negative: 1627\n",
      "[LightGBM] [Info] Auto-choosing col-wise multi-threading, the overhead of testing was 0.001381 seconds.\n",
      "You can set `force_col_wise=true` to remove the overhead.\n",
      "[LightGBM] [Info] Total Bins 3825\n",
      "[LightGBM] [Info] Number of data points in the train set: 6999, number of used features: 15\n",
      "[LightGBM] [Info] [binary:BoostFromScore]: pavg=0.767538 -> initscore=1.194462\n",
      "[LightGBM] [Info] Start training from score 1.194462\n"
     ]
    },
    {
     "name": "stderr",
     "output_type": "stream",
     "text": [
      "C:\\Users\\PC\\Desktop\\ml_project\\venv\\lib\\site-packages\\sklearn\\utils\\validation.py:2739: UserWarning: X does not have valid feature names, but LGBMClassifier was fitted with feature names\n",
      "  warnings.warn(\n"
     ]
    },
    {
     "name": "stdout",
     "output_type": "stream",
     "text": [
      "[LightGBM] [Info] Number of positive: 5371, number of negative: 1627\n",
      "[LightGBM] [Info] Auto-choosing col-wise multi-threading, the overhead of testing was 0.000855 seconds.\n",
      "You can set `force_col_wise=true` to remove the overhead.\n",
      "[LightGBM] [Info] Total Bins 3825\n",
      "[LightGBM] [Info] Number of data points in the train set: 6998, number of used features: 15\n",
      "[LightGBM] [Info] [binary:BoostFromScore]: pavg=0.767505 -> initscore=1.194276\n",
      "[LightGBM] [Info] Start training from score 1.194276\n"
     ]
    },
    {
     "name": "stderr",
     "output_type": "stream",
     "text": [
      "C:\\Users\\PC\\Desktop\\ml_project\\venv\\lib\\site-packages\\sklearn\\utils\\validation.py:2739: UserWarning: X does not have valid feature names, but LGBMClassifier was fitted with feature names\n",
      "  warnings.warn(\n"
     ]
    },
    {
     "name": "stdout",
     "output_type": "stream",
     "text": [
      "[LightGBM] [Info] Number of positive: 5371, number of negative: 1627\n",
      "[LightGBM] [Info] Auto-choosing col-wise multi-threading, the overhead of testing was 0.001389 seconds.\n",
      "You can set `force_col_wise=true` to remove the overhead.\n",
      "[LightGBM] [Info] Total Bins 3825\n",
      "[LightGBM] [Info] Number of data points in the train set: 6998, number of used features: 15\n",
      "[LightGBM] [Info] [binary:BoostFromScore]: pavg=0.767505 -> initscore=1.194276\n",
      "[LightGBM] [Info] Start training from score 1.194276\n"
     ]
    },
    {
     "name": "stderr",
     "output_type": "stream",
     "text": [
      "C:\\Users\\PC\\Desktop\\ml_project\\venv\\lib\\site-packages\\sklearn\\utils\\validation.py:2739: UserWarning: X does not have valid feature names, but LGBMClassifier was fitted with feature names\n",
      "  warnings.warn(\n"
     ]
    },
    {
     "name": "stdout",
     "output_type": "stream",
     "text": [
      "[LightGBM] [Info] Number of positive: 5371, number of negative: 1627\n",
      "[LightGBM] [Info] Auto-choosing col-wise multi-threading, the overhead of testing was 0.001977 seconds.\n",
      "You can set `force_col_wise=true` to remove the overhead.\n",
      "[LightGBM] [Info] Total Bins 3825\n",
      "[LightGBM] [Info] Number of data points in the train set: 6998, number of used features: 15\n",
      "[LightGBM] [Info] [binary:BoostFromScore]: pavg=0.767505 -> initscore=1.194276\n",
      "[LightGBM] [Info] Start training from score 1.194276\n"
     ]
    },
    {
     "name": "stderr",
     "output_type": "stream",
     "text": [
      "C:\\Users\\PC\\Desktop\\ml_project\\venv\\lib\\site-packages\\sklearn\\utils\\validation.py:2739: UserWarning: X does not have valid feature names, but LGBMClassifier was fitted with feature names\n",
      "  warnings.warn(\n"
     ]
    },
    {
     "name": "stdout",
     "output_type": "stream",
     "text": [
      "[LightGBM] [Info] Number of positive: 5371, number of negative: 1628\n",
      "[LightGBM] [Info] Auto-choosing col-wise multi-threading, the overhead of testing was 0.000760 seconds.\n",
      "You can set `force_col_wise=true` to remove the overhead.\n",
      "[LightGBM] [Info] Total Bins 3825\n",
      "[LightGBM] [Info] Number of data points in the train set: 6999, number of used features: 15\n",
      "[LightGBM] [Info] [binary:BoostFromScore]: pavg=0.767395 -> initscore=1.193662\n",
      "[LightGBM] [Info] Start training from score 1.193662\n"
     ]
    },
    {
     "name": "stderr",
     "output_type": "stream",
     "text": [
      "C:\\Users\\PC\\Desktop\\ml_project\\venv\\lib\\site-packages\\sklearn\\utils\\validation.py:2739: UserWarning: X does not have valid feature names, but LGBMClassifier was fitted with feature names\n",
      "  warnings.warn(\n"
     ]
    },
    {
     "name": "stdout",
     "output_type": "stream",
     "text": [
      "[LightGBM] [Info] Number of positive: 5372, number of negative: 1627\n",
      "[LightGBM] [Info] Auto-choosing col-wise multi-threading, the overhead of testing was 0.001291 seconds.\n",
      "You can set `force_col_wise=true` to remove the overhead.\n",
      "[LightGBM] [Info] Total Bins 3825\n",
      "[LightGBM] [Info] Number of data points in the train set: 6999, number of used features: 15\n",
      "[LightGBM] [Info] [binary:BoostFromScore]: pavg=0.767538 -> initscore=1.194462\n",
      "[LightGBM] [Info] Start training from score 1.194462\n"
     ]
    },
    {
     "name": "stderr",
     "output_type": "stream",
     "text": [
      "C:\\Users\\PC\\Desktop\\ml_project\\venv\\lib\\site-packages\\sklearn\\utils\\validation.py:2739: UserWarning: X does not have valid feature names, but LGBMClassifier was fitted with feature names\n",
      "  warnings.warn(\n"
     ]
    },
    {
     "name": "stdout",
     "output_type": "stream",
     "text": [
      "[LightGBM] [Info] Number of positive: 5371, number of negative: 1627\n",
      "[LightGBM] [Info] Auto-choosing col-wise multi-threading, the overhead of testing was 0.000635 seconds.\n",
      "You can set `force_col_wise=true` to remove the overhead.\n",
      "[LightGBM] [Info] Total Bins 3825\n",
      "[LightGBM] [Info] Number of data points in the train set: 6998, number of used features: 15\n",
      "[LightGBM] [Info] [binary:BoostFromScore]: pavg=0.767505 -> initscore=1.194276\n",
      "[LightGBM] [Info] Start training from score 1.194276\n"
     ]
    },
    {
     "name": "stderr",
     "output_type": "stream",
     "text": [
      "C:\\Users\\PC\\Desktop\\ml_project\\venv\\lib\\site-packages\\sklearn\\utils\\validation.py:2739: UserWarning: X does not have valid feature names, but LGBMClassifier was fitted with feature names\n",
      "  warnings.warn(\n"
     ]
    },
    {
     "name": "stdout",
     "output_type": "stream",
     "text": [
      "[LightGBM] [Info] Number of positive: 5371, number of negative: 1627\n",
      "[LightGBM] [Info] Auto-choosing col-wise multi-threading, the overhead of testing was 0.001366 seconds.\n",
      "You can set `force_col_wise=true` to remove the overhead.\n",
      "[LightGBM] [Info] Total Bins 3825\n",
      "[LightGBM] [Info] Number of data points in the train set: 6998, number of used features: 15\n",
      "[LightGBM] [Info] [binary:BoostFromScore]: pavg=0.767505 -> initscore=1.194276\n",
      "[LightGBM] [Info] Start training from score 1.194276\n"
     ]
    },
    {
     "name": "stderr",
     "output_type": "stream",
     "text": [
      "C:\\Users\\PC\\Desktop\\ml_project\\venv\\lib\\site-packages\\sklearn\\utils\\validation.py:2739: UserWarning: X does not have valid feature names, but LGBMClassifier was fitted with feature names\n",
      "  warnings.warn(\n"
     ]
    },
    {
     "name": "stdout",
     "output_type": "stream",
     "text": [
      "[LightGBM] [Info] Number of positive: 5371, number of negative: 1627\n",
      "[LightGBM] [Info] Auto-choosing col-wise multi-threading, the overhead of testing was 0.000873 seconds.\n",
      "You can set `force_col_wise=true` to remove the overhead.\n",
      "[LightGBM] [Info] Total Bins 3825\n",
      "[LightGBM] [Info] Number of data points in the train set: 6998, number of used features: 15\n",
      "[LightGBM] [Info] [binary:BoostFromScore]: pavg=0.767505 -> initscore=1.194276\n",
      "[LightGBM] [Info] Start training from score 1.194276\n"
     ]
    },
    {
     "name": "stderr",
     "output_type": "stream",
     "text": [
      "C:\\Users\\PC\\Desktop\\ml_project\\venv\\lib\\site-packages\\sklearn\\utils\\validation.py:2739: UserWarning: X does not have valid feature names, but LGBMClassifier was fitted with feature names\n",
      "  warnings.warn(\n"
     ]
    },
    {
     "name": "stdout",
     "output_type": "stream",
     "text": [
      "[LightGBM] [Info] Number of positive: 5371, number of negative: 1628\n",
      "[LightGBM] [Info] Auto-choosing col-wise multi-threading, the overhead of testing was 0.001108 seconds.\n",
      "You can set `force_col_wise=true` to remove the overhead.\n",
      "[LightGBM] [Info] Total Bins 3825\n",
      "[LightGBM] [Info] Number of data points in the train set: 6999, number of used features: 15\n",
      "[LightGBM] [Info] [binary:BoostFromScore]: pavg=0.767395 -> initscore=1.193662\n",
      "[LightGBM] [Info] Start training from score 1.193662\n"
     ]
    },
    {
     "name": "stderr",
     "output_type": "stream",
     "text": [
      "C:\\Users\\PC\\Desktop\\ml_project\\venv\\lib\\site-packages\\sklearn\\utils\\validation.py:2739: UserWarning: X does not have valid feature names, but LGBMClassifier was fitted with feature names\n",
      "  warnings.warn(\n"
     ]
    },
    {
     "name": "stdout",
     "output_type": "stream",
     "text": [
      "[LightGBM] [Info] Number of positive: 5372, number of negative: 1627\n",
      "[LightGBM] [Info] Auto-choosing col-wise multi-threading, the overhead of testing was 0.001758 seconds.\n",
      "You can set `force_col_wise=true` to remove the overhead.\n",
      "[LightGBM] [Info] Total Bins 3825\n",
      "[LightGBM] [Info] Number of data points in the train set: 6999, number of used features: 15\n",
      "[LightGBM] [Info] [binary:BoostFromScore]: pavg=0.767538 -> initscore=1.194462\n",
      "[LightGBM] [Info] Start training from score 1.194462\n"
     ]
    },
    {
     "name": "stderr",
     "output_type": "stream",
     "text": [
      "C:\\Users\\PC\\Desktop\\ml_project\\venv\\lib\\site-packages\\sklearn\\utils\\validation.py:2739: UserWarning: X does not have valid feature names, but LGBMClassifier was fitted with feature names\n",
      "  warnings.warn(\n"
     ]
    },
    {
     "name": "stdout",
     "output_type": "stream",
     "text": [
      "[LightGBM] [Info] Number of positive: 6714, number of negative: 2034\n",
      "[LightGBM] [Info] Auto-choosing col-wise multi-threading, the overhead of testing was 0.001706 seconds.\n",
      "You can set `force_col_wise=true` to remove the overhead.\n",
      "[LightGBM] [Info] Total Bins 3825\n",
      "[LightGBM] [Info] Number of data points in the train set: 8748, number of used features: 15\n",
      "[LightGBM] [Info] [binary:BoostFromScore]: pavg=0.767490 -> initscore=1.194191\n",
      "[LightGBM] [Info] Start training from score 1.194191\n",
      "Best Parameters: {'learning_rate': 0.1, 'n_estimators': 200, 'num_leaves': 100}\n",
      "Best Score: 0.8371048925916851\n"
     ]
    }
   ],
   "source": [
    "from sklearn.model_selection import GridSearchCV\n",
    "from lightgbm import LGBMClassifier\n",
    "\n",
    "# Define the model\n",
    "model = LGBMClassifier(objective='binary', random_state=42)\n",
    "\n",
    "# Define the hyperparameter grid\n",
    "param_grid = {\n",
    "    'num_leaves': [31, 50, 100],\n",
    "    'learning_rate': [0.01, 0.05, 0.1],\n",
    "    'n_estimators': [50, 100, 200]\n",
    "}\n",
    "\n",
    "# Perform GridSearchCV\n",
    "grid_search = GridSearchCV(model, param_grid, cv=5)\n",
    "grid_search.fit(X_train_scaled, y_train)\n",
    "\n",
    "# Print the best parameters\n",
    "print(\"Best Parameters:\", grid_search.best_params_)\n",
    "print(\"Best Score:\", grid_search.best_score_)\n"
   ]
  },
  {
   "cell_type": "markdown",
   "id": "0e6da01d-709b-4582-bf29-bc83a1b3d2c3",
   "metadata": {},
   "source": [
    "##  Rebuild the model with Hyperparameters "
   ]
  },
  {
   "cell_type": "code",
   "execution_count": 35,
   "id": "8c6b6cb7-9f05-4577-8664-0e020057ecf1",
   "metadata": {},
   "outputs": [
    {
     "name": "stdout",
     "output_type": "stream",
     "text": [
      "[LightGBM] [Info] Number of positive: 6714, number of negative: 2034\n",
      "[LightGBM] [Info] Auto-choosing col-wise multi-threading, the overhead of testing was 0.006547 seconds.\n",
      "You can set `force_col_wise=true` to remove the overhead.\n",
      "[LightGBM] [Info] Total Bins 3825\n",
      "[LightGBM] [Info] Number of data points in the train set: 8748, number of used features: 15\n",
      "[LightGBM] [Info] [binary:BoostFromScore]: pavg=0.767490 -> initscore=1.194191\n",
      "[LightGBM] [Info] Start training from score 1.194191\n",
      "Accuracy on Test Data with Tuned Parameters: 0.8446069469835467\n"
     ]
    },
    {
     "name": "stderr",
     "output_type": "stream",
     "text": [
      "C:\\Users\\PC\\Desktop\\ml_project\\venv\\lib\\site-packages\\sklearn\\utils\\validation.py:2739: UserWarning: X does not have valid feature names, but LGBMClassifier was fitted with feature names\n",
      "  warnings.warn(\n"
     ]
    }
   ],
   "source": [
    "# Train the model with the best parameters\n",
    "LightGBM = LGBMClassifier(learning_rate=0.1, n_estimators=200, num_leaves=100, objective='binary', random_state=42)\n",
    "LightGBM.fit(X_train_scaled, y_train)\n",
    "\n",
    "# Make predictions\n",
    "y_pred = LightGBM.predict(X_test_scaled)\n",
    "\n",
    "# Evaluate performance\n",
    "accuracy = accuracy_score(y_test, y_pred)\n",
    "print(f\"Accuracy on Test Data with Tuned Parameters: {accuracy}\")\n"
   ]
  },
  {
   "cell_type": "code",
   "execution_count": 36,
   "id": "d86c3fd1-83d6-4d48-8c1c-949a8b0a615f",
   "metadata": {},
   "outputs": [
    {
     "data": {
      "image/png": "[encoded data removed]",
      "text/plain": [
       "<Figure size 640x480 with 1 Axes>"
      ]
     },
     "metadata": {},
     "output_type": "display_data"
    }
   ],
   "source": [
    "import matplotlib.pyplot as plt\n",
    "\n",
    "# Plot feature importance\n",
    "feature_importances = LightGBM.feature_importances_\n",
    "features = X.columns\n",
    "\n",
    "# Sort and plot\n",
    "sorted_idx = feature_importances.argsort()\n",
    "plt.barh(features[sorted_idx], feature_importances[sorted_idx])\n",
    "plt.xlabel(\"Feature Importance\")\n",
    "plt.ylabel(\"Feature\")\n",
    "plt.title(\"Feature Importance (LightGBM)\")\n",
    "plt.show()\n"
   ]
  },
  {
   "cell_type": "code",
   "execution_count": 37,
   "id": "34a3b3f3-f094-4204-854f-92b705cd7e7e",
   "metadata": {},
   "outputs": [
    {
     "data": {
      "image/png": "[encoded data removed]",
      "text/plain": [
       "<Figure size 600x400 with 2 Axes>"
      ]
     },
     "metadata": {},
     "output_type": "display_data"
    }
   ],
   "source": [
    "from sklearn.metrics import confusion_matrix\n",
    "import seaborn as sns\n",
    "import matplotlib.pyplot as plt\n",
    "\n",
    "# Generate confusion matrix\n",
    "cm = confusion_matrix(y_test, y_pred)\n",
    "\n",
    "# Plot confusion matrix as heatmap\n",
    "plt.figure(figsize=(6, 4))\n",
    "sns.heatmap(cm, annot=True, fmt='d', cmap='Blues', xticklabels=['Sell', 'Buy'], yticklabels=['Sell', 'Buy'])\n",
    "plt.title('Confusion Matrix LightGBoost')\n",
    "plt.xlabel('Predicted')\n",
    "plt.ylabel('Actual')\n",
    "plt.show()\n"
   ]
  },
  {
   "cell_type": "code",
   "execution_count": 38,
   "id": "1fdacbdf-10cf-4939-b3cd-8ae89d8d6070",
   "metadata": {},
   "outputs": [
    {
     "name": "stdout",
     "output_type": "stream",
     "text": [
      "Confusion Matrix:\n",
      "                  Predicted Negative  Predicted Positive\n",
      "Actual Negative                 286                 236\n",
      "Actual Positive                 104                1562\n"
     ]
    }
   ],
   "source": [
    "# Compute the confusion matrix\n",
    "cm = confusion_matrix(y_test, y_pred)\n",
    "\n",
    "# Print the confusion matrix as a DataFrame for better readability\n",
    "cm_df = pd.DataFrame(cm, index=[\"Actual Negative\", \"Actual Positive\"], columns=[\"Predicted Negative\", \"Predicted Positive\"])\n",
    "print(\"Confusion Matrix:\\n\", cm_df)"
   ]
  },
  {
   "cell_type": "code",
   "execution_count": 39,
   "id": "5bb5ae4f-a81e-4f97-8571-fa968a0d0ba9",
   "metadata": {},
   "outputs": [
    {
     "name": "stdout",
     "output_type": "stream",
     "text": [
      "\n",
      "Test Accuracy: 84.46%\n",
      "\n",
      "Classification Report:\n",
      "               precision    recall  f1-score   support\n",
      "\n",
      "           0       0.73      0.55      0.63       522\n",
      "           1       0.87      0.94      0.90      1666\n",
      "\n",
      "    accuracy                           0.84      2188\n",
      "   macro avg       0.80      0.74      0.76      2188\n",
      "weighted avg       0.84      0.84      0.84      2188\n",
      "\n"
     ]
    }
   ],
   "source": [
    "accuracy = accuracy_score(y_test, y_pred)\n",
    "print(\"\\nTest Accuracy: {:.2f}%\".format(accuracy * 100))\n",
    "\n",
    "print(\"\\nClassification Report:\\n\", classification_report(y_test, y_pred))\n"
   ]
  },
  {
   "cell_type": "code",
   "execution_count": 40,
   "id": "aa63ac2e-ba14-499e-9787-f3310e15283e",
   "metadata": {},
   "outputs": [
    {
     "name": "stdout",
     "output_type": "stream",
     "text": [
      "Predictions saved successfully!\n"
     ]
    },
    {
     "name": "stderr",
     "output_type": "stream",
     "text": [
      "C:\\Users\\PC\\Desktop\\ml_project\\venv\\lib\\site-packages\\sklearn\\utils\\validation.py:2739: UserWarning: X does not have valid feature names, but LGBMClassifier was fitted with feature names\n",
      "  warnings.warn(\n"
     ]
    }
   ],
   "source": [
    "# Assuming the test set represents the latest data points\n",
    "start_index = len(data) - len(y_test)  # Find where the test set starts\n",
    "date_range = pd.date_range(start='2024-01-01', periods=len(y_test), freq='D')  # Generate artificial dates\n",
    "\n",
    "# Create predictions DataFrame\n",
    "predictions_df = pd.DataFrame({\n",
    "    'date': date_range,  # Using a fake date range (adjust as needed)\n",
    "    'actual_price': y_test.values,  # If y_test is classification, replace with actual close price\n",
    "    'predicted_price': y_pred,\n",
    "    'decision': ['BUY' if pred == 1 else 'SELL' for pred in y_pred],\n",
    "    'confidence': LightGBM.predict_proba(X_test_scaled)[:, 1]  # Probability of \"BUY\"\n",
    "})\n",
    "\n",
    "\n",
    "# Save to CSV\n",
    "predictions_df.to_csv(\"C:/Users/PC/Desktop/ml_project/Algorithm_Trading_ML/data/final_predictions.csv\", index=False)\n",
    "\n",
    "print(\"Predictions saved successfully!\")\n"
   ]
  },
  {
   "cell_type": "code",
   "execution_count": 41,
   "id": "7c5ce3c0-cebe-4b9b-b561-c8d5df017cff",
   "metadata": {},
   "outputs": [
    {
     "data": {
      "text/html": [
       "<div>\n",
       "<style scoped>\n",
       "    .dataframe tbody tr th:only-of-type {\n",
       "        vertical-align: middle;\n",
       "    }\n",
       "\n",
       "    .dataframe tbody tr th {\n",
       "        vertical-align: top;\n",
       "    }\n",
       "\n",
       "    .dataframe thead th {\n",
       "        text-align: right;\n",
       "    }\n",
       "</style>\n",
       "<table border=\"1\" class=\"dataframe\">\n",
       "  <thead>\n",
       "    <tr style=\"text-align: right;\">\n",
       "      <th></th>\n",
       "      <th>date</th>\n",
       "      <th>actual_price</th>\n",
       "      <th>predicted_price</th>\n",
       "      <th>decision</th>\n",
       "      <th>confidence</th>\n",
       "    </tr>\n",
       "  </thead>\n",
       "  <tbody>\n",
       "    <tr>\n",
       "      <th>0</th>\n",
       "      <td>2024-01-01</td>\n",
       "      <td>1</td>\n",
       "      <td>1</td>\n",
       "      <td>BUY</td>\n",
       "      <td>0.999967</td>\n",
       "    </tr>\n",
       "    <tr>\n",
       "      <th>1</th>\n",
       "      <td>2024-01-02</td>\n",
       "      <td>1</td>\n",
       "      <td>1</td>\n",
       "      <td>BUY</td>\n",
       "      <td>0.682488</td>\n",
       "    </tr>\n",
       "    <tr>\n",
       "      <th>2</th>\n",
       "      <td>2024-01-03</td>\n",
       "      <td>0</td>\n",
       "      <td>1</td>\n",
       "      <td>BUY</td>\n",
       "      <td>0.938157</td>\n",
       "    </tr>\n",
       "    <tr>\n",
       "      <th>3</th>\n",
       "      <td>2024-01-04</td>\n",
       "      <td>1</td>\n",
       "      <td>1</td>\n",
       "      <td>BUY</td>\n",
       "      <td>0.999959</td>\n",
       "    </tr>\n",
       "    <tr>\n",
       "      <th>4</th>\n",
       "      <td>2024-01-05</td>\n",
       "      <td>0</td>\n",
       "      <td>1</td>\n",
       "      <td>BUY</td>\n",
       "      <td>0.892932</td>\n",
       "    </tr>\n",
       "    <tr>\n",
       "      <th>...</th>\n",
       "      <td>...</td>\n",
       "      <td>...</td>\n",
       "      <td>...</td>\n",
       "      <td>...</td>\n",
       "      <td>...</td>\n",
       "    </tr>\n",
       "    <tr>\n",
       "      <th>2183</th>\n",
       "      <td>2029-12-23</td>\n",
       "      <td>1</td>\n",
       "      <td>0</td>\n",
       "      <td>SELL</td>\n",
       "      <td>0.260569</td>\n",
       "    </tr>\n",
       "    <tr>\n",
       "      <th>2184</th>\n",
       "      <td>2029-12-24</td>\n",
       "      <td>0</td>\n",
       "      <td>0</td>\n",
       "      <td>SELL</td>\n",
       "      <td>0.042536</td>\n",
       "    </tr>\n",
       "    <tr>\n",
       "      <th>2185</th>\n",
       "      <td>2029-12-25</td>\n",
       "      <td>1</td>\n",
       "      <td>1</td>\n",
       "      <td>BUY</td>\n",
       "      <td>0.990968</td>\n",
       "    </tr>\n",
       "    <tr>\n",
       "      <th>2186</th>\n",
       "      <td>2029-12-26</td>\n",
       "      <td>1</td>\n",
       "      <td>1</td>\n",
       "      <td>BUY</td>\n",
       "      <td>0.965781</td>\n",
       "    </tr>\n",
       "    <tr>\n",
       "      <th>2187</th>\n",
       "      <td>2029-12-27</td>\n",
       "      <td>0</td>\n",
       "      <td>1</td>\n",
       "      <td>BUY</td>\n",
       "      <td>0.532348</td>\n",
       "    </tr>\n",
       "  </tbody>\n",
       "</table>\n",
       "<p>2188 rows × 5 columns</p>\n",
       "</div>"
      ],
      "text/plain": [
       "           date  actual_price  predicted_price decision  confidence\n",
       "0    2024-01-01             1                1      BUY    0.999967\n",
       "1    2024-01-02             1                1      BUY    0.682488\n",
       "2    2024-01-03             0                1      BUY    0.938157\n",
       "3    2024-01-04             1                1      BUY    0.999959\n",
       "4    2024-01-05             0                1      BUY    0.892932\n",
       "...         ...           ...              ...      ...         ...\n",
       "2183 2029-12-23             1                0     SELL    0.260569\n",
       "2184 2029-12-24             0                0     SELL    0.042536\n",
       "2185 2029-12-25             1                1      BUY    0.990968\n",
       "2186 2029-12-26             1                1      BUY    0.965781\n",
       "2187 2029-12-27             0                1      BUY    0.532348\n",
       "\n",
       "[2188 rows x 5 columns]"
      ]
     },
     "execution_count": 41,
     "metadata": {},
     "output_type": "execute_result"
    }
   ],
   "source": [
    "predictions_df"
   ]
  },
  {
   "cell_type": "code",
   "execution_count": 42,
   "id": "f0482c22-601f-4e0b-8dfb-ccff2795af3b",
   "metadata": {},
   "outputs": [
    {
     "data": {
      "image/png": "[encoded data removed]",
      "text/plain": [
       "<Figure size 600x400 with 2 Axes>"
      ]
     },
     "metadata": {},
     "output_type": "display_data"
    }
   ],
   "source": [
    "# Plot the confusion matrix\n",
    "plt.figure(figsize=(6,4))\n",
    "sns.heatmap(cm, annot=True, fmt=\"d\", cmap=\"Blues\", xticklabels=[\"Negative\", \"Positive\"], yticklabels=[\"Negative\", \"Positive\"])\n",
    "plt.xlabel(\"Predicted\")\n",
    "plt.ylabel(\"Actual\")\n",
    "plt.title(\"Confusion Matrix\")\n",
    "plt.show()\n"
   ]
  },
  {
   "cell_type": "markdown",
   "id": "d3d71fc3-f4de-467c-b3ec-d49a76fd7d10",
   "metadata": {},
   "source": [
    "# 2. XGBoost Model\n"
   ]
  },
  {
   "cell_type": "code",
   "execution_count": 43,
   "id": "7ed31948-a2f1-4815-8ae3-6cf990c0d514",
   "metadata": {},
   "outputs": [],
   "source": [
    "import xgboost as xgb\n",
    "import numpy as np\n",
    "import optuna\n",
    "from sklearn.model_selection import train_test_split\n",
    "from sklearn.preprocessing import StandardScaler\n",
    "from sklearn.metrics import accuracy_score, classification_report\n"
   ]
  },
  {
   "cell_type": "code",
   "execution_count": 44,
   "id": "bc8e5c4f-9e6b-4d1e-b2cf-0dbf4a6c3564",
   "metadata": {},
   "outputs": [],
   "source": [
    "# Step 1: Define the list of features and target variable\n",
    "features = [\n",
    "    'RSI_14', 'RSI_30', 'RSI_200', 'MOM_10', 'MOM_30',\n",
    "    'MACD_12_26_9', 'MACDh_12_26_9', 'MACDs_12_26_9',\n",
    "    'PROC_9', 'EMA_10', 'EMA_30', 'Pct_Change', 'Log_Returns',\n",
    "    'Volatility_10', 'Volatility_30'\n",
    "]\n",
    "X = data[features]\n",
    "y = data['Signal'].replace({2: 1})  # Map '2' to '1' for binary classification\n"
   ]
  },
  {
   "cell_type": "code",
   "execution_count": 45,
   "id": "188d9b31-291a-451c-9af3-85278140e93a",
   "metadata": {},
   "outputs": [],
   "source": [
    "# Step 2: Split the data into train and test sets\n",
    "X_train, X_test, y_train, y_test = train_test_split(\n",
    "    X, y, test_size=0.2, random_state=42, stratify=y\n",
    ")\n"
   ]
  },
  {
   "cell_type": "code",
   "execution_count": 46,
   "id": "3d4e2105-7e06-44ae-ae88-a80ca3a61b47",
   "metadata": {},
   "outputs": [],
   "source": [
    "# Step 3: Scale the features\n",
    "scaler = StandardScaler()\n",
    "X_train_scaled = scaler.fit_transform(X_train)\n",
    "X_test_scaled = scaler.transform(X_test)\n"
   ]
  },
  {
   "cell_type": "code",
   "execution_count": 47,
   "id": "5c1440e3-2a2b-486d-8b1e-5977e6ad948a",
   "metadata": {},
   "outputs": [],
   "source": [
    "# Step 4: Define the Optuna optimization function\n",
    "def objective(trial):\n",
    "    params = {\n",
    "        'booster': trial.suggest_categorical('booster', ['gbtree', 'dart']),\n",
    "        'objective': 'binary:logistic',\n",
    "        'eval_metric': 'logloss',\n",
    "        'eta': trial.suggest_float('eta', 0.01, 0.3, log=True),\n",
    "        'max_depth': trial.suggest_int('max_depth', 3, 10),\n",
    "        'min_child_weight': trial.suggest_float('min_child_weight', 1, 10, log=True),\n",
    "        'subsample': trial.suggest_float('subsample', 0.5, 1.0),\n",
    "        'colsample_bytree': trial.suggest_float('colsample_bytree', 0.5, 1.0),\n",
    "        'lambda': trial.suggest_float('lambda', 1e-3, 10.0, log=True),\n",
    "        'alpha': trial.suggest_float('alpha', 1e-3, 10.0, log=True),\n",
    "    }\n",
    "    \n",
    "    # Perform cross-validation using xgb.cv\n",
    "    dtrain = xgb.DMatrix(X_train_scaled, label=y_train)\n",
    "    cv_results = xgb.cv(\n",
    "        params=params,\n",
    "        dtrain=dtrain,\n",
    "        num_boost_round=100,\n",
    "        nfold=5,\n",
    "        stratified=True,\n",
    "        shuffle=True,\n",
    "        early_stopping_rounds=10,\n",
    "        seed=42,\n",
    "        verbose_eval=False\n",
    "    )\n",
    "    \n",
    "    # Return the mean of the test logloss\n",
    "    return cv_results['test-logloss-mean'].min()\n"
   ]
  },
  {
   "cell_type": "code",
   "execution_count": 48,
   "id": "2d13f3bb-ab70-46dc-9e8a-ea407ecb0cd4",
   "metadata": {},
   "outputs": [
    {
     "name": "stderr",
     "output_type": "stream",
     "text": [
      "[I 2025-02-25 19:42:59,986] A new study created in memory with name: XGBoost Hyperparameter Tuning\n",
      "[I 2025-02-25 19:43:56,628] Trial 0 finished with value: 0.41858616858335473 and parameters: {'booster': 'dart', 'eta': 0.02924137836638166, 'max_depth': 10, 'min_child_weight': 5.728878612499425, 'subsample': 0.6522910573078798, 'colsample_bytree': 0.9991759047277637, 'lambda': 0.130985716663197, 'alpha': 0.0025220966930690814}. Best is trial 0 with value: 0.41858616858335473.\n",
      "[I 2025-02-25 19:43:57,949] Trial 1 finished with value: 0.43418598757191373 and parameters: {'booster': 'gbtree', 'eta': 0.0864365880410684, 'max_depth': 4, 'min_child_weight': 3.007568777739051, 'subsample': 0.9584438016658328, 'colsample_bytree': 0.8491762975604837, 'lambda': 2.3238145757694904, 'alpha': 0.19134556017615184}. Best is trial 0 with value: 0.41858616858335473.\n",
      "[I 2025-02-25 19:44:28,034] Trial 2 finished with value: 0.43237744831165 and parameters: {'booster': 'dart', 'eta': 0.13175259090879524, 'max_depth': 4, 'min_child_weight': 7.377127860465834, 'subsample': 0.8883563946148396, 'colsample_bytree': 0.9141634921487367, 'lambda': 0.0054542193405451534, 'alpha': 5.724669245111992}. Best is trial 0 with value: 0.41858616858335473.\n",
      "[I 2025-02-25 19:44:54,561] Trial 3 finished with value: 0.42791588940169484 and parameters: {'booster': 'dart', 'eta': 0.14961095669037494, 'max_depth': 4, 'min_child_weight': 2.7031578579564504, 'subsample': 0.8957511076279645, 'colsample_bytree': 0.81547509621703, 'lambda': 0.17625326708831746, 'alpha': 3.765930176027031}. Best is trial 0 with value: 0.41858616858335473.\n",
      "[I 2025-02-25 19:45:29,612] Trial 4 finished with value: 0.4140799503819264 and parameters: {'booster': 'dart', 'eta': 0.05949538181532063, 'max_depth': 8, 'min_child_weight': 5.758424356788069, 'subsample': 0.8090687638934576, 'colsample_bytree': 0.8126181028491758, 'lambda': 0.0329333076302563, 'alpha': 0.023941203093999993}. Best is trial 4 with value: 0.4140799503819264.\n",
      "[I 2025-02-25 19:45:32,901] Trial 5 finished with value: 0.40756862031003455 and parameters: {'booster': 'gbtree', 'eta': 0.17027227822858323, 'max_depth': 9, 'min_child_weight': 5.124832319183157, 'subsample': 0.8549231505216741, 'colsample_bytree': 0.5572873663708072, 'lambda': 0.9691688444364847, 'alpha': 0.8568961430912595}. Best is trial 5 with value: 0.40756862031003455.\n",
      "[I 2025-02-25 19:46:06,599] Trial 6 finished with value: 0.424351845745628 and parameters: {'booster': 'dart', 'eta': 0.09744441654219582, 'max_depth': 8, 'min_child_weight': 1.607404483231276, 'subsample': 0.5685512958263927, 'colsample_bytree': 0.9893737791362923, 'lambda': 0.6249461232931726, 'alpha': 7.467762382252173}. Best is trial 5 with value: 0.40756862031003455.\n",
      "[I 2025-02-25 19:46:08,077] Trial 7 finished with value: 0.42843739449582185 and parameters: {'booster': 'gbtree', 'eta': 0.1045773204397108, 'max_depth': 4, 'min_child_weight': 2.7204241230581188, 'subsample': 0.9960599645544143, 'colsample_bytree': 0.7968302080236543, 'lambda': 0.04724423894905486, 'alpha': 0.006511998806798578}. Best is trial 5 with value: 0.40756862031003455.\n",
      "[I 2025-02-25 19:46:10,590] Trial 8 finished with value: 0.4205995982714409 and parameters: {'booster': 'gbtree', 'eta': 0.21688196483840788, 'max_depth': 8, 'min_child_weight': 1.8416097875199284, 'subsample': 0.5424439486817286, 'colsample_bytree': 0.829662535548285, 'lambda': 7.4408929655504625, 'alpha': 2.495429771774802}. Best is trial 5 with value: 0.40756862031003455.\n",
      "[I 2025-02-25 19:46:39,337] Trial 9 finished with value: 0.4552297411125384 and parameters: {'booster': 'dart', 'eta': 0.017406974193158474, 'max_depth': 3, 'min_child_weight': 6.741039796817785, 'subsample': 0.9829236355197861, 'colsample_bytree': 0.5234891936300997, 'lambda': 0.0036359525488834023, 'alpha': 0.02560756456894414}. Best is trial 5 with value: 0.40756862031003455.\n",
      "[I 2025-02-25 19:46:42,002] Trial 10 finished with value: 0.46212984193129003 and parameters: {'booster': 'gbtree', 'eta': 0.010809498938675704, 'max_depth': 6, 'min_child_weight': 9.681446337857626, 'subsample': 0.7449227116484693, 'colsample_bytree': 0.5971740085456989, 'lambda': 0.8794316746625463, 'alpha': 0.5208373848862976}. Best is trial 5 with value: 0.40756862031003455.\n",
      "[I 2025-02-25 19:46:45,509] Trial 11 finished with value: 0.4084019955342953 and parameters: {'booster': 'gbtree', 'eta': 0.04609786049167824, 'max_depth': 10, 'min_child_weight': 4.841917750845166, 'subsample': 0.7932706468956021, 'colsample_bytree': 0.6905637826970967, 'lambda': 0.02146901588983756, 'alpha': 0.041557800972838545}. Best is trial 5 with value: 0.40756862031003455.\n",
      "[I 2025-02-25 19:46:49,912] Trial 12 finished with value: 0.40648768610337715 and parameters: {'booster': 'gbtree', 'eta': 0.04377656352429523, 'max_depth': 10, 'min_child_weight': 4.243640660728824, 'subsample': 0.7931139661895694, 'colsample_bytree': 0.667192393276375, 'lambda': 0.012345138162596817, 'alpha': 0.5681101680265642}. Best is trial 12 with value: 0.40648768610337715.\n",
      "[I 2025-02-25 19:46:52,206] Trial 13 finished with value: 0.4140837826697636 and parameters: {'booster': 'gbtree', 'eta': 0.25659824948532667, 'max_depth': 9, 'min_child_weight': 4.127557797912597, 'subsample': 0.7147128665945282, 'colsample_bytree': 0.6672387485014859, 'lambda': 0.38949268282181804, 'alpha': 0.6919384298067366}. Best is trial 12 with value: 0.40648768610337715.\n",
      "[I 2025-02-25 19:46:54,461] Trial 14 finished with value: 0.4302131570227717 and parameters: {'booster': 'gbtree', 'eta': 0.036400278252039786, 'max_depth': 6, 'min_child_weight': 3.867408193867857, 'subsample': 0.866304313521715, 'colsample_bytree': 0.5089258054775658, 'lambda': 0.0010844358986271218, 'alpha': 0.7746853938734938}. Best is trial 12 with value: 0.40648768610337715.\n",
      "[I 2025-02-25 19:46:59,394] Trial 15 finished with value: 0.42923821167802584 and parameters: {'booster': 'gbtree', 'eta': 0.023938800799559765, 'max_depth': 9, 'min_child_weight': 9.207245361780327, 'subsample': 0.8258041095575396, 'colsample_bytree': 0.60871110150972, 'lambda': 0.009846505146545255, 'alpha': 0.14477793313121906}. Best is trial 12 with value: 0.40648768610337715.\n",
      "[I 2025-02-25 19:47:02,983] Trial 16 finished with value: 0.41802411501867437 and parameters: {'booster': 'gbtree', 'eta': 0.06775274841536892, 'max_depth': 7, 'min_child_weight': 1.1204520028854383, 'subsample': 0.7139007761796223, 'colsample_bytree': 0.7189184653404896, 'lambda': 3.632174753816497, 'alpha': 1.6724067832567244}. Best is trial 12 with value: 0.40648768610337715.\n",
      "[I 2025-02-25 19:47:06,917] Trial 17 finished with value: 0.4063954416635956 and parameters: {'booster': 'gbtree', 'eta': 0.17309542945111225, 'max_depth': 10, 'min_child_weight': 2.1148638329580556, 'subsample': 0.643772772658633, 'colsample_bytree': 0.5952974303910242, 'lambda': 0.001003586727699316, 'alpha': 0.29845040284789986}. Best is trial 17 with value: 0.4063954416635956.\n",
      "[I 2025-02-25 19:47:11,010] Trial 18 finished with value: 0.40212082245129277 and parameters: {'booster': 'gbtree', 'eta': 0.04679778558448033, 'max_depth': 10, 'min_child_weight': 1.9048793904586563, 'subsample': 0.6066139983697025, 'colsample_bytree': 0.6427260172408429, 'lambda': 0.0011090542298378833, 'alpha': 0.24893763419155437}. Best is trial 18 with value: 0.40212082245129277.\n",
      "[I 2025-02-25 19:47:13,877] Trial 19 finished with value: 0.43069669322640414 and parameters: {'booster': 'gbtree', 'eta': 0.02090368764075012, 'max_depth': 7, 'min_child_weight': 2.0143522537991676, 'subsample': 0.6133120809146261, 'colsample_bytree': 0.6140219118025949, 'lambda': 0.0012485175148104048, 'alpha': 0.08541981977925361}. Best is trial 18 with value: 0.40212082245129277.\n",
      "[I 2025-02-25 19:47:17,824] Trial 20 finished with value: 0.39896015757024944 and parameters: {'booster': 'gbtree', 'eta': 0.07404164827401964, 'max_depth': 10, 'min_child_weight': 1.204196536651217, 'subsample': 0.5117051995598298, 'colsample_bytree': 0.7442005945658106, 'lambda': 0.002504498478721339, 'alpha': 0.18125266798465828}. Best is trial 20 with value: 0.39896015757024944.\n",
      "[I 2025-02-25 19:47:22,796] Trial 21 finished with value: 0.3972659264794651 and parameters: {'booster': 'gbtree', 'eta': 0.07153244073827564, 'max_depth': 10, 'min_child_weight': 1.0326656893536081, 'subsample': 0.5090420506985577, 'colsample_bytree': 0.7580651354973449, 'lambda': 0.002478941796069806, 'alpha': 0.2675684771123427}. Best is trial 21 with value: 0.3972659264794651.\n",
      "[I 2025-02-25 19:47:26,671] Trial 22 finished with value: 0.4021644372366785 and parameters: {'booster': 'gbtree', 'eta': 0.07320822615580698, 'max_depth': 9, 'min_child_weight': 1.1194562201516771, 'subsample': 0.5015242457003855, 'colsample_bytree': 0.75662813829219, 'lambda': 0.0031170493289654, 'alpha': 0.06798307131962404}. Best is trial 21 with value: 0.3972659264794651.\n",
      "[I 2025-02-25 19:47:30,732] Trial 23 finished with value: 0.4020328821221312 and parameters: {'booster': 'gbtree', 'eta': 0.05087239424878721, 'max_depth': 10, 'min_child_weight': 1.4036908601132176, 'subsample': 0.5055052549275872, 'colsample_bytree': 0.742750799951356, 'lambda': 0.0023455960002967415, 'alpha': 0.18226061814312156}. Best is trial 21 with value: 0.3972659264794651.\n",
      "[I 2025-02-25 19:47:34,787] Trial 24 finished with value: 0.40366619339364884 and parameters: {'booster': 'gbtree', 'eta': 0.059371690061671104, 'max_depth': 9, 'min_child_weight': 1.3756021583968445, 'subsample': 0.5002292968522088, 'colsample_bytree': 0.7346283843011564, 'lambda': 0.002833943540519921, 'alpha': 0.0075064763006153406}. Best is trial 21 with value: 0.3972659264794651.\n",
      "[I 2025-02-25 19:47:40,642] Trial 25 finished with value: 0.41158794364079193 and parameters: {'booster': 'gbtree', 'eta': 0.033282552195867225, 'max_depth': 8, 'min_child_weight': 1.3379175427997623, 'subsample': 0.5520617747160509, 'colsample_bytree': 0.7678710037352773, 'lambda': 0.006796206074878165, 'alpha': 0.09048213985505282}. Best is trial 21 with value: 0.3972659264794651.\n",
      "[I 2025-02-25 19:47:45,320] Trial 26 finished with value: 0.40304073001091023 and parameters: {'booster': 'gbtree', 'eta': 0.11994939574655912, 'max_depth': 10, 'min_child_weight': 1.0405439419079938, 'subsample': 0.5299000164340333, 'colsample_bytree': 0.882122301901563, 'lambda': 0.002562054037112749, 'alpha': 0.013550401382475683}. Best is trial 21 with value: 0.3972659264794651.\n",
      "[I 2025-02-25 19:47:50,972] Trial 27 finished with value: 0.40020536816351787 and parameters: {'booster': 'gbtree', 'eta': 0.08713493271391193, 'max_depth': 9, 'min_child_weight': 1.3749118798409958, 'subsample': 0.5913970670885029, 'colsample_bytree': 0.7122882653503595, 'lambda': 0.015888714635490405, 'alpha': 0.327583012184885}. Best is trial 21 with value: 0.3972659264794651.\n",
      "[I 2025-02-25 19:47:56,072] Trial 28 finished with value: 0.4005810665898486 and parameters: {'booster': 'gbtree', 'eta': 0.08222065695429376, 'max_depth': 9, 'min_child_weight': 1.2487225675126274, 'subsample': 0.5833498597673584, 'colsample_bytree': 0.7096749834019124, 'lambda': 0.01696248810059763, 'alpha': 1.4514486387297332}. Best is trial 21 with value: 0.3972659264794651.\n",
      "[I 2025-02-25 19:48:39,603] Trial 29 finished with value: 0.4014835154119762 and parameters: {'booster': 'dart', 'eta': 0.10497082101450532, 'max_depth': 7, 'min_child_weight': 1.0010496919487575, 'subsample': 0.6618489813245236, 'colsample_bytree': 0.7800788981191156, 'lambda': 0.045426730493808014, 'alpha': 0.0014085550356572284}. Best is trial 21 with value: 0.3972659264794651.\n",
      "[I 2025-02-25 19:48:46,841] Trial 30 finished with value: 0.39292935824531716 and parameters: {'booster': 'gbtree', 'eta': 0.07025344100852265, 'max_depth': 10, 'min_child_weight': 1.6340006062203944, 'subsample': 0.6529325227912545, 'colsample_bytree': 0.8693018037496614, 'lambda': 0.10776159139651531, 'alpha': 0.3599725039305692}. Best is trial 30 with value: 0.39292935824531716.\n",
      "[I 2025-02-25 19:48:55,864] Trial 31 finished with value: 0.3954799680519628 and parameters: {'booster': 'gbtree', 'eta': 0.07252412283588694, 'max_depth': 10, 'min_child_weight': 1.6016352323454637, 'subsample': 0.6477434618834096, 'colsample_bytree': 0.9130283356902764, 'lambda': 0.13742943471721225, 'alpha': 0.35443828497652974}. Best is trial 30 with value: 0.39292935824531716.\n",
      "[I 2025-02-25 19:49:01,610] Trial 32 finished with value: 0.39329345676531935 and parameters: {'booster': 'gbtree', 'eta': 0.068241173419539, 'max_depth': 10, 'min_child_weight': 1.6767866105643328, 'subsample': 0.6638118132682822, 'colsample_bytree': 0.9470986817331389, 'lambda': 0.1040722059322744, 'alpha': 0.3682850138538891}. Best is trial 30 with value: 0.39292935824531716.\n",
      "[I 2025-02-25 19:49:06,788] Trial 33 finished with value: 0.39468622979893137 and parameters: {'booster': 'gbtree', 'eta': 0.06066388498742905, 'max_depth': 10, 'min_child_weight': 2.3195213046635157, 'subsample': 0.6684276538379479, 'colsample_bytree': 0.9464255903945125, 'lambda': 0.09700824224152031, 'alpha': 0.3962465452341004}. Best is trial 30 with value: 0.39292935824531716.\n",
      "[I 2025-02-25 19:49:11,465] Trial 34 finished with value: 0.40461814850656486 and parameters: {'booster': 'gbtree', 'eta': 0.037575625086135156, 'max_depth': 10, 'min_child_weight': 2.2935348892259597, 'subsample': 0.6723604595174423, 'colsample_bytree': 0.9531402550924534, 'lambda': 0.1346070760903156, 'alpha': 1.3309695093076543}. Best is trial 30 with value: 0.39292935824531716.\n",
      "[I 2025-02-25 19:49:48,314] Trial 35 finished with value: 0.3960937882776151 and parameters: {'booster': 'dart', 'eta': 0.05740394345686021, 'max_depth': 9, 'min_child_weight': 1.6468867371684022, 'subsample': 0.6952529121784656, 'colsample_bytree': 0.9165984617770753, 'lambda': 0.08150888086073745, 'alpha': 0.43919262000730835}. Best is trial 30 with value: 0.39292935824531716.\n",
      "[I 2025-02-25 19:49:52,381] Trial 36 finished with value: 0.41530682291696186 and parameters: {'booster': 'gbtree', 'eta': 0.1307239019111664, 'max_depth': 8, 'min_child_weight': 2.3335544057663156, 'subsample': 0.6327008790731299, 'colsample_bytree': 0.8839704024062737, 'lambda': 0.2818413979112835, 'alpha': 3.907426569895068}. Best is trial 30 with value: 0.39292935824531716.\n",
      "[I 2025-02-25 19:50:24,867] Trial 37 finished with value: 0.42442885351768245 and parameters: {'booster': 'dart', 'eta': 0.060504659105984224, 'max_depth': 5, 'min_child_weight': 1.6423462332019838, 'subsample': 0.7589758538802842, 'colsample_bytree': 0.9990201410576, 'lambda': 0.07801983537131352, 'alpha': 0.12999905486135527}. Best is trial 30 with value: 0.39292935824531716.\n",
      "[I 2025-02-25 19:50:29,215] Trial 38 finished with value: 0.41596455198115423 and parameters: {'booster': 'gbtree', 'eta': 0.02827618346076179, 'max_depth': 9, 'min_child_weight': 3.288104043778561, 'subsample': 0.6903467609735834, 'colsample_bytree': 0.9486944691896623, 'lambda': 0.2231799756093421, 'alpha': 1.101425021991338}. Best is trial 30 with value: 0.39292935824531716.\n",
      "[I 2025-02-25 19:50:34,009] Trial 39 finished with value: 0.40840391001469445 and parameters: {'booster': 'gbtree', 'eta': 0.09180551154076436, 'max_depth': 10, 'min_child_weight': 2.6827602666371635, 'subsample': 0.6295213262928558, 'colsample_bytree': 0.8542633759942752, 'lambda': 0.44250257216089994, 'alpha': 2.7385721119393804}. Best is trial 30 with value: 0.39292935824531716.\n",
      "[I 2025-02-25 19:51:10,235] Trial 40 finished with value: 0.4008199828142483 and parameters: {'booster': 'dart', 'eta': 0.16745098312294224, 'max_depth': 8, 'min_child_weight': 1.7469962129559544, 'subsample': 0.7270278445334979, 'colsample_bytree': 0.9494197546544992, 'lambda': 0.14011058070249074, 'alpha': 0.42469110968272566}. Best is trial 30 with value: 0.39292935824531716.\n",
      "[I 2025-02-25 19:51:48,223] Trial 41 finished with value: 0.39700348694150567 and parameters: {'booster': 'dart', 'eta': 0.0540490936642296, 'max_depth': 9, 'min_child_weight': 1.4987418752774169, 'subsample': 0.6783892376932814, 'colsample_bytree': 0.9168649752358163, 'lambda': 0.07345616896287002, 'alpha': 0.4150725576100423}. Best is trial 30 with value: 0.39292935824531716.\n",
      "[I 2025-02-25 19:52:25,205] Trial 42 finished with value: 0.3915581907596546 and parameters: {'booster': 'dart', 'eta': 0.06142589222012911, 'max_depth': 10, 'min_child_weight': 1.6607580070984136, 'subsample': 0.6970360096457698, 'colsample_bytree': 0.9152370599449955, 'lambda': 0.09636697508967577, 'alpha': 0.055518206103982705}. Best is trial 42 with value: 0.3915581907596546.\n",
      "[I 2025-02-25 19:53:07,311] Trial 43 finished with value: 0.3986625073786586 and parameters: {'booster': 'dart', 'eta': 0.10687377436235733, 'max_depth': 10, 'min_child_weight': 2.4248138886315185, 'subsample': 0.651104346458803, 'colsample_bytree': 0.9730941860364195, 'lambda': 0.030815374203092154, 'alpha': 0.04867718464644067}. Best is trial 42 with value: 0.3915581907596546.\n",
      "[I 2025-02-25 19:54:00,609] Trial 44 finished with value: 0.38975154902261316 and parameters: {'booster': 'dart', 'eta': 0.08151753358842415, 'max_depth': 10, 'min_child_weight': 2.1100548441550706, 'subsample': 0.7541044853647931, 'colsample_bytree': 0.8889188781307816, 'lambda': 0.052360834565266544, 'alpha': 0.032514763010269836}. Best is trial 44 with value: 0.38975154902261316.\n",
      "[I 2025-02-25 19:54:58,699] Trial 45 finished with value: 0.40126154336102526 and parameters: {'booster': 'dart', 'eta': 0.04482906329426506, 'max_depth': 10, 'min_child_weight': 3.064347937394208, 'subsample': 0.7612456560466139, 'colsample_bytree': 0.8572584683548381, 'lambda': 0.05268352125902089, 'alpha': 0.0206904728235363}. Best is trial 44 with value: 0.38975154902261316.\n",
      "[I 2025-02-25 19:55:48,844] Trial 46 finished with value: 0.39783063966871196 and parameters: {'booster': 'dart', 'eta': 0.08343878276932891, 'max_depth': 9, 'min_child_weight': 2.0575938028930105, 'subsample': 0.7349062466211344, 'colsample_bytree': 0.8859099965524643, 'lambda': 0.029096251323977272, 'alpha': 0.03901969412822942}. Best is trial 44 with value: 0.38975154902261316.\n",
      "[I 2025-02-25 19:56:25,751] Trial 47 finished with value: 0.44363723081093764 and parameters: {'booster': 'dart', 'eta': 0.03947195070308922, 'max_depth': 3, 'min_child_weight': 3.353981610905301, 'subsample': 0.7781457986846119, 'colsample_bytree': 0.8269068657796558, 'lambda': 0.20182481933837965, 'alpha': 0.009266982972842699}. Best is trial 44 with value: 0.38975154902261316.\n",
      "[I 2025-02-25 19:57:00,082] Trial 48 finished with value: 0.4266705245105892 and parameters: {'booster': 'dart', 'eta': 0.0648729293215858, 'max_depth': 5, 'min_child_weight': 2.685343916909733, 'subsample': 0.716443125630244, 'colsample_bytree': 0.9243805768225618, 'lambda': 0.9808195694459737, 'alpha': 0.023405436442788304}. Best is trial 44 with value: 0.38975154902261316.\n",
      "[I 2025-02-25 19:57:39,650] Trial 49 finished with value: 0.3855325974403529 and parameters: {'booster': 'dart', 'eta': 0.11902359774671993, 'max_depth': 10, 'min_child_weight': 1.8924372962494518, 'subsample': 0.9141793183839484, 'colsample_bytree': 0.9723434413924222, 'lambda': 0.04923453679696845, 'alpha': 0.0030986616770971743}. Best is trial 49 with value: 0.3855325974403529.\n"
     ]
    },
    {
     "name": "stdout",
     "output_type": "stream",
     "text": [
      "Best Hyperparameters: {'booster': 'dart', 'eta': 0.11902359774671993, 'max_depth': 10, 'min_child_weight': 1.8924372962494518, 'subsample': 0.9141793183839484, 'colsample_bytree': 0.9723434413924222, 'lambda': 0.04923453679696845, 'alpha': 0.0030986616770971743}\n"
     ]
    }
   ],
   "source": [
    "# Step 5: Run Optuna optimization\n",
    "study = optuna.create_study(direction='minimize', study_name=\"XGBoost Hyperparameter Tuning\")\n",
    "study.optimize(objective, n_trials=50) \n",
    "\n",
    "# Step 6: Display the best hyperparameters\n",
    "print(\"Best Hyperparameters:\", study.best_params)\n"
   ]
  },
  {
   "cell_type": "code",
   "execution_count": 49,
   "id": "dc0de9c0-4498-4299-b5a1-d73f57514111",
   "metadata": {},
   "outputs": [
    {
     "name": "stderr",
     "output_type": "stream",
     "text": [
      "C:\\Users\\PC\\Desktop\\ml_project\\venv\\lib\\site-packages\\xgboost\\core.py:158: UserWarning: [19:57:39] WARNING: C:\\buildkite-agent\\builds\\buildkite-windows-cpu-autoscaling-group-i-08cbc0333d8d4aae1-1\\xgboost\\xgboost-ci-windows\\src\\learner.cc:740: \n",
      "Parameters: { \"use_label_encoder\" } are not used.\n",
      "\n",
      "  warnings.warn(smsg, UserWarning)\n"
     ]
    },
    {
     "data": {
      "text/html": [
       "<style>#sk-container-id-1 {\n",
       "  /* Definition of color scheme common for light and dark mode */\n",
       "  --sklearn-color-text: #000;\n",
       "  --sklearn-color-text-muted: #666;\n",
       "  --sklearn-color-line: gray;\n",
       "  /* Definition of color scheme for unfitted estimators */\n",
       "  --sklearn-color-unfitted-level-0: #fff5e6;\n",
       "  --sklearn-color-unfitted-level-1: #f6e4d2;\n",
       "  --sklearn-color-unfitted-level-2: #ffe0b3;\n",
       "  --sklearn-color-unfitted-level-3: chocolate;\n",
       "  /* Definition of color scheme for fitted estimators */\n",
       "  --sklearn-color-fitted-level-0: #f0f8ff;\n",
       "  --sklearn-color-fitted-level-1: #d4ebff;\n",
       "  --sklearn-color-fitted-level-2: #b3dbfd;\n",
       "  --sklearn-color-fitted-level-3: cornflowerblue;\n",
       "\n",
       "  /* Specific color for light theme */\n",
       "  --sklearn-color-text-on-default-background: var(--sg-text-color, var(--theme-code-foreground, var(--jp-content-font-color1, black)));\n",
       "  --sklearn-color-background: var(--sg-background-color, var(--theme-background, var(--jp-layout-color0, white)));\n",
       "  --sklearn-color-border-box: var(--sg-text-color, var(--theme-code-foreground, var(--jp-content-font-color1, black)));\n",
       "  --sklearn-color-icon: #696969;\n",
       "\n",
       "  @media (prefers-color-scheme: dark) {\n",
       "    /* Redefinition of color scheme for dark theme */\n",
       "    --sklearn-color-text-on-default-background: var(--sg-text-color, var(--theme-code-foreground, var(--jp-content-font-color1, white)));\n",
       "    --sklearn-color-background: var(--sg-background-color, var(--theme-background, var(--jp-layout-color0, #111)));\n",
       "    --sklearn-color-border-box: var(--sg-text-color, var(--theme-code-foreground, var(--jp-content-font-color1, white)));\n",
       "    --sklearn-color-icon: #878787;\n",
       "  }\n",
       "}\n",
       "\n",
       "#sk-container-id-1 {\n",
       "  color: var(--sklearn-color-text);\n",
       "}\n",
       "\n",
       "#sk-container-id-1 pre {\n",
       "  padding: 0;\n",
       "}\n",
       "\n",
       "#sk-container-id-1 input.sk-hidden--visually {\n",
       "  border: 0;\n",
       "  clip: rect(1px 1px 1px 1px);\n",
       "  clip: rect(1px, 1px, 1px, 1px);\n",
       "  height: 1px;\n",
       "  margin: -1px;\n",
       "  overflow: hidden;\n",
       "  padding: 0;\n",
       "  position: absolute;\n",
       "  width: 1px;\n",
       "}\n",
       "\n",
       "#sk-container-id-1 div.sk-dashed-wrapped {\n",
       "  border: 1px dashed var(--sklearn-color-line);\n",
       "  margin: 0 0.4em 0.5em 0.4em;\n",
       "  box-sizing: border-box;\n",
       "  padding-bottom: 0.4em;\n",
       "  background-color: var(--sklearn-color-background);\n",
       "}\n",
       "\n",
       "#sk-container-id-1 div.sk-container {\n",
       "  /* jupyter's `normalize.less` sets `[hidden] { display: none; }`\n",
       "     but bootstrap.min.css set `[hidden] { display: none !important; }`\n",
       "     so we also need the `!important` here to be able to override the\n",
       "     default hidden behavior on the sphinx rendered scikit-learn.org.\n",
       "     See: https://github.com/scikit-learn/scikit-learn/issues/21755 */\n",
       "  display: inline-block !important;\n",
       "  position: relative;\n",
       "}\n",
       "\n",
       "#sk-container-id-1 div.sk-text-repr-fallback {\n",
       "  display: none;\n",
       "}\n",
       "\n",
       "div.sk-parallel-item,\n",
       "div.sk-serial,\n",
       "div.sk-item {\n",
       "  /* draw centered vertical line to link estimators */\n",
       "  background-image: linear-gradient(var(--sklearn-color-text-on-default-background), var(--sklearn-color-text-on-default-background));\n",
       "  background-size: 2px 100%;\n",
       "  background-repeat: no-repeat;\n",
       "  background-position: center center;\n",
       "}\n",
       "\n",
       "/* Parallel-specific style estimator block */\n",
       "\n",
       "#sk-container-id-1 div.sk-parallel-item::after {\n",
       "  content: \"\";\n",
       "  width: 100%;\n",
       "  border-bottom: 2px solid var(--sklearn-color-text-on-default-background);\n",
       "  flex-grow: 1;\n",
       "}\n",
       "\n",
       "#sk-container-id-1 div.sk-parallel {\n",
       "  display: flex;\n",
       "  align-items: stretch;\n",
       "  justify-content: center;\n",
       "  background-color: var(--sklearn-color-background);\n",
       "  position: relative;\n",
       "}\n",
       "\n",
       "#sk-container-id-1 div.sk-parallel-item {\n",
       "  display: flex;\n",
       "  flex-direction: column;\n",
       "}\n",
       "\n",
       "#sk-container-id-1 div.sk-parallel-item:first-child::after {\n",
       "  align-self: flex-end;\n",
       "  width: 50%;\n",
       "}\n",
       "\n",
       "#sk-container-id-1 div.sk-parallel-item:last-child::after {\n",
       "  align-self: flex-start;\n",
       "  width: 50%;\n",
       "}\n",
       "\n",
       "#sk-container-id-1 div.sk-parallel-item:only-child::after {\n",
       "  width: 0;\n",
       "}\n",
       "\n",
       "/* Serial-specific style estimator block */\n",
       "\n",
       "#sk-container-id-1 div.sk-serial {\n",
       "  display: flex;\n",
       "  flex-direction: column;\n",
       "  align-items: center;\n",
       "  background-color: var(--sklearn-color-background);\n",
       "  padding-right: 1em;\n",
       "  padding-left: 1em;\n",
       "}\n",
       "\n",
       "\n",
       "/* Toggleable style: style used for estimator/Pipeline/ColumnTransformer box that is\n",
       "clickable and can be expanded/collapsed.\n",
       "- Pipeline and ColumnTransformer use this feature and define the default style\n",
       "- Estimators will overwrite some part of the style using the `sk-estimator` class\n",
       "*/\n",
       "\n",
       "/* Pipeline and ColumnTransformer style (default) */\n",
       "\n",
       "#sk-container-id-1 div.sk-toggleable {\n",
       "  /* Default theme specific background. It is overwritten whether we have a\n",
       "  specific estimator or a Pipeline/ColumnTransformer */\n",
       "  background-color: var(--sklearn-color-background);\n",
       "}\n",
       "\n",
       "/* Toggleable label */\n",
       "#sk-container-id-1 label.sk-toggleable__label {\n",
       "  cursor: pointer;\n",
       "  display: flex;\n",
       "  width: 100%;\n",
       "  margin-bottom: 0;\n",
       "  padding: 0.5em;\n",
       "  box-sizing: border-box;\n",
       "  text-align: center;\n",
       "  align-items: start;\n",
       "  justify-content: space-between;\n",
       "  gap: 0.5em;\n",
       "}\n",
       "\n",
       "#sk-container-id-1 label.sk-toggleable__label .caption {\n",
       "  font-size: 0.6rem;\n",
       "  font-weight: lighter;\n",
       "  color: var(--sklearn-color-text-muted);\n",
       "}\n",
       "\n",
       "#sk-container-id-1 label.sk-toggleable__label-arrow:before {\n",
       "  /* Arrow on the left of the label */\n",
       "  content: \"▸\";\n",
       "  float: left;\n",
       "  margin-right: 0.25em;\n",
       "  color: var(--sklearn-color-icon);\n",
       "}\n",
       "\n",
       "#sk-container-id-1 label.sk-toggleable__label-arrow:hover:before {\n",
       "  color: var(--sklearn-color-text);\n",
       "}\n",
       "\n",
       "/* Toggleable content - dropdown */\n",
       "\n",
       "#sk-container-id-1 div.sk-toggleable__content {\n",
       "  max-height: 0;\n",
       "  max-width: 0;\n",
       "  overflow: hidden;\n",
       "  text-align: left;\n",
       "  /* unfitted */\n",
       "  background-color: var(--sklearn-color-unfitted-level-0);\n",
       "}\n",
       "\n",
       "#sk-container-id-1 div.sk-toggleable__content.fitted {\n",
       "  /* fitted */\n",
       "  background-color: var(--sklearn-color-fitted-level-0);\n",
       "}\n",
       "\n",
       "#sk-container-id-1 div.sk-toggleable__content pre {\n",
       "  margin: 0.2em;\n",
       "  border-radius: 0.25em;\n",
       "  color: var(--sklearn-color-text);\n",
       "  /* unfitted */\n",
       "  background-color: var(--sklearn-color-unfitted-level-0);\n",
       "}\n",
       "\n",
       "#sk-container-id-1 div.sk-toggleable__content.fitted pre {\n",
       "  /* unfitted */\n",
       "  background-color: var(--sklearn-color-fitted-level-0);\n",
       "}\n",
       "\n",
       "#sk-container-id-1 input.sk-toggleable__control:checked~div.sk-toggleable__content {\n",
       "  /* Expand drop-down */\n",
       "  max-height: 200px;\n",
       "  max-width: 100%;\n",
       "  overflow: auto;\n",
       "}\n",
       "\n",
       "#sk-container-id-1 input.sk-toggleable__control:checked~label.sk-toggleable__label-arrow:before {\n",
       "  content: \"▾\";\n",
       "}\n",
       "\n",
       "/* Pipeline/ColumnTransformer-specific style */\n",
       "\n",
       "#sk-container-id-1 div.sk-label input.sk-toggleable__control:checked~label.sk-toggleable__label {\n",
       "  color: var(--sklearn-color-text);\n",
       "  background-color: var(--sklearn-color-unfitted-level-2);\n",
       "}\n",
       "\n",
       "#sk-container-id-1 div.sk-label.fitted input.sk-toggleable__control:checked~label.sk-toggleable__label {\n",
       "  background-color: var(--sklearn-color-fitted-level-2);\n",
       "}\n",
       "\n",
       "/* Estimator-specific style */\n",
       "\n",
       "/* Colorize estimator box */\n",
       "#sk-container-id-1 div.sk-estimator input.sk-toggleable__control:checked~label.sk-toggleable__label {\n",
       "  /* unfitted */\n",
       "  background-color: var(--sklearn-color-unfitted-level-2);\n",
       "}\n",
       "\n",
       "#sk-container-id-1 div.sk-estimator.fitted input.sk-toggleable__control:checked~label.sk-toggleable__label {\n",
       "  /* fitted */\n",
       "  background-color: var(--sklearn-color-fitted-level-2);\n",
       "}\n",
       "\n",
       "#sk-container-id-1 div.sk-label label.sk-toggleable__label,\n",
       "#sk-container-id-1 div.sk-label label {\n",
       "  /* The background is the default theme color */\n",
       "  color: var(--sklearn-color-text-on-default-background);\n",
       "}\n",
       "\n",
       "/* On hover, darken the color of the background */\n",
       "#sk-container-id-1 div.sk-label:hover label.sk-toggleable__label {\n",
       "  color: var(--sklearn-color-text);\n",
       "  background-color: var(--sklearn-color-unfitted-level-2);\n",
       "}\n",
       "\n",
       "/* Label box, darken color on hover, fitted */\n",
       "#sk-container-id-1 div.sk-label.fitted:hover label.sk-toggleable__label.fitted {\n",
       "  color: var(--sklearn-color-text);\n",
       "  background-color: var(--sklearn-color-fitted-level-2);\n",
       "}\n",
       "\n",
       "/* Estimator label */\n",
       "\n",
       "#sk-container-id-1 div.sk-label label {\n",
       "  font-family: monospace;\n",
       "  font-weight: bold;\n",
       "  display: inline-block;\n",
       "  line-height: 1.2em;\n",
       "}\n",
       "\n",
       "#sk-container-id-1 div.sk-label-container {\n",
       "  text-align: center;\n",
       "}\n",
       "\n",
       "/* Estimator-specific */\n",
       "#sk-container-id-1 div.sk-estimator {\n",
       "  font-family: monospace;\n",
       "  border: 1px dotted var(--sklearn-color-border-box);\n",
       "  border-radius: 0.25em;\n",
       "  box-sizing: border-box;\n",
       "  margin-bottom: 0.5em;\n",
       "  /* unfitted */\n",
       "  background-color: var(--sklearn-color-unfitted-level-0);\n",
       "}\n",
       "\n",
       "#sk-container-id-1 div.sk-estimator.fitted {\n",
       "  /* fitted */\n",
       "  background-color: var(--sklearn-color-fitted-level-0);\n",
       "}\n",
       "\n",
       "/* on hover */\n",
       "#sk-container-id-1 div.sk-estimator:hover {\n",
       "  /* unfitted */\n",
       "  background-color: var(--sklearn-color-unfitted-level-2);\n",
       "}\n",
       "\n",
       "#sk-container-id-1 div.sk-estimator.fitted:hover {\n",
       "  /* fitted */\n",
       "  background-color: var(--sklearn-color-fitted-level-2);\n",
       "}\n",
       "\n",
       "/* Specification for estimator info (e.g. \"i\" and \"?\") */\n",
       "\n",
       "/* Common style for \"i\" and \"?\" */\n",
       "\n",
       ".sk-estimator-doc-link,\n",
       "a:link.sk-estimator-doc-link,\n",
       "a:visited.sk-estimator-doc-link {\n",
       "  float: right;\n",
       "  font-size: smaller;\n",
       "  line-height: 1em;\n",
       "  font-family: monospace;\n",
       "  background-color: var(--sklearn-color-background);\n",
       "  border-radius: 1em;\n",
       "  height: 1em;\n",
       "  width: 1em;\n",
       "  text-decoration: none !important;\n",
       "  margin-left: 0.5em;\n",
       "  text-align: center;\n",
       "  /* unfitted */\n",
       "  border: var(--sklearn-color-unfitted-level-1) 1pt solid;\n",
       "  color: var(--sklearn-color-unfitted-level-1);\n",
       "}\n",
       "\n",
       ".sk-estimator-doc-link.fitted,\n",
       "a:link.sk-estimator-doc-link.fitted,\n",
       "a:visited.sk-estimator-doc-link.fitted {\n",
       "  /* fitted */\n",
       "  border: var(--sklearn-color-fitted-level-1) 1pt solid;\n",
       "  color: var(--sklearn-color-fitted-level-1);\n",
       "}\n",
       "\n",
       "/* On hover */\n",
       "div.sk-estimator:hover .sk-estimator-doc-link:hover,\n",
       ".sk-estimator-doc-link:hover,\n",
       "div.sk-label-container:hover .sk-estimator-doc-link:hover,\n",
       ".sk-estimator-doc-link:hover {\n",
       "  /* unfitted */\n",
       "  background-color: var(--sklearn-color-unfitted-level-3);\n",
       "  color: var(--sklearn-color-background);\n",
       "  text-decoration: none;\n",
       "}\n",
       "\n",
       "div.sk-estimator.fitted:hover .sk-estimator-doc-link.fitted:hover,\n",
       ".sk-estimator-doc-link.fitted:hover,\n",
       "div.sk-label-container:hover .sk-estimator-doc-link.fitted:hover,\n",
       ".sk-estimator-doc-link.fitted:hover {\n",
       "  /* fitted */\n",
       "  background-color: var(--sklearn-color-fitted-level-3);\n",
       "  color: var(--sklearn-color-background);\n",
       "  text-decoration: none;\n",
       "}\n",
       "\n",
       "/* Span, style for the box shown on hovering the info icon */\n",
       ".sk-estimator-doc-link span {\n",
       "  display: none;\n",
       "  z-index: 9999;\n",
       "  position: relative;\n",
       "  font-weight: normal;\n",
       "  right: .2ex;\n",
       "  padding: .5ex;\n",
       "  margin: .5ex;\n",
       "  width: min-content;\n",
       "  min-width: 20ex;\n",
       "  max-width: 50ex;\n",
       "  color: var(--sklearn-color-text);\n",
       "  box-shadow: 2pt 2pt 4pt #999;\n",
       "  /* unfitted */\n",
       "  background: var(--sklearn-color-unfitted-level-0);\n",
       "  border: .5pt solid var(--sklearn-color-unfitted-level-3);\n",
       "}\n",
       "\n",
       ".sk-estimator-doc-link.fitted span {\n",
       "  /* fitted */\n",
       "  background: var(--sklearn-color-fitted-level-0);\n",
       "  border: var(--sklearn-color-fitted-level-3);\n",
       "}\n",
       "\n",
       ".sk-estimator-doc-link:hover span {\n",
       "  display: block;\n",
       "}\n",
       "\n",
       "/* \"?\"-specific style due to the `<a>` HTML tag */\n",
       "\n",
       "#sk-container-id-1 a.estimator_doc_link {\n",
       "  float: right;\n",
       "  font-size: 1rem;\n",
       "  line-height: 1em;\n",
       "  font-family: monospace;\n",
       "  background-color: var(--sklearn-color-background);\n",
       "  border-radius: 1rem;\n",
       "  height: 1rem;\n",
       "  width: 1rem;\n",
       "  text-decoration: none;\n",
       "  /* unfitted */\n",
       "  color: var(--sklearn-color-unfitted-level-1);\n",
       "  border: var(--sklearn-color-unfitted-level-1) 1pt solid;\n",
       "}\n",
       "\n",
       "#sk-container-id-1 a.estimator_doc_link.fitted {\n",
       "  /* fitted */\n",
       "  border: var(--sklearn-color-fitted-level-1) 1pt solid;\n",
       "  color: var(--sklearn-color-fitted-level-1);\n",
       "}\n",
       "\n",
       "/* On hover */\n",
       "#sk-container-id-1 a.estimator_doc_link:hover {\n",
       "  /* unfitted */\n",
       "  background-color: var(--sklearn-color-unfitted-level-3);\n",
       "  color: var(--sklearn-color-background);\n",
       "  text-decoration: none;\n",
       "}\n",
       "\n",
       "#sk-container-id-1 a.estimator_doc_link.fitted:hover {\n",
       "  /* fitted */\n",
       "  background-color: var(--sklearn-color-fitted-level-3);\n",
       "}\n",
       "</style><div id=\"sk-container-id-1\" class=\"sk-top-container\"><div class=\"sk-text-repr-fallback\"><pre>XGBClassifier(alpha=0.0030986616770971743, base_score=None, booster=&#x27;dart&#x27;,\n",
       "              callbacks=None, colsample_bylevel=None, colsample_bynode=None,\n",
       "              colsample_bytree=0.9723434413924222, device=None,\n",
       "              early_stopping_rounds=None, enable_categorical=False,\n",
       "              eta=0.11902359774671993, eval_metric=&#x27;logloss&#x27;,\n",
       "              feature_types=None, gamma=None, grow_policy=None,\n",
       "              importance_type=None, interaction_constraints=None,\n",
       "              lambda=0.04923453679696845, learning_rate=None, max_bin=None,\n",
       "              max_cat_threshold=None, max_cat_to_onehot=None,\n",
       "              max_delta_step=None, max_depth=10, max_leaves=None,\n",
       "              min_child_weight=1.8924372962494518, missing=nan,\n",
       "              monotone_constraints=None, multi_strategy=None, n_estimators=None, ...)</pre><b>In a Jupyter environment, please rerun this cell to show the HTML representation or trust the notebook. <br />On GitHub, the HTML representation is unable to render, please try loading this page with nbviewer.org.</b></div><div class=\"sk-container\" hidden><div class=\"sk-item\"><div class=\"sk-estimator fitted sk-toggleable\"><input class=\"sk-toggleable__control sk-hidden--visually\" id=\"sk-estimator-id-1\" type=\"checkbox\" checked><label for=\"sk-estimator-id-1\" class=\"sk-toggleable__label fitted sk-toggleable__label-arrow\"><div><div>XGBClassifier</div></div><div><span class=\"sk-estimator-doc-link fitted\">i<span>Fitted</span></span></div></label><div class=\"sk-toggleable__content fitted\"><pre>XGBClassifier(alpha=0.0030986616770971743, base_score=None, booster=&#x27;dart&#x27;,\n",
       "              callbacks=None, colsample_bylevel=None, colsample_bynode=None,\n",
       "              colsample_bytree=0.9723434413924222, device=None,\n",
       "              early_stopping_rounds=None, enable_categorical=False,\n",
       "              eta=0.11902359774671993, eval_metric=&#x27;logloss&#x27;,\n",
       "              feature_types=None, gamma=None, grow_policy=None,\n",
       "              importance_type=None, interaction_constraints=None,\n",
       "              lambda=0.04923453679696845, learning_rate=None, max_bin=None,\n",
       "              max_cat_threshold=None, max_cat_to_onehot=None,\n",
       "              max_delta_step=None, max_depth=10, max_leaves=None,\n",
       "              min_child_weight=1.8924372962494518, missing=nan,\n",
       "              monotone_constraints=None, multi_strategy=None, n_estimators=None, ...)</pre></div> </div></div></div></div>"
      ],
      "text/plain": [
       "XGBClassifier(alpha=0.0030986616770971743, base_score=None, booster='dart',\n",
       "              callbacks=None, colsample_bylevel=None, colsample_bynode=None,\n",
       "              colsample_bytree=0.9723434413924222, device=None,\n",
       "              early_stopping_rounds=None, enable_categorical=False,\n",
       "              eta=0.11902359774671993, eval_metric='logloss',\n",
       "              feature_types=None, gamma=None, grow_policy=None,\n",
       "              importance_type=None, interaction_constraints=None,\n",
       "              lambda=0.04923453679696845, learning_rate=None, max_bin=None,\n",
       "              max_cat_threshold=None, max_cat_to_onehot=None,\n",
       "              max_delta_step=None, max_depth=10, max_leaves=None,\n",
       "              min_child_weight=1.8924372962494518, missing=nan,\n",
       "              monotone_constraints=None, multi_strategy=None, n_estimators=None, ...)"
      ]
     },
     "execution_count": 49,
     "metadata": {},
     "output_type": "execute_result"
    }
   ],
   "source": [
    "# Step 7: Train the final model with the best hyperparameters\n",
    "best_params = study.best_params\n",
    "best_params.update({\n",
    "    'objective': 'binary:logistic',\n",
    "    'eval_metric': 'logloss',\n",
    "    'use_label_encoder': False  # Avoid deprecation warning\n",
    "})\n",
    "XGBoost = xgb.XGBClassifier(**best_params, random_state=42)\n",
    "XGBoost.fit(X_train_scaled, y_train)\n"
   ]
  },
  {
   "cell_type": "code",
   "execution_count": 50,
   "id": "62788e4e-28e2-496f-a26e-cee6f1646bc4",
   "metadata": {},
   "outputs": [
    {
     "name": "stdout",
     "output_type": "stream",
     "text": [
      "\n",
      "Test Accuracy: 0.8409506398537477\n",
      "\n",
      "Classification Report:\n",
      "               precision    recall  f1-score   support\n",
      "\n",
      "           0       0.73      0.51      0.60       511\n",
      "           1       0.86      0.94      0.90      1677\n",
      "\n",
      "    accuracy                           0.84      2188\n",
      "   macro avg       0.80      0.72      0.75      2188\n",
      "weighted avg       0.83      0.84      0.83      2188\n",
      "\n"
     ]
    }
   ],
   "source": [
    "# Step 8: Evaluate the model on the test set\n",
    "y_pred = XGBoost.predict(X_test_scaled)\n",
    "accuracy = accuracy_score(y_test, y_pred)\n",
    "print(\"\\nTest Accuracy:\", accuracy)\n",
    "print(\"\\nClassification Report:\\n\", classification_report(y_test, y_pred))\n"
   ]
  },
  {
   "cell_type": "code",
   "execution_count": 51,
   "id": "e5ffe897-a4fe-4fe3-ac0e-261a62ab61a7",
   "metadata": {},
   "outputs": [
    {
     "data": {
      "image/png": "[encoded data removed]",
      "text/plain": [
       "<Figure size 600x400 with 2 Axes>"
      ]
     },
     "metadata": {},
     "output_type": "display_data"
    }
   ],
   "source": [
    "# Generate confusion matrix\n",
    "cm = confusion_matrix(y_test, y_pred)\n",
    "\n",
    "# Plot confusion matrix as heatmap\n",
    "plt.figure(figsize=(6, 4))\n",
    "sns.heatmap(cm, annot=True, fmt='d', cmap='Blues', xticklabels=['Sell', 'Buy'], yticklabels=['Sell', 'Buy'])\n",
    "plt.title('Confusion Matrix  XgBooost')\n",
    "plt.xlabel('Predicted')\n",
    "plt.ylabel('Actual')\n",
    "plt.show()\n"
   ]
  },
  {
   "cell_type": "markdown",
   "id": "efb8e894-ba62-4a2c-a4e1-faed99ba99d8",
   "metadata": {},
   "source": [
    "## Random Forest Classifier"
   ]
  },
  {
   "cell_type": "code",
   "execution_count": 52,
   "id": "e0887532-e27f-46b2-a94c-c2aee21f8a07",
   "metadata": {},
   "outputs": [
    {
     "name": "stderr",
     "output_type": "stream",
     "text": [
      "[I 2025-02-25 19:57:49,369] A new study created in memory with name: no-name-09375512-d614-40ee-9a2b-75b77517f1d7\n",
      "[I 2025-02-25 19:58:21,037] Trial 0 finished with value: 0.46626228517359236 and parameters: {'n_estimators': 145, 'max_depth': 5, 'min_samples_split': 20, 'min_samples_leaf': 19, 'max_features': None, 'bootstrap': False}. Best is trial 0 with value: 0.46626228517359236.\n",
      "[I 2025-02-25 19:59:19,134] Trial 1 finished with value: 2.1299184536234064 and parameters: {'n_estimators': 143, 'max_depth': 15, 'min_samples_split': 13, 'min_samples_leaf': 3, 'max_features': None, 'bootstrap': False}. Best is trial 0 with value: 0.46626228517359236.\n",
      "[I 2025-02-25 19:59:52,896] Trial 2 finished with value: 0.412886926223303 and parameters: {'n_estimators': 166, 'max_depth': 16, 'min_samples_split': 7, 'min_samples_leaf': 14, 'max_features': None, 'bootstrap': True}. Best is trial 2 with value: 0.412886926223303.\n",
      "[I 2025-02-25 19:59:54,364] Trial 3 finished with value: 0.4473685910908839 and parameters: {'n_estimators': 60, 'max_depth': 4, 'min_samples_split': 7, 'min_samples_leaf': 13, 'max_features': 'sqrt', 'bootstrap': True}. Best is trial 2 with value: 0.412886926223303.\n",
      "[I 2025-02-25 20:00:00,386] Trial 4 finished with value: 0.4030605756478104 and parameters: {'n_estimators': 82, 'max_depth': 12, 'min_samples_split': 12, 'min_samples_leaf': 7, 'max_features': 'sqrt', 'bootstrap': False}. Best is trial 4 with value: 0.4030605756478104.\n",
      "[I 2025-02-25 20:01:09,600] Trial 5 finished with value: 0.9728675386779688 and parameters: {'n_estimators': 188, 'max_depth': 16, 'min_samples_split': 17, 'min_samples_leaf': 19, 'max_features': None, 'bootstrap': False}. Best is trial 4 with value: 0.4030605756478104.\n",
      "[I 2025-02-25 20:01:16,435] Trial 6 finished with value: 0.40330640650168326 and parameters: {'n_estimators': 87, 'max_depth': 15, 'min_samples_split': 15, 'min_samples_leaf': 11, 'max_features': 'log2', 'bootstrap': False}. Best is trial 4 with value: 0.4030605756478104.\n",
      "[I 2025-02-25 20:02:04,827] Trial 7 finished with value: 1.400644451368667 and parameters: {'n_estimators': 155, 'max_depth': 10, 'min_samples_split': 2, 'min_samples_leaf': 1, 'max_features': None, 'bootstrap': False}. Best is trial 4 with value: 0.4030605756478104.\n",
      "[I 2025-02-25 20:02:31,596] Trial 8 finished with value: 0.42487799902099377 and parameters: {'n_estimators': 150, 'max_depth': 8, 'min_samples_split': 6, 'min_samples_leaf': 8, 'max_features': None, 'bootstrap': True}. Best is trial 4 with value: 0.4030605756478104.\n",
      "[I 2025-02-25 20:02:51,724] Trial 9 finished with value: 0.4205151959966581 and parameters: {'n_estimators': 113, 'max_depth': 9, 'min_samples_split': 18, 'min_samples_leaf': 7, 'max_features': None, 'bootstrap': True}. Best is trial 4 with value: 0.4030605756478104.\n",
      "[I 2025-02-25 20:02:55,781] Trial 10 finished with value: 0.3837476804753365 and parameters: {'n_estimators': 51, 'max_depth': 19, 'min_samples_split': 11, 'min_samples_leaf': 5, 'max_features': 'sqrt', 'bootstrap': False}. Best is trial 10 with value: 0.3837476804753365.\n",
      "[I 2025-02-25 20:03:00,010] Trial 11 finished with value: 0.3829562398445298 and parameters: {'n_estimators': 51, 'max_depth': 20, 'min_samples_split': 11, 'min_samples_leaf': 5, 'max_features': 'sqrt', 'bootstrap': False}. Best is trial 11 with value: 0.3829562398445298.\n",
      "[I 2025-02-25 20:03:05,999] Trial 12 finished with value: 0.37772807867339064 and parameters: {'n_estimators': 51, 'max_depth': 20, 'min_samples_split': 10, 'min_samples_leaf': 3, 'max_features': 'sqrt', 'bootstrap': False}. Best is trial 12 with value: 0.37772807867339064.\n",
      "[I 2025-02-25 20:03:15,172] Trial 13 finished with value: 0.3743159756734477 and parameters: {'n_estimators': 80, 'max_depth': 20, 'min_samples_split': 10, 'min_samples_leaf': 1, 'max_features': 'sqrt', 'bootstrap': False}. Best is trial 13 with value: 0.3743159756734477.\n",
      "[I 2025-02-25 20:03:23,711] Trial 14 finished with value: 0.3788060485468492 and parameters: {'n_estimators': 92, 'max_depth': 18, 'min_samples_split': 9, 'min_samples_leaf': 2, 'max_features': 'sqrt', 'bootstrap': False}. Best is trial 13 with value: 0.3743159756734477.\n",
      "[I 2025-02-25 20:03:29,116] Trial 15 finished with value: 0.39146542713052634 and parameters: {'n_estimators': 72, 'max_depth': 13, 'min_samples_split': 4, 'min_samples_leaf': 4, 'max_features': 'log2', 'bootstrap': False}. Best is trial 13 with value: 0.3743159756734477.\n",
      "[I 2025-02-25 20:03:38,629] Trial 16 finished with value: 0.37006610378904126 and parameters: {'n_estimators': 111, 'max_depth': 18, 'min_samples_split': 9, 'min_samples_leaf': 1, 'max_features': 'sqrt', 'bootstrap': False}. Best is trial 16 with value: 0.37006610378904126.\n",
      "[I 2025-02-25 20:03:49,215] Trial 17 finished with value: 0.3812126669569998 and parameters: {'n_estimators': 114, 'max_depth': 18, 'min_samples_split': 14, 'min_samples_leaf': 1, 'max_features': 'sqrt', 'bootstrap': False}. Best is trial 16 with value: 0.37006610378904126.\n",
      "[I 2025-02-25 20:03:54,531] Trial 18 finished with value: 0.4188864175238806 and parameters: {'n_estimators': 107, 'max_depth': 17, 'min_samples_split': 9, 'min_samples_leaf': 15, 'max_features': 'sqrt', 'bootstrap': True}. Best is trial 16 with value: 0.37006610378904126.\n",
      "[I 2025-02-25 20:04:05,405] Trial 19 finished with value: 0.39132309236175117 and parameters: {'n_estimators': 127, 'max_depth': 20, 'min_samples_split': 5, 'min_samples_leaf': 9, 'max_features': 'log2', 'bootstrap': False}. Best is trial 16 with value: 0.37006610378904126.\n",
      "[I 2025-02-25 20:04:13,865] Trial 20 finished with value: 0.4009714928214459 and parameters: {'n_estimators': 102, 'max_depth': 12, 'min_samples_split': 8, 'min_samples_leaf': 6, 'max_features': 'sqrt', 'bootstrap': False}. Best is trial 16 with value: 0.37006610378904126.\n",
      "[I 2025-02-25 20:04:20,528] Trial 21 finished with value: 0.3737772160158361 and parameters: {'n_estimators': 71, 'max_depth': 20, 'min_samples_split': 10, 'min_samples_leaf': 3, 'max_features': 'sqrt', 'bootstrap': False}. Best is trial 16 with value: 0.37006610378904126.\n",
      "[I 2025-02-25 20:04:26,534] Trial 22 finished with value: 0.3773404513537071 and parameters: {'n_estimators': 68, 'max_depth': 18, 'min_samples_split': 10, 'min_samples_leaf': 1, 'max_features': 'sqrt', 'bootstrap': False}. Best is trial 16 with value: 0.37006610378904126.\n",
      "[I 2025-02-25 20:04:36,500] Trial 23 finished with value: 0.39299728714551097 and parameters: {'n_estimators': 127, 'max_depth': 14, 'min_samples_split': 15, 'min_samples_leaf': 4, 'max_features': 'sqrt', 'bootstrap': False}. Best is trial 16 with value: 0.37006610378904126.\n",
      "[I 2025-02-25 20:04:44,441] Trial 24 finished with value: 0.38607115230174194 and parameters: {'n_estimators': 76, 'max_depth': 19, 'min_samples_split': 12, 'min_samples_leaf': 3, 'max_features': 'sqrt', 'bootstrap': False}. Best is trial 16 with value: 0.37006610378904126.\n",
      "[I 2025-02-25 20:04:55,654] Trial 25 finished with value: 0.3734257808895901 and parameters: {'n_estimators': 97, 'max_depth': 17, 'min_samples_split': 8, 'min_samples_leaf': 1, 'max_features': 'sqrt', 'bootstrap': False}. Best is trial 16 with value: 0.37006610378904126.\n",
      "[I 2025-02-25 20:05:00,534] Trial 26 finished with value: 0.4127316296273628 and parameters: {'n_estimators': 93, 'max_depth': 17, 'min_samples_split': 3, 'min_samples_leaf': 11, 'max_features': 'log2', 'bootstrap': True}. Best is trial 16 with value: 0.37006610378904126.\n",
      "[I 2025-02-25 20:05:10,772] Trial 27 finished with value: 0.38854663908964965 and parameters: {'n_estimators': 122, 'max_depth': 14, 'min_samples_split': 8, 'min_samples_leaf': 5, 'max_features': 'sqrt', 'bootstrap': False}. Best is trial 16 with value: 0.37006610378904126.\n",
      "[I 2025-02-25 20:05:18,440] Trial 28 finished with value: 0.4072321510432049 and parameters: {'n_estimators': 94, 'max_depth': 17, 'min_samples_split': 6, 'min_samples_leaf': 17, 'max_features': 'sqrt', 'bootstrap': False}. Best is trial 16 with value: 0.37006610378904126.\n",
      "[I 2025-02-25 20:05:24,327] Trial 29 finished with value: 0.43654332202771184 and parameters: {'n_estimators': 101, 'max_depth': 6, 'min_samples_split': 8, 'min_samples_leaf': 9, 'max_features': 'sqrt', 'bootstrap': False}. Best is trial 16 with value: 0.37006610378904126.\n",
      "[I 2025-02-25 20:05:37,616] Trial 30 finished with value: 0.36851352074612465 and parameters: {'n_estimators': 140, 'max_depth': 19, 'min_samples_split': 5, 'min_samples_leaf': 2, 'max_features': 'log2', 'bootstrap': False}. Best is trial 30 with value: 0.36851352074612465.\n",
      "[I 2025-02-25 20:05:50,753] Trial 31 finished with value: 0.3685627794486355 and parameters: {'n_estimators': 141, 'max_depth': 19, 'min_samples_split': 5, 'min_samples_leaf': 2, 'max_features': 'log2', 'bootstrap': False}. Best is trial 30 with value: 0.36851352074612465.\n",
      "[I 2025-02-25 20:06:03,571] Trial 32 finished with value: 0.3774812128356329 and parameters: {'n_estimators': 137, 'max_depth': 16, 'min_samples_split': 4, 'min_samples_leaf': 2, 'max_features': 'log2', 'bootstrap': False}. Best is trial 30 with value: 0.36851352074612465.\n",
      "[I 2025-02-25 20:06:19,530] Trial 33 finished with value: 0.3694320448000375 and parameters: {'n_estimators': 160, 'max_depth': 18, 'min_samples_split': 5, 'min_samples_leaf': 2, 'max_features': 'log2', 'bootstrap': False}. Best is trial 30 with value: 0.36851352074612465.\n",
      "[I 2025-02-25 20:06:35,007] Trial 34 finished with value: 0.36990624599312194 and parameters: {'n_estimators': 168, 'max_depth': 19, 'min_samples_split': 2, 'min_samples_leaf': 4, 'max_features': 'log2', 'bootstrap': False}. Best is trial 30 with value: 0.36851352074612465.\n",
      "[I 2025-02-25 20:06:45,392] Trial 35 finished with value: 0.39913014868906815 and parameters: {'n_estimators': 174, 'max_depth': 19, 'min_samples_split': 2, 'min_samples_leaf': 6, 'max_features': 'log2', 'bootstrap': True}. Best is trial 30 with value: 0.36851352074612465.\n",
      "[I 2025-02-25 20:06:50,126] Trial 36 finished with value: 0.45194362354654743 and parameters: {'n_estimators': 168, 'max_depth': 3, 'min_samples_split': 4, 'min_samples_leaf': 4, 'max_features': 'log2', 'bootstrap': False}. Best is trial 30 with value: 0.36851352074612465.\n",
      "[I 2025-02-25 20:07:09,820] Trial 37 finished with value: 0.3785076533442427 and parameters: {'n_estimators': 198, 'max_depth': 15, 'min_samples_split': 6, 'min_samples_leaf': 3, 'max_features': 'log2', 'bootstrap': False}. Best is trial 30 with value: 0.36851352074612465.\n",
      "[I 2025-02-25 20:07:25,049] Trial 38 finished with value: 0.36125594077477424 and parameters: {'n_estimators': 158, 'max_depth': 19, 'min_samples_split': 3, 'min_samples_leaf': 2, 'max_features': 'log2', 'bootstrap': False}. Best is trial 38 with value: 0.36125594077477424.\n",
      "[I 2025-02-25 20:07:34,807] Trial 39 finished with value: 0.3953815057788735 and parameters: {'n_estimators': 144, 'max_depth': 15, 'min_samples_split': 5, 'min_samples_leaf': 2, 'max_features': 'log2', 'bootstrap': True}. Best is trial 38 with value: 0.36125594077477424.\n",
      "[I 2025-02-25 20:07:45,921] Trial 40 finished with value: 0.41187555850523394 and parameters: {'n_estimators': 136, 'max_depth': 16, 'min_samples_split': 5, 'min_samples_leaf': 20, 'max_features': 'log2', 'bootstrap': False}. Best is trial 38 with value: 0.36125594077477424.\n",
      "[I 2025-02-25 20:08:01,005] Trial 41 finished with value: 0.36125594077477424 and parameters: {'n_estimators': 158, 'max_depth': 19, 'min_samples_split': 3, 'min_samples_leaf': 2, 'max_features': 'log2', 'bootstrap': False}. Best is trial 38 with value: 0.36125594077477424.\n",
      "[I 2025-02-25 20:08:15,423] Trial 42 finished with value: 0.368904049473658 and parameters: {'n_estimators': 157, 'max_depth': 19, 'min_samples_split': 3, 'min_samples_leaf': 3, 'max_features': 'log2', 'bootstrap': False}. Best is trial 38 with value: 0.36125594077477424.\n",
      "[I 2025-02-25 20:08:31,506] Trial 43 finished with value: 0.3795806972979186 and parameters: {'n_estimators': 180, 'max_depth': 19, 'min_samples_split': 3, 'min_samples_leaf': 6, 'max_features': 'log2', 'bootstrap': False}. Best is trial 38 with value: 0.36125594077477424.\n",
      "[I 2025-02-25 20:08:46,092] Trial 44 finished with value: 0.40249270134259685 and parameters: {'n_estimators': 155, 'max_depth': 19, 'min_samples_split': 3, 'min_samples_leaf': 13, 'max_features': 'log2', 'bootstrap': False}. Best is trial 38 with value: 0.36125594077477424.\n",
      "[I 2025-02-25 20:09:00,103] Trial 45 finished with value: 0.40753215282770194 and parameters: {'n_estimators': 148, 'max_depth': 10, 'min_samples_split': 3, 'min_samples_leaf': 2, 'max_features': 'log2', 'bootstrap': False}. Best is trial 38 with value: 0.36125594077477424.\n",
      "[I 2025-02-25 20:09:15,836] Trial 46 finished with value: 0.3663409070029443 and parameters: {'n_estimators': 137, 'max_depth': 20, 'min_samples_split': 2, 'min_samples_leaf': 3, 'max_features': 'log2', 'bootstrap': False}. Best is trial 38 with value: 0.36125594077477424.\n",
      "[I 2025-02-25 20:09:51,546] Trial 47 finished with value: 0.4024238330917336 and parameters: {'n_estimators': 138, 'max_depth': 20, 'min_samples_split': 20, 'min_samples_leaf': 5, 'max_features': None, 'bootstrap': True}. Best is trial 38 with value: 0.36125594077477424.\n",
      "[I 2025-02-25 20:10:01,522] Trial 48 finished with value: 0.4301094719804298 and parameters: {'n_estimators': 151, 'max_depth': 7, 'min_samples_split': 2, 'min_samples_leaf': 7, 'max_features': 'log2', 'bootstrap': False}. Best is trial 38 with value: 0.36125594077477424.\n",
      "[I 2025-02-25 20:10:22,230] Trial 49 finished with value: 0.3748829575422509 and parameters: {'n_estimators': 163, 'max_depth': 17, 'min_samples_split': 4, 'min_samples_leaf': 4, 'max_features': 'log2', 'bootstrap': False}. Best is trial 38 with value: 0.36125594077477424.\n"
     ]
    }
   ],
   "source": [
    "import optuna\n",
    "from sklearn.ensemble import RandomForestClassifier\n",
    "from sklearn.model_selection import cross_val_score\n",
    "from sklearn.metrics import log_loss\n",
    "\n",
    "\n",
    "def objectiveRD(trial):\n",
    "    params = {\n",
    "        'n_estimators': trial.suggest_int('n_estimators', 50, 200),\n",
    "        'max_depth': trial.suggest_int('max_depth', 3, 20),\n",
    "        'min_samples_split': trial.suggest_int('min_samples_split', 2, 20),\n",
    "        'min_samples_leaf': trial.suggest_int('min_samples_leaf', 1, 20),\n",
    "        'max_features': trial.suggest_categorical('max_features', ['sqrt', 'log2', None]),\n",
    "        'bootstrap': trial.suggest_categorical('bootstrap', [True, False])\n",
    "    }\n",
    "    \n",
    "    model = RandomForestClassifier(**params, random_state=42)\n",
    "    \n",
    "    # Evaluation \n",
    "    scores = cross_val_score(model, X_train_scaled, y_train, cv=5, scoring='neg_log_loss', n_jobs=-1)\n",
    "    \n",
    "    return -np.mean(scores)  # Minimiser la log loss\n",
    "\n",
    "\n",
    "study = optuna.create_study(direction=\"minimize\")\n",
    "study.optimize(objectiveRD, n_trials=50)"
   ]
  },
  {
   "cell_type": "code",
   "execution_count": 53,
   "id": "23ff85ba-6647-4257-8f30-731dabbd1ece",
   "metadata": {
    "scrolled": true
   },
   "outputs": [
    {
     "data": {
      "text/html": [
       "<style>#sk-container-id-2 {\n",
       "  /* Definition of color scheme common for light and dark mode */\n",
       "  --sklearn-color-text: #000;\n",
       "  --sklearn-color-text-muted: #666;\n",
       "  --sklearn-color-line: gray;\n",
       "  /* Definition of color scheme for unfitted estimators */\n",
       "  --sklearn-color-unfitted-level-0: #fff5e6;\n",
       "  --sklearn-color-unfitted-level-1: #f6e4d2;\n",
       "  --sklearn-color-unfitted-level-2: #ffe0b3;\n",
       "  --sklearn-color-unfitted-level-3: chocolate;\n",
       "  /* Definition of color scheme for fitted estimators */\n",
       "  --sklearn-color-fitted-level-0: #f0f8ff;\n",
       "  --sklearn-color-fitted-level-1: #d4ebff;\n",
       "  --sklearn-color-fitted-level-2: #b3dbfd;\n",
       "  --sklearn-color-fitted-level-3: cornflowerblue;\n",
       "\n",
       "  /* Specific color for light theme */\n",
       "  --sklearn-color-text-on-default-background: var(--sg-text-color, var(--theme-code-foreground, var(--jp-content-font-color1, black)));\n",
       "  --sklearn-color-background: var(--sg-background-color, var(--theme-background, var(--jp-layout-color0, white)));\n",
       "  --sklearn-color-border-box: var(--sg-text-color, var(--theme-code-foreground, var(--jp-content-font-color1, black)));\n",
       "  --sklearn-color-icon: #696969;\n",
       "\n",
       "  @media (prefers-color-scheme: dark) {\n",
       "    /* Redefinition of color scheme for dark theme */\n",
       "    --sklearn-color-text-on-default-background: var(--sg-text-color, var(--theme-code-foreground, var(--jp-content-font-color1, white)));\n",
       "    --sklearn-color-background: var(--sg-background-color, var(--theme-background, var(--jp-layout-color0, #111)));\n",
       "    --sklearn-color-border-box: var(--sg-text-color, var(--theme-code-foreground, var(--jp-content-font-color1, white)));\n",
       "    --sklearn-color-icon: #878787;\n",
       "  }\n",
       "}\n",
       "\n",
       "#sk-container-id-2 {\n",
       "  color: var(--sklearn-color-text);\n",
       "}\n",
       "\n",
       "#sk-container-id-2 pre {\n",
       "  padding: 0;\n",
       "}\n",
       "\n",
       "#sk-container-id-2 input.sk-hidden--visually {\n",
       "  border: 0;\n",
       "  clip: rect(1px 1px 1px 1px);\n",
       "  clip: rect(1px, 1px, 1px, 1px);\n",
       "  height: 1px;\n",
       "  margin: -1px;\n",
       "  overflow: hidden;\n",
       "  padding: 0;\n",
       "  position: absolute;\n",
       "  width: 1px;\n",
       "}\n",
       "\n",
       "#sk-container-id-2 div.sk-dashed-wrapped {\n",
       "  border: 1px dashed var(--sklearn-color-line);\n",
       "  margin: 0 0.4em 0.5em 0.4em;\n",
       "  box-sizing: border-box;\n",
       "  padding-bottom: 0.4em;\n",
       "  background-color: var(--sklearn-color-background);\n",
       "}\n",
       "\n",
       "#sk-container-id-2 div.sk-container {\n",
       "  /* jupyter's `normalize.less` sets `[hidden] { display: none; }`\n",
       "     but bootstrap.min.css set `[hidden] { display: none !important; }`\n",
       "     so we also need the `!important` here to be able to override the\n",
       "     default hidden behavior on the sphinx rendered scikit-learn.org.\n",
       "     See: https://github.com/scikit-learn/scikit-learn/issues/21755 */\n",
       "  display: inline-block !important;\n",
       "  position: relative;\n",
       "}\n",
       "\n",
       "#sk-container-id-2 div.sk-text-repr-fallback {\n",
       "  display: none;\n",
       "}\n",
       "\n",
       "div.sk-parallel-item,\n",
       "div.sk-serial,\n",
       "div.sk-item {\n",
       "  /* draw centered vertical line to link estimators */\n",
       "  background-image: linear-gradient(var(--sklearn-color-text-on-default-background), var(--sklearn-color-text-on-default-background));\n",
       "  background-size: 2px 100%;\n",
       "  background-repeat: no-repeat;\n",
       "  background-position: center center;\n",
       "}\n",
       "\n",
       "/* Parallel-specific style estimator block */\n",
       "\n",
       "#sk-container-id-2 div.sk-parallel-item::after {\n",
       "  content: \"\";\n",
       "  width: 100%;\n",
       "  border-bottom: 2px solid var(--sklearn-color-text-on-default-background);\n",
       "  flex-grow: 1;\n",
       "}\n",
       "\n",
       "#sk-container-id-2 div.sk-parallel {\n",
       "  display: flex;\n",
       "  align-items: stretch;\n",
       "  justify-content: center;\n",
       "  background-color: var(--sklearn-color-background);\n",
       "  position: relative;\n",
       "}\n",
       "\n",
       "#sk-container-id-2 div.sk-parallel-item {\n",
       "  display: flex;\n",
       "  flex-direction: column;\n",
       "}\n",
       "\n",
       "#sk-container-id-2 div.sk-parallel-item:first-child::after {\n",
       "  align-self: flex-end;\n",
       "  width: 50%;\n",
       "}\n",
       "\n",
       "#sk-container-id-2 div.sk-parallel-item:last-child::after {\n",
       "  align-self: flex-start;\n",
       "  width: 50%;\n",
       "}\n",
       "\n",
       "#sk-container-id-2 div.sk-parallel-item:only-child::after {\n",
       "  width: 0;\n",
       "}\n",
       "\n",
       "/* Serial-specific style estimator block */\n",
       "\n",
       "#sk-container-id-2 div.sk-serial {\n",
       "  display: flex;\n",
       "  flex-direction: column;\n",
       "  align-items: center;\n",
       "  background-color: var(--sklearn-color-background);\n",
       "  padding-right: 1em;\n",
       "  padding-left: 1em;\n",
       "}\n",
       "\n",
       "\n",
       "/* Toggleable style: style used for estimator/Pipeline/ColumnTransformer box that is\n",
       "clickable and can be expanded/collapsed.\n",
       "- Pipeline and ColumnTransformer use this feature and define the default style\n",
       "- Estimators will overwrite some part of the style using the `sk-estimator` class\n",
       "*/\n",
       "\n",
       "/* Pipeline and ColumnTransformer style (default) */\n",
       "\n",
       "#sk-container-id-2 div.sk-toggleable {\n",
       "  /* Default theme specific background. It is overwritten whether we have a\n",
       "  specific estimator or a Pipeline/ColumnTransformer */\n",
       "  background-color: var(--sklearn-color-background);\n",
       "}\n",
       "\n",
       "/* Toggleable label */\n",
       "#sk-container-id-2 label.sk-toggleable__label {\n",
       "  cursor: pointer;\n",
       "  display: flex;\n",
       "  width: 100%;\n",
       "  margin-bottom: 0;\n",
       "  padding: 0.5em;\n",
       "  box-sizing: border-box;\n",
       "  text-align: center;\n",
       "  align-items: start;\n",
       "  justify-content: space-between;\n",
       "  gap: 0.5em;\n",
       "}\n",
       "\n",
       "#sk-container-id-2 label.sk-toggleable__label .caption {\n",
       "  font-size: 0.6rem;\n",
       "  font-weight: lighter;\n",
       "  color: var(--sklearn-color-text-muted);\n",
       "}\n",
       "\n",
       "#sk-container-id-2 label.sk-toggleable__label-arrow:before {\n",
       "  /* Arrow on the left of the label */\n",
       "  content: \"▸\";\n",
       "  float: left;\n",
       "  margin-right: 0.25em;\n",
       "  color: var(--sklearn-color-icon);\n",
       "}\n",
       "\n",
       "#sk-container-id-2 label.sk-toggleable__label-arrow:hover:before {\n",
       "  color: var(--sklearn-color-text);\n",
       "}\n",
       "\n",
       "/* Toggleable content - dropdown */\n",
       "\n",
       "#sk-container-id-2 div.sk-toggleable__content {\n",
       "  max-height: 0;\n",
       "  max-width: 0;\n",
       "  overflow: hidden;\n",
       "  text-align: left;\n",
       "  /* unfitted */\n",
       "  background-color: var(--sklearn-color-unfitted-level-0);\n",
       "}\n",
       "\n",
       "#sk-container-id-2 div.sk-toggleable__content.fitted {\n",
       "  /* fitted */\n",
       "  background-color: var(--sklearn-color-fitted-level-0);\n",
       "}\n",
       "\n",
       "#sk-container-id-2 div.sk-toggleable__content pre {\n",
       "  margin: 0.2em;\n",
       "  border-radius: 0.25em;\n",
       "  color: var(--sklearn-color-text);\n",
       "  /* unfitted */\n",
       "  background-color: var(--sklearn-color-unfitted-level-0);\n",
       "}\n",
       "\n",
       "#sk-container-id-2 div.sk-toggleable__content.fitted pre {\n",
       "  /* unfitted */\n",
       "  background-color: var(--sklearn-color-fitted-level-0);\n",
       "}\n",
       "\n",
       "#sk-container-id-2 input.sk-toggleable__control:checked~div.sk-toggleable__content {\n",
       "  /* Expand drop-down */\n",
       "  max-height: 200px;\n",
       "  max-width: 100%;\n",
       "  overflow: auto;\n",
       "}\n",
       "\n",
       "#sk-container-id-2 input.sk-toggleable__control:checked~label.sk-toggleable__label-arrow:before {\n",
       "  content: \"▾\";\n",
       "}\n",
       "\n",
       "/* Pipeline/ColumnTransformer-specific style */\n",
       "\n",
       "#sk-container-id-2 div.sk-label input.sk-toggleable__control:checked~label.sk-toggleable__label {\n",
       "  color: var(--sklearn-color-text);\n",
       "  background-color: var(--sklearn-color-unfitted-level-2);\n",
       "}\n",
       "\n",
       "#sk-container-id-2 div.sk-label.fitted input.sk-toggleable__control:checked~label.sk-toggleable__label {\n",
       "  background-color: var(--sklearn-color-fitted-level-2);\n",
       "}\n",
       "\n",
       "/* Estimator-specific style */\n",
       "\n",
       "/* Colorize estimator box */\n",
       "#sk-container-id-2 div.sk-estimator input.sk-toggleable__control:checked~label.sk-toggleable__label {\n",
       "  /* unfitted */\n",
       "  background-color: var(--sklearn-color-unfitted-level-2);\n",
       "}\n",
       "\n",
       "#sk-container-id-2 div.sk-estimator.fitted input.sk-toggleable__control:checked~label.sk-toggleable__label {\n",
       "  /* fitted */\n",
       "  background-color: var(--sklearn-color-fitted-level-2);\n",
       "}\n",
       "\n",
       "#sk-container-id-2 div.sk-label label.sk-toggleable__label,\n",
       "#sk-container-id-2 div.sk-label label {\n",
       "  /* The background is the default theme color */\n",
       "  color: var(--sklearn-color-text-on-default-background);\n",
       "}\n",
       "\n",
       "/* On hover, darken the color of the background */\n",
       "#sk-container-id-2 div.sk-label:hover label.sk-toggleable__label {\n",
       "  color: var(--sklearn-color-text);\n",
       "  background-color: var(--sklearn-color-unfitted-level-2);\n",
       "}\n",
       "\n",
       "/* Label box, darken color on hover, fitted */\n",
       "#sk-container-id-2 div.sk-label.fitted:hover label.sk-toggleable__label.fitted {\n",
       "  color: var(--sklearn-color-text);\n",
       "  background-color: var(--sklearn-color-fitted-level-2);\n",
       "}\n",
       "\n",
       "/* Estimator label */\n",
       "\n",
       "#sk-container-id-2 div.sk-label label {\n",
       "  font-family: monospace;\n",
       "  font-weight: bold;\n",
       "  display: inline-block;\n",
       "  line-height: 1.2em;\n",
       "}\n",
       "\n",
       "#sk-container-id-2 div.sk-label-container {\n",
       "  text-align: center;\n",
       "}\n",
       "\n",
       "/* Estimator-specific */\n",
       "#sk-container-id-2 div.sk-estimator {\n",
       "  font-family: monospace;\n",
       "  border: 1px dotted var(--sklearn-color-border-box);\n",
       "  border-radius: 0.25em;\n",
       "  box-sizing: border-box;\n",
       "  margin-bottom: 0.5em;\n",
       "  /* unfitted */\n",
       "  background-color: var(--sklearn-color-unfitted-level-0);\n",
       "}\n",
       "\n",
       "#sk-container-id-2 div.sk-estimator.fitted {\n",
       "  /* fitted */\n",
       "  background-color: var(--sklearn-color-fitted-level-0);\n",
       "}\n",
       "\n",
       "/* on hover */\n",
       "#sk-container-id-2 div.sk-estimator:hover {\n",
       "  /* unfitted */\n",
       "  background-color: var(--sklearn-color-unfitted-level-2);\n",
       "}\n",
       "\n",
       "#sk-container-id-2 div.sk-estimator.fitted:hover {\n",
       "  /* fitted */\n",
       "  background-color: var(--sklearn-color-fitted-level-2);\n",
       "}\n",
       "\n",
       "/* Specification for estimator info (e.g. \"i\" and \"?\") */\n",
       "\n",
       "/* Common style for \"i\" and \"?\" */\n",
       "\n",
       ".sk-estimator-doc-link,\n",
       "a:link.sk-estimator-doc-link,\n",
       "a:visited.sk-estimator-doc-link {\n",
       "  float: right;\n",
       "  font-size: smaller;\n",
       "  line-height: 1em;\n",
       "  font-family: monospace;\n",
       "  background-color: var(--sklearn-color-background);\n",
       "  border-radius: 1em;\n",
       "  height: 1em;\n",
       "  width: 1em;\n",
       "  text-decoration: none !important;\n",
       "  margin-left: 0.5em;\n",
       "  text-align: center;\n",
       "  /* unfitted */\n",
       "  border: var(--sklearn-color-unfitted-level-1) 1pt solid;\n",
       "  color: var(--sklearn-color-unfitted-level-1);\n",
       "}\n",
       "\n",
       ".sk-estimator-doc-link.fitted,\n",
       "a:link.sk-estimator-doc-link.fitted,\n",
       "a:visited.sk-estimator-doc-link.fitted {\n",
       "  /* fitted */\n",
       "  border: var(--sklearn-color-fitted-level-1) 1pt solid;\n",
       "  color: var(--sklearn-color-fitted-level-1);\n",
       "}\n",
       "\n",
       "/* On hover */\n",
       "div.sk-estimator:hover .sk-estimator-doc-link:hover,\n",
       ".sk-estimator-doc-link:hover,\n",
       "div.sk-label-container:hover .sk-estimator-doc-link:hover,\n",
       ".sk-estimator-doc-link:hover {\n",
       "  /* unfitted */\n",
       "  background-color: var(--sklearn-color-unfitted-level-3);\n",
       "  color: var(--sklearn-color-background);\n",
       "  text-decoration: none;\n",
       "}\n",
       "\n",
       "div.sk-estimator.fitted:hover .sk-estimator-doc-link.fitted:hover,\n",
       ".sk-estimator-doc-link.fitted:hover,\n",
       "div.sk-label-container:hover .sk-estimator-doc-link.fitted:hover,\n",
       ".sk-estimator-doc-link.fitted:hover {\n",
       "  /* fitted */\n",
       "  background-color: var(--sklearn-color-fitted-level-3);\n",
       "  color: var(--sklearn-color-background);\n",
       "  text-decoration: none;\n",
       "}\n",
       "\n",
       "/* Span, style for the box shown on hovering the info icon */\n",
       ".sk-estimator-doc-link span {\n",
       "  display: none;\n",
       "  z-index: 9999;\n",
       "  position: relative;\n",
       "  font-weight: normal;\n",
       "  right: .2ex;\n",
       "  padding: .5ex;\n",
       "  margin: .5ex;\n",
       "  width: min-content;\n",
       "  min-width: 20ex;\n",
       "  max-width: 50ex;\n",
       "  color: var(--sklearn-color-text);\n",
       "  box-shadow: 2pt 2pt 4pt #999;\n",
       "  /* unfitted */\n",
       "  background: var(--sklearn-color-unfitted-level-0);\n",
       "  border: .5pt solid var(--sklearn-color-unfitted-level-3);\n",
       "}\n",
       "\n",
       ".sk-estimator-doc-link.fitted span {\n",
       "  /* fitted */\n",
       "  background: var(--sklearn-color-fitted-level-0);\n",
       "  border: var(--sklearn-color-fitted-level-3);\n",
       "}\n",
       "\n",
       ".sk-estimator-doc-link:hover span {\n",
       "  display: block;\n",
       "}\n",
       "\n",
       "/* \"?\"-specific style due to the `<a>` HTML tag */\n",
       "\n",
       "#sk-container-id-2 a.estimator_doc_link {\n",
       "  float: right;\n",
       "  font-size: 1rem;\n",
       "  line-height: 1em;\n",
       "  font-family: monospace;\n",
       "  background-color: var(--sklearn-color-background);\n",
       "  border-radius: 1rem;\n",
       "  height: 1rem;\n",
       "  width: 1rem;\n",
       "  text-decoration: none;\n",
       "  /* unfitted */\n",
       "  color: var(--sklearn-color-unfitted-level-1);\n",
       "  border: var(--sklearn-color-unfitted-level-1) 1pt solid;\n",
       "}\n",
       "\n",
       "#sk-container-id-2 a.estimator_doc_link.fitted {\n",
       "  /* fitted */\n",
       "  border: var(--sklearn-color-fitted-level-1) 1pt solid;\n",
       "  color: var(--sklearn-color-fitted-level-1);\n",
       "}\n",
       "\n",
       "/* On hover */\n",
       "#sk-container-id-2 a.estimator_doc_link:hover {\n",
       "  /* unfitted */\n",
       "  background-color: var(--sklearn-color-unfitted-level-3);\n",
       "  color: var(--sklearn-color-background);\n",
       "  text-decoration: none;\n",
       "}\n",
       "\n",
       "#sk-container-id-2 a.estimator_doc_link.fitted:hover {\n",
       "  /* fitted */\n",
       "  background-color: var(--sklearn-color-fitted-level-3);\n",
       "}\n",
       "</style><div id=\"sk-container-id-2\" class=\"sk-top-container\"><div class=\"sk-text-repr-fallback\"><pre>RandomForestClassifier(bootstrap=False, max_depth=19, max_features=&#x27;log2&#x27;,\n",
       "                       min_samples_leaf=2, min_samples_split=3,\n",
       "                       n_estimators=158, random_state=42)</pre><b>In a Jupyter environment, please rerun this cell to show the HTML representation or trust the notebook. <br />On GitHub, the HTML representation is unable to render, please try loading this page with nbviewer.org.</b></div><div class=\"sk-container\" hidden><div class=\"sk-item\"><div class=\"sk-estimator fitted sk-toggleable\"><input class=\"sk-toggleable__control sk-hidden--visually\" id=\"sk-estimator-id-2\" type=\"checkbox\" checked><label for=\"sk-estimator-id-2\" class=\"sk-toggleable__label fitted sk-toggleable__label-arrow\"><div><div>RandomForestClassifier</div></div><div><a class=\"sk-estimator-doc-link fitted\" rel=\"noreferrer\" target=\"_blank\" href=\"https://scikit-learn.org/1.6/modules/generated/sklearn.ensemble.RandomForestClassifier.html\">?<span>Documentation for RandomForestClassifier</span></a><span class=\"sk-estimator-doc-link fitted\">i<span>Fitted</span></span></div></label><div class=\"sk-toggleable__content fitted\"><pre>RandomForestClassifier(bootstrap=False, max_depth=19, max_features=&#x27;log2&#x27;,\n",
       "                       min_samples_leaf=2, min_samples_split=3,\n",
       "                       n_estimators=158, random_state=42)</pre></div> </div></div></div></div>"
      ],
      "text/plain": [
       "RandomForestClassifier(bootstrap=False, max_depth=19, max_features='log2',\n",
       "                       min_samples_leaf=2, min_samples_split=3,\n",
       "                       n_estimators=158, random_state=42)"
      ]
     },
     "execution_count": 53,
     "metadata": {},
     "output_type": "execute_result"
    }
   ],
   "source": [
    "from sklearn.ensemble import RandomForestClassifier  \n",
    "\n",
    "best_params = study.best_params\n",
    "\n",
    "best_params.update({\n",
    "    'random_state': 42\n",
    "})\n",
    "\n",
    "# Créer et entraîner le modèle final avec les meilleurs hyperparamètres\n",
    "rf_model = RandomForestClassifier(**best_params)  \n",
    "rf_model.fit(X_train_scaled, y_train)\n"
   ]
  },
  {
   "cell_type": "code",
   "execution_count": 54,
   "id": "7e6c75ab-906d-4790-ab82-7fb741e006d2",
   "metadata": {},
   "outputs": [
    {
     "name": "stdout",
     "output_type": "stream",
     "text": [
      "\n",
      "Test Accuracy: 0.8569469835466179\n",
      "\n",
      "Classification Report:\n",
      "               precision    recall  f1-score   support\n",
      "\n",
      "           0       0.78      0.54      0.64       511\n",
      "           1       0.87      0.95      0.91      1677\n",
      "\n",
      "    accuracy                           0.86      2188\n",
      "   macro avg       0.83      0.75      0.77      2188\n",
      "weighted avg       0.85      0.86      0.85      2188\n",
      "\n"
     ]
    }
   ],
   "source": [
    "y_pred = rf_model.predict(X_test_scaled)\n",
    "accuracy = accuracy_score(y_test, y_pred)\n",
    "print(\"\\nTest Accuracy:\", accuracy)\n",
    "print(\"\\nClassification Report:\\n\", classification_report(y_test, y_pred))"
   ]
  },
  {
   "cell_type": "code",
   "execution_count": 55,
   "id": "cd04f9da-cf91-4140-9da3-262b2d18da58",
   "metadata": {},
   "outputs": [
    {
     "data": {
      "image/png": "[encoded data removed]",
      "text/plain": [
       "<Figure size 600x400 with 2 Axes>"
      ]
     },
     "metadata": {},
     "output_type": "display_data"
    }
   ],
   "source": [
    "cm = confusion_matrix(y_test, y_pred)\n",
    "\n",
    "# Plot confusion matrix as heatmap\n",
    "plt.figure(figsize=(6, 4))\n",
    "sns.heatmap(cm, annot=True, fmt='d', cmap='Blues', xticklabels=['Sell', 'Buy'], yticklabels=['Sell', 'Buy'])\n",
    "plt.title('Confusion Matrix  Random Forest')\n",
    "plt.xlabel('Predicted')\n",
    "plt.ylabel('Actual')\n",
    "plt.show()"
   ]
  },
  {
   "cell_type": "markdown",
   "id": "8e0e8655-1392-4170-90df-fb8e733a64b0",
   "metadata": {},
   "source": [
    "## Save Final Model (The best Model)"
   ]
  },
  {
   "cell_type": "code",
   "execution_count": 56,
   "id": "a088b52f-a09b-41d0-bf07-2c54187a6513",
   "metadata": {},
   "outputs": [
    {
     "data": {
      "text/plain": [
       "'\\nIt plots the True Positive Rate (TPR) against the False Positive Rate (FPR) \\nat different thresholds showing how well a model can distinguish between two \\nclasses such as positive and negative outcomes.\\n\\n'"
      ]
     },
     "execution_count": 56,
     "metadata": {},
     "output_type": "execute_result"
    }
   ],
   "source": [
    "'''\n",
    "It plots the True Positive Rate (TPR) against the False Positive Rate (FPR) \n",
    "at different thresholds showing how well a model can distinguish between two \n",
    "classes such as positive and negative outcomes.\n",
    "\n",
    "'''\n"
   ]
  },
  {
   "cell_type": "code",
   "execution_count": 57,
   "id": "adea987a-23be-44d5-9ff2-80c522546f16",
   "metadata": {},
   "outputs": [
    {
     "name": "stderr",
     "output_type": "stream",
     "text": [
      "C:\\Users\\PC\\Desktop\\ml_project\\venv\\lib\\site-packages\\sklearn\\utils\\validation.py:2739: UserWarning: X does not have valid feature names, but LGBMClassifier was fitted with feature names\n",
      "  warnings.warn(\n"
     ]
    },
    {
     "data": {
      "image/png": "[encoded data removed]",
      "text/plain": [
       "<Figure size 1000x800 with 1 Axes>"
      ]
     },
     "metadata": {},
     "output_type": "display_data"
    }
   ],
   "source": [
    "import matplotlib.pyplot as plt\n",
    "from sklearn.metrics import roc_curve, auc\n",
    "\n",
    "# Your trained models\n",
    "models = [rf_model, LightGBM, XGBoost]  # Update model names accordingly\n",
    "model_names = ['Random Forest', 'LightGBM', 'XGBoost']\n",
    "\n",
    "# Placeholder for actual predicted probabilities\n",
    "model_probabilities = [\n",
    "    rf_model.predict_proba(X_test_scaled),  # Random Forest\n",
    "    LightGBM.predict_proba(X_test_scaled),  # LightGBM\n",
    "    XGBoost.predict_proba(X_test_scaled)    # XGBoost\n",
    "]\n",
    "\n",
    "# Prepare a figure for plotting\n",
    "plt.figure(figsize=(10, 8))\n",
    "\n",
    "for i, model in enumerate(models):\n",
    "    # Get the predicted probabilities for the positive class (class 1)\n",
    "    y_prob = model_probabilities[i][:, 1]  # Assuming it's a binary classification model\n",
    "    \n",
    "    # Compute the ROC curve\n",
    "    fpr, tpr, thresholds = roc_curve(y_test, y_prob)\n",
    "    \n",
    "    # Compute the AUC\n",
    "    roc_auc = auc(fpr, tpr)\n",
    "    \n",
    "    # Plot the ROC curve\n",
    "    plt.plot(fpr, tpr, label=f'{model_names[i]} (AUC = {roc_auc:.2f})')\n",
    "\n",
    "# Plot the diagonal line representing random guessing\n",
    "plt.plot([0, 1], [0, 1], 'k--', label='Random Classifier (AUC = 0.5)')\n",
    "\n",
    "# Labels and Title\n",
    "plt.title('Receiver Operating Characteristic (ROC) Curve')\n",
    "plt.xlabel('False Positive Rate (FPR)')\n",
    "plt.ylabel('True Positive Rate (TPR)')\n",
    "plt.legend(loc='lower right')\n",
    "\n",
    "# Show the plot\n",
    "plt.grid(True)\n",
    "plt.show()\n"
   ]
  },
  {
   "cell_type": "code",
   "execution_count": 58,
   "id": "f8b750a1-f3c7-407a-ab84-c71acd40e4e5",
   "metadata": {},
   "outputs": [
    {
     "ename": "NameError",
     "evalue": "name 'joblib' is not defined",
     "output_type": "error",
     "traceback": [
      "\u001b[1;31m---------------------------------------------------------------------------\u001b[0m",
      "\u001b[1;31mNameError\u001b[0m                                 Traceback (most recent call last)",
      "Cell \u001b[1;32mIn[58], line 2\u001b[0m\n\u001b[0;32m      1\u001b[0m \u001b[38;5;66;03m# Save the model for future use\u001b[39;00m\n\u001b[1;32m----> 2\u001b[0m \u001b[43mjoblib\u001b[49m\u001b[38;5;241m.\u001b[39mdump(rf_model, \u001b[38;5;124m\"\u001b[39m\u001b[38;5;124mrandom_forest_model.pkl\u001b[39m\u001b[38;5;124m\"\u001b[39m)\n\u001b[0;32m      3\u001b[0m \u001b[38;5;28mprint\u001b[39m(\u001b[38;5;124m\"\u001b[39m\u001b[38;5;124mModel saved successfully.\u001b[39m\u001b[38;5;124m\"\u001b[39m)\n",
      "\u001b[1;31mNameError\u001b[0m: name 'joblib' is not defined"
     ]
    }
   ],
   "source": [
    "# Save the model for future use\n",
    "joblib.dump(rf_model, \"random_forest_model.pkl\")\n",
    "print(\"Model saved successfully.\")\n",
    "  \n"
   ]
  },
  {
   "cell_type": "code",
   "execution_count": null,
   "id": "11a59cff-9aad-4442-b375-0e6b652b9de8",
   "metadata": {},
   "outputs": [],
   "source": [
    "import joblib\n",
    "\n",
    "# Save the trained model\n",
    "joblib.dump(LightGBM, \"lightgbm_aapl_model.pkl\")\n",
    "\n",
    "# Load it later for predictions\n",
    "loaded_model = joblib.load(\"lightgbm_aapl_model.pkl\")\n"
   ]
  }
 ],
 "metadata": {
  "kernelspec": {
   "display_name": "Python (venv)",
   "language": "python",
   "name": "venv"
  },
  "language_info": {
   "codemirror_mode": {
    "name": "ipython",
    "version": 3
   },
   "file_extension": ".py",
   "mimetype": "text/x-python",
   "name": "python",
   "nbconvert_exporter": "python",
   "pygments_lexer": "ipython3",
   "version": "3.10.5"
  },
  "widgets": {
   "application/vnd.jupyter.widget-state+json": {
    "state": {},
    "version_major": 2,
    "version_minor": 0
   }
  }
 },
 "nbformat": 4,
 "nbformat_minor": 5
}
