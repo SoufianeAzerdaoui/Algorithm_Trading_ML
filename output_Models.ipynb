{
 "cells": [
  {
   "cell_type": "code",
   "execution_count": 1,
   "id": "7defd947-4413-45eb-9840-684326309e28",
   "metadata": {
    "execution": {
     "iopub.execute_input": "2025-02-25T18:44:04.144385Z",
     "iopub.status.busy": "2025-02-25T18:44:04.143388Z",
     "iopub.status.idle": "2025-02-25T18:44:09.721947Z",
     "shell.execute_reply": "2025-02-25T18:44:09.720948Z"
    },
    "papermill": {
     "duration": 5.600631,
     "end_time": "2025-02-25T18:44:09.725104",
     "exception": false,
     "start_time": "2025-02-25T18:44:04.124473",
     "status": "completed"
    },
    "tags": []
   },
   "outputs": [],
   "source": [
    "import pandas as pd\n",
    "import numpy as np\n",
    "from sklearn.model_selection import train_test_split, cross_val_score\n",
    "from sklearn.metrics import confusion_matrix, classification_report, accuracy_score\n",
    "from sklearn.ensemble import RandomForestClassifier\n",
    "import optuna\n",
    "import matplotlib.pyplot as plt\n",
    "import seaborn as sns"
   ]
  },
  {
   "cell_type": "code",
   "execution_count": 2,
   "id": "d226ede7-86b6-4551-9d67-27d29d4cc70a",
   "metadata": {
    "execution": {
     "iopub.execute_input": "2025-02-25T18:44:09.763083Z",
     "iopub.status.busy": "2025-02-25T18:44:09.762086Z",
     "iopub.status.idle": "2025-02-25T18:44:09.782901Z",
     "shell.execute_reply": "2025-02-25T18:44:09.781391Z"
    },
    "papermill": {
     "duration": 0.043292,
     "end_time": "2025-02-25T18:44:09.785424",
     "exception": false,
     "start_time": "2025-02-25T18:44:09.742132",
     "status": "completed"
    },
    "tags": []
   },
   "outputs": [
    {
     "name": "stdout",
     "output_type": "stream",
     "text": [
      "C:\\Users\\PC\\Desktop\\ml_project\\venv\\Scripts\\python.exe\n"
     ]
    }
   ],
   "source": [
    "import sys\n",
    "print(sys.executable)\n"
   ]
  },
  {
   "cell_type": "code",
   "execution_count": 3,
   "id": "a64079bc-df81-42a9-9fe9-bc3bdf817f87",
   "metadata": {
    "execution": {
     "iopub.execute_input": "2025-02-25T18:44:09.822348Z",
     "iopub.status.busy": "2025-02-25T18:44:09.821345Z",
     "iopub.status.idle": "2025-02-25T18:44:10.033412Z",
     "shell.execute_reply": "2025-02-25T18:44:10.031418Z"
    },
    "papermill": {
     "duration": 0.233259,
     "end_time": "2025-02-25T18:44:10.035530",
     "exception": false,
     "start_time": "2025-02-25T18:44:09.802271",
     "status": "completed"
    },
    "tags": []
   },
   "outputs": [
    {
     "data": {
      "text/plain": [
       "Index(['Date', 'Close', 'High', 'Low', 'Open', 'Volume', 'RSI_14', 'RSI_30',\n",
       "       'RSI_200', 'MOM_10', 'MOM_30', 'MACD_12_26_9', 'MACDh_12_26_9',\n",
       "       'MACDs_12_26_9', 'PROC_9', 'EMA_10', 'EMA_30', 'Pct_Change',\n",
       "       'Log_Returns', 'Volatility_10', 'Volatility_30', 'Future_Close',\n",
       "       'Price_Change', 'Signal'],\n",
       "      dtype='object')"
      ]
     },
     "execution_count": 3,
     "metadata": {},
     "output_type": "execute_result"
    }
   ],
   "source": [
    "data= pd.read_csv('final_data.csv')\n",
    "data.columns"
   ]
  },
  {
   "cell_type": "markdown",
   "id": "84877f02-3635-4060-80a2-ab8965d80aab",
   "metadata": {
    "papermill": {
     "duration": 0.020718,
     "end_time": "2025-02-25T18:44:10.087156",
     "exception": false,
     "start_time": "2025-02-25T18:44:10.066438",
     "status": "completed"
    },
    "tags": []
   },
   "source": [
    "## Split Data into Training and Testing Sets"
   ]
  },
  {
   "cell_type": "code",
   "execution_count": 4,
   "id": "b64eab87-e62c-4c06-9c16-aea0377ea26c",
   "metadata": {
    "execution": {
     "iopub.execute_input": "2025-02-25T18:44:10.128657Z",
     "iopub.status.busy": "2025-02-25T18:44:10.127570Z",
     "iopub.status.idle": "2025-02-25T18:44:10.142197Z",
     "shell.execute_reply": "2025-02-25T18:44:10.141004Z"
    },
    "papermill": {
     "duration": 0.038946,
     "end_time": "2025-02-25T18:44:10.145178",
     "exception": false,
     "start_time": "2025-02-25T18:44:10.106232",
     "status": "completed"
    },
    "tags": []
   },
   "outputs": [],
   "source": [
    "# Define the list of features\n",
    "features = ['RSI_14', 'RSI_30', 'RSI_200', 'MOM_10', 'MOM_30', \n",
    "            'MACD_12_26_9', 'MACDh_12_26_9', 'MACDs_12_26_9', \n",
    "            'PROC_9', 'EMA_10', 'EMA_30', 'Pct_Change', 'Log_Returns', \n",
    "            'Volatility_10', 'Volatility_30']\n",
    "\n",
    "# Define the features (X)\n",
    "X = data[features]\n",
    "\n",
    "# Define the target variable (y)\n",
    "y = data['Signal']\n"
   ]
  },
  {
   "cell_type": "code",
   "execution_count": 5,
   "id": "764f3556-b6d4-4e8d-a0d2-023b6c64e3e1",
   "metadata": {
    "execution": {
     "iopub.execute_input": "2025-02-25T18:44:10.190006Z",
     "iopub.status.busy": "2025-02-25T18:44:10.189010Z",
     "iopub.status.idle": "2025-02-25T18:44:10.204967Z",
     "shell.execute_reply": "2025-02-25T18:44:10.203968Z"
    },
    "papermill": {
     "duration": 0.040353,
     "end_time": "2025-02-25T18:44:10.207959",
     "exception": false,
     "start_time": "2025-02-25T18:44:10.167606",
     "status": "completed"
    },
    "tags": []
   },
   "outputs": [],
   "source": [
    "y = y.replace({2: 1})  # Replace '2' with '1'\n"
   ]
  },
  {
   "cell_type": "code",
   "execution_count": 6,
   "id": "287f183f-77ef-4528-8e26-163ee96df9f1",
   "metadata": {
    "execution": {
     "iopub.execute_input": "2025-02-25T18:44:10.249382Z",
     "iopub.status.busy": "2025-02-25T18:44:10.248388Z",
     "iopub.status.idle": "2025-02-25T18:44:10.267912Z",
     "shell.execute_reply": "2025-02-25T18:44:10.265915Z"
    },
    "papermill": {
     "duration": 0.044,
     "end_time": "2025-02-25T18:44:10.270908",
     "exception": false,
     "start_time": "2025-02-25T18:44:10.226908",
     "status": "completed"
    },
    "tags": []
   },
   "outputs": [],
   "source": [
    "from sklearn.model_selection import train_test_split\n",
    "\n",
    "# Split data into 80% training and 20% testing\n",
    "X_train, X_test, y_train, y_test = train_test_split(X, y, test_size=0.2, random_state=42, shuffle=False)"
   ]
  },
  {
   "cell_type": "markdown",
   "id": "ff5b9bde-2867-4d84-b924-c86b3475da87",
   "metadata": {
    "papermill": {
     "duration": 0.019947,
     "end_time": "2025-02-25T18:44:10.309525",
     "exception": false,
     "start_time": "2025-02-25T18:44:10.289578",
     "status": "completed"
    },
    "tags": []
   },
   "source": [
    "##  Feature Scaling\n"
   ]
  },
  {
   "cell_type": "code",
   "execution_count": 7,
   "id": "43a7a935-ab07-4d2e-b26e-400dc2bb1fa5",
   "metadata": {
    "execution": {
     "iopub.execute_input": "2025-02-25T18:44:10.352717Z",
     "iopub.status.busy": "2025-02-25T18:44:10.351720Z",
     "iopub.status.idle": "2025-02-25T18:44:10.376238Z",
     "shell.execute_reply": "2025-02-25T18:44:10.374243Z"
    },
    "papermill": {
     "duration": 0.049818,
     "end_time": "2025-02-25T18:44:10.378233",
     "exception": false,
     "start_time": "2025-02-25T18:44:10.328415",
     "status": "completed"
    },
    "tags": []
   },
   "outputs": [],
   "source": [
    "from sklearn.preprocessing import StandardScaler\n",
    "\n",
    "# Initialize scaler\n",
    "scaler = StandardScaler()\n",
    "\n",
    "# Fit and transform training data\n",
    "X_train_scaled = scaler.fit_transform(X_train)\n",
    "\n",
    "# Transform testing data\n",
    "X_test_scaled = scaler.transform(X_test)"
   ]
  },
  {
   "cell_type": "code",
   "execution_count": 8,
   "id": "0b773c76-a0d7-454b-9371-eeddd6c9fe4f",
   "metadata": {
    "execution": {
     "iopub.execute_input": "2025-02-25T18:44:10.423387Z",
     "iopub.status.busy": "2025-02-25T18:44:10.422390Z",
     "iopub.status.idle": "2025-02-25T18:44:10.438647Z",
     "shell.execute_reply": "2025-02-25T18:44:10.436651Z"
    },
    "papermill": {
     "duration": 0.040322,
     "end_time": "2025-02-25T18:44:10.440641",
     "exception": false,
     "start_time": "2025-02-25T18:44:10.400319",
     "status": "completed"
    },
    "tags": []
   },
   "outputs": [
    {
     "name": "stdout",
     "output_type": "stream",
     "text": [
      "X_train_scaled shape: (8748, 15)\n",
      "y_train shape: (8748,)\n"
     ]
    }
   ],
   "source": [
    "print(\"X_train_scaled shape:\", X_train_scaled.shape)\n",
    "print(\"y_train shape:\", y_train.shape)"
   ]
  },
  {
   "cell_type": "markdown",
   "id": "4cc69a4b-af05-4bec-9b28-48ced7ac273b",
   "metadata": {
    "papermill": {
     "duration": 0.020949,
     "end_time": "2025-02-25T18:44:10.479542",
     "exception": false,
     "start_time": "2025-02-25T18:44:10.458593",
     "status": "completed"
    },
    "tags": []
   },
   "source": [
    "## LightGboost"
   ]
  },
  {
   "cell_type": "code",
   "execution_count": 9,
   "id": "c6df8cce-3a48-424a-961c-8242e2f6a538",
   "metadata": {
    "execution": {
     "iopub.execute_input": "2025-02-25T18:44:10.519401Z",
     "iopub.status.busy": "2025-02-25T18:44:10.519401Z",
     "iopub.status.idle": "2025-02-25T18:44:10.592555Z",
     "shell.execute_reply": "2025-02-25T18:44:10.591557Z"
    },
    "papermill": {
     "duration": 0.098243,
     "end_time": "2025-02-25T18:44:10.595546",
     "exception": false,
     "start_time": "2025-02-25T18:44:10.497303",
     "status": "completed"
    },
    "tags": []
   },
   "outputs": [
    {
     "name": "stdout",
     "output_type": "stream",
     "text": [
      "True\n"
     ]
    }
   ],
   "source": [
    "from lightgbm import LGBMClassifier\n",
    "from sklearn.base import is_classifier\n",
    "\n",
    "# Initialize LightGBM model\n",
    "model = LGBMClassifier(n_estimators=100, learning_rate=0.1, random_state=42)\n",
    "\n",
    "# Check if the model is a classifier\n",
    "print(is_classifier(model))  # Should return True"
   ]
  },
  {
   "cell_type": "code",
   "execution_count": 10,
   "id": "f3098907-9170-479a-90fd-ac3d7a4f620f",
   "metadata": {
    "execution": {
     "iopub.execute_input": "2025-02-25T18:44:10.635797Z",
     "iopub.status.busy": "2025-02-25T18:44:10.635619Z",
     "iopub.status.idle": "2025-02-25T18:44:15.110699Z",
     "shell.execute_reply": "2025-02-25T18:44:15.109702Z"
    },
    "papermill": {
     "duration": 4.499509,
     "end_time": "2025-02-25T18:44:15.113515",
     "exception": false,
     "start_time": "2025-02-25T18:44:10.614006",
     "status": "completed"
    },
    "tags": []
   },
   "outputs": [
    {
     "name": "stdout",
     "output_type": "stream",
     "text": [
      "[LightGBM] [Info] Number of positive: 5371, number of negative: 1627\n",
      "[LightGBM] [Info] Auto-choosing col-wise multi-threading, the overhead of testing was 0.001351 seconds.\n",
      "You can set `force_col_wise=true` to remove the overhead.\n",
      "[LightGBM] [Info] Total Bins 3825\n",
      "[LightGBM] [Info] Number of data points in the train set: 6998, number of used features: 15\n",
      "[LightGBM] [Info] Number of positive: 5371, number of negative: 1627\n",
      "[LightGBM] [Info] Auto-choosing col-wise multi-threading, the overhead of testing was 0.001517 seconds.\n",
      "You can set `force_col_wise=true` to remove the overhead.\n",
      "[LightGBM] [Info] Total Bins 3825\n",
      "[LightGBM] [Info] Number of data points in the train set: 6998, number of used features: 15\n",
      "[LightGBM] [Info] Number of positive: 5371, number of negative: 1627\n",
      "[LightGBM] [Info] Auto-choosing col-wise multi-threading, the overhead of testing was 0.001547 seconds.\n",
      "You can set `force_col_wise=true` to remove the overhead.\n",
      "[LightGBM] [Info] Total Bins 3825\n",
      "[LightGBM] [Info] Number of data points in the train set: 6998, number of used features: 15\n",
      "[LightGBM] [Info] Number of positive: 5371, number of negative: 1628\n",
      "[LightGBM] [Info] Auto-choosing col-wise multi-threading, the overhead of testing was 0.001409 seconds.\n",
      "You can set `force_col_wise=true` to remove the overhead.\n",
      "[LightGBM] [Info] Total Bins 3825\n",
      "[LightGBM] [Info] Number of data points in the train set: 6999, number of used features: 15\n",
      "[LightGBM] [Info] Number of positive: 5372, number of negative: 1627\n",
      "[LightGBM] [Info] Auto-choosing col-wise multi-threading, the overhead of testing was 0.001303 seconds.\n",
      "You can set `force_col_wise=true` to remove the overhead.\n",
      "[LightGBM] [Info] Total Bins 3825\n",
      "[LightGBM] [Info] Number of data points in the train set: 6999, number of used features: 15\n",
      "[LightGBM] [Info] [binary:BoostFromScore]: pavg=0.767505 -> initscore=1.194276\n",
      "[LightGBM] [Info] Start training from score 1.194276\n",
      "[LightGBM] [Info] [binary:BoostFromScore]: pavg=0.767505 -> initscore=1.194276\n",
      "[LightGBM] [Info] Start training from score 1.194276\n",
      "[LightGBM] [Info] [binary:BoostFromScore]: pavg=0.767505 -> initscore=1.194276\n",
      "[LightGBM] [Info] Start training from score 1.194276\n",
      "[LightGBM] [Info] [binary:BoostFromScore]: pavg=0.767395 -> initscore=1.193662\n",
      "[LightGBM] [Info] Start training from score 1.193662\n",
      "[LightGBM] [Info] [binary:BoostFromScore]: pavg=0.767538 -> initscore=1.194462\n",
      "[LightGBM] [Info] Start training from score 1.194462\n"
     ]
    },
    {
     "name": "stdout",
     "output_type": "stream",
     "text": [
      "Cross-Validation Binary Logloss: 0.4189880649577101\n",
      "[LightGBM] [Info] Number of positive: 6714, number of negative: 2034\n",
      "[LightGBM] [Info] Auto-choosing col-wise multi-threading, the overhead of testing was 0.000919 seconds.\n",
      "You can set `force_col_wise=true` to remove the overhead.\n",
      "[LightGBM] [Info] Total Bins 3825\n",
      "[LightGBM] [Info] Number of data points in the train set: 8748, number of used features: 15\n",
      "[LightGBM] [Info] [binary:BoostFromScore]: pavg=0.767490 -> initscore=1.194191\n",
      "[LightGBM] [Info] Start training from score 1.194191\n"
     ]
    },
    {
     "name": "stderr",
     "output_type": "stream",
     "text": [
      "C:\\Users\\PC\\Desktop\\ml_project\\venv\\lib\\site-packages\\joblib\\externals\\loky\\backend\\context.py:136: UserWarning: Could not find the number of physical cores for the following reason:\n",
      "found 0 physical cores < 1\n",
      "Returning the number of logical cores instead. You can silence this warning by setting LOKY_MAX_CPU_COUNT to the number of cores you want to use.\n",
      "  warnings.warn(\n",
      "  File \"C:\\Users\\PC\\Desktop\\ml_project\\venv\\lib\\site-packages\\joblib\\externals\\loky\\backend\\context.py\", line 282, in _count_physical_cores\n",
      "    raise ValueError(f\"found {cpu_count_physical} physical cores < 1\")\n"
     ]
    },
    {
     "name": "stdout",
     "output_type": "stream",
     "text": [
      "Accuracy on Test Data: 0.8080438756855576\n"
     ]
    },
    {
     "name": "stderr",
     "output_type": "stream",
     "text": [
      "C:\\Users\\PC\\Desktop\\ml_project\\venv\\lib\\site-packages\\sklearn\\utils\\validation.py:2739: UserWarning: X does not have valid feature names, but LGBMClassifier was fitted with feature names\n",
      "  warnings.warn(\n"
     ]
    }
   ],
   "source": [
    "import lightgbm as lgb\n",
    "import numpy as np\n",
    "from sklearn.model_selection import train_test_split\n",
    "from sklearn.preprocessing import StandardScaler\n",
    "\n",
    "# Step 1: Prepare the data\n",
    "X_train, X_test, y_train, y_test = train_test_split(X, y, test_size=0.2, random_state=42)\n",
    "\n",
    "# Step 2: Scale the features\n",
    "scaler = StandardScaler()\n",
    "X_train_scaled = scaler.fit_transform(X_train)\n",
    "X_test_scaled = scaler.transform(X_test)\n",
    "\n",
    "# Step 3: Perform cross-validation\n",
    "cv_results = lgb.cv(\n",
    "    params={\n",
    "        'objective': 'binary',\n",
    "        'metric': 'binary_logloss'  # Use binary_logloss \n",
    "    },\n",
    "    train_set=lgb.Dataset(X_train_scaled, label=y_train),\n",
    "    num_boost_round=100,\n",
    "    nfold=5,\n",
    "    stratified=True,\n",
    "    shuffle=True\n",
    ")\n",
    "\n",
    "# Step 4: Get binary log loss\n",
    "if 'valid binary_logloss-mean' in cv_results:\n",
    "    binary_logloss_mean = np.mean(cv_results['valid binary_logloss-mean'])\n",
    "    print(\"Cross-Validation Binary Logloss:\", binary_logloss_mean)\n",
    "else:\n",
    "    print(\"'valid binary_logloss-mean' not found in cv_results.\")\n",
    "\n",
    "# If you want to calculate accuracy manually, train the model separately\n",
    "final_model = lgb.LGBMClassifier(objective='binary', random_state=42)\n",
    "final_model.fit(X_train_scaled, y_train)\n",
    "\n",
    "# Make predictions\n",
    "y_pred = final_model.predict(X_test_scaled)\n",
    "\n",
    "# Calculate accuracy\n",
    "from sklearn.metrics import accuracy_score\n",
    "accuracy = accuracy_score(y_test, y_pred)\n",
    "print(\"Accuracy on Test Data:\", accuracy)\n"
   ]
  },
  {
   "cell_type": "markdown",
   "id": "929df5cf-a75c-4725-9e4b-5c52a0432a15",
   "metadata": {
    "papermill": {
     "duration": 0.017952,
     "end_time": "2025-02-25T18:44:15.149054",
     "exception": false,
     "start_time": "2025-02-25T18:44:15.131102",
     "status": "completed"
    },
    "tags": []
   },
   "source": [
    "## Hyperparameter"
   ]
  },
  {
   "cell_type": "code",
   "execution_count": 11,
   "id": "0d045aa1-54b9-463b-868a-5215f52a0c9b",
   "metadata": {
    "execution": {
     "iopub.execute_input": "2025-02-25T18:44:15.187693Z",
     "iopub.status.busy": "2025-02-25T18:44:15.186185Z",
     "iopub.status.idle": "2025-02-25T18:47:32.717995Z",
     "shell.execute_reply": "2025-02-25T18:47:32.715781Z"
    },
    "papermill": {
     "duration": 197.553057,
     "end_time": "2025-02-25T18:47:32.720255",
     "exception": false,
     "start_time": "2025-02-25T18:44:15.167198",
     "status": "completed"
    },
    "tags": []
   },
   "outputs": [
    {
     "name": "stdout",
     "output_type": "stream",
     "text": [
      "[LightGBM] [Info] Number of positive: 5371, number of negative: 1627\n",
      "[LightGBM] [Info] Auto-choosing col-wise multi-threading, the overhead of testing was 0.000993 seconds.\n",
      "You can set `force_col_wise=true` to remove the overhead.\n",
      "[LightGBM] [Info] Total Bins 3825\n",
      "[LightGBM] [Info] Number of data points in the train set: 6998, number of used features: 15\n",
      "[LightGBM] [Info] [binary:BoostFromScore]: pavg=0.767505 -> initscore=1.194276\n",
      "[LightGBM] [Info] Start training from score 1.194276\n"
     ]
    },
    {
     "name": "stderr",
     "output_type": "stream",
     "text": [
      "C:\\Users\\PC\\Desktop\\ml_project\\venv\\lib\\site-packages\\sklearn\\utils\\validation.py:2739: UserWarning: X does not have valid feature names, but LGBMClassifier was fitted with feature names\n",
      "  warnings.warn(\n"
     ]
    },
    {
     "name": "stdout",
     "output_type": "stream",
     "text": [
      "[LightGBM] [Info] Number of positive: 5371, number of negative: 1627\n",
      "[LightGBM] [Info] Auto-choosing col-wise multi-threading, the overhead of testing was 0.001027 seconds.\n",
      "You can set `force_col_wise=true` to remove the overhead.\n",
      "[LightGBM] [Info] Total Bins 3825\n",
      "[LightGBM] [Info] Number of data points in the train set: 6998, number of used features: 15\n",
      "[LightGBM] [Info] [binary:BoostFromScore]: pavg=0.767505 -> initscore=1.194276\n",
      "[LightGBM] [Info] Start training from score 1.194276\n"
     ]
    },
    {
     "name": "stderr",
     "output_type": "stream",
     "text": [
      "C:\\Users\\PC\\Desktop\\ml_project\\venv\\lib\\site-packages\\sklearn\\utils\\validation.py:2739: UserWarning: X does not have valid feature names, but LGBMClassifier was fitted with feature names\n",
      "  warnings.warn(\n"
     ]
    },
    {
     "name": "stdout",
     "output_type": "stream",
     "text": [
      "[LightGBM] [Info] Number of positive: 5371, number of negative: 1627\n",
      "[LightGBM] [Info] Auto-choosing col-wise multi-threading, the overhead of testing was 0.001130 seconds.\n",
      "You can set `force_col_wise=true` to remove the overhead.\n",
      "[LightGBM] [Info] Total Bins 3825\n",
      "[LightGBM] [Info] Number of data points in the train set: 6998, number of used features: 15\n",
      "[LightGBM] [Info] [binary:BoostFromScore]: pavg=0.767505 -> initscore=1.194276\n",
      "[LightGBM] [Info] Start training from score 1.194276\n"
     ]
    },
    {
     "name": "stderr",
     "output_type": "stream",
     "text": [
      "C:\\Users\\PC\\Desktop\\ml_project\\venv\\lib\\site-packages\\sklearn\\utils\\validation.py:2739: UserWarning: X does not have valid feature names, but LGBMClassifier was fitted with feature names\n",
      "  warnings.warn(\n"
     ]
    },
    {
     "name": "stdout",
     "output_type": "stream",
     "text": [
      "[LightGBM] [Info] Number of positive: 5371, number of negative: 1628\n",
      "[LightGBM] [Info] Auto-choosing col-wise multi-threading, the overhead of testing was 0.001272 seconds.\n",
      "You can set `force_col_wise=true` to remove the overhead.\n",
      "[LightGBM] [Info] Total Bins 3825\n",
      "[LightGBM] [Info] Number of data points in the train set: 6999, number of used features: 15\n",
      "[LightGBM] [Info] [binary:BoostFromScore]: pavg=0.767395 -> initscore=1.193662\n",
      "[LightGBM] [Info] Start training from score 1.193662\n"
     ]
    },
    {
     "name": "stderr",
     "output_type": "stream",
     "text": [
      "C:\\Users\\PC\\Desktop\\ml_project\\venv\\lib\\site-packages\\sklearn\\utils\\validation.py:2739: UserWarning: X does not have valid feature names, but LGBMClassifier was fitted with feature names\n",
      "  warnings.warn(\n"
     ]
    },
    {
     "name": "stdout",
     "output_type": "stream",
     "text": [
      "[LightGBM] [Info] Number of positive: 5372, number of negative: 1627\n",
      "[LightGBM] [Info] Auto-choosing col-wise multi-threading, the overhead of testing was 0.001409 seconds.\n",
      "You can set `force_col_wise=true` to remove the overhead.\n",
      "[LightGBM] [Info] Total Bins 3825\n",
      "[LightGBM] [Info] Number of data points in the train set: 6999, number of used features: 15\n",
      "[LightGBM] [Info] [binary:BoostFromScore]: pavg=0.767538 -> initscore=1.194462\n",
      "[LightGBM] [Info] Start training from score 1.194462\n"
     ]
    },
    {
     "name": "stderr",
     "output_type": "stream",
     "text": [
      "C:\\Users\\PC\\Desktop\\ml_project\\venv\\lib\\site-packages\\sklearn\\utils\\validation.py:2739: UserWarning: X does not have valid feature names, but LGBMClassifier was fitted with feature names\n",
      "  warnings.warn(\n"
     ]
    },
    {
     "name": "stdout",
     "output_type": "stream",
     "text": [
      "[LightGBM] [Info] Number of positive: 5371, number of negative: 1627\n",
      "[LightGBM] [Info] Auto-choosing col-wise multi-threading, the overhead of testing was 0.001758 seconds.\n",
      "You can set `force_col_wise=true` to remove the overhead.\n",
      "[LightGBM] [Info] Total Bins 3825\n",
      "[LightGBM] [Info] Number of data points in the train set: 6998, number of used features: 15\n",
      "[LightGBM] [Info] [binary:BoostFromScore]: pavg=0.767505 -> initscore=1.194276\n",
      "[LightGBM] [Info] Start training from score 1.194276\n"
     ]
    },
    {
     "name": "stderr",
     "output_type": "stream",
     "text": [
      "C:\\Users\\PC\\Desktop\\ml_project\\venv\\lib\\site-packages\\sklearn\\utils\\validation.py:2739: UserWarning: X does not have valid feature names, but LGBMClassifier was fitted with feature names\n",
      "  warnings.warn(\n"
     ]
    },
    {
     "name": "stdout",
     "output_type": "stream",
     "text": [
      "[LightGBM] [Info] Number of positive: 5371, number of negative: 1627\n",
      "[LightGBM] [Info] Auto-choosing row-wise multi-threading, the overhead of testing was 0.001478 seconds.\n",
      "You can set `force_row_wise=true` to remove the overhead.\n",
      "And if memory is not enough, you can set `force_col_wise=true`.\n",
      "[LightGBM] [Info] Total Bins 3825\n",
      "[LightGBM] [Info] Number of data points in the train set: 6998, number of used features: 15\n",
      "[LightGBM] [Info] [binary:BoostFromScore]: pavg=0.767505 -> initscore=1.194276\n",
      "[LightGBM] [Info] Start training from score 1.194276\n"
     ]
    },
    {
     "name": "stderr",
     "output_type": "stream",
     "text": [
      "C:\\Users\\PC\\Desktop\\ml_project\\venv\\lib\\site-packages\\sklearn\\utils\\validation.py:2739: UserWarning: X does not have valid feature names, but LGBMClassifier was fitted with feature names\n",
      "  warnings.warn(\n"
     ]
    },
    {
     "name": "stdout",
     "output_type": "stream",
     "text": [
      "[LightGBM] [Info] Number of positive: 5371, number of negative: 1627\n",
      "[LightGBM] [Info] Auto-choosing col-wise multi-threading, the overhead of testing was 0.001500 seconds.\n",
      "You can set `force_col_wise=true` to remove the overhead.\n",
      "[LightGBM] [Info] Total Bins 3825\n",
      "[LightGBM] [Info] Number of data points in the train set: 6998, number of used features: 15\n",
      "[LightGBM] [Info] [binary:BoostFromScore]: pavg=0.767505 -> initscore=1.194276\n",
      "[LightGBM] [Info] Start training from score 1.194276\n"
     ]
    },
    {
     "name": "stderr",
     "output_type": "stream",
     "text": [
      "C:\\Users\\PC\\Desktop\\ml_project\\venv\\lib\\site-packages\\sklearn\\utils\\validation.py:2739: UserWarning: X does not have valid feature names, but LGBMClassifier was fitted with feature names\n",
      "  warnings.warn(\n"
     ]
    },
    {
     "name": "stdout",
     "output_type": "stream",
     "text": [
      "[LightGBM] [Info] Number of positive: 5371, number of negative: 1628\n",
      "[LightGBM] [Info] Auto-choosing col-wise multi-threading, the overhead of testing was 0.001551 seconds.\n",
      "You can set `force_col_wise=true` to remove the overhead.\n",
      "[LightGBM] [Info] Total Bins 3825\n",
      "[LightGBM] [Info] Number of data points in the train set: 6999, number of used features: 15\n",
      "[LightGBM] [Info] [binary:BoostFromScore]: pavg=0.767395 -> initscore=1.193662\n",
      "[LightGBM] [Info] Start training from score 1.193662\n"
     ]
    },
    {
     "name": "stderr",
     "output_type": "stream",
     "text": [
      "C:\\Users\\PC\\Desktop\\ml_project\\venv\\lib\\site-packages\\sklearn\\utils\\validation.py:2739: UserWarning: X does not have valid feature names, but LGBMClassifier was fitted with feature names\n",
      "  warnings.warn(\n"
     ]
    },
    {
     "name": "stdout",
     "output_type": "stream",
     "text": [
      "[LightGBM] [Info] Number of positive: 5372, number of negative: 1627\n",
      "[LightGBM] [Info] Auto-choosing col-wise multi-threading, the overhead of testing was 0.002230 seconds.\n",
      "You can set `force_col_wise=true` to remove the overhead.\n",
      "[LightGBM] [Info] Total Bins 3825\n",
      "[LightGBM] [Info] Number of data points in the train set: 6999, number of used features: 15\n",
      "[LightGBM] [Info] [binary:BoostFromScore]: pavg=0.767538 -> initscore=1.194462\n",
      "[LightGBM] [Info] Start training from score 1.194462\n"
     ]
    },
    {
     "name": "stderr",
     "output_type": "stream",
     "text": [
      "C:\\Users\\PC\\Desktop\\ml_project\\venv\\lib\\site-packages\\sklearn\\utils\\validation.py:2739: UserWarning: X does not have valid feature names, but LGBMClassifier was fitted with feature names\n",
      "  warnings.warn(\n"
     ]
    },
    {
     "name": "stdout",
     "output_type": "stream",
     "text": [
      "[LightGBM] [Info] Number of positive: 5371, number of negative: 1627\n",
      "[LightGBM] [Info] Auto-choosing col-wise multi-threading, the overhead of testing was 0.001312 seconds.\n",
      "You can set `force_col_wise=true` to remove the overhead.\n",
      "[LightGBM] [Info] Total Bins 3825\n",
      "[LightGBM] [Info] Number of data points in the train set: 6998, number of used features: 15\n",
      "[LightGBM] [Info] [binary:BoostFromScore]: pavg=0.767505 -> initscore=1.194276\n",
      "[LightGBM] [Info] Start training from score 1.194276\n"
     ]
    },
    {
     "name": "stderr",
     "output_type": "stream",
     "text": [
      "C:\\Users\\PC\\Desktop\\ml_project\\venv\\lib\\site-packages\\sklearn\\utils\\validation.py:2739: UserWarning: X does not have valid feature names, but LGBMClassifier was fitted with feature names\n",
      "  warnings.warn(\n"
     ]
    },
    {
     "name": "stdout",
     "output_type": "stream",
     "text": [
      "[LightGBM] [Info] Number of positive: 5371, number of negative: 1627\n",
      "[LightGBM] [Info] Auto-choosing col-wise multi-threading, the overhead of testing was 0.001997 seconds.\n",
      "You can set `force_col_wise=true` to remove the overhead.\n",
      "[LightGBM] [Info] Total Bins 3825\n",
      "[LightGBM] [Info] Number of data points in the train set: 6998, number of used features: 15\n",
      "[LightGBM] [Info] [binary:BoostFromScore]: pavg=0.767505 -> initscore=1.194276\n",
      "[LightGBM] [Info] Start training from score 1.194276\n"
     ]
    },
    {
     "name": "stderr",
     "output_type": "stream",
     "text": [
      "C:\\Users\\PC\\Desktop\\ml_project\\venv\\lib\\site-packages\\sklearn\\utils\\validation.py:2739: UserWarning: X does not have valid feature names, but LGBMClassifier was fitted with feature names\n",
      "  warnings.warn(\n"
     ]
    },
    {
     "name": "stdout",
     "output_type": "stream",
     "text": [
      "[LightGBM] [Info] Number of positive: 5371, number of negative: 1627\n",
      "[LightGBM] [Info] Auto-choosing col-wise multi-threading, the overhead of testing was 0.002275 seconds.\n",
      "You can set `force_col_wise=true` to remove the overhead.\n",
      "[LightGBM] [Info] Total Bins 3825\n",
      "[LightGBM] [Info] Number of data points in the train set: 6998, number of used features: 15\n",
      "[LightGBM] [Info] [binary:BoostFromScore]: pavg=0.767505 -> initscore=1.194276\n",
      "[LightGBM] [Info] Start training from score 1.194276\n"
     ]
    },
    {
     "name": "stderr",
     "output_type": "stream",
     "text": [
      "C:\\Users\\PC\\Desktop\\ml_project\\venv\\lib\\site-packages\\sklearn\\utils\\validation.py:2739: UserWarning: X does not have valid feature names, but LGBMClassifier was fitted with feature names\n",
      "  warnings.warn(\n"
     ]
    },
    {
     "name": "stdout",
     "output_type": "stream",
     "text": [
      "[LightGBM] [Info] Number of positive: 5371, number of negative: 1628\n",
      "[LightGBM] [Info] Auto-choosing col-wise multi-threading, the overhead of testing was 0.001501 seconds.\n",
      "You can set `force_col_wise=true` to remove the overhead.\n",
      "[LightGBM] [Info] Total Bins 3825\n",
      "[LightGBM] [Info] Number of data points in the train set: 6999, number of used features: 15\n",
      "[LightGBM] [Info] [binary:BoostFromScore]: pavg=0.767395 -> initscore=1.193662\n",
      "[LightGBM] [Info] Start training from score 1.193662\n"
     ]
    },
    {
     "name": "stderr",
     "output_type": "stream",
     "text": [
      "C:\\Users\\PC\\Desktop\\ml_project\\venv\\lib\\site-packages\\sklearn\\utils\\validation.py:2739: UserWarning: X does not have valid feature names, but LGBMClassifier was fitted with feature names\n",
      "  warnings.warn(\n"
     ]
    },
    {
     "name": "stdout",
     "output_type": "stream",
     "text": [
      "[LightGBM] [Info] Number of positive: 5372, number of negative: 1627\n",
      "[LightGBM] [Info] Auto-choosing col-wise multi-threading, the overhead of testing was 0.001396 seconds.\n",
      "You can set `force_col_wise=true` to remove the overhead.\n",
      "[LightGBM] [Info] Total Bins 3825\n",
      "[LightGBM] [Info] Number of data points in the train set: 6999, number of used features: 15\n",
      "[LightGBM] [Info] [binary:BoostFromScore]: pavg=0.767538 -> initscore=1.194462\n",
      "[LightGBM] [Info] Start training from score 1.194462\n"
     ]
    },
    {
     "name": "stderr",
     "output_type": "stream",
     "text": [
      "C:\\Users\\PC\\Desktop\\ml_project\\venv\\lib\\site-packages\\sklearn\\utils\\validation.py:2739: UserWarning: X does not have valid feature names, but LGBMClassifier was fitted with feature names\n",
      "  warnings.warn(\n"
     ]
    },
    {
     "name": "stdout",
     "output_type": "stream",
     "text": [
      "[LightGBM] [Info] Number of positive: 5371, number of negative: 1627\n",
      "[LightGBM] [Info] Auto-choosing col-wise multi-threading, the overhead of testing was 0.001188 seconds.\n",
      "You can set `force_col_wise=true` to remove the overhead.\n",
      "[LightGBM] [Info] Total Bins 3825\n",
      "[LightGBM] [Info] Number of data points in the train set: 6998, number of used features: 15\n",
      "[LightGBM] [Info] [binary:BoostFromScore]: pavg=0.767505 -> initscore=1.194276\n",
      "[LightGBM] [Info] Start training from score 1.194276\n"
     ]
    },
    {
     "name": "stderr",
     "output_type": "stream",
     "text": [
      "C:\\Users\\PC\\Desktop\\ml_project\\venv\\lib\\site-packages\\sklearn\\utils\\validation.py:2739: UserWarning: X does not have valid feature names, but LGBMClassifier was fitted with feature names\n",
      "  warnings.warn(\n"
     ]
    },
    {
     "name": "stdout",
     "output_type": "stream",
     "text": [
      "[LightGBM] [Info] Number of positive: 5371, number of negative: 1627\n",
      "[LightGBM] [Info] Auto-choosing col-wise multi-threading, the overhead of testing was 0.001708 seconds.\n",
      "You can set `force_col_wise=true` to remove the overhead.\n",
      "[LightGBM] [Info] Total Bins 3825\n",
      "[LightGBM] [Info] Number of data points in the train set: 6998, number of used features: 15\n",
      "[LightGBM] [Info] [binary:BoostFromScore]: pavg=0.767505 -> initscore=1.194276\n",
      "[LightGBM] [Info] Start training from score 1.194276\n"
     ]
    },
    {
     "name": "stderr",
     "output_type": "stream",
     "text": [
      "C:\\Users\\PC\\Desktop\\ml_project\\venv\\lib\\site-packages\\sklearn\\utils\\validation.py:2739: UserWarning: X does not have valid feature names, but LGBMClassifier was fitted with feature names\n",
      "  warnings.warn(\n"
     ]
    },
    {
     "name": "stdout",
     "output_type": "stream",
     "text": [
      "[LightGBM] [Info] Number of positive: 5371, number of negative: 1627\n",
      "[LightGBM] [Info] Auto-choosing col-wise multi-threading, the overhead of testing was 0.001713 seconds.\n",
      "You can set `force_col_wise=true` to remove the overhead.\n",
      "[LightGBM] [Info] Total Bins 3825\n",
      "[LightGBM] [Info] Number of data points in the train set: 6998, number of used features: 15\n",
      "[LightGBM] [Info] [binary:BoostFromScore]: pavg=0.767505 -> initscore=1.194276\n",
      "[LightGBM] [Info] Start training from score 1.194276\n"
     ]
    },
    {
     "name": "stderr",
     "output_type": "stream",
     "text": [
      "C:\\Users\\PC\\Desktop\\ml_project\\venv\\lib\\site-packages\\sklearn\\utils\\validation.py:2739: UserWarning: X does not have valid feature names, but LGBMClassifier was fitted with feature names\n",
      "  warnings.warn(\n"
     ]
    },
    {
     "name": "stdout",
     "output_type": "stream",
     "text": [
      "[LightGBM] [Info] Number of positive: 5371, number of negative: 1628\n",
      "[LightGBM] [Info] Auto-choosing col-wise multi-threading, the overhead of testing was 0.001422 seconds.\n",
      "You can set `force_col_wise=true` to remove the overhead.\n",
      "[LightGBM] [Info] Total Bins 3825\n",
      "[LightGBM] [Info] Number of data points in the train set: 6999, number of used features: 15\n",
      "[LightGBM] [Info] [binary:BoostFromScore]: pavg=0.767395 -> initscore=1.193662\n",
      "[LightGBM] [Info] Start training from score 1.193662\n"
     ]
    },
    {
     "name": "stderr",
     "output_type": "stream",
     "text": [
      "C:\\Users\\PC\\Desktop\\ml_project\\venv\\lib\\site-packages\\sklearn\\utils\\validation.py:2739: UserWarning: X does not have valid feature names, but LGBMClassifier was fitted with feature names\n",
      "  warnings.warn(\n"
     ]
    },
    {
     "name": "stdout",
     "output_type": "stream",
     "text": [
      "[LightGBM] [Info] Number of positive: 5372, number of negative: 1627\n",
      "[LightGBM] [Info] Auto-choosing col-wise multi-threading, the overhead of testing was 0.001235 seconds.\n",
      "You can set `force_col_wise=true` to remove the overhead.\n",
      "[LightGBM] [Info] Total Bins 3825\n",
      "[LightGBM] [Info] Number of data points in the train set: 6999, number of used features: 15\n",
      "[LightGBM] [Info] [binary:BoostFromScore]: pavg=0.767538 -> initscore=1.194462\n",
      "[LightGBM] [Info] Start training from score 1.194462\n"
     ]
    },
    {
     "name": "stderr",
     "output_type": "stream",
     "text": [
      "C:\\Users\\PC\\Desktop\\ml_project\\venv\\lib\\site-packages\\sklearn\\utils\\validation.py:2739: UserWarning: X does not have valid feature names, but LGBMClassifier was fitted with feature names\n",
      "  warnings.warn(\n"
     ]
    },
    {
     "name": "stdout",
     "output_type": "stream",
     "text": [
      "[LightGBM] [Info] Number of positive: 5371, number of negative: 1627\n",
      "[LightGBM] [Info] Auto-choosing col-wise multi-threading, the overhead of testing was 0.001360 seconds.\n",
      "You can set `force_col_wise=true` to remove the overhead.\n",
      "[LightGBM] [Info] Total Bins 3825\n",
      "[LightGBM] [Info] Number of data points in the train set: 6998, number of used features: 15\n",
      "[LightGBM] [Info] [binary:BoostFromScore]: pavg=0.767505 -> initscore=1.194276\n",
      "[LightGBM] [Info] Start training from score 1.194276\n"
     ]
    },
    {
     "name": "stderr",
     "output_type": "stream",
     "text": [
      "C:\\Users\\PC\\Desktop\\ml_project\\venv\\lib\\site-packages\\sklearn\\utils\\validation.py:2739: UserWarning: X does not have valid feature names, but LGBMClassifier was fitted with feature names\n",
      "  warnings.warn(\n"
     ]
    },
    {
     "name": "stdout",
     "output_type": "stream",
     "text": [
      "[LightGBM] [Info] Number of positive: 5371, number of negative: 1627\n",
      "[LightGBM] [Info] Auto-choosing col-wise multi-threading, the overhead of testing was 0.000982 seconds.\n",
      "You can set `force_col_wise=true` to remove the overhead.\n",
      "[LightGBM] [Info] Total Bins 3825\n",
      "[LightGBM] [Info] Number of data points in the train set: 6998, number of used features: 15\n",
      "[LightGBM] [Info] [binary:BoostFromScore]: pavg=0.767505 -> initscore=1.194276\n",
      "[LightGBM] [Info] Start training from score 1.194276\n"
     ]
    },
    {
     "name": "stderr",
     "output_type": "stream",
     "text": [
      "C:\\Users\\PC\\Desktop\\ml_project\\venv\\lib\\site-packages\\sklearn\\utils\\validation.py:2739: UserWarning: X does not have valid feature names, but LGBMClassifier was fitted with feature names\n",
      "  warnings.warn(\n"
     ]
    },
    {
     "name": "stdout",
     "output_type": "stream",
     "text": [
      "[LightGBM] [Info] Number of positive: 5371, number of negative: 1627\n",
      "[LightGBM] [Info] Auto-choosing col-wise multi-threading, the overhead of testing was 0.001467 seconds.\n",
      "You can set `force_col_wise=true` to remove the overhead.\n",
      "[LightGBM] [Info] Total Bins 3825\n",
      "[LightGBM] [Info] Number of data points in the train set: 6998, number of used features: 15\n",
      "[LightGBM] [Info] [binary:BoostFromScore]: pavg=0.767505 -> initscore=1.194276\n",
      "[LightGBM] [Info] Start training from score 1.194276\n"
     ]
    },
    {
     "name": "stderr",
     "output_type": "stream",
     "text": [
      "C:\\Users\\PC\\Desktop\\ml_project\\venv\\lib\\site-packages\\sklearn\\utils\\validation.py:2739: UserWarning: X does not have valid feature names, but LGBMClassifier was fitted with feature names\n",
      "  warnings.warn(\n"
     ]
    },
    {
     "name": "stdout",
     "output_type": "stream",
     "text": [
      "[LightGBM] [Info] Number of positive: 5371, number of negative: 1628\n",
      "[LightGBM] [Info] Auto-choosing col-wise multi-threading, the overhead of testing was 0.001866 seconds.\n",
      "You can set `force_col_wise=true` to remove the overhead.\n",
      "[LightGBM] [Info] Total Bins 3825\n",
      "[LightGBM] [Info] Number of data points in the train set: 6999, number of used features: 15\n",
      "[LightGBM] [Info] [binary:BoostFromScore]: pavg=0.767395 -> initscore=1.193662\n",
      "[LightGBM] [Info] Start training from score 1.193662\n"
     ]
    },
    {
     "name": "stderr",
     "output_type": "stream",
     "text": [
      "C:\\Users\\PC\\Desktop\\ml_project\\venv\\lib\\site-packages\\sklearn\\utils\\validation.py:2739: UserWarning: X does not have valid feature names, but LGBMClassifier was fitted with feature names\n",
      "  warnings.warn(\n"
     ]
    },
    {
     "name": "stdout",
     "output_type": "stream",
     "text": [
      "[LightGBM] [Info] Number of positive: 5372, number of negative: 1627\n",
      "[LightGBM] [Info] Auto-choosing col-wise multi-threading, the overhead of testing was 0.002086 seconds.\n",
      "You can set `force_col_wise=true` to remove the overhead.\n",
      "[LightGBM] [Info] Total Bins 3825\n",
      "[LightGBM] [Info] Number of data points in the train set: 6999, number of used features: 15\n",
      "[LightGBM] [Info] [binary:BoostFromScore]: pavg=0.767538 -> initscore=1.194462\n",
      "[LightGBM] [Info] Start training from score 1.194462\n"
     ]
    },
    {
     "name": "stderr",
     "output_type": "stream",
     "text": [
      "C:\\Users\\PC\\Desktop\\ml_project\\venv\\lib\\site-packages\\sklearn\\utils\\validation.py:2739: UserWarning: X does not have valid feature names, but LGBMClassifier was fitted with feature names\n",
      "  warnings.warn(\n"
     ]
    },
    {
     "name": "stdout",
     "output_type": "stream",
     "text": [
      "[LightGBM] [Info] Number of positive: 5371, number of negative: 1627\n",
      "[LightGBM] [Info] Auto-choosing col-wise multi-threading, the overhead of testing was 0.001505 seconds.\n",
      "You can set `force_col_wise=true` to remove the overhead.\n",
      "[LightGBM] [Info] Total Bins 3825\n",
      "[LightGBM] [Info] Number of data points in the train set: 6998, number of used features: 15\n",
      "[LightGBM] [Info] [binary:BoostFromScore]: pavg=0.767505 -> initscore=1.194276\n",
      "[LightGBM] [Info] Start training from score 1.194276\n"
     ]
    },
    {
     "name": "stderr",
     "output_type": "stream",
     "text": [
      "C:\\Users\\PC\\Desktop\\ml_project\\venv\\lib\\site-packages\\sklearn\\utils\\validation.py:2739: UserWarning: X does not have valid feature names, but LGBMClassifier was fitted with feature names\n",
      "  warnings.warn(\n"
     ]
    },
    {
     "name": "stdout",
     "output_type": "stream",
     "text": [
      "[LightGBM] [Info] Number of positive: 5371, number of negative: 1627\n",
      "[LightGBM] [Info] Auto-choosing col-wise multi-threading, the overhead of testing was 0.001264 seconds.\n",
      "You can set `force_col_wise=true` to remove the overhead.\n",
      "[LightGBM] [Info] Total Bins 3825\n",
      "[LightGBM] [Info] Number of data points in the train set: 6998, number of used features: 15\n",
      "[LightGBM] [Info] [binary:BoostFromScore]: pavg=0.767505 -> initscore=1.194276\n",
      "[LightGBM] [Info] Start training from score 1.194276\n"
     ]
    },
    {
     "name": "stderr",
     "output_type": "stream",
     "text": [
      "C:\\Users\\PC\\Desktop\\ml_project\\venv\\lib\\site-packages\\sklearn\\utils\\validation.py:2739: UserWarning: X does not have valid feature names, but LGBMClassifier was fitted with feature names\n",
      "  warnings.warn(\n"
     ]
    },
    {
     "name": "stdout",
     "output_type": "stream",
     "text": [
      "[LightGBM] [Info] Number of positive: 5371, number of negative: 1627\n",
      "[LightGBM] [Info] Auto-choosing col-wise multi-threading, the overhead of testing was 0.001222 seconds.\n",
      "You can set `force_col_wise=true` to remove the overhead.\n",
      "[LightGBM] [Info] Total Bins 3825\n",
      "[LightGBM] [Info] Number of data points in the train set: 6998, number of used features: 15\n",
      "[LightGBM] [Info] [binary:BoostFromScore]: pavg=0.767505 -> initscore=1.194276\n",
      "[LightGBM] [Info] Start training from score 1.194276\n"
     ]
    },
    {
     "name": "stderr",
     "output_type": "stream",
     "text": [
      "C:\\Users\\PC\\Desktop\\ml_project\\venv\\lib\\site-packages\\sklearn\\utils\\validation.py:2739: UserWarning: X does not have valid feature names, but LGBMClassifier was fitted with feature names\n",
      "  warnings.warn(\n"
     ]
    },
    {
     "name": "stdout",
     "output_type": "stream",
     "text": [
      "[LightGBM] [Info] Number of positive: 5371, number of negative: 1628\n",
      "[LightGBM] [Info] Auto-choosing col-wise multi-threading, the overhead of testing was 0.001172 seconds.\n",
      "You can set `force_col_wise=true` to remove the overhead.\n",
      "[LightGBM] [Info] Total Bins 3825\n",
      "[LightGBM] [Info] Number of data points in the train set: 6999, number of used features: 15\n",
      "[LightGBM] [Info] [binary:BoostFromScore]: pavg=0.767395 -> initscore=1.193662\n",
      "[LightGBM] [Info] Start training from score 1.193662\n"
     ]
    },
    {
     "name": "stderr",
     "output_type": "stream",
     "text": [
      "C:\\Users\\PC\\Desktop\\ml_project\\venv\\lib\\site-packages\\sklearn\\utils\\validation.py:2739: UserWarning: X does not have valid feature names, but LGBMClassifier was fitted with feature names\n",
      "  warnings.warn(\n"
     ]
    },
    {
     "name": "stdout",
     "output_type": "stream",
     "text": [
      "[LightGBM] [Info] Number of positive: 5372, number of negative: 1627\n",
      "[LightGBM] [Info] Auto-choosing col-wise multi-threading, the overhead of testing was 0.001649 seconds.\n",
      "You can set `force_col_wise=true` to remove the overhead.\n",
      "[LightGBM] [Info] Total Bins 3825\n",
      "[LightGBM] [Info] Number of data points in the train set: 6999, number of used features: 15\n",
      "[LightGBM] [Info] [binary:BoostFromScore]: pavg=0.767538 -> initscore=1.194462\n",
      "[LightGBM] [Info] Start training from score 1.194462\n"
     ]
    },
    {
     "name": "stderr",
     "output_type": "stream",
     "text": [
      "C:\\Users\\PC\\Desktop\\ml_project\\venv\\lib\\site-packages\\sklearn\\utils\\validation.py:2739: UserWarning: X does not have valid feature names, but LGBMClassifier was fitted with feature names\n",
      "  warnings.warn(\n"
     ]
    },
    {
     "name": "stdout",
     "output_type": "stream",
     "text": [
      "[LightGBM] [Info] Number of positive: 5371, number of negative: 1627\n",
      "[LightGBM] [Info] Auto-choosing col-wise multi-threading, the overhead of testing was 0.001434 seconds.\n",
      "You can set `force_col_wise=true` to remove the overhead.\n",
      "[LightGBM] [Info] Total Bins 3825\n",
      "[LightGBM] [Info] Number of data points in the train set: 6998, number of used features: 15\n",
      "[LightGBM] [Info] [binary:BoostFromScore]: pavg=0.767505 -> initscore=1.194276\n",
      "[LightGBM] [Info] Start training from score 1.194276\n"
     ]
    },
    {
     "name": "stderr",
     "output_type": "stream",
     "text": [
      "C:\\Users\\PC\\Desktop\\ml_project\\venv\\lib\\site-packages\\sklearn\\utils\\validation.py:2739: UserWarning: X does not have valid feature names, but LGBMClassifier was fitted with feature names\n",
      "  warnings.warn(\n"
     ]
    },
    {
     "name": "stdout",
     "output_type": "stream",
     "text": [
      "[LightGBM] [Info] Number of positive: 5371, number of negative: 1627\n",
      "[LightGBM] [Info] Auto-choosing col-wise multi-threading, the overhead of testing was 0.001453 seconds.\n",
      "You can set `force_col_wise=true` to remove the overhead.\n",
      "[LightGBM] [Info] Total Bins 3825\n",
      "[LightGBM] [Info] Number of data points in the train set: 6998, number of used features: 15\n",
      "[LightGBM] [Info] [binary:BoostFromScore]: pavg=0.767505 -> initscore=1.194276\n",
      "[LightGBM] [Info] Start training from score 1.194276\n"
     ]
    },
    {
     "name": "stderr",
     "output_type": "stream",
     "text": [
      "C:\\Users\\PC\\Desktop\\ml_project\\venv\\lib\\site-packages\\sklearn\\utils\\validation.py:2739: UserWarning: X does not have valid feature names, but LGBMClassifier was fitted with feature names\n",
      "  warnings.warn(\n"
     ]
    },
    {
     "name": "stdout",
     "output_type": "stream",
     "text": [
      "[LightGBM] [Info] Number of positive: 5371, number of negative: 1627\n",
      "[LightGBM] [Info] Auto-choosing col-wise multi-threading, the overhead of testing was 0.001019 seconds.\n",
      "You can set `force_col_wise=true` to remove the overhead.\n",
      "[LightGBM] [Info] Total Bins 3825\n",
      "[LightGBM] [Info] Number of data points in the train set: 6998, number of used features: 15\n",
      "[LightGBM] [Info] [binary:BoostFromScore]: pavg=0.767505 -> initscore=1.194276\n",
      "[LightGBM] [Info] Start training from score 1.194276\n"
     ]
    },
    {
     "name": "stderr",
     "output_type": "stream",
     "text": [
      "C:\\Users\\PC\\Desktop\\ml_project\\venv\\lib\\site-packages\\sklearn\\utils\\validation.py:2739: UserWarning: X does not have valid feature names, but LGBMClassifier was fitted with feature names\n",
      "  warnings.warn(\n"
     ]
    },
    {
     "name": "stdout",
     "output_type": "stream",
     "text": [
      "[LightGBM] [Info] Number of positive: 5371, number of negative: 1628\n",
      "[LightGBM] [Info] Auto-choosing col-wise multi-threading, the overhead of testing was 0.001521 seconds.\n",
      "You can set `force_col_wise=true` to remove the overhead.\n",
      "[LightGBM] [Info] Total Bins 3825\n",
      "[LightGBM] [Info] Number of data points in the train set: 6999, number of used features: 15\n",
      "[LightGBM] [Info] [binary:BoostFromScore]: pavg=0.767395 -> initscore=1.193662\n",
      "[LightGBM] [Info] Start training from score 1.193662\n"
     ]
    },
    {
     "name": "stderr",
     "output_type": "stream",
     "text": [
      "C:\\Users\\PC\\Desktop\\ml_project\\venv\\lib\\site-packages\\sklearn\\utils\\validation.py:2739: UserWarning: X does not have valid feature names, but LGBMClassifier was fitted with feature names\n",
      "  warnings.warn(\n"
     ]
    },
    {
     "name": "stdout",
     "output_type": "stream",
     "text": [
      "[LightGBM] [Info] Number of positive: 5372, number of negative: 1627\n",
      "[LightGBM] [Info] Auto-choosing col-wise multi-threading, the overhead of testing was 0.001298 seconds.\n",
      "You can set `force_col_wise=true` to remove the overhead.\n",
      "[LightGBM] [Info] Total Bins 3825\n",
      "[LightGBM] [Info] Number of data points in the train set: 6999, number of used features: 15\n",
      "[LightGBM] [Info] [binary:BoostFromScore]: pavg=0.767538 -> initscore=1.194462\n",
      "[LightGBM] [Info] Start training from score 1.194462\n"
     ]
    },
    {
     "name": "stderr",
     "output_type": "stream",
     "text": [
      "C:\\Users\\PC\\Desktop\\ml_project\\venv\\lib\\site-packages\\sklearn\\utils\\validation.py:2739: UserWarning: X does not have valid feature names, but LGBMClassifier was fitted with feature names\n",
      "  warnings.warn(\n"
     ]
    },
    {
     "name": "stdout",
     "output_type": "stream",
     "text": [
      "[LightGBM] [Info] Number of positive: 5371, number of negative: 1627\n",
      "[LightGBM] [Info] Auto-choosing col-wise multi-threading, the overhead of testing was 0.001216 seconds.\n",
      "You can set `force_col_wise=true` to remove the overhead.\n",
      "[LightGBM] [Info] Total Bins 3825\n",
      "[LightGBM] [Info] Number of data points in the train set: 6998, number of used features: 15\n",
      "[LightGBM] [Info] [binary:BoostFromScore]: pavg=0.767505 -> initscore=1.194276\n",
      "[LightGBM] [Info] Start training from score 1.194276\n"
     ]
    },
    {
     "name": "stderr",
     "output_type": "stream",
     "text": [
      "C:\\Users\\PC\\Desktop\\ml_project\\venv\\lib\\site-packages\\sklearn\\utils\\validation.py:2739: UserWarning: X does not have valid feature names, but LGBMClassifier was fitted with feature names\n",
      "  warnings.warn(\n"
     ]
    },
    {
     "name": "stdout",
     "output_type": "stream",
     "text": [
      "[LightGBM] [Info] Number of positive: 5371, number of negative: 1627\n",
      "[LightGBM] [Info] Auto-choosing col-wise multi-threading, the overhead of testing was 0.001131 seconds.\n",
      "You can set `force_col_wise=true` to remove the overhead.\n",
      "[LightGBM] [Info] Total Bins 3825\n",
      "[LightGBM] [Info] Number of data points in the train set: 6998, number of used features: 15\n",
      "[LightGBM] [Info] [binary:BoostFromScore]: pavg=0.767505 -> initscore=1.194276\n",
      "[LightGBM] [Info] Start training from score 1.194276\n"
     ]
    },
    {
     "name": "stderr",
     "output_type": "stream",
     "text": [
      "C:\\Users\\PC\\Desktop\\ml_project\\venv\\lib\\site-packages\\sklearn\\utils\\validation.py:2739: UserWarning: X does not have valid feature names, but LGBMClassifier was fitted with feature names\n",
      "  warnings.warn(\n"
     ]
    },
    {
     "name": "stdout",
     "output_type": "stream",
     "text": [
      "[LightGBM] [Info] Number of positive: 5371, number of negative: 1627\n",
      "[LightGBM] [Info] Auto-choosing col-wise multi-threading, the overhead of testing was 0.001253 seconds.\n",
      "You can set `force_col_wise=true` to remove the overhead.\n",
      "[LightGBM] [Info] Total Bins 3825\n",
      "[LightGBM] [Info] Number of data points in the train set: 6998, number of used features: 15\n",
      "[LightGBM] [Info] [binary:BoostFromScore]: pavg=0.767505 -> initscore=1.194276\n",
      "[LightGBM] [Info] Start training from score 1.194276\n"
     ]
    },
    {
     "name": "stderr",
     "output_type": "stream",
     "text": [
      "C:\\Users\\PC\\Desktop\\ml_project\\venv\\lib\\site-packages\\sklearn\\utils\\validation.py:2739: UserWarning: X does not have valid feature names, but LGBMClassifier was fitted with feature names\n",
      "  warnings.warn(\n"
     ]
    },
    {
     "name": "stdout",
     "output_type": "stream",
     "text": [
      "[LightGBM] [Info] Number of positive: 5371, number of negative: 1628\n",
      "[LightGBM] [Info] Auto-choosing col-wise multi-threading, the overhead of testing was 0.001107 seconds.\n",
      "You can set `force_col_wise=true` to remove the overhead.\n",
      "[LightGBM] [Info] Total Bins 3825\n",
      "[LightGBM] [Info] Number of data points in the train set: 6999, number of used features: 15\n",
      "[LightGBM] [Info] [binary:BoostFromScore]: pavg=0.767395 -> initscore=1.193662\n",
      "[LightGBM] [Info] Start training from score 1.193662\n"
     ]
    },
    {
     "name": "stderr",
     "output_type": "stream",
     "text": [
      "C:\\Users\\PC\\Desktop\\ml_project\\venv\\lib\\site-packages\\sklearn\\utils\\validation.py:2739: UserWarning: X does not have valid feature names, but LGBMClassifier was fitted with feature names\n",
      "  warnings.warn(\n"
     ]
    },
    {
     "name": "stdout",
     "output_type": "stream",
     "text": [
      "[LightGBM] [Info] Number of positive: 5372, number of negative: 1627\n",
      "[LightGBM] [Info] Auto-choosing col-wise multi-threading, the overhead of testing was 0.002123 seconds.\n",
      "You can set `force_col_wise=true` to remove the overhead.\n",
      "[LightGBM] [Info] Total Bins 3825\n",
      "[LightGBM] [Info] Number of data points in the train set: 6999, number of used features: 15\n",
      "[LightGBM] [Info] [binary:BoostFromScore]: pavg=0.767538 -> initscore=1.194462\n",
      "[LightGBM] [Info] Start training from score 1.194462\n"
     ]
    },
    {
     "name": "stderr",
     "output_type": "stream",
     "text": [
      "C:\\Users\\PC\\Desktop\\ml_project\\venv\\lib\\site-packages\\sklearn\\utils\\validation.py:2739: UserWarning: X does not have valid feature names, but LGBMClassifier was fitted with feature names\n",
      "  warnings.warn(\n"
     ]
    },
    {
     "name": "stdout",
     "output_type": "stream",
     "text": [
      "[LightGBM] [Info] Number of positive: 5371, number of negative: 1627\n",
      "[LightGBM] [Info] Auto-choosing col-wise multi-threading, the overhead of testing was 0.002089 seconds.\n",
      "You can set `force_col_wise=true` to remove the overhead.\n",
      "[LightGBM] [Info] Total Bins 3825\n",
      "[LightGBM] [Info] Number of data points in the train set: 6998, number of used features: 15\n",
      "[LightGBM] [Info] [binary:BoostFromScore]: pavg=0.767505 -> initscore=1.194276\n",
      "[LightGBM] [Info] Start training from score 1.194276\n"
     ]
    },
    {
     "name": "stderr",
     "output_type": "stream",
     "text": [
      "C:\\Users\\PC\\Desktop\\ml_project\\venv\\lib\\site-packages\\sklearn\\utils\\validation.py:2739: UserWarning: X does not have valid feature names, but LGBMClassifier was fitted with feature names\n",
      "  warnings.warn(\n"
     ]
    },
    {
     "name": "stdout",
     "output_type": "stream",
     "text": [
      "[LightGBM] [Info] Number of positive: 5371, number of negative: 1627\n",
      "[LightGBM] [Info] Auto-choosing col-wise multi-threading, the overhead of testing was 0.001786 seconds.\n",
      "You can set `force_col_wise=true` to remove the overhead.\n",
      "[LightGBM] [Info] Total Bins 3825\n",
      "[LightGBM] [Info] Number of data points in the train set: 6998, number of used features: 15\n",
      "[LightGBM] [Info] [binary:BoostFromScore]: pavg=0.767505 -> initscore=1.194276\n",
      "[LightGBM] [Info] Start training from score 1.194276\n"
     ]
    },
    {
     "name": "stderr",
     "output_type": "stream",
     "text": [
      "C:\\Users\\PC\\Desktop\\ml_project\\venv\\lib\\site-packages\\sklearn\\utils\\validation.py:2739: UserWarning: X does not have valid feature names, but LGBMClassifier was fitted with feature names\n",
      "  warnings.warn(\n"
     ]
    },
    {
     "name": "stdout",
     "output_type": "stream",
     "text": [
      "[LightGBM] [Info] Number of positive: 5371, number of negative: 1627\n",
      "[LightGBM] [Info] Auto-choosing col-wise multi-threading, the overhead of testing was 0.001353 seconds.\n",
      "You can set `force_col_wise=true` to remove the overhead.\n",
      "[LightGBM] [Info] Total Bins 3825\n",
      "[LightGBM] [Info] Number of data points in the train set: 6998, number of used features: 15\n",
      "[LightGBM] [Info] [binary:BoostFromScore]: pavg=0.767505 -> initscore=1.194276\n",
      "[LightGBM] [Info] Start training from score 1.194276\n"
     ]
    },
    {
     "name": "stderr",
     "output_type": "stream",
     "text": [
      "C:\\Users\\PC\\Desktop\\ml_project\\venv\\lib\\site-packages\\sklearn\\utils\\validation.py:2739: UserWarning: X does not have valid feature names, but LGBMClassifier was fitted with feature names\n",
      "  warnings.warn(\n"
     ]
    },
    {
     "name": "stdout",
     "output_type": "stream",
     "text": [
      "[LightGBM] [Info] Number of positive: 5371, number of negative: 1628\n",
      "[LightGBM] [Info] Auto-choosing col-wise multi-threading, the overhead of testing was 0.001154 seconds.\n",
      "You can set `force_col_wise=true` to remove the overhead.\n",
      "[LightGBM] [Info] Total Bins 3825\n",
      "[LightGBM] [Info] Number of data points in the train set: 6999, number of used features: 15\n",
      "[LightGBM] [Info] [binary:BoostFromScore]: pavg=0.767395 -> initscore=1.193662\n",
      "[LightGBM] [Info] Start training from score 1.193662\n"
     ]
    },
    {
     "name": "stderr",
     "output_type": "stream",
     "text": [
      "C:\\Users\\PC\\Desktop\\ml_project\\venv\\lib\\site-packages\\sklearn\\utils\\validation.py:2739: UserWarning: X does not have valid feature names, but LGBMClassifier was fitted with feature names\n",
      "  warnings.warn(\n"
     ]
    },
    {
     "name": "stdout",
     "output_type": "stream",
     "text": [
      "[LightGBM] [Info] Number of positive: 5372, number of negative: 1627\n",
      "[LightGBM] [Info] Auto-choosing col-wise multi-threading, the overhead of testing was 0.002194 seconds.\n",
      "You can set `force_col_wise=true` to remove the overhead.\n",
      "[LightGBM] [Info] Total Bins 3825\n",
      "[LightGBM] [Info] Number of data points in the train set: 6999, number of used features: 15\n",
      "[LightGBM] [Info] [binary:BoostFromScore]: pavg=0.767538 -> initscore=1.194462\n",
      "[LightGBM] [Info] Start training from score 1.194462\n"
     ]
    },
    {
     "name": "stderr",
     "output_type": "stream",
     "text": [
      "C:\\Users\\PC\\Desktop\\ml_project\\venv\\lib\\site-packages\\sklearn\\utils\\validation.py:2739: UserWarning: X does not have valid feature names, but LGBMClassifier was fitted with feature names\n",
      "  warnings.warn(\n"
     ]
    },
    {
     "name": "stdout",
     "output_type": "stream",
     "text": [
      "[LightGBM] [Info] Number of positive: 5371, number of negative: 1627\n",
      "[LightGBM] [Info] Auto-choosing col-wise multi-threading, the overhead of testing was 0.001005 seconds.\n",
      "You can set `force_col_wise=true` to remove the overhead.\n",
      "[LightGBM] [Info] Total Bins 3825\n",
      "[LightGBM] [Info] Number of data points in the train set: 6998, number of used features: 15\n",
      "[LightGBM] [Info] [binary:BoostFromScore]: pavg=0.767505 -> initscore=1.194276\n",
      "[LightGBM] [Info] Start training from score 1.194276\n"
     ]
    },
    {
     "name": "stderr",
     "output_type": "stream",
     "text": [
      "C:\\Users\\PC\\Desktop\\ml_project\\venv\\lib\\site-packages\\sklearn\\utils\\validation.py:2739: UserWarning: X does not have valid feature names, but LGBMClassifier was fitted with feature names\n",
      "  warnings.warn(\n"
     ]
    },
    {
     "name": "stdout",
     "output_type": "stream",
     "text": [
      "[LightGBM] [Info] Number of positive: 5371, number of negative: 1627\n",
      "[LightGBM] [Info] Auto-choosing col-wise multi-threading, the overhead of testing was 0.001206 seconds.\n",
      "You can set `force_col_wise=true` to remove the overhead.\n",
      "[LightGBM] [Info] Total Bins 3825\n",
      "[LightGBM] [Info] Number of data points in the train set: 6998, number of used features: 15\n",
      "[LightGBM] [Info] [binary:BoostFromScore]: pavg=0.767505 -> initscore=1.194276\n",
      "[LightGBM] [Info] Start training from score 1.194276\n"
     ]
    },
    {
     "name": "stderr",
     "output_type": "stream",
     "text": [
      "C:\\Users\\PC\\Desktop\\ml_project\\venv\\lib\\site-packages\\sklearn\\utils\\validation.py:2739: UserWarning: X does not have valid feature names, but LGBMClassifier was fitted with feature names\n",
      "  warnings.warn(\n"
     ]
    },
    {
     "name": "stdout",
     "output_type": "stream",
     "text": [
      "[LightGBM] [Info] Number of positive: 5371, number of negative: 1627\n",
      "[LightGBM] [Info] Auto-choosing row-wise multi-threading, the overhead of testing was 0.000782 seconds.\n",
      "You can set `force_row_wise=true` to remove the overhead.\n",
      "And if memory is not enough, you can set `force_col_wise=true`.\n",
      "[LightGBM] [Info] Total Bins 3825\n",
      "[LightGBM] [Info] Number of data points in the train set: 6998, number of used features: 15\n",
      "[LightGBM] [Info] [binary:BoostFromScore]: pavg=0.767505 -> initscore=1.194276\n",
      "[LightGBM] [Info] Start training from score 1.194276\n"
     ]
    },
    {
     "name": "stderr",
     "output_type": "stream",
     "text": [
      "C:\\Users\\PC\\Desktop\\ml_project\\venv\\lib\\site-packages\\sklearn\\utils\\validation.py:2739: UserWarning: X does not have valid feature names, but LGBMClassifier was fitted with feature names\n",
      "  warnings.warn(\n"
     ]
    },
    {
     "name": "stdout",
     "output_type": "stream",
     "text": [
      "[LightGBM] [Info] Number of positive: 5371, number of negative: 1628\n",
      "[LightGBM] [Info] Auto-choosing col-wise multi-threading, the overhead of testing was 0.001192 seconds.\n",
      "You can set `force_col_wise=true` to remove the overhead.\n",
      "[LightGBM] [Info] Total Bins 3825\n",
      "[LightGBM] [Info] Number of data points in the train set: 6999, number of used features: 15\n",
      "[LightGBM] [Info] [binary:BoostFromScore]: pavg=0.767395 -> initscore=1.193662\n",
      "[LightGBM] [Info] Start training from score 1.193662\n"
     ]
    },
    {
     "name": "stderr",
     "output_type": "stream",
     "text": [
      "C:\\Users\\PC\\Desktop\\ml_project\\venv\\lib\\site-packages\\sklearn\\utils\\validation.py:2739: UserWarning: X does not have valid feature names, but LGBMClassifier was fitted with feature names\n",
      "  warnings.warn(\n"
     ]
    },
    {
     "name": "stdout",
     "output_type": "stream",
     "text": [
      "[LightGBM] [Info] Number of positive: 5372, number of negative: 1627\n",
      "[LightGBM] [Info] Auto-choosing col-wise multi-threading, the overhead of testing was 0.001013 seconds.\n",
      "You can set `force_col_wise=true` to remove the overhead.\n",
      "[LightGBM] [Info] Total Bins 3825\n",
      "[LightGBM] [Info] Number of data points in the train set: 6999, number of used features: 15\n",
      "[LightGBM] [Info] [binary:BoostFromScore]: pavg=0.767538 -> initscore=1.194462\n",
      "[LightGBM] [Info] Start training from score 1.194462\n"
     ]
    },
    {
     "name": "stderr",
     "output_type": "stream",
     "text": [
      "C:\\Users\\PC\\Desktop\\ml_project\\venv\\lib\\site-packages\\sklearn\\utils\\validation.py:2739: UserWarning: X does not have valid feature names, but LGBMClassifier was fitted with feature names\n",
      "  warnings.warn(\n"
     ]
    },
    {
     "name": "stdout",
     "output_type": "stream",
     "text": [
      "[LightGBM] [Info] Number of positive: 5371, number of negative: 1627\n",
      "[LightGBM] [Info] Auto-choosing col-wise multi-threading, the overhead of testing was 0.001099 seconds.\n",
      "You can set `force_col_wise=true` to remove the overhead.\n",
      "[LightGBM] [Info] Total Bins 3825\n",
      "[LightGBM] [Info] Number of data points in the train set: 6998, number of used features: 15\n",
      "[LightGBM] [Info] [binary:BoostFromScore]: pavg=0.767505 -> initscore=1.194276\n",
      "[LightGBM] [Info] Start training from score 1.194276\n"
     ]
    },
    {
     "name": "stderr",
     "output_type": "stream",
     "text": [
      "C:\\Users\\PC\\Desktop\\ml_project\\venv\\lib\\site-packages\\sklearn\\utils\\validation.py:2739: UserWarning: X does not have valid feature names, but LGBMClassifier was fitted with feature names\n",
      "  warnings.warn(\n"
     ]
    },
    {
     "name": "stdout",
     "output_type": "stream",
     "text": [
      "[LightGBM] [Info] Number of positive: 5371, number of negative: 1627\n",
      "[LightGBM] [Info] Auto-choosing col-wise multi-threading, the overhead of testing was 0.001294 seconds.\n",
      "You can set `force_col_wise=true` to remove the overhead.\n",
      "[LightGBM] [Info] Total Bins 3825\n",
      "[LightGBM] [Info] Number of data points in the train set: 6998, number of used features: 15\n",
      "[LightGBM] [Info] [binary:BoostFromScore]: pavg=0.767505 -> initscore=1.194276\n",
      "[LightGBM] [Info] Start training from score 1.194276\n"
     ]
    },
    {
     "name": "stderr",
     "output_type": "stream",
     "text": [
      "C:\\Users\\PC\\Desktop\\ml_project\\venv\\lib\\site-packages\\sklearn\\utils\\validation.py:2739: UserWarning: X does not have valid feature names, but LGBMClassifier was fitted with feature names\n",
      "  warnings.warn(\n"
     ]
    },
    {
     "name": "stdout",
     "output_type": "stream",
     "text": [
      "[LightGBM] [Info] Number of positive: 5371, number of negative: 1627\n",
      "[LightGBM] [Info] Auto-choosing col-wise multi-threading, the overhead of testing was 0.001141 seconds.\n",
      "You can set `force_col_wise=true` to remove the overhead.\n",
      "[LightGBM] [Info] Total Bins 3825\n",
      "[LightGBM] [Info] Number of data points in the train set: 6998, number of used features: 15\n",
      "[LightGBM] [Info] [binary:BoostFromScore]: pavg=0.767505 -> initscore=1.194276\n",
      "[LightGBM] [Info] Start training from score 1.194276\n"
     ]
    },
    {
     "name": "stderr",
     "output_type": "stream",
     "text": [
      "C:\\Users\\PC\\Desktop\\ml_project\\venv\\lib\\site-packages\\sklearn\\utils\\validation.py:2739: UserWarning: X does not have valid feature names, but LGBMClassifier was fitted with feature names\n",
      "  warnings.warn(\n"
     ]
    },
    {
     "name": "stdout",
     "output_type": "stream",
     "text": [
      "[LightGBM] [Info] Number of positive: 5371, number of negative: 1628\n",
      "[LightGBM] [Info] Auto-choosing col-wise multi-threading, the overhead of testing was 0.001769 seconds.\n",
      "You can set `force_col_wise=true` to remove the overhead.\n",
      "[LightGBM] [Info] Total Bins 3825\n",
      "[LightGBM] [Info] Number of data points in the train set: 6999, number of used features: 15\n",
      "[LightGBM] [Info] [binary:BoostFromScore]: pavg=0.767395 -> initscore=1.193662\n",
      "[LightGBM] [Info] Start training from score 1.193662\n"
     ]
    },
    {
     "name": "stderr",
     "output_type": "stream",
     "text": [
      "C:\\Users\\PC\\Desktop\\ml_project\\venv\\lib\\site-packages\\sklearn\\utils\\validation.py:2739: UserWarning: X does not have valid feature names, but LGBMClassifier was fitted with feature names\n",
      "  warnings.warn(\n"
     ]
    },
    {
     "name": "stdout",
     "output_type": "stream",
     "text": [
      "[LightGBM] [Info] Number of positive: 5372, number of negative: 1627\n",
      "[LightGBM] [Info] Auto-choosing col-wise multi-threading, the overhead of testing was 0.001003 seconds.\n",
      "You can set `force_col_wise=true` to remove the overhead.\n",
      "[LightGBM] [Info] Total Bins 3825\n",
      "[LightGBM] [Info] Number of data points in the train set: 6999, number of used features: 15\n",
      "[LightGBM] [Info] [binary:BoostFromScore]: pavg=0.767538 -> initscore=1.194462\n",
      "[LightGBM] [Info] Start training from score 1.194462\n"
     ]
    },
    {
     "name": "stderr",
     "output_type": "stream",
     "text": [
      "C:\\Users\\PC\\Desktop\\ml_project\\venv\\lib\\site-packages\\sklearn\\utils\\validation.py:2739: UserWarning: X does not have valid feature names, but LGBMClassifier was fitted with feature names\n",
      "  warnings.warn(\n"
     ]
    },
    {
     "name": "stdout",
     "output_type": "stream",
     "text": [
      "[LightGBM] [Info] Number of positive: 5371, number of negative: 1627\n",
      "[LightGBM] [Info] Auto-choosing col-wise multi-threading, the overhead of testing was 0.001432 seconds.\n",
      "You can set `force_col_wise=true` to remove the overhead.\n",
      "[LightGBM] [Info] Total Bins 3825\n",
      "[LightGBM] [Info] Number of data points in the train set: 6998, number of used features: 15\n",
      "[LightGBM] [Info] [binary:BoostFromScore]: pavg=0.767505 -> initscore=1.194276\n",
      "[LightGBM] [Info] Start training from score 1.194276\n"
     ]
    },
    {
     "name": "stderr",
     "output_type": "stream",
     "text": [
      "C:\\Users\\PC\\Desktop\\ml_project\\venv\\lib\\site-packages\\sklearn\\utils\\validation.py:2739: UserWarning: X does not have valid feature names, but LGBMClassifier was fitted with feature names\n",
      "  warnings.warn(\n"
     ]
    },
    {
     "name": "stdout",
     "output_type": "stream",
     "text": [
      "[LightGBM] [Info] Number of positive: 5371, number of negative: 1627\n",
      "[LightGBM] [Info] Auto-choosing col-wise multi-threading, the overhead of testing was 0.001154 seconds.\n",
      "You can set `force_col_wise=true` to remove the overhead.\n",
      "[LightGBM] [Info] Total Bins 3825\n",
      "[LightGBM] [Info] Number of data points in the train set: 6998, number of used features: 15\n",
      "[LightGBM] [Info] [binary:BoostFromScore]: pavg=0.767505 -> initscore=1.194276\n",
      "[LightGBM] [Info] Start training from score 1.194276\n"
     ]
    },
    {
     "name": "stderr",
     "output_type": "stream",
     "text": [
      "C:\\Users\\PC\\Desktop\\ml_project\\venv\\lib\\site-packages\\sklearn\\utils\\validation.py:2739: UserWarning: X does not have valid feature names, but LGBMClassifier was fitted with feature names\n",
      "  warnings.warn(\n"
     ]
    },
    {
     "name": "stdout",
     "output_type": "stream",
     "text": [
      "[LightGBM] [Info] Number of positive: 5371, number of negative: 1627\n",
      "[LightGBM] [Info] Auto-choosing col-wise multi-threading, the overhead of testing was 0.001145 seconds.\n",
      "You can set `force_col_wise=true` to remove the overhead.\n",
      "[LightGBM] [Info] Total Bins 3825\n",
      "[LightGBM] [Info] Number of data points in the train set: 6998, number of used features: 15\n",
      "[LightGBM] [Info] [binary:BoostFromScore]: pavg=0.767505 -> initscore=1.194276\n",
      "[LightGBM] [Info] Start training from score 1.194276\n"
     ]
    },
    {
     "name": "stderr",
     "output_type": "stream",
     "text": [
      "C:\\Users\\PC\\Desktop\\ml_project\\venv\\lib\\site-packages\\sklearn\\utils\\validation.py:2739: UserWarning: X does not have valid feature names, but LGBMClassifier was fitted with feature names\n",
      "  warnings.warn(\n"
     ]
    },
    {
     "name": "stdout",
     "output_type": "stream",
     "text": [
      "[LightGBM] [Info] Number of positive: 5371, number of negative: 1628\n",
      "[LightGBM] [Info] Auto-choosing col-wise multi-threading, the overhead of testing was 0.000924 seconds.\n",
      "You can set `force_col_wise=true` to remove the overhead.\n",
      "[LightGBM] [Info] Total Bins 3825\n",
      "[LightGBM] [Info] Number of data points in the train set: 6999, number of used features: 15\n",
      "[LightGBM] [Info] [binary:BoostFromScore]: pavg=0.767395 -> initscore=1.193662\n",
      "[LightGBM] [Info] Start training from score 1.193662\n"
     ]
    },
    {
     "name": "stderr",
     "output_type": "stream",
     "text": [
      "C:\\Users\\PC\\Desktop\\ml_project\\venv\\lib\\site-packages\\sklearn\\utils\\validation.py:2739: UserWarning: X does not have valid feature names, but LGBMClassifier was fitted with feature names\n",
      "  warnings.warn(\n"
     ]
    },
    {
     "name": "stdout",
     "output_type": "stream",
     "text": [
      "[LightGBM] [Info] Number of positive: 5372, number of negative: 1627\n",
      "[LightGBM] [Info] Auto-choosing col-wise multi-threading, the overhead of testing was 0.001201 seconds.\n",
      "You can set `force_col_wise=true` to remove the overhead.\n",
      "[LightGBM] [Info] Total Bins 3825\n",
      "[LightGBM] [Info] Number of data points in the train set: 6999, number of used features: 15\n",
      "[LightGBM] [Info] [binary:BoostFromScore]: pavg=0.767538 -> initscore=1.194462\n",
      "[LightGBM] [Info] Start training from score 1.194462\n"
     ]
    },
    {
     "name": "stderr",
     "output_type": "stream",
     "text": [
      "C:\\Users\\PC\\Desktop\\ml_project\\venv\\lib\\site-packages\\sklearn\\utils\\validation.py:2739: UserWarning: X does not have valid feature names, but LGBMClassifier was fitted with feature names\n",
      "  warnings.warn(\n"
     ]
    },
    {
     "name": "stdout",
     "output_type": "stream",
     "text": [
      "[LightGBM] [Info] Number of positive: 5371, number of negative: 1627\n",
      "[LightGBM] [Info] Auto-choosing col-wise multi-threading, the overhead of testing was 0.001236 seconds.\n",
      "You can set `force_col_wise=true` to remove the overhead.\n",
      "[LightGBM] [Info] Total Bins 3825\n",
      "[LightGBM] [Info] Number of data points in the train set: 6998, number of used features: 15\n",
      "[LightGBM] [Info] [binary:BoostFromScore]: pavg=0.767505 -> initscore=1.194276\n",
      "[LightGBM] [Info] Start training from score 1.194276\n"
     ]
    },
    {
     "name": "stderr",
     "output_type": "stream",
     "text": [
      "C:\\Users\\PC\\Desktop\\ml_project\\venv\\lib\\site-packages\\sklearn\\utils\\validation.py:2739: UserWarning: X does not have valid feature names, but LGBMClassifier was fitted with feature names\n",
      "  warnings.warn(\n"
     ]
    },
    {
     "name": "stdout",
     "output_type": "stream",
     "text": [
      "[LightGBM] [Info] Number of positive: 5371, number of negative: 1627\n",
      "[LightGBM] [Info] Auto-choosing col-wise multi-threading, the overhead of testing was 0.000765 seconds.\n",
      "You can set `force_col_wise=true` to remove the overhead.\n",
      "[LightGBM] [Info] Total Bins 3825\n",
      "[LightGBM] [Info] Number of data points in the train set: 6998, number of used features: 15\n",
      "[LightGBM] [Info] [binary:BoostFromScore]: pavg=0.767505 -> initscore=1.194276\n",
      "[LightGBM] [Info] Start training from score 1.194276\n"
     ]
    },
    {
     "name": "stderr",
     "output_type": "stream",
     "text": [
      "C:\\Users\\PC\\Desktop\\ml_project\\venv\\lib\\site-packages\\sklearn\\utils\\validation.py:2739: UserWarning: X does not have valid feature names, but LGBMClassifier was fitted with feature names\n",
      "  warnings.warn(\n"
     ]
    },
    {
     "name": "stdout",
     "output_type": "stream",
     "text": [
      "[LightGBM] [Info] Number of positive: 5371, number of negative: 1627\n",
      "[LightGBM] [Info] Auto-choosing row-wise multi-threading, the overhead of testing was 0.000418 seconds.\n",
      "You can set `force_row_wise=true` to remove the overhead.\n",
      "And if memory is not enough, you can set `force_col_wise=true`.\n",
      "[LightGBM] [Info] Total Bins 3825\n",
      "[LightGBM] [Info] Number of data points in the train set: 6998, number of used features: 15\n",
      "[LightGBM] [Info] [binary:BoostFromScore]: pavg=0.767505 -> initscore=1.194276\n",
      "[LightGBM] [Info] Start training from score 1.194276\n"
     ]
    },
    {
     "name": "stderr",
     "output_type": "stream",
     "text": [
      "C:\\Users\\PC\\Desktop\\ml_project\\venv\\lib\\site-packages\\sklearn\\utils\\validation.py:2739: UserWarning: X does not have valid feature names, but LGBMClassifier was fitted with feature names\n",
      "  warnings.warn(\n"
     ]
    },
    {
     "name": "stdout",
     "output_type": "stream",
     "text": [
      "[LightGBM] [Info] Number of positive: 5371, number of negative: 1628\n",
      "[LightGBM] [Info] Auto-choosing col-wise multi-threading, the overhead of testing was 0.001492 seconds.\n",
      "You can set `force_col_wise=true` to remove the overhead.\n",
      "[LightGBM] [Info] Total Bins 3825\n",
      "[LightGBM] [Info] Number of data points in the train set: 6999, number of used features: 15\n",
      "[LightGBM] [Info] [binary:BoostFromScore]: pavg=0.767395 -> initscore=1.193662\n",
      "[LightGBM] [Info] Start training from score 1.193662\n"
     ]
    },
    {
     "name": "stderr",
     "output_type": "stream",
     "text": [
      "C:\\Users\\PC\\Desktop\\ml_project\\venv\\lib\\site-packages\\sklearn\\utils\\validation.py:2739: UserWarning: X does not have valid feature names, but LGBMClassifier was fitted with feature names\n",
      "  warnings.warn(\n"
     ]
    },
    {
     "name": "stdout",
     "output_type": "stream",
     "text": [
      "[LightGBM] [Info] Number of positive: 5372, number of negative: 1627\n",
      "[LightGBM] [Info] Auto-choosing col-wise multi-threading, the overhead of testing was 0.001335 seconds.\n",
      "You can set `force_col_wise=true` to remove the overhead.\n",
      "[LightGBM] [Info] Total Bins 3825\n",
      "[LightGBM] [Info] Number of data points in the train set: 6999, number of used features: 15\n",
      "[LightGBM] [Info] [binary:BoostFromScore]: pavg=0.767538 -> initscore=1.194462\n",
      "[LightGBM] [Info] Start training from score 1.194462\n"
     ]
    },
    {
     "name": "stderr",
     "output_type": "stream",
     "text": [
      "C:\\Users\\PC\\Desktop\\ml_project\\venv\\lib\\site-packages\\sklearn\\utils\\validation.py:2739: UserWarning: X does not have valid feature names, but LGBMClassifier was fitted with feature names\n",
      "  warnings.warn(\n"
     ]
    },
    {
     "name": "stdout",
     "output_type": "stream",
     "text": [
      "[LightGBM] [Info] Number of positive: 5371, number of negative: 1627\n",
      "[LightGBM] [Info] Auto-choosing col-wise multi-threading, the overhead of testing was 0.001341 seconds.\n",
      "You can set `force_col_wise=true` to remove the overhead.\n",
      "[LightGBM] [Info] Total Bins 3825\n",
      "[LightGBM] [Info] Number of data points in the train set: 6998, number of used features: 15\n",
      "[LightGBM] [Info] [binary:BoostFromScore]: pavg=0.767505 -> initscore=1.194276\n",
      "[LightGBM] [Info] Start training from score 1.194276\n"
     ]
    },
    {
     "name": "stderr",
     "output_type": "stream",
     "text": [
      "C:\\Users\\PC\\Desktop\\ml_project\\venv\\lib\\site-packages\\sklearn\\utils\\validation.py:2739: UserWarning: X does not have valid feature names, but LGBMClassifier was fitted with feature names\n",
      "  warnings.warn(\n"
     ]
    },
    {
     "name": "stdout",
     "output_type": "stream",
     "text": [
      "[LightGBM] [Info] Number of positive: 5371, number of negative: 1627\n",
      "[LightGBM] [Info] Auto-choosing col-wise multi-threading, the overhead of testing was 0.003821 seconds.\n",
      "You can set `force_col_wise=true` to remove the overhead.\n",
      "[LightGBM] [Info] Total Bins 3825\n",
      "[LightGBM] [Info] Number of data points in the train set: 6998, number of used features: 15\n",
      "[LightGBM] [Info] [binary:BoostFromScore]: pavg=0.767505 -> initscore=1.194276\n",
      "[LightGBM] [Info] Start training from score 1.194276\n"
     ]
    },
    {
     "name": "stderr",
     "output_type": "stream",
     "text": [
      "C:\\Users\\PC\\Desktop\\ml_project\\venv\\lib\\site-packages\\sklearn\\utils\\validation.py:2739: UserWarning: X does not have valid feature names, but LGBMClassifier was fitted with feature names\n",
      "  warnings.warn(\n"
     ]
    },
    {
     "name": "stdout",
     "output_type": "stream",
     "text": [
      "[LightGBM] [Info] Number of positive: 5371, number of negative: 1627\n",
      "[LightGBM] [Info] Auto-choosing col-wise multi-threading, the overhead of testing was 0.002485 seconds.\n",
      "You can set `force_col_wise=true` to remove the overhead.\n",
      "[LightGBM] [Info] Total Bins 3825\n",
      "[LightGBM] [Info] Number of data points in the train set: 6998, number of used features: 15\n",
      "[LightGBM] [Info] [binary:BoostFromScore]: pavg=0.767505 -> initscore=1.194276\n",
      "[LightGBM] [Info] Start training from score 1.194276\n"
     ]
    },
    {
     "name": "stderr",
     "output_type": "stream",
     "text": [
      "C:\\Users\\PC\\Desktop\\ml_project\\venv\\lib\\site-packages\\sklearn\\utils\\validation.py:2739: UserWarning: X does not have valid feature names, but LGBMClassifier was fitted with feature names\n",
      "  warnings.warn(\n"
     ]
    },
    {
     "name": "stdout",
     "output_type": "stream",
     "text": [
      "[LightGBM] [Info] Number of positive: 5371, number of negative: 1628\n",
      "[LightGBM] [Info] Auto-choosing col-wise multi-threading, the overhead of testing was 0.002511 seconds.\n",
      "You can set `force_col_wise=true` to remove the overhead.\n",
      "[LightGBM] [Info] Total Bins 3825\n",
      "[LightGBM] [Info] Number of data points in the train set: 6999, number of used features: 15\n",
      "[LightGBM] [Info] [binary:BoostFromScore]: pavg=0.767395 -> initscore=1.193662\n",
      "[LightGBM] [Info] Start training from score 1.193662\n"
     ]
    },
    {
     "name": "stderr",
     "output_type": "stream",
     "text": [
      "C:\\Users\\PC\\Desktop\\ml_project\\venv\\lib\\site-packages\\sklearn\\utils\\validation.py:2739: UserWarning: X does not have valid feature names, but LGBMClassifier was fitted with feature names\n",
      "  warnings.warn(\n"
     ]
    },
    {
     "name": "stdout",
     "output_type": "stream",
     "text": [
      "[LightGBM] [Info] Number of positive: 5372, number of negative: 1627\n",
      "[LightGBM] [Info] Auto-choosing col-wise multi-threading, the overhead of testing was 0.001015 seconds.\n",
      "You can set `force_col_wise=true` to remove the overhead.\n",
      "[LightGBM] [Info] Total Bins 3825\n",
      "[LightGBM] [Info] Number of data points in the train set: 6999, number of used features: 15\n",
      "[LightGBM] [Info] [binary:BoostFromScore]: pavg=0.767538 -> initscore=1.194462\n",
      "[LightGBM] [Info] Start training from score 1.194462\n"
     ]
    },
    {
     "name": "stderr",
     "output_type": "stream",
     "text": [
      "C:\\Users\\PC\\Desktop\\ml_project\\venv\\lib\\site-packages\\sklearn\\utils\\validation.py:2739: UserWarning: X does not have valid feature names, but LGBMClassifier was fitted with feature names\n",
      "  warnings.warn(\n"
     ]
    },
    {
     "name": "stdout",
     "output_type": "stream",
     "text": [
      "[LightGBM] [Info] Number of positive: 5371, number of negative: 1627\n",
      "[LightGBM] [Info] Auto-choosing col-wise multi-threading, the overhead of testing was 0.001389 seconds.\n",
      "You can set `force_col_wise=true` to remove the overhead.\n",
      "[LightGBM] [Info] Total Bins 3825\n",
      "[LightGBM] [Info] Number of data points in the train set: 6998, number of used features: 15\n",
      "[LightGBM] [Info] [binary:BoostFromScore]: pavg=0.767505 -> initscore=1.194276\n",
      "[LightGBM] [Info] Start training from score 1.194276\n"
     ]
    },
    {
     "name": "stderr",
     "output_type": "stream",
     "text": [
      "C:\\Users\\PC\\Desktop\\ml_project\\venv\\lib\\site-packages\\sklearn\\utils\\validation.py:2739: UserWarning: X does not have valid feature names, but LGBMClassifier was fitted with feature names\n",
      "  warnings.warn(\n"
     ]
    },
    {
     "name": "stdout",
     "output_type": "stream",
     "text": [
      "[LightGBM] [Info] Number of positive: 5371, number of negative: 1627\n",
      "[LightGBM] [Info] Auto-choosing col-wise multi-threading, the overhead of testing was 0.001279 seconds.\n",
      "You can set `force_col_wise=true` to remove the overhead.\n",
      "[LightGBM] [Info] Total Bins 3825\n",
      "[LightGBM] [Info] Number of data points in the train set: 6998, number of used features: 15\n",
      "[LightGBM] [Info] [binary:BoostFromScore]: pavg=0.767505 -> initscore=1.194276\n",
      "[LightGBM] [Info] Start training from score 1.194276\n"
     ]
    },
    {
     "name": "stderr",
     "output_type": "stream",
     "text": [
      "C:\\Users\\PC\\Desktop\\ml_project\\venv\\lib\\site-packages\\sklearn\\utils\\validation.py:2739: UserWarning: X does not have valid feature names, but LGBMClassifier was fitted with feature names\n",
      "  warnings.warn(\n"
     ]
    },
    {
     "name": "stdout",
     "output_type": "stream",
     "text": [
      "[LightGBM] [Info] Number of positive: 5371, number of negative: 1627\n",
      "[LightGBM] [Info] Auto-choosing row-wise multi-threading, the overhead of testing was 0.001348 seconds.\n",
      "You can set `force_row_wise=true` to remove the overhead.\n",
      "And if memory is not enough, you can set `force_col_wise=true`.\n",
      "[LightGBM] [Info] Total Bins 3825\n",
      "[LightGBM] [Info] Number of data points in the train set: 6998, number of used features: 15\n",
      "[LightGBM] [Info] [binary:BoostFromScore]: pavg=0.767505 -> initscore=1.194276\n",
      "[LightGBM] [Info] Start training from score 1.194276\n"
     ]
    },
    {
     "name": "stderr",
     "output_type": "stream",
     "text": [
      "C:\\Users\\PC\\Desktop\\ml_project\\venv\\lib\\site-packages\\sklearn\\utils\\validation.py:2739: UserWarning: X does not have valid feature names, but LGBMClassifier was fitted with feature names\n",
      "  warnings.warn(\n"
     ]
    },
    {
     "name": "stdout",
     "output_type": "stream",
     "text": [
      "[LightGBM] [Info] Number of positive: 5371, number of negative: 1628\n",
      "[LightGBM] [Info] Auto-choosing row-wise multi-threading, the overhead of testing was 0.000400 seconds.\n",
      "You can set `force_row_wise=true` to remove the overhead.\n",
      "And if memory is not enough, you can set `force_col_wise=true`.\n",
      "[LightGBM] [Info] Total Bins 3825\n",
      "[LightGBM] [Info] Number of data points in the train set: 6999, number of used features: 15\n",
      "[LightGBM] [Info] [binary:BoostFromScore]: pavg=0.767395 -> initscore=1.193662\n",
      "[LightGBM] [Info] Start training from score 1.193662\n"
     ]
    },
    {
     "name": "stderr",
     "output_type": "stream",
     "text": [
      "C:\\Users\\PC\\Desktop\\ml_project\\venv\\lib\\site-packages\\sklearn\\utils\\validation.py:2739: UserWarning: X does not have valid feature names, but LGBMClassifier was fitted with feature names\n",
      "  warnings.warn(\n"
     ]
    },
    {
     "name": "stdout",
     "output_type": "stream",
     "text": [
      "[LightGBM] [Info] Number of positive: 5372, number of negative: 1627\n",
      "[LightGBM] [Info] Auto-choosing col-wise multi-threading, the overhead of testing was 0.001148 seconds.\n",
      "You can set `force_col_wise=true` to remove the overhead.\n",
      "[LightGBM] [Info] Total Bins 3825\n",
      "[LightGBM] [Info] Number of data points in the train set: 6999, number of used features: 15\n",
      "[LightGBM] [Info] [binary:BoostFromScore]: pavg=0.767538 -> initscore=1.194462\n",
      "[LightGBM] [Info] Start training from score 1.194462\n"
     ]
    },
    {
     "name": "stderr",
     "output_type": "stream",
     "text": [
      "C:\\Users\\PC\\Desktop\\ml_project\\venv\\lib\\site-packages\\sklearn\\utils\\validation.py:2739: UserWarning: X does not have valid feature names, but LGBMClassifier was fitted with feature names\n",
      "  warnings.warn(\n"
     ]
    },
    {
     "name": "stdout",
     "output_type": "stream",
     "text": [
      "[LightGBM] [Info] Number of positive: 5371, number of negative: 1627\n",
      "[LightGBM] [Info] Auto-choosing col-wise multi-threading, the overhead of testing was 0.001663 seconds.\n",
      "You can set `force_col_wise=true` to remove the overhead.\n",
      "[LightGBM] [Info] Total Bins 3825\n",
      "[LightGBM] [Info] Number of data points in the train set: 6998, number of used features: 15\n",
      "[LightGBM] [Info] [binary:BoostFromScore]: pavg=0.767505 -> initscore=1.194276\n",
      "[LightGBM] [Info] Start training from score 1.194276\n"
     ]
    },
    {
     "name": "stderr",
     "output_type": "stream",
     "text": [
      "C:\\Users\\PC\\Desktop\\ml_project\\venv\\lib\\site-packages\\sklearn\\utils\\validation.py:2739: UserWarning: X does not have valid feature names, but LGBMClassifier was fitted with feature names\n",
      "  warnings.warn(\n"
     ]
    },
    {
     "name": "stdout",
     "output_type": "stream",
     "text": [
      "[LightGBM] [Info] Number of positive: 5371, number of negative: 1627\n",
      "[LightGBM] [Info] Auto-choosing col-wise multi-threading, the overhead of testing was 0.000968 seconds.\n",
      "You can set `force_col_wise=true` to remove the overhead.\n",
      "[LightGBM] [Info] Total Bins 3825\n",
      "[LightGBM] [Info] Number of data points in the train set: 6998, number of used features: 15\n",
      "[LightGBM] [Info] [binary:BoostFromScore]: pavg=0.767505 -> initscore=1.194276\n",
      "[LightGBM] [Info] Start training from score 1.194276\n"
     ]
    },
    {
     "name": "stderr",
     "output_type": "stream",
     "text": [
      "C:\\Users\\PC\\Desktop\\ml_project\\venv\\lib\\site-packages\\sklearn\\utils\\validation.py:2739: UserWarning: X does not have valid feature names, but LGBMClassifier was fitted with feature names\n",
      "  warnings.warn(\n"
     ]
    },
    {
     "name": "stdout",
     "output_type": "stream",
     "text": [
      "[LightGBM] [Info] Number of positive: 5371, number of negative: 1627\n",
      "[LightGBM] [Info] Auto-choosing col-wise multi-threading, the overhead of testing was 0.000843 seconds.\n",
      "You can set `force_col_wise=true` to remove the overhead.\n",
      "[LightGBM] [Info] Total Bins 3825\n",
      "[LightGBM] [Info] Number of data points in the train set: 6998, number of used features: 15\n",
      "[LightGBM] [Info] [binary:BoostFromScore]: pavg=0.767505 -> initscore=1.194276\n",
      "[LightGBM] [Info] Start training from score 1.194276\n"
     ]
    },
    {
     "name": "stderr",
     "output_type": "stream",
     "text": [
      "C:\\Users\\PC\\Desktop\\ml_project\\venv\\lib\\site-packages\\sklearn\\utils\\validation.py:2739: UserWarning: X does not have valid feature names, but LGBMClassifier was fitted with feature names\n",
      "  warnings.warn(\n"
     ]
    },
    {
     "name": "stdout",
     "output_type": "stream",
     "text": [
      "[LightGBM] [Info] Number of positive: 5371, number of negative: 1628\n",
      "[LightGBM] [Info] Auto-choosing col-wise multi-threading, the overhead of testing was 0.001257 seconds.\n",
      "You can set `force_col_wise=true` to remove the overhead.\n",
      "[LightGBM] [Info] Total Bins 3825\n",
      "[LightGBM] [Info] Number of data points in the train set: 6999, number of used features: 15\n",
      "[LightGBM] [Info] [binary:BoostFromScore]: pavg=0.767395 -> initscore=1.193662\n",
      "[LightGBM] [Info] Start training from score 1.193662\n"
     ]
    },
    {
     "name": "stderr",
     "output_type": "stream",
     "text": [
      "C:\\Users\\PC\\Desktop\\ml_project\\venv\\lib\\site-packages\\sklearn\\utils\\validation.py:2739: UserWarning: X does not have valid feature names, but LGBMClassifier was fitted with feature names\n",
      "  warnings.warn(\n"
     ]
    },
    {
     "name": "stdout",
     "output_type": "stream",
     "text": [
      "[LightGBM] [Info] Number of positive: 5372, number of negative: 1627\n",
      "[LightGBM] [Info] Auto-choosing col-wise multi-threading, the overhead of testing was 0.001145 seconds.\n",
      "You can set `force_col_wise=true` to remove the overhead.\n",
      "[LightGBM] [Info] Total Bins 3825\n",
      "[LightGBM] [Info] Number of data points in the train set: 6999, number of used features: 15\n",
      "[LightGBM] [Info] [binary:BoostFromScore]: pavg=0.767538 -> initscore=1.194462\n",
      "[LightGBM] [Info] Start training from score 1.194462\n"
     ]
    },
    {
     "name": "stderr",
     "output_type": "stream",
     "text": [
      "C:\\Users\\PC\\Desktop\\ml_project\\venv\\lib\\site-packages\\sklearn\\utils\\validation.py:2739: UserWarning: X does not have valid feature names, but LGBMClassifier was fitted with feature names\n",
      "  warnings.warn(\n"
     ]
    },
    {
     "name": "stdout",
     "output_type": "stream",
     "text": [
      "[LightGBM] [Info] Number of positive: 5371, number of negative: 1627\n",
      "[LightGBM] [Info] Auto-choosing col-wise multi-threading, the overhead of testing was 0.001007 seconds.\n",
      "You can set `force_col_wise=true` to remove the overhead.\n",
      "[LightGBM] [Info] Total Bins 3825\n",
      "[LightGBM] [Info] Number of data points in the train set: 6998, number of used features: 15\n",
      "[LightGBM] [Info] [binary:BoostFromScore]: pavg=0.767505 -> initscore=1.194276\n",
      "[LightGBM] [Info] Start training from score 1.194276\n"
     ]
    },
    {
     "name": "stderr",
     "output_type": "stream",
     "text": [
      "C:\\Users\\PC\\Desktop\\ml_project\\venv\\lib\\site-packages\\sklearn\\utils\\validation.py:2739: UserWarning: X does not have valid feature names, but LGBMClassifier was fitted with feature names\n",
      "  warnings.warn(\n"
     ]
    },
    {
     "name": "stdout",
     "output_type": "stream",
     "text": [
      "[LightGBM] [Info] Number of positive: 5371, number of negative: 1627\n",
      "[LightGBM] [Info] Auto-choosing col-wise multi-threading, the overhead of testing was 0.001206 seconds.\n",
      "You can set `force_col_wise=true` to remove the overhead.\n",
      "[LightGBM] [Info] Total Bins 3825\n",
      "[LightGBM] [Info] Number of data points in the train set: 6998, number of used features: 15\n",
      "[LightGBM] [Info] [binary:BoostFromScore]: pavg=0.767505 -> initscore=1.194276\n",
      "[LightGBM] [Info] Start training from score 1.194276\n"
     ]
    },
    {
     "name": "stderr",
     "output_type": "stream",
     "text": [
      "C:\\Users\\PC\\Desktop\\ml_project\\venv\\lib\\site-packages\\sklearn\\utils\\validation.py:2739: UserWarning: X does not have valid feature names, but LGBMClassifier was fitted with feature names\n",
      "  warnings.warn(\n"
     ]
    },
    {
     "name": "stdout",
     "output_type": "stream",
     "text": [
      "[LightGBM] [Info] Number of positive: 5371, number of negative: 1627\n",
      "[LightGBM] [Info] Auto-choosing col-wise multi-threading, the overhead of testing was 0.001051 seconds.\n",
      "You can set `force_col_wise=true` to remove the overhead.\n",
      "[LightGBM] [Info] Total Bins 3825\n",
      "[LightGBM] [Info] Number of data points in the train set: 6998, number of used features: 15\n",
      "[LightGBM] [Info] [binary:BoostFromScore]: pavg=0.767505 -> initscore=1.194276\n",
      "[LightGBM] [Info] Start training from score 1.194276\n"
     ]
    },
    {
     "name": "stderr",
     "output_type": "stream",
     "text": [
      "C:\\Users\\PC\\Desktop\\ml_project\\venv\\lib\\site-packages\\sklearn\\utils\\validation.py:2739: UserWarning: X does not have valid feature names, but LGBMClassifier was fitted with feature names\n",
      "  warnings.warn(\n"
     ]
    },
    {
     "name": "stdout",
     "output_type": "stream",
     "text": [
      "[LightGBM] [Info] Number of positive: 5371, number of negative: 1628\n",
      "[LightGBM] [Info] Auto-choosing col-wise multi-threading, the overhead of testing was 0.001297 seconds.\n",
      "You can set `force_col_wise=true` to remove the overhead.\n",
      "[LightGBM] [Info] Total Bins 3825\n",
      "[LightGBM] [Info] Number of data points in the train set: 6999, number of used features: 15\n",
      "[LightGBM] [Info] [binary:BoostFromScore]: pavg=0.767395 -> initscore=1.193662\n",
      "[LightGBM] [Info] Start training from score 1.193662\n"
     ]
    },
    {
     "name": "stderr",
     "output_type": "stream",
     "text": [
      "C:\\Users\\PC\\Desktop\\ml_project\\venv\\lib\\site-packages\\sklearn\\utils\\validation.py:2739: UserWarning: X does not have valid feature names, but LGBMClassifier was fitted with feature names\n",
      "  warnings.warn(\n"
     ]
    },
    {
     "name": "stdout",
     "output_type": "stream",
     "text": [
      "[LightGBM] [Info] Number of positive: 5372, number of negative: 1627\n",
      "[LightGBM] [Info] Auto-choosing col-wise multi-threading, the overhead of testing was 0.000980 seconds.\n",
      "You can set `force_col_wise=true` to remove the overhead.\n",
      "[LightGBM] [Info] Total Bins 3825\n",
      "[LightGBM] [Info] Number of data points in the train set: 6999, number of used features: 15\n",
      "[LightGBM] [Info] [binary:BoostFromScore]: pavg=0.767538 -> initscore=1.194462\n",
      "[LightGBM] [Info] Start training from score 1.194462\n"
     ]
    },
    {
     "name": "stderr",
     "output_type": "stream",
     "text": [
      "C:\\Users\\PC\\Desktop\\ml_project\\venv\\lib\\site-packages\\sklearn\\utils\\validation.py:2739: UserWarning: X does not have valid feature names, but LGBMClassifier was fitted with feature names\n",
      "  warnings.warn(\n"
     ]
    },
    {
     "name": "stdout",
     "output_type": "stream",
     "text": [
      "[LightGBM] [Info] Number of positive: 5371, number of negative: 1627\n",
      "[LightGBM] [Info] Auto-choosing col-wise multi-threading, the overhead of testing was 0.000968 seconds.\n",
      "You can set `force_col_wise=true` to remove the overhead.\n",
      "[LightGBM] [Info] Total Bins 3825\n",
      "[LightGBM] [Info] Number of data points in the train set: 6998, number of used features: 15\n",
      "[LightGBM] [Info] [binary:BoostFromScore]: pavg=0.767505 -> initscore=1.194276\n",
      "[LightGBM] [Info] Start training from score 1.194276\n"
     ]
    },
    {
     "name": "stderr",
     "output_type": "stream",
     "text": [
      "C:\\Users\\PC\\Desktop\\ml_project\\venv\\lib\\site-packages\\sklearn\\utils\\validation.py:2739: UserWarning: X does not have valid feature names, but LGBMClassifier was fitted with feature names\n",
      "  warnings.warn(\n"
     ]
    },
    {
     "name": "stdout",
     "output_type": "stream",
     "text": [
      "[LightGBM] [Info] Number of positive: 5371, number of negative: 1627\n",
      "[LightGBM] [Info] Auto-choosing col-wise multi-threading, the overhead of testing was 0.001359 seconds.\n",
      "You can set `force_col_wise=true` to remove the overhead.\n",
      "[LightGBM] [Info] Total Bins 3825\n",
      "[LightGBM] [Info] Number of data points in the train set: 6998, number of used features: 15\n",
      "[LightGBM] [Info] [binary:BoostFromScore]: pavg=0.767505 -> initscore=1.194276\n",
      "[LightGBM] [Info] Start training from score 1.194276\n"
     ]
    },
    {
     "name": "stderr",
     "output_type": "stream",
     "text": [
      "C:\\Users\\PC\\Desktop\\ml_project\\venv\\lib\\site-packages\\sklearn\\utils\\validation.py:2739: UserWarning: X does not have valid feature names, but LGBMClassifier was fitted with feature names\n",
      "  warnings.warn(\n"
     ]
    },
    {
     "name": "stdout",
     "output_type": "stream",
     "text": [
      "[LightGBM] [Info] Number of positive: 5371, number of negative: 1627\n",
      "[LightGBM] [Info] Auto-choosing col-wise multi-threading, the overhead of testing was 0.001183 seconds.\n",
      "You can set `force_col_wise=true` to remove the overhead.\n",
      "[LightGBM] [Info] Total Bins 3825\n",
      "[LightGBM] [Info] Number of data points in the train set: 6998, number of used features: 15\n",
      "[LightGBM] [Info] [binary:BoostFromScore]: pavg=0.767505 -> initscore=1.194276\n",
      "[LightGBM] [Info] Start training from score 1.194276\n"
     ]
    },
    {
     "name": "stderr",
     "output_type": "stream",
     "text": [
      "C:\\Users\\PC\\Desktop\\ml_project\\venv\\lib\\site-packages\\sklearn\\utils\\validation.py:2739: UserWarning: X does not have valid feature names, but LGBMClassifier was fitted with feature names\n",
      "  warnings.warn(\n"
     ]
    },
    {
     "name": "stdout",
     "output_type": "stream",
     "text": [
      "[LightGBM] [Info] Number of positive: 5371, number of negative: 1628\n",
      "[LightGBM] [Info] Auto-choosing col-wise multi-threading, the overhead of testing was 0.001941 seconds.\n",
      "You can set `force_col_wise=true` to remove the overhead.\n",
      "[LightGBM] [Info] Total Bins 3825\n",
      "[LightGBM] [Info] Number of data points in the train set: 6999, number of used features: 15\n",
      "[LightGBM] [Info] [binary:BoostFromScore]: pavg=0.767395 -> initscore=1.193662\n",
      "[LightGBM] [Info] Start training from score 1.193662\n"
     ]
    },
    {
     "name": "stderr",
     "output_type": "stream",
     "text": [
      "C:\\Users\\PC\\Desktop\\ml_project\\venv\\lib\\site-packages\\sklearn\\utils\\validation.py:2739: UserWarning: X does not have valid feature names, but LGBMClassifier was fitted with feature names\n",
      "  warnings.warn(\n"
     ]
    },
    {
     "name": "stdout",
     "output_type": "stream",
     "text": [
      "[LightGBM] [Info] Number of positive: 5372, number of negative: 1627\n",
      "[LightGBM] [Info] Auto-choosing row-wise multi-threading, the overhead of testing was 0.000469 seconds.\n",
      "You can set `force_row_wise=true` to remove the overhead.\n",
      "And if memory is not enough, you can set `force_col_wise=true`.\n",
      "[LightGBM] [Info] Total Bins 3825\n",
      "[LightGBM] [Info] Number of data points in the train set: 6999, number of used features: 15\n",
      "[LightGBM] [Info] [binary:BoostFromScore]: pavg=0.767538 -> initscore=1.194462\n",
      "[LightGBM] [Info] Start training from score 1.194462\n"
     ]
    },
    {
     "name": "stderr",
     "output_type": "stream",
     "text": [
      "C:\\Users\\PC\\Desktop\\ml_project\\venv\\lib\\site-packages\\sklearn\\utils\\validation.py:2739: UserWarning: X does not have valid feature names, but LGBMClassifier was fitted with feature names\n",
      "  warnings.warn(\n"
     ]
    },
    {
     "name": "stdout",
     "output_type": "stream",
     "text": [
      "[LightGBM] [Info] Number of positive: 5371, number of negative: 1627\n",
      "[LightGBM] [Info] Auto-choosing col-wise multi-threading, the overhead of testing was 0.002241 seconds.\n",
      "You can set `force_col_wise=true` to remove the overhead.\n",
      "[LightGBM] [Info] Total Bins 3825\n",
      "[LightGBM] [Info] Number of data points in the train set: 6998, number of used features: 15\n",
      "[LightGBM] [Info] [binary:BoostFromScore]: pavg=0.767505 -> initscore=1.194276\n",
      "[LightGBM] [Info] Start training from score 1.194276\n"
     ]
    },
    {
     "name": "stderr",
     "output_type": "stream",
     "text": [
      "C:\\Users\\PC\\Desktop\\ml_project\\venv\\lib\\site-packages\\sklearn\\utils\\validation.py:2739: UserWarning: X does not have valid feature names, but LGBMClassifier was fitted with feature names\n",
      "  warnings.warn(\n"
     ]
    },
    {
     "name": "stdout",
     "output_type": "stream",
     "text": [
      "[LightGBM] [Info] Number of positive: 5371, number of negative: 1627\n",
      "[LightGBM] [Info] Auto-choosing col-wise multi-threading, the overhead of testing was 0.001584 seconds.\n",
      "You can set `force_col_wise=true` to remove the overhead.\n",
      "[LightGBM] [Info] Total Bins 3825\n",
      "[LightGBM] [Info] Number of data points in the train set: 6998, number of used features: 15\n",
      "[LightGBM] [Info] [binary:BoostFromScore]: pavg=0.767505 -> initscore=1.194276\n",
      "[LightGBM] [Info] Start training from score 1.194276\n"
     ]
    },
    {
     "name": "stderr",
     "output_type": "stream",
     "text": [
      "C:\\Users\\PC\\Desktop\\ml_project\\venv\\lib\\site-packages\\sklearn\\utils\\validation.py:2739: UserWarning: X does not have valid feature names, but LGBMClassifier was fitted with feature names\n",
      "  warnings.warn(\n"
     ]
    },
    {
     "name": "stdout",
     "output_type": "stream",
     "text": [
      "[LightGBM] [Info] Number of positive: 5371, number of negative: 1627\n",
      "[LightGBM] [Info] Auto-choosing col-wise multi-threading, the overhead of testing was 0.000969 seconds.\n",
      "You can set `force_col_wise=true` to remove the overhead.\n",
      "[LightGBM] [Info] Total Bins 3825\n",
      "[LightGBM] [Info] Number of data points in the train set: 6998, number of used features: 15\n",
      "[LightGBM] [Info] [binary:BoostFromScore]: pavg=0.767505 -> initscore=1.194276\n",
      "[LightGBM] [Info] Start training from score 1.194276\n"
     ]
    },
    {
     "name": "stderr",
     "output_type": "stream",
     "text": [
      "C:\\Users\\PC\\Desktop\\ml_project\\venv\\lib\\site-packages\\sklearn\\utils\\validation.py:2739: UserWarning: X does not have valid feature names, but LGBMClassifier was fitted with feature names\n",
      "  warnings.warn(\n"
     ]
    },
    {
     "name": "stdout",
     "output_type": "stream",
     "text": [
      "[LightGBM] [Info] Number of positive: 5371, number of negative: 1628\n",
      "[LightGBM] [Info] Auto-choosing col-wise multi-threading, the overhead of testing was 0.001249 seconds.\n",
      "You can set `force_col_wise=true` to remove the overhead.\n",
      "[LightGBM] [Info] Total Bins 3825\n",
      "[LightGBM] [Info] Number of data points in the train set: 6999, number of used features: 15\n",
      "[LightGBM] [Info] [binary:BoostFromScore]: pavg=0.767395 -> initscore=1.193662\n",
      "[LightGBM] [Info] Start training from score 1.193662\n"
     ]
    },
    {
     "name": "stderr",
     "output_type": "stream",
     "text": [
      "C:\\Users\\PC\\Desktop\\ml_project\\venv\\lib\\site-packages\\sklearn\\utils\\validation.py:2739: UserWarning: X does not have valid feature names, but LGBMClassifier was fitted with feature names\n",
      "  warnings.warn(\n"
     ]
    },
    {
     "name": "stdout",
     "output_type": "stream",
     "text": [
      "[LightGBM] [Info] Number of positive: 5372, number of negative: 1627\n",
      "[LightGBM] [Info] Auto-choosing col-wise multi-threading, the overhead of testing was 0.001460 seconds.\n",
      "You can set `force_col_wise=true` to remove the overhead.\n",
      "[LightGBM] [Info] Total Bins 3825\n",
      "[LightGBM] [Info] Number of data points in the train set: 6999, number of used features: 15\n",
      "[LightGBM] [Info] [binary:BoostFromScore]: pavg=0.767538 -> initscore=1.194462\n",
      "[LightGBM] [Info] Start training from score 1.194462\n"
     ]
    },
    {
     "name": "stderr",
     "output_type": "stream",
     "text": [
      "C:\\Users\\PC\\Desktop\\ml_project\\venv\\lib\\site-packages\\sklearn\\utils\\validation.py:2739: UserWarning: X does not have valid feature names, but LGBMClassifier was fitted with feature names\n",
      "  warnings.warn(\n"
     ]
    },
    {
     "name": "stdout",
     "output_type": "stream",
     "text": [
      "[LightGBM] [Info] Number of positive: 5371, number of negative: 1627\n",
      "[LightGBM] [Info] Auto-choosing row-wise multi-threading, the overhead of testing was 0.000363 seconds.\n",
      "You can set `force_row_wise=true` to remove the overhead.\n",
      "And if memory is not enough, you can set `force_col_wise=true`.\n",
      "[LightGBM] [Info] Total Bins 3825\n",
      "[LightGBM] [Info] Number of data points in the train set: 6998, number of used features: 15\n",
      "[LightGBM] [Info] [binary:BoostFromScore]: pavg=0.767505 -> initscore=1.194276\n",
      "[LightGBM] [Info] Start training from score 1.194276\n"
     ]
    },
    {
     "name": "stderr",
     "output_type": "stream",
     "text": [
      "C:\\Users\\PC\\Desktop\\ml_project\\venv\\lib\\site-packages\\sklearn\\utils\\validation.py:2739: UserWarning: X does not have valid feature names, but LGBMClassifier was fitted with feature names\n",
      "  warnings.warn(\n"
     ]
    },
    {
     "name": "stdout",
     "output_type": "stream",
     "text": [
      "[LightGBM] [Info] Number of positive: 5371, number of negative: 1627\n",
      "[LightGBM] [Info] Auto-choosing col-wise multi-threading, the overhead of testing was 0.000960 seconds.\n",
      "You can set `force_col_wise=true` to remove the overhead.\n",
      "[LightGBM] [Info] Total Bins 3825\n",
      "[LightGBM] [Info] Number of data points in the train set: 6998, number of used features: 15\n",
      "[LightGBM] [Info] [binary:BoostFromScore]: pavg=0.767505 -> initscore=1.194276\n",
      "[LightGBM] [Info] Start training from score 1.194276\n"
     ]
    },
    {
     "name": "stderr",
     "output_type": "stream",
     "text": [
      "C:\\Users\\PC\\Desktop\\ml_project\\venv\\lib\\site-packages\\sklearn\\utils\\validation.py:2739: UserWarning: X does not have valid feature names, but LGBMClassifier was fitted with feature names\n",
      "  warnings.warn(\n"
     ]
    },
    {
     "name": "stdout",
     "output_type": "stream",
     "text": [
      "[LightGBM] [Info] Number of positive: 5371, number of negative: 1627\n",
      "[LightGBM] [Info] Auto-choosing col-wise multi-threading, the overhead of testing was 0.001033 seconds.\n",
      "You can set `force_col_wise=true` to remove the overhead.\n",
      "[LightGBM] [Info] Total Bins 3825\n",
      "[LightGBM] [Info] Number of data points in the train set: 6998, number of used features: 15\n",
      "[LightGBM] [Info] [binary:BoostFromScore]: pavg=0.767505 -> initscore=1.194276\n",
      "[LightGBM] [Info] Start training from score 1.194276\n"
     ]
    },
    {
     "name": "stderr",
     "output_type": "stream",
     "text": [
      "C:\\Users\\PC\\Desktop\\ml_project\\venv\\lib\\site-packages\\sklearn\\utils\\validation.py:2739: UserWarning: X does not have valid feature names, but LGBMClassifier was fitted with feature names\n",
      "  warnings.warn(\n"
     ]
    },
    {
     "name": "stdout",
     "output_type": "stream",
     "text": [
      "[LightGBM] [Info] Number of positive: 5371, number of negative: 1628\n",
      "[LightGBM] [Info] Auto-choosing col-wise multi-threading, the overhead of testing was 0.001501 seconds.\n",
      "You can set `force_col_wise=true` to remove the overhead.\n",
      "[LightGBM] [Info] Total Bins 3825\n",
      "[LightGBM] [Info] Number of data points in the train set: 6999, number of used features: 15\n",
      "[LightGBM] [Info] [binary:BoostFromScore]: pavg=0.767395 -> initscore=1.193662\n",
      "[LightGBM] [Info] Start training from score 1.193662\n"
     ]
    },
    {
     "name": "stderr",
     "output_type": "stream",
     "text": [
      "C:\\Users\\PC\\Desktop\\ml_project\\venv\\lib\\site-packages\\sklearn\\utils\\validation.py:2739: UserWarning: X does not have valid feature names, but LGBMClassifier was fitted with feature names\n",
      "  warnings.warn(\n"
     ]
    },
    {
     "name": "stdout",
     "output_type": "stream",
     "text": [
      "[LightGBM] [Info] Number of positive: 5372, number of negative: 1627\n",
      "[LightGBM] [Info] Auto-choosing col-wise multi-threading, the overhead of testing was 0.001181 seconds.\n",
      "You can set `force_col_wise=true` to remove the overhead.\n",
      "[LightGBM] [Info] Total Bins 3825\n",
      "[LightGBM] [Info] Number of data points in the train set: 6999, number of used features: 15\n",
      "[LightGBM] [Info] [binary:BoostFromScore]: pavg=0.767538 -> initscore=1.194462\n",
      "[LightGBM] [Info] Start training from score 1.194462\n"
     ]
    },
    {
     "name": "stderr",
     "output_type": "stream",
     "text": [
      "C:\\Users\\PC\\Desktop\\ml_project\\venv\\lib\\site-packages\\sklearn\\utils\\validation.py:2739: UserWarning: X does not have valid feature names, but LGBMClassifier was fitted with feature names\n",
      "  warnings.warn(\n"
     ]
    },
    {
     "name": "stdout",
     "output_type": "stream",
     "text": [
      "[LightGBM] [Info] Number of positive: 5371, number of negative: 1627\n",
      "[LightGBM] [Info] Auto-choosing col-wise multi-threading, the overhead of testing was 0.000673 seconds.\n",
      "You can set `force_col_wise=true` to remove the overhead.\n",
      "[LightGBM] [Info] Total Bins 3825\n",
      "[LightGBM] [Info] Number of data points in the train set: 6998, number of used features: 15\n",
      "[LightGBM] [Info] [binary:BoostFromScore]: pavg=0.767505 -> initscore=1.194276\n",
      "[LightGBM] [Info] Start training from score 1.194276\n"
     ]
    },
    {
     "name": "stderr",
     "output_type": "stream",
     "text": [
      "C:\\Users\\PC\\Desktop\\ml_project\\venv\\lib\\site-packages\\sklearn\\utils\\validation.py:2739: UserWarning: X does not have valid feature names, but LGBMClassifier was fitted with feature names\n",
      "  warnings.warn(\n"
     ]
    },
    {
     "name": "stdout",
     "output_type": "stream",
     "text": [
      "[LightGBM] [Info] Number of positive: 5371, number of negative: 1627\n",
      "[LightGBM] [Info] Auto-choosing col-wise multi-threading, the overhead of testing was 0.000918 seconds.\n",
      "You can set `force_col_wise=true` to remove the overhead.\n",
      "[LightGBM] [Info] Total Bins 3825\n",
      "[LightGBM] [Info] Number of data points in the train set: 6998, number of used features: 15\n",
      "[LightGBM] [Info] [binary:BoostFromScore]: pavg=0.767505 -> initscore=1.194276\n",
      "[LightGBM] [Info] Start training from score 1.194276\n"
     ]
    },
    {
     "name": "stderr",
     "output_type": "stream",
     "text": [
      "C:\\Users\\PC\\Desktop\\ml_project\\venv\\lib\\site-packages\\sklearn\\utils\\validation.py:2739: UserWarning: X does not have valid feature names, but LGBMClassifier was fitted with feature names\n",
      "  warnings.warn(\n"
     ]
    },
    {
     "name": "stdout",
     "output_type": "stream",
     "text": [
      "[LightGBM] [Info] Number of positive: 5371, number of negative: 1627\n",
      "[LightGBM] [Info] Auto-choosing col-wise multi-threading, the overhead of testing was 0.001054 seconds.\n",
      "You can set `force_col_wise=true` to remove the overhead.\n",
      "[LightGBM] [Info] Total Bins 3825\n",
      "[LightGBM] [Info] Number of data points in the train set: 6998, number of used features: 15\n",
      "[LightGBM] [Info] [binary:BoostFromScore]: pavg=0.767505 -> initscore=1.194276\n",
      "[LightGBM] [Info] Start training from score 1.194276\n"
     ]
    },
    {
     "name": "stderr",
     "output_type": "stream",
     "text": [
      "C:\\Users\\PC\\Desktop\\ml_project\\venv\\lib\\site-packages\\sklearn\\utils\\validation.py:2739: UserWarning: X does not have valid feature names, but LGBMClassifier was fitted with feature names\n",
      "  warnings.warn(\n"
     ]
    },
    {
     "name": "stdout",
     "output_type": "stream",
     "text": [
      "[LightGBM] [Info] Number of positive: 5371, number of negative: 1628\n",
      "[LightGBM] [Info] Auto-choosing col-wise multi-threading, the overhead of testing was 0.001421 seconds.\n",
      "You can set `force_col_wise=true` to remove the overhead.\n",
      "[LightGBM] [Info] Total Bins 3825\n",
      "[LightGBM] [Info] Number of data points in the train set: 6999, number of used features: 15\n",
      "[LightGBM] [Info] [binary:BoostFromScore]: pavg=0.767395 -> initscore=1.193662\n",
      "[LightGBM] [Info] Start training from score 1.193662\n"
     ]
    },
    {
     "name": "stderr",
     "output_type": "stream",
     "text": [
      "C:\\Users\\PC\\Desktop\\ml_project\\venv\\lib\\site-packages\\sklearn\\utils\\validation.py:2739: UserWarning: X does not have valid feature names, but LGBMClassifier was fitted with feature names\n",
      "  warnings.warn(\n"
     ]
    },
    {
     "name": "stdout",
     "output_type": "stream",
     "text": [
      "[LightGBM] [Info] Number of positive: 5372, number of negative: 1627\n",
      "[LightGBM] [Info] Auto-choosing row-wise multi-threading, the overhead of testing was 0.000307 seconds.\n",
      "You can set `force_row_wise=true` to remove the overhead.\n",
      "And if memory is not enough, you can set `force_col_wise=true`.\n",
      "[LightGBM] [Info] Total Bins 3825\n",
      "[LightGBM] [Info] Number of data points in the train set: 6999, number of used features: 15\n",
      "[LightGBM] [Info] [binary:BoostFromScore]: pavg=0.767538 -> initscore=1.194462\n",
      "[LightGBM] [Info] Start training from score 1.194462\n"
     ]
    },
    {
     "name": "stderr",
     "output_type": "stream",
     "text": [
      "C:\\Users\\PC\\Desktop\\ml_project\\venv\\lib\\site-packages\\sklearn\\utils\\validation.py:2739: UserWarning: X does not have valid feature names, but LGBMClassifier was fitted with feature names\n",
      "  warnings.warn(\n"
     ]
    },
    {
     "name": "stdout",
     "output_type": "stream",
     "text": [
      "[LightGBM] [Info] Number of positive: 5371, number of negative: 1627\n",
      "[LightGBM] [Info] Auto-choosing col-wise multi-threading, the overhead of testing was 0.001023 seconds.\n",
      "You can set `force_col_wise=true` to remove the overhead.\n",
      "[LightGBM] [Info] Total Bins 3825\n",
      "[LightGBM] [Info] Number of data points in the train set: 6998, number of used features: 15\n",
      "[LightGBM] [Info] [binary:BoostFromScore]: pavg=0.767505 -> initscore=1.194276\n",
      "[LightGBM] [Info] Start training from score 1.194276\n"
     ]
    },
    {
     "name": "stderr",
     "output_type": "stream",
     "text": [
      "C:\\Users\\PC\\Desktop\\ml_project\\venv\\lib\\site-packages\\sklearn\\utils\\validation.py:2739: UserWarning: X does not have valid feature names, but LGBMClassifier was fitted with feature names\n",
      "  warnings.warn(\n"
     ]
    },
    {
     "name": "stdout",
     "output_type": "stream",
     "text": [
      "[LightGBM] [Info] Number of positive: 5371, number of negative: 1627\n",
      "[LightGBM] [Info] Auto-choosing col-wise multi-threading, the overhead of testing was 0.001026 seconds.\n",
      "You can set `force_col_wise=true` to remove the overhead.\n",
      "[LightGBM] [Info] Total Bins 3825\n",
      "[LightGBM] [Info] Number of data points in the train set: 6998, number of used features: 15\n",
      "[LightGBM] [Info] [binary:BoostFromScore]: pavg=0.767505 -> initscore=1.194276\n",
      "[LightGBM] [Info] Start training from score 1.194276\n"
     ]
    },
    {
     "name": "stderr",
     "output_type": "stream",
     "text": [
      "C:\\Users\\PC\\Desktop\\ml_project\\venv\\lib\\site-packages\\sklearn\\utils\\validation.py:2739: UserWarning: X does not have valid feature names, but LGBMClassifier was fitted with feature names\n",
      "  warnings.warn(\n"
     ]
    },
    {
     "name": "stdout",
     "output_type": "stream",
     "text": [
      "[LightGBM] [Info] Number of positive: 5371, number of negative: 1627\n",
      "[LightGBM] [Info] Auto-choosing col-wise multi-threading, the overhead of testing was 0.000846 seconds.\n",
      "You can set `force_col_wise=true` to remove the overhead.\n",
      "[LightGBM] [Info] Total Bins 3825\n",
      "[LightGBM] [Info] Number of data points in the train set: 6998, number of used features: 15\n",
      "[LightGBM] [Info] [binary:BoostFromScore]: pavg=0.767505 -> initscore=1.194276\n",
      "[LightGBM] [Info] Start training from score 1.194276\n"
     ]
    },
    {
     "name": "stderr",
     "output_type": "stream",
     "text": [
      "C:\\Users\\PC\\Desktop\\ml_project\\venv\\lib\\site-packages\\sklearn\\utils\\validation.py:2739: UserWarning: X does not have valid feature names, but LGBMClassifier was fitted with feature names\n",
      "  warnings.warn(\n"
     ]
    },
    {
     "name": "stdout",
     "output_type": "stream",
     "text": [
      "[LightGBM] [Info] Number of positive: 5371, number of negative: 1628\n",
      "[LightGBM] [Info] Auto-choosing col-wise multi-threading, the overhead of testing was 0.001404 seconds.\n",
      "You can set `force_col_wise=true` to remove the overhead.\n",
      "[LightGBM] [Info] Total Bins 3825\n",
      "[LightGBM] [Info] Number of data points in the train set: 6999, number of used features: 15\n",
      "[LightGBM] [Info] [binary:BoostFromScore]: pavg=0.767395 -> initscore=1.193662\n",
      "[LightGBM] [Info] Start training from score 1.193662\n"
     ]
    },
    {
     "name": "stderr",
     "output_type": "stream",
     "text": [
      "C:\\Users\\PC\\Desktop\\ml_project\\venv\\lib\\site-packages\\sklearn\\utils\\validation.py:2739: UserWarning: X does not have valid feature names, but LGBMClassifier was fitted with feature names\n",
      "  warnings.warn(\n"
     ]
    },
    {
     "name": "stdout",
     "output_type": "stream",
     "text": [
      "[LightGBM] [Info] Number of positive: 5372, number of negative: 1627\n",
      "[LightGBM] [Info] Auto-choosing col-wise multi-threading, the overhead of testing was 0.000786 seconds.\n",
      "You can set `force_col_wise=true` to remove the overhead.\n",
      "[LightGBM] [Info] Total Bins 3825\n",
      "[LightGBM] [Info] Number of data points in the train set: 6999, number of used features: 15\n",
      "[LightGBM] [Info] [binary:BoostFromScore]: pavg=0.767538 -> initscore=1.194462\n",
      "[LightGBM] [Info] Start training from score 1.194462\n"
     ]
    },
    {
     "name": "stderr",
     "output_type": "stream",
     "text": [
      "C:\\Users\\PC\\Desktop\\ml_project\\venv\\lib\\site-packages\\sklearn\\utils\\validation.py:2739: UserWarning: X does not have valid feature names, but LGBMClassifier was fitted with feature names\n",
      "  warnings.warn(\n"
     ]
    },
    {
     "name": "stdout",
     "output_type": "stream",
     "text": [
      "[LightGBM] [Info] Number of positive: 5371, number of negative: 1627\n",
      "[LightGBM] [Info] Auto-choosing col-wise multi-threading, the overhead of testing was 0.000931 seconds.\n",
      "You can set `force_col_wise=true` to remove the overhead.\n",
      "[LightGBM] [Info] Total Bins 3825\n",
      "[LightGBM] [Info] Number of data points in the train set: 6998, number of used features: 15\n",
      "[LightGBM] [Info] [binary:BoostFromScore]: pavg=0.767505 -> initscore=1.194276\n",
      "[LightGBM] [Info] Start training from score 1.194276\n"
     ]
    },
    {
     "name": "stderr",
     "output_type": "stream",
     "text": [
      "C:\\Users\\PC\\Desktop\\ml_project\\venv\\lib\\site-packages\\sklearn\\utils\\validation.py:2739: UserWarning: X does not have valid feature names, but LGBMClassifier was fitted with feature names\n",
      "  warnings.warn(\n"
     ]
    },
    {
     "name": "stdout",
     "output_type": "stream",
     "text": [
      "[LightGBM] [Info] Number of positive: 5371, number of negative: 1627\n",
      "[LightGBM] [Info] Auto-choosing col-wise multi-threading, the overhead of testing was 0.000926 seconds.\n",
      "You can set `force_col_wise=true` to remove the overhead.\n",
      "[LightGBM] [Info] Total Bins 3825\n",
      "[LightGBM] [Info] Number of data points in the train set: 6998, number of used features: 15\n",
      "[LightGBM] [Info] [binary:BoostFromScore]: pavg=0.767505 -> initscore=1.194276\n",
      "[LightGBM] [Info] Start training from score 1.194276\n"
     ]
    },
    {
     "name": "stderr",
     "output_type": "stream",
     "text": [
      "C:\\Users\\PC\\Desktop\\ml_project\\venv\\lib\\site-packages\\sklearn\\utils\\validation.py:2739: UserWarning: X does not have valid feature names, but LGBMClassifier was fitted with feature names\n",
      "  warnings.warn(\n"
     ]
    },
    {
     "name": "stdout",
     "output_type": "stream",
     "text": [
      "[LightGBM] [Info] Number of positive: 5371, number of negative: 1627\n",
      "[LightGBM] [Info] Auto-choosing col-wise multi-threading, the overhead of testing was 0.001066 seconds.\n",
      "You can set `force_col_wise=true` to remove the overhead.\n",
      "[LightGBM] [Info] Total Bins 3825\n",
      "[LightGBM] [Info] Number of data points in the train set: 6998, number of used features: 15\n",
      "[LightGBM] [Info] [binary:BoostFromScore]: pavg=0.767505 -> initscore=1.194276\n",
      "[LightGBM] [Info] Start training from score 1.194276\n"
     ]
    },
    {
     "name": "stderr",
     "output_type": "stream",
     "text": [
      "C:\\Users\\PC\\Desktop\\ml_project\\venv\\lib\\site-packages\\sklearn\\utils\\validation.py:2739: UserWarning: X does not have valid feature names, but LGBMClassifier was fitted with feature names\n",
      "  warnings.warn(\n"
     ]
    },
    {
     "name": "stdout",
     "output_type": "stream",
     "text": [
      "[LightGBM] [Info] Number of positive: 5371, number of negative: 1628\n",
      "[LightGBM] [Info] Auto-choosing col-wise multi-threading, the overhead of testing was 0.000761 seconds.\n",
      "You can set `force_col_wise=true` to remove the overhead.\n",
      "[LightGBM] [Info] Total Bins 3825\n",
      "[LightGBM] [Info] Number of data points in the train set: 6999, number of used features: 15\n",
      "[LightGBM] [Info] [binary:BoostFromScore]: pavg=0.767395 -> initscore=1.193662\n",
      "[LightGBM] [Info] Start training from score 1.193662\n"
     ]
    },
    {
     "name": "stderr",
     "output_type": "stream",
     "text": [
      "C:\\Users\\PC\\Desktop\\ml_project\\venv\\lib\\site-packages\\sklearn\\utils\\validation.py:2739: UserWarning: X does not have valid feature names, but LGBMClassifier was fitted with feature names\n",
      "  warnings.warn(\n"
     ]
    },
    {
     "name": "stdout",
     "output_type": "stream",
     "text": [
      "[LightGBM] [Info] Number of positive: 5372, number of negative: 1627\n",
      "[LightGBM] [Info] Auto-choosing col-wise multi-threading, the overhead of testing was 0.001564 seconds.\n",
      "You can set `force_col_wise=true` to remove the overhead.\n",
      "[LightGBM] [Info] Total Bins 3825\n",
      "[LightGBM] [Info] Number of data points in the train set: 6999, number of used features: 15\n",
      "[LightGBM] [Info] [binary:BoostFromScore]: pavg=0.767538 -> initscore=1.194462\n",
      "[LightGBM] [Info] Start training from score 1.194462\n"
     ]
    },
    {
     "name": "stderr",
     "output_type": "stream",
     "text": [
      "C:\\Users\\PC\\Desktop\\ml_project\\venv\\lib\\site-packages\\sklearn\\utils\\validation.py:2739: UserWarning: X does not have valid feature names, but LGBMClassifier was fitted with feature names\n",
      "  warnings.warn(\n"
     ]
    },
    {
     "name": "stdout",
     "output_type": "stream",
     "text": [
      "[LightGBM] [Info] Number of positive: 5371, number of negative: 1627\n",
      "[LightGBM] [Info] Auto-choosing col-wise multi-threading, the overhead of testing was 0.000992 seconds.\n",
      "You can set `force_col_wise=true` to remove the overhead.\n",
      "[LightGBM] [Info] Total Bins 3825\n",
      "[LightGBM] [Info] Number of data points in the train set: 6998, number of used features: 15\n",
      "[LightGBM] [Info] [binary:BoostFromScore]: pavg=0.767505 -> initscore=1.194276\n",
      "[LightGBM] [Info] Start training from score 1.194276\n"
     ]
    },
    {
     "name": "stderr",
     "output_type": "stream",
     "text": [
      "C:\\Users\\PC\\Desktop\\ml_project\\venv\\lib\\site-packages\\sklearn\\utils\\validation.py:2739: UserWarning: X does not have valid feature names, but LGBMClassifier was fitted with feature names\n",
      "  warnings.warn(\n"
     ]
    },
    {
     "name": "stdout",
     "output_type": "stream",
     "text": [
      "[LightGBM] [Info] Number of positive: 5371, number of negative: 1627\n",
      "[LightGBM] [Info] Auto-choosing col-wise multi-threading, the overhead of testing was 0.001376 seconds.\n",
      "You can set `force_col_wise=true` to remove the overhead.\n",
      "[LightGBM] [Info] Total Bins 3825\n",
      "[LightGBM] [Info] Number of data points in the train set: 6998, number of used features: 15\n",
      "[LightGBM] [Info] [binary:BoostFromScore]: pavg=0.767505 -> initscore=1.194276\n",
      "[LightGBM] [Info] Start training from score 1.194276\n"
     ]
    },
    {
     "name": "stderr",
     "output_type": "stream",
     "text": [
      "C:\\Users\\PC\\Desktop\\ml_project\\venv\\lib\\site-packages\\sklearn\\utils\\validation.py:2739: UserWarning: X does not have valid feature names, but LGBMClassifier was fitted with feature names\n",
      "  warnings.warn(\n"
     ]
    },
    {
     "name": "stdout",
     "output_type": "stream",
     "text": [
      "[LightGBM] [Info] Number of positive: 5371, number of negative: 1627\n",
      "[LightGBM] [Info] Auto-choosing col-wise multi-threading, the overhead of testing was 0.000978 seconds.\n",
      "You can set `force_col_wise=true` to remove the overhead.\n",
      "[LightGBM] [Info] Total Bins 3825\n",
      "[LightGBM] [Info] Number of data points in the train set: 6998, number of used features: 15\n",
      "[LightGBM] [Info] [binary:BoostFromScore]: pavg=0.767505 -> initscore=1.194276\n",
      "[LightGBM] [Info] Start training from score 1.194276\n"
     ]
    },
    {
     "name": "stderr",
     "output_type": "stream",
     "text": [
      "C:\\Users\\PC\\Desktop\\ml_project\\venv\\lib\\site-packages\\sklearn\\utils\\validation.py:2739: UserWarning: X does not have valid feature names, but LGBMClassifier was fitted with feature names\n",
      "  warnings.warn(\n"
     ]
    },
    {
     "name": "stdout",
     "output_type": "stream",
     "text": [
      "[LightGBM] [Info] Number of positive: 5371, number of negative: 1628\n",
      "[LightGBM] [Info] Auto-choosing col-wise multi-threading, the overhead of testing was 0.000907 seconds.\n",
      "You can set `force_col_wise=true` to remove the overhead.\n",
      "[LightGBM] [Info] Total Bins 3825\n",
      "[LightGBM] [Info] Number of data points in the train set: 6999, number of used features: 15\n",
      "[LightGBM] [Info] [binary:BoostFromScore]: pavg=0.767395 -> initscore=1.193662\n",
      "[LightGBM] [Info] Start training from score 1.193662\n"
     ]
    },
    {
     "name": "stderr",
     "output_type": "stream",
     "text": [
      "C:\\Users\\PC\\Desktop\\ml_project\\venv\\lib\\site-packages\\sklearn\\utils\\validation.py:2739: UserWarning: X does not have valid feature names, but LGBMClassifier was fitted with feature names\n",
      "  warnings.warn(\n"
     ]
    },
    {
     "name": "stdout",
     "output_type": "stream",
     "text": [
      "[LightGBM] [Info] Number of positive: 5372, number of negative: 1627\n",
      "[LightGBM] [Info] Auto-choosing col-wise multi-threading, the overhead of testing was 0.001971 seconds.\n",
      "You can set `force_col_wise=true` to remove the overhead.\n",
      "[LightGBM] [Info] Total Bins 3825\n",
      "[LightGBM] [Info] Number of data points in the train set: 6999, number of used features: 15\n",
      "[LightGBM] [Info] [binary:BoostFromScore]: pavg=0.767538 -> initscore=1.194462\n",
      "[LightGBM] [Info] Start training from score 1.194462\n"
     ]
    },
    {
     "name": "stderr",
     "output_type": "stream",
     "text": [
      "C:\\Users\\PC\\Desktop\\ml_project\\venv\\lib\\site-packages\\sklearn\\utils\\validation.py:2739: UserWarning: X does not have valid feature names, but LGBMClassifier was fitted with feature names\n",
      "  warnings.warn(\n"
     ]
    },
    {
     "name": "stdout",
     "output_type": "stream",
     "text": [
      "[LightGBM] [Info] Number of positive: 5371, number of negative: 1627\n",
      "[LightGBM] [Info] Auto-choosing col-wise multi-threading, the overhead of testing was 0.001370 seconds.\n",
      "You can set `force_col_wise=true` to remove the overhead.\n",
      "[LightGBM] [Info] Total Bins 3825\n",
      "[LightGBM] [Info] Number of data points in the train set: 6998, number of used features: 15\n",
      "[LightGBM] [Info] [binary:BoostFromScore]: pavg=0.767505 -> initscore=1.194276\n",
      "[LightGBM] [Info] Start training from score 1.194276\n"
     ]
    },
    {
     "name": "stderr",
     "output_type": "stream",
     "text": [
      "C:\\Users\\PC\\Desktop\\ml_project\\venv\\lib\\site-packages\\sklearn\\utils\\validation.py:2739: UserWarning: X does not have valid feature names, but LGBMClassifier was fitted with feature names\n",
      "  warnings.warn(\n"
     ]
    },
    {
     "name": "stdout",
     "output_type": "stream",
     "text": [
      "[LightGBM] [Info] Number of positive: 5371, number of negative: 1627\n",
      "[LightGBM] [Info] Auto-choosing col-wise multi-threading, the overhead of testing was 0.000637 seconds.\n",
      "You can set `force_col_wise=true` to remove the overhead.\n",
      "[LightGBM] [Info] Total Bins 3825\n",
      "[LightGBM] [Info] Number of data points in the train set: 6998, number of used features: 15\n",
      "[LightGBM] [Info] [binary:BoostFromScore]: pavg=0.767505 -> initscore=1.194276\n",
      "[LightGBM] [Info] Start training from score 1.194276\n"
     ]
    },
    {
     "name": "stderr",
     "output_type": "stream",
     "text": [
      "C:\\Users\\PC\\Desktop\\ml_project\\venv\\lib\\site-packages\\sklearn\\utils\\validation.py:2739: UserWarning: X does not have valid feature names, but LGBMClassifier was fitted with feature names\n",
      "  warnings.warn(\n"
     ]
    },
    {
     "name": "stdout",
     "output_type": "stream",
     "text": [
      "[LightGBM] [Info] Number of positive: 5371, number of negative: 1627\n",
      "[LightGBM] [Info] Auto-choosing col-wise multi-threading, the overhead of testing was 0.000926 seconds.\n",
      "You can set `force_col_wise=true` to remove the overhead.\n",
      "[LightGBM] [Info] Total Bins 3825\n",
      "[LightGBM] [Info] Number of data points in the train set: 6998, number of used features: 15\n",
      "[LightGBM] [Info] [binary:BoostFromScore]: pavg=0.767505 -> initscore=1.194276\n",
      "[LightGBM] [Info] Start training from score 1.194276\n"
     ]
    },
    {
     "name": "stderr",
     "output_type": "stream",
     "text": [
      "C:\\Users\\PC\\Desktop\\ml_project\\venv\\lib\\site-packages\\sklearn\\utils\\validation.py:2739: UserWarning: X does not have valid feature names, but LGBMClassifier was fitted with feature names\n",
      "  warnings.warn(\n"
     ]
    },
    {
     "name": "stdout",
     "output_type": "stream",
     "text": [
      "[LightGBM] [Info] Number of positive: 5371, number of negative: 1628\n",
      "[LightGBM] [Info] Auto-choosing col-wise multi-threading, the overhead of testing was 0.001223 seconds.\n",
      "You can set `force_col_wise=true` to remove the overhead.\n",
      "[LightGBM] [Info] Total Bins 3825\n",
      "[LightGBM] [Info] Number of data points in the train set: 6999, number of used features: 15\n",
      "[LightGBM] [Info] [binary:BoostFromScore]: pavg=0.767395 -> initscore=1.193662\n",
      "[LightGBM] [Info] Start training from score 1.193662\n"
     ]
    },
    {
     "name": "stderr",
     "output_type": "stream",
     "text": [
      "C:\\Users\\PC\\Desktop\\ml_project\\venv\\lib\\site-packages\\sklearn\\utils\\validation.py:2739: UserWarning: X does not have valid feature names, but LGBMClassifier was fitted with feature names\n",
      "  warnings.warn(\n"
     ]
    },
    {
     "name": "stdout",
     "output_type": "stream",
     "text": [
      "[LightGBM] [Info] Number of positive: 5372, number of negative: 1627\n",
      "[LightGBM] [Info] Auto-choosing col-wise multi-threading, the overhead of testing was 0.001112 seconds.\n",
      "You can set `force_col_wise=true` to remove the overhead.\n",
      "[LightGBM] [Info] Total Bins 3825\n",
      "[LightGBM] [Info] Number of data points in the train set: 6999, number of used features: 15\n",
      "[LightGBM] [Info] [binary:BoostFromScore]: pavg=0.767538 -> initscore=1.194462\n",
      "[LightGBM] [Info] Start training from score 1.194462\n"
     ]
    },
    {
     "name": "stderr",
     "output_type": "stream",
     "text": [
      "C:\\Users\\PC\\Desktop\\ml_project\\venv\\lib\\site-packages\\sklearn\\utils\\validation.py:2739: UserWarning: X does not have valid feature names, but LGBMClassifier was fitted with feature names\n",
      "  warnings.warn(\n"
     ]
    },
    {
     "name": "stdout",
     "output_type": "stream",
     "text": [
      "[LightGBM] [Info] Number of positive: 5371, number of negative: 1627\n",
      "[LightGBM] [Info] Auto-choosing col-wise multi-threading, the overhead of testing was 0.000776 seconds.\n",
      "You can set `force_col_wise=true` to remove the overhead.\n",
      "[LightGBM] [Info] Total Bins 3825\n",
      "[LightGBM] [Info] Number of data points in the train set: 6998, number of used features: 15\n",
      "[LightGBM] [Info] [binary:BoostFromScore]: pavg=0.767505 -> initscore=1.194276\n",
      "[LightGBM] [Info] Start training from score 1.194276\n"
     ]
    },
    {
     "name": "stderr",
     "output_type": "stream",
     "text": [
      "C:\\Users\\PC\\Desktop\\ml_project\\venv\\lib\\site-packages\\sklearn\\utils\\validation.py:2739: UserWarning: X does not have valid feature names, but LGBMClassifier was fitted with feature names\n",
      "  warnings.warn(\n"
     ]
    },
    {
     "name": "stdout",
     "output_type": "stream",
     "text": [
      "[LightGBM] [Info] Number of positive: 5371, number of negative: 1627\n",
      "[LightGBM] [Info] Auto-choosing col-wise multi-threading, the overhead of testing was 0.001415 seconds.\n",
      "You can set `force_col_wise=true` to remove the overhead.\n",
      "[LightGBM] [Info] Total Bins 3825\n",
      "[LightGBM] [Info] Number of data points in the train set: 6998, number of used features: 15\n",
      "[LightGBM] [Info] [binary:BoostFromScore]: pavg=0.767505 -> initscore=1.194276\n",
      "[LightGBM] [Info] Start training from score 1.194276\n"
     ]
    },
    {
     "name": "stderr",
     "output_type": "stream",
     "text": [
      "C:\\Users\\PC\\Desktop\\ml_project\\venv\\lib\\site-packages\\sklearn\\utils\\validation.py:2739: UserWarning: X does not have valid feature names, but LGBMClassifier was fitted with feature names\n",
      "  warnings.warn(\n"
     ]
    },
    {
     "name": "stdout",
     "output_type": "stream",
     "text": [
      "[LightGBM] [Info] Number of positive: 5371, number of negative: 1627\n",
      "[LightGBM] [Info] Auto-choosing col-wise multi-threading, the overhead of testing was 0.000813 seconds.\n",
      "You can set `force_col_wise=true` to remove the overhead.\n",
      "[LightGBM] [Info] Total Bins 3825\n",
      "[LightGBM] [Info] Number of data points in the train set: 6998, number of used features: 15\n",
      "[LightGBM] [Info] [binary:BoostFromScore]: pavg=0.767505 -> initscore=1.194276\n",
      "[LightGBM] [Info] Start training from score 1.194276\n"
     ]
    },
    {
     "name": "stderr",
     "output_type": "stream",
     "text": [
      "C:\\Users\\PC\\Desktop\\ml_project\\venv\\lib\\site-packages\\sklearn\\utils\\validation.py:2739: UserWarning: X does not have valid feature names, but LGBMClassifier was fitted with feature names\n",
      "  warnings.warn(\n"
     ]
    },
    {
     "name": "stdout",
     "output_type": "stream",
     "text": [
      "[LightGBM] [Info] Number of positive: 5371, number of negative: 1628\n",
      "[LightGBM] [Info] Auto-choosing col-wise multi-threading, the overhead of testing was 0.001061 seconds.\n",
      "You can set `force_col_wise=true` to remove the overhead.\n",
      "[LightGBM] [Info] Total Bins 3825\n",
      "[LightGBM] [Info] Number of data points in the train set: 6999, number of used features: 15\n",
      "[LightGBM] [Info] [binary:BoostFromScore]: pavg=0.767395 -> initscore=1.193662\n",
      "[LightGBM] [Info] Start training from score 1.193662\n"
     ]
    },
    {
     "name": "stderr",
     "output_type": "stream",
     "text": [
      "C:\\Users\\PC\\Desktop\\ml_project\\venv\\lib\\site-packages\\sklearn\\utils\\validation.py:2739: UserWarning: X does not have valid feature names, but LGBMClassifier was fitted with feature names\n",
      "  warnings.warn(\n"
     ]
    },
    {
     "name": "stdout",
     "output_type": "stream",
     "text": [
      "[LightGBM] [Info] Number of positive: 5372, number of negative: 1627\n",
      "[LightGBM] [Info] Auto-choosing col-wise multi-threading, the overhead of testing was 0.000943 seconds.\n",
      "You can set `force_col_wise=true` to remove the overhead.\n",
      "[LightGBM] [Info] Total Bins 3825\n",
      "[LightGBM] [Info] Number of data points in the train set: 6999, number of used features: 15\n",
      "[LightGBM] [Info] [binary:BoostFromScore]: pavg=0.767538 -> initscore=1.194462\n",
      "[LightGBM] [Info] Start training from score 1.194462\n"
     ]
    },
    {
     "name": "stderr",
     "output_type": "stream",
     "text": [
      "C:\\Users\\PC\\Desktop\\ml_project\\venv\\lib\\site-packages\\sklearn\\utils\\validation.py:2739: UserWarning: X does not have valid feature names, but LGBMClassifier was fitted with feature names\n",
      "  warnings.warn(\n"
     ]
    },
    {
     "name": "stdout",
     "output_type": "stream",
     "text": [
      "[LightGBM] [Info] Number of positive: 5371, number of negative: 1627\n",
      "[LightGBM] [Info] Auto-choosing col-wise multi-threading, the overhead of testing was 0.002324 seconds.\n",
      "You can set `force_col_wise=true` to remove the overhead.\n",
      "[LightGBM] [Info] Total Bins 3825\n",
      "[LightGBM] [Info] Number of data points in the train set: 6998, number of used features: 15\n",
      "[LightGBM] [Info] [binary:BoostFromScore]: pavg=0.767505 -> initscore=1.194276\n",
      "[LightGBM] [Info] Start training from score 1.194276\n"
     ]
    },
    {
     "name": "stderr",
     "output_type": "stream",
     "text": [
      "C:\\Users\\PC\\Desktop\\ml_project\\venv\\lib\\site-packages\\sklearn\\utils\\validation.py:2739: UserWarning: X does not have valid feature names, but LGBMClassifier was fitted with feature names\n",
      "  warnings.warn(\n"
     ]
    },
    {
     "name": "stdout",
     "output_type": "stream",
     "text": [
      "[LightGBM] [Info] Number of positive: 5371, number of negative: 1627\n",
      "[LightGBM] [Info] Auto-choosing col-wise multi-threading, the overhead of testing was 0.000874 seconds.\n",
      "You can set `force_col_wise=true` to remove the overhead.\n",
      "[LightGBM] [Info] Total Bins 3825\n",
      "[LightGBM] [Info] Number of data points in the train set: 6998, number of used features: 15\n",
      "[LightGBM] [Info] [binary:BoostFromScore]: pavg=0.767505 -> initscore=1.194276\n",
      "[LightGBM] [Info] Start training from score 1.194276\n"
     ]
    },
    {
     "name": "stderr",
     "output_type": "stream",
     "text": [
      "C:\\Users\\PC\\Desktop\\ml_project\\venv\\lib\\site-packages\\sklearn\\utils\\validation.py:2739: UserWarning: X does not have valid feature names, but LGBMClassifier was fitted with feature names\n",
      "  warnings.warn(\n"
     ]
    },
    {
     "name": "stdout",
     "output_type": "stream",
     "text": [
      "[LightGBM] [Info] Number of positive: 5371, number of negative: 1627\n",
      "[LightGBM] [Info] Auto-choosing col-wise multi-threading, the overhead of testing was 0.001187 seconds.\n",
      "You can set `force_col_wise=true` to remove the overhead.\n",
      "[LightGBM] [Info] Total Bins 3825\n",
      "[LightGBM] [Info] Number of data points in the train set: 6998, number of used features: 15\n",
      "[LightGBM] [Info] [binary:BoostFromScore]: pavg=0.767505 -> initscore=1.194276\n",
      "[LightGBM] [Info] Start training from score 1.194276\n"
     ]
    },
    {
     "name": "stderr",
     "output_type": "stream",
     "text": [
      "C:\\Users\\PC\\Desktop\\ml_project\\venv\\lib\\site-packages\\sklearn\\utils\\validation.py:2739: UserWarning: X does not have valid feature names, but LGBMClassifier was fitted with feature names\n",
      "  warnings.warn(\n"
     ]
    },
    {
     "name": "stdout",
     "output_type": "stream",
     "text": [
      "[LightGBM] [Info] Number of positive: 5371, number of negative: 1628\n",
      "[LightGBM] [Info] Auto-choosing col-wise multi-threading, the overhead of testing was 0.001175 seconds.\n",
      "You can set `force_col_wise=true` to remove the overhead.\n",
      "[LightGBM] [Info] Total Bins 3825\n",
      "[LightGBM] [Info] Number of data points in the train set: 6999, number of used features: 15\n",
      "[LightGBM] [Info] [binary:BoostFromScore]: pavg=0.767395 -> initscore=1.193662\n",
      "[LightGBM] [Info] Start training from score 1.193662\n"
     ]
    },
    {
     "name": "stderr",
     "output_type": "stream",
     "text": [
      "C:\\Users\\PC\\Desktop\\ml_project\\venv\\lib\\site-packages\\sklearn\\utils\\validation.py:2739: UserWarning: X does not have valid feature names, but LGBMClassifier was fitted with feature names\n",
      "  warnings.warn(\n"
     ]
    },
    {
     "name": "stdout",
     "output_type": "stream",
     "text": [
      "[LightGBM] [Info] Number of positive: 5372, number of negative: 1627\n",
      "[LightGBM] [Info] Auto-choosing col-wise multi-threading, the overhead of testing was 0.000950 seconds.\n",
      "You can set `force_col_wise=true` to remove the overhead.\n",
      "[LightGBM] [Info] Total Bins 3825\n",
      "[LightGBM] [Info] Number of data points in the train set: 6999, number of used features: 15\n",
      "[LightGBM] [Info] [binary:BoostFromScore]: pavg=0.767538 -> initscore=1.194462\n",
      "[LightGBM] [Info] Start training from score 1.194462\n"
     ]
    },
    {
     "name": "stderr",
     "output_type": "stream",
     "text": [
      "C:\\Users\\PC\\Desktop\\ml_project\\venv\\lib\\site-packages\\sklearn\\utils\\validation.py:2739: UserWarning: X does not have valid feature names, but LGBMClassifier was fitted with feature names\n",
      "  warnings.warn(\n"
     ]
    },
    {
     "name": "stdout",
     "output_type": "stream",
     "text": [
      "[LightGBM] [Info] Number of positive: 6714, number of negative: 2034\n",
      "[LightGBM] [Info] Auto-choosing col-wise multi-threading, the overhead of testing was 0.001461 seconds.\n",
      "You can set `force_col_wise=true` to remove the overhead.\n",
      "[LightGBM] [Info] Total Bins 3825\n",
      "[LightGBM] [Info] Number of data points in the train set: 8748, number of used features: 15\n",
      "[LightGBM] [Info] [binary:BoostFromScore]: pavg=0.767490 -> initscore=1.194191\n",
      "[LightGBM] [Info] Start training from score 1.194191\n"
     ]
    },
    {
     "name": "stdout",
     "output_type": "stream",
     "text": [
      "Best Parameters: {'learning_rate': 0.1, 'n_estimators': 200, 'num_leaves': 100}\n",
      "Best Score: 0.8388206158621253\n"
     ]
    }
   ],
   "source": [
    "from sklearn.model_selection import GridSearchCV\n",
    "from lightgbm import LGBMClassifier\n",
    "\n",
    "# Define the model\n",
    "model = LGBMClassifier(objective='binary', random_state=42)\n",
    "\n",
    "# Define the hyperparameter grid\n",
    "param_grid = {\n",
    "    'num_leaves': [31, 50, 100],\n",
    "    'learning_rate': [0.01, 0.05, 0.1],\n",
    "    'n_estimators': [50, 100, 200]\n",
    "}\n",
    "\n",
    "# Perform GridSearchCV\n",
    "grid_search = GridSearchCV(model, param_grid, cv=5)\n",
    "grid_search.fit(X_train_scaled, y_train)\n",
    "\n",
    "# Print the best parameters\n",
    "print(\"Best Parameters:\", grid_search.best_params_)\n",
    "print(\"Best Score:\", grid_search.best_score_)\n"
   ]
  },
  {
   "cell_type": "markdown",
   "id": "0e6da01d-709b-4582-bf29-bc83a1b3d2c3",
   "metadata": {
    "papermill": {
     "duration": 0.058245,
     "end_time": "2025-02-25T18:47:32.847254",
     "exception": false,
     "start_time": "2025-02-25T18:47:32.789009",
     "status": "completed"
    },
    "tags": []
   },
   "source": [
    "##  Rebuild the model with Hyperparameters "
   ]
  },
  {
   "cell_type": "code",
   "execution_count": 12,
   "id": "8c6b6cb7-9f05-4577-8664-0e020057ecf1",
   "metadata": {
    "execution": {
     "iopub.execute_input": "2025-02-25T18:47:32.966370Z",
     "iopub.status.busy": "2025-02-25T18:47:32.964620Z",
     "iopub.status.idle": "2025-02-25T18:47:36.377658Z",
     "shell.execute_reply": "2025-02-25T18:47:36.375687Z"
    },
    "papermill": {
     "duration": 3.475966,
     "end_time": "2025-02-25T18:47:36.379658",
     "exception": false,
     "start_time": "2025-02-25T18:47:32.903692",
     "status": "completed"
    },
    "tags": []
   },
   "outputs": [
    {
     "name": "stdout",
     "output_type": "stream",
     "text": [
      "[LightGBM] [Info] Number of positive: 6714, number of negative: 2034\n",
      "[LightGBM] [Info] Auto-choosing col-wise multi-threading, the overhead of testing was 0.001033 seconds.\n",
      "You can set `force_col_wise=true` to remove the overhead.\n",
      "[LightGBM] [Info] Total Bins 3825\n",
      "[LightGBM] [Info] Number of data points in the train set: 8748, number of used features: 15\n",
      "[LightGBM] [Info] [binary:BoostFromScore]: pavg=0.767490 -> initscore=1.194191\n",
      "[LightGBM] [Info] Start training from score 1.194191\n"
     ]
    },
    {
     "name": "stdout",
     "output_type": "stream",
     "text": [
      "Accuracy on Test Data with Tuned Parameters: 0.8496343692870201\n"
     ]
    },
    {
     "name": "stderr",
     "output_type": "stream",
     "text": [
      "C:\\Users\\PC\\Desktop\\ml_project\\venv\\lib\\site-packages\\sklearn\\utils\\validation.py:2739: UserWarning: X does not have valid feature names, but LGBMClassifier was fitted with feature names\n",
      "  warnings.warn(\n"
     ]
    }
   ],
   "source": [
    "# Train the model with the best parameters\n",
    "LightGBM = LGBMClassifier(learning_rate=0.1, n_estimators=200, num_leaves=100, objective='binary', random_state=42)\n",
    "LightGBM.fit(X_train_scaled, y_train)\n",
    "\n",
    "# Make predictions\n",
    "y_pred = LightGBM.predict(X_test_scaled)\n",
    "\n",
    "# Evaluate performance\n",
    "accuracy = accuracy_score(y_test, y_pred)\n",
    "print(f\"Accuracy on Test Data with Tuned Parameters: {accuracy}\")\n"
   ]
  },
  {
   "cell_type": "code",
   "execution_count": 13,
   "id": "d86c3fd1-83d6-4d48-8c1c-949a8b0a615f",
   "metadata": {
    "execution": {
     "iopub.execute_input": "2025-02-25T18:47:36.496355Z",
     "iopub.status.busy": "2025-02-25T18:47:36.495203Z",
     "iopub.status.idle": "2025-02-25T18:47:37.122875Z",
     "shell.execute_reply": "2025-02-25T18:47:37.121878Z"
    },
    "papermill": {
     "duration": 0.688393,
     "end_time": "2025-02-25T18:47:37.126682",
     "exception": false,
     "start_time": "2025-02-25T18:47:36.438289",
     "status": "completed"
    },
    "tags": []
   },
   "outputs": [
    {
     "data": {
      "image/png": "[encoded data removed]",
      "text/plain": [
       "<Figure size 640x480 with 1 Axes>"
      ]
     },
     "metadata": {},
     "output_type": "display_data"
    }
   ],
   "source": [
    "import matplotlib.pyplot as plt\n",
    "\n",
    "# Plot feature importance\n",
    "feature_importances = LightGBM.feature_importances_\n",
    "features = X.columns\n",
    "\n",
    "# Sort and plot\n",
    "sorted_idx = feature_importances.argsort()\n",
    "plt.barh(features[sorted_idx], feature_importances[sorted_idx])\n",
    "plt.xlabel(\"Feature Importance\")\n",
    "plt.ylabel(\"Feature\")\n",
    "plt.title(\"Feature Importance (LightGBM)\")\n",
    "plt.show()\n"
   ]
  },
  {
   "cell_type": "code",
   "execution_count": 14,
   "id": "34a3b3f3-f094-4204-854f-92b705cd7e7e",
   "metadata": {
    "execution": {
     "iopub.execute_input": "2025-02-25T18:47:37.262889Z",
     "iopub.status.busy": "2025-02-25T18:47:37.261106Z",
     "iopub.status.idle": "2025-02-25T18:47:37.732116Z",
     "shell.execute_reply": "2025-02-25T18:47:37.731117Z"
    },
    "papermill": {
     "duration": 0.543138,
     "end_time": "2025-02-25T18:47:37.736223",
     "exception": false,
     "start_time": "2025-02-25T18:47:37.193085",
     "status": "completed"
    },
    "tags": []
   },
   "outputs": [
    {
     "data": {
      "image/png": "[encoded data removed]",
      "text/plain": [
       "<Figure size 600x400 with 2 Axes>"
      ]
     },
     "metadata": {},
     "output_type": "display_data"
    }
   ],
   "source": [
    "from sklearn.metrics import confusion_matrix\n",
    "import seaborn as sns\n",
    "import matplotlib.pyplot as plt\n",
    "\n",
    "# Generate confusion matrix\n",
    "cm = confusion_matrix(y_test, y_pred)\n",
    "\n",
    "# Plot confusion matrix as heatmap\n",
    "plt.figure(figsize=(6, 4))\n",
    "sns.heatmap(cm, annot=True, fmt='d', cmap='Blues', xticklabels=['Sell', 'Buy'], yticklabels=['Sell', 'Buy'])\n",
    "plt.title('Confusion Matrix LightGBoost')\n",
    "plt.xlabel('Predicted')\n",
    "plt.ylabel('Actual')\n",
    "plt.show()\n"
   ]
  },
  {
   "cell_type": "code",
   "execution_count": 15,
   "id": "1fdacbdf-10cf-4939-b3cd-8ae89d8d6070",
   "metadata": {
    "execution": {
     "iopub.execute_input": "2025-02-25T18:47:37.944374Z",
     "iopub.status.busy": "2025-02-25T18:47:37.943849Z",
     "iopub.status.idle": "2025-02-25T18:47:37.981176Z",
     "shell.execute_reply": "2025-02-25T18:47:37.978527Z"
    },
    "papermill": {
     "duration": 0.156249,
     "end_time": "2025-02-25T18:47:37.985202",
     "exception": false,
     "start_time": "2025-02-25T18:47:37.828953",
     "status": "completed"
    },
    "tags": []
   },
   "outputs": [
    {
     "name": "stdout",
     "output_type": "stream",
     "text": [
      "Confusion Matrix:\n",
      "                  Predicted Negative  Predicted Positive\n",
      "Actual Negative                 294                 228\n",
      "Actual Positive                 101                1565\n"
     ]
    }
   ],
   "source": [
    "# Compute the confusion matrix\n",
    "cm = confusion_matrix(y_test, y_pred)\n",
    "\n",
    "# Print the confusion matrix as a DataFrame for better readability\n",
    "cm_df = pd.DataFrame(cm, index=[\"Actual Negative\", \"Actual Positive\"], columns=[\"Predicted Negative\", \"Predicted Positive\"])\n",
    "print(\"Confusion Matrix:\\n\", cm_df)"
   ]
  },
  {
   "cell_type": "code",
   "execution_count": 16,
   "id": "5bb5ae4f-a81e-4f97-8571-fa968a0d0ba9",
   "metadata": {
    "execution": {
     "iopub.execute_input": "2025-02-25T18:47:38.243183Z",
     "iopub.status.busy": "2025-02-25T18:47:38.242677Z",
     "iopub.status.idle": "2025-02-25T18:47:38.288744Z",
     "shell.execute_reply": "2025-02-25T18:47:38.287738Z"
    },
    "papermill": {
     "duration": 0.183061,
     "end_time": "2025-02-25T18:47:38.292471",
     "exception": false,
     "start_time": "2025-02-25T18:47:38.109410",
     "status": "completed"
    },
    "tags": []
   },
   "outputs": [
    {
     "name": "stdout",
     "output_type": "stream",
     "text": [
      "\n",
      "Test Accuracy: 84.96%\n",
      "\n",
      "Classification Report:\n",
      "               precision    recall  f1-score   support\n",
      "\n",
      "           0       0.74      0.56      0.64       522\n",
      "           1       0.87      0.94      0.90      1666\n",
      "\n",
      "    accuracy                           0.85      2188\n",
      "   macro avg       0.81      0.75      0.77      2188\n",
      "weighted avg       0.84      0.85      0.84      2188\n",
      "\n"
     ]
    }
   ],
   "source": [
    "accuracy = accuracy_score(y_test, y_pred)\n",
    "print(\"\\nTest Accuracy: {:.2f}%\".format(accuracy * 100))\n",
    "\n",
    "print(\"\\nClassification Report:\\n\", classification_report(y_test, y_pred))\n"
   ]
  },
  {
   "cell_type": "code",
   "execution_count": 17,
   "id": "aa63ac2e-ba14-499e-9787-f3310e15283e",
   "metadata": {
    "execution": {
     "iopub.execute_input": "2025-02-25T18:47:38.503539Z",
     "iopub.status.busy": "2025-02-25T18:47:38.502028Z",
     "iopub.status.idle": "2025-02-25T18:47:38.606400Z",
     "shell.execute_reply": "2025-02-25T18:47:38.603649Z"
    },
    "papermill": {
     "duration": 0.241449,
     "end_time": "2025-02-25T18:47:38.609489",
     "exception": false,
     "start_time": "2025-02-25T18:47:38.368040",
     "status": "completed"
    },
    "tags": []
   },
   "outputs": [
    {
     "name": "stdout",
     "output_type": "stream",
     "text": [
      "Predictions saved successfully!\n"
     ]
    },
    {
     "name": "stderr",
     "output_type": "stream",
     "text": [
      "C:\\Users\\PC\\Desktop\\ml_project\\venv\\lib\\site-packages\\sklearn\\utils\\validation.py:2739: UserWarning: X does not have valid feature names, but LGBMClassifier was fitted with feature names\n",
      "  warnings.warn(\n"
     ]
    }
   ],
   "source": [
    "# Assuming the test set represents the latest data points\n",
    "start_index = len(data) - len(y_test)  # Find where the test set starts\n",
    "date_range = pd.date_range(start='2024-01-01', periods=len(y_test), freq='D')  # Generate artificial dates\n",
    "\n",
    "# Create predictions DataFrame\n",
    "predictions_df = pd.DataFrame({\n",
    "    'date': date_range,  # Using a fake date range (adjust as needed)\n",
    "    'actual_price': y_test.values,  # If y_test is classification, replace with actual close price\n",
    "    'predicted_price': y_pred,\n",
    "    'decision': ['BUY' if pred == 1 else 'SELL' for pred in y_pred],\n",
    "    'confidence': LightGBM.predict_proba(X_test_scaled)[:, 1]  # Probability of \"BUY\"\n",
    "})\n",
    "\n",
    "\n",
    "# Save to CSV\n",
    "predictions_df.to_csv(\"C:/Users/PC/Desktop/ml_project/Algorithm_Trading_ML/data/final_predictions.csv\", index=False)\n",
    "\n",
    "print(\"Predictions saved successfully!\")\n"
   ]
  },
  {
   "cell_type": "code",
   "execution_count": 18,
   "id": "7c5ce3c0-cebe-4b9b-b561-c8d5df017cff",
   "metadata": {
    "execution": {
     "iopub.execute_input": "2025-02-25T18:47:38.803808Z",
     "iopub.status.busy": "2025-02-25T18:47:38.802299Z",
     "iopub.status.idle": "2025-02-25T18:47:38.837463Z",
     "shell.execute_reply": "2025-02-25T18:47:38.836425Z"
    },
    "papermill": {
     "duration": 0.128579,
     "end_time": "2025-02-25T18:47:38.840459",
     "exception": false,
     "start_time": "2025-02-25T18:47:38.711880",
     "status": "completed"
    },
    "tags": []
   },
   "outputs": [
    {
     "data": {
      "text/html": [
       "<div>\n",
       "<style scoped>\n",
       "    .dataframe tbody tr th:only-of-type {\n",
       "        vertical-align: middle;\n",
       "    }\n",
       "\n",
       "    .dataframe tbody tr th {\n",
       "        vertical-align: top;\n",
       "    }\n",
       "\n",
       "    .dataframe thead th {\n",
       "        text-align: right;\n",
       "    }\n",
       "</style>\n",
       "<table border=\"1\" class=\"dataframe\">\n",
       "  <thead>\n",
       "    <tr style=\"text-align: right;\">\n",
       "      <th></th>\n",
       "      <th>date</th>\n",
       "      <th>actual_price</th>\n",
       "      <th>predicted_price</th>\n",
       "      <th>decision</th>\n",
       "      <th>confidence</th>\n",
       "    </tr>\n",
       "  </thead>\n",
       "  <tbody>\n",
       "    <tr>\n",
       "      <th>0</th>\n",
       "      <td>2024-01-01</td>\n",
       "      <td>1</td>\n",
       "      <td>1</td>\n",
       "      <td>BUY</td>\n",
       "      <td>0.999941</td>\n",
       "    </tr>\n",
       "    <tr>\n",
       "      <th>1</th>\n",
       "      <td>2024-01-02</td>\n",
       "      <td>1</td>\n",
       "      <td>1</td>\n",
       "      <td>BUY</td>\n",
       "      <td>0.873055</td>\n",
       "    </tr>\n",
       "    <tr>\n",
       "      <th>2</th>\n",
       "      <td>2024-01-03</td>\n",
       "      <td>0</td>\n",
       "      <td>1</td>\n",
       "      <td>BUY</td>\n",
       "      <td>0.912511</td>\n",
       "    </tr>\n",
       "    <tr>\n",
       "      <th>3</th>\n",
       "      <td>2024-01-04</td>\n",
       "      <td>1</td>\n",
       "      <td>1</td>\n",
       "      <td>BUY</td>\n",
       "      <td>0.999962</td>\n",
       "    </tr>\n",
       "    <tr>\n",
       "      <th>4</th>\n",
       "      <td>2024-01-05</td>\n",
       "      <td>0</td>\n",
       "      <td>1</td>\n",
       "      <td>BUY</td>\n",
       "      <td>0.945906</td>\n",
       "    </tr>\n",
       "    <tr>\n",
       "      <th>...</th>\n",
       "      <td>...</td>\n",
       "      <td>...</td>\n",
       "      <td>...</td>\n",
       "      <td>...</td>\n",
       "      <td>...</td>\n",
       "    </tr>\n",
       "    <tr>\n",
       "      <th>2183</th>\n",
       "      <td>2029-12-23</td>\n",
       "      <td>1</td>\n",
       "      <td>0</td>\n",
       "      <td>SELL</td>\n",
       "      <td>0.211570</td>\n",
       "    </tr>\n",
       "    <tr>\n",
       "      <th>2184</th>\n",
       "      <td>2029-12-24</td>\n",
       "      <td>0</td>\n",
       "      <td>0</td>\n",
       "      <td>SELL</td>\n",
       "      <td>0.007840</td>\n",
       "    </tr>\n",
       "    <tr>\n",
       "      <th>2185</th>\n",
       "      <td>2029-12-25</td>\n",
       "      <td>1</td>\n",
       "      <td>1</td>\n",
       "      <td>BUY</td>\n",
       "      <td>0.997334</td>\n",
       "    </tr>\n",
       "    <tr>\n",
       "      <th>2186</th>\n",
       "      <td>2029-12-26</td>\n",
       "      <td>1</td>\n",
       "      <td>1</td>\n",
       "      <td>BUY</td>\n",
       "      <td>0.980576</td>\n",
       "    </tr>\n",
       "    <tr>\n",
       "      <th>2187</th>\n",
       "      <td>2029-12-27</td>\n",
       "      <td>0</td>\n",
       "      <td>1</td>\n",
       "      <td>BUY</td>\n",
       "      <td>0.681081</td>\n",
       "    </tr>\n",
       "  </tbody>\n",
       "</table>\n",
       "<p>2188 rows × 5 columns</p>\n",
       "</div>"
      ],
      "text/plain": [
       "           date  actual_price  predicted_price decision  confidence\n",
       "0    2024-01-01             1                1      BUY    0.999941\n",
       "1    2024-01-02             1                1      BUY    0.873055\n",
       "2    2024-01-03             0                1      BUY    0.912511\n",
       "3    2024-01-04             1                1      BUY    0.999962\n",
       "4    2024-01-05             0                1      BUY    0.945906\n",
       "...         ...           ...              ...      ...         ...\n",
       "2183 2029-12-23             1                0     SELL    0.211570\n",
       "2184 2029-12-24             0                0     SELL    0.007840\n",
       "2185 2029-12-25             1                1      BUY    0.997334\n",
       "2186 2029-12-26             1                1      BUY    0.980576\n",
       "2187 2029-12-27             0                1      BUY    0.681081\n",
       "\n",
       "[2188 rows x 5 columns]"
      ]
     },
     "execution_count": 18,
     "metadata": {},
     "output_type": "execute_result"
    }
   ],
   "source": [
    "predictions_df"
   ]
  },
  {
   "cell_type": "code",
   "execution_count": 19,
   "id": "f0482c22-601f-4e0b-8dfb-ccff2795af3b",
   "metadata": {
    "execution": {
     "iopub.execute_input": "2025-02-25T18:47:38.982776Z",
     "iopub.status.busy": "2025-02-25T18:47:38.981779Z",
     "iopub.status.idle": "2025-02-25T18:47:39.399516Z",
     "shell.execute_reply": "2025-02-25T18:47:39.398520Z"
    },
    "papermill": {
     "duration": 0.495495,
     "end_time": "2025-02-25T18:47:39.402954",
     "exception": false,
     "start_time": "2025-02-25T18:47:38.907459",
     "status": "completed"
    },
    "tags": []
   },
   "outputs": [
    {
     "data": {
      "image/png": "[encoded data removed]",
      "text/plain": [
       "<Figure size 600x400 with 2 Axes>"
      ]
     },
     "metadata": {},
     "output_type": "display_data"
    }
   ],
   "source": [
    "# Plot the confusion matrix\n",
    "plt.figure(figsize=(6,4))\n",
    "sns.heatmap(cm, annot=True, fmt=\"d\", cmap=\"Blues\", xticklabels=[\"Negative\", \"Positive\"], yticklabels=[\"Negative\", \"Positive\"])\n",
    "plt.xlabel(\"Predicted\")\n",
    "plt.ylabel(\"Actual\")\n",
    "plt.title(\"Confusion Matrix\")\n",
    "plt.show()\n"
   ]
  },
  {
   "cell_type": "markdown",
   "id": "d3d71fc3-f4de-467c-b3ec-d49a76fd7d10",
   "metadata": {
    "papermill": {
     "duration": 0.069068,
     "end_time": "2025-02-25T18:47:39.538724",
     "exception": false,
     "start_time": "2025-02-25T18:47:39.469656",
     "status": "completed"
    },
    "tags": []
   },
   "source": [
    "# 2. XGBoost Model\n"
   ]
  },
  {
   "cell_type": "code",
   "execution_count": 20,
   "id": "7ed31948-a2f1-4815-8ae3-6cf990c0d514",
   "metadata": {
    "execution": {
     "iopub.execute_input": "2025-02-25T18:47:39.689305Z",
     "iopub.status.busy": "2025-02-25T18:47:39.688256Z",
     "iopub.status.idle": "2025-02-25T18:47:39.771973Z",
     "shell.execute_reply": "2025-02-25T18:47:39.770970Z"
    },
    "papermill": {
     "duration": 0.165516,
     "end_time": "2025-02-25T18:47:39.775209",
     "exception": false,
     "start_time": "2025-02-25T18:47:39.609693",
     "status": "completed"
    },
    "tags": []
   },
   "outputs": [],
   "source": [
    "import xgboost as xgb\n",
    "import numpy as np\n",
    "import optuna\n",
    "from sklearn.model_selection import train_test_split\n",
    "from sklearn.preprocessing import StandardScaler\n",
    "from sklearn.metrics import accuracy_score, classification_report\n"
   ]
  },
  {
   "cell_type": "code",
   "execution_count": 21,
   "id": "bc8e5c4f-9e6b-4d1e-b2cf-0dbf4a6c3564",
   "metadata": {
    "execution": {
     "iopub.execute_input": "2025-02-25T18:47:39.918989Z",
     "iopub.status.busy": "2025-02-25T18:47:39.918989Z",
     "iopub.status.idle": "2025-02-25T18:47:39.943829Z",
     "shell.execute_reply": "2025-02-25T18:47:39.941312Z"
    },
    "papermill": {
     "duration": 0.099041,
     "end_time": "2025-02-25T18:47:39.947012",
     "exception": false,
     "start_time": "2025-02-25T18:47:39.847971",
     "status": "completed"
    },
    "tags": []
   },
   "outputs": [],
   "source": [
    "# Step 1: Define the list of features and target variable\n",
    "features = [\n",
    "    'RSI_14', 'RSI_30', 'RSI_200', 'MOM_10', 'MOM_30',\n",
    "    'MACD_12_26_9', 'MACDh_12_26_9', 'MACDs_12_26_9',\n",
    "    'PROC_9', 'EMA_10', 'EMA_30', 'Pct_Change', 'Log_Returns',\n",
    "    'Volatility_10', 'Volatility_30'\n",
    "]\n",
    "X = data[features]\n",
    "y = data['Signal'].replace({2: 1})  # Map '2' to '1' for binary classification\n"
   ]
  },
  {
   "cell_type": "code",
   "execution_count": 22,
   "id": "188d9b31-291a-451c-9af3-85278140e93a",
   "metadata": {
    "execution": {
     "iopub.execute_input": "2025-02-25T18:47:40.074820Z",
     "iopub.status.busy": "2025-02-25T18:47:40.074820Z",
     "iopub.status.idle": "2025-02-25T18:47:40.109042Z",
     "shell.execute_reply": "2025-02-25T18:47:40.106924Z"
    },
    "papermill": {
     "duration": 0.101909,
     "end_time": "2025-02-25T18:47:40.111567",
     "exception": false,
     "start_time": "2025-02-25T18:47:40.009658",
     "status": "completed"
    },
    "tags": []
   },
   "outputs": [],
   "source": [
    "# Step 2: Split the data into train and test sets\n",
    "X_train, X_test, y_train, y_test = train_test_split(\n",
    "    X, y, test_size=0.2, random_state=42, stratify=y\n",
    ")\n"
   ]
  },
  {
   "cell_type": "code",
   "execution_count": 23,
   "id": "3d4e2105-7e06-44ae-ae88-a80ca3a61b47",
   "metadata": {
    "execution": {
     "iopub.execute_input": "2025-02-25T18:47:40.266479Z",
     "iopub.status.busy": "2025-02-25T18:47:40.265342Z",
     "iopub.status.idle": "2025-02-25T18:47:40.300028Z",
     "shell.execute_reply": "2025-02-25T18:47:40.298796Z"
    },
    "papermill": {
     "duration": 0.131217,
     "end_time": "2025-02-25T18:47:40.303587",
     "exception": false,
     "start_time": "2025-02-25T18:47:40.172370",
     "status": "completed"
    },
    "tags": []
   },
   "outputs": [],
   "source": [
    "# Step 3: Scale the features\n",
    "scaler = StandardScaler()\n",
    "X_train_scaled = scaler.fit_transform(X_train)\n",
    "X_test_scaled = scaler.transform(X_test)\n"
   ]
  },
  {
   "cell_type": "code",
   "execution_count": 24,
   "id": "5c1440e3-2a2b-486d-8b1e-5977e6ad948a",
   "metadata": {
    "execution": {
     "iopub.execute_input": "2025-02-25T18:47:40.441246Z",
     "iopub.status.busy": "2025-02-25T18:47:40.440146Z",
     "iopub.status.idle": "2025-02-25T18:47:40.466715Z",
     "shell.execute_reply": "2025-02-25T18:47:40.465708Z"
    },
    "papermill": {
     "duration": 0.096311,
     "end_time": "2025-02-25T18:47:40.470320",
     "exception": false,
     "start_time": "2025-02-25T18:47:40.374009",
     "status": "completed"
    },
    "tags": []
   },
   "outputs": [],
   "source": [
    "# Step 4: Define the Optuna optimization function\n",
    "def objective(trial):\n",
    "    params = {\n",
    "        'booster': trial.suggest_categorical('booster', ['gbtree', 'dart']),\n",
    "        'objective': 'binary:logistic',\n",
    "        'eval_metric': 'logloss',\n",
    "        'eta': trial.suggest_float('eta', 0.01, 0.3, log=True),\n",
    "        'max_depth': trial.suggest_int('max_depth', 3, 10),\n",
    "        'min_child_weight': trial.suggest_float('min_child_weight', 1, 10, log=True),\n",
    "        'subsample': trial.suggest_float('subsample', 0.5, 1.0),\n",
    "        'colsample_bytree': trial.suggest_float('colsample_bytree', 0.5, 1.0),\n",
    "        'lambda': trial.suggest_float('lambda', 1e-3, 10.0, log=True),\n",
    "        'alpha': trial.suggest_float('alpha', 1e-3, 10.0, log=True),\n",
    "    }\n",
    "    \n",
    "    # Perform cross-validation using xgb.cv\n",
    "    dtrain = xgb.DMatrix(X_train_scaled, label=y_train)\n",
    "    cv_results = xgb.cv(\n",
    "        params=params,\n",
    "        dtrain=dtrain,\n",
    "        num_boost_round=100,\n",
    "        nfold=5,\n",
    "        stratified=True,\n",
    "        shuffle=True,\n",
    "        early_stopping_rounds=10,\n",
    "        seed=42,\n",
    "        verbose_eval=False\n",
    "    )\n",
    "    \n",
    "    # Return the mean of the test logloss\n",
    "    return cv_results['test-logloss-mean'].min()\n"
   ]
  },
  {
   "cell_type": "code",
   "execution_count": 25,
   "id": "2d13f3bb-ab70-46dc-9e8a-ea407ecb0cd4",
   "metadata": {
    "execution": {
     "iopub.execute_input": "2025-02-25T18:47:40.600959Z",
     "iopub.status.busy": "2025-02-25T18:47:40.600453Z"
    },
    "papermill": {
     "duration": null,
     "end_time": null,
     "exception": false,
     "start_time": "2025-02-25T18:47:40.534598",
     "status": "running"
    },
    "tags": []
   },
   "outputs": [
    {
     "name": "stderr",
     "output_type": "stream",
     "text": [
      "[I 2025-02-25 19:47:40,604] A new study created in memory with name: XGBoost Hyperparameter Tuning\n"
     ]
    },
    {
     "name": "stderr",
     "output_type": "stream",
     "text": [
      "[I 2025-02-25 19:47:43,429] Trial 0 finished with value: 0.46127780877429314 and parameters: {'booster': 'gbtree', 'eta': 0.013130191450879895, 'max_depth': 4, 'min_child_weight': 1.871813995991841, 'subsample': 0.8787166679248606, 'colsample_bytree': 0.6986194066877006, 'lambda': 0.048688911050164284, 'alpha': 5.859075177665991}. Best is trial 0 with value: 0.46127780877429314.\n"
     ]
    },
    {
     "name": "stderr",
     "output_type": "stream",
     "text": [
      "[I 2025-02-25 19:48:23,307] Trial 1 finished with value: 0.4241049553602152 and parameters: {'booster': 'dart', 'eta': 0.03861054264706316, 'max_depth': 7, 'min_child_weight': 1.5178608645026712, 'subsample': 0.6987943766879915, 'colsample_bytree': 0.8206614858867791, 'lambda': 1.1980208496747013, 'alpha': 2.4638900331786955}. Best is trial 1 with value: 0.4241049553602152.\n"
     ]
    },
    {
     "name": "stderr",
     "output_type": "stream",
     "text": [
      "[I 2025-02-25 19:49:07,022] Trial 2 finished with value: 0.43313430106674816 and parameters: {'booster': 'dart', 'eta': 0.016137067842331803, 'max_depth': 7, 'min_child_weight': 1.1746918810371527, 'subsample': 0.763979018714346, 'colsample_bytree': 0.8163509321923759, 'lambda': 0.06644443359806278, 'alpha': 0.008687636677540828}. Best is trial 1 with value: 0.4241049553602152.\n"
     ]
    },
    {
     "name": "stderr",
     "output_type": "stream",
     "text": [
      "[I 2025-02-25 19:49:39,254] Trial 3 finished with value: 0.4245746761762227 and parameters: {'booster': 'dart', 'eta': 0.06807657409282018, 'max_depth': 6, 'min_child_weight': 5.252962600462067, 'subsample': 0.6861016664371695, 'colsample_bytree': 0.5524520146617522, 'lambda': 0.009288261637915123, 'alpha': 1.40149577764761}. Best is trial 1 with value: 0.4241049553602152.\n"
     ]
    },
    {
     "name": "stderr",
     "output_type": "stream",
     "text": [
      "[I 2025-02-25 19:50:12,192] Trial 4 finished with value: 0.41994174840378207 and parameters: {'booster': 'dart', 'eta': 0.13154591221076314, 'max_depth': 7, 'min_child_weight': 8.774957977078685, 'subsample': 0.8052327607774605, 'colsample_bytree': 0.5725081066050075, 'lambda': 2.613001810389842, 'alpha': 0.002877245102430072}. Best is trial 4 with value: 0.41994174840378207.\n"
     ]
    },
    {
     "name": "stderr",
     "output_type": "stream",
     "text": [
      "[I 2025-02-25 19:50:15,943] Trial 5 finished with value: 0.41846219059286655 and parameters: {'booster': 'gbtree', 'eta': 0.02896520743827094, 'max_depth': 8, 'min_child_weight': 2.02216493429682, 'subsample': 0.8508402840070279, 'colsample_bytree': 0.6433040047157779, 'lambda': 1.6258216871125224, 'alpha': 0.020392557620285415}. Best is trial 5 with value: 0.41846219059286655.\n"
     ]
    },
    {
     "name": "stderr",
     "output_type": "stream",
     "text": [
      "[I 2025-02-25 19:50:42,947] Trial 6 finished with value: 0.43815907219856537 and parameters: {'booster': 'dart', 'eta': 0.09574923517262092, 'max_depth': 3, 'min_child_weight': 3.301671834738672, 'subsample': 0.9259426266134647, 'colsample_bytree': 0.8397158098441588, 'lambda': 0.019195645518043505, 'alpha': 0.0027926709847947455}. Best is trial 5 with value: 0.41846219059286655.\n"
     ]
    },
    {
     "name": "stderr",
     "output_type": "stream",
     "text": [
      "[I 2025-02-25 19:50:45,778] Trial 7 finished with value: 0.45274485441429074 and parameters: {'booster': 'gbtree', 'eta': 0.012420343896321554, 'max_depth': 6, 'min_child_weight': 1.9348321297145377, 'subsample': 0.99236890942934, 'colsample_bytree': 0.6112148045816447, 'lambda': 1.1772369862810022, 'alpha': 0.006336386861621226}. Best is trial 5 with value: 0.41846219059286655.\n"
     ]
    },
    {
     "name": "stderr",
     "output_type": "stream",
     "text": [
      "[I 2025-02-25 19:51:19,314] Trial 8 finished with value: 0.4143152351222367 and parameters: {'booster': 'dart', 'eta': 0.14505191058600508, 'max_depth': 7, 'min_child_weight': 7.639834816412808, 'subsample': 0.8042984906722912, 'colsample_bytree': 0.994182519399766, 'lambda': 0.01818427102979154, 'alpha': 0.7563622697449317}. Best is trial 8 with value: 0.4143152351222367.\n"
     ]
    },
    {
     "name": "stderr",
     "output_type": "stream",
     "text": [
      "[I 2025-02-25 19:51:54,121] Trial 9 finished with value: 0.4378488988503452 and parameters: {'booster': 'dart', 'eta': 0.013225066725710584, 'max_depth': 8, 'min_child_weight': 1.3548847962930783, 'subsample': 0.8210776241597928, 'colsample_bytree': 0.6655490148052607, 'lambda': 0.01027954412755945, 'alpha': 0.16026798667974}. Best is trial 8 with value: 0.4143152351222367.\n"
     ]
    },
    {
     "name": "stderr",
     "output_type": "stream",
     "text": [
      "[I 2025-02-25 19:51:55,607] Trial 10 finished with value: 0.4398992523329811 and parameters: {'booster': 'gbtree', 'eta': 0.2647186752228428, 'max_depth': 10, 'min_child_weight': 9.67292258475857, 'subsample': 0.5275109361539436, 'colsample_bytree': 0.9883840110814941, 'lambda': 0.0020091212707379538, 'alpha': 0.28503898952430756}. Best is trial 8 with value: 0.4143152351222367.\n"
     ]
    },
    {
     "name": "stderr",
     "output_type": "stream",
     "text": [
      "[I 2025-02-25 19:51:59,883] Trial 11 finished with value: 0.4256635420993802 and parameters: {'booster': 'gbtree', 'eta': 0.03393148835176599, 'max_depth': 9, 'min_child_weight': 2.990756334148995, 'subsample': 0.6297066946036363, 'colsample_bytree': 0.9328005514352489, 'lambda': 9.763691041191581, 'alpha': 0.04785674178106046}. Best is trial 8 with value: 0.4143152351222367.\n"
     ]
    },
    {
     "name": "stderr",
     "output_type": "stream",
     "text": [
      "[I 2025-02-25 19:52:02,132] Trial 12 finished with value: 0.4228728743837463 and parameters: {'booster': 'gbtree', 'eta': 0.20547028136603626, 'max_depth': 5, 'min_child_weight': 4.993077906315227, 'subsample': 0.880060178506214, 'colsample_bytree': 0.504961822559838, 'lambda': 0.26648403785543034, 'alpha': 0.03557500733352778}. Best is trial 8 with value: 0.4143152351222367.\n"
     ]
    },
    {
     "name": "stderr",
     "output_type": "stream",
     "text": [
      "[I 2025-02-25 19:52:06,710] Trial 13 finished with value: 0.4148675517704069 and parameters: {'booster': 'gbtree', 'eta': 0.026548754935124524, 'max_depth': 9, 'min_child_weight': 2.888930083104217, 'subsample': 0.835015500973587, 'colsample_bytree': 0.7320871124054771, 'lambda': 0.29322218637568326, 'alpha': 0.5814778625058536}. Best is trial 8 with value: 0.4143152351222367.\n"
     ]
    },
    {
     "name": "stderr",
     "output_type": "stream",
     "text": [
      "[I 2025-02-25 19:52:42,323] Trial 14 finished with value: 0.4098773823167979 and parameters: {'booster': 'dart', 'eta': 0.06224321769252668, 'max_depth': 10, 'min_child_weight': 6.050536549599058, 'subsample': 0.7612026010485675, 'colsample_bytree': 0.7594676715003428, 'lambda': 0.21169330432972597, 'alpha': 0.48742757548708276}. Best is trial 14 with value: 0.4098773823167979.\n"
     ]
    },
    {
     "name": "stderr",
     "output_type": "stream",
     "text": [
      "[I 2025-02-25 19:53:31,281] Trial 15 finished with value: 0.4091979872196433 and parameters: {'booster': 'dart', 'eta': 0.13282026511390865, 'max_depth': 10, 'min_child_weight': 6.478800084968612, 'subsample': 0.7263887561815949, 'colsample_bytree': 0.9494944711282078, 'lambda': 0.0015360524434240934, 'alpha': 0.6823020492921708}. Best is trial 15 with value: 0.4091979872196433.\n"
     ]
    },
    {
     "name": "stderr",
     "output_type": "stream",
     "text": [
      "[I 2025-02-25 19:54:16,715] Trial 16 finished with value: 0.42431374910980074 and parameters: {'booster': 'dart', 'eta': 0.06020703495119475, 'max_depth': 10, 'min_child_weight': 6.101393362651351, 'subsample': 0.597562312839858, 'colsample_bytree': 0.8927760852755449, 'lambda': 0.0017333388396360153, 'alpha': 4.778054151218315}. Best is trial 15 with value: 0.4091979872196433.\n"
     ]
    },
    {
     "name": "stderr",
     "output_type": "stream",
     "text": [
      "[I 2025-02-25 19:55:15,706] Trial 17 finished with value: 0.4011869766136787 and parameters: {'booster': 'dart', 'eta': 0.0956487228992213, 'max_depth': 10, 'min_child_weight': 4.175163959799991, 'subsample': 0.7344423691861822, 'colsample_bytree': 0.7701635493977851, 'lambda': 0.1957131988293901, 'alpha': 0.17595121929605434}. Best is trial 17 with value: 0.4011869766136787.\n"
     ]
    },
    {
     "name": "stderr",
     "output_type": "stream",
     "text": [
      "[I 2025-02-25 19:56:01,274] Trial 18 finished with value: 0.40572402354426196 and parameters: {'booster': 'dart', 'eta': 0.11187350316133224, 'max_depth': 9, 'min_child_weight': 4.067234906374993, 'subsample': 0.7083404392326291, 'colsample_bytree': 0.8977583923770184, 'lambda': 0.0041637414010242705, 'alpha': 0.10178134693609076}. Best is trial 17 with value: 0.4011869766136787.\n"
     ]
    },
    {
     "name": "stderr",
     "output_type": "stream",
     "text": [
      "[I 2025-02-25 19:56:37,070] Trial 19 finished with value: 0.40583463156894223 and parameters: {'booster': 'dart', 'eta': 0.08969030948419364, 'max_depth': 9, 'min_child_weight': 3.941409990279377, 'subsample': 0.6513836655601438, 'colsample_bytree': 0.8776316933179006, 'lambda': 0.004082729119849917, 'alpha': 0.14305948304569396}. Best is trial 17 with value: 0.4011869766136787.\n"
     ]
    },
    {
     "name": "stderr",
     "output_type": "stream",
     "text": [
      "[I 2025-02-25 19:56:52,720] Trial 20 finished with value: 0.4184782181098437 and parameters: {'booster': 'dart', 'eta': 0.17225387529789477, 'max_depth': 8, 'min_child_weight': 4.015349986780273, 'subsample': 0.5664511652510577, 'colsample_bytree': 0.7792010494027733, 'lambda': 0.15648149844783676, 'alpha': 0.05985081806612704}. Best is trial 17 with value: 0.4011869766136787.\n"
     ]
    },
    {
     "name": "stderr",
     "output_type": "stream",
     "text": [
      "[I 2025-02-25 19:57:26,745] Trial 21 finished with value: 0.4029708885935851 and parameters: {'booster': 'dart', 'eta': 0.09917463134985802, 'max_depth': 9, 'min_child_weight': 3.922460212441424, 'subsample': 0.6507828971498818, 'colsample_bytree': 0.8814229335690775, 'lambda': 0.005409658063920989, 'alpha': 0.15270382472732946}. Best is trial 17 with value: 0.4011869766136787.\n"
     ]
    },
    {
     "name": "stderr",
     "output_type": "stream",
     "text": [
      "[I 2025-02-25 19:59:05,849] Trial 22 finished with value: 0.4055663247227752 and parameters: {'booster': 'dart', 'eta': 0.09945290392587045, 'max_depth': 9, 'min_child_weight': 4.201056421448852, 'subsample': 0.6998898128086471, 'colsample_bytree': 0.8919595368608721, 'lambda': 0.004649022540755738, 'alpha': 0.13668220562170694}. Best is trial 17 with value: 0.4011869766136787.\n"
     ]
    },
    {
     "name": "stderr",
     "output_type": "stream",
     "text": [
      "[I 2025-02-25 20:01:19,590] Trial 23 finished with value: 0.4089054993677693 and parameters: {'booster': 'dart', 'eta': 0.08780411144388611, 'max_depth': 9, 'min_child_weight': 4.697351005502645, 'subsample': 0.676810261842207, 'colsample_bytree': 0.8638754217048032, 'lambda': 0.03166112026512403, 'alpha': 0.2594876499112975}. Best is trial 17 with value: 0.4011869766136787.\n"
     ]
    },
    {
     "name": "stderr",
     "output_type": "stream",
     "text": [
      "[I 2025-02-25 20:04:12,105] Trial 24 finished with value: 0.4124244521227717 and parameters: {'booster': 'dart', 'eta': 0.04663527875309079, 'max_depth': 8, 'min_child_weight': 2.5366718452730503, 'subsample': 0.6082392480280514, 'colsample_bytree': 0.9275548880976476, 'lambda': 0.5632006330581837, 'alpha': 0.01971985049443846}. Best is trial 17 with value: 0.4011869766136787.\n"
     ]
    },
    {
     "name": "stderr",
     "output_type": "stream",
     "text": [
      "[I 2025-02-25 20:08:59,317] Trial 25 finished with value: 0.3942553567988318 and parameters: {'booster': 'dart', 'eta': 0.08031820979400946, 'max_depth': 10, 'min_child_weight': 2.5326108316047464, 'subsample': 0.7606249088595807, 'colsample_bytree': 0.7835600567389827, 'lambda': 0.005173954372879791, 'alpha': 0.07478366731193475}. Best is trial 25 with value: 0.3942553567988318.\n"
     ]
    },
    {
     "name": "stderr",
     "output_type": "stream",
     "text": [
      "[I 2025-02-25 20:10:50,329] Trial 26 finished with value: 0.39466892431961653 and parameters: {'booster': 'dart', 'eta': 0.07999786730324321, 'max_depth': 10, 'min_child_weight': 2.4956854889417883, 'subsample': 0.7652220068089604, 'colsample_bytree': 0.7923369183001412, 'lambda': 0.07218984371832085, 'alpha': 0.06149639543314354}. Best is trial 25 with value: 0.3942553567988318.\n"
     ]
    },
    {
     "name": "stderr",
     "output_type": "stream",
     "text": [
      "[I 2025-02-25 20:11:19,439] Trial 27 finished with value: 0.396021219588839 and parameters: {'booster': 'dart', 'eta': 0.04786142695196583, 'max_depth': 10, 'min_child_weight': 2.4307828107940157, 'subsample': 0.7713673574131289, 'colsample_bytree': 0.784060862800444, 'lambda': 0.09879471874022881, 'alpha': 0.022426763270848842}. Best is trial 25 with value: 0.3942553567988318.\n"
     ]
    },
    {
     "name": "stderr",
     "output_type": "stream",
     "text": [
      "[I 2025-02-25 20:11:48,309] Trial 28 finished with value: 0.3969093488464198 and parameters: {'booster': 'dart', 'eta': 0.04429771522000745, 'max_depth': 10, 'min_child_weight': 2.3631480271117296, 'subsample': 0.7750187934088892, 'colsample_bytree': 0.7084236535034962, 'lambda': 0.07149827677862487, 'alpha': 0.018129343214795573}. Best is trial 25 with value: 0.3942553567988318.\n"
     ]
    },
    {
     "name": "stderr",
     "output_type": "stream",
     "text": [
      "[I 2025-02-25 20:12:12,711] Trial 29 finished with value: 0.4447818244186741 and parameters: {'booster': 'dart', 'eta': 0.02182709930239009, 'max_depth': 4, 'min_child_weight': 2.1112371147848514, 'subsample': 0.8893133541832053, 'colsample_bytree': 0.7998462030322385, 'lambda': 0.03311516652613178, 'alpha': 0.009908259027085814}. Best is trial 25 with value: 0.3942553567988318.\n"
     ]
    },
    {
     "name": "stderr",
     "output_type": "stream",
     "text": [
      "[I 2025-02-25 20:12:40,642] Trial 30 finished with value: 0.3835311473008097 and parameters: {'booster': 'dart', 'eta': 0.07396369513140245, 'max_depth': 10, 'min_child_weight': 1.4706036917779894, 'subsample': 0.9212233359924485, 'colsample_bytree': 0.717331946898849, 'lambda': 0.0877143897177152, 'alpha': 0.03810988693255423}. Best is trial 30 with value: 0.3835311473008097.\n"
     ]
    }
   ],
   "source": [
    "# Step 5: Run Optuna optimization\n",
    "study = optuna.create_study(direction='minimize', study_name=\"XGBoost Hyperparameter Tuning\")\n",
    "study.optimize(objective, n_trials=50) \n",
    "\n",
    "# Step 6: Display the best hyperparameters\n",
    "print(\"Best Hyperparameters:\", study.best_params)\n"
   ]
  },
  {
   "cell_type": "code",
   "execution_count": null,
   "id": "dc0de9c0-4498-4299-b5a1-d73f57514111",
   "metadata": {
    "papermill": {
     "duration": null,
     "end_time": null,
     "exception": null,
     "start_time": null,
     "status": "pending"
    },
    "tags": []
   },
   "outputs": [],
   "source": [
    "# Step 7: Train the final model with the best hyperparameters\n",
    "best_params = study.best_params\n",
    "best_params.update({\n",
    "    'objective': 'binary:logistic',\n",
    "    'eval_metric': 'logloss',\n",
    "    'use_label_encoder': False  # Avoid deprecation warning\n",
    "})\n",
    "XGBoost = xgb.XGBClassifier(**best_params, random_state=42)\n",
    "XGBoost.fit(X_train_scaled, y_train)\n"
   ]
  },
  {
   "cell_type": "code",
   "execution_count": null,
   "id": "62788e4e-28e2-496f-a26e-cee6f1646bc4",
   "metadata": {
    "papermill": {
     "duration": null,
     "end_time": null,
     "exception": null,
     "start_time": null,
     "status": "pending"
    },
    "tags": []
   },
   "outputs": [],
   "source": [
    "# Step 8: Evaluate the model on the test set\n",
    "y_pred = XGBoost.predict(X_test_scaled)\n",
    "accuracy = accuracy_score(y_test, y_pred)\n",
    "print(\"\\nTest Accuracy:\", accuracy)\n",
    "print(\"\\nClassification Report:\\n\", classification_report(y_test, y_pred))\n"
   ]
  },
  {
   "cell_type": "code",
   "execution_count": null,
   "id": "e5ffe897-a4fe-4fe3-ac0e-261a62ab61a7",
   "metadata": {
    "papermill": {
     "duration": null,
     "end_time": null,
     "exception": null,
     "start_time": null,
     "status": "pending"
    },
    "tags": []
   },
   "outputs": [],
   "source": [
    "# Generate confusion matrix\n",
    "cm = confusion_matrix(y_test, y_pred)\n",
    "\n",
    "# Plot confusion matrix as heatmap\n",
    "plt.figure(figsize=(6, 4))\n",
    "sns.heatmap(cm, annot=True, fmt='d', cmap='Blues', xticklabels=['Sell', 'Buy'], yticklabels=['Sell', 'Buy'])\n",
    "plt.title('Confusion Matrix  XgBooost')\n",
    "plt.xlabel('Predicted')\n",
    "plt.ylabel('Actual')\n",
    "plt.show()\n"
   ]
  },
  {
   "cell_type": "markdown",
   "id": "efb8e894-ba62-4a2c-a4e1-faed99ba99d8",
   "metadata": {
    "papermill": {
     "duration": null,
     "end_time": null,
     "exception": null,
     "start_time": null,
     "status": "pending"
    },
    "tags": []
   },
   "source": [
    "## Random Forest Classifier"
   ]
  },
  {
   "cell_type": "code",
   "execution_count": null,
   "id": "e0887532-e27f-46b2-a94c-c2aee21f8a07",
   "metadata": {
    "papermill": {
     "duration": null,
     "end_time": null,
     "exception": null,
     "start_time": null,
     "status": "pending"
    },
    "tags": []
   },
   "outputs": [],
   "source": [
    "import optuna\n",
    "from sklearn.ensemble import RandomForestClassifier\n",
    "from sklearn.model_selection import cross_val_score\n",
    "from sklearn.metrics import log_loss\n",
    "\n",
    "\n",
    "def objectiveRD(trial):\n",
    "    params = {\n",
    "        'n_estimators': trial.suggest_int('n_estimators', 50, 200),\n",
    "        'max_depth': trial.suggest_int('max_depth', 3, 20),\n",
    "        'min_samples_split': trial.suggest_int('min_samples_split', 2, 20),\n",
    "        'min_samples_leaf': trial.suggest_int('min_samples_leaf', 1, 20),\n",
    "        'max_features': trial.suggest_categorical('max_features', ['sqrt', 'log2', None]),\n",
    "        'bootstrap': trial.suggest_categorical('bootstrap', [True, False])\n",
    "    }\n",
    "    \n",
    "    model = RandomForestClassifier(**params, random_state=42)\n",
    "    \n",
    "    # Evaluation \n",
    "    scores = cross_val_score(model, X_train_scaled, y_train, cv=5, scoring='neg_log_loss', n_jobs=-1)\n",
    "    \n",
    "    return -np.mean(scores)  # Minimiser la log loss\n",
    "\n",
    "\n",
    "study = optuna.create_study(direction=\"minimize\")\n",
    "study.optimize(objectiveRD, n_trials=50)"
   ]
  },
  {
   "cell_type": "code",
   "execution_count": null,
   "id": "23ff85ba-6647-4257-8f30-731dabbd1ece",
   "metadata": {
    "papermill": {
     "duration": null,
     "end_time": null,
     "exception": null,
     "start_time": null,
     "status": "pending"
    },
    "scrolled": true,
    "tags": []
   },
   "outputs": [],
   "source": [
    "from sklearn.ensemble import RandomForestClassifier  \n",
    "\n",
    "best_params = study.best_params\n",
    "\n",
    "best_params.update({\n",
    "    'random_state': 42\n",
    "})\n",
    "\n",
    "# Créer et entraîner le modèle final avec les meilleurs hyperparamètres\n",
    "rf_model = RandomForestClassifier(**best_params)  \n",
    "rf_model.fit(X_train_scaled, y_train)\n"
   ]
  },
  {
   "cell_type": "code",
   "execution_count": null,
   "id": "7e6c75ab-906d-4790-ab82-7fb741e006d2",
   "metadata": {
    "papermill": {
     "duration": null,
     "end_time": null,
     "exception": null,
     "start_time": null,
     "status": "pending"
    },
    "tags": []
   },
   "outputs": [],
   "source": [
    "y_pred = rf_model.predict(X_test_scaled)\n",
    "accuracy = accuracy_score(y_test, y_pred)\n",
    "print(\"\\nTest Accuracy:\", accuracy)\n",
    "print(\"\\nClassification Report:\\n\", classification_report(y_test, y_pred))"
   ]
  },
  {
   "cell_type": "code",
   "execution_count": null,
   "id": "cd04f9da-cf91-4140-9da3-262b2d18da58",
   "metadata": {
    "papermill": {
     "duration": null,
     "end_time": null,
     "exception": null,
     "start_time": null,
     "status": "pending"
    },
    "tags": []
   },
   "outputs": [],
   "source": [
    "cm = confusion_matrix(y_test, y_pred)\n",
    "\n",
    "# Plot confusion matrix as heatmap\n",
    "plt.figure(figsize=(6, 4))\n",
    "sns.heatmap(cm, annot=True, fmt='d', cmap='Blues', xticklabels=['Sell', 'Buy'], yticklabels=['Sell', 'Buy'])\n",
    "plt.title('Confusion Matrix  Random Forest')\n",
    "plt.xlabel('Predicted')\n",
    "plt.ylabel('Actual')\n",
    "plt.show()"
   ]
  },
  {
   "cell_type": "markdown",
   "id": "8e0e8655-1392-4170-90df-fb8e733a64b0",
   "metadata": {
    "papermill": {
     "duration": null,
     "end_time": null,
     "exception": null,
     "start_time": null,
     "status": "pending"
    },
    "tags": []
   },
   "source": [
    "## Save Final Model (The best Model)"
   ]
  },
  {
   "cell_type": "code",
   "execution_count": null,
   "id": "a088b52f-a09b-41d0-bf07-2c54187a6513",
   "metadata": {
    "papermill": {
     "duration": null,
     "end_time": null,
     "exception": null,
     "start_time": null,
     "status": "pending"
    },
    "tags": []
   },
   "outputs": [],
   "source": [
    "'''\n",
    "It plots the True Positive Rate (TPR) against the False Positive Rate (FPR) \n",
    "at different thresholds showing how well a model can distinguish between two \n",
    "classes such as positive and negative outcomes.\n",
    "\n",
    "'''\n"
   ]
  },
  {
   "cell_type": "code",
   "execution_count": null,
   "id": "adea987a-23be-44d5-9ff2-80c522546f16",
   "metadata": {
    "papermill": {
     "duration": null,
     "end_time": null,
     "exception": null,
     "start_time": null,
     "status": "pending"
    },
    "tags": []
   },
   "outputs": [],
   "source": [
    "import matplotlib.pyplot as plt\n",
    "from sklearn.metrics import roc_curve, auc\n",
    "\n",
    "# Your trained models\n",
    "models = [rf_model, LightGBM, XGBoost]  # Update model names accordingly\n",
    "model_names = ['Random Forest', 'LightGBM', 'XGBoost']\n",
    "\n",
    "# Placeholder for actual predicted probabilities\n",
    "model_probabilities = [\n",
    "    rf_model.predict_proba(X_test_scaled),  # Random Forest\n",
    "    LightGBM.predict_proba(X_test_scaled),  # LightGBM\n",
    "    XGBoost.predict_proba(X_test_scaled)    # XGBoost\n",
    "]\n",
    "\n",
    "# Prepare a figure for plotting\n",
    "plt.figure(figsize=(10, 8))\n",
    "\n",
    "for i, model in enumerate(models):\n",
    "    # Get the predicted probabilities for the positive class (class 1)\n",
    "    y_prob = model_probabilities[i][:, 1]  # Assuming it's a binary classification model\n",
    "    \n",
    "    # Compute the ROC curve\n",
    "    fpr, tpr, thresholds = roc_curve(y_test, y_prob)\n",
    "    \n",
    "    # Compute the AUC\n",
    "    roc_auc = auc(fpr, tpr)\n",
    "    \n",
    "    # Plot the ROC curve\n",
    "    plt.plot(fpr, tpr, label=f'{model_names[i]} (AUC = {roc_auc:.2f})')\n",
    "\n",
    "# Plot the diagonal line representing random guessing\n",
    "plt.plot([0, 1], [0, 1], 'k--', label='Random Classifier (AUC = 0.5)')\n",
    "\n",
    "# Labels and Title\n",
    "plt.title('Receiver Operating Characteristic (ROC) Curve')\n",
    "plt.xlabel('False Positive Rate (FPR)')\n",
    "plt.ylabel('True Positive Rate (TPR)')\n",
    "plt.legend(loc='lower right')\n",
    "\n",
    "# Show the plot\n",
    "plt.grid(True)\n",
    "plt.show()\n"
   ]
  },
  {
   "cell_type": "code",
   "execution_count": null,
   "id": "f8b750a1-f3c7-407a-ab84-c71acd40e4e5",
   "metadata": {
    "papermill": {
     "duration": null,
     "end_time": null,
     "exception": null,
     "start_time": null,
     "status": "pending"
    },
    "tags": []
   },
   "outputs": [],
   "source": [
    "# Save the model for future use\n",
    "joblib.dump(rf_model, \"random_forest_model.pkl\")\n",
    "print(\"Model saved successfully.\")\n",
    "  \n"
   ]
  },
  {
   "cell_type": "code",
   "execution_count": null,
   "id": "11a59cff-9aad-4442-b375-0e6b652b9de8",
   "metadata": {
    "papermill": {
     "duration": null,
     "end_time": null,
     "exception": null,
     "start_time": null,
     "status": "pending"
    },
    "tags": []
   },
   "outputs": [],
   "source": [
    "import joblib\n",
    "\n",
    "# Save the trained model\n",
    "joblib.dump(LightGBM, \"lightgbm_aapl_model.pkl\")\n",
    "\n",
    "# Load it later for predictions\n",
    "loaded_model = joblib.load(\"lightgbm_aapl_model.pkl\")\n"
   ]
  }
 ],
 "metadata": {
  "kernelspec": {
   "display_name": "Python (venv)",
   "language": "python",
   "name": "venv"
  },
  "language_info": {
   "codemirror_mode": {
    "name": "ipython",
    "version": 3
   },
   "file_extension": ".py",
   "mimetype": "text/x-python",
   "name": "python",
   "nbconvert_exporter": "python",
   "pygments_lexer": "ipython3",
   "version": "3.10.5"
  },
  "papermill": {
   "default_parameters": {},
   "duration": null,
   "end_time": null,
   "environment_variables": {},
   "exception": null,
   "input_path": "C:/Users/PC/Desktop/ml_project/Algorithm_Trading_ML/Models.ipynb",
   "output_path": "C:/Users/PC/Desktop/ml_project/Algorithm_Trading_ML/output_Models.ipynb",
   "parameters": {},
   "start_time": "2025-02-25T18:44:01.427707",
   "version": "2.6.0"
  },
  "widgets": {
   "application/vnd.jupyter.widget-state+json": {
    "state": {},
    "version_major": 2,
    "version_minor": 0
   }
  }
 },
 "nbformat": 4,
 "nbformat_minor": 5
}