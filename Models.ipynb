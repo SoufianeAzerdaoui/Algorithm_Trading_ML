{
 "cells": [
  {
   "cell_type": "code",
   "execution_count": 5,
   "id": "7defd947-4413-45eb-9840-684326309e28",
   "metadata": {},
   "outputs": [],
   "source": [
    "import pandas as pd\n",
    "import numpy as np\n",
    "from sklearn.model_selection import train_test_split, cross_val_score\n",
    "from sklearn.metrics import confusion_matrix, classification_report, accuracy_score\n",
    "from sklearn.ensemble import RandomForestClassifier\n",
    "import optuna\n",
    "import matplotlib.pyplot as plt\n",
    "import seaborn as sns"
   ]
  },
  {
   "cell_type": "code",
   "execution_count": 6,
   "id": "d226ede7-86b6-4551-9d67-27d29d4cc70a",
   "metadata": {},
   "outputs": [
    {
     "name": "stdout",
     "output_type": "stream",
     "text": [
      "C:\\Users\\PC\\Desktop\\ml_project\\venv\\Scripts\\python.exe\n"
     ]
    }
   ],
   "source": [
    "import sys\n",
    "print(sys.executable)\n"
   ]
  },
  {
   "cell_type": "code",
   "execution_count": 7,
   "id": "a64079bc-df81-42a9-9fe9-bc3bdf817f87",
   "metadata": {},
   "outputs": [
    {
     "data": {
      "text/plain": [
       "Index(['Date', 'Close', 'High', 'Low', 'Open', 'Volume', 'RSI_14', 'RSI_30',\n",
       "       'RSI_200', 'MOM_10', 'MOM_30', 'MACD_12_26_9', 'MACDh_12_26_9',\n",
       "       'MACDs_12_26_9', 'PROC_9', 'EMA_10', 'EMA_30', 'Pct_Change',\n",
       "       'Log_Returns', 'Volatility_10', 'Volatility_30', 'Future_Close',\n",
       "       'Price_Change', 'Signal'],\n",
       "      dtype='object')"
      ]
     },
     "execution_count": 7,
     "metadata": {},
     "output_type": "execute_result"
    }
   ],
   "source": [
    "data= pd.read_csv('final_data.csv')\n",
    "data.columns"
   ]
  },
  {
   "cell_type": "markdown",
   "id": "84877f02-3635-4060-80a2-ab8965d80aab",
   "metadata": {},
   "source": [
    "## Split Data into Training and Testing Sets"
   ]
  },
  {
   "cell_type": "code",
   "execution_count": 8,
   "id": "b64eab87-e62c-4c06-9c16-aea0377ea26c",
   "metadata": {},
   "outputs": [],
   "source": [
    "# Define the list of features\n",
    "features = ['RSI_14', 'RSI_30', 'RSI_200', 'MOM_10', 'MOM_30', \n",
    "            'MACD_12_26_9', 'MACDh_12_26_9', 'MACDs_12_26_9', \n",
    "            'PROC_9', 'EMA_10', 'EMA_30', 'Pct_Change', 'Log_Returns', \n",
    "            'Volatility_10', 'Volatility_30']\n",
    "\n",
    "# Define the features (X)\n",
    "X = data[features]\n",
    "\n",
    "# Define the target variable (y)\n",
    "y = data['Signal']\n"
   ]
  },
  {
   "cell_type": "code",
   "execution_count": 9,
   "id": "764f3556-b6d4-4e8d-a0d2-023b6c64e3e1",
   "metadata": {},
   "outputs": [],
   "source": [
    "y = y.replace({2: 1})  # Replace '2' with '1'"
   ]
  },
  {
   "cell_type": "code",
   "execution_count": 10,
   "id": "287f183f-77ef-4528-8e26-163ee96df9f1",
   "metadata": {},
   "outputs": [],
   "source": [
    "from sklearn.model_selection import train_test_split\n",
    "\n",
    "# Split data into 80% training and 20% testing\n",
    "X_train, X_test, y_train, y_test = train_test_split(X, y, test_size=0.2, random_state=42, shuffle=False)"
   ]
  },
  {
   "cell_type": "markdown",
   "id": "ff5b9bde-2867-4d84-b924-c86b3475da87",
   "metadata": {},
   "source": [
    "##  Feature Scaling\n"
   ]
  },
  {
   "cell_type": "code",
   "execution_count": 11,
   "id": "43a7a935-ab07-4d2e-b26e-400dc2bb1fa5",
   "metadata": {},
   "outputs": [],
   "source": [
    "from sklearn.preprocessing import StandardScaler\n",
    "\n",
    "# Initialize scaler\n",
    "scaler = StandardScaler()\n",
    "\n",
    "# Fit and transform training data\n",
    "X_train_scaled = scaler.fit_transform(X_train)\n",
    "\n",
    "# Transform testing data\n",
    "X_test_scaled = scaler.transform(X_test)"
   ]
  },
  {
   "cell_type": "code",
   "execution_count": 12,
   "id": "0b773c76-a0d7-454b-9371-eeddd6c9fe4f",
   "metadata": {},
   "outputs": [
    {
     "name": "stdout",
     "output_type": "stream",
     "text": [
      "X_train_scaled shape: (8748, 15)\n",
      "y_train shape: (8748,)\n"
     ]
    }
   ],
   "source": [
    "print(\"X_train_scaled shape:\", X_train_scaled.shape)\n",
    "print(\"y_train shape:\", y_train.shape)"
   ]
  },
  {
   "cell_type": "markdown",
   "id": "4cc69a4b-af05-4bec-9b28-48ced7ac273b",
   "metadata": {},
   "source": [
    "## LightGboost"
   ]
  },
  {
   "cell_type": "code",
   "execution_count": 13,
   "id": "c6df8cce-3a48-424a-961c-8242e2f6a538",
   "metadata": {},
   "outputs": [
    {
     "name": "stdout",
     "output_type": "stream",
     "text": [
      "True\n"
     ]
    }
   ],
   "source": [
    "from lightgbm import LGBMClassifier\n",
    "from sklearn.base import is_classifier\n",
    "import lightgbm as lgb\n",
    "import numpy as np\n",
    "from sklearn.model_selection import train_test_split\n",
    "from sklearn.preprocessing import StandardScaler\n",
    "\n",
    "\n",
    "# Initialize LightGBM model\n",
    "model = LGBMClassifier(n_estimators=100, learning_rate=0.1, random_state=42)\n",
    "\n",
    "print(is_classifier(model)) "
   ]
  },
  {
   "cell_type": "code",
   "execution_count": 14,
   "id": "f3098907-9170-479a-90fd-ac3d7a4f620f",
   "metadata": {},
   "outputs": [
    {
     "name": "stdout",
     "output_type": "stream",
     "text": [
      "[LightGBM] [Info] Number of positive: 5371, number of negative: 1627\n",
      "[LightGBM] [Info] Auto-choosing col-wise multi-threading, the overhead of testing was 0.000721 seconds.\n",
      "You can set `force_col_wise=true` to remove the overhead.\n",
      "[LightGBM] [Info] Total Bins 3825\n",
      "[LightGBM] [Info] Number of data points in the train set: 6998, number of used features: 15\n",
      "[LightGBM] [Info] Number of positive: 5371, number of negative: 1627\n",
      "[LightGBM] [Info] Auto-choosing col-wise multi-threading, the overhead of testing was 0.000988 seconds.\n",
      "You can set `force_col_wise=true` to remove the overhead.\n",
      "[LightGBM] [Info] Total Bins 3825\n",
      "[LightGBM] [Info] Number of data points in the train set: 6998, number of used features: 15\n",
      "[LightGBM] [Info] Number of positive: 5371, number of negative: 1627\n",
      "[LightGBM] [Info] Auto-choosing col-wise multi-threading, the overhead of testing was 0.000871 seconds.\n",
      "You can set `force_col_wise=true` to remove the overhead.\n",
      "[LightGBM] [Info] Total Bins 3825\n",
      "[LightGBM] [Info] Number of data points in the train set: 6998, number of used features: 15\n",
      "[LightGBM] [Info] Number of positive: 5371, number of negative: 1628\n",
      "[LightGBM] [Info] Auto-choosing col-wise multi-threading, the overhead of testing was 0.000868 seconds.\n",
      "You can set `force_col_wise=true` to remove the overhead.\n",
      "[LightGBM] [Info] Total Bins 3825\n",
      "[LightGBM] [Info] Number of data points in the train set: 6999, number of used features: 15\n",
      "[LightGBM] [Info] Number of positive: 5372, number of negative: 1627\n",
      "[LightGBM] [Info] Auto-choosing col-wise multi-threading, the overhead of testing was 0.001027 seconds.\n",
      "You can set `force_col_wise=true` to remove the overhead.\n",
      "[LightGBM] [Info] Total Bins 3825\n",
      "[LightGBM] [Info] Number of data points in the train set: 6999, number of used features: 15\n",
      "[LightGBM] [Info] [binary:BoostFromScore]: pavg=0.767505 -> initscore=1.194276\n",
      "[LightGBM] [Info] Start training from score 1.194276\n",
      "[LightGBM] [Info] [binary:BoostFromScore]: pavg=0.767505 -> initscore=1.194276\n",
      "[LightGBM] [Info] Start training from score 1.194276\n",
      "[LightGBM] [Info] [binary:BoostFromScore]: pavg=0.767505 -> initscore=1.194276\n",
      "[LightGBM] [Info] Start training from score 1.194276\n",
      "[LightGBM] [Info] [binary:BoostFromScore]: pavg=0.767395 -> initscore=1.193662\n",
      "[LightGBM] [Info] Start training from score 1.193662\n",
      "[LightGBM] [Info] [binary:BoostFromScore]: pavg=0.767538 -> initscore=1.194462\n",
      "[LightGBM] [Info] Start training from score 1.194462\n",
      "Cross-Validation Binary Logloss: 0.4194926092951019\n",
      "[LightGBM] [Info] Number of positive: 6714, number of negative: 2034\n",
      "[LightGBM] [Info] Auto-choosing col-wise multi-threading, the overhead of testing was 0.000575 seconds.\n",
      "You can set `force_col_wise=true` to remove the overhead.\n",
      "[LightGBM] [Info] Total Bins 3825\n",
      "[LightGBM] [Info] Number of data points in the train set: 8748, number of used features: 15\n",
      "[LightGBM] [Info] [binary:BoostFromScore]: pavg=0.767490 -> initscore=1.194191\n",
      "[LightGBM] [Info] Start training from score 1.194191\n",
      "Accuracy on Test Data: 0.8043875685557587\n"
     ]
    },
    {
     "name": "stderr",
     "output_type": "stream",
     "text": [
      "C:\\Users\\PC\\Desktop\\ml_project\\venv\\lib\\site-packages\\joblib\\externals\\loky\\backend\\context.py:136: UserWarning: Could not find the number of physical cores for the following reason:\n",
      "found 0 physical cores < 1\n",
      "Returning the number of logical cores instead. You can silence this warning by setting LOKY_MAX_CPU_COUNT to the number of cores you want to use.\n",
      "  warnings.warn(\n",
      "  File \"C:\\Users\\PC\\Desktop\\ml_project\\venv\\lib\\site-packages\\joblib\\externals\\loky\\backend\\context.py\", line 282, in _count_physical_cores\n",
      "    raise ValueError(f\"found {cpu_count_physical} physical cores < 1\")\n",
      "C:\\Users\\PC\\Desktop\\ml_project\\venv\\lib\\site-packages\\sklearn\\utils\\validation.py:2739: UserWarning: X does not have valid feature names, but LGBMClassifier was fitted with feature names\n",
      "  warnings.warn(\n"
     ]
    }
   ],
   "source": [
    "# Step 1: Prepare the data\n",
    "X_train, X_test, y_train, y_test = train_test_split(X, y, test_size=0.2, random_state=42)\n",
    "\n",
    "# Step 2: Scale the features\n",
    "scaler = StandardScaler()\n",
    "X_train_scaled = scaler.fit_transform(X_train)\n",
    "X_test_scaled = scaler.transform(X_test)\n",
    "\n",
    "# Step 3: Perform cross-validation\n",
    "cv_results = lgb.cv(\n",
    "    params={\n",
    "        'objective': 'binary',\n",
    "        'metric': 'binary_logloss'  # Use binary_logloss \n",
    "    },\n",
    "    train_set=lgb.Dataset(X_train_scaled, label=y_train),\n",
    "    num_boost_round=100,\n",
    "    nfold=5,\n",
    "    stratified=True,\n",
    "    shuffle=True\n",
    ")\n",
    "\n",
    "# Step 4: Get binary log loss\n",
    "if 'valid binary_logloss-mean' in cv_results:\n",
    "    binary_logloss_mean = np.mean(cv_results['valid binary_logloss-mean'])\n",
    "    print(\"Cross-Validation Binary Logloss:\", binary_logloss_mean)\n",
    "else:\n",
    "    print(\"'valid binary_logloss-mean' not found in cv_results.\")\n",
    "\n",
    "# If you want to calculate accuracy manually, train the model separately\n",
    "final_model = lgb.LGBMClassifier(objective='binary', random_state=42)\n",
    "final_model.fit(X_train_scaled, y_train)\n",
    "\n",
    "# Make predictions\n",
    "y_pred = final_model.predict(X_test_scaled)\n",
    "\n",
    "# Calculate accuracy\n",
    "from sklearn.metrics import accuracy_score\n",
    "accuracy = accuracy_score(y_test, y_pred)\n",
    "print(\"Accuracy on Test Data:\", accuracy)\n"
   ]
  },
  {
   "cell_type": "markdown",
   "id": "929df5cf-a75c-4725-9e4b-5c52a0432a15",
   "metadata": {},
   "source": [
    "## Hyperparameter"
   ]
  },
  {
   "cell_type": "code",
   "execution_count": 15,
   "id": "0d045aa1-54b9-463b-868a-5215f52a0c9b",
   "metadata": {},
   "outputs": [
    {
     "name": "stdout",
     "output_type": "stream",
     "text": [
      "[LightGBM] [Info] Number of positive: 5371, number of negative: 1627\n",
      "[LightGBM] [Info] Auto-choosing col-wise multi-threading, the overhead of testing was 0.000527 seconds.\n",
      "You can set `force_col_wise=true` to remove the overhead.\n",
      "[LightGBM] [Info] Total Bins 3825\n",
      "[LightGBM] [Info] Number of data points in the train set: 6998, number of used features: 15\n",
      "[LightGBM] [Info] [binary:BoostFromScore]: pavg=0.767505 -> initscore=1.194276\n",
      "[LightGBM] [Info] Start training from score 1.194276\n",
      "[LightGBM] [Info] Number of positive: 5371, number of negative: 1627\n",
      "[LightGBM] [Info] Auto-choosing col-wise multi-threading, the overhead of testing was 0.000808 seconds.\n",
      "You can set `force_col_wise=true` to remove the overhead.\n",
      "[LightGBM] [Info] Total Bins 3825\n",
      "[LightGBM] [Info] Number of data points in the train set: 6998, number of used features: 15\n",
      "[LightGBM] [Info] [binary:BoostFromScore]: pavg=0.767505 -> initscore=1.194276\n",
      "[LightGBM] [Info] Start training from score 1.194276\n",
      "[LightGBM] [Info] Number of positive: 5371, number of negative: 1627"
     ]
    },
    {
     "name": "stderr",
     "output_type": "stream",
     "text": [
      "C:\\Users\\PC\\Desktop\\ml_project\\venv\\lib\\site-packages\\sklearn\\utils\\validation.py:2739: UserWarning: X does not have valid feature names, but LGBMClassifier was fitted with feature names\n",
      "  warnings.warn(\n",
      "C:\\Users\\PC\\Desktop\\ml_project\\venv\\lib\\site-packages\\sklearn\\utils\\validation.py:2739: UserWarning: X does not have valid feature names, but LGBMClassifier was fitted with feature names\n",
      "  warnings.warn(\n"
     ]
    },
    {
     "name": "stdout",
     "output_type": "stream",
     "text": [
      "\n",
      "[LightGBM] [Info] Auto-choosing col-wise multi-threading, the overhead of testing was 0.001097 seconds.\n",
      "You can set `force_col_wise=true` to remove the overhead.\n",
      "[LightGBM] [Info] Total Bins 3825\n",
      "[LightGBM] [Info] Number of data points in the train set: 6998, number of used features: 15\n",
      "[LightGBM] [Info] [binary:BoostFromScore]: pavg=0.767505 -> initscore=1.194276\n",
      "[LightGBM] [Info] Start training from score 1.194276\n",
      "[LightGBM] [Info] Number of positive: 5371, number of negative: 1628\n",
      "[LightGBM] [Info] Auto-choosing col-wise multi-threading, the overhead of testing was 0.000669 seconds.\n",
      "You can set `force_col_wise=true` to remove the overhead.\n",
      "[LightGBM] [Info] Total Bins 3825\n",
      "[LightGBM] [Info] Number of data points in the train set: 6999, number of used features: 15\n",
      "[LightGBM] [Info] [binary:BoostFromScore]: pavg=0.767395 -> initscore=1.193662\n",
      "[LightGBM] [Info] Start training from score 1.193662\n"
     ]
    },
    {
     "name": "stderr",
     "output_type": "stream",
     "text": [
      "C:\\Users\\PC\\Desktop\\ml_project\\venv\\lib\\site-packages\\sklearn\\utils\\validation.py:2739: UserWarning: X does not have valid feature names, but LGBMClassifier was fitted with feature names\n",
      "  warnings.warn(\n",
      "C:\\Users\\PC\\Desktop\\ml_project\\venv\\lib\\site-packages\\sklearn\\utils\\validation.py:2739: UserWarning: X does not have valid feature names, but LGBMClassifier was fitted with feature names\n",
      "  warnings.warn(\n"
     ]
    },
    {
     "name": "stdout",
     "output_type": "stream",
     "text": [
      "[LightGBM] [Info] Number of positive: 5372, number of negative: 1627\n",
      "[LightGBM] [Info] Auto-choosing col-wise multi-threading, the overhead of testing was 0.000814 seconds.\n",
      "You can set `force_col_wise=true` to remove the overhead.\n",
      "[LightGBM] [Info] Total Bins 3825\n",
      "[LightGBM] [Info] Number of data points in the train set: 6999, number of used features: 15\n",
      "[LightGBM] [Info] [binary:BoostFromScore]: pavg=0.767538 -> initscore=1.194462\n",
      "[LightGBM] [Info] Start training from score 1.194462\n",
      "[LightGBM] [Info] Number of positive: 5371, number of negative: 1627\n",
      "[LightGBM] [Info] Auto-choosing col-wise multi-threading, the overhead of testing was 0.000751 seconds.\n",
      "You can set `force_col_wise=true` to remove the overhead.\n",
      "[LightGBM] [Info] Total Bins 3825\n",
      "[LightGBM] [Info] Number of data points in the train set: 6998, number of used features: 15\n",
      "[LightGBM] [Info] [binary:BoostFromScore]: pavg=0.767505 -> initscore=1.194276\n",
      "[LightGBM] [Info] Start training from score 1.194276\n"
     ]
    },
    {
     "name": "stderr",
     "output_type": "stream",
     "text": [
      "C:\\Users\\PC\\Desktop\\ml_project\\venv\\lib\\site-packages\\sklearn\\utils\\validation.py:2739: UserWarning: X does not have valid feature names, but LGBMClassifier was fitted with feature names\n",
      "  warnings.warn(\n",
      "C:\\Users\\PC\\Desktop\\ml_project\\venv\\lib\\site-packages\\sklearn\\utils\\validation.py:2739: UserWarning: X does not have valid feature names, but LGBMClassifier was fitted with feature names\n",
      "  warnings.warn(\n"
     ]
    },
    {
     "name": "stdout",
     "output_type": "stream",
     "text": [
      "[LightGBM] [Info] Number of positive: 5371, number of negative: 1627\n",
      "[LightGBM] [Info] Auto-choosing col-wise multi-threading, the overhead of testing was 0.000873 seconds.\n",
      "You can set `force_col_wise=true` to remove the overhead.\n",
      "[LightGBM] [Info] Total Bins 3825\n",
      "[LightGBM] [Info] Number of data points in the train set: 6998, number of used features: 15\n",
      "[LightGBM] [Info] [binary:BoostFromScore]: pavg=0.767505 -> initscore=1.194276\n",
      "[LightGBM] [Info] Start training from score 1.194276\n",
      "[LightGBM] [Info] Number of positive: 5371, number of negative: 1627\n",
      "[LightGBM] [Info] Auto-choosing col-wise multi-threading, the overhead of testing was 0.000973 seconds.\n",
      "You can set `force_col_wise=true` to remove the overhead.\n",
      "[LightGBM] [Info] Total Bins 3825\n",
      "[LightGBM] [Info] Number of data points in the train set: 6998, number of used features: 15\n",
      "[LightGBM] [Info] [binary:BoostFromScore]: pavg=0.767505 -> initscore=1.194276\n",
      "[LightGBM] [Info] Start training from score 1.194276\n"
     ]
    },
    {
     "name": "stderr",
     "output_type": "stream",
     "text": [
      "C:\\Users\\PC\\Desktop\\ml_project\\venv\\lib\\site-packages\\sklearn\\utils\\validation.py:2739: UserWarning: X does not have valid feature names, but LGBMClassifier was fitted with feature names\n",
      "  warnings.warn(\n",
      "C:\\Users\\PC\\Desktop\\ml_project\\venv\\lib\\site-packages\\sklearn\\utils\\validation.py:2739: UserWarning: X does not have valid feature names, but LGBMClassifier was fitted with feature names\n",
      "  warnings.warn(\n"
     ]
    },
    {
     "name": "stdout",
     "output_type": "stream",
     "text": [
      "[LightGBM] [Info] Number of positive: 5371, number of negative: 1628\n",
      "[LightGBM] [Info] Auto-choosing col-wise multi-threading, the overhead of testing was 0.001008 seconds.\n",
      "You can set `force_col_wise=true` to remove the overhead.\n",
      "[LightGBM] [Info] Total Bins 3825\n",
      "[LightGBM] [Info] Number of data points in the train set: 6999, number of used features: 15\n",
      "[LightGBM] [Info] [binary:BoostFromScore]: pavg=0.767395 -> initscore=1.193662\n",
      "[LightGBM] [Info] Start training from score 1.193662\n",
      "[LightGBM] [Info] Number of positive: 5372, number of negative: 1627\n",
      "[LightGBM] [Info] Auto-choosing col-wise multi-threading, the overhead of testing was 0.001003 seconds.\n",
      "You can set `force_col_wise=true` to remove the overhead.\n",
      "[LightGBM] [Info] Total Bins 3825\n",
      "[LightGBM] [Info] Number of data points in the train set: 6999, number of used features: 15\n",
      "[LightGBM] [Info] [binary:BoostFromScore]: pavg=0.767538 -> initscore=1.194462\n",
      "[LightGBM] [Info] Start training from score 1.194462\n"
     ]
    },
    {
     "name": "stderr",
     "output_type": "stream",
     "text": [
      "C:\\Users\\PC\\Desktop\\ml_project\\venv\\lib\\site-packages\\sklearn\\utils\\validation.py:2739: UserWarning: X does not have valid feature names, but LGBMClassifier was fitted with feature names\n",
      "  warnings.warn(\n",
      "C:\\Users\\PC\\Desktop\\ml_project\\venv\\lib\\site-packages\\sklearn\\utils\\validation.py:2739: UserWarning: X does not have valid feature names, but LGBMClassifier was fitted with feature names\n",
      "  warnings.warn(\n"
     ]
    },
    {
     "name": "stdout",
     "output_type": "stream",
     "text": [
      "[LightGBM] [Info] Number of positive: 5371, number of negative: 1627\n",
      "[LightGBM] [Info] Auto-choosing col-wise multi-threading, the overhead of testing was 0.001053 seconds.\n",
      "You can set `force_col_wise=true` to remove the overhead.\n",
      "[LightGBM] [Info] Total Bins 3825\n",
      "[LightGBM] [Info] Number of data points in the train set: 6998, number of used features: 15\n",
      "[LightGBM] [Info] [binary:BoostFromScore]: pavg=0.767505 -> initscore=1.194276\n",
      "[LightGBM] [Info] Start training from score 1.194276\n"
     ]
    },
    {
     "name": "stderr",
     "output_type": "stream",
     "text": [
      "C:\\Users\\PC\\Desktop\\ml_project\\venv\\lib\\site-packages\\sklearn\\utils\\validation.py:2739: UserWarning: X does not have valid feature names, but LGBMClassifier was fitted with feature names\n",
      "  warnings.warn(\n"
     ]
    },
    {
     "name": "stdout",
     "output_type": "stream",
     "text": [
      "[LightGBM] [Info] Number of positive: 5371, number of negative: 1627\n",
      "[LightGBM] [Info] Auto-choosing col-wise multi-threading, the overhead of testing was 0.000968 seconds.\n",
      "You can set `force_col_wise=true` to remove the overhead.\n",
      "[LightGBM] [Info] Total Bins 3825\n",
      "[LightGBM] [Info] Number of data points in the train set: 6998, number of used features: 15\n",
      "[LightGBM] [Info] [binary:BoostFromScore]: pavg=0.767505 -> initscore=1.194276\n",
      "[LightGBM] [Info] Start training from score 1.194276\n"
     ]
    },
    {
     "name": "stderr",
     "output_type": "stream",
     "text": [
      "C:\\Users\\PC\\Desktop\\ml_project\\venv\\lib\\site-packages\\sklearn\\utils\\validation.py:2739: UserWarning: X does not have valid feature names, but LGBMClassifier was fitted with feature names\n",
      "  warnings.warn(\n",
      "C:\\Users\\PC\\Desktop\\ml_project\\venv\\lib\\site-packages\\sklearn\\utils\\validation.py:2739: UserWarning: X does not have valid feature names, but LGBMClassifier was fitted with feature names\n",
      "  warnings.warn(\n"
     ]
    },
    {
     "name": "stdout",
     "output_type": "stream",
     "text": [
      "[LightGBM] [Info] Number of positive: 5371, number of negative: 1627\n",
      "[LightGBM] [Info] Auto-choosing col-wise multi-threading, the overhead of testing was 0.000692 seconds.\n",
      "You can set `force_col_wise=true` to remove the overhead.\n",
      "[LightGBM] [Info] Total Bins 3825\n",
      "[LightGBM] [Info] Number of data points in the train set: 6998, number of used features: 15\n",
      "[LightGBM] [Info] [binary:BoostFromScore]: pavg=0.767505 -> initscore=1.194276\n",
      "[LightGBM] [Info] Start training from score 1.194276\n",
      "[LightGBM] [Info] Number of positive: 5371, number of negative: 1628\n",
      "[LightGBM] [Info] Auto-choosing col-wise multi-threading, the overhead of testing was 0.001071 seconds.\n",
      "You can set `force_col_wise=true` to remove the overhead.\n",
      "[LightGBM] [Info] Total Bins 3825\n",
      "[LightGBM] [Info] Number of data points in the train set: 6999, number of used features: 15\n",
      "[LightGBM] [Info] [binary:BoostFromScore]: pavg=0.767395 -> initscore=1.193662\n",
      "[LightGBM] [Info] Start training from score 1.193662\n"
     ]
    },
    {
     "name": "stderr",
     "output_type": "stream",
     "text": [
      "C:\\Users\\PC\\Desktop\\ml_project\\venv\\lib\\site-packages\\sklearn\\utils\\validation.py:2739: UserWarning: X does not have valid feature names, but LGBMClassifier was fitted with feature names\n",
      "  warnings.warn(\n"
     ]
    },
    {
     "name": "stdout",
     "output_type": "stream",
     "text": [
      "[LightGBM] [Info] Number of positive: 5372, number of negative: 1627\n",
      "[LightGBM] [Info] Auto-choosing col-wise multi-threading, the overhead of testing was 0.001045 seconds.\n",
      "You can set `force_col_wise=true` to remove the overhead.\n",
      "[LightGBM] [Info] Total Bins 3825\n",
      "[LightGBM] [Info] Number of data points in the train set: 6999, number of used features: 15\n",
      "[LightGBM] [Info] [binary:BoostFromScore]: pavg=0.767538 -> initscore=1.194462\n",
      "[LightGBM] [Info] Start training from score 1.194462\n"
     ]
    },
    {
     "name": "stderr",
     "output_type": "stream",
     "text": [
      "C:\\Users\\PC\\Desktop\\ml_project\\venv\\lib\\site-packages\\sklearn\\utils\\validation.py:2739: UserWarning: X does not have valid feature names, but LGBMClassifier was fitted with feature names\n",
      "  warnings.warn(\n",
      "C:\\Users\\PC\\Desktop\\ml_project\\venv\\lib\\site-packages\\sklearn\\utils\\validation.py:2739: UserWarning: X does not have valid feature names, but LGBMClassifier was fitted with feature names\n",
      "  warnings.warn(\n"
     ]
    },
    {
     "name": "stdout",
     "output_type": "stream",
     "text": [
      "[LightGBM] [Info] Number of positive: 5371, number of negative: 1627\n",
      "[LightGBM] [Info] Auto-choosing col-wise multi-threading, the overhead of testing was 0.001016 seconds.\n",
      "You can set `force_col_wise=true` to remove the overhead.\n",
      "[LightGBM] [Info] Total Bins 3825\n",
      "[LightGBM] [Info] Number of data points in the train set: 6998, number of used features: 15\n",
      "[LightGBM] [Info] [binary:BoostFromScore]: pavg=0.767505 -> initscore=1.194276\n",
      "[LightGBM] [Info] Start training from score 1.194276\n",
      "[LightGBM] [Info] Number of positive: 5371, number of negative: 1627\n",
      "[LightGBM] [Info] Auto-choosing col-wise multi-threading, the overhead of testing was 0.000953 seconds.\n",
      "You can set `force_col_wise=true` to remove the overhead.\n",
      "[LightGBM] [Info] Total Bins 3825\n",
      "[LightGBM] [Info] Number of data points in the train set: 6998, number of used features: 15\n",
      "[LightGBM] [Info] [binary:BoostFromScore]: pavg=0.767505 -> initscore=1.194276\n",
      "[LightGBM] [Info] Start training from score 1.194276\n"
     ]
    },
    {
     "name": "stderr",
     "output_type": "stream",
     "text": [
      "C:\\Users\\PC\\Desktop\\ml_project\\venv\\lib\\site-packages\\sklearn\\utils\\validation.py:2739: UserWarning: X does not have valid feature names, but LGBMClassifier was fitted with feature names\n",
      "  warnings.warn(\n",
      "C:\\Users\\PC\\Desktop\\ml_project\\venv\\lib\\site-packages\\sklearn\\utils\\validation.py:2739: UserWarning: X does not have valid feature names, but LGBMClassifier was fitted with feature names\n",
      "  warnings.warn(\n"
     ]
    },
    {
     "name": "stdout",
     "output_type": "stream",
     "text": [
      "[LightGBM] [Info] Number of positive: 5371, number of negative: 1627\n",
      "[LightGBM] [Info] Auto-choosing col-wise multi-threading, the overhead of testing was 0.001039 seconds.\n",
      "You can set `force_col_wise=true` to remove the overhead.\n",
      "[LightGBM] [Info] Total Bins 3825\n",
      "[LightGBM] [Info] Number of data points in the train set: 6998, number of used features: 15\n",
      "[LightGBM] [Info] [binary:BoostFromScore]: pavg=0.767505 -> initscore=1.194276\n",
      "[LightGBM] [Info] Start training from score 1.194276\n",
      "[LightGBM] [Info] Number of positive: 5371, number of negative: 1628\n",
      "[LightGBM] [Info] Auto-choosing col-wise multi-threading, the overhead of testing was 0.000901 seconds.\n",
      "You can set `force_col_wise=true` to remove the overhead.\n",
      "[LightGBM] [Info] Total Bins 3825\n",
      "[LightGBM] [Info] Number of data points in the train set: 6999, number of used features: 15\n",
      "[LightGBM] [Info] [binary:BoostFromScore]: pavg=0.767395 -> initscore=1.193662\n",
      "[LightGBM] [Info] Start training from score 1.193662\n"
     ]
    },
    {
     "name": "stderr",
     "output_type": "stream",
     "text": [
      "C:\\Users\\PC\\Desktop\\ml_project\\venv\\lib\\site-packages\\sklearn\\utils\\validation.py:2739: UserWarning: X does not have valid feature names, but LGBMClassifier was fitted with feature names\n",
      "  warnings.warn(\n"
     ]
    },
    {
     "name": "stdout",
     "output_type": "stream",
     "text": [
      "[LightGBM] [Info] Number of positive: 5372, number of negative: 1627\n",
      "[LightGBM] [Info] Auto-choosing col-wise multi-threading, the overhead of testing was 0.000953 seconds.\n",
      "You can set `force_col_wise=true` to remove the overhead.\n",
      "[LightGBM] [Info] Total Bins 3825\n",
      "[LightGBM] [Info] Number of data points in the train set: 6999, number of used features: 15\n",
      "[LightGBM] [Info] [binary:BoostFromScore]: pavg=0.767538 -> initscore=1.194462\n",
      "[LightGBM] [Info] Start training from score 1.194462\n"
     ]
    },
    {
     "name": "stderr",
     "output_type": "stream",
     "text": [
      "C:\\Users\\PC\\Desktop\\ml_project\\venv\\lib\\site-packages\\sklearn\\utils\\validation.py:2739: UserWarning: X does not have valid feature names, but LGBMClassifier was fitted with feature names\n",
      "  warnings.warn(\n"
     ]
    },
    {
     "name": "stdout",
     "output_type": "stream",
     "text": [
      "[LightGBM] [Info] Number of positive: 5371, number of negative: 1627\n",
      "[LightGBM] [Info] Auto-choosing col-wise multi-threading, the overhead of testing was 0.001003 seconds.\n",
      "You can set `force_col_wise=true` to remove the overhead.\n",
      "[LightGBM] [Info] Total Bins 3825\n",
      "[LightGBM] [Info] Number of data points in the train set: 6998, number of used features: 15\n",
      "[LightGBM] [Info] [binary:BoostFromScore]: pavg=0.767505 -> initscore=1.194276\n",
      "[LightGBM] [Info] Start training from score 1.194276\n"
     ]
    },
    {
     "name": "stderr",
     "output_type": "stream",
     "text": [
      "C:\\Users\\PC\\Desktop\\ml_project\\venv\\lib\\site-packages\\sklearn\\utils\\validation.py:2739: UserWarning: X does not have valid feature names, but LGBMClassifier was fitted with feature names\n",
      "  warnings.warn(\n"
     ]
    },
    {
     "name": "stdout",
     "output_type": "stream",
     "text": [
      "[LightGBM] [Info] Number of positive: 5371, number of negative: 1627\n",
      "[LightGBM] [Info] Auto-choosing col-wise multi-threading, the overhead of testing was 0.001140 seconds.\n",
      "You can set `force_col_wise=true` to remove the overhead.\n",
      "[LightGBM] [Info] Total Bins 3825\n",
      "[LightGBM] [Info] Number of data points in the train set: 6998, number of used features: 15\n",
      "[LightGBM] [Info] [binary:BoostFromScore]: pavg=0.767505 -> initscore=1.194276\n",
      "[LightGBM] [Info] Start training from score 1.194276\n"
     ]
    },
    {
     "name": "stderr",
     "output_type": "stream",
     "text": [
      "C:\\Users\\PC\\Desktop\\ml_project\\venv\\lib\\site-packages\\sklearn\\utils\\validation.py:2739: UserWarning: X does not have valid feature names, but LGBMClassifier was fitted with feature names\n",
      "  warnings.warn(\n"
     ]
    },
    {
     "name": "stdout",
     "output_type": "stream",
     "text": [
      "[LightGBM] [Info] Number of positive: 5371, number of negative: 1627\n",
      "[LightGBM] [Info] Auto-choosing col-wise multi-threading, the overhead of testing was 0.001121 seconds.\n",
      "You can set `force_col_wise=true` to remove the overhead.\n",
      "[LightGBM] [Info] Total Bins 3825\n",
      "[LightGBM] [Info] Number of data points in the train set: 6998, number of used features: 15\n",
      "[LightGBM] [Info] [binary:BoostFromScore]: pavg=0.767505 -> initscore=1.194276\n",
      "[LightGBM] [Info] Start training from score 1.194276\n"
     ]
    },
    {
     "name": "stderr",
     "output_type": "stream",
     "text": [
      "C:\\Users\\PC\\Desktop\\ml_project\\venv\\lib\\site-packages\\sklearn\\utils\\validation.py:2739: UserWarning: X does not have valid feature names, but LGBMClassifier was fitted with feature names\n",
      "  warnings.warn(\n"
     ]
    },
    {
     "name": "stdout",
     "output_type": "stream",
     "text": [
      "[LightGBM] [Info] Number of positive: 5371, number of negative: 1628\n",
      "[LightGBM] [Info] Auto-choosing col-wise multi-threading, the overhead of testing was 0.001169 seconds.\n",
      "You can set `force_col_wise=true` to remove the overhead.\n",
      "[LightGBM] [Info] Total Bins 3825\n",
      "[LightGBM] [Info] Number of data points in the train set: 6999, number of used features: 15\n",
      "[LightGBM] [Info] [binary:BoostFromScore]: pavg=0.767395 -> initscore=1.193662\n",
      "[LightGBM] [Info] Start training from score 1.193662\n"
     ]
    },
    {
     "name": "stderr",
     "output_type": "stream",
     "text": [
      "C:\\Users\\PC\\Desktop\\ml_project\\venv\\lib\\site-packages\\sklearn\\utils\\validation.py:2739: UserWarning: X does not have valid feature names, but LGBMClassifier was fitted with feature names\n",
      "  warnings.warn(\n"
     ]
    },
    {
     "name": "stdout",
     "output_type": "stream",
     "text": [
      "[LightGBM] [Info] Number of positive: 5372, number of negative: 1627\n",
      "[LightGBM] [Info] Auto-choosing col-wise multi-threading, the overhead of testing was 0.000968 seconds.\n",
      "You can set `force_col_wise=true` to remove the overhead.\n",
      "[LightGBM] [Info] Total Bins 3825\n",
      "[LightGBM] [Info] Number of data points in the train set: 6999, number of used features: 15\n",
      "[LightGBM] [Info] [binary:BoostFromScore]: pavg=0.767538 -> initscore=1.194462\n",
      "[LightGBM] [Info] Start training from score 1.194462\n"
     ]
    },
    {
     "name": "stderr",
     "output_type": "stream",
     "text": [
      "C:\\Users\\PC\\Desktop\\ml_project\\venv\\lib\\site-packages\\sklearn\\utils\\validation.py:2739: UserWarning: X does not have valid feature names, but LGBMClassifier was fitted with feature names\n",
      "  warnings.warn(\n"
     ]
    },
    {
     "name": "stdout",
     "output_type": "stream",
     "text": [
      "[LightGBM] [Info] Number of positive: 5371, number of negative: 1627\n",
      "[LightGBM] [Info] Auto-choosing col-wise multi-threading, the overhead of testing was 0.001299 seconds.\n",
      "You can set `force_col_wise=true` to remove the overhead.\n",
      "[LightGBM] [Info] Total Bins 3825\n",
      "[LightGBM] [Info] Number of data points in the train set: 6998, number of used features: 15\n",
      "[LightGBM] [Info] [binary:BoostFromScore]: pavg=0.767505 -> initscore=1.194276\n",
      "[LightGBM] [Info] Start training from score 1.194276\n"
     ]
    },
    {
     "name": "stderr",
     "output_type": "stream",
     "text": [
      "C:\\Users\\PC\\Desktop\\ml_project\\venv\\lib\\site-packages\\sklearn\\utils\\validation.py:2739: UserWarning: X does not have valid feature names, but LGBMClassifier was fitted with feature names\n",
      "  warnings.warn(\n"
     ]
    },
    {
     "name": "stdout",
     "output_type": "stream",
     "text": [
      "[LightGBM] [Info] Number of positive: 5371, number of negative: 1627\n",
      "[LightGBM] [Info] Auto-choosing col-wise multi-threading, the overhead of testing was 0.000959 seconds.\n",
      "You can set `force_col_wise=true` to remove the overhead.\n",
      "[LightGBM] [Info] Total Bins 3825\n",
      "[LightGBM] [Info] Number of data points in the train set: 6998, number of used features: 15\n",
      "[LightGBM] [Info] [binary:BoostFromScore]: pavg=0.767505 -> initscore=1.194276\n",
      "[LightGBM] [Info] Start training from score 1.194276\n"
     ]
    },
    {
     "name": "stderr",
     "output_type": "stream",
     "text": [
      "C:\\Users\\PC\\Desktop\\ml_project\\venv\\lib\\site-packages\\sklearn\\utils\\validation.py:2739: UserWarning: X does not have valid feature names, but LGBMClassifier was fitted with feature names\n",
      "  warnings.warn(\n"
     ]
    },
    {
     "name": "stdout",
     "output_type": "stream",
     "text": [
      "[LightGBM] [Info] Number of positive: 5371, number of negative: 1627\n",
      "[LightGBM] [Info] Auto-choosing col-wise multi-threading, the overhead of testing was 0.000999 seconds.\n",
      "You can set `force_col_wise=true` to remove the overhead.\n",
      "[LightGBM] [Info] Total Bins 3825\n",
      "[LightGBM] [Info] Number of data points in the train set: 6998, number of used features: 15\n",
      "[LightGBM] [Info] [binary:BoostFromScore]: pavg=0.767505 -> initscore=1.194276\n",
      "[LightGBM] [Info] Start training from score 1.194276\n"
     ]
    },
    {
     "name": "stderr",
     "output_type": "stream",
     "text": [
      "C:\\Users\\PC\\Desktop\\ml_project\\venv\\lib\\site-packages\\sklearn\\utils\\validation.py:2739: UserWarning: X does not have valid feature names, but LGBMClassifier was fitted with feature names\n",
      "  warnings.warn(\n"
     ]
    },
    {
     "name": "stdout",
     "output_type": "stream",
     "text": [
      "[LightGBM] [Info] Number of positive: 5371, number of negative: 1628\n",
      "[LightGBM] [Info] Auto-choosing col-wise multi-threading, the overhead of testing was 0.000997 seconds.\n",
      "You can set `force_col_wise=true` to remove the overhead.\n",
      "[LightGBM] [Info] Total Bins 3825\n",
      "[LightGBM] [Info] Number of data points in the train set: 6999, number of used features: 15\n",
      "[LightGBM] [Info] [binary:BoostFromScore]: pavg=0.767395 -> initscore=1.193662\n",
      "[LightGBM] [Info] Start training from score 1.193662\n"
     ]
    },
    {
     "name": "stderr",
     "output_type": "stream",
     "text": [
      "C:\\Users\\PC\\Desktop\\ml_project\\venv\\lib\\site-packages\\sklearn\\utils\\validation.py:2739: UserWarning: X does not have valid feature names, but LGBMClassifier was fitted with feature names\n",
      "  warnings.warn(\n"
     ]
    },
    {
     "name": "stdout",
     "output_type": "stream",
     "text": [
      "[LightGBM] [Info] Number of positive: 5372, number of negative: 1627\n",
      "[LightGBM] [Info] Auto-choosing col-wise multi-threading, the overhead of testing was 0.001082 seconds.\n",
      "You can set `force_col_wise=true` to remove the overhead.\n",
      "[LightGBM] [Info] Total Bins 3825\n",
      "[LightGBM] [Info] Number of data points in the train set: 6999, number of used features: 15\n",
      "[LightGBM] [Info] [binary:BoostFromScore]: pavg=0.767538 -> initscore=1.194462\n",
      "[LightGBM] [Info] Start training from score 1.194462\n"
     ]
    },
    {
     "name": "stderr",
     "output_type": "stream",
     "text": [
      "C:\\Users\\PC\\Desktop\\ml_project\\venv\\lib\\site-packages\\sklearn\\utils\\validation.py:2739: UserWarning: X does not have valid feature names, but LGBMClassifier was fitted with feature names\n",
      "  warnings.warn(\n"
     ]
    },
    {
     "name": "stdout",
     "output_type": "stream",
     "text": [
      "[LightGBM] [Info] Number of positive: 5371, number of negative: 1627\n",
      "[LightGBM] [Info] Auto-choosing col-wise multi-threading, the overhead of testing was 0.001055 seconds.\n",
      "You can set `force_col_wise=true` to remove the overhead.\n",
      "[LightGBM] [Info] Total Bins 3825\n",
      "[LightGBM] [Info] Number of data points in the train set: 6998, number of used features: 15\n",
      "[LightGBM] [Info] [binary:BoostFromScore]: pavg=0.767505 -> initscore=1.194276\n",
      "[LightGBM] [Info] Start training from score 1.194276\n"
     ]
    },
    {
     "name": "stderr",
     "output_type": "stream",
     "text": [
      "C:\\Users\\PC\\Desktop\\ml_project\\venv\\lib\\site-packages\\sklearn\\utils\\validation.py:2739: UserWarning: X does not have valid feature names, but LGBMClassifier was fitted with feature names\n",
      "  warnings.warn(\n"
     ]
    },
    {
     "name": "stdout",
     "output_type": "stream",
     "text": [
      "[LightGBM] [Info] Number of positive: 5371, number of negative: 1627\n",
      "[LightGBM] [Info] Auto-choosing col-wise multi-threading, the overhead of testing was 0.000996 seconds.\n",
      "You can set `force_col_wise=true` to remove the overhead.\n",
      "[LightGBM] [Info] Total Bins 3825\n",
      "[LightGBM] [Info] Number of data points in the train set: 6998, number of used features: 15\n",
      "[LightGBM] [Info] [binary:BoostFromScore]: pavg=0.767505 -> initscore=1.194276\n",
      "[LightGBM] [Info] Start training from score 1.194276\n"
     ]
    },
    {
     "name": "stderr",
     "output_type": "stream",
     "text": [
      "C:\\Users\\PC\\Desktop\\ml_project\\venv\\lib\\site-packages\\sklearn\\utils\\validation.py:2739: UserWarning: X does not have valid feature names, but LGBMClassifier was fitted with feature names\n",
      "  warnings.warn(\n"
     ]
    },
    {
     "name": "stdout",
     "output_type": "stream",
     "text": [
      "[LightGBM] [Info] Number of positive: 5371, number of negative: 1627\n",
      "[LightGBM] [Info] Auto-choosing col-wise multi-threading, the overhead of testing was 0.001106 seconds.\n",
      "You can set `force_col_wise=true` to remove the overhead.\n",
      "[LightGBM] [Info] Total Bins 3825\n",
      "[LightGBM] [Info] Number of data points in the train set: 6998, number of used features: 15\n",
      "[LightGBM] [Info] [binary:BoostFromScore]: pavg=0.767505 -> initscore=1.194276\n",
      "[LightGBM] [Info] Start training from score 1.194276\n"
     ]
    },
    {
     "name": "stderr",
     "output_type": "stream",
     "text": [
      "C:\\Users\\PC\\Desktop\\ml_project\\venv\\lib\\site-packages\\sklearn\\utils\\validation.py:2739: UserWarning: X does not have valid feature names, but LGBMClassifier was fitted with feature names\n",
      "  warnings.warn(\n"
     ]
    },
    {
     "name": "stdout",
     "output_type": "stream",
     "text": [
      "[LightGBM] [Info] Number of positive: 5371, number of negative: 1628\n",
      "[LightGBM] [Info] Auto-choosing col-wise multi-threading, the overhead of testing was 0.000807 seconds.\n",
      "You can set `force_col_wise=true` to remove the overhead.\n",
      "[LightGBM] [Info] Total Bins 3825\n",
      "[LightGBM] [Info] Number of data points in the train set: 6999, number of used features: 15\n",
      "[LightGBM] [Info] [binary:BoostFromScore]: pavg=0.767395 -> initscore=1.193662\n",
      "[LightGBM] [Info] Start training from score 1.193662\n"
     ]
    },
    {
     "name": "stderr",
     "output_type": "stream",
     "text": [
      "C:\\Users\\PC\\Desktop\\ml_project\\venv\\lib\\site-packages\\sklearn\\utils\\validation.py:2739: UserWarning: X does not have valid feature names, but LGBMClassifier was fitted with feature names\n",
      "  warnings.warn(\n"
     ]
    },
    {
     "name": "stdout",
     "output_type": "stream",
     "text": [
      "[LightGBM] [Info] Number of positive: 5372, number of negative: 1627\n",
      "[LightGBM] [Info] Auto-choosing col-wise multi-threading, the overhead of testing was 0.000486 seconds.\n",
      "You can set `force_col_wise=true` to remove the overhead.\n",
      "[LightGBM] [Info] Total Bins 3825\n",
      "[LightGBM] [Info] Number of data points in the train set: 6999, number of used features: 15\n",
      "[LightGBM] [Info] [binary:BoostFromScore]: pavg=0.767538 -> initscore=1.194462\n",
      "[LightGBM] [Info] Start training from score 1.194462\n"
     ]
    },
    {
     "name": "stderr",
     "output_type": "stream",
     "text": [
      "C:\\Users\\PC\\Desktop\\ml_project\\venv\\lib\\site-packages\\sklearn\\utils\\validation.py:2739: UserWarning: X does not have valid feature names, but LGBMClassifier was fitted with feature names\n",
      "  warnings.warn(\n"
     ]
    },
    {
     "name": "stdout",
     "output_type": "stream",
     "text": [
      "[LightGBM] [Info] Number of positive: 5371, number of negative: 1627\n",
      "[LightGBM] [Info] Auto-choosing col-wise multi-threading, the overhead of testing was 0.000632 seconds.\n",
      "You can set `force_col_wise=true` to remove the overhead.\n",
      "[LightGBM] [Info] Total Bins 3825\n",
      "[LightGBM] [Info] Number of data points in the train set: 6998, number of used features: 15\n",
      "[LightGBM] [Info] [binary:BoostFromScore]: pavg=0.767505 -> initscore=1.194276\n",
      "[LightGBM] [Info] Start training from score 1.194276\n"
     ]
    },
    {
     "name": "stderr",
     "output_type": "stream",
     "text": [
      "C:\\Users\\PC\\Desktop\\ml_project\\venv\\lib\\site-packages\\sklearn\\utils\\validation.py:2739: UserWarning: X does not have valid feature names, but LGBMClassifier was fitted with feature names\n",
      "  warnings.warn(\n"
     ]
    },
    {
     "name": "stdout",
     "output_type": "stream",
     "text": [
      "[LightGBM] [Info] Number of positive: 5371, number of negative: 1627\n",
      "[LightGBM] [Info] Auto-choosing col-wise multi-threading, the overhead of testing was 0.000681 seconds.\n",
      "You can set `force_col_wise=true` to remove the overhead.\n",
      "[LightGBM] [Info] Total Bins 3825\n",
      "[LightGBM] [Info] Number of data points in the train set: 6998, number of used features: 15\n",
      "[LightGBM] [Info] [binary:BoostFromScore]: pavg=0.767505 -> initscore=1.194276\n",
      "[LightGBM] [Info] Start training from score 1.194276\n"
     ]
    },
    {
     "name": "stderr",
     "output_type": "stream",
     "text": [
      "C:\\Users\\PC\\Desktop\\ml_project\\venv\\lib\\site-packages\\sklearn\\utils\\validation.py:2739: UserWarning: X does not have valid feature names, but LGBMClassifier was fitted with feature names\n",
      "  warnings.warn(\n"
     ]
    },
    {
     "name": "stdout",
     "output_type": "stream",
     "text": [
      "[LightGBM] [Info] Number of positive: 5371, number of negative: 1627\n",
      "[LightGBM] [Info] Auto-choosing col-wise multi-threading, the overhead of testing was 0.000913 seconds.\n",
      "You can set `force_col_wise=true` to remove the overhead.\n",
      "[LightGBM] [Info] Total Bins 3825\n",
      "[LightGBM] [Info] Number of data points in the train set: 6998, number of used features: 15\n",
      "[LightGBM] [Info] [binary:BoostFromScore]: pavg=0.767505 -> initscore=1.194276\n",
      "[LightGBM] [Info] Start training from score 1.194276\n"
     ]
    },
    {
     "name": "stderr",
     "output_type": "stream",
     "text": [
      "C:\\Users\\PC\\Desktop\\ml_project\\venv\\lib\\site-packages\\sklearn\\utils\\validation.py:2739: UserWarning: X does not have valid feature names, but LGBMClassifier was fitted with feature names\n",
      "  warnings.warn(\n"
     ]
    },
    {
     "name": "stdout",
     "output_type": "stream",
     "text": [
      "[LightGBM] [Info] Number of positive: 5371, number of negative: 1628\n",
      "[LightGBM] [Info] Auto-choosing col-wise multi-threading, the overhead of testing was 0.000975 seconds.\n",
      "You can set `force_col_wise=true` to remove the overhead.\n",
      "[LightGBM] [Info] Total Bins 3825\n",
      "[LightGBM] [Info] Number of data points in the train set: 6999, number of used features: 15\n",
      "[LightGBM] [Info] [binary:BoostFromScore]: pavg=0.767395 -> initscore=1.193662\n",
      "[LightGBM] [Info] Start training from score 1.193662\n"
     ]
    },
    {
     "name": "stderr",
     "output_type": "stream",
     "text": [
      "C:\\Users\\PC\\Desktop\\ml_project\\venv\\lib\\site-packages\\sklearn\\utils\\validation.py:2739: UserWarning: X does not have valid feature names, but LGBMClassifier was fitted with feature names\n",
      "  warnings.warn(\n"
     ]
    },
    {
     "name": "stdout",
     "output_type": "stream",
     "text": [
      "[LightGBM] [Info] Number of positive: 5372, number of negative: 1627\n",
      "[LightGBM] [Info] Auto-choosing col-wise multi-threading, the overhead of testing was 0.001164 seconds.\n",
      "You can set `force_col_wise=true` to remove the overhead.\n",
      "[LightGBM] [Info] Total Bins 3825\n",
      "[LightGBM] [Info] Number of data points in the train set: 6999, number of used features: 15\n",
      "[LightGBM] [Info] [binary:BoostFromScore]: pavg=0.767538 -> initscore=1.194462\n",
      "[LightGBM] [Info] Start training from score 1.194462\n"
     ]
    },
    {
     "name": "stderr",
     "output_type": "stream",
     "text": [
      "C:\\Users\\PC\\Desktop\\ml_project\\venv\\lib\\site-packages\\sklearn\\utils\\validation.py:2739: UserWarning: X does not have valid feature names, but LGBMClassifier was fitted with feature names\n",
      "  warnings.warn(\n"
     ]
    },
    {
     "name": "stdout",
     "output_type": "stream",
     "text": [
      "[LightGBM] [Info] Number of positive: 5371, number of negative: 1627\n",
      "[LightGBM] [Info] Auto-choosing col-wise multi-threading, the overhead of testing was 0.001002 seconds.\n",
      "You can set `force_col_wise=true` to remove the overhead.\n",
      "[LightGBM] [Info] Total Bins 3825\n",
      "[LightGBM] [Info] Number of data points in the train set: 6998, number of used features: 15\n",
      "[LightGBM] [Info] [binary:BoostFromScore]: pavg=0.767505 -> initscore=1.194276\n",
      "[LightGBM] [Info] Start training from score 1.194276\n"
     ]
    },
    {
     "name": "stderr",
     "output_type": "stream",
     "text": [
      "C:\\Users\\PC\\Desktop\\ml_project\\venv\\lib\\site-packages\\sklearn\\utils\\validation.py:2739: UserWarning: X does not have valid feature names, but LGBMClassifier was fitted with feature names\n",
      "  warnings.warn(\n"
     ]
    },
    {
     "name": "stdout",
     "output_type": "stream",
     "text": [
      "[LightGBM] [Info] Number of positive: 5371, number of negative: 1627\n",
      "[LightGBM] [Info] Auto-choosing col-wise multi-threading, the overhead of testing was 0.001029 seconds.\n",
      "You can set `force_col_wise=true` to remove the overhead.\n",
      "[LightGBM] [Info] Total Bins 3825\n",
      "[LightGBM] [Info] Number of data points in the train set: 6998, number of used features: 15\n",
      "[LightGBM] [Info] [binary:BoostFromScore]: pavg=0.767505 -> initscore=1.194276\n",
      "[LightGBM] [Info] Start training from score 1.194276\n"
     ]
    },
    {
     "name": "stderr",
     "output_type": "stream",
     "text": [
      "C:\\Users\\PC\\Desktop\\ml_project\\venv\\lib\\site-packages\\sklearn\\utils\\validation.py:2739: UserWarning: X does not have valid feature names, but LGBMClassifier was fitted with feature names\n",
      "  warnings.warn(\n"
     ]
    },
    {
     "name": "stdout",
     "output_type": "stream",
     "text": [
      "[LightGBM] [Info] Number of positive: 5371, number of negative: 1627\n",
      "[LightGBM] [Info] Auto-choosing col-wise multi-threading, the overhead of testing was 0.000947 seconds.\n",
      "You can set `force_col_wise=true` to remove the overhead.\n",
      "[LightGBM] [Info] Total Bins 3825\n",
      "[LightGBM] [Info] Number of data points in the train set: 6998, number of used features: 15\n",
      "[LightGBM] [Info] [binary:BoostFromScore]: pavg=0.767505 -> initscore=1.194276\n",
      "[LightGBM] [Info] Start training from score 1.194276\n"
     ]
    },
    {
     "name": "stderr",
     "output_type": "stream",
     "text": [
      "C:\\Users\\PC\\Desktop\\ml_project\\venv\\lib\\site-packages\\sklearn\\utils\\validation.py:2739: UserWarning: X does not have valid feature names, but LGBMClassifier was fitted with feature names\n",
      "  warnings.warn(\n"
     ]
    },
    {
     "name": "stdout",
     "output_type": "stream",
     "text": [
      "[LightGBM] [Info] Number of positive: 5371, number of negative: 1628\n",
      "[LightGBM] [Info] Auto-choosing col-wise multi-threading, the overhead of testing was 0.000660 seconds.\n",
      "You can set `force_col_wise=true` to remove the overhead.\n",
      "[LightGBM] [Info] Total Bins 3825\n",
      "[LightGBM] [Info] Number of data points in the train set: 6999, number of used features: 15\n",
      "[LightGBM] [Info] [binary:BoostFromScore]: pavg=0.767395 -> initscore=1.193662\n",
      "[LightGBM] [Info] Start training from score 1.193662\n"
     ]
    },
    {
     "name": "stderr",
     "output_type": "stream",
     "text": [
      "C:\\Users\\PC\\Desktop\\ml_project\\venv\\lib\\site-packages\\sklearn\\utils\\validation.py:2739: UserWarning: X does not have valid feature names, but LGBMClassifier was fitted with feature names\n",
      "  warnings.warn(\n"
     ]
    },
    {
     "name": "stdout",
     "output_type": "stream",
     "text": [
      "[LightGBM] [Info] Number of positive: 5372, number of negative: 1627\n",
      "[LightGBM] [Info] Auto-choosing col-wise multi-threading, the overhead of testing was 0.000948 seconds.\n",
      "You can set `force_col_wise=true` to remove the overhead.\n",
      "[LightGBM] [Info] Total Bins 3825\n",
      "[LightGBM] [Info] Number of data points in the train set: 6999, number of used features: 15\n",
      "[LightGBM] [Info] [binary:BoostFromScore]: pavg=0.767538 -> initscore=1.194462\n",
      "[LightGBM] [Info] Start training from score 1.194462\n"
     ]
    },
    {
     "name": "stderr",
     "output_type": "stream",
     "text": [
      "C:\\Users\\PC\\Desktop\\ml_project\\venv\\lib\\site-packages\\sklearn\\utils\\validation.py:2739: UserWarning: X does not have valid feature names, but LGBMClassifier was fitted with feature names\n",
      "  warnings.warn(\n",
      "C:\\Users\\PC\\Desktop\\ml_project\\venv\\lib\\site-packages\\sklearn\\utils\\validation.py:2739: UserWarning: X does not have valid feature names, but LGBMClassifier was fitted with feature names\n",
      "  warnings.warn(\n",
      "C:\\Users\\PC\\Desktop\\ml_project\\venv\\lib\\site-packages\\sklearn\\utils\\validation.py:2739: UserWarning: X does not have valid feature names, but LGBMClassifier was fitted with feature names\n",
      "  warnings.warn(\n"
     ]
    },
    {
     "name": "stdout",
     "output_type": "stream",
     "text": [
      "[LightGBM] [Info] Number of positive: 5371, number of negative: 1627\n",
      "[LightGBM] [Info] Auto-choosing col-wise multi-threading, the overhead of testing was 0.000769 seconds.\n",
      "You can set `force_col_wise=true` to remove the overhead.\n",
      "[LightGBM] [Info] Total Bins 3825\n",
      "[LightGBM] [Info] Number of data points in the train set: 6998, number of used features: 15\n",
      "[LightGBM] [Info] [binary:BoostFromScore]: pavg=0.767505 -> initscore=1.194276\n",
      "[LightGBM] [Info] Start training from score 1.194276\n",
      "[LightGBM] [Info] Number of positive: 5371, number of negative: 1627\n",
      "[LightGBM] [Info] Auto-choosing col-wise multi-threading, the overhead of testing was 0.000672 seconds.\n",
      "You can set `force_col_wise=true` to remove the overhead.\n",
      "[LightGBM] [Info] Total Bins 3825\n",
      "[LightGBM] [Info] Number of data points in the train set: 6998, number of used features: 15\n",
      "[LightGBM] [Info] [binary:BoostFromScore]: pavg=0.767505 -> initscore=1.194276\n",
      "[LightGBM] [Info] Start training from score 1.194276\n",
      "[LightGBM] [Info] Number of positive: 5371, number of negative: 1627\n",
      "[LightGBM] [Info] Auto-choosing col-wise multi-threading, the overhead of testing was 0.000546 seconds.\n",
      "You can set `force_col_wise=true` to remove the overhead.\n",
      "[LightGBM] [Info] Total Bins 3825\n",
      "[LightGBM] [Info] Number of data points in the train set: 6998, number of used features: 15\n",
      "[LightGBM] [Info] [binary:BoostFromScore]: pavg=0.767505 -> initscore=1.194276\n",
      "[LightGBM] [Info] Start training from score 1.194276\n"
     ]
    },
    {
     "name": "stderr",
     "output_type": "stream",
     "text": [
      "C:\\Users\\PC\\Desktop\\ml_project\\venv\\lib\\site-packages\\sklearn\\utils\\validation.py:2739: UserWarning: X does not have valid feature names, but LGBMClassifier was fitted with feature names\n",
      "  warnings.warn(\n",
      "C:\\Users\\PC\\Desktop\\ml_project\\venv\\lib\\site-packages\\sklearn\\utils\\validation.py:2739: UserWarning: X does not have valid feature names, but LGBMClassifier was fitted with feature names\n",
      "  warnings.warn(\n",
      "C:\\Users\\PC\\Desktop\\ml_project\\venv\\lib\\site-packages\\sklearn\\utils\\validation.py:2739: UserWarning: X does not have valid feature names, but LGBMClassifier was fitted with feature names\n",
      "  warnings.warn(\n"
     ]
    },
    {
     "name": "stdout",
     "output_type": "stream",
     "text": [
      "[LightGBM] [Info] Number of positive: 5371, number of negative: 1628\n",
      "[LightGBM] [Info] Auto-choosing col-wise multi-threading, the overhead of testing was 0.000596 seconds.\n",
      "You can set `force_col_wise=true` to remove the overhead.\n",
      "[LightGBM] [Info] Total Bins 3825\n",
      "[LightGBM] [Info] Number of data points in the train set: 6999, number of used features: 15\n",
      "[LightGBM] [Info] [binary:BoostFromScore]: pavg=0.767395 -> initscore=1.193662\n",
      "[LightGBM] [Info] Start training from score 1.193662\n",
      "[LightGBM] [Info] Number of positive: 5372, number of negative: 1627\n",
      "[LightGBM] [Info] Auto-choosing col-wise multi-threading, the overhead of testing was 0.000446 seconds.\n",
      "You can set `force_col_wise=true` to remove the overhead.\n",
      "[LightGBM] [Info] Total Bins 3825\n",
      "[LightGBM] [Info] Number of data points in the train set: 6999, number of used features: 15\n",
      "[LightGBM] [Info] [binary:BoostFromScore]: pavg=0.767538 -> initscore=1.194462\n",
      "[LightGBM] [Info] Start training from score 1.194462\n",
      "[LightGBM] [Info] Number of positive: 5371, number of negative: 1627\n",
      "[LightGBM] [Info] Auto-choosing col-wise multi-threading, the overhead of testing was 0.000662 seconds.\n",
      "You can set `force_col_wise=true` to remove the overhead.\n",
      "[LightGBM] [Info] Total Bins 3825\n",
      "[LightGBM] [Info] Number of data points in the train set: 6998, number of used features: 15\n",
      "[LightGBM] [Info] [binary:BoostFromScore]: pavg=0.767505 -> initscore=1.194276\n",
      "[LightGBM] [Info] Start training from score 1.194276\n"
     ]
    },
    {
     "name": "stderr",
     "output_type": "stream",
     "text": [
      "C:\\Users\\PC\\Desktop\\ml_project\\venv\\lib\\site-packages\\sklearn\\utils\\validation.py:2739: UserWarning: X does not have valid feature names, but LGBMClassifier was fitted with feature names\n",
      "  warnings.warn(\n",
      "C:\\Users\\PC\\Desktop\\ml_project\\venv\\lib\\site-packages\\sklearn\\utils\\validation.py:2739: UserWarning: X does not have valid feature names, but LGBMClassifier was fitted with feature names\n",
      "  warnings.warn(\n"
     ]
    },
    {
     "name": "stdout",
     "output_type": "stream",
     "text": [
      "[LightGBM] [Info] Number of positive: 5371, number of negative: 1627\n",
      "[LightGBM] [Info] Auto-choosing col-wise multi-threading, the overhead of testing was 0.000592 seconds.\n",
      "You can set `force_col_wise=true` to remove the overhead.\n",
      "[LightGBM] [Info] Total Bins 3825\n",
      "[LightGBM] [Info] Number of data points in the train set: 6998, number of used features: 15\n",
      "[LightGBM] [Info] [binary:BoostFromScore]: pavg=0.767505 -> initscore=1.194276\n",
      "[LightGBM] [Info] Start training from score 1.194276\n",
      "[LightGBM] [Info] Number of positive: 5371, number of negative: 1627\n",
      "[LightGBM] [Info] Auto-choosing col-wise multi-threading, the overhead of testing was 0.000775 seconds.\n",
      "You can set `force_col_wise=true` to remove the overhead.\n",
      "[LightGBM] [Info] Total Bins 3825\n",
      "[LightGBM] [Info] Number of data points in the train set: 6998, number of used features: 15\n",
      "[LightGBM] [Info] [binary:BoostFromScore]: pavg=0.767505 -> initscore=1.194276\n",
      "[LightGBM] [Info] Start training from score 1.194276\n"
     ]
    },
    {
     "name": "stderr",
     "output_type": "stream",
     "text": [
      "C:\\Users\\PC\\Desktop\\ml_project\\venv\\lib\\site-packages\\sklearn\\utils\\validation.py:2739: UserWarning: X does not have valid feature names, but LGBMClassifier was fitted with feature names\n",
      "  warnings.warn(\n",
      "C:\\Users\\PC\\Desktop\\ml_project\\venv\\lib\\site-packages\\sklearn\\utils\\validation.py:2739: UserWarning: X does not have valid feature names, but LGBMClassifier was fitted with feature names\n",
      "  warnings.warn(\n"
     ]
    },
    {
     "name": "stdout",
     "output_type": "stream",
     "text": [
      "[LightGBM] [Info] Number of positive: 5371, number of negative: 1628\n",
      "[LightGBM] [Info] Auto-choosing col-wise multi-threading, the overhead of testing was 0.000709 seconds.\n",
      "You can set `force_col_wise=true` to remove the overhead.\n",
      "[LightGBM] [Info] Total Bins 3825\n",
      "[LightGBM] [Info] Number of data points in the train set: 6999, number of used features: 15\n",
      "[LightGBM] [Info] [binary:BoostFromScore]: pavg=0.767395 -> initscore=1.193662\n",
      "[LightGBM] [Info] Start training from score 1.193662\n",
      "[LightGBM] [Info] Number of positive: 5372, number of negative: 1627\n",
      "[LightGBM] [Info] Auto-choosing col-wise multi-threading, the overhead of testing was 0.000738 seconds.\n",
      "You can set `force_col_wise=true` to remove the overhead.\n",
      "[LightGBM] [Info] Total Bins 3825\n",
      "[LightGBM] [Info] Number of data points in the train set: 6999, number of used features: 15\n",
      "[LightGBM] [Info] [binary:BoostFromScore]: pavg=0.767538 -> initscore=1.194462\n",
      "[LightGBM] [Info] Start training from score 1.194462\n"
     ]
    },
    {
     "name": "stderr",
     "output_type": "stream",
     "text": [
      "C:\\Users\\PC\\Desktop\\ml_project\\venv\\lib\\site-packages\\sklearn\\utils\\validation.py:2739: UserWarning: X does not have valid feature names, but LGBMClassifier was fitted with feature names\n",
      "  warnings.warn(\n"
     ]
    },
    {
     "name": "stdout",
     "output_type": "stream",
     "text": [
      "[LightGBM] [Info] Number of positive: 5371, number of negative: 1627\n",
      "[LightGBM] [Info] Auto-choosing col-wise multi-threading, the overhead of testing was 0.000549 seconds.\n",
      "You can set `force_col_wise=true` to remove the overhead.\n",
      "[LightGBM] [Info] Total Bins 3825\n",
      "[LightGBM] [Info] Number of data points in the train set: 6998, number of used features: 15\n",
      "[LightGBM] [Info] [binary:BoostFromScore]: pavg=0.767505 -> initscore=1.194276\n",
      "[LightGBM] [Info] Start training from score 1.194276\n"
     ]
    },
    {
     "name": "stderr",
     "output_type": "stream",
     "text": [
      "C:\\Users\\PC\\Desktop\\ml_project\\venv\\lib\\site-packages\\sklearn\\utils\\validation.py:2739: UserWarning: X does not have valid feature names, but LGBMClassifier was fitted with feature names\n",
      "  warnings.warn(\n"
     ]
    },
    {
     "name": "stdout",
     "output_type": "stream",
     "text": [
      "[LightGBM] [Info] Number of positive: 5371, number of negative: 1627\n",
      "[LightGBM] [Info] Auto-choosing col-wise multi-threading, the overhead of testing was 0.001051 seconds.\n",
      "You can set `force_col_wise=true` to remove the overhead.\n",
      "[LightGBM] [Info] Total Bins 3825\n",
      "[LightGBM] [Info] Number of data points in the train set: 6998, number of used features: 15\n",
      "[LightGBM] [Info] [binary:BoostFromScore]: pavg=0.767505 -> initscore=1.194276\n",
      "[LightGBM] [Info] Start training from score 1.194276\n"
     ]
    },
    {
     "name": "stderr",
     "output_type": "stream",
     "text": [
      "C:\\Users\\PC\\Desktop\\ml_project\\venv\\lib\\site-packages\\sklearn\\utils\\validation.py:2739: UserWarning: X does not have valid feature names, but LGBMClassifier was fitted with feature names\n",
      "  warnings.warn(\n"
     ]
    },
    {
     "name": "stdout",
     "output_type": "stream",
     "text": [
      "[LightGBM] [Info] Number of positive: 5371, number of negative: 1627\n",
      "[LightGBM] [Info] Auto-choosing col-wise multi-threading, the overhead of testing was 0.001641 seconds.\n",
      "You can set `force_col_wise=true` to remove the overhead.\n",
      "[LightGBM] [Info] Total Bins 3825\n",
      "[LightGBM] [Info] Number of data points in the train set: 6998, number of used features: 15\n",
      "[LightGBM] [Info] [binary:BoostFromScore]: pavg=0.767505 -> initscore=1.194276\n",
      "[LightGBM] [Info] Start training from score 1.194276\n"
     ]
    },
    {
     "name": "stderr",
     "output_type": "stream",
     "text": [
      "C:\\Users\\PC\\Desktop\\ml_project\\venv\\lib\\site-packages\\sklearn\\utils\\validation.py:2739: UserWarning: X does not have valid feature names, but LGBMClassifier was fitted with feature names\n",
      "  warnings.warn(\n",
      "C:\\Users\\PC\\Desktop\\ml_project\\venv\\lib\\site-packages\\sklearn\\utils\\validation.py:2739: UserWarning: X does not have valid feature names, but LGBMClassifier was fitted with feature names\n",
      "  warnings.warn(\n"
     ]
    },
    {
     "name": "stdout",
     "output_type": "stream",
     "text": [
      "[LightGBM] [Info] Number of positive: 5371, number of negative: 1628\n",
      "[LightGBM] [Info] Auto-choosing col-wise multi-threading, the overhead of testing was 0.000687 seconds.\n",
      "You can set `force_col_wise=true` to remove the overhead.\n",
      "[LightGBM] [Info] Total Bins 3825\n",
      "[LightGBM] [Info] Number of data points in the train set: 6999, number of used features: 15\n",
      "[LightGBM] [Info] [binary:BoostFromScore]: pavg=0.767395 -> initscore=1.193662\n",
      "[LightGBM] [Info] Start training from score 1.193662\n",
      "[LightGBM] [Info] Number of positive: 5372, number of negative: 1627\n",
      "[LightGBM] [Info] Auto-choosing col-wise multi-threading, the overhead of testing was 0.001016 seconds.\n",
      "You can set `force_col_wise=true` to remove the overhead.\n",
      "[LightGBM] [Info] Total Bins 3825\n",
      "[LightGBM] [Info] Number of data points in the train set: 6999, number of used features: 15\n",
      "[LightGBM] [Info] [binary:BoostFromScore]: pavg=0.767538 -> initscore=1.194462\n",
      "[LightGBM] [Info] Start training from score 1.194462\n",
      "[LightGBM] [Info] Number of positive: 5371, number of negative: 1627\n",
      "[LightGBM] [Info] Auto-choosing col-wise multi-threading, the overhead of testing was 0.000518 seconds.\n",
      "You can set `force_col_wise=true` to remove the overhead.\n",
      "[LightGBM] [Info] Total Bins 3825\n",
      "[LightGBM] [Info] Number of data points in the train set: 6998, number of used features: 15\n",
      "[LightGBM] [Info] [binary:BoostFromScore]: pavg=0.767505 -> initscore=1.194276\n",
      "[LightGBM] [Info] Start training from score 1.194276\n"
     ]
    },
    {
     "name": "stderr",
     "output_type": "stream",
     "text": [
      "C:\\Users\\PC\\Desktop\\ml_project\\venv\\lib\\site-packages\\sklearn\\utils\\validation.py:2739: UserWarning: X does not have valid feature names, but LGBMClassifier was fitted with feature names\n",
      "  warnings.warn(\n",
      "C:\\Users\\PC\\Desktop\\ml_project\\venv\\lib\\site-packages\\sklearn\\utils\\validation.py:2739: UserWarning: X does not have valid feature names, but LGBMClassifier was fitted with feature names\n",
      "  warnings.warn(\n"
     ]
    },
    {
     "name": "stdout",
     "output_type": "stream",
     "text": [
      "[LightGBM] [Info] Number of positive: 5371, number of negative: 1627\n",
      "[LightGBM] [Info] Auto-choosing col-wise multi-threading, the overhead of testing was 0.000661 seconds.\n",
      "You can set `force_col_wise=true` to remove the overhead.\n",
      "[LightGBM] [Info] Total Bins 3825\n",
      "[LightGBM] [Info] Number of data points in the train set: 6998, number of used features: 15\n",
      "[LightGBM] [Info] [binary:BoostFromScore]: pavg=0.767505 -> initscore=1.194276\n",
      "[LightGBM] [Info] Start training from score 1.194276\n",
      "[LightGBM] [Info] Number of positive: 5371, number of negative: 1627\n",
      "[LightGBM] [Info] Auto-choosing col-wise multi-threading, the overhead of testing was 0.000667 seconds.\n",
      "You can set `force_col_wise=true` to remove the overhead.\n",
      "[LightGBM] [Info] Total Bins 3825\n",
      "[LightGBM] [Info] Number of data points in the train set: 6998, number of used features: 15\n",
      "[LightGBM] [Info] [binary:BoostFromScore]: pavg=0.767505 -> initscore=1.194276\n",
      "[LightGBM] [Info] Start training from score 1.194276\n"
     ]
    },
    {
     "name": "stderr",
     "output_type": "stream",
     "text": [
      "C:\\Users\\PC\\Desktop\\ml_project\\venv\\lib\\site-packages\\sklearn\\utils\\validation.py:2739: UserWarning: X does not have valid feature names, but LGBMClassifier was fitted with feature names\n",
      "  warnings.warn(\n",
      "C:\\Users\\PC\\Desktop\\ml_project\\venv\\lib\\site-packages\\sklearn\\utils\\validation.py:2739: UserWarning: X does not have valid feature names, but LGBMClassifier was fitted with feature names\n",
      "  warnings.warn(\n"
     ]
    },
    {
     "name": "stdout",
     "output_type": "stream",
     "text": [
      "[LightGBM] [Info] Number of positive: 5371, number of negative: 1628\n",
      "[LightGBM] [Info] Auto-choosing col-wise multi-threading, the overhead of testing was 0.000839 seconds.\n",
      "You can set `force_col_wise=true` to remove the overhead.\n",
      "[LightGBM] [Info] Total Bins 3825\n",
      "[LightGBM] [Info] Number of data points in the train set: 6999, number of used features: 15\n",
      "[LightGBM] [Info] [binary:BoostFromScore]: pavg=0.767395 -> initscore=1.193662\n",
      "[LightGBM] [Info] Start training from score 1.193662\n",
      "[LightGBM] [Info] Number of positive: 5372, number of negative: 1627\n",
      "[LightGBM] [Info] Auto-choosing col-wise multi-threading, the overhead of testing was 0.000423 seconds.\n",
      "You can set `force_col_wise=true` to remove the overhead.\n",
      "[LightGBM] [Info] Total Bins 3825\n",
      "[LightGBM] [Info] Number of data points in the train set: 6999, number of used features: 15\n",
      "[LightGBM] [Info] [binary:BoostFromScore]: pavg=0.767538 -> initscore=1.194462\n",
      "[LightGBM] [Info] Start training from score 1.194462\n"
     ]
    },
    {
     "name": "stderr",
     "output_type": "stream",
     "text": [
      "C:\\Users\\PC\\Desktop\\ml_project\\venv\\lib\\site-packages\\sklearn\\utils\\validation.py:2739: UserWarning: X does not have valid feature names, but LGBMClassifier was fitted with feature names\n",
      "  warnings.warn(\n",
      "C:\\Users\\PC\\Desktop\\ml_project\\venv\\lib\\site-packages\\sklearn\\utils\\validation.py:2739: UserWarning: X does not have valid feature names, but LGBMClassifier was fitted with feature names\n",
      "  warnings.warn(\n"
     ]
    },
    {
     "name": "stdout",
     "output_type": "stream",
     "text": [
      "[LightGBM] [Info] Number of positive: 5371, number of negative: 1627\n",
      "[LightGBM] [Info] Auto-choosing col-wise multi-threading, the overhead of testing was 0.000659 seconds.\n",
      "You can set `force_col_wise=true` to remove the overhead.\n",
      "[LightGBM] [Info] Total Bins 3825\n",
      "[LightGBM] [Info] Number of data points in the train set: 6998, number of used features: 15\n",
      "[LightGBM] [Info] [binary:BoostFromScore]: pavg=0.767505 -> initscore=1.194276\n",
      "[LightGBM] [Info] Start training from score 1.194276\n"
     ]
    },
    {
     "name": "stderr",
     "output_type": "stream",
     "text": [
      "C:\\Users\\PC\\Desktop\\ml_project\\venv\\lib\\site-packages\\sklearn\\utils\\validation.py:2739: UserWarning: X does not have valid feature names, but LGBMClassifier was fitted with feature names\n",
      "  warnings.warn(\n",
      "C:\\Users\\PC\\Desktop\\ml_project\\venv\\lib\\site-packages\\sklearn\\utils\\validation.py:2739: UserWarning: X does not have valid feature names, but LGBMClassifier was fitted with feature names\n",
      "  warnings.warn(\n"
     ]
    },
    {
     "name": "stdout",
     "output_type": "stream",
     "text": [
      "[LightGBM] [Info] Number of positive: 5371, number of negative: 1627\n",
      "[LightGBM] [Info] Auto-choosing col-wise multi-threading, the overhead of testing was 0.000594 seconds.\n",
      "You can set `force_col_wise=true` to remove the overhead.\n",
      "[LightGBM] [Info] Total Bins 3825\n",
      "[LightGBM] [Info] Number of data points in the train set: 6998, number of used features: 15\n",
      "[LightGBM] [Info] [binary:BoostFromScore]: pavg=0.767505 -> initscore=1.194276\n",
      "[LightGBM] [Info] Start training from score 1.194276\n",
      "[LightGBM] [Info] Number of positive: 5371, number of negative: 1627\n",
      "[LightGBM] [Info] Auto-choosing col-wise multi-threading, the overhead of testing was 0.000790 seconds.\n",
      "You can set `force_col_wise=true` to remove the overhead.\n",
      "[LightGBM] [Info] Total Bins 3825\n",
      "[LightGBM] [Info] Number of data points in the train set: 6998, number of used features: 15\n",
      "[LightGBM] [Info] [binary:BoostFromScore]: pavg=0.767505 -> initscore=1.194276\n",
      "[LightGBM] [Info] Start training from score 1.194276\n"
     ]
    },
    {
     "name": "stderr",
     "output_type": "stream",
     "text": [
      "C:\\Users\\PC\\Desktop\\ml_project\\venv\\lib\\site-packages\\sklearn\\utils\\validation.py:2739: UserWarning: X does not have valid feature names, but LGBMClassifier was fitted with feature names\n",
      "  warnings.warn(\n"
     ]
    },
    {
     "name": "stdout",
     "output_type": "stream",
     "text": [
      "[LightGBM] [Info] Number of positive: 5371, number of negative: 1628\n",
      "[LightGBM] [Info] Auto-choosing col-wise multi-threading, the overhead of testing was 0.000664 seconds.\n",
      "You can set `force_col_wise=true` to remove the overhead.\n",
      "[LightGBM] [Info] Total Bins 3825\n",
      "[LightGBM] [Info] Number of data points in the train set: 6999, number of used features: 15\n",
      "[LightGBM] [Info] [binary:BoostFromScore]: pavg=0.767395 -> initscore=1.193662\n",
      "[LightGBM] [Info] Start training from score 1.193662\n"
     ]
    },
    {
     "name": "stderr",
     "output_type": "stream",
     "text": [
      "C:\\Users\\PC\\Desktop\\ml_project\\venv\\lib\\site-packages\\sklearn\\utils\\validation.py:2739: UserWarning: X does not have valid feature names, but LGBMClassifier was fitted with feature names\n",
      "  warnings.warn(\n"
     ]
    },
    {
     "name": "stdout",
     "output_type": "stream",
     "text": [
      "[LightGBM] [Info] Number of positive: 5372, number of negative: 1627\n",
      "[LightGBM] [Info] Auto-choosing col-wise multi-threading, the overhead of testing was 0.000467 seconds.\n",
      "You can set `force_col_wise=true` to remove the overhead.\n",
      "[LightGBM] [Info] Total Bins 3825\n",
      "[LightGBM] [Info] Number of data points in the train set: 6999, number of used features: 15\n",
      "[LightGBM] [Info] [binary:BoostFromScore]: pavg=0.767538 -> initscore=1.194462\n",
      "[LightGBM] [Info] Start training from score 1.194462\n"
     ]
    },
    {
     "name": "stderr",
     "output_type": "stream",
     "text": [
      "C:\\Users\\PC\\Desktop\\ml_project\\venv\\lib\\site-packages\\sklearn\\utils\\validation.py:2739: UserWarning: X does not have valid feature names, but LGBMClassifier was fitted with feature names\n",
      "  warnings.warn(\n"
     ]
    },
    {
     "name": "stdout",
     "output_type": "stream",
     "text": [
      "[LightGBM] [Info] Number of positive: 5371, number of negative: 1627\n",
      "[LightGBM] [Info] Auto-choosing col-wise multi-threading, the overhead of testing was 0.000504 seconds.\n",
      "You can set `force_col_wise=true` to remove the overhead.\n",
      "[LightGBM] [Info] Total Bins 3825\n",
      "[LightGBM] [Info] Number of data points in the train set: 6998, number of used features: 15\n",
      "[LightGBM] [Info] [binary:BoostFromScore]: pavg=0.767505 -> initscore=1.194276\n",
      "[LightGBM] [Info] Start training from score 1.194276\n"
     ]
    },
    {
     "name": "stderr",
     "output_type": "stream",
     "text": [
      "C:\\Users\\PC\\Desktop\\ml_project\\venv\\lib\\site-packages\\sklearn\\utils\\validation.py:2739: UserWarning: X does not have valid feature names, but LGBMClassifier was fitted with feature names\n",
      "  warnings.warn(\n"
     ]
    },
    {
     "name": "stdout",
     "output_type": "stream",
     "text": [
      "[LightGBM] [Info] Number of positive: 5371, number of negative: 1627\n",
      "[LightGBM] [Info] Auto-choosing col-wise multi-threading, the overhead of testing was 0.000880 seconds.\n",
      "You can set `force_col_wise=true` to remove the overhead.\n",
      "[LightGBM] [Info] Total Bins 3825\n",
      "[LightGBM] [Info] Number of data points in the train set: 6998, number of used features: 15\n",
      "[LightGBM] [Info] [binary:BoostFromScore]: pavg=0.767505 -> initscore=1.194276\n",
      "[LightGBM] [Info] Start training from score 1.194276\n"
     ]
    },
    {
     "name": "stderr",
     "output_type": "stream",
     "text": [
      "C:\\Users\\PC\\Desktop\\ml_project\\venv\\lib\\site-packages\\sklearn\\utils\\validation.py:2739: UserWarning: X does not have valid feature names, but LGBMClassifier was fitted with feature names\n",
      "  warnings.warn(\n"
     ]
    },
    {
     "name": "stdout",
     "output_type": "stream",
     "text": [
      "[LightGBM] [Info] Number of positive: 5371, number of negative: 1627\n",
      "[LightGBM] [Info] Auto-choosing col-wise multi-threading, the overhead of testing was 0.000832 seconds.\n",
      "You can set `force_col_wise=true` to remove the overhead.\n",
      "[LightGBM] [Info] Total Bins 3825\n",
      "[LightGBM] [Info] Number of data points in the train set: 6998, number of used features: 15\n",
      "[LightGBM] [Info] [binary:BoostFromScore]: pavg=0.767505 -> initscore=1.194276\n",
      "[LightGBM] [Info] Start training from score 1.194276\n"
     ]
    },
    {
     "name": "stderr",
     "output_type": "stream",
     "text": [
      "C:\\Users\\PC\\Desktop\\ml_project\\venv\\lib\\site-packages\\sklearn\\utils\\validation.py:2739: UserWarning: X does not have valid feature names, but LGBMClassifier was fitted with feature names\n",
      "  warnings.warn(\n"
     ]
    },
    {
     "name": "stdout",
     "output_type": "stream",
     "text": [
      "[LightGBM] [Info] Number of positive: 5371, number of negative: 1628\n",
      "[LightGBM] [Info] Auto-choosing col-wise multi-threading, the overhead of testing was 0.000973 seconds.\n",
      "You can set `force_col_wise=true` to remove the overhead.\n",
      "[LightGBM] [Info] Total Bins 3825\n",
      "[LightGBM] [Info] Number of data points in the train set: 6999, number of used features: 15\n",
      "[LightGBM] [Info] [binary:BoostFromScore]: pavg=0.767395 -> initscore=1.193662\n",
      "[LightGBM] [Info] Start training from score 1.193662\n"
     ]
    },
    {
     "name": "stderr",
     "output_type": "stream",
     "text": [
      "C:\\Users\\PC\\Desktop\\ml_project\\venv\\lib\\site-packages\\sklearn\\utils\\validation.py:2739: UserWarning: X does not have valid feature names, but LGBMClassifier was fitted with feature names\n",
      "  warnings.warn(\n"
     ]
    },
    {
     "name": "stdout",
     "output_type": "stream",
     "text": [
      "[LightGBM] [Info] Number of positive: 5372, number of negative: 1627\n",
      "[LightGBM] [Info] Auto-choosing col-wise multi-threading, the overhead of testing was 0.001020 seconds.\n",
      "You can set `force_col_wise=true` to remove the overhead.\n",
      "[LightGBM] [Info] Total Bins 3825\n",
      "[LightGBM] [Info] Number of data points in the train set: 6999, number of used features: 15\n",
      "[LightGBM] [Info] [binary:BoostFromScore]: pavg=0.767538 -> initscore=1.194462\n",
      "[LightGBM] [Info] Start training from score 1.194462\n"
     ]
    },
    {
     "name": "stderr",
     "output_type": "stream",
     "text": [
      "C:\\Users\\PC\\Desktop\\ml_project\\venv\\lib\\site-packages\\sklearn\\utils\\validation.py:2739: UserWarning: X does not have valid feature names, but LGBMClassifier was fitted with feature names\n",
      "  warnings.warn(\n"
     ]
    },
    {
     "name": "stdout",
     "output_type": "stream",
     "text": [
      "[LightGBM] [Info] Number of positive: 5371, number of negative: 1627\n",
      "[LightGBM] [Info] Auto-choosing col-wise multi-threading, the overhead of testing was 0.000781 seconds.\n",
      "You can set `force_col_wise=true` to remove the overhead.\n",
      "[LightGBM] [Info] Total Bins 3825\n",
      "[LightGBM] [Info] Number of data points in the train set: 6998, number of used features: 15\n",
      "[LightGBM] [Info] [binary:BoostFromScore]: pavg=0.767505 -> initscore=1.194276\n",
      "[LightGBM] [Info] Start training from score 1.194276\n"
     ]
    },
    {
     "name": "stderr",
     "output_type": "stream",
     "text": [
      "C:\\Users\\PC\\Desktop\\ml_project\\venv\\lib\\site-packages\\sklearn\\utils\\validation.py:2739: UserWarning: X does not have valid feature names, but LGBMClassifier was fitted with feature names\n",
      "  warnings.warn(\n"
     ]
    },
    {
     "name": "stdout",
     "output_type": "stream",
     "text": [
      "[LightGBM] [Info] Number of positive: 5371, number of negative: 1627\n",
      "[LightGBM] [Info] Auto-choosing col-wise multi-threading, the overhead of testing was 0.000732 seconds.\n",
      "You can set `force_col_wise=true` to remove the overhead.\n",
      "[LightGBM] [Info] Total Bins 3825\n",
      "[LightGBM] [Info] Number of data points in the train set: 6998, number of used features: 15\n",
      "[LightGBM] [Info] [binary:BoostFromScore]: pavg=0.767505 -> initscore=1.194276\n",
      "[LightGBM] [Info] Start training from score 1.194276\n"
     ]
    },
    {
     "name": "stderr",
     "output_type": "stream",
     "text": [
      "C:\\Users\\PC\\Desktop\\ml_project\\venv\\lib\\site-packages\\sklearn\\utils\\validation.py:2739: UserWarning: X does not have valid feature names, but LGBMClassifier was fitted with feature names\n",
      "  warnings.warn(\n"
     ]
    },
    {
     "name": "stdout",
     "output_type": "stream",
     "text": [
      "[LightGBM] [Info] Number of positive: 5371, number of negative: 1627\n",
      "[LightGBM] [Info] Auto-choosing col-wise multi-threading, the overhead of testing was 0.000466 seconds.\n",
      "You can set `force_col_wise=true` to remove the overhead.\n",
      "[LightGBM] [Info] Total Bins 3825\n",
      "[LightGBM] [Info] Number of data points in the train set: 6998, number of used features: 15\n",
      "[LightGBM] [Info] [binary:BoostFromScore]: pavg=0.767505 -> initscore=1.194276\n",
      "[LightGBM] [Info] Start training from score 1.194276\n"
     ]
    },
    {
     "name": "stderr",
     "output_type": "stream",
     "text": [
      "C:\\Users\\PC\\Desktop\\ml_project\\venv\\lib\\site-packages\\sklearn\\utils\\validation.py:2739: UserWarning: X does not have valid feature names, but LGBMClassifier was fitted with feature names\n",
      "  warnings.warn(\n"
     ]
    },
    {
     "name": "stdout",
     "output_type": "stream",
     "text": [
      "[LightGBM] [Info] Number of positive: 5371, number of negative: 1628\n",
      "[LightGBM] [Info] Auto-choosing col-wise multi-threading, the overhead of testing was 0.000579 seconds.\n",
      "You can set `force_col_wise=true` to remove the overhead.\n",
      "[LightGBM] [Info] Total Bins 3825\n",
      "[LightGBM] [Info] Number of data points in the train set: 6999, number of used features: 15\n",
      "[LightGBM] [Info] [binary:BoostFromScore]: pavg=0.767395 -> initscore=1.193662\n",
      "[LightGBM] [Info] Start training from score 1.193662\n"
     ]
    },
    {
     "name": "stderr",
     "output_type": "stream",
     "text": [
      "C:\\Users\\PC\\Desktop\\ml_project\\venv\\lib\\site-packages\\sklearn\\utils\\validation.py:2739: UserWarning: X does not have valid feature names, but LGBMClassifier was fitted with feature names\n",
      "  warnings.warn(\n"
     ]
    },
    {
     "name": "stdout",
     "output_type": "stream",
     "text": [
      "[LightGBM] [Info] Number of positive: 5372, number of negative: 1627\n",
      "[LightGBM] [Info] Auto-choosing col-wise multi-threading, the overhead of testing was 0.000488 seconds.\n",
      "You can set `force_col_wise=true` to remove the overhead.\n",
      "[LightGBM] [Info] Total Bins 3825\n",
      "[LightGBM] [Info] Number of data points in the train set: 6999, number of used features: 15\n",
      "[LightGBM] [Info] [binary:BoostFromScore]: pavg=0.767538 -> initscore=1.194462\n",
      "[LightGBM] [Info] Start training from score 1.194462\n"
     ]
    },
    {
     "name": "stderr",
     "output_type": "stream",
     "text": [
      "C:\\Users\\PC\\Desktop\\ml_project\\venv\\lib\\site-packages\\sklearn\\utils\\validation.py:2739: UserWarning: X does not have valid feature names, but LGBMClassifier was fitted with feature names\n",
      "  warnings.warn(\n"
     ]
    },
    {
     "name": "stdout",
     "output_type": "stream",
     "text": [
      "[LightGBM] [Info] Number of positive: 5371, number of negative: 1627\n",
      "[LightGBM] [Info] Auto-choosing col-wise multi-threading, the overhead of testing was 0.000772 seconds.\n",
      "You can set `force_col_wise=true` to remove the overhead.\n",
      "[LightGBM] [Info] Total Bins 3825\n",
      "[LightGBM] [Info] Number of data points in the train set: 6998, number of used features: 15\n",
      "[LightGBM] [Info] [binary:BoostFromScore]: pavg=0.767505 -> initscore=1.194276\n",
      "[LightGBM] [Info] Start training from score 1.194276\n"
     ]
    },
    {
     "name": "stderr",
     "output_type": "stream",
     "text": [
      "C:\\Users\\PC\\Desktop\\ml_project\\venv\\lib\\site-packages\\sklearn\\utils\\validation.py:2739: UserWarning: X does not have valid feature names, but LGBMClassifier was fitted with feature names\n",
      "  warnings.warn(\n"
     ]
    },
    {
     "name": "stdout",
     "output_type": "stream",
     "text": [
      "[LightGBM] [Info] Number of positive: 5371, number of negative: 1627\n",
      "[LightGBM] [Info] Auto-choosing col-wise multi-threading, the overhead of testing was 0.000965 seconds.\n",
      "You can set `force_col_wise=true` to remove the overhead.\n",
      "[LightGBM] [Info] Total Bins 3825\n",
      "[LightGBM] [Info] Number of data points in the train set: 6998, number of used features: 15\n",
      "[LightGBM] [Info] [binary:BoostFromScore]: pavg=0.767505 -> initscore=1.194276\n",
      "[LightGBM] [Info] Start training from score 1.194276\n"
     ]
    },
    {
     "name": "stderr",
     "output_type": "stream",
     "text": [
      "C:\\Users\\PC\\Desktop\\ml_project\\venv\\lib\\site-packages\\sklearn\\utils\\validation.py:2739: UserWarning: X does not have valid feature names, but LGBMClassifier was fitted with feature names\n",
      "  warnings.warn(\n"
     ]
    },
    {
     "name": "stdout",
     "output_type": "stream",
     "text": [
      "[LightGBM] [Info] Number of positive: 5371, number of negative: 1627\n",
      "[LightGBM] [Info] Auto-choosing col-wise multi-threading, the overhead of testing was 0.000474 seconds.\n",
      "You can set `force_col_wise=true` to remove the overhead.\n",
      "[LightGBM] [Info] Total Bins 3825\n",
      "[LightGBM] [Info] Number of data points in the train set: 6998, number of used features: 15\n",
      "[LightGBM] [Info] [binary:BoostFromScore]: pavg=0.767505 -> initscore=1.194276\n",
      "[LightGBM] [Info] Start training from score 1.194276\n"
     ]
    },
    {
     "name": "stderr",
     "output_type": "stream",
     "text": [
      "C:\\Users\\PC\\Desktop\\ml_project\\venv\\lib\\site-packages\\sklearn\\utils\\validation.py:2739: UserWarning: X does not have valid feature names, but LGBMClassifier was fitted with feature names\n",
      "  warnings.warn(\n"
     ]
    },
    {
     "name": "stdout",
     "output_type": "stream",
     "text": [
      "[LightGBM] [Info] Number of positive: 5371, number of negative: 1628\n",
      "[LightGBM] [Info] Auto-choosing col-wise multi-threading, the overhead of testing was 0.000574 seconds.\n",
      "You can set `force_col_wise=true` to remove the overhead.\n",
      "[LightGBM] [Info] Total Bins 3825\n",
      "[LightGBM] [Info] Number of data points in the train set: 6999, number of used features: 15\n",
      "[LightGBM] [Info] [binary:BoostFromScore]: pavg=0.767395 -> initscore=1.193662\n",
      "[LightGBM] [Info] Start training from score 1.193662\n"
     ]
    },
    {
     "name": "stderr",
     "output_type": "stream",
     "text": [
      "C:\\Users\\PC\\Desktop\\ml_project\\venv\\lib\\site-packages\\sklearn\\utils\\validation.py:2739: UserWarning: X does not have valid feature names, but LGBMClassifier was fitted with feature names\n",
      "  warnings.warn(\n"
     ]
    },
    {
     "name": "stdout",
     "output_type": "stream",
     "text": [
      "[LightGBM] [Info] Number of positive: 5372, number of negative: 1627\n",
      "[LightGBM] [Info] Auto-choosing col-wise multi-threading, the overhead of testing was 0.000425 seconds.\n",
      "You can set `force_col_wise=true` to remove the overhead.\n",
      "[LightGBM] [Info] Total Bins 3825\n",
      "[LightGBM] [Info] Number of data points in the train set: 6999, number of used features: 15\n",
      "[LightGBM] [Info] [binary:BoostFromScore]: pavg=0.767538 -> initscore=1.194462\n",
      "[LightGBM] [Info] Start training from score 1.194462\n"
     ]
    },
    {
     "name": "stderr",
     "output_type": "stream",
     "text": [
      "C:\\Users\\PC\\Desktop\\ml_project\\venv\\lib\\site-packages\\sklearn\\utils\\validation.py:2739: UserWarning: X does not have valid feature names, but LGBMClassifier was fitted with feature names\n",
      "  warnings.warn(\n"
     ]
    },
    {
     "name": "stdout",
     "output_type": "stream",
     "text": [
      "[LightGBM] [Info] Number of positive: 5371, number of negative: 1627\n",
      "[LightGBM] [Info] Auto-choosing col-wise multi-threading, the overhead of testing was 0.000623 seconds.\n",
      "You can set `force_col_wise=true` to remove the overhead.\n",
      "[LightGBM] [Info] Total Bins 3825\n",
      "[LightGBM] [Info] Number of data points in the train set: 6998, number of used features: 15\n",
      "[LightGBM] [Info] [binary:BoostFromScore]: pavg=0.767505 -> initscore=1.194276\n",
      "[LightGBM] [Info] Start training from score 1.194276\n"
     ]
    },
    {
     "name": "stderr",
     "output_type": "stream",
     "text": [
      "C:\\Users\\PC\\Desktop\\ml_project\\venv\\lib\\site-packages\\sklearn\\utils\\validation.py:2739: UserWarning: X does not have valid feature names, but LGBMClassifier was fitted with feature names\n",
      "  warnings.warn(\n"
     ]
    },
    {
     "name": "stdout",
     "output_type": "stream",
     "text": [
      "[LightGBM] [Info] Number of positive: 5371, number of negative: 1627\n",
      "[LightGBM] [Info] Auto-choosing col-wise multi-threading, the overhead of testing was 0.000829 seconds.\n",
      "You can set `force_col_wise=true` to remove the overhead.\n",
      "[LightGBM] [Info] Total Bins 3825\n",
      "[LightGBM] [Info] Number of data points in the train set: 6998, number of used features: 15\n",
      "[LightGBM] [Info] [binary:BoostFromScore]: pavg=0.767505 -> initscore=1.194276\n",
      "[LightGBM] [Info] Start training from score 1.194276\n"
     ]
    },
    {
     "name": "stderr",
     "output_type": "stream",
     "text": [
      "C:\\Users\\PC\\Desktop\\ml_project\\venv\\lib\\site-packages\\sklearn\\utils\\validation.py:2739: UserWarning: X does not have valid feature names, but LGBMClassifier was fitted with feature names\n",
      "  warnings.warn(\n"
     ]
    },
    {
     "name": "stdout",
     "output_type": "stream",
     "text": [
      "[LightGBM] [Info] Number of positive: 5371, number of negative: 1627\n",
      "[LightGBM] [Info] Auto-choosing col-wise multi-threading, the overhead of testing was 0.000678 seconds.\n",
      "You can set `force_col_wise=true` to remove the overhead.\n",
      "[LightGBM] [Info] Total Bins 3825\n",
      "[LightGBM] [Info] Number of data points in the train set: 6998, number of used features: 15\n",
      "[LightGBM] [Info] [binary:BoostFromScore]: pavg=0.767505 -> initscore=1.194276\n",
      "[LightGBM] [Info] Start training from score 1.194276\n"
     ]
    },
    {
     "name": "stderr",
     "output_type": "stream",
     "text": [
      "C:\\Users\\PC\\Desktop\\ml_project\\venv\\lib\\site-packages\\sklearn\\utils\\validation.py:2739: UserWarning: X does not have valid feature names, but LGBMClassifier was fitted with feature names\n",
      "  warnings.warn(\n"
     ]
    },
    {
     "name": "stdout",
     "output_type": "stream",
     "text": [
      "[LightGBM] [Info] Number of positive: 5371, number of negative: 1628\n",
      "[LightGBM] [Info] Auto-choosing col-wise multi-threading, the overhead of testing was 0.000730 seconds.\n",
      "You can set `force_col_wise=true` to remove the overhead.\n",
      "[LightGBM] [Info] Total Bins 3825\n",
      "[LightGBM] [Info] Number of data points in the train set: 6999, number of used features: 15\n",
      "[LightGBM] [Info] [binary:BoostFromScore]: pavg=0.767395 -> initscore=1.193662\n",
      "[LightGBM] [Info] Start training from score 1.193662\n"
     ]
    },
    {
     "name": "stderr",
     "output_type": "stream",
     "text": [
      "C:\\Users\\PC\\Desktop\\ml_project\\venv\\lib\\site-packages\\sklearn\\utils\\validation.py:2739: UserWarning: X does not have valid feature names, but LGBMClassifier was fitted with feature names\n",
      "  warnings.warn(\n"
     ]
    },
    {
     "name": "stdout",
     "output_type": "stream",
     "text": [
      "[LightGBM] [Info] Number of positive: 5372, number of negative: 1627\n",
      "[LightGBM] [Info] Auto-choosing col-wise multi-threading, the overhead of testing was 0.000875 seconds.\n",
      "You can set `force_col_wise=true` to remove the overhead.\n",
      "[LightGBM] [Info] Total Bins 3825\n",
      "[LightGBM] [Info] Number of data points in the train set: 6999, number of used features: 15\n",
      "[LightGBM] [Info] [binary:BoostFromScore]: pavg=0.767538 -> initscore=1.194462\n",
      "[LightGBM] [Info] Start training from score 1.194462\n"
     ]
    },
    {
     "name": "stderr",
     "output_type": "stream",
     "text": [
      "C:\\Users\\PC\\Desktop\\ml_project\\venv\\lib\\site-packages\\sklearn\\utils\\validation.py:2739: UserWarning: X does not have valid feature names, but LGBMClassifier was fitted with feature names\n",
      "  warnings.warn(\n",
      "C:\\Users\\PC\\Desktop\\ml_project\\venv\\lib\\site-packages\\sklearn\\utils\\validation.py:2739: UserWarning: X does not have valid feature names, but LGBMClassifier was fitted with feature names\n",
      "  warnings.warn(\n"
     ]
    },
    {
     "name": "stdout",
     "output_type": "stream",
     "text": [
      "[LightGBM] [Info] Number of positive: 5371, number of negative: 1627\n",
      "[LightGBM] [Info] Auto-choosing col-wise multi-threading, the overhead of testing was 0.000918 seconds.\n",
      "You can set `force_col_wise=true` to remove the overhead.\n",
      "[LightGBM] [Info] Total Bins 3825\n",
      "[LightGBM] [Info] Number of data points in the train set: 6998, number of used features: 15\n",
      "[LightGBM] [Info] [binary:BoostFromScore]: pavg=0.767505 -> initscore=1.194276\n",
      "[LightGBM] [Info] Start training from score 1.194276\n",
      "[LightGBM] [Info] Number of positive: 5371, number of negative: 1627\n",
      "[LightGBM] [Info] Auto-choosing col-wise multi-threading, the overhead of testing was 0.000692 seconds.\n",
      "You can set `force_col_wise=true` to remove the overhead.\n",
      "[LightGBM] [Info] Total Bins 3825\n",
      "[LightGBM] [Info] Number of data points in the train set: 6998, number of used features: 15\n",
      "[LightGBM] [Info] [binary:BoostFromScore]: pavg=0.767505 -> initscore=1.194276\n",
      "[LightGBM] [Info] Start training from score 1.194276\n"
     ]
    },
    {
     "name": "stderr",
     "output_type": "stream",
     "text": [
      "C:\\Users\\PC\\Desktop\\ml_project\\venv\\lib\\site-packages\\sklearn\\utils\\validation.py:2739: UserWarning: X does not have valid feature names, but LGBMClassifier was fitted with feature names\n",
      "  warnings.warn(\n",
      "C:\\Users\\PC\\Desktop\\ml_project\\venv\\lib\\site-packages\\sklearn\\utils\\validation.py:2739: UserWarning: X does not have valid feature names, but LGBMClassifier was fitted with feature names\n",
      "  warnings.warn(\n"
     ]
    },
    {
     "name": "stdout",
     "output_type": "stream",
     "text": [
      "[LightGBM] [Info] Number of positive: 5371, number of negative: 1627\n",
      "[LightGBM] [Info] Auto-choosing col-wise multi-threading, the overhead of testing was 0.000547 seconds.\n",
      "You can set `force_col_wise=true` to remove the overhead.\n",
      "[LightGBM] [Info] Total Bins 3825\n",
      "[LightGBM] [Info] Number of data points in the train set: 6998, number of used features: 15\n",
      "[LightGBM] [Info] [binary:BoostFromScore]: pavg=0.767505 -> initscore=1.194276\n",
      "[LightGBM] [Info] Start training from score 1.194276\n",
      "[LightGBM] [Info] Number of positive: 5371, number of negative: 1628\n",
      "[LightGBM] [Info] Auto-choosing col-wise multi-threading, the overhead of testing was 0.000559 seconds.\n",
      "You can set `force_col_wise=true` to remove the overhead.\n",
      "[LightGBM] [Info] Total Bins 3825\n",
      "[LightGBM] [Info] Number of data points in the train set: 6999, number of used features: 15\n",
      "[LightGBM] [Info] [binary:BoostFromScore]: pavg=0.767395 -> initscore=1.193662\n",
      "[LightGBM] [Info] Start training from score 1.193662\n"
     ]
    },
    {
     "name": "stderr",
     "output_type": "stream",
     "text": [
      "C:\\Users\\PC\\Desktop\\ml_project\\venv\\lib\\site-packages\\sklearn\\utils\\validation.py:2739: UserWarning: X does not have valid feature names, but LGBMClassifier was fitted with feature names\n",
      "  warnings.warn(\n",
      "C:\\Users\\PC\\Desktop\\ml_project\\venv\\lib\\site-packages\\sklearn\\utils\\validation.py:2739: UserWarning: X does not have valid feature names, but LGBMClassifier was fitted with feature names\n",
      "  warnings.warn(\n"
     ]
    },
    {
     "name": "stdout",
     "output_type": "stream",
     "text": [
      "[LightGBM] [Info] Number of positive: 5372, number of negative: 1627\n",
      "[LightGBM] [Info] Auto-choosing col-wise multi-threading, the overhead of testing was 0.001041 seconds.\n",
      "You can set `force_col_wise=true` to remove the overhead.\n",
      "[LightGBM] [Info] Total Bins 3825\n",
      "[LightGBM] [Info] Number of data points in the train set: 6999, number of used features: 15\n",
      "[LightGBM] [Info] [binary:BoostFromScore]: pavg=0.767538 -> initscore=1.194462\n",
      "[LightGBM] [Info] Start training from score 1.194462\n",
      "[LightGBM] [Info] Number of positive: 5371, number of negative: 1627\n",
      "[LightGBM] [Info] Auto-choosing col-wise multi-threading, the overhead of testing was 0.000582 seconds.\n",
      "You can set `force_col_wise=true` to remove the overhead.\n",
      "[LightGBM] [Info] Total Bins 3825\n",
      "[LightGBM] [Info] Number of data points in the train set: 6998, number of used features: 15\n",
      "[LightGBM] [Info] [binary:BoostFromScore]: pavg=0.767505 -> initscore=1.194276\n",
      "[LightGBM] [Info] Start training from score 1.194276\n"
     ]
    },
    {
     "name": "stderr",
     "output_type": "stream",
     "text": [
      "C:\\Users\\PC\\Desktop\\ml_project\\venv\\lib\\site-packages\\sklearn\\utils\\validation.py:2739: UserWarning: X does not have valid feature names, but LGBMClassifier was fitted with feature names\n",
      "  warnings.warn(\n",
      "C:\\Users\\PC\\Desktop\\ml_project\\venv\\lib\\site-packages\\sklearn\\utils\\validation.py:2739: UserWarning: X does not have valid feature names, but LGBMClassifier was fitted with feature names\n",
      "  warnings.warn(\n"
     ]
    },
    {
     "name": "stdout",
     "output_type": "stream",
     "text": [
      "[LightGBM] [Info] Number of positive: 5371, number of negative: 1627\n",
      "[LightGBM] [Info] Auto-choosing col-wise multi-threading, the overhead of testing was 0.000834 seconds.\n",
      "You can set `force_col_wise=true` to remove the overhead.\n",
      "[LightGBM] [Info] Total Bins 3825\n",
      "[LightGBM] [Info] Number of data points in the train set: 6998, number of used features: 15\n",
      "[LightGBM] [Info] [binary:BoostFromScore]: pavg=0.767505 -> initscore=1.194276\n",
      "[LightGBM] [Info] Start training from score 1.194276\n",
      "[LightGBM] [Info] Number of positive: 5371, number of negative: 1627\n",
      "[LightGBM] [Info] Auto-choosing col-wise multi-threading, the overhead of testing was 0.000543 seconds.\n",
      "You can set `force_col_wise=true` to remove the overhead.\n",
      "[LightGBM] [Info] Total Bins 3825\n",
      "[LightGBM] [Info] Number of data points in the train set: 6998, number of used features: 15\n",
      "[LightGBM] [Info] [binary:BoostFromScore]: pavg=0.767505 -> initscore=1.194276\n",
      "[LightGBM] [Info] Start training from score 1.194276\n"
     ]
    },
    {
     "name": "stderr",
     "output_type": "stream",
     "text": [
      "C:\\Users\\PC\\Desktop\\ml_project\\venv\\lib\\site-packages\\sklearn\\utils\\validation.py:2739: UserWarning: X does not have valid feature names, but LGBMClassifier was fitted with feature names\n",
      "  warnings.warn(\n",
      "C:\\Users\\PC\\Desktop\\ml_project\\venv\\lib\\site-packages\\sklearn\\utils\\validation.py:2739: UserWarning: X does not have valid feature names, but LGBMClassifier was fitted with feature names\n",
      "  warnings.warn(\n"
     ]
    },
    {
     "name": "stdout",
     "output_type": "stream",
     "text": [
      "[LightGBM] [Info] Number of positive: 5371, number of negative: 1628\n",
      "[LightGBM] [Info] Auto-choosing col-wise multi-threading, the overhead of testing was 0.000844 seconds.\n",
      "You can set `force_col_wise=true` to remove the overhead.\n",
      "[LightGBM] [Info] Total Bins 3825\n",
      "[LightGBM] [Info] Number of data points in the train set: 6999, number of used features: 15\n",
      "[LightGBM] [Info] [binary:BoostFromScore]: pavg=0.767395 -> initscore=1.193662\n",
      "[LightGBM] [Info] Start training from score 1.193662\n",
      "[LightGBM] [Info] Number of positive: 5372, number of negative: 1627\n",
      "[LightGBM] [Info] Auto-choosing col-wise multi-threading, the overhead of testing was 0.000492 seconds.\n",
      "You can set `force_col_wise=true` to remove the overhead.\n",
      "[LightGBM] [Info] Total Bins 3825\n",
      "[LightGBM] [Info] Number of data points in the train set: 6999, number of used features: 15\n",
      "[LightGBM] [Info] [binary:BoostFromScore]: pavg=0.767538 -> initscore=1.194462\n",
      "[LightGBM] [Info] Start training from score 1.194462\n"
     ]
    },
    {
     "name": "stderr",
     "output_type": "stream",
     "text": [
      "C:\\Users\\PC\\Desktop\\ml_project\\venv\\lib\\site-packages\\sklearn\\utils\\validation.py:2739: UserWarning: X does not have valid feature names, but LGBMClassifier was fitted with feature names\n",
      "  warnings.warn(\n"
     ]
    },
    {
     "name": "stdout",
     "output_type": "stream",
     "text": [
      "[LightGBM] [Info] Number of positive: 5371, number of negative: 1627\n",
      "[LightGBM] [Info] Auto-choosing col-wise multi-threading, the overhead of testing was 0.000986 seconds.\n",
      "You can set `force_col_wise=true` to remove the overhead.\n",
      "[LightGBM] [Info] Total Bins 3825\n",
      "[LightGBM] [Info] Number of data points in the train set: 6998, number of used features: 15\n",
      "[LightGBM] [Info] [binary:BoostFromScore]: pavg=0.767505 -> initscore=1.194276\n",
      "[LightGBM] [Info] Start training from score 1.194276\n"
     ]
    },
    {
     "name": "stderr",
     "output_type": "stream",
     "text": [
      "C:\\Users\\PC\\Desktop\\ml_project\\venv\\lib\\site-packages\\sklearn\\utils\\validation.py:2739: UserWarning: X does not have valid feature names, but LGBMClassifier was fitted with feature names\n",
      "  warnings.warn(\n"
     ]
    },
    {
     "name": "stdout",
     "output_type": "stream",
     "text": [
      "[LightGBM] [Info] Number of positive: 5371, number of negative: 1627\n",
      "[LightGBM] [Info] Auto-choosing col-wise multi-threading, the overhead of testing was 0.000752 seconds.\n",
      "You can set `force_col_wise=true` to remove the overhead.\n",
      "[LightGBM] [Info] Total Bins 3825\n",
      "[LightGBM] [Info] Number of data points in the train set: 6998, number of used features: 15\n",
      "[LightGBM] [Info] [binary:BoostFromScore]: pavg=0.767505 -> initscore=1.194276\n",
      "[LightGBM] [Info] Start training from score 1.194276\n"
     ]
    },
    {
     "name": "stderr",
     "output_type": "stream",
     "text": [
      "C:\\Users\\PC\\Desktop\\ml_project\\venv\\lib\\site-packages\\sklearn\\utils\\validation.py:2739: UserWarning: X does not have valid feature names, but LGBMClassifier was fitted with feature names\n",
      "  warnings.warn(\n"
     ]
    },
    {
     "name": "stdout",
     "output_type": "stream",
     "text": [
      "[LightGBM] [Info] Number of positive: 5371, number of negative: 1627\n",
      "[LightGBM] [Info] Auto-choosing col-wise multi-threading, the overhead of testing was 0.000652 seconds.\n",
      "You can set `force_col_wise=true` to remove the overhead.\n",
      "[LightGBM] [Info] Total Bins 3825\n",
      "[LightGBM] [Info] Number of data points in the train set: 6998, number of used features: 15\n",
      "[LightGBM] [Info] [binary:BoostFromScore]: pavg=0.767505 -> initscore=1.194276\n",
      "[LightGBM] [Info] Start training from score 1.194276\n"
     ]
    },
    {
     "name": "stderr",
     "output_type": "stream",
     "text": [
      "C:\\Users\\PC\\Desktop\\ml_project\\venv\\lib\\site-packages\\sklearn\\utils\\validation.py:2739: UserWarning: X does not have valid feature names, but LGBMClassifier was fitted with feature names\n",
      "  warnings.warn(\n",
      "C:\\Users\\PC\\Desktop\\ml_project\\venv\\lib\\site-packages\\sklearn\\utils\\validation.py:2739: UserWarning: X does not have valid feature names, but LGBMClassifier was fitted with feature names\n",
      "  warnings.warn(\n"
     ]
    },
    {
     "name": "stdout",
     "output_type": "stream",
     "text": [
      "[LightGBM] [Info] Number of positive: 5371, number of negative: 1628\n",
      "[LightGBM] [Info] Auto-choosing col-wise multi-threading, the overhead of testing was 0.000834 seconds.\n",
      "You can set `force_col_wise=true` to remove the overhead.\n",
      "[LightGBM] [Info] Total Bins 3825\n",
      "[LightGBM] [Info] Number of data points in the train set: 6999, number of used features: 15\n",
      "[LightGBM] [Info] [binary:BoostFromScore]: pavg=0.767395 -> initscore=1.193662\n",
      "[LightGBM] [Info] Start training from score 1.193662\n",
      "[LightGBM] [Info] Number of positive: 5372, number of negative: 1627\n",
      "[LightGBM] [Info] Auto-choosing col-wise multi-threading, the overhead of testing was 0.000760 seconds.\n",
      "You can set `force_col_wise=true` to remove the overhead.\n",
      "[LightGBM] [Info] Total Bins 3825\n",
      "[LightGBM] [Info] Number of data points in the train set: 6999, number of used features: 15\n",
      "[LightGBM] [Info] [binary:BoostFromScore]: pavg=0.767538 -> initscore=1.194462\n",
      "[LightGBM] [Info] Start training from score 1.194462\n"
     ]
    },
    {
     "name": "stderr",
     "output_type": "stream",
     "text": [
      "C:\\Users\\PC\\Desktop\\ml_project\\venv\\lib\\site-packages\\sklearn\\utils\\validation.py:2739: UserWarning: X does not have valid feature names, but LGBMClassifier was fitted with feature names\n",
      "  warnings.warn(\n",
      "C:\\Users\\PC\\Desktop\\ml_project\\venv\\lib\\site-packages\\sklearn\\utils\\validation.py:2739: UserWarning: X does not have valid feature names, but LGBMClassifier was fitted with feature names\n",
      "  warnings.warn(\n"
     ]
    },
    {
     "name": "stdout",
     "output_type": "stream",
     "text": [
      "[LightGBM] [Info] Number of positive: 5371, number of negative: 1627\n",
      "[LightGBM] [Info] Auto-choosing col-wise multi-threading, the overhead of testing was 0.000651 seconds.\n",
      "You can set `force_col_wise=true` to remove the overhead.\n",
      "[LightGBM] [Info] Total Bins 3825\n",
      "[LightGBM] [Info] Number of data points in the train set: 6998, number of used features: 15\n",
      "[LightGBM] [Info] [binary:BoostFromScore]: pavg=0.767505 -> initscore=1.194276\n",
      "[LightGBM] [Info] Start training from score 1.194276\n",
      "[LightGBM] [Info] Number of positive: 5371, number of negative: 1627\n",
      "[LightGBM] [Info] Auto-choosing col-wise multi-threading, the overhead of testing was 0.000825 seconds.\n",
      "You can set `force_col_wise=true` to remove the overhead.\n",
      "[LightGBM] [Info] Total Bins 3825\n",
      "[LightGBM] [Info] Number of data points in the train set: 6998, number of used features: 15\n",
      "[LightGBM] [Info] [binary:BoostFromScore]: pavg=0.767505 -> initscore=1.194276\n",
      "[LightGBM] [Info] Start training from score 1.194276\n"
     ]
    },
    {
     "name": "stderr",
     "output_type": "stream",
     "text": [
      "C:\\Users\\PC\\Desktop\\ml_project\\venv\\lib\\site-packages\\sklearn\\utils\\validation.py:2739: UserWarning: X does not have valid feature names, but LGBMClassifier was fitted with feature names\n",
      "  warnings.warn(\n",
      "C:\\Users\\PC\\Desktop\\ml_project\\venv\\lib\\site-packages\\sklearn\\utils\\validation.py:2739: UserWarning: X does not have valid feature names, but LGBMClassifier was fitted with feature names\n",
      "  warnings.warn(\n"
     ]
    },
    {
     "name": "stdout",
     "output_type": "stream",
     "text": [
      "[LightGBM] [Info] Number of positive: 5371, number of negative: 1627\n",
      "[LightGBM] [Info] Auto-choosing col-wise multi-threading, the overhead of testing was 0.000611 seconds.\n",
      "You can set `force_col_wise=true` to remove the overhead.\n",
      "[LightGBM] [Info] Total Bins 3825\n",
      "[LightGBM] [Info] Number of data points in the train set: 6998, number of used features: 15\n",
      "[LightGBM] [Info] [binary:BoostFromScore]: pavg=0.767505 -> initscore=1.194276\n",
      "[LightGBM] [Info] Start training from score 1.194276\n",
      "[LightGBM] [Info] Number of positive: 5371, number of negative: 1628\n",
      "[LightGBM] [Info] Auto-choosing col-wise multi-threading, the overhead of testing was 0.000723 seconds.\n",
      "You can set `force_col_wise=true` to remove the overhead.\n",
      "[LightGBM] [Info] Total Bins 3825\n",
      "[LightGBM] [Info] Number of data points in the train set: 6999, number of used features: 15\n",
      "[LightGBM] [Info] [binary:BoostFromScore]: pavg=0.767395 -> initscore=1.193662\n",
      "[LightGBM] [Info] Start training from score 1.193662\n"
     ]
    },
    {
     "name": "stderr",
     "output_type": "stream",
     "text": [
      "C:\\Users\\PC\\Desktop\\ml_project\\venv\\lib\\site-packages\\sklearn\\utils\\validation.py:2739: UserWarning: X does not have valid feature names, but LGBMClassifier was fitted with feature names\n",
      "  warnings.warn(\n"
     ]
    },
    {
     "name": "stdout",
     "output_type": "stream",
     "text": [
      "[LightGBM] [Info] Number of positive: 5372, number of negative: 1627\n",
      "[LightGBM] [Info] Auto-choosing col-wise multi-threading, the overhead of testing was 0.000676 seconds.\n",
      "You can set `force_col_wise=true` to remove the overhead.\n",
      "[LightGBM] [Info] Total Bins 3825\n",
      "[LightGBM] [Info] Number of data points in the train set: 6999, number of used features: 15\n",
      "[LightGBM] [Info] [binary:BoostFromScore]: pavg=0.767538 -> initscore=1.194462\n",
      "[LightGBM] [Info] Start training from score 1.194462\n",
      "[LightGBM] [Info] Number of positive: 5371, number of negative: 1627\n",
      "[LightGBM] [Info] Auto-choosing col-wise multi-threading, the overhead of testing was 0.000761 seconds.\n",
      "You can set `force_col_wise=true` to remove the overhead.\n",
      "[LightGBM] [Info] Total Bins 3825\n",
      "[LightGBM] [Info] Number of data points in the train set: 6998, number of used features: 15\n",
      "[LightGBM] [Info] [binary:BoostFromScore]: pavg=0.767505 -> initscore=1.194276\n",
      "[LightGBM] [Info] Start training from score 1.194276\n"
     ]
    },
    {
     "name": "stderr",
     "output_type": "stream",
     "text": [
      "C:\\Users\\PC\\Desktop\\ml_project\\venv\\lib\\site-packages\\sklearn\\utils\\validation.py:2739: UserWarning: X does not have valid feature names, but LGBMClassifier was fitted with feature names\n",
      "  warnings.warn(\n",
      "C:\\Users\\PC\\Desktop\\ml_project\\venv\\lib\\site-packages\\sklearn\\utils\\validation.py:2739: UserWarning: X does not have valid feature names, but LGBMClassifier was fitted with feature names\n",
      "  warnings.warn(\n"
     ]
    },
    {
     "name": "stdout",
     "output_type": "stream",
     "text": [
      "[LightGBM] [Info] Number of positive: 5371, number of negative: 1627\n",
      "[LightGBM] [Info] Auto-choosing col-wise multi-threading, the overhead of testing was 0.000536 seconds.\n",
      "You can set `force_col_wise=true` to remove the overhead.\n",
      "[LightGBM] [Info] Total Bins 3825\n",
      "[LightGBM] [Info] Number of data points in the train set: 6998, number of used features: 15\n",
      "[LightGBM] [Info] [binary:BoostFromScore]: pavg=0.767505 -> initscore=1.194276\n",
      "[LightGBM] [Info] Start training from score 1.194276\n"
     ]
    },
    {
     "name": "stderr",
     "output_type": "stream",
     "text": [
      "C:\\Users\\PC\\Desktop\\ml_project\\venv\\lib\\site-packages\\sklearn\\utils\\validation.py:2739: UserWarning: X does not have valid feature names, but LGBMClassifier was fitted with feature names\n",
      "  warnings.warn(\n"
     ]
    },
    {
     "name": "stdout",
     "output_type": "stream",
     "text": [
      "[LightGBM] [Info] Number of positive: 5371, number of negative: 1627\n",
      "[LightGBM] [Info] Auto-choosing col-wise multi-threading, the overhead of testing was 0.000684 seconds.\n",
      "You can set `force_col_wise=true` to remove the overhead.\n",
      "[LightGBM] [Info] Total Bins 3825\n",
      "[LightGBM] [Info] Number of data points in the train set: 6998, number of used features: 15\n",
      "[LightGBM] [Info] [binary:BoostFromScore]: pavg=0.767505 -> initscore=1.194276\n",
      "[LightGBM] [Info] Start training from score 1.194276\n"
     ]
    },
    {
     "name": "stderr",
     "output_type": "stream",
     "text": [
      "C:\\Users\\PC\\Desktop\\ml_project\\venv\\lib\\site-packages\\sklearn\\utils\\validation.py:2739: UserWarning: X does not have valid feature names, but LGBMClassifier was fitted with feature names\n",
      "  warnings.warn(\n",
      "C:\\Users\\PC\\Desktop\\ml_project\\venv\\lib\\site-packages\\sklearn\\utils\\validation.py:2739: UserWarning: X does not have valid feature names, but LGBMClassifier was fitted with feature names\n",
      "  warnings.warn(\n"
     ]
    },
    {
     "name": "stdout",
     "output_type": "stream",
     "text": [
      "[LightGBM] [Info] Number of positive: 5371, number of negative: 1628\n",
      "[LightGBM] [Info] Auto-choosing col-wise multi-threading, the overhead of testing was 0.000521 seconds.\n",
      "You can set `force_col_wise=true` to remove the overhead.\n",
      "[LightGBM] [Info] Total Bins 3825\n",
      "[LightGBM] [Info] Number of data points in the train set: 6999, number of used features: 15\n",
      "[LightGBM] [Info] [binary:BoostFromScore]: pavg=0.767395 -> initscore=1.193662\n",
      "[LightGBM] [Info] Start training from score 1.193662\n",
      "[LightGBM] [Info] Number of positive: 5372, number of negative: 1627\n",
      "[LightGBM] [Info] Auto-choosing col-wise multi-threading, the overhead of testing was 0.000566 seconds.\n",
      "You can set `force_col_wise=true` to remove the overhead.\n",
      "[LightGBM] [Info] Total Bins 3825\n",
      "[LightGBM] [Info] Number of data points in the train set: 6999, number of used features: 15\n",
      "[LightGBM] [Info] [binary:BoostFromScore]: pavg=0.767538 -> initscore=1.194462\n",
      "[LightGBM] [Info] Start training from score 1.194462\n"
     ]
    },
    {
     "name": "stderr",
     "output_type": "stream",
     "text": [
      "C:\\Users\\PC\\Desktop\\ml_project\\venv\\lib\\site-packages\\sklearn\\utils\\validation.py:2739: UserWarning: X does not have valid feature names, but LGBMClassifier was fitted with feature names\n",
      "  warnings.warn(\n"
     ]
    },
    {
     "name": "stdout",
     "output_type": "stream",
     "text": [
      "[LightGBM] [Info] Number of positive: 5371, number of negative: 1627\n",
      "[LightGBM] [Info] Auto-choosing col-wise multi-threading, the overhead of testing was 0.000609 seconds.\n",
      "You can set `force_col_wise=true` to remove the overhead.\n",
      "[LightGBM] [Info] Total Bins 3825\n",
      "[LightGBM] [Info] Number of data points in the train set: 6998, number of used features: 15\n",
      "[LightGBM] [Info] [binary:BoostFromScore]: pavg=0.767505 -> initscore=1.194276\n",
      "[LightGBM] [Info] Start training from score 1.194276\n"
     ]
    },
    {
     "name": "stderr",
     "output_type": "stream",
     "text": [
      "C:\\Users\\PC\\Desktop\\ml_project\\venv\\lib\\site-packages\\sklearn\\utils\\validation.py:2739: UserWarning: X does not have valid feature names, but LGBMClassifier was fitted with feature names\n",
      "  warnings.warn(\n"
     ]
    },
    {
     "name": "stdout",
     "output_type": "stream",
     "text": [
      "[LightGBM] [Info] Number of positive: 5371, number of negative: 1627\n",
      "[LightGBM] [Info] Auto-choosing col-wise multi-threading, the overhead of testing was 0.000863 seconds.\n",
      "You can set `force_col_wise=true` to remove the overhead.\n",
      "[LightGBM] [Info] Total Bins 3825\n",
      "[LightGBM] [Info] Number of data points in the train set: 6998, number of used features: 15\n",
      "[LightGBM] [Info] [binary:BoostFromScore]: pavg=0.767505 -> initscore=1.194276\n",
      "[LightGBM] [Info] Start training from score 1.194276\n"
     ]
    },
    {
     "name": "stderr",
     "output_type": "stream",
     "text": [
      "C:\\Users\\PC\\Desktop\\ml_project\\venv\\lib\\site-packages\\sklearn\\utils\\validation.py:2739: UserWarning: X does not have valid feature names, but LGBMClassifier was fitted with feature names\n",
      "  warnings.warn(\n"
     ]
    },
    {
     "name": "stdout",
     "output_type": "stream",
     "text": [
      "[LightGBM] [Info] Number of positive: 5371, number of negative: 1627\n",
      "[LightGBM] [Info] Auto-choosing col-wise multi-threading, the overhead of testing was 0.000515 seconds.\n",
      "You can set `force_col_wise=true` to remove the overhead.\n",
      "[LightGBM] [Info] Total Bins 3825\n",
      "[LightGBM] [Info] Number of data points in the train set: 6998, number of used features: 15\n",
      "[LightGBM] [Info] [binary:BoostFromScore]: pavg=0.767505 -> initscore=1.194276\n",
      "[LightGBM] [Info] Start training from score 1.194276\n"
     ]
    },
    {
     "name": "stderr",
     "output_type": "stream",
     "text": [
      "C:\\Users\\PC\\Desktop\\ml_project\\venv\\lib\\site-packages\\sklearn\\utils\\validation.py:2739: UserWarning: X does not have valid feature names, but LGBMClassifier was fitted with feature names\n",
      "  warnings.warn(\n"
     ]
    },
    {
     "name": "stdout",
     "output_type": "stream",
     "text": [
      "[LightGBM] [Info] Number of positive: 5371, number of negative: 1628\n",
      "[LightGBM] [Info] Auto-choosing col-wise multi-threading, the overhead of testing was 0.000971 seconds.\n",
      "You can set `force_col_wise=true` to remove the overhead.\n",
      "[LightGBM] [Info] Total Bins 3825\n",
      "[LightGBM] [Info] Number of data points in the train set: 6999, number of used features: 15\n",
      "[LightGBM] [Info] [binary:BoostFromScore]: pavg=0.767395 -> initscore=1.193662\n",
      "[LightGBM] [Info] Start training from score 1.193662\n"
     ]
    },
    {
     "name": "stderr",
     "output_type": "stream",
     "text": [
      "C:\\Users\\PC\\Desktop\\ml_project\\venv\\lib\\site-packages\\sklearn\\utils\\validation.py:2739: UserWarning: X does not have valid feature names, but LGBMClassifier was fitted with feature names\n",
      "  warnings.warn(\n"
     ]
    },
    {
     "name": "stdout",
     "output_type": "stream",
     "text": [
      "[LightGBM] [Info] Number of positive: 5372, number of negative: 1627\n",
      "[LightGBM] [Info] Auto-choosing col-wise multi-threading, the overhead of testing was 0.000782 seconds.\n",
      "You can set `force_col_wise=true` to remove the overhead.\n",
      "[LightGBM] [Info] Total Bins 3825\n",
      "[LightGBM] [Info] Number of data points in the train set: 6999, number of used features: 15\n",
      "[LightGBM] [Info] [binary:BoostFromScore]: pavg=0.767538 -> initscore=1.194462\n",
      "[LightGBM] [Info] Start training from score 1.194462\n"
     ]
    },
    {
     "name": "stderr",
     "output_type": "stream",
     "text": [
      "C:\\Users\\PC\\Desktop\\ml_project\\venv\\lib\\site-packages\\sklearn\\utils\\validation.py:2739: UserWarning: X does not have valid feature names, but LGBMClassifier was fitted with feature names\n",
      "  warnings.warn(\n"
     ]
    },
    {
     "name": "stdout",
     "output_type": "stream",
     "text": [
      "[LightGBM] [Info] Number of positive: 5371, number of negative: 1627\n",
      "[LightGBM] [Info] Auto-choosing col-wise multi-threading, the overhead of testing was 0.000800 seconds.\n",
      "You can set `force_col_wise=true` to remove the overhead.\n",
      "[LightGBM] [Info] Total Bins 3825\n",
      "[LightGBM] [Info] Number of data points in the train set: 6998, number of used features: 15\n",
      "[LightGBM] [Info] [binary:BoostFromScore]: pavg=0.767505 -> initscore=1.194276\n",
      "[LightGBM] [Info] Start training from score 1.194276\n"
     ]
    },
    {
     "name": "stderr",
     "output_type": "stream",
     "text": [
      "C:\\Users\\PC\\Desktop\\ml_project\\venv\\lib\\site-packages\\sklearn\\utils\\validation.py:2739: UserWarning: X does not have valid feature names, but LGBMClassifier was fitted with feature names\n",
      "  warnings.warn(\n"
     ]
    },
    {
     "name": "stdout",
     "output_type": "stream",
     "text": [
      "[LightGBM] [Info] Number of positive: 5371, number of negative: 1627\n",
      "[LightGBM] [Info] Auto-choosing col-wise multi-threading, the overhead of testing was 0.000767 seconds.\n",
      "You can set `force_col_wise=true` to remove the overhead.\n",
      "[LightGBM] [Info] Total Bins 3825\n",
      "[LightGBM] [Info] Number of data points in the train set: 6998, number of used features: 15\n",
      "[LightGBM] [Info] [binary:BoostFromScore]: pavg=0.767505 -> initscore=1.194276\n",
      "[LightGBM] [Info] Start training from score 1.194276\n"
     ]
    },
    {
     "name": "stderr",
     "output_type": "stream",
     "text": [
      "C:\\Users\\PC\\Desktop\\ml_project\\venv\\lib\\site-packages\\sklearn\\utils\\validation.py:2739: UserWarning: X does not have valid feature names, but LGBMClassifier was fitted with feature names\n",
      "  warnings.warn(\n"
     ]
    },
    {
     "name": "stdout",
     "output_type": "stream",
     "text": [
      "[LightGBM] [Info] Number of positive: 5371, number of negative: 1627\n",
      "[LightGBM] [Info] Auto-choosing col-wise multi-threading, the overhead of testing was 0.001080 seconds.\n",
      "You can set `force_col_wise=true` to remove the overhead.\n",
      "[LightGBM] [Info] Total Bins 3825\n",
      "[LightGBM] [Info] Number of data points in the train set: 6998, number of used features: 15\n",
      "[LightGBM] [Info] [binary:BoostFromScore]: pavg=0.767505 -> initscore=1.194276\n",
      "[LightGBM] [Info] Start training from score 1.194276\n"
     ]
    },
    {
     "name": "stderr",
     "output_type": "stream",
     "text": [
      "C:\\Users\\PC\\Desktop\\ml_project\\venv\\lib\\site-packages\\sklearn\\utils\\validation.py:2739: UserWarning: X does not have valid feature names, but LGBMClassifier was fitted with feature names\n",
      "  warnings.warn(\n"
     ]
    },
    {
     "name": "stdout",
     "output_type": "stream",
     "text": [
      "[LightGBM] [Info] Number of positive: 5371, number of negative: 1628\n",
      "[LightGBM] [Info] Auto-choosing col-wise multi-threading, the overhead of testing was 0.000718 seconds.\n",
      "You can set `force_col_wise=true` to remove the overhead.\n",
      "[LightGBM] [Info] Total Bins 3825\n",
      "[LightGBM] [Info] Number of data points in the train set: 6999, number of used features: 15\n",
      "[LightGBM] [Info] [binary:BoostFromScore]: pavg=0.767395 -> initscore=1.193662\n",
      "[LightGBM] [Info] Start training from score 1.193662\n"
     ]
    },
    {
     "name": "stderr",
     "output_type": "stream",
     "text": [
      "C:\\Users\\PC\\Desktop\\ml_project\\venv\\lib\\site-packages\\sklearn\\utils\\validation.py:2739: UserWarning: X does not have valid feature names, but LGBMClassifier was fitted with feature names\n",
      "  warnings.warn(\n"
     ]
    },
    {
     "name": "stdout",
     "output_type": "stream",
     "text": [
      "[LightGBM] [Info] Number of positive: 5372, number of negative: 1627\n",
      "[LightGBM] [Info] Auto-choosing col-wise multi-threading, the overhead of testing was 0.000653 seconds.\n",
      "You can set `force_col_wise=true` to remove the overhead.\n",
      "[LightGBM] [Info] Total Bins 3825\n",
      "[LightGBM] [Info] Number of data points in the train set: 6999, number of used features: 15\n",
      "[LightGBM] [Info] [binary:BoostFromScore]: pavg=0.767538 -> initscore=1.194462\n",
      "[LightGBM] [Info] Start training from score 1.194462\n"
     ]
    },
    {
     "name": "stderr",
     "output_type": "stream",
     "text": [
      "C:\\Users\\PC\\Desktop\\ml_project\\venv\\lib\\site-packages\\sklearn\\utils\\validation.py:2739: UserWarning: X does not have valid feature names, but LGBMClassifier was fitted with feature names\n",
      "  warnings.warn(\n"
     ]
    },
    {
     "name": "stdout",
     "output_type": "stream",
     "text": [
      "[LightGBM] [Info] Number of positive: 5371, number of negative: 1627\n",
      "[LightGBM] [Info] Auto-choosing col-wise multi-threading, the overhead of testing was 0.000591 seconds.\n",
      "You can set `force_col_wise=true` to remove the overhead.\n",
      "[LightGBM] [Info] Total Bins 3825\n",
      "[LightGBM] [Info] Number of data points in the train set: 6998, number of used features: 15\n",
      "[LightGBM] [Info] [binary:BoostFromScore]: pavg=0.767505 -> initscore=1.194276\n",
      "[LightGBM] [Info] Start training from score 1.194276\n"
     ]
    },
    {
     "name": "stderr",
     "output_type": "stream",
     "text": [
      "C:\\Users\\PC\\Desktop\\ml_project\\venv\\lib\\site-packages\\sklearn\\utils\\validation.py:2739: UserWarning: X does not have valid feature names, but LGBMClassifier was fitted with feature names\n",
      "  warnings.warn(\n"
     ]
    },
    {
     "name": "stdout",
     "output_type": "stream",
     "text": [
      "[LightGBM] [Info] Number of positive: 5371, number of negative: 1627\n",
      "[LightGBM] [Info] Auto-choosing col-wise multi-threading, the overhead of testing was 0.000942 seconds.\n",
      "You can set `force_col_wise=true` to remove the overhead.\n",
      "[LightGBM] [Info] Total Bins 3825\n",
      "[LightGBM] [Info] Number of data points in the train set: 6998, number of used features: 15\n",
      "[LightGBM] [Info] [binary:BoostFromScore]: pavg=0.767505 -> initscore=1.194276\n",
      "[LightGBM] [Info] Start training from score 1.194276\n"
     ]
    },
    {
     "name": "stderr",
     "output_type": "stream",
     "text": [
      "C:\\Users\\PC\\Desktop\\ml_project\\venv\\lib\\site-packages\\sklearn\\utils\\validation.py:2739: UserWarning: X does not have valid feature names, but LGBMClassifier was fitted with feature names\n",
      "  warnings.warn(\n"
     ]
    },
    {
     "name": "stdout",
     "output_type": "stream",
     "text": [
      "[LightGBM] [Info] Number of positive: 5371, number of negative: 1627\n",
      "[LightGBM] [Info] Auto-choosing row-wise multi-threading, the overhead of testing was 0.002284 seconds.\n",
      "You can set `force_row_wise=true` to remove the overhead.\n",
      "And if memory is not enough, you can set `force_col_wise=true`.\n",
      "[LightGBM] [Info] Total Bins 3825\n",
      "[LightGBM] [Info] Number of data points in the train set: 6998, number of used features: 15\n",
      "[LightGBM] [Info] [binary:BoostFromScore]: pavg=0.767505 -> initscore=1.194276\n",
      "[LightGBM] [Info] Start training from score 1.194276\n"
     ]
    },
    {
     "name": "stderr",
     "output_type": "stream",
     "text": [
      "C:\\Users\\PC\\Desktop\\ml_project\\venv\\lib\\site-packages\\sklearn\\utils\\validation.py:2739: UserWarning: X does not have valid feature names, but LGBMClassifier was fitted with feature names\n",
      "  warnings.warn(\n"
     ]
    },
    {
     "name": "stdout",
     "output_type": "stream",
     "text": [
      "[LightGBM] [Info] Number of positive: 5371, number of negative: 1628\n",
      "[LightGBM] [Info] Auto-choosing col-wise multi-threading, the overhead of testing was 0.000667 seconds.\n",
      "You can set `force_col_wise=true` to remove the overhead.\n",
      "[LightGBM] [Info] Total Bins 3825\n",
      "[LightGBM] [Info] Number of data points in the train set: 6999, number of used features: 15\n",
      "[LightGBM] [Info] [binary:BoostFromScore]: pavg=0.767395 -> initscore=1.193662\n",
      "[LightGBM] [Info] Start training from score 1.193662\n"
     ]
    },
    {
     "name": "stderr",
     "output_type": "stream",
     "text": [
      "C:\\Users\\PC\\Desktop\\ml_project\\venv\\lib\\site-packages\\sklearn\\utils\\validation.py:2739: UserWarning: X does not have valid feature names, but LGBMClassifier was fitted with feature names\n",
      "  warnings.warn(\n"
     ]
    },
    {
     "name": "stdout",
     "output_type": "stream",
     "text": [
      "[LightGBM] [Info] Number of positive: 5372, number of negative: 1627\n",
      "[LightGBM] [Info] Auto-choosing col-wise multi-threading, the overhead of testing was 0.000756 seconds.\n",
      "You can set `force_col_wise=true` to remove the overhead.\n",
      "[LightGBM] [Info] Total Bins 3825\n",
      "[LightGBM] [Info] Number of data points in the train set: 6999, number of used features: 15\n",
      "[LightGBM] [Info] [binary:BoostFromScore]: pavg=0.767538 -> initscore=1.194462\n",
      "[LightGBM] [Info] Start training from score 1.194462\n"
     ]
    },
    {
     "name": "stderr",
     "output_type": "stream",
     "text": [
      "C:\\Users\\PC\\Desktop\\ml_project\\venv\\lib\\site-packages\\sklearn\\utils\\validation.py:2739: UserWarning: X does not have valid feature names, but LGBMClassifier was fitted with feature names\n",
      "  warnings.warn(\n"
     ]
    },
    {
     "name": "stdout",
     "output_type": "stream",
     "text": [
      "[LightGBM] [Info] Number of positive: 5371, number of negative: 1627\n",
      "[LightGBM] [Info] Auto-choosing col-wise multi-threading, the overhead of testing was 0.000701 seconds.\n",
      "You can set `force_col_wise=true` to remove the overhead.\n",
      "[LightGBM] [Info] Total Bins 3825\n",
      "[LightGBM] [Info] Number of data points in the train set: 6998, number of used features: 15\n",
      "[LightGBM] [Info] [binary:BoostFromScore]: pavg=0.767505 -> initscore=1.194276\n",
      "[LightGBM] [Info] Start training from score 1.194276\n"
     ]
    },
    {
     "name": "stderr",
     "output_type": "stream",
     "text": [
      "C:\\Users\\PC\\Desktop\\ml_project\\venv\\lib\\site-packages\\sklearn\\utils\\validation.py:2739: UserWarning: X does not have valid feature names, but LGBMClassifier was fitted with feature names\n",
      "  warnings.warn(\n"
     ]
    },
    {
     "name": "stdout",
     "output_type": "stream",
     "text": [
      "[LightGBM] [Info] Number of positive: 5371, number of negative: 1627\n",
      "[LightGBM] [Info] Auto-choosing col-wise multi-threading, the overhead of testing was 0.000835 seconds.\n",
      "You can set `force_col_wise=true` to remove the overhead.\n",
      "[LightGBM] [Info] Total Bins 3825\n",
      "[LightGBM] [Info] Number of data points in the train set: 6998, number of used features: 15\n",
      "[LightGBM] [Info] [binary:BoostFromScore]: pavg=0.767505 -> initscore=1.194276\n",
      "[LightGBM] [Info] Start training from score 1.194276\n"
     ]
    },
    {
     "name": "stderr",
     "output_type": "stream",
     "text": [
      "C:\\Users\\PC\\Desktop\\ml_project\\venv\\lib\\site-packages\\sklearn\\utils\\validation.py:2739: UserWarning: X does not have valid feature names, but LGBMClassifier was fitted with feature names\n",
      "  warnings.warn(\n"
     ]
    },
    {
     "name": "stdout",
     "output_type": "stream",
     "text": [
      "[LightGBM] [Info] Number of positive: 5371, number of negative: 1627\n",
      "[LightGBM] [Info] Auto-choosing col-wise multi-threading, the overhead of testing was 0.000959 seconds.\n",
      "You can set `force_col_wise=true` to remove the overhead.\n",
      "[LightGBM] [Info] Total Bins 3825\n",
      "[LightGBM] [Info] Number of data points in the train set: 6998, number of used features: 15\n",
      "[LightGBM] [Info] [binary:BoostFromScore]: pavg=0.767505 -> initscore=1.194276\n",
      "[LightGBM] [Info] Start training from score 1.194276\n"
     ]
    },
    {
     "name": "stderr",
     "output_type": "stream",
     "text": [
      "C:\\Users\\PC\\Desktop\\ml_project\\venv\\lib\\site-packages\\sklearn\\utils\\validation.py:2739: UserWarning: X does not have valid feature names, but LGBMClassifier was fitted with feature names\n",
      "  warnings.warn(\n"
     ]
    },
    {
     "name": "stdout",
     "output_type": "stream",
     "text": [
      "[LightGBM] [Info] Number of positive: 5371, number of negative: 1628\n",
      "[LightGBM] [Info] Auto-choosing col-wise multi-threading, the overhead of testing was 0.000909 seconds.\n",
      "You can set `force_col_wise=true` to remove the overhead.\n",
      "[LightGBM] [Info] Total Bins 3825\n",
      "[LightGBM] [Info] Number of data points in the train set: 6999, number of used features: 15\n",
      "[LightGBM] [Info] [binary:BoostFromScore]: pavg=0.767395 -> initscore=1.193662\n",
      "[LightGBM] [Info] Start training from score 1.193662\n"
     ]
    },
    {
     "name": "stderr",
     "output_type": "stream",
     "text": [
      "C:\\Users\\PC\\Desktop\\ml_project\\venv\\lib\\site-packages\\sklearn\\utils\\validation.py:2739: UserWarning: X does not have valid feature names, but LGBMClassifier was fitted with feature names\n",
      "  warnings.warn(\n"
     ]
    },
    {
     "name": "stdout",
     "output_type": "stream",
     "text": [
      "[LightGBM] [Info] Number of positive: 5372, number of negative: 1627\n",
      "[LightGBM] [Info] Auto-choosing col-wise multi-threading, the overhead of testing was 0.000812 seconds.\n",
      "You can set `force_col_wise=true` to remove the overhead.\n",
      "[LightGBM] [Info] Total Bins 3825\n",
      "[LightGBM] [Info] Number of data points in the train set: 6999, number of used features: 15\n",
      "[LightGBM] [Info] [binary:BoostFromScore]: pavg=0.767538 -> initscore=1.194462\n",
      "[LightGBM] [Info] Start training from score 1.194462\n"
     ]
    },
    {
     "name": "stderr",
     "output_type": "stream",
     "text": [
      "C:\\Users\\PC\\Desktop\\ml_project\\venv\\lib\\site-packages\\sklearn\\utils\\validation.py:2739: UserWarning: X does not have valid feature names, but LGBMClassifier was fitted with feature names\n",
      "  warnings.warn(\n"
     ]
    },
    {
     "name": "stdout",
     "output_type": "stream",
     "text": [
      "[LightGBM] [Info] Number of positive: 6714, number of negative: 2034\n",
      "[LightGBM] [Info] Auto-choosing col-wise multi-threading, the overhead of testing was 0.000979 seconds.\n",
      "You can set `force_col_wise=true` to remove the overhead.\n",
      "[LightGBM] [Info] Total Bins 3825\n",
      "[LightGBM] [Info] Number of data points in the train set: 8748, number of used features: 15\n",
      "[LightGBM] [Info] [binary:BoostFromScore]: pavg=0.767490 -> initscore=1.194191\n",
      "[LightGBM] [Info] Start training from score 1.194191\n",
      "Best Parameters: {'learning_rate': 0.1, 'n_estimators': 200, 'num_leaves': 100}\n",
      "Best Score: 0.8393916523727845\n"
     ]
    }
   ],
   "source": [
    "from sklearn.model_selection import GridSearchCV\n",
    "from lightgbm import LGBMClassifier\n",
    "\n",
    "# Define the model\n",
    "model = LGBMClassifier(objective='binary', random_state=42)\n",
    "\n",
    "# Define the hyperparameter grid\n",
    "param_grid = {\n",
    "    'num_leaves': [31, 50, 100],\n",
    "    'learning_rate': [0.01, 0.05, 0.1],\n",
    "    'n_estimators': [50, 100, 200]\n",
    "}\n",
    "\n",
    "# Perform GridSearchCV\n",
    "grid_search = GridSearchCV(model, param_grid, cv=5)\n",
    "grid_search.fit(X_train_scaled, y_train)\n",
    "\n",
    "# Print the best parameters\n",
    "print(\"Best Parameters:\", grid_search.best_params_)\n",
    "print(\"Best Score:\", grid_search.best_score_)\n"
   ]
  },
  {
   "cell_type": "markdown",
   "id": "0e6da01d-709b-4582-bf29-bc83a1b3d2c3",
   "metadata": {},
   "source": [
    "##  Rebuild the model with Hyperparameters "
   ]
  },
  {
   "cell_type": "code",
   "execution_count": 16,
   "id": "8c6b6cb7-9f05-4577-8664-0e020057ecf1",
   "metadata": {},
   "outputs": [
    {
     "name": "stdout",
     "output_type": "stream",
     "text": [
      "[LightGBM] [Info] Number of positive: 6714, number of negative: 2034\n",
      "[LightGBM] [Info] Auto-choosing col-wise multi-threading, the overhead of testing was 0.001140 seconds.\n",
      "You can set `force_col_wise=true` to remove the overhead.\n",
      "[LightGBM] [Info] Total Bins 3825\n",
      "[LightGBM] [Info] Number of data points in the train set: 8748, number of used features: 15\n",
      "[LightGBM] [Info] [binary:BoostFromScore]: pavg=0.767490 -> initscore=1.194191\n",
      "[LightGBM] [Info] Start training from score 1.194191\n",
      "Accuracy on Test Data with Tuned Parameters: 0.8578610603290676\n"
     ]
    },
    {
     "name": "stderr",
     "output_type": "stream",
     "text": [
      "C:\\Users\\PC\\Desktop\\ml_project\\venv\\lib\\site-packages\\sklearn\\utils\\validation.py:2739: UserWarning: X does not have valid feature names, but LGBMClassifier was fitted with feature names\n",
      "  warnings.warn(\n"
     ]
    }
   ],
   "source": [
    "# Train the model with the best parameters\n",
    "LightGBM = LGBMClassifier(learning_rate=0.1, n_estimators=200, num_leaves=100, objective='binary', random_state=42)\n",
    "LightGBM.fit(X_train_scaled, y_train)\n",
    "\n",
    "# Make predictions\n",
    "y_pred = LightGBM.predict(X_test_scaled)\n",
    "\n",
    "# Evaluate performance\n",
    "accuracy = accuracy_score(y_test, y_pred)\n",
    "print(f\"Accuracy on Test Data with Tuned Parameters: {accuracy}\")\n"
   ]
  },
  {
   "cell_type": "code",
   "execution_count": 17,
   "id": "d86c3fd1-83d6-4d48-8c1c-949a8b0a615f",
   "metadata": {},
   "outputs": [
    {
     "data": {
      "image/png": "[encoded data removed]",
      "text/plain": [
       "<Figure size 640x480 with 1 Axes>"
      ]
     },
     "metadata": {},
     "output_type": "display_data"
    }
   ],
   "source": [
    "import matplotlib.pyplot as plt\n",
    "\n",
    "# Plot feature importance\n",
    "feature_importances = LightGBM.feature_importances_\n",
    "features = X.columns\n",
    "\n",
    "# Sort and plot\n",
    "sorted_idx = feature_importances.argsort()\n",
    "plt.barh(features[sorted_idx], feature_importances[sorted_idx])\n",
    "plt.xlabel(\"Feature Importance\")\n",
    "plt.ylabel(\"Feature\")\n",
    "plt.title(\"Feature Importance (LightGBM)\")\n",
    "plt.show()\n"
   ]
  },
  {
   "cell_type": "code",
   "execution_count": 18,
   "id": "34a3b3f3-f094-4204-854f-92b705cd7e7e",
   "metadata": {},
   "outputs": [
    {
     "data": {
      "image/png": "[encoded data removed]",
      "text/plain": [
       "<Figure size 600x400 with 2 Axes>"
      ]
     },
     "metadata": {},
     "output_type": "display_data"
    }
   ],
   "source": [
    "from sklearn.metrics import confusion_matrix\n",
    "import seaborn as sns\n",
    "import matplotlib.pyplot as plt\n",
    "\n",
    "# Generate confusion matrix\n",
    "cm = confusion_matrix(y_test, y_pred)\n",
    "\n",
    "# Plot confusion matrix as heatmap\n",
    "plt.figure(figsize=(6, 4))\n",
    "sns.heatmap(cm, annot=True, fmt='d', cmap='Blues', xticklabels=['Sell', 'Buy'], yticklabels=['Sell', 'Buy'])\n",
    "plt.title('Confusion Matrix LightGBoost')\n",
    "plt.xlabel('Predicted')\n",
    "plt.ylabel('Actual')\n",
    "plt.show()\n"
   ]
  },
  {
   "cell_type": "code",
   "execution_count": 19,
   "id": "1fdacbdf-10cf-4939-b3cd-8ae89d8d6070",
   "metadata": {},
   "outputs": [
    {
     "name": "stdout",
     "output_type": "stream",
     "text": [
      "Confusion Matrix:\n",
      "                  Predicted Negative  Predicted Positive\n",
      "Actual Negative                 305                 217\n",
      "Actual Positive                  94                1572\n"
     ]
    }
   ],
   "source": [
    "# Compute the confusion matrix\n",
    "cm = confusion_matrix(y_test, y_pred)\n",
    "\n",
    "# Print the confusion matrix as a DataFrame for better readability\n",
    "cm_df = pd.DataFrame(cm, index=[\"Actual Negative\", \"Actual Positive\"], columns=[\"Predicted Negative\", \"Predicted Positive\"])\n",
    "print(\"Confusion Matrix:\\n\", cm_df)"
   ]
  },
  {
   "cell_type": "code",
   "execution_count": 20,
   "id": "5bb5ae4f-a81e-4f97-8571-fa968a0d0ba9",
   "metadata": {},
   "outputs": [
    {
     "name": "stdout",
     "output_type": "stream",
     "text": [
      "\n",
      "Test Accuracy: 85.79%\n",
      "\n",
      "Classification Report:\n",
      "               precision    recall  f1-score   support\n",
      "\n",
      "           0       0.76      0.58      0.66       522\n",
      "           1       0.88      0.94      0.91      1666\n",
      "\n",
      "    accuracy                           0.86      2188\n",
      "   macro avg       0.82      0.76      0.79      2188\n",
      "weighted avg       0.85      0.86      0.85      2188\n",
      "\n"
     ]
    }
   ],
   "source": [
    "accuracy = accuracy_score(y_test, y_pred)\n",
    "print(\"\\nTest Accuracy: {:.2f}%\".format(accuracy * 100))\n",
    "\n",
    "print(\"\\nClassification Report:\\n\", classification_report(y_test, y_pred))\n"
   ]
  },
  {
   "cell_type": "code",
   "execution_count": 21,
   "id": "74364461-a5f1-4e75-8c43-5e36646e53d9",
   "metadata": {},
   "outputs": [
    {
     "name": "stdout",
     "output_type": "stream",
     "text": [
      "Predictions saved successfully!\n"
     ]
    },
    {
     "name": "stderr",
     "output_type": "stream",
     "text": [
      "C:\\Users\\PC\\Desktop\\ml_project\\venv\\lib\\site-packages\\sklearn\\utils\\validation.py:2739: UserWarning: X does not have valid feature names, but LGBMClassifier was fitted with feature names\n",
      "  warnings.warn(\n",
      "C:\\Users\\PC\\Desktop\\ml_project\\venv\\lib\\site-packages\\sklearn\\utils\\validation.py:2739: UserWarning: X does not have valid feature names, but LGBMClassifier was fitted with feature names\n",
      "  warnings.warn(\n"
     ]
    }
   ],
   "source": [
    "# Make predictions\n",
    "y_pred = LightGBM.predict(X_test_scaled)\n",
    "\n",
    "predictions_df = pd.DataFrame({\n",
    "    'date': data.iloc[-len(y_test):]['Date'].values,  # Use the actual dates from the original data\n",
    "    'open': data.iloc[-len(y_test):]['Open'].values,\n",
    "    'high': data.iloc[-len(y_test):]['High'].values,\n",
    "    'low': data.iloc[-len(y_test):]['Low'].values,\n",
    "    'close': data.iloc[-len(y_test):]['Close'].values,\n",
    "    'volume': data.iloc[-len(y_test):]['Volume'].values,\n",
    "    'predicted_price': y_pred,\n",
    "    'decision': ['BUY' if pred == 1 else 'SELL' for pred in y_pred],\n",
    "    'confidence': LightGBM.predict_proba(X_test_scaled)[:, 1]  # Probability of \"BUY\"\n",
    "})\n",
    "\n",
    "# Save to CSV\n",
    "predictions_df.to_csv(\"C:/Users/PC/Desktop/ml_project/Algorithm_Trading_ML/data/final_predictions.csv\", index=False)\n",
    "\n",
    "print(\"Predictions saved successfully!\")\n"
   ]
  },
  {
   "cell_type": "code",
   "execution_count": 22,
   "id": "f0482c22-601f-4e0b-8dfb-ccff2795af3b",
   "metadata": {},
   "outputs": [
    {
     "data": {
      "image/png": "[encoded data removed]",
      "text/plain": [
       "<Figure size 600x400 with 2 Axes>"
      ]
     },
     "metadata": {},
     "output_type": "display_data"
    }
   ],
   "source": [
    "# Plot the confusion matrix\n",
    "plt.figure(figsize=(6,4))\n",
    "sns.heatmap(cm, annot=True, fmt=\"d\", cmap=\"Blues\", xticklabels=[\"Negative\", \"Positive\"], yticklabels=[\"Negative\", \"Positive\"])\n",
    "plt.xlabel(\"Predicted\")\n",
    "plt.ylabel(\"Actual\")\n",
    "plt.title(\"Confusion Matrix\")\n",
    "plt.show()\n"
   ]
  },
  {
   "cell_type": "markdown",
   "id": "d3d71fc3-f4de-467c-b3ec-d49a76fd7d10",
   "metadata": {},
   "source": [
    "# 2. XGBoost Model\n"
   ]
  },
  {
   "cell_type": "code",
   "execution_count": 23,
   "id": "b04c725f-a20c-4cdb-80ac-2e8d2efb46ff",
   "metadata": {},
   "outputs": [],
   "source": [
    "import xgboost as xgb\n",
    "import numpy as np\n",
    "import optuna\n",
    "from sklearn.model_selection import train_test_split\n",
    "from sklearn.preprocessing import StandardScaler\n",
    "from sklearn.metrics import accuracy_score, classification_report\n"
   ]
  },
  {
   "cell_type": "code",
   "execution_count": 24,
   "id": "f69bb46b-1abf-4fa0-96b6-7631ceff96cf",
   "metadata": {},
   "outputs": [],
   "source": [
    "# Step 1: Define the list of features and target variable\n",
    "features = [\n",
    "    'RSI_14', 'RSI_30', 'RSI_200', 'MOM_10', 'MOM_30',\n",
    "    'MACD_12_26_9', 'MACDh_12_26_9', 'MACDs_12_26_9',\n",
    "    'PROC_9', 'EMA_10', 'EMA_30', 'Pct_Change', 'Log_Returns',\n",
    "    'Volatility_10', 'Volatility_30'\n",
    "]\n",
    "X = data[features]\n",
    "y = data['Signal'].replace({2: 1})  # Map '2' to '1' for binary classification\n"
   ]
  },
  {
   "cell_type": "code",
   "execution_count": 25,
   "id": "a616a47b-6282-4bc6-a847-d8360e769b0b",
   "metadata": {},
   "outputs": [],
   "source": [
    "# Step 2: Split the data into train and test sets\n",
    "X_train, X_test, y_train, y_test = train_test_split(\n",
    "    X, y, test_size=0.2, random_state=42, stratify=y\n",
    ")\n"
   ]
  },
  {
   "cell_type": "code",
   "execution_count": 26,
   "id": "94a4c7e9-ef52-481c-a805-c14e19467f19",
   "metadata": {},
   "outputs": [],
   "source": [
    "# Step 3: Scale the features\n",
    "scaler = StandardScaler()\n",
    "X_train_scaled = scaler.fit_transform(X_train)\n",
    "X_test_scaled = scaler.transform(X_test)\n"
   ]
  },
  {
   "cell_type": "code",
   "execution_count": 31,
   "id": "4c789474-77d2-4169-ab67-c5aabf25eebe",
   "metadata": {},
   "outputs": [],
   "source": [
    "# Step 4: Define the Optuna optimization function\n",
    "def objective(trial):\n",
    "    params = {\n",
    "        'booster': trial.suggest_categorical('booster', ['gbtree', 'dart']),\n",
    "        'objective': 'binary:logistic',\n",
    "        'eval_metric': 'logloss',\n",
    "        'eta': trial.suggest_float('eta', 0.01, 0.3, log=True),\n",
    "        'max_depth': trial.suggest_int('max_depth', 3, 10),\n",
    "        'min_child_weight': trial.suggest_float('min_child_weight', 1, 10, log=True),\n",
    "        'subsample': trial.suggest_float('subsample', 0.5, 1.0),\n",
    "        'colsample_bytree': trial.suggest_float('colsample_bytree', 0.5, 1.0),\n",
    "        'lambda': trial.suggest_float('lambda', 1e-3, 10.0, log=True),\n",
    "        'alpha': trial.suggest_float('alpha', 1e-3, 10.0, log=True),\n",
    "    }\n",
    "    \n",
    "    # Perform cross-validation using xgb.cv\n",
    "    dtrain = xgb.DMatrix(X_train_scaled, label=y_train)\n",
    "    cv_results = xgb.cv(\n",
    "        params=params,\n",
    "        dtrain=dtrain,\n",
    "        num_boost_round=100,\n",
    "        nfold=5,\n",
    "        stratified=True,\n",
    "        shuffle=True,\n",
    "        early_stopping_rounds=10,\n",
    "        seed=42,\n",
    "        verbose_eval=False\n",
    "    )\n",
    "    \n",
    "    # Return the mean of the test logloss\n",
    "    return cv_results['test-logloss-mean'].min()\n"
   ]
  },
  {
   "cell_type": "code",
   "execution_count": 32,
   "id": "552d3481-45df-4c8f-babd-541bba378b43",
   "metadata": {},
   "outputs": [
    {
     "name": "stderr",
     "output_type": "stream",
     "text": [
      "[I 2025-02-26 09:59:29,280] A new study created in memory with name: XGBoost Hyperparameter Tuning\n",
      "[I 2025-02-26 09:59:51,568] Trial 0 finished with value: 0.4332369379000173 and parameters: {'booster': 'dart', 'eta': 0.06901356417966972, 'max_depth': 4, 'min_child_weight': 1.17550229349955, 'subsample': 0.6432754011691653, 'colsample_bytree': 0.6004540638124317, 'lambda': 0.08825772842717264, 'alpha': 0.03376217122601558}. Best is trial 0 with value: 0.4332369379000173.\n",
      "[I 2025-02-26 09:59:52,561] Trial 1 finished with value: 0.42948438230932207 and parameters: {'booster': 'gbtree', 'eta': 0.20293517039553918, 'max_depth': 7, 'min_child_weight': 5.220048500276468, 'subsample': 0.5885067251722418, 'colsample_bytree': 0.526152790209779, 'lambda': 5.897830401793205, 'alpha': 0.029118556183606672}. Best is trial 1 with value: 0.42948438230932207.\n",
      "[I 2025-02-26 10:00:11,979] Trial 2 finished with value: 0.40993692685693955 and parameters: {'booster': 'dart', 'eta': 0.1499170614034545, 'max_depth': 6, 'min_child_weight': 3.6970782433764535, 'subsample': 0.9891277334794515, 'colsample_bytree': 0.9274734870136798, 'lambda': 0.16766614911046027, 'alpha': 0.36153331778464964}. Best is trial 2 with value: 0.40993692685693955.\n",
      "[I 2025-02-26 10:00:34,793] Trial 3 finished with value: 0.3980591372886776 and parameters: {'booster': 'dart', 'eta': 0.05936679461248796, 'max_depth': 9, 'min_child_weight': 1.8303892860104407, 'subsample': 0.7635483843864523, 'colsample_bytree': 0.6261130838060425, 'lambda': 0.057028481221112835, 'alpha': 0.4940882152360198}. Best is trial 3 with value: 0.3980591372886776.\n",
      "[I 2025-02-26 10:00:54,959] Trial 4 finished with value: 0.4101725359143469 and parameters: {'booster': 'dart', 'eta': 0.06794359640078892, 'max_depth': 9, 'min_child_weight': 5.561729525935397, 'subsample': 0.7655840793019779, 'colsample_bytree': 0.5660176348901904, 'lambda': 0.09732101864308842, 'alpha': 0.0287326679857924}. Best is trial 3 with value: 0.3980591372886776.\n",
      "[I 2025-02-26 10:00:56,369] Trial 5 finished with value: 0.42217652394687954 and parameters: {'booster': 'gbtree', 'eta': 0.11707973898389312, 'max_depth': 5, 'min_child_weight': 1.0570764784944304, 'subsample': 0.5031527924680289, 'colsample_bytree': 0.6071113890351325, 'lambda': 0.013681071803516718, 'alpha': 0.0012655109519164069}. Best is trial 3 with value: 0.3980591372886776.\n",
      "[I 2025-02-26 10:00:57,378] Trial 6 finished with value: 0.4358396325318898 and parameters: {'booster': 'gbtree', 'eta': 0.2106842339326, 'max_depth': 3, 'min_child_weight': 4.122793908038062, 'subsample': 0.725793122026563, 'colsample_bytree': 0.661650004861122, 'lambda': 0.36585331825619755, 'alpha': 0.12447890935226524}. Best is trial 3 with value: 0.3980591372886776.\n",
      "[I 2025-02-26 10:00:58,720] Trial 7 finished with value: 0.45379762731369083 and parameters: {'booster': 'gbtree', 'eta': 0.01821968391463199, 'max_depth': 5, 'min_child_weight': 3.245121723305116, 'subsample': 0.6977741359573422, 'colsample_bytree': 0.8894283628672428, 'lambda': 6.401864241583314, 'alpha': 7.628720720816195}. Best is trial 3 with value: 0.3980591372886776.\n",
      "[I 2025-02-26 10:01:19,552] Trial 8 finished with value: 0.4199045724036111 and parameters: {'booster': 'dart', 'eta': 0.07638298962061649, 'max_depth': 10, 'min_child_weight': 8.84983120548857, 'subsample': 0.6511198133411098, 'colsample_bytree': 0.9643205167020998, 'lambda': 0.017504890309189475, 'alpha': 2.9817038456044593}. Best is trial 3 with value: 0.3980591372886776.\n",
      "[I 2025-02-26 10:01:21,435] Trial 9 finished with value: 0.41261985907946547 and parameters: {'booster': 'gbtree', 'eta': 0.12358200383716254, 'max_depth': 9, 'min_child_weight': 9.729349602272869, 'subsample': 0.9098150627454351, 'colsample_bytree': 0.9335213574075358, 'lambda': 0.2761052476020305, 'alpha': 0.001471260941139291}. Best is trial 3 with value: 0.3980591372886776.\n",
      "[I 2025-02-26 10:01:44,842] Trial 10 finished with value: 0.41554675512601785 and parameters: {'booster': 'dart', 'eta': 0.02544992026983631, 'max_depth': 8, 'min_child_weight': 1.7978194390674216, 'subsample': 0.8474068416044169, 'colsample_bytree': 0.7185358061658258, 'lambda': 0.0010625760239636858, 'alpha': 0.5119326252843696}. Best is trial 3 with value: 0.3980591372886776.\n",
      "[I 2025-02-26 10:02:04,274] Trial 11 finished with value: 0.4298080451373575 and parameters: {'booster': 'dart', 'eta': 0.029725842927370932, 'max_depth': 6, 'min_child_weight': 2.0602874102735935, 'subsample': 0.974713277926394, 'colsample_bytree': 0.8383175561879423, 'lambda': 1.3191618429212209, 'alpha': 0.5243294690851598}. Best is trial 3 with value: 0.3980591372886776.\n",
      "[I 2025-02-26 10:02:35,116] Trial 12 finished with value: 0.41651067845241146 and parameters: {'booster': 'dart', 'eta': 0.040872502374887855, 'max_depth': 7, 'min_child_weight': 2.1189503306950894, 'subsample': 0.9997994030291185, 'colsample_bytree': 0.7906873486741237, 'lambda': 0.017330480257157513, 'alpha': 0.5476726224312224}. Best is trial 3 with value: 0.3980591372886776.\n",
      "[I 2025-02-26 10:02:48,034] Trial 13 finished with value: 0.42245709544345733 and parameters: {'booster': 'dart', 'eta': 0.2793570242077121, 'max_depth': 6, 'min_child_weight': 2.7341743626228485, 'subsample': 0.8030620114938262, 'colsample_bytree': 0.7170969524652429, 'lambda': 0.003234237091569916, 'alpha': 0.12464926719643007}. Best is trial 3 with value: 0.3980591372886776.\n",
      "[I 2025-02-26 10:03:33,143] Trial 14 finished with value: 0.44759544811453933 and parameters: {'booster': 'dart', 'eta': 0.01099437276729403, 'max_depth': 8, 'min_child_weight': 1.5287371723419165, 'subsample': 0.8845992987949396, 'colsample_bytree': 0.995587551749348, 'lambda': 0.5038006600910261, 'alpha': 1.5666457980107928}. Best is trial 3 with value: 0.3980591372886776.\n",
      "[I 2025-02-26 10:04:04,616] Trial 15 finished with value: 0.39054095657770727 and parameters: {'booster': 'dart', 'eta': 0.11530193045310477, 'max_depth': 10, 'min_child_weight': 2.8434452533286216, 'subsample': 0.9063015025261166, 'colsample_bytree': 0.7919499241332104, 'lambda': 0.04173419255350748, 'alpha': 0.26018274196854585}. Best is trial 15 with value: 0.39054095657770727.\n",
      "[I 2025-02-26 10:04:31,712] Trial 16 finished with value: 0.398084677133014 and parameters: {'booster': 'dart', 'eta': 0.04585562313720733, 'max_depth': 10, 'min_child_weight': 2.664091640982973, 'subsample': 0.8243624863309972, 'colsample_bytree': 0.776700313133005, 'lambda': 0.03469298171680726, 'alpha': 0.003954530088082249}. Best is trial 15 with value: 0.39054095657770727.\n",
      "[I 2025-02-26 10:04:58,114] Trial 17 finished with value: 0.39029433098525573 and parameters: {'booster': 'dart', 'eta': 0.09590285716578088, 'max_depth': 9, 'min_child_weight': 1.6054374472289201, 'subsample': 0.9183931592368002, 'colsample_bytree': 0.6594387916365456, 'lambda': 0.005824547720255745, 'alpha': 0.007114595728175834}. Best is trial 17 with value: 0.39029433098525573.\n",
      "[I 2025-02-26 10:05:21,832] Trial 18 finished with value: 0.38344990119083155 and parameters: {'booster': 'dart', 'eta': 0.0959443982520167, 'max_depth': 10, 'min_child_weight': 1.3751778683656484, 'subsample': 0.9259553004673965, 'colsample_bytree': 0.8432401810294003, 'lambda': 0.0044884712030143, 'alpha': 0.0069222411057576795}. Best is trial 18 with value: 0.38344990119083155.\n",
      "[I 2025-02-26 10:05:44,508] Trial 19 finished with value: 0.3936017669869728 and parameters: {'booster': 'dart', 'eta': 0.0842737355574106, 'max_depth': 8, 'min_child_weight': 1.3245003379537692, 'subsample': 0.9471277287619053, 'colsample_bytree': 0.8521823191661133, 'lambda': 0.004084108991170503, 'alpha': 0.007147844934088205}. Best is trial 18 with value: 0.38344990119083155.\n",
      "[I 2025-02-26 10:06:11,220] Trial 20 finished with value: 0.3890106453523364 and parameters: {'booster': 'dart', 'eta': 0.09511223104024985, 'max_depth': 9, 'min_child_weight': 1.4361370220028165, 'subsample': 0.8686409485986855, 'colsample_bytree': 0.6805365850982832, 'lambda': 0.005543773757048652, 'alpha': 0.008979608784593082}. Best is trial 18 with value: 0.38344990119083155.\n",
      "[I 2025-02-26 10:06:39,484] Trial 21 finished with value: 0.3907155913500383 and parameters: {'booster': 'dart', 'eta': 0.09186490826660106, 'max_depth': 9, 'min_child_weight': 1.34644567693349, 'subsample': 0.863339173697855, 'colsample_bytree': 0.6774938957717372, 'lambda': 0.0037280130657396044, 'alpha': 0.00846190763754337}. Best is trial 18 with value: 0.38344990119083155.\n",
      "[I 2025-02-26 10:06:47,859] Trial 22 finished with value: 0.398029683546496 and parameters: {'booster': 'dart', 'eta': 0.18443049487610402, 'max_depth': 10, 'min_child_weight': 1.5741150363406053, 'subsample': 0.9284586801118265, 'colsample_bytree': 0.7274115131734439, 'lambda': 0.0013333842108747662, 'alpha': 0.011873153238095407}. Best is trial 18 with value: 0.38344990119083155.\n",
      "[I 2025-02-26 10:07:13,165] Trial 23 finished with value: 0.3950484622839016 and parameters: {'booster': 'dart', 'eta': 0.09100988885837509, 'max_depth': 8, 'min_child_weight': 1.005365250620073, 'subsample': 0.9453367700284955, 'colsample_bytree': 0.6639478895068623, 'lambda': 0.006117026792601923, 'alpha': 0.0030892502478080315}. Best is trial 18 with value: 0.38344990119083155.\n",
      "[I 2025-02-26 10:07:41,590] Trial 24 finished with value: 0.39825933215322706 and parameters: {'booster': 'dart', 'eta': 0.0491933916765254, 'max_depth': 9, 'min_child_weight': 2.2082981912522506, 'subsample': 0.883206662500936, 'colsample_bytree': 0.8201984167004759, 'lambda': 0.008686216876529445, 'alpha': 0.013251061298080891}. Best is trial 18 with value: 0.38344990119083155.\n",
      "[I 2025-02-26 10:08:10,035] Trial 25 finished with value: 0.398605028763315 and parameters: {'booster': 'dart', 'eta': 0.1523791563837588, 'max_depth': 10, 'min_child_weight': 1.3126568140572041, 'subsample': 0.8025405054041276, 'colsample_bytree': 0.6921668492145224, 'lambda': 0.002875530317230014, 'alpha': 0.00304118699393886}. Best is trial 18 with value: 0.38344990119083155.\n",
      "[I 2025-02-26 10:08:15,265] Trial 26 finished with value: 0.39940012336890335 and parameters: {'booster': 'gbtree', 'eta': 0.03443888612502625, 'max_depth': 9, 'min_child_weight': 1.6042040547605334, 'subsample': 0.8536417693568734, 'colsample_bytree': 0.7585723117098864, 'lambda': 0.0018229996961612773, 'alpha': 0.051980498937292695}. Best is trial 18 with value: 0.38344990119083155.\n",
      "[I 2025-02-26 10:08:51,559] Trial 27 finished with value: 0.3979542958899269 and parameters: {'booster': 'dart', 'eta': 0.09612582945570333, 'max_depth': 7, 'min_child_weight': 1.1871421838629743, 'subsample': 0.9516900579696103, 'colsample_bytree': 0.5560756497713985, 'lambda': 0.00780089844429164, 'alpha': 0.005362436422209739}. Best is trial 18 with value: 0.38344990119083155.\n",
      "[I 2025-02-26 10:08:59,999] Trial 28 finished with value: 0.4095958605684985 and parameters: {'booster': 'dart', 'eta': 0.29008515334179724, 'max_depth': 8, 'min_child_weight': 2.323673221355418, 'subsample': 0.8993441543008799, 'colsample_bytree': 0.6227702367635666, 'lambda': 0.025276447370822876, 'alpha': 0.01578047618050258}. Best is trial 18 with value: 0.38344990119083155.\n",
      "[I 2025-02-26 10:09:27,370] Trial 29 finished with value: 0.38833844745458207 and parameters: {'booster': 'dart', 'eta': 0.06279475248502321, 'max_depth': 10, 'min_child_weight': 1.7811212041389577, 'subsample': 0.8225397684882553, 'colsample_bytree': 0.8591259774802075, 'lambda': 0.010253128358407785, 'alpha': 0.06211149580104006}. Best is trial 18 with value: 0.38344990119083155.\n",
      "[I 2025-02-26 10:09:55,488] Trial 30 finished with value: 0.38384063310210276 and parameters: {'booster': 'dart', 'eta': 0.06902538017527063, 'max_depth': 10, 'min_child_weight': 1.1600828923778048, 'subsample': 0.7992520226789702, 'colsample_bytree': 0.8930191107167136, 'lambda': 0.002108851226942302, 'alpha': 0.058621856684278925}. Best is trial 18 with value: 0.38344990119083155.\n",
      "[I 2025-02-26 10:10:24,870] Trial 31 finished with value: 0.38269602518548324 and parameters: {'booster': 'dart', 'eta': 0.061004166911230354, 'max_depth': 10, 'min_child_weight': 1.1255988819586622, 'subsample': 0.8071460412710476, 'colsample_bytree': 0.8854011865461883, 'lambda': 0.0021380208399031323, 'alpha': 0.0462412640230081}. Best is trial 31 with value: 0.38269602518548324.\n",
      "[I 2025-02-26 10:10:54,983] Trial 32 finished with value: 0.3843342944414395 and parameters: {'booster': 'dart', 'eta': 0.059828615265923785, 'max_depth': 10, 'min_child_weight': 1.1457715095551224, 'subsample': 0.8080416053343576, 'colsample_bytree': 0.8810966998025564, 'lambda': 0.002258983809220138, 'alpha': 0.062272769007210384}. Best is trial 31 with value: 0.38269602518548324.\n",
      "[I 2025-02-26 10:11:25,974] Trial 33 finished with value: 0.3839961112655076 and parameters: {'booster': 'dart', 'eta': 0.06219426344846662, 'max_depth': 10, 'min_child_weight': 1.1833553665247967, 'subsample': 0.737198325720732, 'colsample_bytree': 0.9040642717433699, 'lambda': 0.0019842490467308674, 'alpha': 0.025101562623752953}. Best is trial 31 with value: 0.38269602518548324.\n",
      "[I 2025-02-26 10:11:56,769] Trial 34 finished with value: 0.390080432359203 and parameters: {'booster': 'dart', 'eta': 0.04798472223240022, 'max_depth': 10, 'min_child_weight': 1.1808406562828826, 'subsample': 0.6781114988560187, 'colsample_bytree': 0.9184718604795399, 'lambda': 0.0010681795624921586, 'alpha': 0.02394801814823829}. Best is trial 31 with value: 0.38269602518548324.\n",
      "[I 2025-02-26 10:12:27,141] Trial 35 finished with value: 0.3853685592658138 and parameters: {'booster': 'dart', 'eta': 0.07361453642183044, 'max_depth': 10, 'min_child_weight': 1.0184294423626292, 'subsample': 0.7318277594857692, 'colsample_bytree': 0.8985802496132695, 'lambda': 0.0018442768389022924, 'alpha': 0.021437144683336164}. Best is trial 31 with value: 0.38269602518548324.\n",
      "[I 2025-02-26 10:12:30,799] Trial 36 finished with value: 0.3962317845218002 and parameters: {'booster': 'gbtree', 'eta': 0.03995602629968764, 'max_depth': 9, 'min_child_weight': 1.1844002690748971, 'subsample': 0.7777040184349853, 'colsample_bytree': 0.9615804146077671, 'lambda': 0.0018863906357534327, 'alpha': 0.03973576397248768}. Best is trial 31 with value: 0.38269602518548324.\n",
      "[I 2025-02-26 10:12:53,348] Trial 37 finished with value: 0.44263255199013407 and parameters: {'booster': 'dart', 'eta': 0.05501238174273202, 'max_depth': 3, 'min_child_weight': 4.7423786843640645, 'subsample': 0.5881034425124351, 'colsample_bytree': 0.8195437991421304, 'lambda': 2.245093261299744, 'alpha': 0.1028840856732337}. Best is trial 31 with value: 0.38269602518548324.\n",
      "[I 2025-02-26 10:12:55,389] Trial 38 finished with value: 0.41055591494231114 and parameters: {'booster': 'gbtree', 'eta': 0.14001563824822116, 'max_depth': 10, 'min_child_weight': 6.397752650704573, 'subsample': 0.7440683030732594, 'colsample_bytree': 0.9487058296754536, 'lambda': 0.14760512336734716, 'alpha': 0.20603637194875454}. Best is trial 31 with value: 0.38269602518548324.\n",
      "[I 2025-02-26 10:13:18,620] Trial 39 finished with value: 0.43109943009379875 and parameters: {'booster': 'dart', 'eta': 0.06967184266821592, 'max_depth': 4, 'min_child_weight': 1.2851568996571447, 'subsample': 0.6778582872221856, 'colsample_bytree': 0.9960093845243977, 'lambda': 0.06583761192398825, 'alpha': 0.034713695528072186}. Best is trial 31 with value: 0.38269602518548324.\n",
      "[I 2025-02-26 10:13:49,117] Trial 40 finished with value: 0.40366886076400155 and parameters: {'booster': 'dart', 'eta': 0.025626584524271617, 'max_depth': 9, 'min_child_weight': 1.0882556523810607, 'subsample': 0.7728218064580628, 'colsample_bytree': 0.8773908938244802, 'lambda': 0.011368562758023799, 'alpha': 0.019286891618303506}. Best is trial 31 with value: 0.38269602518548324.\n",
      "[I 2025-02-26 10:14:25,116] Trial 41 finished with value: 0.38727773294686996 and parameters: {'booster': 'dart', 'eta': 0.06203603072789521, 'max_depth': 10, 'min_child_weight': 1.1289726476093382, 'subsample': 0.7093007147452374, 'colsample_bytree': 0.9097752918158084, 'lambda': 0.002108799436171178, 'alpha': 0.08595911824534683}. Best is trial 31 with value: 0.38269602518548324.\n",
      "[I 2025-02-26 10:15:13,593] Trial 42 finished with value: 0.3866885435517612 and parameters: {'booster': 'dart', 'eta': 0.053630821772823065, 'max_depth': 10, 'min_child_weight': 1.4313642728706581, 'subsample': 0.7984638022714747, 'colsample_bytree': 0.8799921478631928, 'lambda': 0.002674671944445223, 'alpha': 0.06172640597708452}. Best is trial 31 with value: 0.38269602518548324.\n",
      "[I 2025-02-26 10:15:49,828] Trial 43 finished with value: 0.3912765412955636 and parameters: {'booster': 'dart', 'eta': 0.0802325127652067, 'max_depth': 10, 'min_child_weight': 1.0023836632215601, 'subsample': 0.6192263724695031, 'colsample_bytree': 0.9320277238750893, 'lambda': 0.001401658534785622, 'alpha': 0.03602582517165671}. Best is trial 31 with value: 0.38269602518548324.\n",
      "[I 2025-02-26 10:16:16,348] Trial 44 finished with value: 0.3898416132213324 and parameters: {'booster': 'dart', 'eta': 0.10947224047745953, 'max_depth': 9, 'min_child_weight': 1.8638131250584462, 'subsample': 0.828087907092564, 'colsample_bytree': 0.863599886294823, 'lambda': 0.004368241347375146, 'alpha': 0.15739098385128983}. Best is trial 31 with value: 0.38269602518548324.\n",
      "[I 2025-02-26 10:16:19,855] Trial 45 finished with value: 0.38813757494732015 and parameters: {'booster': 'gbtree', 'eta': 0.040570237192412484, 'max_depth': 10, 'min_child_weight': 1.1960204685385198, 'subsample': 0.7629315185645502, 'colsample_bytree': 0.8346284933563614, 'lambda': 0.001040423688627976, 'alpha': 0.07963981036921393}. Best is trial 31 with value: 0.38269602518548324.\n",
      "[I 2025-02-26 10:16:45,778] Trial 46 finished with value: 0.3926065323920444 and parameters: {'booster': 'dart', 'eta': 0.06535298151492909, 'max_depth': 9, 'min_child_weight': 1.475404485016934, 'subsample': 0.7168730252435007, 'colsample_bytree': 0.8983286429848254, 'lambda': 0.0025334759543026043, 'alpha': 0.336634617794988}. Best is trial 31 with value: 0.38269602518548324.\n",
      "[I 2025-02-26 10:17:07,538] Trial 47 finished with value: 0.43111199820056223 and parameters: {'booster': 'dart', 'eta': 0.034600660550042836, 'max_depth': 5, 'min_child_weight': 1.7370724077716981, 'subsample': 0.7844291205381492, 'colsample_bytree': 0.8069191475818126, 'lambda': 0.020851969978534245, 'alpha': 0.04511037129366624}. Best is trial 31 with value: 0.38269602518548324.\n",
      "[I 2025-02-26 10:17:35,332] Trial 48 finished with value: 0.39767842084944266 and parameters: {'booster': 'dart', 'eta': 0.05741474001654686, 'max_depth': 8, 'min_child_weight': 1.241597207600402, 'subsample': 0.8333059973378623, 'colsample_bytree': 0.9536759935722969, 'lambda': 0.004034263235573367, 'alpha': 1.0690194278713279}. Best is trial 31 with value: 0.38269602518548324.\n",
      "[I 2025-02-26 10:17:38,484] Trial 49 finished with value: 0.40598563758611783 and parameters: {'booster': 'gbtree', 'eta': 0.13679800940589895, 'max_depth': 10, 'min_child_weight': 3.6624392575809175, 'subsample': 0.7458771210363055, 'colsample_bytree': 0.8410203029797536, 'lambda': 9.492702093467917, 'alpha': 0.0021575911100727035}. Best is trial 31 with value: 0.38269602518548324.\n"
     ]
    },
    {
     "name": "stdout",
     "output_type": "stream",
     "text": [
      "Best Hyperparameters: {'booster': 'dart', 'eta': 0.061004166911230354, 'max_depth': 10, 'min_child_weight': 1.1255988819586622, 'subsample': 0.8071460412710476, 'colsample_bytree': 0.8854011865461883, 'lambda': 0.0021380208399031323, 'alpha': 0.0462412640230081}\n"
     ]
    }
   ],
   "source": [
    "# Step 5: Run Optuna optimization\n",
    "study = optuna.create_study(direction='minimize', study_name=\"XGBoost Hyperparameter Tuning\")\n",
    "study.optimize(objective, n_trials=50) \n",
    "\n",
    "# Step 6: Display the best hyperparameters\n",
    "print(\"Best Hyperparameters:\", study.best_params)\n"
   ]
  },
  {
   "cell_type": "code",
   "execution_count": 33,
   "id": "bd4ea80e-6c51-4f8f-9deb-128a9243813d",
   "metadata": {},
   "outputs": [
    {
     "name": "stderr",
     "output_type": "stream",
     "text": [
      "C:\\Users\\PC\\Desktop\\ml_project\\venv\\lib\\site-packages\\xgboost\\core.py:158: UserWarning: [10:17:38] WARNING: C:\\buildkite-agent\\builds\\buildkite-windows-cpu-autoscaling-group-i-08cbc0333d8d4aae1-1\\xgboost\\xgboost-ci-windows\\src\\learner.cc:740: \n",
      "Parameters: { \"use_label_encoder\" } are not used.\n",
      "\n",
      "  warnings.warn(smsg, UserWarning)\n"
     ]
    },
    {
     "data": {
      "text/html": [
       "<style>#sk-container-id-2 {\n",
       "  /* Definition of color scheme common for light and dark mode */\n",
       "  --sklearn-color-text: #000;\n",
       "  --sklearn-color-text-muted: #666;\n",
       "  --sklearn-color-line: gray;\n",
       "  /* Definition of color scheme for unfitted estimators */\n",
       "  --sklearn-color-unfitted-level-0: #fff5e6;\n",
       "  --sklearn-color-unfitted-level-1: #f6e4d2;\n",
       "  --sklearn-color-unfitted-level-2: #ffe0b3;\n",
       "  --sklearn-color-unfitted-level-3: chocolate;\n",
       "  /* Definition of color scheme for fitted estimators */\n",
       "  --sklearn-color-fitted-level-0: #f0f8ff;\n",
       "  --sklearn-color-fitted-level-1: #d4ebff;\n",
       "  --sklearn-color-fitted-level-2: #b3dbfd;\n",
       "  --sklearn-color-fitted-level-3: cornflowerblue;\n",
       "\n",
       "  /* Specific color for light theme */\n",
       "  --sklearn-color-text-on-default-background: var(--sg-text-color, var(--theme-code-foreground, var(--jp-content-font-color1, black)));\n",
       "  --sklearn-color-background: var(--sg-background-color, var(--theme-background, var(--jp-layout-color0, white)));\n",
       "  --sklearn-color-border-box: var(--sg-text-color, var(--theme-code-foreground, var(--jp-content-font-color1, black)));\n",
       "  --sklearn-color-icon: #696969;\n",
       "\n",
       "  @media (prefers-color-scheme: dark) {\n",
       "    /* Redefinition of color scheme for dark theme */\n",
       "    --sklearn-color-text-on-default-background: var(--sg-text-color, var(--theme-code-foreground, var(--jp-content-font-color1, white)));\n",
       "    --sklearn-color-background: var(--sg-background-color, var(--theme-background, var(--jp-layout-color0, #111)));\n",
       "    --sklearn-color-border-box: var(--sg-text-color, var(--theme-code-foreground, var(--jp-content-font-color1, white)));\n",
       "    --sklearn-color-icon: #878787;\n",
       "  }\n",
       "}\n",
       "\n",
       "#sk-container-id-2 {\n",
       "  color: var(--sklearn-color-text);\n",
       "}\n",
       "\n",
       "#sk-container-id-2 pre {\n",
       "  padding: 0;\n",
       "}\n",
       "\n",
       "#sk-container-id-2 input.sk-hidden--visually {\n",
       "  border: 0;\n",
       "  clip: rect(1px 1px 1px 1px);\n",
       "  clip: rect(1px, 1px, 1px, 1px);\n",
       "  height: 1px;\n",
       "  margin: -1px;\n",
       "  overflow: hidden;\n",
       "  padding: 0;\n",
       "  position: absolute;\n",
       "  width: 1px;\n",
       "}\n",
       "\n",
       "#sk-container-id-2 div.sk-dashed-wrapped {\n",
       "  border: 1px dashed var(--sklearn-color-line);\n",
       "  margin: 0 0.4em 0.5em 0.4em;\n",
       "  box-sizing: border-box;\n",
       "  padding-bottom: 0.4em;\n",
       "  background-color: var(--sklearn-color-background);\n",
       "}\n",
       "\n",
       "#sk-container-id-2 div.sk-container {\n",
       "  /* jupyter's `normalize.less` sets `[hidden] { display: none; }`\n",
       "     but bootstrap.min.css set `[hidden] { display: none !important; }`\n",
       "     so we also need the `!important` here to be able to override the\n",
       "     default hidden behavior on the sphinx rendered scikit-learn.org.\n",
       "     See: https://github.com/scikit-learn/scikit-learn/issues/21755 */\n",
       "  display: inline-block !important;\n",
       "  position: relative;\n",
       "}\n",
       "\n",
       "#sk-container-id-2 div.sk-text-repr-fallback {\n",
       "  display: none;\n",
       "}\n",
       "\n",
       "div.sk-parallel-item,\n",
       "div.sk-serial,\n",
       "div.sk-item {\n",
       "  /* draw centered vertical line to link estimators */\n",
       "  background-image: linear-gradient(var(--sklearn-color-text-on-default-background), var(--sklearn-color-text-on-default-background));\n",
       "  background-size: 2px 100%;\n",
       "  background-repeat: no-repeat;\n",
       "  background-position: center center;\n",
       "}\n",
       "\n",
       "/* Parallel-specific style estimator block */\n",
       "\n",
       "#sk-container-id-2 div.sk-parallel-item::after {\n",
       "  content: \"\";\n",
       "  width: 100%;\n",
       "  border-bottom: 2px solid var(--sklearn-color-text-on-default-background);\n",
       "  flex-grow: 1;\n",
       "}\n",
       "\n",
       "#sk-container-id-2 div.sk-parallel {\n",
       "  display: flex;\n",
       "  align-items: stretch;\n",
       "  justify-content: center;\n",
       "  background-color: var(--sklearn-color-background);\n",
       "  position: relative;\n",
       "}\n",
       "\n",
       "#sk-container-id-2 div.sk-parallel-item {\n",
       "  display: flex;\n",
       "  flex-direction: column;\n",
       "}\n",
       "\n",
       "#sk-container-id-2 div.sk-parallel-item:first-child::after {\n",
       "  align-self: flex-end;\n",
       "  width: 50%;\n",
       "}\n",
       "\n",
       "#sk-container-id-2 div.sk-parallel-item:last-child::after {\n",
       "  align-self: flex-start;\n",
       "  width: 50%;\n",
       "}\n",
       "\n",
       "#sk-container-id-2 div.sk-parallel-item:only-child::after {\n",
       "  width: 0;\n",
       "}\n",
       "\n",
       "/* Serial-specific style estimator block */\n",
       "\n",
       "#sk-container-id-2 div.sk-serial {\n",
       "  display: flex;\n",
       "  flex-direction: column;\n",
       "  align-items: center;\n",
       "  background-color: var(--sklearn-color-background);\n",
       "  padding-right: 1em;\n",
       "  padding-left: 1em;\n",
       "}\n",
       "\n",
       "\n",
       "/* Toggleable style: style used for estimator/Pipeline/ColumnTransformer box that is\n",
       "clickable and can be expanded/collapsed.\n",
       "- Pipeline and ColumnTransformer use this feature and define the default style\n",
       "- Estimators will overwrite some part of the style using the `sk-estimator` class\n",
       "*/\n",
       "\n",
       "/* Pipeline and ColumnTransformer style (default) */\n",
       "\n",
       "#sk-container-id-2 div.sk-toggleable {\n",
       "  /* Default theme specific background. It is overwritten whether we have a\n",
       "  specific estimator or a Pipeline/ColumnTransformer */\n",
       "  background-color: var(--sklearn-color-background);\n",
       "}\n",
       "\n",
       "/* Toggleable label */\n",
       "#sk-container-id-2 label.sk-toggleable__label {\n",
       "  cursor: pointer;\n",
       "  display: flex;\n",
       "  width: 100%;\n",
       "  margin-bottom: 0;\n",
       "  padding: 0.5em;\n",
       "  box-sizing: border-box;\n",
       "  text-align: center;\n",
       "  align-items: start;\n",
       "  justify-content: space-between;\n",
       "  gap: 0.5em;\n",
       "}\n",
       "\n",
       "#sk-container-id-2 label.sk-toggleable__label .caption {\n",
       "  font-size: 0.6rem;\n",
       "  font-weight: lighter;\n",
       "  color: var(--sklearn-color-text-muted);\n",
       "}\n",
       "\n",
       "#sk-container-id-2 label.sk-toggleable__label-arrow:before {\n",
       "  /* Arrow on the left of the label */\n",
       "  content: \"▸\";\n",
       "  float: left;\n",
       "  margin-right: 0.25em;\n",
       "  color: var(--sklearn-color-icon);\n",
       "}\n",
       "\n",
       "#sk-container-id-2 label.sk-toggleable__label-arrow:hover:before {\n",
       "  color: var(--sklearn-color-text);\n",
       "}\n",
       "\n",
       "/* Toggleable content - dropdown */\n",
       "\n",
       "#sk-container-id-2 div.sk-toggleable__content {\n",
       "  max-height: 0;\n",
       "  max-width: 0;\n",
       "  overflow: hidden;\n",
       "  text-align: left;\n",
       "  /* unfitted */\n",
       "  background-color: var(--sklearn-color-unfitted-level-0);\n",
       "}\n",
       "\n",
       "#sk-container-id-2 div.sk-toggleable__content.fitted {\n",
       "  /* fitted */\n",
       "  background-color: var(--sklearn-color-fitted-level-0);\n",
       "}\n",
       "\n",
       "#sk-container-id-2 div.sk-toggleable__content pre {\n",
       "  margin: 0.2em;\n",
       "  border-radius: 0.25em;\n",
       "  color: var(--sklearn-color-text);\n",
       "  /* unfitted */\n",
       "  background-color: var(--sklearn-color-unfitted-level-0);\n",
       "}\n",
       "\n",
       "#sk-container-id-2 div.sk-toggleable__content.fitted pre {\n",
       "  /* unfitted */\n",
       "  background-color: var(--sklearn-color-fitted-level-0);\n",
       "}\n",
       "\n",
       "#sk-container-id-2 input.sk-toggleable__control:checked~div.sk-toggleable__content {\n",
       "  /* Expand drop-down */\n",
       "  max-height: 200px;\n",
       "  max-width: 100%;\n",
       "  overflow: auto;\n",
       "}\n",
       "\n",
       "#sk-container-id-2 input.sk-toggleable__control:checked~label.sk-toggleable__label-arrow:before {\n",
       "  content: \"▾\";\n",
       "}\n",
       "\n",
       "/* Pipeline/ColumnTransformer-specific style */\n",
       "\n",
       "#sk-container-id-2 div.sk-label input.sk-toggleable__control:checked~label.sk-toggleable__label {\n",
       "  color: var(--sklearn-color-text);\n",
       "  background-color: var(--sklearn-color-unfitted-level-2);\n",
       "}\n",
       "\n",
       "#sk-container-id-2 div.sk-label.fitted input.sk-toggleable__control:checked~label.sk-toggleable__label {\n",
       "  background-color: var(--sklearn-color-fitted-level-2);\n",
       "}\n",
       "\n",
       "/* Estimator-specific style */\n",
       "\n",
       "/* Colorize estimator box */\n",
       "#sk-container-id-2 div.sk-estimator input.sk-toggleable__control:checked~label.sk-toggleable__label {\n",
       "  /* unfitted */\n",
       "  background-color: var(--sklearn-color-unfitted-level-2);\n",
       "}\n",
       "\n",
       "#sk-container-id-2 div.sk-estimator.fitted input.sk-toggleable__control:checked~label.sk-toggleable__label {\n",
       "  /* fitted */\n",
       "  background-color: var(--sklearn-color-fitted-level-2);\n",
       "}\n",
       "\n",
       "#sk-container-id-2 div.sk-label label.sk-toggleable__label,\n",
       "#sk-container-id-2 div.sk-label label {\n",
       "  /* The background is the default theme color */\n",
       "  color: var(--sklearn-color-text-on-default-background);\n",
       "}\n",
       "\n",
       "/* On hover, darken the color of the background */\n",
       "#sk-container-id-2 div.sk-label:hover label.sk-toggleable__label {\n",
       "  color: var(--sklearn-color-text);\n",
       "  background-color: var(--sklearn-color-unfitted-level-2);\n",
       "}\n",
       "\n",
       "/* Label box, darken color on hover, fitted */\n",
       "#sk-container-id-2 div.sk-label.fitted:hover label.sk-toggleable__label.fitted {\n",
       "  color: var(--sklearn-color-text);\n",
       "  background-color: var(--sklearn-color-fitted-level-2);\n",
       "}\n",
       "\n",
       "/* Estimator label */\n",
       "\n",
       "#sk-container-id-2 div.sk-label label {\n",
       "  font-family: monospace;\n",
       "  font-weight: bold;\n",
       "  display: inline-block;\n",
       "  line-height: 1.2em;\n",
       "}\n",
       "\n",
       "#sk-container-id-2 div.sk-label-container {\n",
       "  text-align: center;\n",
       "}\n",
       "\n",
       "/* Estimator-specific */\n",
       "#sk-container-id-2 div.sk-estimator {\n",
       "  font-family: monospace;\n",
       "  border: 1px dotted var(--sklearn-color-border-box);\n",
       "  border-radius: 0.25em;\n",
       "  box-sizing: border-box;\n",
       "  margin-bottom: 0.5em;\n",
       "  /* unfitted */\n",
       "  background-color: var(--sklearn-color-unfitted-level-0);\n",
       "}\n",
       "\n",
       "#sk-container-id-2 div.sk-estimator.fitted {\n",
       "  /* fitted */\n",
       "  background-color: var(--sklearn-color-fitted-level-0);\n",
       "}\n",
       "\n",
       "/* on hover */\n",
       "#sk-container-id-2 div.sk-estimator:hover {\n",
       "  /* unfitted */\n",
       "  background-color: var(--sklearn-color-unfitted-level-2);\n",
       "}\n",
       "\n",
       "#sk-container-id-2 div.sk-estimator.fitted:hover {\n",
       "  /* fitted */\n",
       "  background-color: var(--sklearn-color-fitted-level-2);\n",
       "}\n",
       "\n",
       "/* Specification for estimator info (e.g. \"i\" and \"?\") */\n",
       "\n",
       "/* Common style for \"i\" and \"?\" */\n",
       "\n",
       ".sk-estimator-doc-link,\n",
       "a:link.sk-estimator-doc-link,\n",
       "a:visited.sk-estimator-doc-link {\n",
       "  float: right;\n",
       "  font-size: smaller;\n",
       "  line-height: 1em;\n",
       "  font-family: monospace;\n",
       "  background-color: var(--sklearn-color-background);\n",
       "  border-radius: 1em;\n",
       "  height: 1em;\n",
       "  width: 1em;\n",
       "  text-decoration: none !important;\n",
       "  margin-left: 0.5em;\n",
       "  text-align: center;\n",
       "  /* unfitted */\n",
       "  border: var(--sklearn-color-unfitted-level-1) 1pt solid;\n",
       "  color: var(--sklearn-color-unfitted-level-1);\n",
       "}\n",
       "\n",
       ".sk-estimator-doc-link.fitted,\n",
       "a:link.sk-estimator-doc-link.fitted,\n",
       "a:visited.sk-estimator-doc-link.fitted {\n",
       "  /* fitted */\n",
       "  border: var(--sklearn-color-fitted-level-1) 1pt solid;\n",
       "  color: var(--sklearn-color-fitted-level-1);\n",
       "}\n",
       "\n",
       "/* On hover */\n",
       "div.sk-estimator:hover .sk-estimator-doc-link:hover,\n",
       ".sk-estimator-doc-link:hover,\n",
       "div.sk-label-container:hover .sk-estimator-doc-link:hover,\n",
       ".sk-estimator-doc-link:hover {\n",
       "  /* unfitted */\n",
       "  background-color: var(--sklearn-color-unfitted-level-3);\n",
       "  color: var(--sklearn-color-background);\n",
       "  text-decoration: none;\n",
       "}\n",
       "\n",
       "div.sk-estimator.fitted:hover .sk-estimator-doc-link.fitted:hover,\n",
       ".sk-estimator-doc-link.fitted:hover,\n",
       "div.sk-label-container:hover .sk-estimator-doc-link.fitted:hover,\n",
       ".sk-estimator-doc-link.fitted:hover {\n",
       "  /* fitted */\n",
       "  background-color: var(--sklearn-color-fitted-level-3);\n",
       "  color: var(--sklearn-color-background);\n",
       "  text-decoration: none;\n",
       "}\n",
       "\n",
       "/* Span, style for the box shown on hovering the info icon */\n",
       ".sk-estimator-doc-link span {\n",
       "  display: none;\n",
       "  z-index: 9999;\n",
       "  position: relative;\n",
       "  font-weight: normal;\n",
       "  right: .2ex;\n",
       "  padding: .5ex;\n",
       "  margin: .5ex;\n",
       "  width: min-content;\n",
       "  min-width: 20ex;\n",
       "  max-width: 50ex;\n",
       "  color: var(--sklearn-color-text);\n",
       "  box-shadow: 2pt 2pt 4pt #999;\n",
       "  /* unfitted */\n",
       "  background: var(--sklearn-color-unfitted-level-0);\n",
       "  border: .5pt solid var(--sklearn-color-unfitted-level-3);\n",
       "}\n",
       "\n",
       ".sk-estimator-doc-link.fitted span {\n",
       "  /* fitted */\n",
       "  background: var(--sklearn-color-fitted-level-0);\n",
       "  border: var(--sklearn-color-fitted-level-3);\n",
       "}\n",
       "\n",
       ".sk-estimator-doc-link:hover span {\n",
       "  display: block;\n",
       "}\n",
       "\n",
       "/* \"?\"-specific style due to the `<a>` HTML tag */\n",
       "\n",
       "#sk-container-id-2 a.estimator_doc_link {\n",
       "  float: right;\n",
       "  font-size: 1rem;\n",
       "  line-height: 1em;\n",
       "  font-family: monospace;\n",
       "  background-color: var(--sklearn-color-background);\n",
       "  border-radius: 1rem;\n",
       "  height: 1rem;\n",
       "  width: 1rem;\n",
       "  text-decoration: none;\n",
       "  /* unfitted */\n",
       "  color: var(--sklearn-color-unfitted-level-1);\n",
       "  border: var(--sklearn-color-unfitted-level-1) 1pt solid;\n",
       "}\n",
       "\n",
       "#sk-container-id-2 a.estimator_doc_link.fitted {\n",
       "  /* fitted */\n",
       "  border: var(--sklearn-color-fitted-level-1) 1pt solid;\n",
       "  color: var(--sklearn-color-fitted-level-1);\n",
       "}\n",
       "\n",
       "/* On hover */\n",
       "#sk-container-id-2 a.estimator_doc_link:hover {\n",
       "  /* unfitted */\n",
       "  background-color: var(--sklearn-color-unfitted-level-3);\n",
       "  color: var(--sklearn-color-background);\n",
       "  text-decoration: none;\n",
       "}\n",
       "\n",
       "#sk-container-id-2 a.estimator_doc_link.fitted:hover {\n",
       "  /* fitted */\n",
       "  background-color: var(--sklearn-color-fitted-level-3);\n",
       "}\n",
       "</style><div id=\"sk-container-id-2\" class=\"sk-top-container\"><div class=\"sk-text-repr-fallback\"><pre>XGBClassifier(alpha=0.0462412640230081, base_score=None, booster=&#x27;dart&#x27;,\n",
       "              callbacks=None, colsample_bylevel=None, colsample_bynode=None,\n",
       "              colsample_bytree=0.8854011865461883, device=None,\n",
       "              early_stopping_rounds=None, enable_categorical=False,\n",
       "              eta=0.061004166911230354, eval_metric=&#x27;logloss&#x27;,\n",
       "              feature_types=None, gamma=None, grow_policy=None,\n",
       "              importance_type=None, interaction_constraints=None,\n",
       "              lambda=0.0021380208399031323, learning_rate=None, max_bin=None,\n",
       "              max_cat_threshold=None, max_cat_to_onehot=None,\n",
       "              max_delta_step=None, max_depth=10, max_leaves=None,\n",
       "              min_child_weight=1.1255988819586622, missing=nan,\n",
       "              monotone_constraints=None, multi_strategy=None, n_estimators=None, ...)</pre><b>In a Jupyter environment, please rerun this cell to show the HTML representation or trust the notebook. <br />On GitHub, the HTML representation is unable to render, please try loading this page with nbviewer.org.</b></div><div class=\"sk-container\" hidden><div class=\"sk-item\"><div class=\"sk-estimator fitted sk-toggleable\"><input class=\"sk-toggleable__control sk-hidden--visually\" id=\"sk-estimator-id-2\" type=\"checkbox\" checked><label for=\"sk-estimator-id-2\" class=\"sk-toggleable__label fitted sk-toggleable__label-arrow\"><div><div>XGBClassifier</div></div><div><span class=\"sk-estimator-doc-link fitted\">i<span>Fitted</span></span></div></label><div class=\"sk-toggleable__content fitted\"><pre>XGBClassifier(alpha=0.0462412640230081, base_score=None, booster=&#x27;dart&#x27;,\n",
       "              callbacks=None, colsample_bylevel=None, colsample_bynode=None,\n",
       "              colsample_bytree=0.8854011865461883, device=None,\n",
       "              early_stopping_rounds=None, enable_categorical=False,\n",
       "              eta=0.061004166911230354, eval_metric=&#x27;logloss&#x27;,\n",
       "              feature_types=None, gamma=None, grow_policy=None,\n",
       "              importance_type=None, interaction_constraints=None,\n",
       "              lambda=0.0021380208399031323, learning_rate=None, max_bin=None,\n",
       "              max_cat_threshold=None, max_cat_to_onehot=None,\n",
       "              max_delta_step=None, max_depth=10, max_leaves=None,\n",
       "              min_child_weight=1.1255988819586622, missing=nan,\n",
       "              monotone_constraints=None, multi_strategy=None, n_estimators=None, ...)</pre></div> </div></div></div></div>"
      ],
      "text/plain": [
       "XGBClassifier(alpha=0.0462412640230081, base_score=None, booster='dart',\n",
       "              callbacks=None, colsample_bylevel=None, colsample_bynode=None,\n",
       "              colsample_bytree=0.8854011865461883, device=None,\n",
       "              early_stopping_rounds=None, enable_categorical=False,\n",
       "              eta=0.061004166911230354, eval_metric='logloss',\n",
       "              feature_types=None, gamma=None, grow_policy=None,\n",
       "              importance_type=None, interaction_constraints=None,\n",
       "              lambda=0.0021380208399031323, learning_rate=None, max_bin=None,\n",
       "              max_cat_threshold=None, max_cat_to_onehot=None,\n",
       "              max_delta_step=None, max_depth=10, max_leaves=None,\n",
       "              min_child_weight=1.1255988819586622, missing=nan,\n",
       "              monotone_constraints=None, multi_strategy=None, n_estimators=None, ...)"
      ]
     },
     "execution_count": 33,
     "metadata": {},
     "output_type": "execute_result"
    }
   ],
   "source": [
    "# Step 7: Train the final model with the best hyperparameters\n",
    "best_params = study.best_params\n",
    "best_params.update({\n",
    "    'objective': 'binary:logistic',\n",
    "    'eval_metric': 'logloss',\n",
    "    'use_label_encoder': False  # Avoid deprecation warning\n",
    "})\n",
    "XGBoost = xgb.XGBClassifier(**best_params, random_state=42)\n",
    "XGBoost.fit(X_train_scaled, y_train)\n"
   ]
  },
  {
   "cell_type": "code",
   "execution_count": 34,
   "id": "742009b0-3e52-42c0-a73b-b073fe52fcd4",
   "metadata": {},
   "outputs": [
    {
     "name": "stdout",
     "output_type": "stream",
     "text": [
      "\n",
      "Test Accuracy: 0.8327239488117002\n",
      "\n",
      "Classification Report:\n",
      "               precision    recall  f1-score   support\n",
      "\n",
      "           0       0.73      0.45      0.56       511\n",
      "           1       0.85      0.95      0.90      1677\n",
      "\n",
      "    accuracy                           0.83      2188\n",
      "   macro avg       0.79      0.70      0.73      2188\n",
      "weighted avg       0.82      0.83      0.82      2188\n",
      "\n"
     ]
    }
   ],
   "source": [
    "# Step 8: Evaluate the model on the test set\n",
    "y_pred = XGBoost.predict(X_test_scaled)\n",
    "accuracy = accuracy_score(y_test, y_pred)\n",
    "print(\"\\nTest Accuracy:\", accuracy)\n",
    "print(\"\\nClassification Report:\\n\", classification_report(y_test, y_pred))\n"
   ]
  },
  {
   "cell_type": "code",
   "execution_count": 35,
   "id": "ff1e6fbb-5b0d-4f89-be61-fac9cc727a38",
   "metadata": {},
   "outputs": [
    {
     "data": {
      "image/png": "[encoded data removed]",
      "text/plain": [
       "<Figure size 600x400 with 2 Axes>"
      ]
     },
     "metadata": {},
     "output_type": "display_data"
    }
   ],
   "source": [
    "# Generate confusion matrix\n",
    "cm = confusion_matrix(y_test, y_pred)\n",
    "\n",
    "# Plot confusion matrix as heatmap\n",
    "plt.figure(figsize=(6, 4))\n",
    "sns.heatmap(cm, annot=True, fmt='d', cmap='Blues', xticklabels=['Sell', 'Buy'], yticklabels=['Sell', 'Buy'])\n",
    "plt.title('Confusion Matrix  XgBooost')\n",
    "plt.xlabel('Predicted')\n",
    "plt.ylabel('Actual')\n",
    "plt.show()\n"
   ]
  },
  {
   "cell_type": "markdown",
   "id": "efb8e894-ba62-4a2c-a4e1-faed99ba99d8",
   "metadata": {},
   "source": [
    "## Random Forest Classifier"
   ]
  },
  {
   "cell_type": "code",
   "execution_count": null,
   "id": "bb4a81c4-dc99-4ff2-a15e-1fafb187e6b5",
   "metadata": {},
   "outputs": [
    {
     "name": "stderr",
     "output_type": "stream",
     "text": [
      "[I 2025-02-26 10:17:46,856] A new study created in memory with name: no-name-50fb92ab-bb22-4091-a15e-aea0119164e0\n",
      "[I 2025-02-26 10:18:16,196] Trial 0 finished with value: 0.4051808656745819 and parameters: {'n_estimators': 77, 'max_depth': 17, 'min_samples_split': 18, 'min_samples_leaf': 1, 'max_features': None, 'bootstrap': True}. Best is trial 0 with value: 0.4051808656745819.\n",
      "[I 2025-02-26 10:18:23,895] Trial 1 finished with value: 0.4419592176978945 and parameters: {'n_estimators': 177, 'max_depth': 5, 'min_samples_split': 3, 'min_samples_leaf': 16, 'max_features': 'log2', 'bootstrap': False}. Best is trial 0 with value: 0.4051808656745819.\n",
      "[I 2025-02-26 10:18:30,064] Trial 2 finished with value: 0.4081842539181683 and parameters: {'n_estimators': 102, 'max_depth': 16, 'min_samples_split': 2, 'min_samples_leaf': 17, 'max_features': 'log2', 'bootstrap': False}. Best is trial 0 with value: 0.4051808656745819.\n",
      "[I 2025-02-26 10:18:39,263] Trial 3 finished with value: 0.411041256218009 and parameters: {'n_estimators': 162, 'max_depth': 10, 'min_samples_split': 13, 'min_samples_leaf': 1, 'max_features': 'log2', 'bootstrap': False}. Best is trial 0 with value: 0.4051808656745819.\n",
      "[I 2025-02-26 10:18:43,063] Trial 4 finished with value: 0.4430919410588571 and parameters: {'n_estimators': 165, 'max_depth': 5, 'min_samples_split': 19, 'min_samples_leaf': 14, 'max_features': 'sqrt', 'bootstrap': True}. Best is trial 0 with value: 0.4051808656745819.\n",
      "[I 2025-02-26 10:18:45,063] Trial 5 finished with value: 0.433753165707221 and parameters: {'n_estimators': 63, 'max_depth': 7, 'min_samples_split': 13, 'min_samples_leaf': 10, 'max_features': 'log2', 'bootstrap': True}. Best is trial 0 with value: 0.4051808656745819.\n",
      "[I 2025-02-26 10:18:46,896] Trial 6 finished with value: 0.43329923080162136 and parameters: {'n_estimators': 56, 'max_depth': 7, 'min_samples_split': 2, 'min_samples_leaf': 4, 'max_features': 'sqrt', 'bootstrap': True}. Best is trial 0 with value: 0.4051808656745819.\n",
      "[I 2025-02-26 10:19:14,317] Trial 7 finished with value: 0.4119159825827812 and parameters: {'n_estimators': 159, 'max_depth': 13, 'min_samples_split': 7, 'min_samples_leaf': 13, 'max_features': None, 'bootstrap': True}. Best is trial 0 with value: 0.4051808656745819.\n",
      "[I 2025-02-26 10:19:20,149] Trial 8 finished with value: 0.4060058814299614 and parameters: {'n_estimators': 100, 'max_depth': 12, 'min_samples_split': 8, 'min_samples_leaf': 9, 'max_features': 'log2', 'bootstrap': False}. Best is trial 0 with value: 0.4051808656745819.\n",
      "[I 2025-02-26 10:19:22,366] Trial 9 finished with value: 0.42410592247855383 and parameters: {'n_estimators': 60, 'max_depth': 10, 'min_samples_split': 13, 'min_samples_leaf': 11, 'max_features': 'sqrt', 'bootstrap': True}. Best is trial 0 with value: 0.4051808656745819.\n"
     ]
    }
   ],
   "source": [
    "import optuna\n",
    "from sklearn.ensemble import RandomForestClassifier\n",
    "from sklearn.model_selection import cross_val_score\n",
    "from sklearn.metrics import log_loss\n",
    "\n",
    "\n",
    "def objectiveRD(trial):\n",
    "    params = {\n",
    "        'n_estimators': trial.suggest_int('n_estimators', 50, 200),\n",
    "        'max_depth': trial.suggest_int('max_depth', 3, 20),\n",
    "        'min_samples_split': trial.suggest_int('min_samples_split', 2, 20),\n",
    "        'min_samples_leaf': trial.suggest_int('min_samples_leaf', 1, 20),\n",
    "        'max_features': trial.suggest_categorical('max_features', ['sqrt', 'log2', None]),\n",
    "        'bootstrap': trial.suggest_categorical('bootstrap', [True, False])\n",
    "    }\n",
    "    \n",
    "    model = RandomForestClassifier(**params, random_state=42)\n",
    "    \n",
    "    # Evaluation \n",
    "    scores = cross_val_score(model, X_train_scaled, y_train, cv=5, scoring='neg_log_loss', n_jobs=-1)\n",
    "    \n",
    "    return -np.mean(scores)  # Minimiser la log loss\n",
    "\n",
    "\n",
    "study = optuna.create_study(direction=\"minimize\")\n",
    "study.optimize(objectiveRD, n_trials=50)"
   ]
  },
  {
   "cell_type": "code",
   "execution_count": null,
   "id": "e5a26900-0e62-4edf-95c6-f13b1d6ac97a",
   "metadata": {
    "scrolled": true
   },
   "outputs": [],
   "source": [
    "from sklearn.ensemble import RandomForestClassifier  \n",
    "\n",
    "best_params = study.best_params\n",
    "\n",
    "best_params.update({\n",
    "    'random_state': 42\n",
    "})\n",
    "\n",
    "# Créer et entraîner le modèle final avec les meilleurs hyperparamètres\n",
    "rf_model = RandomForestClassifier(**best_params)  \n",
    "rf_model.fit(X_train_scaled, y_train)\n"
   ]
  },
  {
   "cell_type": "code",
   "execution_count": null,
   "id": "d35267ec-6a2c-4a9e-9c60-d94322cee050",
   "metadata": {},
   "outputs": [],
   "source": [
    "y_pred = rf_model.predict(X_test_scaled)\n",
    "accuracy = accuracy_score(y_test, y_pred)\n",
    "print(\"\\nTest Accuracy:\", accuracy)\n",
    "print(\"\\nClassification Report:\\n\", classification_report(y_test, y_pred))"
   ]
  },
  {
   "cell_type": "code",
   "execution_count": null,
   "id": "6ac17f1c-5a89-4d64-8a09-d034964426c6",
   "metadata": {},
   "outputs": [],
   "source": [
    "cm = confusion_matrix(y_test, y_pred)\n",
    "\n",
    "# Plot confusion matrix as heatmap\n",
    "plt.figure(figsize=(6, 4))\n",
    "sns.heatmap(cm, annot=True, fmt='d', cmap='Blues', xticklabels=['Sell', 'Buy'], yticklabels=['Sell', 'Buy'])\n",
    "plt.title('Confusion Matrix  Random Forest')\n",
    "plt.xlabel('Predicted')\n",
    "plt.ylabel('Actual')\n",
    "plt.show()"
   ]
  },
  {
   "cell_type": "markdown",
   "id": "8e0e8655-1392-4170-90df-fb8e733a64b0",
   "metadata": {},
   "source": [
    "## Save Final Model (The best Model)"
   ]
  },
  {
   "cell_type": "markdown",
   "id": "9d3fe65f-c330-422f-941f-58894ef2eb40",
   "metadata": {},
   "source": [
    "'''\n",
    "It plots the True Positive Rate (TPR) against the False Positive Rate (FPR) \n",
    "at different thresholds showing how well a model can distinguish between two \n",
    "classes such as positive and negative outcomes.\n",
    "\n",
    "'''\n"
   ]
  },
  {
   "cell_type": "code",
   "execution_count": null,
   "id": "dcc13d5c-dcf8-481e-8ba4-3ee169026ea0",
   "metadata": {},
   "outputs": [],
   "source": [
    "import matplotlib.pyplot as plt\n",
    "from sklearn.metrics import roc_curve, auc\n",
    "\n",
    "# Your trained models\n",
    "models = [rf_model, LightGBM, XGBoost]  # Update model names accordingly\n",
    "model_names = ['Random Forest', 'LightGBM', 'XGBoost']\n",
    "\n",
    "# Placeholder for actual predicted probabilities\n",
    "model_probabilities = [\n",
    "    rf_model.predict_proba(X_test_scaled),  # Random Forest\n",
    "    LightGBM.predict_proba(X_test_scaled),  # LightGBM\n",
    "    XGBoost.predict_proba(X_test_scaled)    # XGBoost\n",
    "]\n",
    "\n",
    "# Prepare a figure for plotting\n",
    "plt.figure(figsize=(10, 8))\n",
    "\n",
    "for i, model in enumerate(models):\n",
    "    # Get the predicted probabilities for the positive class (class 1)\n",
    "    y_prob = model_probabilities[i][:, 1]  # Assuming it's a binary classification model\n",
    "    \n",
    "    # Compute the ROC curve\n",
    "    fpr, tpr, thresholds = roc_curve(y_test, y_prob)\n",
    "    \n",
    "    # Compute the AUC\n",
    "    roc_auc = auc(fpr, tpr)\n",
    "    \n",
    "    # Plot the ROC curve\n",
    "    plt.plot(fpr, tpr, label=f'{model_names[i]} (AUC = {roc_auc:.2f})')\n",
    "\n",
    "# Plot the diagonal line representing random guessing\n",
    "plt.plot([0, 1], [0, 1], 'k--', label='Random Classifier (AUC = 0.5)')\n",
    "\n",
    "# Labels and Title\n",
    "plt.title('Receiver Operating Characteristic (ROC) Curve')\n",
    "plt.xlabel('False Positive Rate (FPR)')\n",
    "plt.ylabel('True Positive Rate (TPR)')\n",
    "plt.legend(loc='lower right')\n",
    "\n",
    "# Show the plot\n",
    "plt.grid(True)\n",
    "plt.show()\n"
   ]
  },
  {
   "cell_type": "code",
   "execution_count": null,
   "id": "11a59cff-9aad-4442-b375-0e6b652b9de8",
   "metadata": {},
   "outputs": [],
   "source": [
    "import joblib\n",
    "\n",
    "# Save the trained model\n",
    "joblib.dump(LightGBM, \"lightgbm_aapl_model.pkl\")\n",
    "\n",
    "# Load it later for predictions\n",
    "loaded_model = joblib.load(\"lightgbm_aapl_model.pkl\")\n"
   ]
  }
 ],
 "metadata": {
  "kernelspec": {
   "display_name": "Python (venv)",
   "language": "python",
   "name": "venv"
  },
  "language_info": {
   "codemirror_mode": {
    "name": "ipython",
    "version": 3
   },
   "file_extension": ".py",
   "mimetype": "text/x-python",
   "name": "python",
   "nbconvert_exporter": "python",
   "pygments_lexer": "ipython3",
   "version": "3.10.5"
  },
  "widgets": {
   "application/vnd.jupyter.widget-state+json": {
    "state": {},
    "version_major": 2,
    "version_minor": 0
   }
  }
 },
 "nbformat": 4,
 "nbformat_minor": 5
}
