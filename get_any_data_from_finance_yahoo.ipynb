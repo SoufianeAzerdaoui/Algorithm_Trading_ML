{
 "cells": [
  {
   "cell_type": "markdown",
   "id": "6b2caa93-4a41-47dc-aa09-db60d4f0fd56",
   "metadata": {},
   "source": [
    "## Tesing  wiht web scraping "
   ]
  },
  {
   "cell_type": "code",
   "execution_count": 2,
   "id": "bfbd1070-b83e-463a-99ec-db859a6b635d",
   "metadata": {},
   "outputs": [],
   "source": [
    "import yfinance as yf\n",
    "import pandas as pd\n"
   ]
  },
  {
   "cell_type": "code",
   "execution_count": 40,
   "id": "69cc71bf-a22a-404b-983b-de241a82dfe2",
   "metadata": {},
   "outputs": [
    {
     "data": {
      "text/plain": [
       "0"
      ]
     },
     "execution_count": 40,
     "metadata": {},
     "output_type": "execute_result"
    }
   ],
   "source": [
    "appl_rows = historical_data.shape[0]\n",
    "appl_rows"
   ]
  },
  {
   "cell_type": "code",
   "execution_count": 30,
   "id": "c2ab98d9-349d-4ee1-b408-86ab1900c8c3",
   "metadata": {},
   "outputs": [
    {
     "name": "stdout",
     "output_type": "stream",
     "text": [
      "Fetching historical data for AAPL...\n"
     ]
    },
    {
     "name": "stderr",
     "output_type": "stream",
     "text": [
      "[*********************100%***********************]  1 of 1 completed"
     ]
    },
    {
     "name": "stdout",
     "output_type": "stream",
     "text": [
      "Fetched 11080 rows of data.\n",
      "Price        Date Adj Close     Close      High       Low      Open     Volume\n",
      "Ticker                 AAPL      AAPL      AAPL      AAPL      AAPL       AAPL\n",
      "0      1980-12-12  0.098834  0.128348  0.128906  0.128348  0.128348  469033600\n",
      "1      1980-12-15  0.093678  0.121652  0.122210  0.121652  0.122210  175884800\n",
      "2      1980-12-16  0.086802  0.112723  0.113281  0.112723  0.113281  105728000\n",
      "3      1980-12-17  0.088951  0.115513  0.116071  0.115513  0.115513   86441600\n",
      "4      1980-12-18  0.091530  0.118862  0.119420  0.118862  0.118862   73449600\n"
     ]
    },
    {
     "name": "stderr",
     "output_type": "stream",
     "text": [
      "\n"
     ]
    }
   ],
   "source": [
    "import pandas as pd\n",
    "\n",
    "# Fetch data with yfinance\n",
    "def fetch_historical_data(symbol, start_date=\"1970-01-01\"):\n",
    "    \"\"\"\n",
    "    Fetch historical stock data using yfinance.\n",
    "\n",
    "    Parameters:\n",
    "    - symbol (str): Stock ticker symbol (e.g., 'AAPL').\n",
    "    - start_date (str): Start date for data (format 'YYYY-MM-DD').\n",
    "\n",
    "    Returns:\n",
    "    - pd.DataFrame: DataFrame containing historical data with the 'Date' column.\n",
    "    \"\"\"\n",
    "    try:\n",
    "        print(f\"Fetching historical data for {symbol}...\")\n",
    "        data = yf.download(symbol, start=start_date)\n",
    "\n",
    "        # Ensure 'Date' column is properly set\n",
    "        if not data.empty:\n",
    "            data.reset_index(inplace=True)  # Ensure 'Date' is a column, not the index\n",
    "            print(f\"Fetched {len(data)} rows of data.\")\n",
    "        else:\n",
    "            print(\"No data found!\")\n",
    "\n",
    "        return data\n",
    "    except Exception as e:\n",
    "        print(f\"Error: {e}\")\n",
    "        return pd.DataFrame()\n",
    "\n",
    "# Example usage\n",
    "if __name__ == \"__main__\":\n",
    "    stock_symbol = \"AAPL\"  # Replace with desired stock symbol\n",
    "    historical_data = fetch_historical_data(stock_symbol)\n",
    "\n",
    "    if not historical_data.empty:\n",
    "        # Save data to a CSV file\n",
    "        historical_data.to_csv(f\"Data Historical/{stock_symbol}_data.csv\", index=False)\n",
    "        print(historical_data.head())  # Display the first few rows\n"
   ]
  },
  {
   "cell_type": "code",
   "execution_count": 29,
   "id": "a2ea3ec1-cb34-474b-8f43-4ab884f2a564",
   "metadata": {},
   "outputs": [
    {
     "data": {
      "text/html": [
       "<div>\n",
       "<style scoped>\n",
       "    .dataframe tbody tr th:only-of-type {\n",
       "        vertical-align: middle;\n",
       "    }\n",
       "\n",
       "    .dataframe tbody tr th {\n",
       "        vertical-align: top;\n",
       "    }\n",
       "\n",
       "    .dataframe thead tr th {\n",
       "        text-align: left;\n",
       "    }\n",
       "</style>\n",
       "<table border=\"1\" class=\"dataframe\">\n",
       "  <thead>\n",
       "    <tr>\n",
       "      <th>Price</th>\n",
       "      <th>Date</th>\n",
       "      <th>Adj Close</th>\n",
       "      <th>Close</th>\n",
       "      <th>High</th>\n",
       "      <th>Low</th>\n",
       "      <th>Open</th>\n",
       "      <th>Volume</th>\n",
       "    </tr>\n",
       "    <tr>\n",
       "      <th>Ticker</th>\n",
       "      <th></th>\n",
       "      <th>AAPL</th>\n",
       "      <th>AAPL</th>\n",
       "      <th>AAPL</th>\n",
       "      <th>AAPL</th>\n",
       "      <th>AAPL</th>\n",
       "      <th>AAPL</th>\n",
       "    </tr>\n",
       "  </thead>\n",
       "  <tbody>\n",
       "    <tr>\n",
       "      <th>11070</th>\n",
       "      <td>2024-11-11</td>\n",
       "      <td>224.229996</td>\n",
       "      <td>224.229996</td>\n",
       "      <td>225.699997</td>\n",
       "      <td>221.500000</td>\n",
       "      <td>225.000000</td>\n",
       "      <td>42005600</td>\n",
       "    </tr>\n",
       "    <tr>\n",
       "      <th>11071</th>\n",
       "      <td>2024-11-12</td>\n",
       "      <td>224.229996</td>\n",
       "      <td>224.229996</td>\n",
       "      <td>225.589996</td>\n",
       "      <td>223.360001</td>\n",
       "      <td>224.550003</td>\n",
       "      <td>40398300</td>\n",
       "    </tr>\n",
       "    <tr>\n",
       "      <th>11072</th>\n",
       "      <td>2024-11-13</td>\n",
       "      <td>225.119995</td>\n",
       "      <td>225.119995</td>\n",
       "      <td>226.649994</td>\n",
       "      <td>222.759995</td>\n",
       "      <td>224.009995</td>\n",
       "      <td>48566200</td>\n",
       "    </tr>\n",
       "    <tr>\n",
       "      <th>11073</th>\n",
       "      <td>2024-11-14</td>\n",
       "      <td>228.220001</td>\n",
       "      <td>228.220001</td>\n",
       "      <td>228.869995</td>\n",
       "      <td>225.000000</td>\n",
       "      <td>225.020004</td>\n",
       "      <td>44923900</td>\n",
       "    </tr>\n",
       "    <tr>\n",
       "      <th>11074</th>\n",
       "      <td>2024-11-15</td>\n",
       "      <td>225.000000</td>\n",
       "      <td>225.000000</td>\n",
       "      <td>226.919998</td>\n",
       "      <td>224.270004</td>\n",
       "      <td>226.399994</td>\n",
       "      <td>47923700</td>\n",
       "    </tr>\n",
       "    <tr>\n",
       "      <th>11075</th>\n",
       "      <td>2024-11-18</td>\n",
       "      <td>228.020004</td>\n",
       "      <td>228.020004</td>\n",
       "      <td>229.740005</td>\n",
       "      <td>225.169998</td>\n",
       "      <td>225.250000</td>\n",
       "      <td>44686000</td>\n",
       "    </tr>\n",
       "    <tr>\n",
       "      <th>11076</th>\n",
       "      <td>2024-11-19</td>\n",
       "      <td>228.279999</td>\n",
       "      <td>228.279999</td>\n",
       "      <td>230.160004</td>\n",
       "      <td>226.660004</td>\n",
       "      <td>226.979996</td>\n",
       "      <td>36211800</td>\n",
       "    </tr>\n",
       "    <tr>\n",
       "      <th>11077</th>\n",
       "      <td>2024-11-20</td>\n",
       "      <td>229.000000</td>\n",
       "      <td>229.000000</td>\n",
       "      <td>229.929993</td>\n",
       "      <td>225.889999</td>\n",
       "      <td>228.059998</td>\n",
       "      <td>35169600</td>\n",
       "    </tr>\n",
       "    <tr>\n",
       "      <th>11078</th>\n",
       "      <td>2024-11-21</td>\n",
       "      <td>228.520004</td>\n",
       "      <td>228.520004</td>\n",
       "      <td>230.160004</td>\n",
       "      <td>225.710007</td>\n",
       "      <td>228.880005</td>\n",
       "      <td>42071900</td>\n",
       "    </tr>\n",
       "    <tr>\n",
       "      <th>11079</th>\n",
       "      <td>2024-11-22</td>\n",
       "      <td>229.447601</td>\n",
       "      <td>229.447601</td>\n",
       "      <td>230.130005</td>\n",
       "      <td>228.059998</td>\n",
       "      <td>228.059998</td>\n",
       "      <td>8163149</td>\n",
       "    </tr>\n",
       "  </tbody>\n",
       "</table>\n",
       "</div>"
      ],
      "text/plain": [
       "Price        Date   Adj Close       Close        High         Low        Open  \\\n",
       "Ticker                   AAPL        AAPL        AAPL        AAPL        AAPL   \n",
       "11070  2024-11-11  224.229996  224.229996  225.699997  221.500000  225.000000   \n",
       "11071  2024-11-12  224.229996  224.229996  225.589996  223.360001  224.550003   \n",
       "11072  2024-11-13  225.119995  225.119995  226.649994  222.759995  224.009995   \n",
       "11073  2024-11-14  228.220001  228.220001  228.869995  225.000000  225.020004   \n",
       "11074  2024-11-15  225.000000  225.000000  226.919998  224.270004  226.399994   \n",
       "11075  2024-11-18  228.020004  228.020004  229.740005  225.169998  225.250000   \n",
       "11076  2024-11-19  228.279999  228.279999  230.160004  226.660004  226.979996   \n",
       "11077  2024-11-20  229.000000  229.000000  229.929993  225.889999  228.059998   \n",
       "11078  2024-11-21  228.520004  228.520004  230.160004  225.710007  228.880005   \n",
       "11079  2024-11-22  229.447601  229.447601  230.130005  228.059998  228.059998   \n",
       "\n",
       "Price     Volume  \n",
       "Ticker      AAPL  \n",
       "11070   42005600  \n",
       "11071   40398300  \n",
       "11072   48566200  \n",
       "11073   44923900  \n",
       "11074   47923700  \n",
       "11075   44686000  \n",
       "11076   36211800  \n",
       "11077   35169600  \n",
       "11078   42071900  \n",
       "11079    8163149  "
      ]
     },
     "execution_count": 29,
     "metadata": {},
     "output_type": "execute_result"
    }
   ],
   "source": [
    "historical_data.tail(10)"
   ]
  }
 ],
 "metadata": {
  "kernelspec": {
   "display_name": "Python 3 (ipykernel)",
   "language": "python",
   "name": "python3"
  },
  "language_info": {
   "codemirror_mode": {
    "name": "ipython",
    "version": 3
   },
   "file_extension": ".py",
   "mimetype": "text/x-python",
   "name": "python",
   "nbconvert_exporter": "python",
   "pygments_lexer": "ipython3",
   "version": "3.10.12"
  },
  "widgets": {
   "application/vnd.jupyter.widget-state+json": {
    "state": {},
    "version_major": 2,
    "version_minor": 0
   }
  }
 },
 "nbformat": 4,
 "nbformat_minor": 5
}
