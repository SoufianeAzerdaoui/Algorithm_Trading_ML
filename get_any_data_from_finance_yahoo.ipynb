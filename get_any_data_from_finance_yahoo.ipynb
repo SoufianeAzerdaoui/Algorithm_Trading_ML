{
 "cells": [
  {
   "cell_type": "markdown",
   "id": "6b2caa93-4a41-47dc-aa09-db60d4f0fd56",
   "metadata": {},
   "source": [
    "## Tesing  wiht web scraping "
   ]
  },
  {
   "cell_type": "raw",
   "id": "ec668ab2-c552-4468-b89f-2ecd19523872",
   "metadata": {},
   "source": [
    "pip install requests beautifulsoup4 pandas\n"
   ]
  },
  {
   "cell_type": "code",
   "execution_count": 2,
   "id": "bfbd1070-b83e-463a-99ec-db859a6b635d",
   "metadata": {},
   "outputs": [],
   "source": [
    "import yfinance as yf\n",
    "import pandas as pd\n"
   ]
  },
  {
   "cell_type": "markdown",
   "id": "14a33f63-05b5-432e-9161-c6a4056a5be3",
   "metadata": {},
   "source": [
    "## AAPPL Data"
   ]
  },
  {
   "cell_type": "code",
   "execution_count": 39,
   "id": "bddc9995-ebe2-4588-b652-7f0fca254a69",
   "metadata": {},
   "outputs": [
    {
     "name": "stdout",
     "output_type": "stream",
     "text": [
      "Fetching data for AAPL from 1970-01-01...\n"
     ]
    },
    {
     "name": "stderr",
     "output_type": "stream",
     "text": [
      "[*********************100%***********************]  1 of 1 completed\n",
      "\n",
      "1 Failed download:\n",
      "['AAPL']: ReadTimeout(ReadTimeoutError(\"HTTPSConnectionPool(host='query2.finance.yahoo.com', port=443): Read timed out. (read timeout=10)\"))\n"
     ]
    },
    {
     "name": "stdout",
     "output_type": "stream",
     "text": [
      "No data found for symbol AAPL.\n",
      "Empty DataFrame\n",
      "Columns: [(Adj Close, AAPL), (Close, AAPL), (High, AAPL), (Low, AAPL), (Open, AAPL), (Volume, AAPL)]\n",
      "Index: []\n"
     ]
    }
   ],
   "source": [
    "\n",
    "def fetch_historical_data(symbol, start_date=\"1970-01-01\"):\n",
    "    \"\"\"\n",
    "    Fetch historical stock data from Yahoo Finance using yfinance.\n",
    "\n",
    "    Parameters:\n",
    "    - symbol (str): The stock ticker symbol (e.g., 'AAPL').\n",
    "    - start_date (str): The start date for the data in 'YYYY-MM-DD' format. Default is '1970-01-01'.\n",
    "\n",
    "    Returns:\n",
    "    - pd.DataFrame: A dataframe containing historical stock data.\n",
    "    \"\"\"\n",
    "    try:\n",
    "        # Fetch data\n",
    "        print(f\"Fetching data for {symbol} from {start_date}...\")\n",
    "        data = yf.download(symbol, start=start_date)\n",
    "        if data.empty:\n",
    "            print(f\"No data found for symbol {symbol}.\")\n",
    "        else:\n",
    "            print(f\"Data fetched successfully for {symbol}.\")\n",
    "        return data\n",
    "    except Exception as e:\n",
    "        print(f\"An error occurred: {e}\")\n",
    "        return pd.DataFrame()\n",
    "\n",
    "# Example usage\n",
    "if __name__ == \"__main__\":\n",
    "    # Set the stock symbol and fetch data\n",
    "    stock_symbol = \"AAPL\"  # Replace with the desired stock symbol\n",
    "    historical_data = fetch_historical_data(stock_symbol)\n",
    "\n",
    "    # Save to CSV (optional)\n",
    "    if not historical_data.empty:\n",
    "        historical_data.to_csv(f\"{stock_symbol}_historical_data.csv\")\n",
    "        print(f\"Historical data saved to {stock_symbol}_historical_data.csv\")\n",
    "\n",
    "    # Display the first few rows of data\n",
    "    print(historical_data.head())\n"
   ]
  },
  {
   "cell_type": "code",
   "execution_count": 40,
   "id": "69cc71bf-a22a-404b-983b-de241a82dfe2",
   "metadata": {},
   "outputs": [
    {
     "data": {
      "text/plain": [
       "0"
      ]
     },
     "execution_count": 40,
     "metadata": {},
     "output_type": "execute_result"
    }
   ],
   "source": [
    "appl_rows = historical_data.shape[0]\n",
    "appl_rows"
   ]
  },
  {
   "cell_type": "code",
   "execution_count": null,
   "id": "145b1394-8778-4e29-b874-f7973f9cae38",
   "metadata": {},
   "outputs": [],
   "source": []
  },
  {
   "cell_type": "code",
   "execution_count": 30,
   "id": "c2ab98d9-349d-4ee1-b408-86ab1900c8c3",
   "metadata": {},
   "outputs": [
    {
     "name": "stdout",
     "output_type": "stream",
     "text": [
      "Fetching historical data for AAPL...\n"
     ]
    },
    {
     "name": "stderr",
     "output_type": "stream",
     "text": [
      "[*********************100%***********************]  1 of 1 completed"
     ]
    },
    {
     "name": "stdout",
     "output_type": "stream",
     "text": [
      "Fetched 11080 rows of data.\n",
      "Price        Date Adj Close     Close      High       Low      Open     Volume\n",
      "Ticker                 AAPL      AAPL      AAPL      AAPL      AAPL       AAPL\n",
      "0      1980-12-12  0.098834  0.128348  0.128906  0.128348  0.128348  469033600\n",
      "1      1980-12-15  0.093678  0.121652  0.122210  0.121652  0.122210  175884800\n",
      "2      1980-12-16  0.086802  0.112723  0.113281  0.112723  0.113281  105728000\n",
      "3      1980-12-17  0.088951  0.115513  0.116071  0.115513  0.115513   86441600\n",
      "4      1980-12-18  0.091530  0.118862  0.119420  0.118862  0.118862   73449600\n"
     ]
    },
    {
     "name": "stderr",
     "output_type": "stream",
     "text": [
      "\n"
     ]
    }
   ],
   "source": [
    "## With Date columnimport yfinance as yf\n",
    "import pandas as pd\n",
    "\n",
    "# Fetch data with yfinance\n",
    "def fetch_historical_data(symbol, start_date=\"1970-01-01\"):\n",
    "    \"\"\"\n",
    "    Fetch historical stock data using yfinance.\n",
    "\n",
    "    Parameters:\n",
    "    - symbol (str): Stock ticker symbol (e.g., 'AAPL').\n",
    "    - start_date (str): Start date for data (format 'YYYY-MM-DD').\n",
    "\n",
    "    Returns:\n",
    "    - pd.DataFrame: DataFrame containing historical data with the 'Date' column.\n",
    "    \"\"\"\n",
    "    try:\n",
    "        print(f\"Fetching historical data for {symbol}...\")\n",
    "        data = yf.download(symbol, start=start_date)\n",
    "\n",
    "        # Ensure 'Date' column is properly set\n",
    "        if not data.empty:\n",
    "            data.reset_index(inplace=True)  # Ensure 'Date' is a column, not the index\n",
    "            print(f\"Fetched {len(data)} rows of data.\")\n",
    "        else:\n",
    "            print(\"No data found!\")\n",
    "\n",
    "        return data\n",
    "    except Exception as e:\n",
    "        print(f\"Error: {e}\")\n",
    "        return pd.DataFrame()\n",
    "\n",
    "# Example usage\n",
    "if __name__ == \"__main__\":\n",
    "    stock_symbol = \"AAPL\"  # Replace with desired stock symbol\n",
    "    historical_data = fetch_historical_data(stock_symbol)\n",
    "\n",
    "    if not historical_data.empty:\n",
    "        # Save data to a CSV file\n",
    "        historical_data.to_csv(f\"Data Historical/{stock_symbol}_data.csv\", index=False)\n",
    "        print(historical_data.head())  # Display the first few rows\n"
   ]
  },
  {
   "cell_type": "code",
   "execution_count": 29,
   "id": "a2ea3ec1-cb34-474b-8f43-4ab884f2a564",
   "metadata": {},
   "outputs": [
    {
     "data": {
      "text/html": [
       "<div>\n",
       "<style scoped>\n",
       "    .dataframe tbody tr th:only-of-type {\n",
       "        vertical-align: middle;\n",
       "    }\n",
       "\n",
       "    .dataframe tbody tr th {\n",
       "        vertical-align: top;\n",
       "    }\n",
       "\n",
       "    .dataframe thead tr th {\n",
       "        text-align: left;\n",
       "    }\n",
       "</style>\n",
       "<table border=\"1\" class=\"dataframe\">\n",
       "  <thead>\n",
       "    <tr>\n",
       "      <th>Price</th>\n",
       "      <th>Date</th>\n",
       "      <th>Adj Close</th>\n",
       "      <th>Close</th>\n",
       "      <th>High</th>\n",
       "      <th>Low</th>\n",
       "      <th>Open</th>\n",
       "      <th>Volume</th>\n",
       "    </tr>\n",
       "    <tr>\n",
       "      <th>Ticker</th>\n",
       "      <th></th>\n",
       "      <th>AAPL</th>\n",
       "      <th>AAPL</th>\n",
       "      <th>AAPL</th>\n",
       "      <th>AAPL</th>\n",
       "      <th>AAPL</th>\n",
       "      <th>AAPL</th>\n",
       "    </tr>\n",
       "  </thead>\n",
       "  <tbody>\n",
       "    <tr>\n",
       "      <th>11070</th>\n",
       "      <td>2024-11-11</td>\n",
       "      <td>224.229996</td>\n",
       "      <td>224.229996</td>\n",
       "      <td>225.699997</td>\n",
       "      <td>221.500000</td>\n",
       "      <td>225.000000</td>\n",
       "      <td>42005600</td>\n",
       "    </tr>\n",
       "    <tr>\n",
       "      <th>11071</th>\n",
       "      <td>2024-11-12</td>\n",
       "      <td>224.229996</td>\n",
       "      <td>224.229996</td>\n",
       "      <td>225.589996</td>\n",
       "      <td>223.360001</td>\n",
       "      <td>224.550003</td>\n",
       "      <td>40398300</td>\n",
       "    </tr>\n",
       "    <tr>\n",
       "      <th>11072</th>\n",
       "      <td>2024-11-13</td>\n",
       "      <td>225.119995</td>\n",
       "      <td>225.119995</td>\n",
       "      <td>226.649994</td>\n",
       "      <td>222.759995</td>\n",
       "      <td>224.009995</td>\n",
       "      <td>48566200</td>\n",
       "    </tr>\n",
       "    <tr>\n",
       "      <th>11073</th>\n",
       "      <td>2024-11-14</td>\n",
       "      <td>228.220001</td>\n",
       "      <td>228.220001</td>\n",
       "      <td>228.869995</td>\n",
       "      <td>225.000000</td>\n",
       "      <td>225.020004</td>\n",
       "      <td>44923900</td>\n",
       "    </tr>\n",
       "    <tr>\n",
       "      <th>11074</th>\n",
       "      <td>2024-11-15</td>\n",
       "      <td>225.000000</td>\n",
       "      <td>225.000000</td>\n",
       "      <td>226.919998</td>\n",
       "      <td>224.270004</td>\n",
       "      <td>226.399994</td>\n",
       "      <td>47923700</td>\n",
       "    </tr>\n",
       "    <tr>\n",
       "      <th>11075</th>\n",
       "      <td>2024-11-18</td>\n",
       "      <td>228.020004</td>\n",
       "      <td>228.020004</td>\n",
       "      <td>229.740005</td>\n",
       "      <td>225.169998</td>\n",
       "      <td>225.250000</td>\n",
       "      <td>44686000</td>\n",
       "    </tr>\n",
       "    <tr>\n",
       "      <th>11076</th>\n",
       "      <td>2024-11-19</td>\n",
       "      <td>228.279999</td>\n",
       "      <td>228.279999</td>\n",
       "      <td>230.160004</td>\n",
       "      <td>226.660004</td>\n",
       "      <td>226.979996</td>\n",
       "      <td>36211800</td>\n",
       "    </tr>\n",
       "    <tr>\n",
       "      <th>11077</th>\n",
       "      <td>2024-11-20</td>\n",
       "      <td>229.000000</td>\n",
       "      <td>229.000000</td>\n",
       "      <td>229.929993</td>\n",
       "      <td>225.889999</td>\n",
       "      <td>228.059998</td>\n",
       "      <td>35169600</td>\n",
       "    </tr>\n",
       "    <tr>\n",
       "      <th>11078</th>\n",
       "      <td>2024-11-21</td>\n",
       "      <td>228.520004</td>\n",
       "      <td>228.520004</td>\n",
       "      <td>230.160004</td>\n",
       "      <td>225.710007</td>\n",
       "      <td>228.880005</td>\n",
       "      <td>42071900</td>\n",
       "    </tr>\n",
       "    <tr>\n",
       "      <th>11079</th>\n",
       "      <td>2024-11-22</td>\n",
       "      <td>229.447601</td>\n",
       "      <td>229.447601</td>\n",
       "      <td>230.130005</td>\n",
       "      <td>228.059998</td>\n",
       "      <td>228.059998</td>\n",
       "      <td>8163149</td>\n",
       "    </tr>\n",
       "  </tbody>\n",
       "</table>\n",
       "</div>"
      ],
      "text/plain": [
       "Price        Date   Adj Close       Close        High         Low        Open  \\\n",
       "Ticker                   AAPL        AAPL        AAPL        AAPL        AAPL   \n",
       "11070  2024-11-11  224.229996  224.229996  225.699997  221.500000  225.000000   \n",
       "11071  2024-11-12  224.229996  224.229996  225.589996  223.360001  224.550003   \n",
       "11072  2024-11-13  225.119995  225.119995  226.649994  222.759995  224.009995   \n",
       "11073  2024-11-14  228.220001  228.220001  228.869995  225.000000  225.020004   \n",
       "11074  2024-11-15  225.000000  225.000000  226.919998  224.270004  226.399994   \n",
       "11075  2024-11-18  228.020004  228.020004  229.740005  225.169998  225.250000   \n",
       "11076  2024-11-19  228.279999  228.279999  230.160004  226.660004  226.979996   \n",
       "11077  2024-11-20  229.000000  229.000000  229.929993  225.889999  228.059998   \n",
       "11078  2024-11-21  228.520004  228.520004  230.160004  225.710007  228.880005   \n",
       "11079  2024-11-22  229.447601  229.447601  230.130005  228.059998  228.059998   \n",
       "\n",
       "Price     Volume  \n",
       "Ticker      AAPL  \n",
       "11070   42005600  \n",
       "11071   40398300  \n",
       "11072   48566200  \n",
       "11073   44923900  \n",
       "11074   47923700  \n",
       "11075   44686000  \n",
       "11076   36211800  \n",
       "11077   35169600  \n",
       "11078   42071900  \n",
       "11079    8163149  "
      ]
     },
     "execution_count": 29,
     "metadata": {},
     "output_type": "execute_result"
    }
   ],
   "source": [
    "historical_data.tail(10)"
   ]
  },
  {
   "cell_type": "code",
   "execution_count": null,
   "id": "abf678b3-c92d-4afd-b76b-d977f8f6dfcc",
   "metadata": {},
   "outputs": [],
   "source": []
  },
  {
   "cell_type": "markdown",
   "id": "378c39d1-d27b-485d-8f48-ec83badcac29",
   "metadata": {},
   "source": [
    "## Bitcoin Data"
   ]
  },
  {
   "cell_type": "code",
   "execution_count": 33,
   "id": "0c3870c7-e3b6-4f10-81cb-fad49a654af0",
   "metadata": {},
   "outputs": [
    {
     "name": "stdout",
     "output_type": "stream",
     "text": [
      "Fetching historical data for BTC-USD...\n"
     ]
    },
    {
     "name": "stderr",
     "output_type": "stream",
     "text": [
      "[*********************100%***********************]  1 of 1 completed"
     ]
    },
    {
     "name": "stdout",
     "output_type": "stream",
     "text": [
      "Fetched 3720 rows of data.\n",
      "Price        Date   Adj Close       Close        High         Low        Open  \\\n",
      "Ticker                BTC-USD     BTC-USD     BTC-USD     BTC-USD     BTC-USD   \n",
      "0      2014-09-17  457.334015  457.334015  468.174011  452.421997  465.864014   \n",
      "1      2014-09-18  424.440002  424.440002  456.859985  413.104004  456.859985   \n",
      "2      2014-09-19  394.795990  394.795990  427.834991  384.532013  424.102997   \n",
      "3      2014-09-20  408.903992  408.903992  423.295990  389.882996  394.673004   \n",
      "4      2014-09-21  398.821014  398.821014  412.425995  393.181000  408.084991   \n",
      "\n",
      "Price     Volume  \n",
      "Ticker   BTC-USD  \n",
      "0       21056800  \n",
      "1       34483200  \n",
      "2       37919700  \n",
      "3       36863600  \n",
      "4       26580100  \n"
     ]
    },
    {
     "name": "stderr",
     "output_type": "stream",
     "text": [
      "\n"
     ]
    }
   ],
   "source": [
    "## With Date columnimport yfinance as yf\n",
    "import pandas as pd\n",
    "\n",
    "# Fetch data with yfinance\n",
    "def fetch_historical_data(symbol, start_date=\"1970-01-01\"):\n",
    "    \"\"\"\n",
    "    Fetch historical stock data using yfinance.\n",
    "\n",
    "    Parameters:\n",
    "    - symbol (str): Stock ticker symbol (e.g., 'AAPL').\n",
    "    - start_date (str): Start date for data (format 'YYYY-MM-DD').\n",
    "\n",
    "    Returns:\n",
    "    - pd.DataFrame: DataFrame containing historical data with the 'Date' column.\n",
    "    \"\"\"\n",
    "    try:\n",
    "        print(f\"Fetching historical data for {symbol}...\")\n",
    "        data = yf.download(symbol, start=start_date)\n",
    "\n",
    "        # Ensure 'Date' column is properly set\n",
    "        if not data.empty:\n",
    "            data.reset_index(inplace=True)  # Ensure 'Date' is a column, not the index\n",
    "            print(f\"Fetched {len(data)} rows of data.\")\n",
    "        else:\n",
    "            print(\"No data found!\")\n",
    "\n",
    "        return data\n",
    "    except Exception as e:\n",
    "        print(f\"Error: {e}\")\n",
    "        return pd.DataFrame()\n",
    "\n",
    "# Example usage\n",
    "if __name__ == \"__main__\":\n",
    "    stock_symbol = \"BTC-USD\"  # Replace with desired stock symbol\n",
    "    historical_data = fetch_historical_data(stock_symbol)\n",
    "\n",
    "    if not historical_data.empty:\n",
    "        # Save data to a CSV file\n",
    "        historical_data.to_csv(f\"Data Historical/{stock_symbol}_data.csv\", index=False)\n",
    "        print(historical_data.head())  # Display the first few rows\n"
   ]
  },
  {
   "cell_type": "code",
   "execution_count": 34,
   "id": "8788ffb5-e49f-4879-ab93-9efab9573838",
   "metadata": {},
   "outputs": [
    {
     "data": {
      "text/html": [
       "<div>\n",
       "<style scoped>\n",
       "    .dataframe tbody tr th:only-of-type {\n",
       "        vertical-align: middle;\n",
       "    }\n",
       "\n",
       "    .dataframe tbody tr th {\n",
       "        vertical-align: top;\n",
       "    }\n",
       "\n",
       "    .dataframe thead tr th {\n",
       "        text-align: left;\n",
       "    }\n",
       "</style>\n",
       "<table border=\"1\" class=\"dataframe\">\n",
       "  <thead>\n",
       "    <tr>\n",
       "      <th>Price</th>\n",
       "      <th>Date</th>\n",
       "      <th>Adj Close</th>\n",
       "      <th>Close</th>\n",
       "      <th>High</th>\n",
       "      <th>Low</th>\n",
       "      <th>Open</th>\n",
       "      <th>Volume</th>\n",
       "    </tr>\n",
       "    <tr>\n",
       "      <th>Ticker</th>\n",
       "      <th></th>\n",
       "      <th>BTC-USD</th>\n",
       "      <th>BTC-USD</th>\n",
       "      <th>BTC-USD</th>\n",
       "      <th>BTC-USD</th>\n",
       "      <th>BTC-USD</th>\n",
       "      <th>BTC-USD</th>\n",
       "    </tr>\n",
       "  </thead>\n",
       "  <tbody>\n",
       "    <tr>\n",
       "      <th>3715</th>\n",
       "      <td>2024-11-18</td>\n",
       "      <td>90542.640625</td>\n",
       "      <td>90542.640625</td>\n",
       "      <td>92596.789062</td>\n",
       "      <td>89393.593750</td>\n",
       "      <td>89843.718750</td>\n",
       "      <td>75535775084</td>\n",
       "    </tr>\n",
       "    <tr>\n",
       "      <th>3716</th>\n",
       "      <td>2024-11-19</td>\n",
       "      <td>92343.789062</td>\n",
       "      <td>92343.789062</td>\n",
       "      <td>94002.867188</td>\n",
       "      <td>90426.984375</td>\n",
       "      <td>90536.812500</td>\n",
       "      <td>74521048295</td>\n",
       "    </tr>\n",
       "    <tr>\n",
       "      <th>3717</th>\n",
       "      <td>2024-11-20</td>\n",
       "      <td>94339.492188</td>\n",
       "      <td>94339.492188</td>\n",
       "      <td>94902.023438</td>\n",
       "      <td>91619.500000</td>\n",
       "      <td>92341.890625</td>\n",
       "      <td>71730956426</td>\n",
       "    </tr>\n",
       "    <tr>\n",
       "      <th>3718</th>\n",
       "      <td>2024-11-21</td>\n",
       "      <td>98504.726562</td>\n",
       "      <td>98504.726562</td>\n",
       "      <td>99014.218750</td>\n",
       "      <td>94132.601562</td>\n",
       "      <td>94334.640625</td>\n",
       "      <td>106024505582</td>\n",
       "    </tr>\n",
       "    <tr>\n",
       "      <th>3719</th>\n",
       "      <td>2024-11-22</td>\n",
       "      <td>98807.609375</td>\n",
       "      <td>98807.609375</td>\n",
       "      <td>99481.390625</td>\n",
       "      <td>97319.523438</td>\n",
       "      <td>98453.703125</td>\n",
       "      <td>84505018368</td>\n",
       "    </tr>\n",
       "  </tbody>\n",
       "</table>\n",
       "</div>"
      ],
      "text/plain": [
       "Price        Date     Adj Close         Close          High           Low  \\\n",
       "Ticker                  BTC-USD       BTC-USD       BTC-USD       BTC-USD   \n",
       "3715   2024-11-18  90542.640625  90542.640625  92596.789062  89393.593750   \n",
       "3716   2024-11-19  92343.789062  92343.789062  94002.867188  90426.984375   \n",
       "3717   2024-11-20  94339.492188  94339.492188  94902.023438  91619.500000   \n",
       "3718   2024-11-21  98504.726562  98504.726562  99014.218750  94132.601562   \n",
       "3719   2024-11-22  98807.609375  98807.609375  99481.390625  97319.523438   \n",
       "\n",
       "Price           Open        Volume  \n",
       "Ticker       BTC-USD       BTC-USD  \n",
       "3715    89843.718750   75535775084  \n",
       "3716    90536.812500   74521048295  \n",
       "3717    92341.890625   71730956426  \n",
       "3718    94334.640625  106024505582  \n",
       "3719    98453.703125   84505018368  "
      ]
     },
     "execution_count": 34,
     "metadata": {},
     "output_type": "execute_result"
    }
   ],
   "source": [
    "historical_data.tail()"
   ]
  },
  {
   "cell_type": "code",
   "execution_count": 35,
   "id": "bd757c99-2909-4cc3-bc6d-7927d44060a5",
   "metadata": {},
   "outputs": [
    {
     "data": {
      "text/plain": [
       "3720"
      ]
     },
     "execution_count": 35,
     "metadata": {},
     "output_type": "execute_result"
    }
   ],
   "source": [
    "#to get the number of rows \n",
    "count_row = historical_data.shape[0]\n",
    "count_row"
   ]
  },
  {
   "cell_type": "code",
   "execution_count": null,
   "id": "0921014c-4a98-4519-892d-994eea892cc3",
   "metadata": {},
   "outputs": [],
   "source": []
  },
  {
   "cell_type": "code",
   "execution_count": null,
   "id": "a412e9dd-d2fd-4a80-bca0-6ddb5c083f96",
   "metadata": {},
   "outputs": [],
   "source": []
  },
  {
   "cell_type": "code",
   "execution_count": null,
   "id": "9470076b-185a-4a0f-a342-96cb38378399",
   "metadata": {},
   "outputs": [],
   "source": []
  },
  {
   "cell_type": "code",
   "execution_count": null,
   "id": "595aae34-90d0-4b85-b144-e85a427de4f2",
   "metadata": {},
   "outputs": [],
   "source": []
  },
  {
   "cell_type": "code",
   "execution_count": null,
   "id": "243a7998-69bd-4498-b90b-3f22270fa249",
   "metadata": {},
   "outputs": [],
   "source": []
  },
  {
   "cell_type": "code",
   "execution_count": null,
   "id": "b0a7cfa4-139a-4580-8d8d-56c5ab4c7963",
   "metadata": {},
   "outputs": [],
   "source": []
  },
  {
   "cell_type": "code",
   "execution_count": null,
   "id": "32755d24-6beb-4683-a54a-ab62df2bdb93",
   "metadata": {},
   "outputs": [],
   "source": []
  },
  {
   "cell_type": "code",
   "execution_count": null,
   "id": "6bee6613-ce61-4110-86ae-72614fe45966",
   "metadata": {},
   "outputs": [],
   "source": []
  },
  {
   "cell_type": "code",
   "execution_count": 3,
   "id": "8df39b49-8e26-4693-84f0-c4f0a0a15cfe",
   "metadata": {},
   "outputs": [
    {
     "data": {
      "text/html": [
       "<div>\n",
       "<style scoped>\n",
       "    .dataframe tbody tr th:only-of-type {\n",
       "        vertical-align: middle;\n",
       "    }\n",
       "\n",
       "    .dataframe tbody tr th {\n",
       "        vertical-align: top;\n",
       "    }\n",
       "\n",
       "    .dataframe thead th {\n",
       "        text-align: right;\n",
       "    }\n",
       "</style>\n",
       "<table border=\"1\" class=\"dataframe\">\n",
       "  <thead>\n",
       "    <tr style=\"text-align: right;\">\n",
       "      <th></th>\n",
       "      <th>Date</th>\n",
       "      <th>Adj Close</th>\n",
       "      <th>Close</th>\n",
       "      <th>High</th>\n",
       "      <th>Low</th>\n",
       "      <th>Open</th>\n",
       "      <th>Volume</th>\n",
       "    </tr>\n",
       "  </thead>\n",
       "  <tbody>\n",
       "    <tr>\n",
       "      <th>11076</th>\n",
       "      <td>2024-11-18</td>\n",
       "      <td>228.02000427246094</td>\n",
       "      <td>228.02000427246094</td>\n",
       "      <td>229.74000549316406</td>\n",
       "      <td>225.1699981689453</td>\n",
       "      <td>225.25</td>\n",
       "      <td>44686000</td>\n",
       "    </tr>\n",
       "    <tr>\n",
       "      <th>11077</th>\n",
       "      <td>2024-11-19</td>\n",
       "      <td>228.27999877929688</td>\n",
       "      <td>228.27999877929688</td>\n",
       "      <td>230.16000366210938</td>\n",
       "      <td>226.66000366210938</td>\n",
       "      <td>226.97999572753906</td>\n",
       "      <td>36211800</td>\n",
       "    </tr>\n",
       "    <tr>\n",
       "      <th>11078</th>\n",
       "      <td>2024-11-20</td>\n",
       "      <td>229.0</td>\n",
       "      <td>229.0</td>\n",
       "      <td>229.92999267578125</td>\n",
       "      <td>225.88999938964844</td>\n",
       "      <td>228.05999755859375</td>\n",
       "      <td>35169600</td>\n",
       "    </tr>\n",
       "    <tr>\n",
       "      <th>11079</th>\n",
       "      <td>2024-11-21</td>\n",
       "      <td>228.52000427246094</td>\n",
       "      <td>228.52000427246094</td>\n",
       "      <td>230.16000366210938</td>\n",
       "      <td>225.7100067138672</td>\n",
       "      <td>228.8800048828125</td>\n",
       "      <td>42071900</td>\n",
       "    </tr>\n",
       "    <tr>\n",
       "      <th>11080</th>\n",
       "      <td>2024-11-22</td>\n",
       "      <td>229.52000427246094</td>\n",
       "      <td>229.52000427246094</td>\n",
       "      <td>230.1300048828125</td>\n",
       "      <td>228.05999755859375</td>\n",
       "      <td>228.05999755859375</td>\n",
       "      <td>8449370</td>\n",
       "    </tr>\n",
       "  </tbody>\n",
       "</table>\n",
       "</div>"
      ],
      "text/plain": [
       "             Date           Adj Close               Close                High  \\\n",
       "11076  2024-11-18  228.02000427246094  228.02000427246094  229.74000549316406   \n",
       "11077  2024-11-19  228.27999877929688  228.27999877929688  230.16000366210938   \n",
       "11078  2024-11-20               229.0               229.0  229.92999267578125   \n",
       "11079  2024-11-21  228.52000427246094  228.52000427246094  230.16000366210938   \n",
       "11080  2024-11-22  229.52000427246094  229.52000427246094   230.1300048828125   \n",
       "\n",
       "                      Low                Open    Volume  \n",
       "11076   225.1699981689453              225.25  44686000  \n",
       "11077  226.66000366210938  226.97999572753906  36211800  \n",
       "11078  225.88999938964844  228.05999755859375  35169600  \n",
       "11079   225.7100067138672   228.8800048828125  42071900  \n",
       "11080  228.05999755859375  228.05999755859375   8449370  "
      ]
     },
     "execution_count": 3,
     "metadata": {},
     "output_type": "execute_result"
    }
   ],
   "source": [
    "path = \"/home/onizuka/jupyter_env/Data Historical/AAPL_data.csv\"\n",
    "df = pd.read_csv(path)\n",
    "df.tail()"
   ]
  },
  {
   "cell_type": "code",
   "execution_count": null,
   "id": "0ab4bc24-dd85-4c88-9419-ba6969b1ff2f",
   "metadata": {},
   "outputs": [],
   "source": []
  }
 ],
 "metadata": {
  "kernelspec": {
   "display_name": "Python 3 (ipykernel)",
   "language": "python",
   "name": "python3"
  },
  "language_info": {
   "codemirror_mode": {
    "name": "ipython",
    "version": 3
   },
   "file_extension": ".py",
   "mimetype": "text/x-python",
   "name": "python",
   "nbconvert_exporter": "python",
   "pygments_lexer": "ipython3",
   "version": "3.10.12"
  },
  "widgets": {
   "application/vnd.jupyter.widget-state+json": {
    "state": {},
    "version_major": 2,
    "version_minor": 0
   }
  }
 },
 "nbformat": 4,
 "nbformat_minor": 5
}
