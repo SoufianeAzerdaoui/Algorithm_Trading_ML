{
 "cells": [
  {
   "cell_type": "code",
   "execution_count": 19,
   "id": "7defd947-4413-45eb-9840-684326309e28",
   "metadata": {},
   "outputs": [],
   "source": [
    "import pandas as pd\n",
    "import numpy as np\n",
    "from sklearn.model_selection import train_test_split, cross_val_score\n",
    "from sklearn.metrics import confusion_matrix, classification_report, accuracy_score\n",
    "from sklearn.ensemble import RandomForestClassifier\n",
    "import optuna\n",
    "import matplotlib.pyplot as plt\n",
    "import seaborn as sns"
   ]
  },
  {
   "cell_type": "code",
   "execution_count": 20,
   "id": "d226ede7-86b6-4551-9d67-27d29d4cc70a",
   "metadata": {},
   "outputs": [
    {
     "name": "stdout",
     "output_type": "stream",
     "text": [
      "/home/onizuka/Documents/Project M1/venv/bin/python3.10\n"
     ]
    }
   ],
   "source": [
    "import sys\n",
    "print(sys.executable)\n"
   ]
  },
  {
   "cell_type": "code",
   "execution_count": 23,
   "id": "a64079bc-df81-42a9-9fe9-bc3bdf817f87",
   "metadata": {},
   "outputs": [
    {
     "data": {
      "text/plain": [
       "Index(['Adj Close', 'Close', 'High', 'Low', 'Open', 'Volume', 'MACD_Line',\n",
       "       'Signal_Line', 'RSI', 'BB_Lower', 'BB_Middle', 'BB_Upper', 'ADX',\n",
       "       'future_price', 'direction'],\n",
       "      dtype='object')"
      ]
     },
     "execution_count": 23,
     "metadata": {},
     "output_type": "execute_result"
    }
   ],
   "source": [
    "df= pd.read_csv('final_data.csv')\n",
    "df.columns"
   ]
  },
  {
   "cell_type": "markdown",
   "id": "c7373e38-0cf7-44c3-85b2-f39d68e55e63",
   "metadata": {},
   "source": [
    "## Random Forest Classfifier \n"
   ]
  },
  {
   "cell_type": "code",
   "execution_count": 39,
   "id": "c0f63cee-b33f-4b04-a6c3-9a267c67aa4f",
   "metadata": {},
   "outputs": [
    {
     "name": "stderr",
     "output_type": "stream",
     "text": [
      "[I 2025-01-10 22:59:44,662] A new study created in memory with name: no-name-24388726-afc4-455c-90ae-3807decc1439\n"
     ]
    },
    {
     "name": "stdout",
     "output_type": "stream",
     "text": [
      "Feature Importances:\n",
      "         Feature  Importance\n",
      "5        Volume    0.094310\n",
      "8           RSI    0.092923\n",
      "12          ADX    0.089855\n",
      "7   Signal_Line    0.086890\n",
      "6     MACD_Line    0.085278\n",
      "9      BB_Lower    0.076051\n",
      "11     BB_Upper    0.074927\n",
      "10    BB_Middle    0.072923\n",
      "4          Open    0.066609\n",
      "0     Adj Close    0.066061\n",
      "3           Low    0.065039\n",
      "2          High    0.064967\n",
      "1         Close    0.064167\n",
      "Top Features: ['Volume', 'RSI', 'ADX', 'Signal_Line', 'MACD_Line', 'BB_Lower', 'BB_Upper', 'BB_Middle', 'Open', 'Adj Close', 'Low', 'High']\n"
     ]
    },
    {
     "name": "stderr",
     "output_type": "stream",
     "text": [
      "[I 2025-01-10 22:59:50,239] Trial 0 finished with value: 0.5184933831014592 and parameters: {'n_estimators': 94, 'max_depth': 20, 'min_samples_split': 7, 'min_samples_leaf': 4}. Best is trial 0 with value: 0.5184933831014592.\n",
      "[I 2025-01-10 22:59:53,456] Trial 1 finished with value: 0.5184933831014592 and parameters: {'n_estimators': 77, 'max_depth': 10, 'min_samples_split': 2, 'min_samples_leaf': 3}. Best is trial 0 with value: 0.5184933831014592.\n",
      "[I 2025-01-10 23:00:04,179] Trial 2 finished with value: 0.5181540549711571 and parameters: {'n_estimators': 199, 'max_depth': 15, 'min_samples_split': 2, 'min_samples_leaf': 3}. Best is trial 0 with value: 0.5184933831014592.\n",
      "[I 2025-01-10 23:00:08,401] Trial 3 finished with value: 0.5231308675489198 and parameters: {'n_estimators': 101, 'max_depth': 10, 'min_samples_split': 7, 'min_samples_leaf': 3}. Best is trial 3 with value: 0.5231308675489198.\n",
      "[I 2025-01-10 23:00:20,021] Trial 4 finished with value: 0.5167967424499491 and parameters: {'n_estimators': 192, 'max_depth': 20, 'min_samples_split': 8, 'min_samples_leaf': 3}. Best is trial 3 with value: 0.5231308675489198.\n",
      "[I 2025-01-10 23:00:25,061] Trial 5 finished with value: 0.513742789277231 and parameters: {'n_estimators': 80, 'max_depth': 20, 'min_samples_split': 9, 'min_samples_leaf': 1}. Best is trial 3 with value: 0.5231308675489198.\n",
      "[I 2025-01-10 23:00:35,201] Trial 6 finished with value: 0.5152132111752065 and parameters: {'n_estimators': 160, 'max_depth': 20, 'min_samples_split': 3, 'min_samples_leaf': 3}. Best is trial 3 with value: 0.5231308675489198.\n",
      "[I 2025-01-10 23:00:39,472] Trial 7 finished with value: 0.5155525393055084 and parameters: {'n_estimators': 62, 'max_depth': 25, 'min_samples_split': 2, 'min_samples_leaf': 2}. Best is trial 3 with value: 0.5231308675489198.\n",
      "[I 2025-01-10 23:00:45,673] Trial 8 finished with value: 0.5218866644044792 and parameters: {'n_estimators': 145, 'max_depth': 10, 'min_samples_split': 9, 'min_samples_leaf': 4}. Best is trial 3 with value: 0.5231308675489198.\n",
      "[I 2025-01-10 23:00:53,490] Trial 9 finished with value: 0.5195113674923652 and parameters: {'n_estimators': 142, 'max_depth': 15, 'min_samples_split': 5, 'min_samples_leaf': 2}. Best is trial 3 with value: 0.5231308675489198.\n",
      "[I 2025-01-10 23:01:00,693] Trial 10 finished with value: 0.5212080081438751 and parameters: {'n_estimators': 103, 'max_depth': 30, 'min_samples_split': 5, 'min_samples_leaf': 1}. Best is trial 3 with value: 0.5231308675489198.\n",
      "[I 2025-01-10 23:01:06,031] Trial 11 finished with value: 0.5206424612600385 and parameters: {'n_estimators': 128, 'max_depth': 10, 'min_samples_split': 10, 'min_samples_leaf': 4}. Best is trial 3 with value: 0.5231308675489198.\n",
      "[I 2025-01-10 23:01:12,727] Trial 12 finished with value: 0.5187196018549938 and parameters: {'n_estimators': 164, 'max_depth': 10, 'min_samples_split': 7, 'min_samples_leaf': 4}. Best is trial 3 with value: 0.5231308675489198.\n",
      "[I 2025-01-10 23:01:18,707] Trial 13 finished with value: 0.5154394299287411 and parameters: {'n_estimators': 113, 'max_depth': 15, 'min_samples_split': 10, 'min_samples_leaf': 4}. Best is trial 3 with value: 0.5231308675489198.\n",
      "[I 2025-01-10 23:01:24,546] Trial 14 finished with value: 0.5221128831580139 and parameters: {'n_estimators': 142, 'max_depth': 10, 'min_samples_split': 8, 'min_samples_leaf': 2}. Best is trial 3 with value: 0.5231308675489198.\n",
      "[I 2025-01-10 23:01:31,173] Trial 15 finished with value: 0.5141952267843005 and parameters: {'n_estimators': 122, 'max_depth': 15, 'min_samples_split': 6, 'min_samples_leaf': 2}. Best is trial 3 with value: 0.5231308675489198.\n",
      "[I 2025-01-10 23:01:38,419] Trial 16 finished with value: 0.5231308675489198 and parameters: {'n_estimators': 176, 'max_depth': 10, 'min_samples_split': 7, 'min_samples_leaf': 2}. Best is trial 3 with value: 0.5231308675489198.\n",
      "[I 2025-01-10 23:01:50,462] Trial 17 finished with value: 0.5178147268408552 and parameters: {'n_estimators': 179, 'max_depth': 25, 'min_samples_split': 5, 'min_samples_leaf': 1}. Best is trial 3 with value: 0.5231308675489198.\n",
      "[I 2025-01-10 23:01:59,588] Trial 18 finished with value: 0.5160049768125777 and parameters: {'n_estimators': 168, 'max_depth': 15, 'min_samples_split': 6, 'min_samples_leaf': 2}. Best is trial 3 with value: 0.5231308675489198.\n",
      "[I 2025-01-10 23:02:01,782] Trial 19 finished with value: 0.5205293518832711 and parameters: {'n_estimators': 52, 'max_depth': 10, 'min_samples_split': 4, 'min_samples_leaf': 3}. Best is trial 3 with value: 0.5231308675489198.\n",
      "[I 2025-01-10 23:02:06,932] Trial 20 finished with value: 0.5171360705802511 and parameters: {'n_estimators': 94, 'max_depth': 15, 'min_samples_split': 7, 'min_samples_leaf': 2}. Best is trial 3 with value: 0.5231308675489198.\n",
      "[I 2025-01-10 23:02:13,005] Trial 21 finished with value: 0.5247143988236624 and parameters: {'n_estimators': 147, 'max_depth': 10, 'min_samples_split': 8, 'min_samples_leaf': 2}. Best is trial 21 with value: 0.5247143988236624.\n",
      "[I 2025-01-10 23:02:20,296] Trial 22 finished with value: 0.5233570863024545 and parameters: {'n_estimators': 177, 'max_depth': 10, 'min_samples_split': 8, 'min_samples_leaf': 2}. Best is trial 21 with value: 0.5247143988236624.\n",
      "[I 2025-01-10 23:02:26,484] Trial 23 finished with value: 0.5195113674923652 and parameters: {'n_estimators': 151, 'max_depth': 10, 'min_samples_split': 8, 'min_samples_leaf': 3}. Best is trial 21 with value: 0.5247143988236624.\n",
      "[I 2025-01-10 23:02:33,750] Trial 24 finished with value: 0.5149869924216718 and parameters: {'n_estimators': 134, 'max_depth': 15, 'min_samples_split': 9, 'min_samples_leaf': 1}. Best is trial 21 with value: 0.5247143988236624.\n",
      "[I 2025-01-10 23:02:41,468] Trial 25 finished with value: 0.5239226331862912 and parameters: {'n_estimators': 187, 'max_depth': 10, 'min_samples_split': 8, 'min_samples_leaf': 2}. Best is trial 21 with value: 0.5247143988236624.\n",
      "[I 2025-01-10 23:02:53,657] Trial 26 finished with value: 0.5158918674358105 and parameters: {'n_estimators': 184, 'max_depth': 25, 'min_samples_split': 8, 'min_samples_leaf': 2}. Best is trial 21 with value: 0.5247143988236624.\n",
      "[I 2025-01-10 23:03:03,866] Trial 27 finished with value: 0.5158918674358105 and parameters: {'n_estimators': 189, 'max_depth': 15, 'min_samples_split': 9, 'min_samples_leaf': 1}. Best is trial 21 with value: 0.5247143988236624.\n",
      "[I 2025-01-10 23:03:14,113] Trial 28 finished with value: 0.5190589299852958 and parameters: {'n_estimators': 156, 'max_depth': 30, 'min_samples_split': 10, 'min_samples_leaf': 2}. Best is trial 21 with value: 0.5247143988236624.\n",
      "[I 2025-01-10 23:03:21,112] Trial 29 finished with value: 0.5215473362741772 and parameters: {'n_estimators': 171, 'max_depth': 10, 'min_samples_split': 8, 'min_samples_leaf': 2}. Best is trial 21 with value: 0.5247143988236624.\n",
      "[I 2025-01-10 23:03:31,806] Trial 30 finished with value: 0.5200769143762018 and parameters: {'n_estimators': 194, 'max_depth': 15, 'min_samples_split': 6, 'min_samples_leaf': 1}. Best is trial 21 with value: 0.5247143988236624.\n",
      "[I 2025-01-10 23:03:36,310] Trial 31 finished with value: 0.5236964144327564 and parameters: {'n_estimators': 109, 'max_depth': 10, 'min_samples_split': 7, 'min_samples_leaf': 3}. Best is trial 21 with value: 0.5247143988236624.\n",
      "[I 2025-01-10 23:03:41,176] Trial 32 finished with value: 0.5218866644044792 and parameters: {'n_estimators': 117, 'max_depth': 10, 'min_samples_split': 7, 'min_samples_leaf': 2}. Best is trial 21 with value: 0.5247143988236624.\n",
      "[I 2025-01-10 23:03:46,559] Trial 33 finished with value: 0.5226784300418504 and parameters: {'n_estimators': 132, 'max_depth': 10, 'min_samples_split': 8, 'min_samples_leaf': 3}. Best is trial 21 with value: 0.5247143988236624.\n",
      "[I 2025-01-10 23:03:54,605] Trial 34 finished with value: 0.5236964144327564 and parameters: {'n_estimators': 199, 'max_depth': 10, 'min_samples_split': 9, 'min_samples_leaf': 3}. Best is trial 21 with value: 0.5247143988236624.\n",
      "[I 2025-01-10 23:04:02,761] Trial 35 finished with value: 0.5236964144327564 and parameters: {'n_estimators': 199, 'max_depth': 10, 'min_samples_split': 9, 'min_samples_leaf': 3}. Best is trial 21 with value: 0.5247143988236624.\n",
      "[I 2025-01-10 23:04:08,663] Trial 36 finished with value: 0.5201900237529692 and parameters: {'n_estimators': 109, 'max_depth': 15, 'min_samples_split': 9, 'min_samples_leaf': 3}. Best is trial 21 with value: 0.5247143988236624.\n",
      "[I 2025-01-10 23:04:12,126] Trial 37 finished with value: 0.5223391019115484 and parameters: {'n_estimators': 83, 'max_depth': 10, 'min_samples_split': 7, 'min_samples_leaf': 3}. Best is trial 21 with value: 0.5247143988236624.\n",
      "[I 2025-01-10 23:04:24,106] Trial 38 finished with value: 0.5100101798439091 and parameters: {'n_estimators': 200, 'max_depth': 20, 'min_samples_split': 10, 'min_samples_leaf': 3}. Best is trial 21 with value: 0.5247143988236624.\n",
      "[I 2025-01-10 23:04:31,664] Trial 39 finished with value: 0.5230177581721525 and parameters: {'n_estimators': 185, 'max_depth': 10, 'min_samples_split': 7, 'min_samples_leaf': 3}. Best is trial 21 with value: 0.5247143988236624.\n",
      "[I 2025-01-10 23:04:36,093] Trial 40 finished with value: 0.5171360705802511 and parameters: {'n_estimators': 73, 'max_depth': 20, 'min_samples_split': 9, 'min_samples_leaf': 3}. Best is trial 21 with value: 0.5247143988236624.\n",
      "[I 2025-01-10 23:04:43,996] Trial 41 finished with value: 0.5249406175771972 and parameters: {'n_estimators': 194, 'max_depth': 10, 'min_samples_split': 9, 'min_samples_leaf': 3}. Best is trial 41 with value: 0.5249406175771972.\n",
      "[I 2025-01-10 23:04:51,990] Trial 42 finished with value: 0.5197375862458998 and parameters: {'n_estimators': 191, 'max_depth': 10, 'min_samples_split': 8, 'min_samples_leaf': 3}. Best is trial 41 with value: 0.5249406175771972.\n",
      "[I 2025-01-10 23:04:55,871] Trial 43 finished with value: 0.5213211175206425 and parameters: {'n_estimators': 91, 'max_depth': 10, 'min_samples_split': 9, 'min_samples_leaf': 3}. Best is trial 41 with value: 0.5249406175771972.\n",
      "[I 2025-01-10 23:05:03,446] Trial 44 finished with value: 0.5187196018549938 and parameters: {'n_estimators': 183, 'max_depth': 10, 'min_samples_split': 8, 'min_samples_leaf': 4}. Best is trial 41 with value: 0.5249406175771972.\n",
      "[I 2025-01-10 23:05:11,850] Trial 45 finished with value: 0.5227915394186178 and parameters: {'n_estimators': 158, 'max_depth': 15, 'min_samples_split': 10, 'min_samples_leaf': 3}. Best is trial 41 with value: 0.5249406175771972.\n",
      "[I 2025-01-10 23:05:19,971] Trial 46 finished with value: 0.5209817893903405 and parameters: {'n_estimators': 195, 'max_depth': 10, 'min_samples_split': 9, 'min_samples_leaf': 4}. Best is trial 41 with value: 0.5249406175771972.\n",
      "[I 2025-01-10 23:05:27,028] Trial 47 finished with value: 0.5222259925347812 and parameters: {'n_estimators': 171, 'max_depth': 10, 'min_samples_split': 7, 'min_samples_leaf': 2}. Best is trial 41 with value: 0.5249406175771972.\n",
      "[I 2025-01-10 23:05:35,001] Trial 48 finished with value: 0.5187196018549938 and parameters: {'n_estimators': 149, 'max_depth': 15, 'min_samples_split': 6, 'min_samples_leaf': 3}. Best is trial 41 with value: 0.5249406175771972.\n",
      "[I 2025-01-10 23:05:40,848] Trial 49 finished with value: 0.5213211175206425 and parameters: {'n_estimators': 137, 'max_depth': 10, 'min_samples_split': 10, 'min_samples_leaf': 3}. Best is trial 41 with value: 0.5249406175771972.\n"
     ]
    },
    {
     "name": "stdout",
     "output_type": "stream",
     "text": [
      "Best Parameters: {'n_estimators': 194, 'max_depth': 10, 'min_samples_split': 9, 'min_samples_leaf': 3}\n",
      "\n",
      "Test Accuracy: 0.5146992311171416\n",
      "\n",
      "Confusion Matrix:\n",
      " [[591 499]\n",
      " [574 547]]\n",
      "\n",
      "Classification Report:\n",
      "               precision    recall  f1-score   support\n",
      "\n",
      "           0       0.51      0.54      0.52      1090\n",
      "           1       0.52      0.49      0.50      1121\n",
      "\n",
      "    accuracy                           0.51      2211\n",
      "   macro avg       0.52      0.52      0.51      2211\n",
      "weighted avg       0.52      0.51      0.51      2211\n",
      "\n",
      "\n",
      "Training Accuracy: 0.7543264336613505\n",
      "Test Accuracy: 0.5146992311171416\n",
      "\n",
      "The model may be overfitting.\n"
     ]
    }
   ],
   "source": [
    "# Step 1: Import Libraries\n",
    "import pandas as pd\n",
    "import numpy as np\n",
    "from sklearn.ensemble import RandomForestClassifier\n",
    "from sklearn.model_selection import train_test_split, cross_val_score\n",
    "from sklearn.metrics import accuracy_score, classification_report, confusion_matrix\n",
    "import optuna\n",
    "\n",
    "# Step 3: Define Features (X) and Target (y)\n",
    "# Drop 'direction' and 'future_price' (leakage)\n",
    "X = df.drop(columns=['direction', 'future_price'])\n",
    "y = df['direction']\n",
    "\n",
    "# Step 4: Split Data into Training and Testing Sets\n",
    "X_train, X_test, y_train, y_test = train_test_split(X, y, test_size=0.2, random_state=42)\n",
    "\n",
    "# Step 5: Feature Importance\n",
    "# Initialize Random Forest to get feature importance\n",
    "rf = RandomForestClassifier(n_estimators=100, random_state=42)\n",
    "rf.fit(X_train, y_train)\n",
    "\n",
    "# Get feature importances\n",
    "importances = rf.feature_importances_\n",
    "feature_importances = pd.DataFrame({'Feature': X.columns, 'Importance': importances})\n",
    "feature_importances = feature_importances.sort_values(by='Importance', ascending=False)\n",
    "\n",
    "print(\"Feature Importances:\\n\", feature_importances)\n",
    "\n",
    "# Step 6: Train with Important Features\n",
    "# Select top 5 features (you can adjust this number)\n",
    "top_features = feature_importances['Feature'].head(12).tolist()\n",
    "print(\"Top Features:\", top_features)\n",
    "\n",
    "# Filter datasets to include only top features\n",
    "X_train_top = X_train[top_features]\n",
    "X_test_top = X_test[top_features]\n",
    "\n",
    "# Step 7: Hyperparameter Optimization with Optuna\n",
    "def objective(trial):\n",
    "    # Define hyperparameters to optimize\n",
    "    n_estimators = trial.suggest_int('n_estimators', 50, 200)\n",
    "    max_depth = trial.suggest_int('max_depth', 10, 30, step=5)\n",
    "    min_samples_split = trial.suggest_int('min_samples_split', 2, 10)\n",
    "    min_samples_leaf = trial.suggest_int('min_samples_leaf', 1, 4)\n",
    "\n",
    "    # Initialize the model\n",
    "    model = RandomForestClassifier(\n",
    "        n_estimators=n_estimators,\n",
    "        max_depth=max_depth,\n",
    "        min_samples_split=min_samples_split,\n",
    "        min_samples_leaf=min_samples_leaf,\n",
    "        random_state=42\n",
    "    )\n",
    "\n",
    "    # Evaluate the model using cross-validation\n",
    "    score = cross_val_score(model, X_train_top, y_train, cv=3, scoring='accuracy').mean()\n",
    "    return score\n",
    "\n",
    "# Create an Optuna study\n",
    "study = optuna.create_study(direction='maximize')\n",
    "study.optimize(objective, n_trials=50)\n",
    "\n",
    "# Get the best parameters\n",
    "best_params = study.best_params\n",
    "print(\"Best Parameters:\", best_params)\n",
    "\n",
    "# Step 8: Train the Model with Best Parameters\n",
    "best_rf = RandomForestClassifier(**best_params, random_state=42)\n",
    "best_rf.fit(X_train_top, y_train)\n",
    "\n",
    "# Step 9: Evaluate the Model\n",
    "# Make predictions\n",
    "y_pred = best_rf.predict(X_test_top)\n",
    "\n",
    "# Evaluate the model\n",
    "print(\"\\nTest Accuracy:\", accuracy_score(y_test, y_pred))\n",
    "print(\"\\nConfusion Matrix:\\n\", confusion_matrix(y_test, y_pred))\n",
    "print(\"\\nClassification Report:\\n\", classification_report(y_test, y_pred))\n",
    "\n",
    "# Step 10: Check for Overfitting/Underfitting\n",
    "# Training accuracy\n",
    "train_accuracy = accuracy_score(y_train, best_rf.predict(X_train_top))\n",
    "\n",
    "# Test accuracy\n",
    "test_accuracy = accuracy_score(y_test, y_pred)\n",
    "\n",
    "print(f\"\\nTraining Accuracy: {train_accuracy}\")\n",
    "print(f\"Test Accuracy: {test_accuracy}\")\n",
    "\n",
    "# Step 11: Interpret Overfitting/Underfitting\n",
    "if train_accuracy > test_accuracy:\n",
    "    print(\"\\nThe model may be overfitting.\")\n",
    "elif train_accuracy < test_accuracy:\n",
    "    print(\"\\nThe model may be underfitting.\")\n",
    "else:\n",
    "    print(\"\\nThe model is well-fitted.\")"
   ]
  },
  {
   "cell_type": "code",
   "execution_count": null,
   "id": "a0b062af-fce5-44fd-8407-33441e1b061c",
   "metadata": {},
   "outputs": [],
   "source": []
  },
  {
   "cell_type": "code",
   "execution_count": null,
   "id": "bae8a48e-f40d-4396-9933-faacd7ca8f32",
   "metadata": {},
   "outputs": [],
   "source": []
  },
  {
   "cell_type": "code",
   "execution_count": null,
   "id": "287f183f-77ef-4528-8e26-163ee96df9f1",
   "metadata": {},
   "outputs": [],
   "source": []
  },
  {
   "cell_type": "code",
   "execution_count": null,
   "id": "6720f981-5f3b-4fb2-b936-324ca76ace8d",
   "metadata": {},
   "outputs": [],
   "source": []
  },
  {
   "cell_type": "code",
   "execution_count": null,
   "id": "43a7a935-ab07-4d2e-b26e-400dc2bb1fa5",
   "metadata": {},
   "outputs": [],
   "source": []
  },
  {
   "cell_type": "code",
   "execution_count": null,
   "id": "5b3d1274-9065-49ba-9555-ed492d099ce8",
   "metadata": {},
   "outputs": [],
   "source": []
  }
 ],
 "metadata": {
  "kernelspec": {
   "display_name": "Python (Project M1)",
   "language": "python",
   "name": "project_m1"
  },
  "language_info": {
   "codemirror_mode": {
    "name": "ipython",
    "version": 3
   },
   "file_extension": ".py",
   "mimetype": "text/x-python",
   "name": "python",
   "nbconvert_exporter": "python",
   "pygments_lexer": "ipython3",
   "version": "3.10.12"
  },
  "widgets": {
   "application/vnd.jupyter.widget-state+json": {
    "state": {},
    "version_major": 2,
    "version_minor": 0
   }
  }
 },
 "nbformat": 4,
 "nbformat_minor": 5
}
