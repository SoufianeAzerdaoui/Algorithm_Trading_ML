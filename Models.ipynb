{
 "cells": [
  {
   "cell_type": "code",
   "execution_count": 2,
   "id": "7defd947-4413-45eb-9840-684326309e28",
   "metadata": {},
   "outputs": [],
   "source": [
    "import pandas as pd\n",
    "import numpy as np\n",
    "from sklearn.model_selection import train_test_split, cross_val_score\n",
    "from sklearn.metrics import confusion_matrix, classification_report, accuracy_score\n",
    "from sklearn.ensemble import RandomForestClassifier\n",
    "import optuna\n",
    "import matplotlib.pyplot as plt\n",
    "import seaborn as sns"
   ]
  },
  {
   "cell_type": "code",
   "execution_count": 3,
   "id": "d226ede7-86b6-4551-9d67-27d29d4cc70a",
   "metadata": {},
   "outputs": [
    {
     "name": "stdout",
     "output_type": "stream",
     "text": [
      "/home/onizuka/Documents/Project M1/venv/bin/python3.10\n"
     ]
    }
   ],
   "source": [
    "import sys\n",
    "print(sys.executable)\n"
   ]
  },
  {
   "cell_type": "code",
   "execution_count": 4,
   "id": "a64079bc-df81-42a9-9fe9-bc3bdf817f87",
   "metadata": {},
   "outputs": [
    {
     "data": {
      "text/plain": [
       "Index(['Date', 'Adj Close', 'Close', 'High', 'Low', 'Open', 'Volume', 'RSI_14',\n",
       "       'RSI_30', 'RSI_200', 'MOM_10', 'MOM_30', 'MACD_12_26_9',\n",
       "       'MACDh_12_26_9', 'MACDs_12_26_9', 'PROC_9', 'EMA_10', 'EMA_30',\n",
       "       'Pct_Change', 'Log_Returns', 'Volatility_10', 'Volatility_30',\n",
       "       'Future_Close', 'Price_Change', 'Signal'],\n",
       "      dtype='object')"
      ]
     },
     "execution_count": 4,
     "metadata": {},
     "output_type": "execute_result"
    }
   ],
   "source": [
    "data= pd.read_csv('final_data.csv')\n",
    "data.columns"
   ]
  },
  {
   "cell_type": "markdown",
   "id": "84877f02-3635-4060-80a2-ab8965d80aab",
   "metadata": {},
   "source": [
    "## Split Data into Training and Testing Sets"
   ]
  },
  {
   "cell_type": "code",
   "execution_count": 5,
   "id": "b64eab87-e62c-4c06-9c16-aea0377ea26c",
   "metadata": {},
   "outputs": [],
   "source": [
    "# Define the list of features\n",
    "features = ['RSI_14', 'RSI_30', 'RSI_200', 'MOM_10', 'MOM_30', \n",
    "            'MACD_12_26_9', 'MACDh_12_26_9', 'MACDs_12_26_9', \n",
    "            'PROC_9', 'EMA_10', 'EMA_30', 'Pct_Change', 'Log_Returns', \n",
    "            'Volatility_10', 'Volatility_30']\n",
    "\n",
    "# Define the features (X)\n",
    "X = data[features]\n",
    "\n",
    "# Define the target variable (y)\n",
    "y = data['Signal']\n"
   ]
  },
  {
   "cell_type": "code",
   "execution_count": 6,
   "id": "764f3556-b6d4-4e8d-a0d2-023b6c64e3e1",
   "metadata": {},
   "outputs": [],
   "source": [
    "y = y.replace({2: 1})  # Replace '2' with '1'\n"
   ]
  },
  {
   "cell_type": "code",
   "execution_count": 7,
   "id": "287f183f-77ef-4528-8e26-163ee96df9f1",
   "metadata": {},
   "outputs": [],
   "source": [
    "from sklearn.model_selection import train_test_split\n",
    "\n",
    "# Split data into 80% training and 20% testing\n",
    "X_train, X_test, y_train, y_test = train_test_split(X, y, test_size=0.2, random_state=42, shuffle=False)"
   ]
  },
  {
   "cell_type": "markdown",
   "id": "ff5b9bde-2867-4d84-b924-c86b3475da87",
   "metadata": {},
   "source": [
    "##  Feature Scaling\n"
   ]
  },
  {
   "cell_type": "code",
   "execution_count": 8,
   "id": "43a7a935-ab07-4d2e-b26e-400dc2bb1fa5",
   "metadata": {},
   "outputs": [],
   "source": [
    "from sklearn.preprocessing import StandardScaler\n",
    "\n",
    "# Initialize scaler\n",
    "scaler = StandardScaler()\n",
    "\n",
    "# Fit and transform training data\n",
    "X_train_scaled = scaler.fit_transform(X_train)\n",
    "\n",
    "# Transform testing data\n",
    "X_test_scaled = scaler.transform(X_test)"
   ]
  },
  {
   "cell_type": "code",
   "execution_count": 9,
   "id": "0b773c76-a0d7-454b-9371-eeddd6c9fe4f",
   "metadata": {},
   "outputs": [
    {
     "name": "stdout",
     "output_type": "stream",
     "text": [
      "X_train_scaled shape: (8700, 15)\n",
      "y_train shape: (8700,)\n"
     ]
    }
   ],
   "source": [
    "print(\"X_train_scaled shape:\", X_train_scaled.shape)\n",
    "print(\"y_train shape:\", y_train.shape)"
   ]
  },
  {
   "cell_type": "markdown",
   "id": "4cc69a4b-af05-4bec-9b28-48ced7ac273b",
   "metadata": {},
   "source": [
    "## LightGboost"
   ]
  },
  {
   "cell_type": "code",
   "execution_count": 10,
   "id": "fa229e5c-2f89-4e13-8bf2-ead226c8a6db",
   "metadata": {},
   "outputs": [
    {
     "name": "stdout",
     "output_type": "stream",
     "text": [
      "True\n"
     ]
    }
   ],
   "source": [
    "from lightgbm import LGBMClassifier\n",
    "from sklearn.base import is_classifier\n",
    "\n",
    "# Initialize LightGBM model\n",
    "model = LGBMClassifier(n_estimators=100, learning_rate=0.1, random_state=42)\n",
    "\n",
    "# Check if the model is a classifier\n",
    "print(is_classifier(model))  # Should return True"
   ]
  },
  {
   "cell_type": "code",
   "execution_count": 11,
   "id": "447bf02c-1af9-43d5-91d5-86be40e781f4",
   "metadata": {},
   "outputs": [
    {
     "name": "stdout",
     "output_type": "stream",
     "text": [
      "[LightGBM] [Info] Number of positive: 4713, number of negative: 2247\n",
      "[LightGBM] [Info] Auto-choosing col-wise multi-threading, the overhead of testing was 0.000333 seconds.\n",
      "You can set `force_col_wise=true` to remove the overhead.\n",
      "[LightGBM] [Info] Total Bins 3825\n",
      "[LightGBM] [Info] Number of data points in the train set: 6960, number of used features: 15\n",
      "[LightGBM] [Info] Number of positive: 4713, number of negative: 2247\n",
      "[LightGBM] [Info] Auto-choosing col-wise multi-threading, the overhead of testing was 0.000304 seconds.\n",
      "You can set `force_col_wise=true` to remove the overhead.\n",
      "[LightGBM] [Info] Total Bins 3825\n",
      "[LightGBM] [Info] Number of data points in the train set: 6960, number of used features: 15\n",
      "[LightGBM] [Info] Number of positive: 4714, number of negative: 2246\n",
      "[LightGBM] [Info] Auto-choosing col-wise multi-threading, the overhead of testing was 0.000349 seconds.\n",
      "You can set `force_col_wise=true` to remove the overhead.\n",
      "[LightGBM] [Info] Total Bins 3825\n",
      "[LightGBM] [Info] Number of data points in the train set: 6960, number of used features: 15\n",
      "[LightGBM] [Info] Number of positive: 4714, number of negative: 2246\n",
      "[LightGBM] [Info] Auto-choosing row-wise multi-threading, the overhead of testing was 0.000532 seconds.\n",
      "You can set `force_row_wise=true` to remove the overhead.\n",
      "And if memory is not enough, you can set `force_col_wise=true`.\n",
      "[LightGBM] [Info] Total Bins 3825\n",
      "[LightGBM] [Info] Number of data points in the train set: 6960, number of used features: 15\n",
      "[LightGBM] [Info] Number of positive: 4714, number of negative: 2246\n",
      "[LightGBM] [Info] Auto-choosing col-wise multi-threading, the overhead of testing was 0.000645 seconds.\n",
      "You can set `force_col_wise=true` to remove the overhead.\n",
      "[LightGBM] [Info] Total Bins 3825\n",
      "[LightGBM] [Info] Number of data points in the train set: 6960, number of used features: 15\n",
      "[LightGBM] [Info] [binary:BoostFromScore]: pavg=0.677155 -> initscore=0.740729\n",
      "[LightGBM] [Info] Start training from score 0.740729\n",
      "[LightGBM] [Info] [binary:BoostFromScore]: pavg=0.677155 -> initscore=0.740729\n",
      "[LightGBM] [Info] Start training from score 0.740729\n",
      "[LightGBM] [Info] [binary:BoostFromScore]: pavg=0.677299 -> initscore=0.741386\n",
      "[LightGBM] [Info] Start training from score 0.741386\n",
      "[LightGBM] [Info] [binary:BoostFromScore]: pavg=0.677299 -> initscore=0.741386\n",
      "[LightGBM] [Info] Start training from score 0.741386\n",
      "[LightGBM] [Info] [binary:BoostFromScore]: pavg=0.677299 -> initscore=0.741386\n",
      "[LightGBM] [Info] Start training from score 0.741386\n",
      "Cross-Validation Binary Logloss: 0.5494601735883624\n",
      "[LightGBM] [Info] Number of positive: 5892, number of negative: 2808\n",
      "[LightGBM] [Info] Auto-choosing col-wise multi-threading, the overhead of testing was 0.000608 seconds.\n",
      "You can set `force_col_wise=true` to remove the overhead.\n",
      "[LightGBM] [Info] Total Bins 3825\n",
      "[LightGBM] [Info] Number of data points in the train set: 8700, number of used features: 15\n",
      "[LightGBM] [Info] [binary:BoostFromScore]: pavg=0.677241 -> initscore=0.741123\n",
      "[LightGBM] [Info] Start training from score 0.741123\n",
      "Accuracy on Test Data: 0.7333333333333333\n"
     ]
    },
    {
     "name": "stderr",
     "output_type": "stream",
     "text": [
      "/home/onizuka/Documents/Project M1/venv/lib/python3.10/site-packages/sklearn/utils/deprecation.py:151: FutureWarning: 'force_all_finite' was renamed to 'ensure_all_finite' in 1.6 and will be removed in 1.8.\n",
      "  warnings.warn(\n",
      "/home/onizuka/Documents/Project M1/venv/lib/python3.10/site-packages/sklearn/utils/deprecation.py:151: FutureWarning: 'force_all_finite' was renamed to 'ensure_all_finite' in 1.6 and will be removed in 1.8.\n",
      "  warnings.warn(\n"
     ]
    }
   ],
   "source": [
    "import lightgbm as lgb\n",
    "import numpy as np\n",
    "from sklearn.model_selection import train_test_split\n",
    "from sklearn.preprocessing import StandardScaler\n",
    "\n",
    "# Step 1: Prepare the data\n",
    "# Assuming X and y are already defined\n",
    "X_train, X_test, y_train, y_test = train_test_split(X, y, test_size=0.2, random_state=42)\n",
    "\n",
    "# Step 2: Scale the features\n",
    "scaler = StandardScaler()\n",
    "X_train_scaled = scaler.fit_transform(X_train)\n",
    "X_test_scaled = scaler.transform(X_test)\n",
    "\n",
    "# Step 3: Perform cross-validation\n",
    "cv_results = lgb.cv(\n",
    "    params={\n",
    "        'objective': 'binary',\n",
    "        'metric': 'binary_logloss'  # Use binary_logloss instead of binary_error\n",
    "    },\n",
    "    train_set=lgb.Dataset(X_train_scaled, label=y_train),\n",
    "    num_boost_round=100,\n",
    "    nfold=5,\n",
    "    stratified=True,\n",
    "    shuffle=True\n",
    ")\n",
    "\n",
    "# Step 4: Get binary log loss\n",
    "if 'valid binary_logloss-mean' in cv_results:\n",
    "    binary_logloss_mean = np.mean(cv_results['valid binary_logloss-mean'])\n",
    "    print(\"Cross-Validation Binary Logloss:\", binary_logloss_mean)\n",
    "else:\n",
    "    print(\"'valid binary_logloss-mean' not found in cv_results.\")\n",
    "\n",
    "# If you want to calculate accuracy manually, train the model separately\n",
    "final_model = lgb.LGBMClassifier(objective='binary', random_state=42)\n",
    "final_model.fit(X_train_scaled, y_train)\n",
    "\n",
    "# Make predictions\n",
    "y_pred = final_model.predict(X_test_scaled)\n",
    "\n",
    "# Calculate accuracy\n",
    "from sklearn.metrics import accuracy_score\n",
    "accuracy = accuracy_score(y_test, y_pred)\n",
    "print(\"Accuracy on Test Data:\", accuracy)\n"
   ]
  },
  {
   "cell_type": "markdown",
   "id": "929df5cf-a75c-4725-9e4b-5c52a0432a15",
   "metadata": {},
   "source": [
    "## Hyperparameter"
   ]
  },
  {
   "cell_type": "code",
   "execution_count": 12,
   "id": "ed63dfa8-fb45-4cf1-8446-a374d6698a00",
   "metadata": {},
   "outputs": [
    {
     "name": "stdout",
     "output_type": "stream",
     "text": [
      "[LightGBM] [Info] Number of positive: 4713, number of negative: 2247\n",
      "[LightGBM] [Info] Auto-choosing col-wise multi-threading, the overhead of testing was 0.000433 seconds.\n",
      "You can set `force_col_wise=true` to remove the overhead.\n",
      "[LightGBM] [Info] Total Bins 3825\n",
      "[LightGBM] [Info] Number of data points in the train set: 6960, number of used features: 15\n",
      "[LightGBM] [Info] [binary:BoostFromScore]: pavg=0.677155 -> initscore=0.740729\n",
      "[LightGBM] [Info] Start training from score 0.740729\n",
      "[LightGBM] [Info] Number of positive: 4713, number of negative: 2247\n",
      "[LightGBM] [Info] Auto-choosing col-wise multi-threading, the overhead of testing was 0.000248 seconds.\n",
      "You can set `force_col_wise=true` to remove the overhead.\n",
      "[LightGBM] [Info] Total Bins 3825\n",
      "[LightGBM] [Info] Number of data points in the train set: 6960, number of used features: 15\n",
      "[LightGBM] [Info] [binary:BoostFromScore]: pavg=0.677155 -> initscore=0.740729\n",
      "[LightGBM] [Info] Start training from score 0.740729\n"
     ]
    },
    {
     "name": "stderr",
     "output_type": "stream",
     "text": [
      "/home/onizuka/Documents/Project M1/venv/lib/python3.10/site-packages/sklearn/utils/deprecation.py:151: FutureWarning: 'force_all_finite' was renamed to 'ensure_all_finite' in 1.6 and will be removed in 1.8.\n",
      "  warnings.warn(\n",
      "/home/onizuka/Documents/Project M1/venv/lib/python3.10/site-packages/sklearn/utils/deprecation.py:151: FutureWarning: 'force_all_finite' was renamed to 'ensure_all_finite' in 1.6 and will be removed in 1.8.\n",
      "  warnings.warn(\n",
      "/home/onizuka/Documents/Project M1/venv/lib/python3.10/site-packages/sklearn/utils/deprecation.py:151: FutureWarning: 'force_all_finite' was renamed to 'ensure_all_finite' in 1.6 and will be removed in 1.8.\n",
      "  warnings.warn(\n",
      "/home/onizuka/Documents/Project M1/venv/lib/python3.10/site-packages/sklearn/utils/deprecation.py:151: FutureWarning: 'force_all_finite' was renamed to 'ensure_all_finite' in 1.6 and will be removed in 1.8.\n",
      "  warnings.warn(\n",
      "/home/onizuka/Documents/Project M1/venv/lib/python3.10/site-packages/sklearn/utils/deprecation.py:151: FutureWarning: 'force_all_finite' was renamed to 'ensure_all_finite' in 1.6 and will be removed in 1.8.\n",
      "  warnings.warn(\n",
      "/home/onizuka/Documents/Project M1/venv/lib/python3.10/site-packages/sklearn/utils/deprecation.py:151: FutureWarning: 'force_all_finite' was renamed to 'ensure_all_finite' in 1.6 and will be removed in 1.8.\n",
      "  warnings.warn(\n",
      "/home/onizuka/Documents/Project M1/venv/lib/python3.10/site-packages/sklearn/utils/deprecation.py:151: FutureWarning: 'force_all_finite' was renamed to 'ensure_all_finite' in 1.6 and will be removed in 1.8.\n",
      "  warnings.warn(\n"
     ]
    },
    {
     "name": "stdout",
     "output_type": "stream",
     "text": [
      "[LightGBM] [Info] Number of positive: 4714, number of negative: 2246\n",
      "[LightGBM] [Info] Auto-choosing col-wise multi-threading, the overhead of testing was 0.000392 seconds.\n",
      "You can set `force_col_wise=true` to remove the overhead.\n",
      "[LightGBM] [Info] Total Bins 3825\n",
      "[LightGBM] [Info] Number of data points in the train set: 6960, number of used features: 15\n",
      "[LightGBM] [Info] [binary:BoostFromScore]: pavg=0.677299 -> initscore=0.741386\n",
      "[LightGBM] [Info] Start training from score 0.741386\n",
      "[LightGBM] [Info] Number of positive: 4714, number of negative: 2246\n",
      "[LightGBM] [Info] Auto-choosing col-wise multi-threading, the overhead of testing was 0.000267 seconds.\n",
      "You can set `force_col_wise=true` to remove the overhead.\n",
      "[LightGBM] [Info] Total Bins 3825\n",
      "[LightGBM] [Info] Number of data points in the train set: 6960, number of used features: 15\n",
      "[LightGBM] [Info] [binary:BoostFromScore]: pavg=0.677299 -> initscore=0.741386\n",
      "[LightGBM] [Info] Start training from score 0.741386\n"
     ]
    },
    {
     "name": "stderr",
     "output_type": "stream",
     "text": [
      "/home/onizuka/Documents/Project M1/venv/lib/python3.10/site-packages/sklearn/utils/deprecation.py:151: FutureWarning: 'force_all_finite' was renamed to 'ensure_all_finite' in 1.6 and will be removed in 1.8.\n",
      "  warnings.warn(\n",
      "/home/onizuka/Documents/Project M1/venv/lib/python3.10/site-packages/sklearn/utils/deprecation.py:151: FutureWarning: 'force_all_finite' was renamed to 'ensure_all_finite' in 1.6 and will be removed in 1.8.\n",
      "  warnings.warn(\n",
      "/home/onizuka/Documents/Project M1/venv/lib/python3.10/site-packages/sklearn/utils/deprecation.py:151: FutureWarning: 'force_all_finite' was renamed to 'ensure_all_finite' in 1.6 and will be removed in 1.8.\n",
      "  warnings.warn(\n",
      "/home/onizuka/Documents/Project M1/venv/lib/python3.10/site-packages/sklearn/utils/deprecation.py:151: FutureWarning: 'force_all_finite' was renamed to 'ensure_all_finite' in 1.6 and will be removed in 1.8.\n",
      "  warnings.warn(\n"
     ]
    },
    {
     "name": "stdout",
     "output_type": "stream",
     "text": [
      "[LightGBM] [Info] Number of positive: 4714, number of negative: 2246\n",
      "[LightGBM] [Info] Auto-choosing col-wise multi-threading, the overhead of testing was 0.000289 seconds.\n",
      "You can set `force_col_wise=true` to remove the overhead.\n",
      "[LightGBM] [Info] Total Bins 3825\n",
      "[LightGBM] [Info] Number of data points in the train set: 6960, number of used features: 15\n",
      "[LightGBM] [Info] [binary:BoostFromScore]: pavg=0.677299 -> initscore=0.741386\n",
      "[LightGBM] [Info] Start training from score 0.741386\n",
      "[LightGBM] [Info] Number of positive: 4713, number of negative: 2247\n",
      "[LightGBM] [Info] Auto-choosing col-wise multi-threading, the overhead of testing was 0.000386 seconds.\n",
      "You can set `force_col_wise=true` to remove the overhead.\n",
      "[LightGBM] [Info] Total Bins 3825\n",
      "[LightGBM] [Info] Number of data points in the train set: 6960, number of used features: 15\n",
      "[LightGBM] [Info] [binary:BoostFromScore]: pavg=0.677155 -> initscore=0.740729\n",
      "[LightGBM] [Info] Start training from score 0.740729\n"
     ]
    },
    {
     "name": "stderr",
     "output_type": "stream",
     "text": [
      "/home/onizuka/Documents/Project M1/venv/lib/python3.10/site-packages/sklearn/utils/deprecation.py:151: FutureWarning: 'force_all_finite' was renamed to 'ensure_all_finite' in 1.6 and will be removed in 1.8.\n",
      "  warnings.warn(\n",
      "/home/onizuka/Documents/Project M1/venv/lib/python3.10/site-packages/sklearn/utils/deprecation.py:151: FutureWarning: 'force_all_finite' was renamed to 'ensure_all_finite' in 1.6 and will be removed in 1.8.\n",
      "  warnings.warn(\n",
      "/home/onizuka/Documents/Project M1/venv/lib/python3.10/site-packages/sklearn/utils/deprecation.py:151: FutureWarning: 'force_all_finite' was renamed to 'ensure_all_finite' in 1.6 and will be removed in 1.8.\n",
      "  warnings.warn(\n",
      "/home/onizuka/Documents/Project M1/venv/lib/python3.10/site-packages/sklearn/utils/deprecation.py:151: FutureWarning: 'force_all_finite' was renamed to 'ensure_all_finite' in 1.6 and will be removed in 1.8.\n",
      "  warnings.warn(\n"
     ]
    },
    {
     "name": "stdout",
     "output_type": "stream",
     "text": [
      "[LightGBM] [Info] Number of positive: 4713, number of negative: 2247\n",
      "[LightGBM] [Info] Auto-choosing col-wise multi-threading, the overhead of testing was 0.000277 seconds.\n",
      "You can set `force_col_wise=true` to remove the overhead.\n",
      "[LightGBM] [Info] Total Bins 3825\n",
      "[LightGBM] [Info] Number of data points in the train set: 6960, number of used features: 15\n",
      "[LightGBM] [Info] [binary:BoostFromScore]: pavg=0.677155 -> initscore=0.740729\n",
      "[LightGBM] [Info] Start training from score 0.740729\n",
      "[LightGBM] [Info] Number of positive: 4714, number of negative: 2246\n",
      "[LightGBM] [Info] Auto-choosing col-wise multi-threading, the overhead of testing was 0.000239 seconds.\n",
      "You can set `force_col_wise=true` to remove the overhead.\n",
      "[LightGBM] [Info] Total Bins 3825\n",
      "[LightGBM] [Info] Number of data points in the train set: 6960, number of used features: 15\n",
      "[LightGBM] [Info] [binary:BoostFromScore]: pavg=0.677299 -> initscore=0.741386\n",
      "[LightGBM] [Info] Start training from score 0.741386\n"
     ]
    },
    {
     "name": "stderr",
     "output_type": "stream",
     "text": [
      "/home/onizuka/Documents/Project M1/venv/lib/python3.10/site-packages/sklearn/utils/deprecation.py:151: FutureWarning: 'force_all_finite' was renamed to 'ensure_all_finite' in 1.6 and will be removed in 1.8.\n",
      "  warnings.warn(\n",
      "/home/onizuka/Documents/Project M1/venv/lib/python3.10/site-packages/sklearn/utils/deprecation.py:151: FutureWarning: 'force_all_finite' was renamed to 'ensure_all_finite' in 1.6 and will be removed in 1.8.\n",
      "  warnings.warn(\n",
      "/home/onizuka/Documents/Project M1/venv/lib/python3.10/site-packages/sklearn/utils/deprecation.py:151: FutureWarning: 'force_all_finite' was renamed to 'ensure_all_finite' in 1.6 and will be removed in 1.8.\n",
      "  warnings.warn(\n",
      "/home/onizuka/Documents/Project M1/venv/lib/python3.10/site-packages/sklearn/utils/deprecation.py:151: FutureWarning: 'force_all_finite' was renamed to 'ensure_all_finite' in 1.6 and will be removed in 1.8.\n",
      "  warnings.warn(\n"
     ]
    },
    {
     "name": "stdout",
     "output_type": "stream",
     "text": [
      "[LightGBM] [Info] Number of positive: 4714, number of negative: 2246\n",
      "[LightGBM] [Info] Auto-choosing col-wise multi-threading, the overhead of testing was 0.000283 seconds.\n",
      "You can set `force_col_wise=true` to remove the overhead.\n",
      "[LightGBM] [Info] Total Bins 3825\n",
      "[LightGBM] [Info] Number of data points in the train set: 6960, number of used features: 15\n",
      "[LightGBM] [Info] [binary:BoostFromScore]: pavg=0.677299 -> initscore=0.741386\n",
      "[LightGBM] [Info] Start training from score 0.741386\n",
      "[LightGBM] [Info] Number of positive: 4714, number of negative: 2246\n",
      "[LightGBM] [Info] Auto-choosing col-wise multi-threading, the overhead of testing was 0.000238 seconds.\n",
      "You can set `force_col_wise=true` to remove the overhead.\n",
      "[LightGBM] [Info] Total Bins 3825\n",
      "[LightGBM] [Info] Number of data points in the train set: 6960, number of used features: 15\n",
      "[LightGBM] [Info] [binary:BoostFromScore]: pavg=0.677299 -> initscore=0.741386\n",
      "[LightGBM] [Info] Start training from score 0.741386\n"
     ]
    },
    {
     "name": "stderr",
     "output_type": "stream",
     "text": [
      "/home/onizuka/Documents/Project M1/venv/lib/python3.10/site-packages/sklearn/utils/deprecation.py:151: FutureWarning: 'force_all_finite' was renamed to 'ensure_all_finite' in 1.6 and will be removed in 1.8.\n",
      "  warnings.warn(\n",
      "/home/onizuka/Documents/Project M1/venv/lib/python3.10/site-packages/sklearn/utils/deprecation.py:151: FutureWarning: 'force_all_finite' was renamed to 'ensure_all_finite' in 1.6 and will be removed in 1.8.\n",
      "  warnings.warn(\n"
     ]
    },
    {
     "name": "stdout",
     "output_type": "stream",
     "text": [
      "[LightGBM] [Info] Number of positive: 4713, number of negative: 2247\n",
      "[LightGBM] [Info] Auto-choosing col-wise multi-threading, the overhead of testing was 0.000393 seconds.\n",
      "You can set `force_col_wise=true` to remove the overhead.\n",
      "[LightGBM] [Info] Total Bins 3825\n",
      "[LightGBM] [Info] Number of data points in the train set: 6960, number of used features: 15\n",
      "[LightGBM] [Info] [binary:BoostFromScore]: pavg=0.677155 -> initscore=0.740729\n",
      "[LightGBM] [Info] Start training from score 0.740729\n"
     ]
    },
    {
     "name": "stderr",
     "output_type": "stream",
     "text": [
      "/home/onizuka/Documents/Project M1/venv/lib/python3.10/site-packages/sklearn/utils/deprecation.py:151: FutureWarning: 'force_all_finite' was renamed to 'ensure_all_finite' in 1.6 and will be removed in 1.8.\n",
      "  warnings.warn(\n",
      "/home/onizuka/Documents/Project M1/venv/lib/python3.10/site-packages/sklearn/utils/deprecation.py:151: FutureWarning: 'force_all_finite' was renamed to 'ensure_all_finite' in 1.6 and will be removed in 1.8.\n",
      "  warnings.warn(\n"
     ]
    },
    {
     "name": "stdout",
     "output_type": "stream",
     "text": [
      "[LightGBM] [Info] Number of positive: 4713, number of negative: 2247\n",
      "[LightGBM] [Info] Auto-choosing col-wise multi-threading, the overhead of testing was 0.000414 seconds.\n",
      "You can set `force_col_wise=true` to remove the overhead.\n",
      "[LightGBM] [Info] Total Bins 3825\n",
      "[LightGBM] [Info] Number of data points in the train set: 6960, number of used features: 15\n",
      "[LightGBM] [Info] [binary:BoostFromScore]: pavg=0.677155 -> initscore=0.740729\n",
      "[LightGBM] [Info] Start training from score 0.740729\n"
     ]
    },
    {
     "name": "stderr",
     "output_type": "stream",
     "text": [
      "/home/onizuka/Documents/Project M1/venv/lib/python3.10/site-packages/sklearn/utils/deprecation.py:151: FutureWarning: 'force_all_finite' was renamed to 'ensure_all_finite' in 1.6 and will be removed in 1.8.\n",
      "  warnings.warn(\n",
      "/home/onizuka/Documents/Project M1/venv/lib/python3.10/site-packages/sklearn/utils/deprecation.py:151: FutureWarning: 'force_all_finite' was renamed to 'ensure_all_finite' in 1.6 and will be removed in 1.8.\n",
      "  warnings.warn(\n"
     ]
    },
    {
     "name": "stdout",
     "output_type": "stream",
     "text": [
      "[LightGBM] [Info] Number of positive: 4714, number of negative: 2246\n",
      "[LightGBM] [Info] Auto-choosing col-wise multi-threading, the overhead of testing was 0.000279 seconds.\n",
      "You can set `force_col_wise=true` to remove the overhead.\n",
      "[LightGBM] [Info] Total Bins 3825\n",
      "[LightGBM] [Info] Number of data points in the train set: 6960, number of used features: 15\n",
      "[LightGBM] [Info] [binary:BoostFromScore]: pavg=0.677299 -> initscore=0.741386\n",
      "[LightGBM] [Info] Start training from score 0.741386\n"
     ]
    },
    {
     "name": "stderr",
     "output_type": "stream",
     "text": [
      "/home/onizuka/Documents/Project M1/venv/lib/python3.10/site-packages/sklearn/utils/deprecation.py:151: FutureWarning: 'force_all_finite' was renamed to 'ensure_all_finite' in 1.6 and will be removed in 1.8.\n",
      "  warnings.warn(\n",
      "/home/onizuka/Documents/Project M1/venv/lib/python3.10/site-packages/sklearn/utils/deprecation.py:151: FutureWarning: 'force_all_finite' was renamed to 'ensure_all_finite' in 1.6 and will be removed in 1.8.\n",
      "  warnings.warn(\n"
     ]
    },
    {
     "name": "stdout",
     "output_type": "stream",
     "text": [
      "[LightGBM] [Info] Number of positive: 4714, number of negative: 2246\n",
      "[LightGBM] [Info] Auto-choosing col-wise multi-threading, the overhead of testing was 0.000359 seconds.\n",
      "You can set `force_col_wise=true` to remove the overhead.\n",
      "[LightGBM] [Info] Total Bins 3825\n",
      "[LightGBM] [Info] Number of data points in the train set: 6960, number of used features: 15\n",
      "[LightGBM] [Info] [binary:BoostFromScore]: pavg=0.677299 -> initscore=0.741386\n",
      "[LightGBM] [Info] Start training from score 0.741386\n"
     ]
    },
    {
     "name": "stderr",
     "output_type": "stream",
     "text": [
      "/home/onizuka/Documents/Project M1/venv/lib/python3.10/site-packages/sklearn/utils/deprecation.py:151: FutureWarning: 'force_all_finite' was renamed to 'ensure_all_finite' in 1.6 and will be removed in 1.8.\n",
      "  warnings.warn(\n",
      "/home/onizuka/Documents/Project M1/venv/lib/python3.10/site-packages/sklearn/utils/deprecation.py:151: FutureWarning: 'force_all_finite' was renamed to 'ensure_all_finite' in 1.6 and will be removed in 1.8.\n",
      "  warnings.warn(\n"
     ]
    },
    {
     "name": "stdout",
     "output_type": "stream",
     "text": [
      "[LightGBM] [Info] Number of positive: 4714, number of negative: 2246\n",
      "[LightGBM] [Info] Auto-choosing col-wise multi-threading, the overhead of testing was 0.000287 seconds.\n",
      "You can set `force_col_wise=true` to remove the overhead.\n",
      "[LightGBM] [Info] Total Bins 3825\n",
      "[LightGBM] [Info] Number of data points in the train set: 6960, number of used features: 15\n",
      "[LightGBM] [Info] [binary:BoostFromScore]: pavg=0.677299 -> initscore=0.741386\n",
      "[LightGBM] [Info] Start training from score 0.741386\n"
     ]
    },
    {
     "name": "stderr",
     "output_type": "stream",
     "text": [
      "/home/onizuka/Documents/Project M1/venv/lib/python3.10/site-packages/sklearn/utils/deprecation.py:151: FutureWarning: 'force_all_finite' was renamed to 'ensure_all_finite' in 1.6 and will be removed in 1.8.\n",
      "  warnings.warn(\n",
      "/home/onizuka/Documents/Project M1/venv/lib/python3.10/site-packages/sklearn/utils/deprecation.py:151: FutureWarning: 'force_all_finite' was renamed to 'ensure_all_finite' in 1.6 and will be removed in 1.8.\n",
      "  warnings.warn(\n",
      "/home/onizuka/Documents/Project M1/venv/lib/python3.10/site-packages/sklearn/utils/deprecation.py:151: FutureWarning: 'force_all_finite' was renamed to 'ensure_all_finite' in 1.6 and will be removed in 1.8.\n",
      "  warnings.warn(\n",
      "/home/onizuka/Documents/Project M1/venv/lib/python3.10/site-packages/sklearn/utils/deprecation.py:151: FutureWarning: 'force_all_finite' was renamed to 'ensure_all_finite' in 1.6 and will be removed in 1.8.\n",
      "  warnings.warn(\n"
     ]
    },
    {
     "name": "stdout",
     "output_type": "stream",
     "text": [
      "[LightGBM] [Info] Number of positive: 4713, number of negative: 2247\n",
      "[LightGBM] [Info] Auto-choosing col-wise multi-threading, the overhead of testing was 0.000291 seconds.\n",
      "You can set `force_col_wise=true` to remove the overhead.\n",
      "[LightGBM] [Info] Total Bins 3825\n",
      "[LightGBM] [Info] Number of data points in the train set: 6960, number of used features: 15\n",
      "[LightGBM] [Info] [binary:BoostFromScore]: pavg=0.677155 -> initscore=0.740729\n",
      "[LightGBM] [Info] Start training from score 0.740729\n",
      "[LightGBM] [Info] Number of positive: 4713, number of negative: 2247\n",
      "[LightGBM] [Info] Auto-choosing col-wise multi-threading, the overhead of testing was 0.000252 seconds.\n",
      "You can set `force_col_wise=true` to remove the overhead.\n",
      "[LightGBM] [Info] Total Bins 3825\n",
      "[LightGBM] [Info] Number of data points in the train set: 6960, number of used features: 15\n",
      "[LightGBM] [Info] [binary:BoostFromScore]: pavg=0.677155 -> initscore=0.740729\n",
      "[LightGBM] [Info] Start training from score 0.740729\n"
     ]
    },
    {
     "name": "stderr",
     "output_type": "stream",
     "text": [
      "/home/onizuka/Documents/Project M1/venv/lib/python3.10/site-packages/sklearn/utils/deprecation.py:151: FutureWarning: 'force_all_finite' was renamed to 'ensure_all_finite' in 1.6 and will be removed in 1.8.\n",
      "  warnings.warn(\n",
      "/home/onizuka/Documents/Project M1/venv/lib/python3.10/site-packages/sklearn/utils/deprecation.py:151: FutureWarning: 'force_all_finite' was renamed to 'ensure_all_finite' in 1.6 and will be removed in 1.8.\n",
      "  warnings.warn(\n"
     ]
    },
    {
     "name": "stdout",
     "output_type": "stream",
     "text": [
      "[LightGBM] [Info] Number of positive: 4714, number of negative: 2246\n",
      "[LightGBM] [Info] Auto-choosing col-wise multi-threading, the overhead of testing was 0.000314 seconds.\n",
      "You can set `force_col_wise=true` to remove the overhead.\n",
      "[LightGBM] [Info] Total Bins 3825\n",
      "[LightGBM] [Info] Number of data points in the train set: 6960, number of used features: 15\n",
      "[LightGBM] [Info] [binary:BoostFromScore]: pavg=0.677299 -> initscore=0.741386\n",
      "[LightGBM] [Info] Start training from score 0.741386\n"
     ]
    },
    {
     "name": "stderr",
     "output_type": "stream",
     "text": [
      "/home/onizuka/Documents/Project M1/venv/lib/python3.10/site-packages/sklearn/utils/deprecation.py:151: FutureWarning: 'force_all_finite' was renamed to 'ensure_all_finite' in 1.6 and will be removed in 1.8.\n",
      "  warnings.warn(\n",
      "/home/onizuka/Documents/Project M1/venv/lib/python3.10/site-packages/sklearn/utils/deprecation.py:151: FutureWarning: 'force_all_finite' was renamed to 'ensure_all_finite' in 1.6 and will be removed in 1.8.\n",
      "  warnings.warn(\n",
      "/home/onizuka/Documents/Project M1/venv/lib/python3.10/site-packages/sklearn/utils/deprecation.py:151: FutureWarning: 'force_all_finite' was renamed to 'ensure_all_finite' in 1.6 and will be removed in 1.8.\n",
      "  warnings.warn(\n",
      "/home/onizuka/Documents/Project M1/venv/lib/python3.10/site-packages/sklearn/utils/deprecation.py:151: FutureWarning: 'force_all_finite' was renamed to 'ensure_all_finite' in 1.6 and will be removed in 1.8.\n",
      "  warnings.warn(\n"
     ]
    },
    {
     "name": "stdout",
     "output_type": "stream",
     "text": [
      "[LightGBM] [Info] Number of positive: 4714, number of negative: 2246\n",
      "[LightGBM] [Info] Auto-choosing col-wise multi-threading, the overhead of testing was 0.000426 seconds.\n",
      "You can set `force_col_wise=true` to remove the overhead.\n",
      "[LightGBM] [Info] Total Bins 3825\n",
      "[LightGBM] [Info] Number of data points in the train set: 6960, number of used features: 15\n",
      "[LightGBM] [Info] [binary:BoostFromScore]: pavg=0.677299 -> initscore=0.741386\n",
      "[LightGBM] [Info] Start training from score 0.741386\n",
      "[LightGBM] [Info] Number of positive: 4714, number of negative: 2246\n",
      "[LightGBM] [Info] Auto-choosing col-wise multi-threading, the overhead of testing was 0.000460 seconds.\n",
      "You can set `force_col_wise=true` to remove the overhead.\n",
      "[LightGBM] [Info] Total Bins 3825\n",
      "[LightGBM] [Info] Number of data points in the train set: 6960, number of used features: 15\n",
      "[LightGBM] [Info] [binary:BoostFromScore]: pavg=0.677299 -> initscore=0.741386\n",
      "[LightGBM] [Info] Start training from score 0.741386\n"
     ]
    },
    {
     "name": "stderr",
     "output_type": "stream",
     "text": [
      "/home/onizuka/Documents/Project M1/venv/lib/python3.10/site-packages/sklearn/utils/deprecation.py:151: FutureWarning: 'force_all_finite' was renamed to 'ensure_all_finite' in 1.6 and will be removed in 1.8.\n",
      "  warnings.warn(\n",
      "/home/onizuka/Documents/Project M1/venv/lib/python3.10/site-packages/sklearn/utils/deprecation.py:151: FutureWarning: 'force_all_finite' was renamed to 'ensure_all_finite' in 1.6 and will be removed in 1.8.\n",
      "  warnings.warn(\n"
     ]
    },
    {
     "name": "stdout",
     "output_type": "stream",
     "text": [
      "[LightGBM] [Info] Number of positive: 4713, number of negative: 2247\n",
      "[LightGBM] [Info] Auto-choosing col-wise multi-threading, the overhead of testing was 0.000293 seconds.\n",
      "You can set `force_col_wise=true` to remove the overhead.\n",
      "[LightGBM] [Info] Total Bins 3825\n",
      "[LightGBM] [Info] Number of data points in the train set: 6960, number of used features: 15\n",
      "[LightGBM] [Info] [binary:BoostFromScore]: pavg=0.677155 -> initscore=0.740729\n",
      "[LightGBM] [Info] Start training from score 0.740729\n"
     ]
    },
    {
     "name": "stderr",
     "output_type": "stream",
     "text": [
      "/home/onizuka/Documents/Project M1/venv/lib/python3.10/site-packages/sklearn/utils/deprecation.py:151: FutureWarning: 'force_all_finite' was renamed to 'ensure_all_finite' in 1.6 and will be removed in 1.8.\n",
      "  warnings.warn(\n",
      "/home/onizuka/Documents/Project M1/venv/lib/python3.10/site-packages/sklearn/utils/deprecation.py:151: FutureWarning: 'force_all_finite' was renamed to 'ensure_all_finite' in 1.6 and will be removed in 1.8.\n",
      "  warnings.warn(\n"
     ]
    },
    {
     "name": "stdout",
     "output_type": "stream",
     "text": [
      "[LightGBM] [Info] Number of positive: 4713, number of negative: 2247\n",
      "[LightGBM] [Info] Auto-choosing col-wise multi-threading, the overhead of testing was 0.000293 seconds.\n",
      "You can set `force_col_wise=true` to remove the overhead.\n",
      "[LightGBM] [Info] Total Bins 3825\n",
      "[LightGBM] [Info] Number of data points in the train set: 6960, number of used features: 15\n",
      "[LightGBM] [Info] [binary:BoostFromScore]: pavg=0.677155 -> initscore=0.740729\n",
      "[LightGBM] [Info] Start training from score 0.740729\n"
     ]
    },
    {
     "name": "stderr",
     "output_type": "stream",
     "text": [
      "/home/onizuka/Documents/Project M1/venv/lib/python3.10/site-packages/sklearn/utils/deprecation.py:151: FutureWarning: 'force_all_finite' was renamed to 'ensure_all_finite' in 1.6 and will be removed in 1.8.\n",
      "  warnings.warn(\n",
      "/home/onizuka/Documents/Project M1/venv/lib/python3.10/site-packages/sklearn/utils/deprecation.py:151: FutureWarning: 'force_all_finite' was renamed to 'ensure_all_finite' in 1.6 and will be removed in 1.8.\n",
      "  warnings.warn(\n"
     ]
    },
    {
     "name": "stdout",
     "output_type": "stream",
     "text": [
      "[LightGBM] [Info] Number of positive: 4714, number of negative: 2246\n",
      "[LightGBM] [Info] Auto-choosing col-wise multi-threading, the overhead of testing was 0.000396 seconds.\n",
      "You can set `force_col_wise=true` to remove the overhead.\n",
      "[LightGBM] [Info] Total Bins 3825\n",
      "[LightGBM] [Info] Number of data points in the train set: 6960, number of used features: 15\n",
      "[LightGBM] [Info] [binary:BoostFromScore]: pavg=0.677299 -> initscore=0.741386\n",
      "[LightGBM] [Info] Start training from score 0.741386\n"
     ]
    },
    {
     "name": "stderr",
     "output_type": "stream",
     "text": [
      "/home/onizuka/Documents/Project M1/venv/lib/python3.10/site-packages/sklearn/utils/deprecation.py:151: FutureWarning: 'force_all_finite' was renamed to 'ensure_all_finite' in 1.6 and will be removed in 1.8.\n",
      "  warnings.warn(\n",
      "/home/onizuka/Documents/Project M1/venv/lib/python3.10/site-packages/sklearn/utils/deprecation.py:151: FutureWarning: 'force_all_finite' was renamed to 'ensure_all_finite' in 1.6 and will be removed in 1.8.\n",
      "  warnings.warn(\n"
     ]
    },
    {
     "name": "stdout",
     "output_type": "stream",
     "text": [
      "[LightGBM] [Info] Number of positive: 4714, number of negative: 2246\n",
      "[LightGBM] [Info] Auto-choosing col-wise multi-threading, the overhead of testing was 0.000296 seconds.\n",
      "You can set `force_col_wise=true` to remove the overhead.\n",
      "[LightGBM] [Info] Total Bins 3825\n",
      "[LightGBM] [Info] Number of data points in the train set: 6960, number of used features: 15\n",
      "[LightGBM] [Info] [binary:BoostFromScore]: pavg=0.677299 -> initscore=0.741386\n",
      "[LightGBM] [Info] Start training from score 0.741386\n"
     ]
    },
    {
     "name": "stderr",
     "output_type": "stream",
     "text": [
      "/home/onizuka/Documents/Project M1/venv/lib/python3.10/site-packages/sklearn/utils/deprecation.py:151: FutureWarning: 'force_all_finite' was renamed to 'ensure_all_finite' in 1.6 and will be removed in 1.8.\n",
      "  warnings.warn(\n",
      "/home/onizuka/Documents/Project M1/venv/lib/python3.10/site-packages/sklearn/utils/deprecation.py:151: FutureWarning: 'force_all_finite' was renamed to 'ensure_all_finite' in 1.6 and will be removed in 1.8.\n",
      "  warnings.warn(\n"
     ]
    },
    {
     "name": "stdout",
     "output_type": "stream",
     "text": [
      "[LightGBM] [Info] Number of positive: 4714, number of negative: 2246\n",
      "[LightGBM] [Info] Auto-choosing col-wise multi-threading, the overhead of testing was 0.000286 seconds.\n",
      "You can set `force_col_wise=true` to remove the overhead.\n",
      "[LightGBM] [Info] Total Bins 3825\n",
      "[LightGBM] [Info] Number of data points in the train set: 6960, number of used features: 15\n",
      "[LightGBM] [Info] [binary:BoostFromScore]: pavg=0.677299 -> initscore=0.741386\n",
      "[LightGBM] [Info] Start training from score 0.741386\n"
     ]
    },
    {
     "name": "stderr",
     "output_type": "stream",
     "text": [
      "/home/onizuka/Documents/Project M1/venv/lib/python3.10/site-packages/sklearn/utils/deprecation.py:151: FutureWarning: 'force_all_finite' was renamed to 'ensure_all_finite' in 1.6 and will be removed in 1.8.\n",
      "  warnings.warn(\n",
      "/home/onizuka/Documents/Project M1/venv/lib/python3.10/site-packages/sklearn/utils/deprecation.py:151: FutureWarning: 'force_all_finite' was renamed to 'ensure_all_finite' in 1.6 and will be removed in 1.8.\n",
      "  warnings.warn(\n"
     ]
    },
    {
     "name": "stdout",
     "output_type": "stream",
     "text": [
      "[LightGBM] [Info] Number of positive: 4713, number of negative: 2247\n",
      "[LightGBM] [Info] Auto-choosing col-wise multi-threading, the overhead of testing was 0.000280 seconds.\n",
      "You can set `force_col_wise=true` to remove the overhead.\n",
      "[LightGBM] [Info] Total Bins 3825\n",
      "[LightGBM] [Info] Number of data points in the train set: 6960, number of used features: 15\n",
      "[LightGBM] [Info] [binary:BoostFromScore]: pavg=0.677155 -> initscore=0.740729\n",
      "[LightGBM] [Info] Start training from score 0.740729\n"
     ]
    },
    {
     "name": "stderr",
     "output_type": "stream",
     "text": [
      "/home/onizuka/Documents/Project M1/venv/lib/python3.10/site-packages/sklearn/utils/deprecation.py:151: FutureWarning: 'force_all_finite' was renamed to 'ensure_all_finite' in 1.6 and will be removed in 1.8.\n",
      "  warnings.warn(\n",
      "/home/onizuka/Documents/Project M1/venv/lib/python3.10/site-packages/sklearn/utils/deprecation.py:151: FutureWarning: 'force_all_finite' was renamed to 'ensure_all_finite' in 1.6 and will be removed in 1.8.\n",
      "  warnings.warn(\n"
     ]
    },
    {
     "name": "stdout",
     "output_type": "stream",
     "text": [
      "[LightGBM] [Info] Number of positive: 4713, number of negative: 2247\n",
      "[LightGBM] [Info] Auto-choosing col-wise multi-threading, the overhead of testing was 0.000292 seconds.\n",
      "You can set `force_col_wise=true` to remove the overhead.\n",
      "[LightGBM] [Info] Total Bins 3825\n",
      "[LightGBM] [Info] Number of data points in the train set: 6960, number of used features: 15\n",
      "[LightGBM] [Info] [binary:BoostFromScore]: pavg=0.677155 -> initscore=0.740729\n",
      "[LightGBM] [Info] Start training from score 0.740729\n"
     ]
    },
    {
     "name": "stderr",
     "output_type": "stream",
     "text": [
      "/home/onizuka/Documents/Project M1/venv/lib/python3.10/site-packages/sklearn/utils/deprecation.py:151: FutureWarning: 'force_all_finite' was renamed to 'ensure_all_finite' in 1.6 and will be removed in 1.8.\n",
      "  warnings.warn(\n",
      "/home/onizuka/Documents/Project M1/venv/lib/python3.10/site-packages/sklearn/utils/deprecation.py:151: FutureWarning: 'force_all_finite' was renamed to 'ensure_all_finite' in 1.6 and will be removed in 1.8.\n",
      "  warnings.warn(\n"
     ]
    },
    {
     "name": "stdout",
     "output_type": "stream",
     "text": [
      "[LightGBM] [Info] Number of positive: 4714, number of negative: 2246\n",
      "[LightGBM] [Info] Auto-choosing col-wise multi-threading, the overhead of testing was 0.000282 seconds.\n",
      "You can set `force_col_wise=true` to remove the overhead.\n",
      "[LightGBM] [Info] Total Bins 3825\n",
      "[LightGBM] [Info] Number of data points in the train set: 6960, number of used features: 15\n",
      "[LightGBM] [Info] [binary:BoostFromScore]: pavg=0.677299 -> initscore=0.741386\n",
      "[LightGBM] [Info] Start training from score 0.741386\n"
     ]
    },
    {
     "name": "stderr",
     "output_type": "stream",
     "text": [
      "/home/onizuka/Documents/Project M1/venv/lib/python3.10/site-packages/sklearn/utils/deprecation.py:151: FutureWarning: 'force_all_finite' was renamed to 'ensure_all_finite' in 1.6 and will be removed in 1.8.\n",
      "  warnings.warn(\n",
      "/home/onizuka/Documents/Project M1/venv/lib/python3.10/site-packages/sklearn/utils/deprecation.py:151: FutureWarning: 'force_all_finite' was renamed to 'ensure_all_finite' in 1.6 and will be removed in 1.8.\n",
      "  warnings.warn(\n"
     ]
    },
    {
     "name": "stdout",
     "output_type": "stream",
     "text": [
      "[LightGBM] [Info] Number of positive: 4714, number of negative: 2246\n",
      "[LightGBM] [Info] Auto-choosing col-wise multi-threading, the overhead of testing was 0.000298 seconds.\n",
      "You can set `force_col_wise=true` to remove the overhead.\n",
      "[LightGBM] [Info] Total Bins 3825\n",
      "[LightGBM] [Info] Number of data points in the train set: 6960, number of used features: 15\n",
      "[LightGBM] [Info] [binary:BoostFromScore]: pavg=0.677299 -> initscore=0.741386\n",
      "[LightGBM] [Info] Start training from score 0.741386\n"
     ]
    },
    {
     "name": "stderr",
     "output_type": "stream",
     "text": [
      "/home/onizuka/Documents/Project M1/venv/lib/python3.10/site-packages/sklearn/utils/deprecation.py:151: FutureWarning: 'force_all_finite' was renamed to 'ensure_all_finite' in 1.6 and will be removed in 1.8.\n",
      "  warnings.warn(\n",
      "/home/onizuka/Documents/Project M1/venv/lib/python3.10/site-packages/sklearn/utils/deprecation.py:151: FutureWarning: 'force_all_finite' was renamed to 'ensure_all_finite' in 1.6 and will be removed in 1.8.\n",
      "  warnings.warn(\n"
     ]
    },
    {
     "name": "stdout",
     "output_type": "stream",
     "text": [
      "[LightGBM] [Info] Number of positive: 4714, number of negative: 2246\n",
      "[LightGBM] [Info] Auto-choosing col-wise multi-threading, the overhead of testing was 0.000428 seconds.\n",
      "You can set `force_col_wise=true` to remove the overhead.\n",
      "[LightGBM] [Info] Total Bins 3825\n",
      "[LightGBM] [Info] Number of data points in the train set: 6960, number of used features: 15\n",
      "[LightGBM] [Info] [binary:BoostFromScore]: pavg=0.677299 -> initscore=0.741386\n",
      "[LightGBM] [Info] Start training from score 0.741386\n"
     ]
    },
    {
     "name": "stderr",
     "output_type": "stream",
     "text": [
      "/home/onizuka/Documents/Project M1/venv/lib/python3.10/site-packages/sklearn/utils/deprecation.py:151: FutureWarning: 'force_all_finite' was renamed to 'ensure_all_finite' in 1.6 and will be removed in 1.8.\n",
      "  warnings.warn(\n",
      "/home/onizuka/Documents/Project M1/venv/lib/python3.10/site-packages/sklearn/utils/deprecation.py:151: FutureWarning: 'force_all_finite' was renamed to 'ensure_all_finite' in 1.6 and will be removed in 1.8.\n",
      "  warnings.warn(\n",
      "/home/onizuka/Documents/Project M1/venv/lib/python3.10/site-packages/sklearn/utils/deprecation.py:151: FutureWarning: 'force_all_finite' was renamed to 'ensure_all_finite' in 1.6 and will be removed in 1.8.\n",
      "  warnings.warn(\n",
      "/home/onizuka/Documents/Project M1/venv/lib/python3.10/site-packages/sklearn/utils/deprecation.py:151: FutureWarning: 'force_all_finite' was renamed to 'ensure_all_finite' in 1.6 and will be removed in 1.8.\n",
      "  warnings.warn(\n"
     ]
    },
    {
     "name": "stdout",
     "output_type": "stream",
     "text": [
      "[LightGBM] [Info] Number of positive: 4713, number of negative: 2247\n",
      "[LightGBM] [Info] Auto-choosing col-wise multi-threading, the overhead of testing was 0.000292 seconds.\n",
      "You can set `force_col_wise=true` to remove the overhead.\n",
      "[LightGBM] [Info] Total Bins 3825\n",
      "[LightGBM] [Info] Number of data points in the train set: 6960, number of used features: 15\n",
      "[LightGBM] [Info] [binary:BoostFromScore]: pavg=0.677155 -> initscore=0.740729\n",
      "[LightGBM] [Info] Start training from score 0.740729\n",
      "[LightGBM] [Info] Number of positive: 4713, number of negative: 2247\n",
      "[LightGBM] [Info] Auto-choosing col-wise multi-threading, the overhead of testing was 0.000420 seconds.\n",
      "You can set `force_col_wise=true` to remove the overhead.\n",
      "[LightGBM] [Info] Total Bins 3825\n",
      "[LightGBM] [Info] Number of data points in the train set: 6960, number of used features: 15\n",
      "[LightGBM] [Info] [binary:BoostFromScore]: pavg=0.677155 -> initscore=0.740729\n",
      "[LightGBM] [Info] Start training from score 0.740729\n"
     ]
    },
    {
     "name": "stderr",
     "output_type": "stream",
     "text": [
      "/home/onizuka/Documents/Project M1/venv/lib/python3.10/site-packages/sklearn/utils/deprecation.py:151: FutureWarning: 'force_all_finite' was renamed to 'ensure_all_finite' in 1.6 and will be removed in 1.8.\n",
      "  warnings.warn(\n",
      "/home/onizuka/Documents/Project M1/venv/lib/python3.10/site-packages/sklearn/utils/deprecation.py:151: FutureWarning: 'force_all_finite' was renamed to 'ensure_all_finite' in 1.6 and will be removed in 1.8.\n",
      "  warnings.warn(\n",
      "/home/onizuka/Documents/Project M1/venv/lib/python3.10/site-packages/sklearn/utils/deprecation.py:151: FutureWarning: 'force_all_finite' was renamed to 'ensure_all_finite' in 1.6 and will be removed in 1.8.\n",
      "  warnings.warn(\n",
      "/home/onizuka/Documents/Project M1/venv/lib/python3.10/site-packages/sklearn/utils/deprecation.py:151: FutureWarning: 'force_all_finite' was renamed to 'ensure_all_finite' in 1.6 and will be removed in 1.8.\n",
      "  warnings.warn(\n"
     ]
    },
    {
     "name": "stdout",
     "output_type": "stream",
     "text": [
      "[LightGBM] [Info] Number of positive: 4714, number of negative: 2246\n",
      "[LightGBM] [Info] Auto-choosing col-wise multi-threading, the overhead of testing was 0.000322 seconds.\n",
      "You can set `force_col_wise=true` to remove the overhead.\n",
      "[LightGBM] [Info] Total Bins 3825\n",
      "[LightGBM] [Info] Number of data points in the train set: 6960, number of used features: 15\n",
      "[LightGBM] [Info] [binary:BoostFromScore]: pavg=0.677299 -> initscore=0.741386\n",
      "[LightGBM] [Info] Start training from score 0.741386\n",
      "[LightGBM] [Info] Number of positive: 4714, number of negative: 2246\n",
      "[LightGBM] [Info] Auto-choosing col-wise multi-threading, the overhead of testing was 0.000247 seconds.\n",
      "You can set `force_col_wise=true` to remove the overhead.\n",
      "[LightGBM] [Info] Total Bins 3825\n",
      "[LightGBM] [Info] Number of data points in the train set: 6960, number of used features: 15\n",
      "[LightGBM] [Info] [binary:BoostFromScore]: pavg=0.677299 -> initscore=0.741386\n",
      "[LightGBM] [Info] Start training from score 0.741386\n"
     ]
    },
    {
     "name": "stderr",
     "output_type": "stream",
     "text": [
      "/home/onizuka/Documents/Project M1/venv/lib/python3.10/site-packages/sklearn/utils/deprecation.py:151: FutureWarning: 'force_all_finite' was renamed to 'ensure_all_finite' in 1.6 and will be removed in 1.8.\n",
      "  warnings.warn(\n",
      "/home/onizuka/Documents/Project M1/venv/lib/python3.10/site-packages/sklearn/utils/deprecation.py:151: FutureWarning: 'force_all_finite' was renamed to 'ensure_all_finite' in 1.6 and will be removed in 1.8.\n",
      "  warnings.warn(\n",
      "/home/onizuka/Documents/Project M1/venv/lib/python3.10/site-packages/sklearn/utils/deprecation.py:151: FutureWarning: 'force_all_finite' was renamed to 'ensure_all_finite' in 1.6 and will be removed in 1.8.\n",
      "  warnings.warn(\n",
      "/home/onizuka/Documents/Project M1/venv/lib/python3.10/site-packages/sklearn/utils/deprecation.py:151: FutureWarning: 'force_all_finite' was renamed to 'ensure_all_finite' in 1.6 and will be removed in 1.8.\n",
      "  warnings.warn(\n"
     ]
    },
    {
     "name": "stdout",
     "output_type": "stream",
     "text": [
      "[LightGBM] [Info] Number of positive: 4714, number of negative: 2246\n",
      "[LightGBM] [Info] Auto-choosing col-wise multi-threading, the overhead of testing was 0.000369 seconds.\n",
      "You can set `force_col_wise=true` to remove the overhead.\n",
      "[LightGBM] [Info] Total Bins 3825\n",
      "[LightGBM] [Info] Number of data points in the train set: 6960, number of used features: 15\n",
      "[LightGBM] [Info] [binary:BoostFromScore]: pavg=0.677299 -> initscore=0.741386\n",
      "[LightGBM] [Info] Start training from score 0.741386\n",
      "[LightGBM] [Info] Number of positive: 4713, number of negative: 2247\n",
      "[LightGBM] [Info] Auto-choosing col-wise multi-threading, the overhead of testing was 0.000415 seconds.\n",
      "You can set `force_col_wise=true` to remove the overhead.\n",
      "[LightGBM] [Info] Total Bins 3825\n",
      "[LightGBM] [Info] Number of data points in the train set: 6960, number of used features: 15\n",
      "[LightGBM] [Info] [binary:BoostFromScore]: pavg=0.677155 -> initscore=0.740729\n",
      "[LightGBM] [Info] Start training from score 0.740729\n"
     ]
    },
    {
     "name": "stderr",
     "output_type": "stream",
     "text": [
      "/home/onizuka/Documents/Project M1/venv/lib/python3.10/site-packages/sklearn/utils/deprecation.py:151: FutureWarning: 'force_all_finite' was renamed to 'ensure_all_finite' in 1.6 and will be removed in 1.8.\n",
      "  warnings.warn(\n",
      "/home/onizuka/Documents/Project M1/venv/lib/python3.10/site-packages/sklearn/utils/deprecation.py:151: FutureWarning: 'force_all_finite' was renamed to 'ensure_all_finite' in 1.6 and will be removed in 1.8.\n",
      "  warnings.warn(\n"
     ]
    },
    {
     "name": "stdout",
     "output_type": "stream",
     "text": [
      "[LightGBM] [Info] Number of positive: 4713, number of negative: 2247\n",
      "[LightGBM] [Info] Auto-choosing col-wise multi-threading, the overhead of testing was 0.000309 seconds.\n",
      "You can set `force_col_wise=true` to remove the overhead.\n",
      "[LightGBM] [Info] Total Bins 3825\n",
      "[LightGBM] [Info] Number of data points in the train set: 6960, number of used features: 15\n",
      "[LightGBM] [Info] [binary:BoostFromScore]: pavg=0.677155 -> initscore=0.740729\n",
      "[LightGBM] [Info] Start training from score 0.740729\n"
     ]
    },
    {
     "name": "stderr",
     "output_type": "stream",
     "text": [
      "/home/onizuka/Documents/Project M1/venv/lib/python3.10/site-packages/sklearn/utils/deprecation.py:151: FutureWarning: 'force_all_finite' was renamed to 'ensure_all_finite' in 1.6 and will be removed in 1.8.\n",
      "  warnings.warn(\n",
      "/home/onizuka/Documents/Project M1/venv/lib/python3.10/site-packages/sklearn/utils/deprecation.py:151: FutureWarning: 'force_all_finite' was renamed to 'ensure_all_finite' in 1.6 and will be removed in 1.8.\n",
      "  warnings.warn(\n"
     ]
    },
    {
     "name": "stdout",
     "output_type": "stream",
     "text": [
      "[LightGBM] [Info] Number of positive: 4714, number of negative: 2246\n",
      "[LightGBM] [Info] Auto-choosing col-wise multi-threading, the overhead of testing was 0.000303 seconds.\n",
      "You can set `force_col_wise=true` to remove the overhead.\n",
      "[LightGBM] [Info] Total Bins 3825\n",
      "[LightGBM] [Info] Number of data points in the train set: 6960, number of used features: 15\n",
      "[LightGBM] [Info] [binary:BoostFromScore]: pavg=0.677299 -> initscore=0.741386\n",
      "[LightGBM] [Info] Start training from score 0.741386\n"
     ]
    },
    {
     "name": "stderr",
     "output_type": "stream",
     "text": [
      "/home/onizuka/Documents/Project M1/venv/lib/python3.10/site-packages/sklearn/utils/deprecation.py:151: FutureWarning: 'force_all_finite' was renamed to 'ensure_all_finite' in 1.6 and will be removed in 1.8.\n",
      "  warnings.warn(\n",
      "/home/onizuka/Documents/Project M1/venv/lib/python3.10/site-packages/sklearn/utils/deprecation.py:151: FutureWarning: 'force_all_finite' was renamed to 'ensure_all_finite' in 1.6 and will be removed in 1.8.\n",
      "  warnings.warn(\n"
     ]
    },
    {
     "name": "stdout",
     "output_type": "stream",
     "text": [
      "[LightGBM] [Info] Number of positive: 4714, number of negative: 2246\n",
      "[LightGBM] [Info] Auto-choosing col-wise multi-threading, the overhead of testing was 0.000297 seconds.\n",
      "You can set `force_col_wise=true` to remove the overhead.\n",
      "[LightGBM] [Info] Total Bins 3825\n",
      "[LightGBM] [Info] Number of data points in the train set: 6960, number of used features: 15\n",
      "[LightGBM] [Info] [binary:BoostFromScore]: pavg=0.677299 -> initscore=0.741386\n",
      "[LightGBM] [Info] Start training from score 0.741386\n"
     ]
    },
    {
     "name": "stderr",
     "output_type": "stream",
     "text": [
      "/home/onizuka/Documents/Project M1/venv/lib/python3.10/site-packages/sklearn/utils/deprecation.py:151: FutureWarning: 'force_all_finite' was renamed to 'ensure_all_finite' in 1.6 and will be removed in 1.8.\n",
      "  warnings.warn(\n",
      "/home/onizuka/Documents/Project M1/venv/lib/python3.10/site-packages/sklearn/utils/deprecation.py:151: FutureWarning: 'force_all_finite' was renamed to 'ensure_all_finite' in 1.6 and will be removed in 1.8.\n",
      "  warnings.warn(\n"
     ]
    },
    {
     "name": "stdout",
     "output_type": "stream",
     "text": [
      "[LightGBM] [Info] Number of positive: 4714, number of negative: 2246\n",
      "[LightGBM] [Info] Auto-choosing col-wise multi-threading, the overhead of testing was 0.000345 seconds.\n",
      "You can set `force_col_wise=true` to remove the overhead.\n",
      "[LightGBM] [Info] Total Bins 3825\n",
      "[LightGBM] [Info] Number of data points in the train set: 6960, number of used features: 15\n",
      "[LightGBM] [Info] [binary:BoostFromScore]: pavg=0.677299 -> initscore=0.741386\n",
      "[LightGBM] [Info] Start training from score 0.741386\n"
     ]
    },
    {
     "name": "stderr",
     "output_type": "stream",
     "text": [
      "/home/onizuka/Documents/Project M1/venv/lib/python3.10/site-packages/sklearn/utils/deprecation.py:151: FutureWarning: 'force_all_finite' was renamed to 'ensure_all_finite' in 1.6 and will be removed in 1.8.\n",
      "  warnings.warn(\n",
      "/home/onizuka/Documents/Project M1/venv/lib/python3.10/site-packages/sklearn/utils/deprecation.py:151: FutureWarning: 'force_all_finite' was renamed to 'ensure_all_finite' in 1.6 and will be removed in 1.8.\n",
      "  warnings.warn(\n"
     ]
    },
    {
     "name": "stdout",
     "output_type": "stream",
     "text": [
      "[LightGBM] [Info] Number of positive: 4713, number of negative: 2247\n",
      "[LightGBM] [Info] Auto-choosing col-wise multi-threading, the overhead of testing was 0.000320 seconds.\n",
      "You can set `force_col_wise=true` to remove the overhead.\n",
      "[LightGBM] [Info] Total Bins 3825\n",
      "[LightGBM] [Info] Number of data points in the train set: 6960, number of used features: 15\n",
      "[LightGBM] [Info] [binary:BoostFromScore]: pavg=0.677155 -> initscore=0.740729\n",
      "[LightGBM] [Info] Start training from score 0.740729\n"
     ]
    },
    {
     "name": "stderr",
     "output_type": "stream",
     "text": [
      "/home/onizuka/Documents/Project M1/venv/lib/python3.10/site-packages/sklearn/utils/deprecation.py:151: FutureWarning: 'force_all_finite' was renamed to 'ensure_all_finite' in 1.6 and will be removed in 1.8.\n",
      "  warnings.warn(\n",
      "/home/onizuka/Documents/Project M1/venv/lib/python3.10/site-packages/sklearn/utils/deprecation.py:151: FutureWarning: 'force_all_finite' was renamed to 'ensure_all_finite' in 1.6 and will be removed in 1.8.\n",
      "  warnings.warn(\n"
     ]
    },
    {
     "name": "stdout",
     "output_type": "stream",
     "text": [
      "[LightGBM] [Info] Number of positive: 4713, number of negative: 2247\n",
      "[LightGBM] [Info] Auto-choosing col-wise multi-threading, the overhead of testing was 0.000289 seconds.\n",
      "You can set `force_col_wise=true` to remove the overhead.\n",
      "[LightGBM] [Info] Total Bins 3825\n",
      "[LightGBM] [Info] Number of data points in the train set: 6960, number of used features: 15\n",
      "[LightGBM] [Info] [binary:BoostFromScore]: pavg=0.677155 -> initscore=0.740729\n",
      "[LightGBM] [Info] Start training from score 0.740729\n"
     ]
    },
    {
     "name": "stderr",
     "output_type": "stream",
     "text": [
      "/home/onizuka/Documents/Project M1/venv/lib/python3.10/site-packages/sklearn/utils/deprecation.py:151: FutureWarning: 'force_all_finite' was renamed to 'ensure_all_finite' in 1.6 and will be removed in 1.8.\n",
      "  warnings.warn(\n",
      "/home/onizuka/Documents/Project M1/venv/lib/python3.10/site-packages/sklearn/utils/deprecation.py:151: FutureWarning: 'force_all_finite' was renamed to 'ensure_all_finite' in 1.6 and will be removed in 1.8.\n",
      "  warnings.warn(\n"
     ]
    },
    {
     "name": "stdout",
     "output_type": "stream",
     "text": [
      "[LightGBM] [Info] Number of positive: 4714, number of negative: 2246\n",
      "[LightGBM] [Info] Auto-choosing col-wise multi-threading, the overhead of testing was 0.000436 seconds.\n",
      "You can set `force_col_wise=true` to remove the overhead.\n",
      "[LightGBM] [Info] Total Bins 3825\n",
      "[LightGBM] [Info] Number of data points in the train set: 6960, number of used features: 15\n",
      "[LightGBM] [Info] [binary:BoostFromScore]: pavg=0.677299 -> initscore=0.741386\n",
      "[LightGBM] [Info] Start training from score 0.741386\n"
     ]
    },
    {
     "name": "stderr",
     "output_type": "stream",
     "text": [
      "/home/onizuka/Documents/Project M1/venv/lib/python3.10/site-packages/sklearn/utils/deprecation.py:151: FutureWarning: 'force_all_finite' was renamed to 'ensure_all_finite' in 1.6 and will be removed in 1.8.\n",
      "  warnings.warn(\n",
      "/home/onizuka/Documents/Project M1/venv/lib/python3.10/site-packages/sklearn/utils/deprecation.py:151: FutureWarning: 'force_all_finite' was renamed to 'ensure_all_finite' in 1.6 and will be removed in 1.8.\n",
      "  warnings.warn(\n"
     ]
    },
    {
     "name": "stdout",
     "output_type": "stream",
     "text": [
      "[LightGBM] [Info] Number of positive: 4714, number of negative: 2246\n",
      "[LightGBM] [Info] Auto-choosing col-wise multi-threading, the overhead of testing was 0.000301 seconds.\n",
      "You can set `force_col_wise=true` to remove the overhead.\n",
      "[LightGBM] [Info] Total Bins 3825\n",
      "[LightGBM] [Info] Number of data points in the train set: 6960, number of used features: 15\n",
      "[LightGBM] [Info] [binary:BoostFromScore]: pavg=0.677299 -> initscore=0.741386\n",
      "[LightGBM] [Info] Start training from score 0.741386\n"
     ]
    },
    {
     "name": "stderr",
     "output_type": "stream",
     "text": [
      "/home/onizuka/Documents/Project M1/venv/lib/python3.10/site-packages/sklearn/utils/deprecation.py:151: FutureWarning: 'force_all_finite' was renamed to 'ensure_all_finite' in 1.6 and will be removed in 1.8.\n",
      "  warnings.warn(\n",
      "/home/onizuka/Documents/Project M1/venv/lib/python3.10/site-packages/sklearn/utils/deprecation.py:151: FutureWarning: 'force_all_finite' was renamed to 'ensure_all_finite' in 1.6 and will be removed in 1.8.\n",
      "  warnings.warn(\n"
     ]
    },
    {
     "name": "stdout",
     "output_type": "stream",
     "text": [
      "[LightGBM] [Info] Number of positive: 4714, number of negative: 2246\n",
      "[LightGBM] [Info] Auto-choosing col-wise multi-threading, the overhead of testing was 0.000319 seconds.\n",
      "You can set `force_col_wise=true` to remove the overhead.\n",
      "[LightGBM] [Info] Total Bins 3825\n",
      "[LightGBM] [Info] Number of data points in the train set: 6960, number of used features: 15\n",
      "[LightGBM] [Info] [binary:BoostFromScore]: pavg=0.677299 -> initscore=0.741386\n",
      "[LightGBM] [Info] Start training from score 0.741386\n"
     ]
    },
    {
     "name": "stderr",
     "output_type": "stream",
     "text": [
      "/home/onizuka/Documents/Project M1/venv/lib/python3.10/site-packages/sklearn/utils/deprecation.py:151: FutureWarning: 'force_all_finite' was renamed to 'ensure_all_finite' in 1.6 and will be removed in 1.8.\n",
      "  warnings.warn(\n",
      "/home/onizuka/Documents/Project M1/venv/lib/python3.10/site-packages/sklearn/utils/deprecation.py:151: FutureWarning: 'force_all_finite' was renamed to 'ensure_all_finite' in 1.6 and will be removed in 1.8.\n",
      "  warnings.warn(\n",
      "/home/onizuka/Documents/Project M1/venv/lib/python3.10/site-packages/sklearn/utils/deprecation.py:151: FutureWarning: 'force_all_finite' was renamed to 'ensure_all_finite' in 1.6 and will be removed in 1.8.\n",
      "  warnings.warn(\n",
      "/home/onizuka/Documents/Project M1/venv/lib/python3.10/site-packages/sklearn/utils/deprecation.py:151: FutureWarning: 'force_all_finite' was renamed to 'ensure_all_finite' in 1.6 and will be removed in 1.8.\n",
      "  warnings.warn(\n",
      "/home/onizuka/Documents/Project M1/venv/lib/python3.10/site-packages/sklearn/utils/deprecation.py:151: FutureWarning: 'force_all_finite' was renamed to 'ensure_all_finite' in 1.6 and will be removed in 1.8.\n",
      "  warnings.warn(\n",
      "/home/onizuka/Documents/Project M1/venv/lib/python3.10/site-packages/sklearn/utils/deprecation.py:151: FutureWarning: 'force_all_finite' was renamed to 'ensure_all_finite' in 1.6 and will be removed in 1.8.\n",
      "  warnings.warn(\n",
      "/home/onizuka/Documents/Project M1/venv/lib/python3.10/site-packages/sklearn/utils/deprecation.py:151: FutureWarning: 'force_all_finite' was renamed to 'ensure_all_finite' in 1.6 and will be removed in 1.8.\n",
      "  warnings.warn(\n",
      "/home/onizuka/Documents/Project M1/venv/lib/python3.10/site-packages/sklearn/utils/deprecation.py:151: FutureWarning: 'force_all_finite' was renamed to 'ensure_all_finite' in 1.6 and will be removed in 1.8.\n",
      "  warnings.warn(\n",
      "/home/onizuka/Documents/Project M1/venv/lib/python3.10/site-packages/sklearn/utils/deprecation.py:151: FutureWarning: 'force_all_finite' was renamed to 'ensure_all_finite' in 1.6 and will be removed in 1.8.\n",
      "  warnings.warn(\n",
      "/home/onizuka/Documents/Project M1/venv/lib/python3.10/site-packages/sklearn/utils/deprecation.py:151: FutureWarning: 'force_all_finite' was renamed to 'ensure_all_finite' in 1.6 and will be removed in 1.8.\n",
      "  warnings.warn(\n"
     ]
    },
    {
     "name": "stdout",
     "output_type": "stream",
     "text": [
      "[LightGBM] [Info] Number of positive: 4713, number of negative: 2247\n",
      "[LightGBM] [Info] Auto-choosing col-wise multi-threading, the overhead of testing was 0.000307 seconds.\n",
      "You can set `force_col_wise=true` to remove the overhead.\n",
      "[LightGBM] [Info] Total Bins 3825\n",
      "[LightGBM] [Info] Number of data points in the train set: 6960, number of used features: 15\n",
      "[LightGBM] [Info] [binary:BoostFromScore]: pavg=0.677155 -> initscore=0.740729\n",
      "[LightGBM] [Info] Start training from score 0.740729\n",
      "[LightGBM] [Info] Number of positive: 4713, number of negative: 2247\n",
      "[LightGBM] [Info] Auto-choosing col-wise multi-threading, the overhead of testing was 0.000250 seconds.\n",
      "You can set `force_col_wise=true` to remove the overhead.\n",
      "[LightGBM] [Info] Total Bins 3825\n",
      "[LightGBM] [Info] Number of data points in the train set: 6960, number of used features: 15\n",
      "[LightGBM] [Info] [binary:BoostFromScore]: pavg=0.677155 -> initscore=0.740729\n",
      "[LightGBM] [Info] Start training from score 0.740729\n",
      "[LightGBM] [Info] Number of positive: 4714, number of negative: 2246\n",
      "[LightGBM] [Info] Auto-choosing col-wise multi-threading, the overhead of testing was 0.000257 seconds.\n",
      "You can set `force_col_wise=true` to remove the overhead.\n",
      "[LightGBM] [Info] Total Bins 3825\n",
      "[LightGBM] [Info] Number of data points in the train set: 6960, number of used features: 15\n",
      "[LightGBM] [Info] [binary:BoostFromScore]: pavg=0.677299 -> initscore=0.741386\n",
      "[LightGBM] [Info] Start training from score 0.741386\n",
      "[LightGBM] [Info] Number of positive: 4714, number of negative: 2246\n",
      "[LightGBM] [Info] Auto-choosing col-wise multi-threading, the overhead of testing was 0.000307 seconds.\n",
      "You can set `force_col_wise=true` to remove the overhead.\n",
      "[LightGBM] [Info] Total Bins 3825\n",
      "[LightGBM] [Info] Number of data points in the train set: 6960, number of used features: 15\n",
      "[LightGBM] [Info] [binary:BoostFromScore]: pavg=0.677299 -> initscore=0.741386\n",
      "[LightGBM] [Info] Start training from score 0.741386\n",
      "[LightGBM] [Info] Number of positive: 4714, number of negative: 2246\n",
      "[LightGBM] [Info] Auto-choosing col-wise multi-threading, the overhead of testing was 0.000455 seconds.\n",
      "You can set `force_col_wise=true` to remove the overhead.\n",
      "[LightGBM] [Info] Total Bins 3825\n",
      "[LightGBM] [Info] Number of data points in the train set: 6960, number of used features: 15\n",
      "[LightGBM] [Info] [binary:BoostFromScore]: pavg=0.677299 -> initscore=0.741386\n",
      "[LightGBM] [Info] Start training from score 0.741386\n"
     ]
    },
    {
     "name": "stderr",
     "output_type": "stream",
     "text": [
      "/home/onizuka/Documents/Project M1/venv/lib/python3.10/site-packages/sklearn/utils/deprecation.py:151: FutureWarning: 'force_all_finite' was renamed to 'ensure_all_finite' in 1.6 and will be removed in 1.8.\n",
      "  warnings.warn(\n",
      "/home/onizuka/Documents/Project M1/venv/lib/python3.10/site-packages/sklearn/utils/deprecation.py:151: FutureWarning: 'force_all_finite' was renamed to 'ensure_all_finite' in 1.6 and will be removed in 1.8.\n",
      "  warnings.warn(\n",
      "/home/onizuka/Documents/Project M1/venv/lib/python3.10/site-packages/sklearn/utils/deprecation.py:151: FutureWarning: 'force_all_finite' was renamed to 'ensure_all_finite' in 1.6 and will be removed in 1.8.\n",
      "  warnings.warn(\n",
      "/home/onizuka/Documents/Project M1/venv/lib/python3.10/site-packages/sklearn/utils/deprecation.py:151: FutureWarning: 'force_all_finite' was renamed to 'ensure_all_finite' in 1.6 and will be removed in 1.8.\n",
      "  warnings.warn(\n",
      "/home/onizuka/Documents/Project M1/venv/lib/python3.10/site-packages/sklearn/utils/deprecation.py:151: FutureWarning: 'force_all_finite' was renamed to 'ensure_all_finite' in 1.6 and will be removed in 1.8.\n",
      "  warnings.warn(\n",
      "/home/onizuka/Documents/Project M1/venv/lib/python3.10/site-packages/sklearn/utils/deprecation.py:151: FutureWarning: 'force_all_finite' was renamed to 'ensure_all_finite' in 1.6 and will be removed in 1.8.\n",
      "  warnings.warn(\n",
      "/home/onizuka/Documents/Project M1/venv/lib/python3.10/site-packages/sklearn/utils/deprecation.py:151: FutureWarning: 'force_all_finite' was renamed to 'ensure_all_finite' in 1.6 and will be removed in 1.8.\n",
      "  warnings.warn(\n",
      "/home/onizuka/Documents/Project M1/venv/lib/python3.10/site-packages/sklearn/utils/deprecation.py:151: FutureWarning: 'force_all_finite' was renamed to 'ensure_all_finite' in 1.6 and will be removed in 1.8.\n",
      "  warnings.warn(\n"
     ]
    },
    {
     "name": "stdout",
     "output_type": "stream",
     "text": [
      "[LightGBM] [Info] Number of positive: 4713, number of negative: 2247\n",
      "[LightGBM] [Info] Auto-choosing col-wise multi-threading, the overhead of testing was 0.000452 seconds.\n",
      "You can set `force_col_wise=true` to remove the overhead.\n",
      "[LightGBM] [Info] Total Bins 3825\n",
      "[LightGBM] [Info] Number of data points in the train set: 6960, number of used features: 15\n",
      "[LightGBM] [Info] [binary:BoostFromScore]: pavg=0.677155 -> initscore=0.740729\n",
      "[LightGBM] [Info] Start training from score 0.740729\n",
      "[LightGBM] [Info] Number of positive: 4713, number of negative: 2247\n",
      "[LightGBM] [Info] Auto-choosing col-wise multi-threading, the overhead of testing was 0.000245 seconds.\n",
      "You can set `force_col_wise=true` to remove the overhead.\n",
      "[LightGBM] [Info] Total Bins 3825\n",
      "[LightGBM] [Info] Number of data points in the train set: 6960, number of used features: 15\n",
      "[LightGBM] [Info] [binary:BoostFromScore]: pavg=0.677155 -> initscore=0.740729\n",
      "[LightGBM] [Info] Start training from score 0.740729\n",
      "[LightGBM] [Info] Number of positive: 4714, number of negative: 2246\n",
      "[LightGBM] [Info] Auto-choosing col-wise multi-threading, the overhead of testing was 0.000257 seconds.\n",
      "You can set `force_col_wise=true` to remove the overhead.\n",
      "[LightGBM] [Info] Total Bins 3825\n",
      "[LightGBM] [Info] Number of data points in the train set: 6960, number of used features: 15\n",
      "[LightGBM] [Info] [binary:BoostFromScore]: pavg=0.677299 -> initscore=0.741386\n",
      "[LightGBM] [Info] Start training from score 0.741386\n",
      "[LightGBM] [Info] Number of positive: 4714, number of negative: 2246\n",
      "[LightGBM] [Info] Auto-choosing col-wise multi-threading, the overhead of testing was 0.000427 seconds.\n",
      "You can set `force_col_wise=true` to remove the overhead.\n",
      "[LightGBM] [Info] Total Bins 3825\n",
      "[LightGBM] [Info] Number of data points in the train set: 6960, number of used features: 15\n",
      "[LightGBM] [Info] [binary:BoostFromScore]: pavg=0.677299 -> initscore=0.741386\n",
      "[LightGBM] [Info] Start training from score 0.741386\n"
     ]
    },
    {
     "name": "stderr",
     "output_type": "stream",
     "text": [
      "/home/onizuka/Documents/Project M1/venv/lib/python3.10/site-packages/sklearn/utils/deprecation.py:151: FutureWarning: 'force_all_finite' was renamed to 'ensure_all_finite' in 1.6 and will be removed in 1.8.\n",
      "  warnings.warn(\n",
      "/home/onizuka/Documents/Project M1/venv/lib/python3.10/site-packages/sklearn/utils/deprecation.py:151: FutureWarning: 'force_all_finite' was renamed to 'ensure_all_finite' in 1.6 and will be removed in 1.8.\n",
      "  warnings.warn(\n",
      "/home/onizuka/Documents/Project M1/venv/lib/python3.10/site-packages/sklearn/utils/deprecation.py:151: FutureWarning: 'force_all_finite' was renamed to 'ensure_all_finite' in 1.6 and will be removed in 1.8.\n",
      "  warnings.warn(\n",
      "/home/onizuka/Documents/Project M1/venv/lib/python3.10/site-packages/sklearn/utils/deprecation.py:151: FutureWarning: 'force_all_finite' was renamed to 'ensure_all_finite' in 1.6 and will be removed in 1.8.\n",
      "  warnings.warn(\n",
      "/home/onizuka/Documents/Project M1/venv/lib/python3.10/site-packages/sklearn/utils/deprecation.py:151: FutureWarning: 'force_all_finite' was renamed to 'ensure_all_finite' in 1.6 and will be removed in 1.8.\n",
      "  warnings.warn(\n",
      "/home/onizuka/Documents/Project M1/venv/lib/python3.10/site-packages/sklearn/utils/deprecation.py:151: FutureWarning: 'force_all_finite' was renamed to 'ensure_all_finite' in 1.6 and will be removed in 1.8.\n",
      "  warnings.warn(\n"
     ]
    },
    {
     "name": "stdout",
     "output_type": "stream",
     "text": [
      "[LightGBM] [Info] Number of positive: 4714, number of negative: 2246\n",
      "[LightGBM] [Info] Auto-choosing col-wise multi-threading, the overhead of testing was 0.000310 seconds.\n",
      "You can set `force_col_wise=true` to remove the overhead.\n",
      "[LightGBM] [Info] Total Bins 3825\n",
      "[LightGBM] [Info] Number of data points in the train set: 6960, number of used features: 15\n",
      "[LightGBM] [Info] [binary:BoostFromScore]: pavg=0.677299 -> initscore=0.741386\n",
      "[LightGBM] [Info] Start training from score 0.741386\n",
      "[LightGBM] [Info] Number of positive: 4713, number of negative: 2247\n",
      "[LightGBM] [Info] Auto-choosing col-wise multi-threading, the overhead of testing was 0.000248 seconds.\n",
      "You can set `force_col_wise=true` to remove the overhead.\n",
      "[LightGBM] [Info] Total Bins 3825\n",
      "[LightGBM] [Info] Number of data points in the train set: 6960, number of used features: 15\n",
      "[LightGBM] [Info] [binary:BoostFromScore]: pavg=0.677155 -> initscore=0.740729\n",
      "[LightGBM] [Info] Start training from score 0.740729\n",
      "[LightGBM] [Info] Number of positive: 4713, number of negative: 2247\n",
      "[LightGBM] [Info] Auto-choosing col-wise multi-threading, the overhead of testing was 0.000263 seconds.\n",
      "You can set `force_col_wise=true` to remove the overhead.\n",
      "[LightGBM] [Info] Total Bins 3825\n",
      "[LightGBM] [Info] Number of data points in the train set: 6960, number of used features: 15\n",
      "[LightGBM] [Info] [binary:BoostFromScore]: pavg=0.677155 -> initscore=0.740729\n",
      "[LightGBM] [Info] Start training from score 0.740729\n"
     ]
    },
    {
     "name": "stderr",
     "output_type": "stream",
     "text": [
      "/home/onizuka/Documents/Project M1/venv/lib/python3.10/site-packages/sklearn/utils/deprecation.py:151: FutureWarning: 'force_all_finite' was renamed to 'ensure_all_finite' in 1.6 and will be removed in 1.8.\n",
      "  warnings.warn(\n",
      "/home/onizuka/Documents/Project M1/venv/lib/python3.10/site-packages/sklearn/utils/deprecation.py:151: FutureWarning: 'force_all_finite' was renamed to 'ensure_all_finite' in 1.6 and will be removed in 1.8.\n",
      "  warnings.warn(\n",
      "/home/onizuka/Documents/Project M1/venv/lib/python3.10/site-packages/sklearn/utils/deprecation.py:151: FutureWarning: 'force_all_finite' was renamed to 'ensure_all_finite' in 1.6 and will be removed in 1.8.\n",
      "  warnings.warn(\n",
      "/home/onizuka/Documents/Project M1/venv/lib/python3.10/site-packages/sklearn/utils/deprecation.py:151: FutureWarning: 'force_all_finite' was renamed to 'ensure_all_finite' in 1.6 and will be removed in 1.8.\n",
      "  warnings.warn(\n"
     ]
    },
    {
     "name": "stdout",
     "output_type": "stream",
     "text": [
      "[LightGBM] [Info] Number of positive: 4714, number of negative: 2246\n",
      "[LightGBM] [Info] Auto-choosing col-wise multi-threading, the overhead of testing was 0.000395 seconds.\n",
      "You can set `force_col_wise=true` to remove the overhead.\n",
      "[LightGBM] [Info] Total Bins 3825\n",
      "[LightGBM] [Info] Number of data points in the train set: 6960, number of used features: 15\n",
      "[LightGBM] [Info] [binary:BoostFromScore]: pavg=0.677299 -> initscore=0.741386\n",
      "[LightGBM] [Info] Start training from score 0.741386\n",
      "[LightGBM] [Info] Number of positive: 4714, number of negative: 2246\n",
      "[LightGBM] [Info] Auto-choosing col-wise multi-threading, the overhead of testing was 0.000386 seconds.\n",
      "You can set `force_col_wise=true` to remove the overhead.\n",
      "[LightGBM] [Info] Total Bins 3825\n",
      "[LightGBM] [Info] Number of data points in the train set: 6960, number of used features: 15\n",
      "[LightGBM] [Info] [binary:BoostFromScore]: pavg=0.677299 -> initscore=0.741386\n",
      "[LightGBM] [Info] Start training from score 0.741386\n"
     ]
    },
    {
     "name": "stderr",
     "output_type": "stream",
     "text": [
      "/home/onizuka/Documents/Project M1/venv/lib/python3.10/site-packages/sklearn/utils/deprecation.py:151: FutureWarning: 'force_all_finite' was renamed to 'ensure_all_finite' in 1.6 and will be removed in 1.8.\n",
      "  warnings.warn(\n",
      "/home/onizuka/Documents/Project M1/venv/lib/python3.10/site-packages/sklearn/utils/deprecation.py:151: FutureWarning: 'force_all_finite' was renamed to 'ensure_all_finite' in 1.6 and will be removed in 1.8.\n",
      "  warnings.warn(\n",
      "/home/onizuka/Documents/Project M1/venv/lib/python3.10/site-packages/sklearn/utils/deprecation.py:151: FutureWarning: 'force_all_finite' was renamed to 'ensure_all_finite' in 1.6 and will be removed in 1.8.\n",
      "  warnings.warn(\n",
      "/home/onizuka/Documents/Project M1/venv/lib/python3.10/site-packages/sklearn/utils/deprecation.py:151: FutureWarning: 'force_all_finite' was renamed to 'ensure_all_finite' in 1.6 and will be removed in 1.8.\n",
      "  warnings.warn(\n",
      "/home/onizuka/Documents/Project M1/venv/lib/python3.10/site-packages/sklearn/utils/deprecation.py:151: FutureWarning: 'force_all_finite' was renamed to 'ensure_all_finite' in 1.6 and will be removed in 1.8.\n",
      "  warnings.warn(\n",
      "/home/onizuka/Documents/Project M1/venv/lib/python3.10/site-packages/sklearn/utils/deprecation.py:151: FutureWarning: 'force_all_finite' was renamed to 'ensure_all_finite' in 1.6 and will be removed in 1.8.\n",
      "  warnings.warn(\n"
     ]
    },
    {
     "name": "stdout",
     "output_type": "stream",
     "text": [
      "[LightGBM] [Info] Number of positive: 4714, number of negative: 2246\n",
      "[LightGBM] [Info] Auto-choosing col-wise multi-threading, the overhead of testing was 0.000325 seconds.\n",
      "You can set `force_col_wise=true` to remove the overhead.\n",
      "[LightGBM] [Info] Total Bins 3825\n",
      "[LightGBM] [Info] Number of data points in the train set: 6960, number of used features: 15\n",
      "[LightGBM] [Info] [binary:BoostFromScore]: pavg=0.677299 -> initscore=0.741386\n",
      "[LightGBM] [Info] Start training from score 0.741386\n",
      "[LightGBM] [Info] Number of positive: 4713, number of negative: 2247\n",
      "[LightGBM] [Info] Auto-choosing col-wise multi-threading, the overhead of testing was 0.000256 seconds.\n",
      "You can set `force_col_wise=true` to remove the overhead.\n",
      "[LightGBM] [Info] Total Bins 3825\n",
      "[LightGBM] [Info] Number of data points in the train set: 6960, number of used features: 15\n",
      "[LightGBM] [Info] [binary:BoostFromScore]: pavg=0.677155 -> initscore=0.740729\n",
      "[LightGBM] [Info] Start training from score 0.740729\n",
      "[LightGBM] [Info] Number of positive: 4713, number of negative: 2247\n",
      "[LightGBM] [Info] Auto-choosing col-wise multi-threading, the overhead of testing was 0.000256 seconds.\n",
      "You can set `force_col_wise=true` to remove the overhead.\n",
      "[LightGBM] [Info] Total Bins 3825\n",
      "[LightGBM] [Info] Number of data points in the train set: 6960, number of used features: 15\n",
      "[LightGBM] [Info] [binary:BoostFromScore]: pavg=0.677155 -> initscore=0.740729\n",
      "[LightGBM] [Info] Start training from score 0.740729\n"
     ]
    },
    {
     "name": "stderr",
     "output_type": "stream",
     "text": [
      "/home/onizuka/Documents/Project M1/venv/lib/python3.10/site-packages/sklearn/utils/deprecation.py:151: FutureWarning: 'force_all_finite' was renamed to 'ensure_all_finite' in 1.6 and will be removed in 1.8.\n",
      "  warnings.warn(\n",
      "/home/onizuka/Documents/Project M1/venv/lib/python3.10/site-packages/sklearn/utils/deprecation.py:151: FutureWarning: 'force_all_finite' was renamed to 'ensure_all_finite' in 1.6 and will be removed in 1.8.\n",
      "  warnings.warn(\n",
      "/home/onizuka/Documents/Project M1/venv/lib/python3.10/site-packages/sklearn/utils/deprecation.py:151: FutureWarning: 'force_all_finite' was renamed to 'ensure_all_finite' in 1.6 and will be removed in 1.8.\n",
      "  warnings.warn(\n",
      "/home/onizuka/Documents/Project M1/venv/lib/python3.10/site-packages/sklearn/utils/deprecation.py:151: FutureWarning: 'force_all_finite' was renamed to 'ensure_all_finite' in 1.6 and will be removed in 1.8.\n",
      "  warnings.warn(\n",
      "/home/onizuka/Documents/Project M1/venv/lib/python3.10/site-packages/sklearn/utils/deprecation.py:151: FutureWarning: 'force_all_finite' was renamed to 'ensure_all_finite' in 1.6 and will be removed in 1.8.\n",
      "  warnings.warn(\n",
      "/home/onizuka/Documents/Project M1/venv/lib/python3.10/site-packages/sklearn/utils/deprecation.py:151: FutureWarning: 'force_all_finite' was renamed to 'ensure_all_finite' in 1.6 and will be removed in 1.8.\n",
      "  warnings.warn(\n"
     ]
    },
    {
     "name": "stdout",
     "output_type": "stream",
     "text": [
      "[LightGBM] [Info] Number of positive: 4714, number of negative: 2246\n",
      "[LightGBM] [Info] Auto-choosing col-wise multi-threading, the overhead of testing was 0.000393 seconds.\n",
      "You can set `force_col_wise=true` to remove the overhead.\n",
      "[LightGBM] [Info] Total Bins 3825\n",
      "[LightGBM] [Info] Number of data points in the train set: 6960, number of used features: 15\n",
      "[LightGBM] [Info] [binary:BoostFromScore]: pavg=0.677299 -> initscore=0.741386\n",
      "[LightGBM] [Info] Start training from score 0.741386\n",
      "[LightGBM] [Info] Number of positive: 4714, number of negative: 2246\n",
      "[LightGBM] [Info] Auto-choosing col-wise multi-threading, the overhead of testing was 0.000467 seconds.\n",
      "You can set `force_col_wise=true` to remove the overhead.\n",
      "[LightGBM] [Info] Total Bins 3825\n",
      "[LightGBM] [Info] Number of data points in the train set: 6960, number of used features: 15\n",
      "[LightGBM] [Info] [binary:BoostFromScore]: pavg=0.677299 -> initscore=0.741386\n",
      "[LightGBM] [Info] Start training from score 0.741386\n",
      "[LightGBM] [Info] Number of positive: 4714, number of negative: 2246\n",
      "[LightGBM] [Info] Auto-choosing col-wise multi-threading, the overhead of testing was 0.000257 seconds.\n",
      "You can set `force_col_wise=true` to remove the overhead.\n",
      "[LightGBM] [Info] Total Bins 3825\n",
      "[LightGBM] [Info] Number of data points in the train set: 6960, number of used features: 15\n",
      "[LightGBM] [Info] [binary:BoostFromScore]: pavg=0.677299 -> initscore=0.741386\n",
      "[LightGBM] [Info] Start training from score 0.741386\n"
     ]
    },
    {
     "name": "stderr",
     "output_type": "stream",
     "text": [
      "/home/onizuka/Documents/Project M1/venv/lib/python3.10/site-packages/sklearn/utils/deprecation.py:151: FutureWarning: 'force_all_finite' was renamed to 'ensure_all_finite' in 1.6 and will be removed in 1.8.\n",
      "  warnings.warn(\n",
      "/home/onizuka/Documents/Project M1/venv/lib/python3.10/site-packages/sklearn/utils/deprecation.py:151: FutureWarning: 'force_all_finite' was renamed to 'ensure_all_finite' in 1.6 and will be removed in 1.8.\n",
      "  warnings.warn(\n",
      "/home/onizuka/Documents/Project M1/venv/lib/python3.10/site-packages/sklearn/utils/deprecation.py:151: FutureWarning: 'force_all_finite' was renamed to 'ensure_all_finite' in 1.6 and will be removed in 1.8.\n",
      "  warnings.warn(\n",
      "/home/onizuka/Documents/Project M1/venv/lib/python3.10/site-packages/sklearn/utils/deprecation.py:151: FutureWarning: 'force_all_finite' was renamed to 'ensure_all_finite' in 1.6 and will be removed in 1.8.\n",
      "  warnings.warn(\n"
     ]
    },
    {
     "name": "stdout",
     "output_type": "stream",
     "text": [
      "[LightGBM] [Info] Number of positive: 4713, number of negative: 2247\n",
      "[LightGBM] [Info] Auto-choosing col-wise multi-threading, the overhead of testing was 0.000317 seconds.\n",
      "You can set `force_col_wise=true` to remove the overhead.\n",
      "[LightGBM] [Info] Total Bins 3825\n",
      "[LightGBM] [Info] Number of data points in the train set: 6960, number of used features: 15\n",
      "[LightGBM] [Info] [binary:BoostFromScore]: pavg=0.677155 -> initscore=0.740729\n",
      "[LightGBM] [Info] Start training from score 0.740729\n",
      "[LightGBM] [Info] Number of positive: 4713, number of negative: 2247\n",
      "[LightGBM] [Info] Auto-choosing col-wise multi-threading, the overhead of testing was 0.000395 seconds.\n",
      "You can set `force_col_wise=true` to remove the overhead.\n",
      "[LightGBM] [Info] Total Bins 3825\n",
      "[LightGBM] [Info] Number of data points in the train set: 6960, number of used features: 15\n",
      "[LightGBM] [Info] [binary:BoostFromScore]: pavg=0.677155 -> initscore=0.740729\n",
      "[LightGBM] [Info] Start training from score 0.740729\n"
     ]
    },
    {
     "name": "stderr",
     "output_type": "stream",
     "text": [
      "/home/onizuka/Documents/Project M1/venv/lib/python3.10/site-packages/sklearn/utils/deprecation.py:151: FutureWarning: 'force_all_finite' was renamed to 'ensure_all_finite' in 1.6 and will be removed in 1.8.\n",
      "  warnings.warn(\n",
      "/home/onizuka/Documents/Project M1/venv/lib/python3.10/site-packages/sklearn/utils/deprecation.py:151: FutureWarning: 'force_all_finite' was renamed to 'ensure_all_finite' in 1.6 and will be removed in 1.8.\n",
      "  warnings.warn(\n",
      "/home/onizuka/Documents/Project M1/venv/lib/python3.10/site-packages/sklearn/utils/deprecation.py:151: FutureWarning: 'force_all_finite' was renamed to 'ensure_all_finite' in 1.6 and will be removed in 1.8.\n",
      "  warnings.warn(\n",
      "/home/onizuka/Documents/Project M1/venv/lib/python3.10/site-packages/sklearn/utils/deprecation.py:151: FutureWarning: 'force_all_finite' was renamed to 'ensure_all_finite' in 1.6 and will be removed in 1.8.\n",
      "  warnings.warn(\n"
     ]
    },
    {
     "name": "stdout",
     "output_type": "stream",
     "text": [
      "[LightGBM] [Info] Number of positive: 4714, number of negative: 2246\n",
      "[LightGBM] [Info] Auto-choosing col-wise multi-threading, the overhead of testing was 0.000295 seconds.\n",
      "You can set `force_col_wise=true` to remove the overhead.\n",
      "[LightGBM] [Info] Total Bins 3825\n",
      "[LightGBM] [Info] Number of data points in the train set: 6960, number of used features: 15\n",
      "[LightGBM] [Info] [binary:BoostFromScore]: pavg=0.677299 -> initscore=0.741386\n",
      "[LightGBM] [Info] Start training from score 0.741386\n",
      "[LightGBM] [Info] Number of positive: 4714, number of negative: 2246\n",
      "[LightGBM] [Info] Auto-choosing col-wise multi-threading, the overhead of testing was 0.000344 seconds.\n",
      "You can set `force_col_wise=true` to remove the overhead.\n",
      "[LightGBM] [Info] Total Bins 3825\n",
      "[LightGBM] [Info] Number of data points in the train set: 6960, number of used features: 15\n",
      "[LightGBM] [Info] [binary:BoostFromScore]: pavg=0.677299 -> initscore=0.741386\n",
      "[LightGBM] [Info] Start training from score 0.741386\n"
     ]
    },
    {
     "name": "stderr",
     "output_type": "stream",
     "text": [
      "/home/onizuka/Documents/Project M1/venv/lib/python3.10/site-packages/sklearn/utils/deprecation.py:151: FutureWarning: 'force_all_finite' was renamed to 'ensure_all_finite' in 1.6 and will be removed in 1.8.\n",
      "  warnings.warn(\n",
      "/home/onizuka/Documents/Project M1/venv/lib/python3.10/site-packages/sklearn/utils/deprecation.py:151: FutureWarning: 'force_all_finite' was renamed to 'ensure_all_finite' in 1.6 and will be removed in 1.8.\n",
      "  warnings.warn(\n",
      "/home/onizuka/Documents/Project M1/venv/lib/python3.10/site-packages/sklearn/utils/deprecation.py:151: FutureWarning: 'force_all_finite' was renamed to 'ensure_all_finite' in 1.6 and will be removed in 1.8.\n",
      "  warnings.warn(\n",
      "/home/onizuka/Documents/Project M1/venv/lib/python3.10/site-packages/sklearn/utils/deprecation.py:151: FutureWarning: 'force_all_finite' was renamed to 'ensure_all_finite' in 1.6 and will be removed in 1.8.\n",
      "  warnings.warn(\n"
     ]
    },
    {
     "name": "stdout",
     "output_type": "stream",
     "text": [
      "[LightGBM] [Info] Number of positive: 4714, number of negative: 2246\n",
      "[LightGBM] [Info] Auto-choosing col-wise multi-threading, the overhead of testing was 0.000314 seconds.\n",
      "You can set `force_col_wise=true` to remove the overhead.\n",
      "[LightGBM] [Info] Total Bins 3825\n",
      "[LightGBM] [Info] Number of data points in the train set: 6960, number of used features: 15\n",
      "[LightGBM] [Info] [binary:BoostFromScore]: pavg=0.677299 -> initscore=0.741386\n",
      "[LightGBM] [Info] Start training from score 0.741386\n",
      "[LightGBM] [Info] Number of positive: 4713, number of negative: 2247\n",
      "[LightGBM] [Info] Auto-choosing col-wise multi-threading, the overhead of testing was 0.000480 seconds.\n",
      "You can set `force_col_wise=true` to remove the overhead.\n",
      "[LightGBM] [Info] Total Bins 3825\n",
      "[LightGBM] [Info] Number of data points in the train set: 6960, number of used features: 15\n",
      "[LightGBM] [Info] [binary:BoostFromScore]: pavg=0.677155 -> initscore=0.740729\n",
      "[LightGBM] [Info] Start training from score 0.740729\n"
     ]
    },
    {
     "name": "stderr",
     "output_type": "stream",
     "text": [
      "/home/onizuka/Documents/Project M1/venv/lib/python3.10/site-packages/sklearn/utils/deprecation.py:151: FutureWarning: 'force_all_finite' was renamed to 'ensure_all_finite' in 1.6 and will be removed in 1.8.\n",
      "  warnings.warn(\n",
      "/home/onizuka/Documents/Project M1/venv/lib/python3.10/site-packages/sklearn/utils/deprecation.py:151: FutureWarning: 'force_all_finite' was renamed to 'ensure_all_finite' in 1.6 and will be removed in 1.8.\n",
      "  warnings.warn(\n"
     ]
    },
    {
     "name": "stdout",
     "output_type": "stream",
     "text": [
      "[LightGBM] [Info] Number of positive: 4713, number of negative: 2247\n",
      "[LightGBM] [Info] Auto-choosing col-wise multi-threading, the overhead of testing was 0.000393 seconds.\n",
      "You can set `force_col_wise=true` to remove the overhead.\n",
      "[LightGBM] [Info] Total Bins 3825\n",
      "[LightGBM] [Info] Number of data points in the train set: 6960, number of used features: 15\n",
      "[LightGBM] [Info] [binary:BoostFromScore]: pavg=0.677155 -> initscore=0.740729\n",
      "[LightGBM] [Info] Start training from score 0.740729\n"
     ]
    },
    {
     "name": "stderr",
     "output_type": "stream",
     "text": [
      "/home/onizuka/Documents/Project M1/venv/lib/python3.10/site-packages/sklearn/utils/deprecation.py:151: FutureWarning: 'force_all_finite' was renamed to 'ensure_all_finite' in 1.6 and will be removed in 1.8.\n",
      "  warnings.warn(\n",
      "/home/onizuka/Documents/Project M1/venv/lib/python3.10/site-packages/sklearn/utils/deprecation.py:151: FutureWarning: 'force_all_finite' was renamed to 'ensure_all_finite' in 1.6 and will be removed in 1.8.\n",
      "  warnings.warn(\n",
      "/home/onizuka/Documents/Project M1/venv/lib/python3.10/site-packages/sklearn/utils/deprecation.py:151: FutureWarning: 'force_all_finite' was renamed to 'ensure_all_finite' in 1.6 and will be removed in 1.8.\n",
      "  warnings.warn(\n"
     ]
    },
    {
     "name": "stdout",
     "output_type": "stream",
     "text": [
      "[LightGBM] [Info] Number of positive: 4714, number of negative: 2246\n",
      "[LightGBM] [Info] Auto-choosing col-wise multi-threading, the overhead of testing was 0.000287 seconds.\n",
      "You can set `force_col_wise=true` to remove the overhead.\n",
      "[LightGBM] [Info] Total Bins 3825\n",
      "[LightGBM] [Info] Number of data points in the train set: 6960, number of used features: 15\n",
      "[LightGBM] [Info] [binary:BoostFromScore]: pavg=0.677299 -> initscore=0.741386\n",
      "[LightGBM] [Info] Start training from score 0.741386\n",
      "[LightGBM] [Info] Number of positive: 4714, number of negative: 2246\n",
      "[LightGBM] [Info] Auto-choosing col-wise multi-threading, the overhead of testing was 0.000246 seconds.\n",
      "You can set `force_col_wise=true` to remove the overhead.\n",
      "[LightGBM] [Info] Total Bins 3825\n",
      "[LightGBM] [Info] Number of data points in the train set: 6960, number of used features: 15\n",
      "[LightGBM] [Info] [binary:BoostFromScore]: pavg=0.677299 -> initscore=0.741386\n",
      "[LightGBM] [Info] Start training from score 0.741386\n"
     ]
    },
    {
     "name": "stderr",
     "output_type": "stream",
     "text": [
      "/home/onizuka/Documents/Project M1/venv/lib/python3.10/site-packages/sklearn/utils/deprecation.py:151: FutureWarning: 'force_all_finite' was renamed to 'ensure_all_finite' in 1.6 and will be removed in 1.8.\n",
      "  warnings.warn(\n",
      "/home/onizuka/Documents/Project M1/venv/lib/python3.10/site-packages/sklearn/utils/deprecation.py:151: FutureWarning: 'force_all_finite' was renamed to 'ensure_all_finite' in 1.6 and will be removed in 1.8.\n",
      "  warnings.warn(\n",
      "/home/onizuka/Documents/Project M1/venv/lib/python3.10/site-packages/sklearn/utils/deprecation.py:151: FutureWarning: 'force_all_finite' was renamed to 'ensure_all_finite' in 1.6 and will be removed in 1.8.\n",
      "  warnings.warn(\n",
      "/home/onizuka/Documents/Project M1/venv/lib/python3.10/site-packages/sklearn/utils/deprecation.py:151: FutureWarning: 'force_all_finite' was renamed to 'ensure_all_finite' in 1.6 and will be removed in 1.8.\n",
      "  warnings.warn(\n"
     ]
    },
    {
     "name": "stdout",
     "output_type": "stream",
     "text": [
      "[LightGBM] [Info] Number of positive: 4714, number of negative: 2246\n",
      "[LightGBM] [Info] Auto-choosing col-wise multi-threading, the overhead of testing was 0.000330 seconds.\n",
      "You can set `force_col_wise=true` to remove the overhead.\n",
      "[LightGBM] [Info] Total Bins 3825\n",
      "[LightGBM] [Info] Number of data points in the train set: 6960, number of used features: 15\n",
      "[LightGBM] [Info] [binary:BoostFromScore]: pavg=0.677299 -> initscore=0.741386\n",
      "[LightGBM] [Info] Start training from score 0.741386\n",
      "[LightGBM] [Info] Number of positive: 4713, number of negative: 2247\n",
      "[LightGBM] [Info] Auto-choosing col-wise multi-threading, the overhead of testing was 0.000304 seconds.\n",
      "You can set `force_col_wise=true` to remove the overhead.\n",
      "[LightGBM] [Info] Total Bins 3825\n",
      "[LightGBM] [Info] Number of data points in the train set: 6960, number of used features: 15\n",
      "[LightGBM] [Info] [binary:BoostFromScore]: pavg=0.677155 -> initscore=0.740729\n",
      "[LightGBM] [Info] Start training from score 0.740729\n"
     ]
    },
    {
     "name": "stderr",
     "output_type": "stream",
     "text": [
      "/home/onizuka/Documents/Project M1/venv/lib/python3.10/site-packages/sklearn/utils/deprecation.py:151: FutureWarning: 'force_all_finite' was renamed to 'ensure_all_finite' in 1.6 and will be removed in 1.8.\n",
      "  warnings.warn(\n",
      "/home/onizuka/Documents/Project M1/venv/lib/python3.10/site-packages/sklearn/utils/deprecation.py:151: FutureWarning: 'force_all_finite' was renamed to 'ensure_all_finite' in 1.6 and will be removed in 1.8.\n",
      "  warnings.warn(\n",
      "/home/onizuka/Documents/Project M1/venv/lib/python3.10/site-packages/sklearn/utils/deprecation.py:151: FutureWarning: 'force_all_finite' was renamed to 'ensure_all_finite' in 1.6 and will be removed in 1.8.\n",
      "  warnings.warn(\n"
     ]
    },
    {
     "name": "stdout",
     "output_type": "stream",
     "text": [
      "[LightGBM] [Info] Number of positive: 4713, number of negative: 2247\n",
      "[LightGBM] [Info] Auto-choosing col-wise multi-threading, the overhead of testing was 0.000299 seconds.\n",
      "You can set `force_col_wise=true` to remove the overhead.\n",
      "[LightGBM] [Info] Total Bins 3825\n",
      "[LightGBM] [Info] Number of data points in the train set: 6960, number of used features: 15\n",
      "[LightGBM] [Info] [binary:BoostFromScore]: pavg=0.677155 -> initscore=0.740729\n",
      "[LightGBM] [Info] Start training from score 0.740729\n",
      "[LightGBM] [Info] Number of positive: 4714, number of negative: 2246\n",
      "[LightGBM] [Info] Auto-choosing col-wise multi-threading, the overhead of testing was 0.000301 seconds.\n",
      "You can set `force_col_wise=true` to remove the overhead.\n",
      "[LightGBM] [Info] Total Bins 3825\n",
      "[LightGBM] [Info] Number of data points in the train set: 6960, number of used features: 15\n",
      "[LightGBM] [Info] [binary:BoostFromScore]: pavg=0.677299 -> initscore=0.741386\n",
      "[LightGBM] [Info] Start training from score 0.741386\n"
     ]
    },
    {
     "name": "stderr",
     "output_type": "stream",
     "text": [
      "/home/onizuka/Documents/Project M1/venv/lib/python3.10/site-packages/sklearn/utils/deprecation.py:151: FutureWarning: 'force_all_finite' was renamed to 'ensure_all_finite' in 1.6 and will be removed in 1.8.\n",
      "  warnings.warn(\n",
      "/home/onizuka/Documents/Project M1/venv/lib/python3.10/site-packages/sklearn/utils/deprecation.py:151: FutureWarning: 'force_all_finite' was renamed to 'ensure_all_finite' in 1.6 and will be removed in 1.8.\n",
      "  warnings.warn(\n",
      "/home/onizuka/Documents/Project M1/venv/lib/python3.10/site-packages/sklearn/utils/deprecation.py:151: FutureWarning: 'force_all_finite' was renamed to 'ensure_all_finite' in 1.6 and will be removed in 1.8.\n",
      "  warnings.warn(\n",
      "/home/onizuka/Documents/Project M1/venv/lib/python3.10/site-packages/sklearn/utils/deprecation.py:151: FutureWarning: 'force_all_finite' was renamed to 'ensure_all_finite' in 1.6 and will be removed in 1.8.\n",
      "  warnings.warn(\n"
     ]
    },
    {
     "name": "stdout",
     "output_type": "stream",
     "text": [
      "[LightGBM] [Info] Number of positive: 4714, number of negative: 2246\n",
      "[LightGBM] [Info] Auto-choosing col-wise multi-threading, the overhead of testing was 0.000343 seconds.\n",
      "You can set `force_col_wise=true` to remove the overhead.\n",
      "[LightGBM] [Info] Total Bins 3825\n",
      "[LightGBM] [Info] Number of data points in the train set: 6960, number of used features: 15\n",
      "[LightGBM] [Info] [binary:BoostFromScore]: pavg=0.677299 -> initscore=0.741386\n",
      "[LightGBM] [Info] Start training from score 0.741386\n",
      "[LightGBM] [Info] Number of positive: 4714, number of negative: 2246\n",
      "[LightGBM] [Info] Auto-choosing col-wise multi-threading, the overhead of testing was 0.000416 seconds.\n",
      "You can set `force_col_wise=true` to remove the overhead.\n",
      "[LightGBM] [Info] Total Bins 3825\n",
      "[LightGBM] [Info] Number of data points in the train set: 6960, number of used features: 15\n",
      "[LightGBM] [Info] [binary:BoostFromScore]: pavg=0.677299 -> initscore=0.741386\n",
      "[LightGBM] [Info] Start training from score 0.741386\n"
     ]
    },
    {
     "name": "stderr",
     "output_type": "stream",
     "text": [
      "/home/onizuka/Documents/Project M1/venv/lib/python3.10/site-packages/sklearn/utils/deprecation.py:151: FutureWarning: 'force_all_finite' was renamed to 'ensure_all_finite' in 1.6 and will be removed in 1.8.\n",
      "  warnings.warn(\n",
      "/home/onizuka/Documents/Project M1/venv/lib/python3.10/site-packages/sklearn/utils/deprecation.py:151: FutureWarning: 'force_all_finite' was renamed to 'ensure_all_finite' in 1.6 and will be removed in 1.8.\n",
      "  warnings.warn(\n",
      "/home/onizuka/Documents/Project M1/venv/lib/python3.10/site-packages/sklearn/utils/deprecation.py:151: FutureWarning: 'force_all_finite' was renamed to 'ensure_all_finite' in 1.6 and will be removed in 1.8.\n",
      "  warnings.warn(\n",
      "/home/onizuka/Documents/Project M1/venv/lib/python3.10/site-packages/sklearn/utils/deprecation.py:151: FutureWarning: 'force_all_finite' was renamed to 'ensure_all_finite' in 1.6 and will be removed in 1.8.\n",
      "  warnings.warn(\n"
     ]
    },
    {
     "name": "stdout",
     "output_type": "stream",
     "text": [
      "[LightGBM] [Info] Number of positive: 4713, number of negative: 2247\n",
      "[LightGBM] [Info] Auto-choosing col-wise multi-threading, the overhead of testing was 0.000313 seconds.\n",
      "You can set `force_col_wise=true` to remove the overhead.\n",
      "[LightGBM] [Info] Total Bins 3825\n",
      "[LightGBM] [Info] Number of data points in the train set: 6960, number of used features: 15\n",
      "[LightGBM] [Info] [binary:BoostFromScore]: pavg=0.677155 -> initscore=0.740729\n",
      "[LightGBM] [Info] Start training from score 0.740729\n",
      "[LightGBM] [Info] Number of positive: 4713, number of negative: 2247\n",
      "[LightGBM] [Info] Auto-choosing col-wise multi-threading, the overhead of testing was 0.000259 seconds.\n",
      "You can set `force_col_wise=true` to remove the overhead.\n",
      "[LightGBM] [Info] Total Bins 3825\n",
      "[LightGBM] [Info] Number of data points in the train set: 6960, number of used features: 15\n",
      "[LightGBM] [Info] [binary:BoostFromScore]: pavg=0.677155 -> initscore=0.740729\n",
      "[LightGBM] [Info] Start training from score 0.740729\n"
     ]
    },
    {
     "name": "stderr",
     "output_type": "stream",
     "text": [
      "/home/onizuka/Documents/Project M1/venv/lib/python3.10/site-packages/sklearn/utils/deprecation.py:151: FutureWarning: 'force_all_finite' was renamed to 'ensure_all_finite' in 1.6 and will be removed in 1.8.\n",
      "  warnings.warn(\n",
      "/home/onizuka/Documents/Project M1/venv/lib/python3.10/site-packages/sklearn/utils/deprecation.py:151: FutureWarning: 'force_all_finite' was renamed to 'ensure_all_finite' in 1.6 and will be removed in 1.8.\n",
      "  warnings.warn(\n",
      "/home/onizuka/Documents/Project M1/venv/lib/python3.10/site-packages/sklearn/utils/deprecation.py:151: FutureWarning: 'force_all_finite' was renamed to 'ensure_all_finite' in 1.6 and will be removed in 1.8.\n",
      "  warnings.warn(\n",
      "/home/onizuka/Documents/Project M1/venv/lib/python3.10/site-packages/sklearn/utils/deprecation.py:151: FutureWarning: 'force_all_finite' was renamed to 'ensure_all_finite' in 1.6 and will be removed in 1.8.\n",
      "  warnings.warn(\n"
     ]
    },
    {
     "name": "stdout",
     "output_type": "stream",
     "text": [
      "[LightGBM] [Info] Number of positive: 4714, number of negative: 2246\n",
      "[LightGBM] [Info] Auto-choosing col-wise multi-threading, the overhead of testing was 0.000303 seconds.\n",
      "You can set `force_col_wise=true` to remove the overhead.\n",
      "[LightGBM] [Info] Total Bins 3825\n",
      "[LightGBM] [Info] Number of data points in the train set: 6960, number of used features: 15\n",
      "[LightGBM] [Info] [binary:BoostFromScore]: pavg=0.677299 -> initscore=0.741386\n",
      "[LightGBM] [Info] Start training from score 0.741386\n"
     ]
    },
    {
     "name": "stderr",
     "output_type": "stream",
     "text": [
      "/home/onizuka/Documents/Project M1/venv/lib/python3.10/site-packages/sklearn/utils/deprecation.py:151: FutureWarning: 'force_all_finite' was renamed to 'ensure_all_finite' in 1.6 and will be removed in 1.8.\n",
      "  warnings.warn(\n",
      "/home/onizuka/Documents/Project M1/venv/lib/python3.10/site-packages/sklearn/utils/deprecation.py:151: FutureWarning: 'force_all_finite' was renamed to 'ensure_all_finite' in 1.6 and will be removed in 1.8.\n",
      "  warnings.warn(\n"
     ]
    },
    {
     "name": "stdout",
     "output_type": "stream",
     "text": [
      "[LightGBM] [Info] Number of positive: 4714, number of negative: 2246\n",
      "[LightGBM] [Info] Auto-choosing col-wise multi-threading, the overhead of testing was 0.000373 seconds.\n",
      "You can set `force_col_wise=true` to remove the overhead.\n",
      "[LightGBM] [Info] Total Bins 3825\n",
      "[LightGBM] [Info] Number of data points in the train set: 6960, number of used features: 15\n",
      "[LightGBM] [Info] [binary:BoostFromScore]: pavg=0.677299 -> initscore=0.741386\n",
      "[LightGBM] [Info] Start training from score 0.741386\n"
     ]
    },
    {
     "name": "stderr",
     "output_type": "stream",
     "text": [
      "/home/onizuka/Documents/Project M1/venv/lib/python3.10/site-packages/sklearn/utils/deprecation.py:151: FutureWarning: 'force_all_finite' was renamed to 'ensure_all_finite' in 1.6 and will be removed in 1.8.\n",
      "  warnings.warn(\n",
      "/home/onizuka/Documents/Project M1/venv/lib/python3.10/site-packages/sklearn/utils/deprecation.py:151: FutureWarning: 'force_all_finite' was renamed to 'ensure_all_finite' in 1.6 and will be removed in 1.8.\n",
      "  warnings.warn(\n"
     ]
    },
    {
     "name": "stdout",
     "output_type": "stream",
     "text": [
      "[LightGBM] [Info] Number of positive: 4714, number of negative: 2246\n",
      "[LightGBM] [Info] Auto-choosing col-wise multi-threading, the overhead of testing was 0.000447 seconds.\n",
      "You can set `force_col_wise=true` to remove the overhead.\n",
      "[LightGBM] [Info] Total Bins 3825\n",
      "[LightGBM] [Info] Number of data points in the train set: 6960, number of used features: 15\n",
      "[LightGBM] [Info] [binary:BoostFromScore]: pavg=0.677299 -> initscore=0.741386\n",
      "[LightGBM] [Info] Start training from score 0.741386\n"
     ]
    },
    {
     "name": "stderr",
     "output_type": "stream",
     "text": [
      "/home/onizuka/Documents/Project M1/venv/lib/python3.10/site-packages/sklearn/utils/deprecation.py:151: FutureWarning: 'force_all_finite' was renamed to 'ensure_all_finite' in 1.6 and will be removed in 1.8.\n",
      "  warnings.warn(\n",
      "/home/onizuka/Documents/Project M1/venv/lib/python3.10/site-packages/sklearn/utils/deprecation.py:151: FutureWarning: 'force_all_finite' was renamed to 'ensure_all_finite' in 1.6 and will be removed in 1.8.\n",
      "  warnings.warn(\n"
     ]
    },
    {
     "name": "stdout",
     "output_type": "stream",
     "text": [
      "[LightGBM] [Info] Number of positive: 4713, number of negative: 2247\n",
      "[LightGBM] [Info] Auto-choosing col-wise multi-threading, the overhead of testing was 0.000320 seconds.\n",
      "You can set `force_col_wise=true` to remove the overhead.\n",
      "[LightGBM] [Info] Total Bins 3825\n",
      "[LightGBM] [Info] Number of data points in the train set: 6960, number of used features: 15\n",
      "[LightGBM] [Info] [binary:BoostFromScore]: pavg=0.677155 -> initscore=0.740729\n",
      "[LightGBM] [Info] Start training from score 0.740729\n"
     ]
    },
    {
     "name": "stderr",
     "output_type": "stream",
     "text": [
      "/home/onizuka/Documents/Project M1/venv/lib/python3.10/site-packages/sklearn/utils/deprecation.py:151: FutureWarning: 'force_all_finite' was renamed to 'ensure_all_finite' in 1.6 and will be removed in 1.8.\n",
      "  warnings.warn(\n",
      "/home/onizuka/Documents/Project M1/venv/lib/python3.10/site-packages/sklearn/utils/deprecation.py:151: FutureWarning: 'force_all_finite' was renamed to 'ensure_all_finite' in 1.6 and will be removed in 1.8.\n",
      "  warnings.warn(\n"
     ]
    },
    {
     "name": "stdout",
     "output_type": "stream",
     "text": [
      "[LightGBM] [Info] Number of positive: 4713, number of negative: 2247\n",
      "[LightGBM] [Info] Auto-choosing col-wise multi-threading, the overhead of testing was 0.000318 seconds.\n",
      "You can set `force_col_wise=true` to remove the overhead.\n",
      "[LightGBM] [Info] Total Bins 3825\n",
      "[LightGBM] [Info] Number of data points in the train set: 6960, number of used features: 15\n",
      "[LightGBM] [Info] [binary:BoostFromScore]: pavg=0.677155 -> initscore=0.740729\n",
      "[LightGBM] [Info] Start training from score 0.740729\n"
     ]
    },
    {
     "name": "stderr",
     "output_type": "stream",
     "text": [
      "/home/onizuka/Documents/Project M1/venv/lib/python3.10/site-packages/sklearn/utils/deprecation.py:151: FutureWarning: 'force_all_finite' was renamed to 'ensure_all_finite' in 1.6 and will be removed in 1.8.\n",
      "  warnings.warn(\n",
      "/home/onizuka/Documents/Project M1/venv/lib/python3.10/site-packages/sklearn/utils/deprecation.py:151: FutureWarning: 'force_all_finite' was renamed to 'ensure_all_finite' in 1.6 and will be removed in 1.8.\n",
      "  warnings.warn(\n"
     ]
    },
    {
     "name": "stdout",
     "output_type": "stream",
     "text": [
      "[LightGBM] [Info] Number of positive: 4714, number of negative: 2246\n",
      "[LightGBM] [Info] Auto-choosing col-wise multi-threading, the overhead of testing was 0.000304 seconds.\n",
      "You can set `force_col_wise=true` to remove the overhead.\n",
      "[LightGBM] [Info] Total Bins 3825\n",
      "[LightGBM] [Info] Number of data points in the train set: 6960, number of used features: 15\n",
      "[LightGBM] [Info] [binary:BoostFromScore]: pavg=0.677299 -> initscore=0.741386\n",
      "[LightGBM] [Info] Start training from score 0.741386\n"
     ]
    },
    {
     "name": "stderr",
     "output_type": "stream",
     "text": [
      "/home/onizuka/Documents/Project M1/venv/lib/python3.10/site-packages/sklearn/utils/deprecation.py:151: FutureWarning: 'force_all_finite' was renamed to 'ensure_all_finite' in 1.6 and will be removed in 1.8.\n",
      "  warnings.warn(\n",
      "/home/onizuka/Documents/Project M1/venv/lib/python3.10/site-packages/sklearn/utils/deprecation.py:151: FutureWarning: 'force_all_finite' was renamed to 'ensure_all_finite' in 1.6 and will be removed in 1.8.\n",
      "  warnings.warn(\n"
     ]
    },
    {
     "name": "stdout",
     "output_type": "stream",
     "text": [
      "[LightGBM] [Info] Number of positive: 4714, number of negative: 2246\n",
      "[LightGBM] [Info] Auto-choosing col-wise multi-threading, the overhead of testing was 0.000311 seconds.\n",
      "You can set `force_col_wise=true` to remove the overhead.\n",
      "[LightGBM] [Info] Total Bins 3825\n",
      "[LightGBM] [Info] Number of data points in the train set: 6960, number of used features: 15\n",
      "[LightGBM] [Info] [binary:BoostFromScore]: pavg=0.677299 -> initscore=0.741386\n",
      "[LightGBM] [Info] Start training from score 0.741386\n"
     ]
    },
    {
     "name": "stderr",
     "output_type": "stream",
     "text": [
      "/home/onizuka/Documents/Project M1/venv/lib/python3.10/site-packages/sklearn/utils/deprecation.py:151: FutureWarning: 'force_all_finite' was renamed to 'ensure_all_finite' in 1.6 and will be removed in 1.8.\n",
      "  warnings.warn(\n",
      "/home/onizuka/Documents/Project M1/venv/lib/python3.10/site-packages/sklearn/utils/deprecation.py:151: FutureWarning: 'force_all_finite' was renamed to 'ensure_all_finite' in 1.6 and will be removed in 1.8.\n",
      "  warnings.warn(\n"
     ]
    },
    {
     "name": "stdout",
     "output_type": "stream",
     "text": [
      "[LightGBM] [Info] Number of positive: 4714, number of negative: 2246\n",
      "[LightGBM] [Info] Auto-choosing col-wise multi-threading, the overhead of testing was 0.000317 seconds.\n",
      "You can set `force_col_wise=true` to remove the overhead.\n",
      "[LightGBM] [Info] Total Bins 3825\n",
      "[LightGBM] [Info] Number of data points in the train set: 6960, number of used features: 15\n",
      "[LightGBM] [Info] [binary:BoostFromScore]: pavg=0.677299 -> initscore=0.741386\n",
      "[LightGBM] [Info] Start training from score 0.741386\n"
     ]
    },
    {
     "name": "stderr",
     "output_type": "stream",
     "text": [
      "/home/onizuka/Documents/Project M1/venv/lib/python3.10/site-packages/sklearn/utils/deprecation.py:151: FutureWarning: 'force_all_finite' was renamed to 'ensure_all_finite' in 1.6 and will be removed in 1.8.\n",
      "  warnings.warn(\n",
      "/home/onizuka/Documents/Project M1/venv/lib/python3.10/site-packages/sklearn/utils/deprecation.py:151: FutureWarning: 'force_all_finite' was renamed to 'ensure_all_finite' in 1.6 and will be removed in 1.8.\n",
      "  warnings.warn(\n",
      "/home/onizuka/Documents/Project M1/venv/lib/python3.10/site-packages/sklearn/utils/deprecation.py:151: FutureWarning: 'force_all_finite' was renamed to 'ensure_all_finite' in 1.6 and will be removed in 1.8.\n",
      "  warnings.warn(\n",
      "/home/onizuka/Documents/Project M1/venv/lib/python3.10/site-packages/sklearn/utils/deprecation.py:151: FutureWarning: 'force_all_finite' was renamed to 'ensure_all_finite' in 1.6 and will be removed in 1.8.\n",
      "  warnings.warn(\n",
      "/home/onizuka/Documents/Project M1/venv/lib/python3.10/site-packages/sklearn/utils/deprecation.py:151: FutureWarning: 'force_all_finite' was renamed to 'ensure_all_finite' in 1.6 and will be removed in 1.8.\n",
      "  warnings.warn(\n",
      "/home/onizuka/Documents/Project M1/venv/lib/python3.10/site-packages/sklearn/utils/deprecation.py:151: FutureWarning: 'force_all_finite' was renamed to 'ensure_all_finite' in 1.6 and will be removed in 1.8.\n",
      "  warnings.warn(\n",
      "/home/onizuka/Documents/Project M1/venv/lib/python3.10/site-packages/sklearn/utils/deprecation.py:151: FutureWarning: 'force_all_finite' was renamed to 'ensure_all_finite' in 1.6 and will be removed in 1.8.\n",
      "  warnings.warn(\n",
      "/home/onizuka/Documents/Project M1/venv/lib/python3.10/site-packages/sklearn/utils/deprecation.py:151: FutureWarning: 'force_all_finite' was renamed to 'ensure_all_finite' in 1.6 and will be removed in 1.8.\n",
      "  warnings.warn(\n",
      "/home/onizuka/Documents/Project M1/venv/lib/python3.10/site-packages/sklearn/utils/deprecation.py:151: FutureWarning: 'force_all_finite' was renamed to 'ensure_all_finite' in 1.6 and will be removed in 1.8.\n",
      "  warnings.warn(\n",
      "/home/onizuka/Documents/Project M1/venv/lib/python3.10/site-packages/sklearn/utils/deprecation.py:151: FutureWarning: 'force_all_finite' was renamed to 'ensure_all_finite' in 1.6 and will be removed in 1.8.\n",
      "  warnings.warn(\n"
     ]
    },
    {
     "name": "stdout",
     "output_type": "stream",
     "text": [
      "[LightGBM] [Info] Number of positive: 4713, number of negative: 2247\n",
      "[LightGBM] [Info] Auto-choosing col-wise multi-threading, the overhead of testing was 0.000305 seconds.\n",
      "You can set `force_col_wise=true` to remove the overhead.\n",
      "[LightGBM] [Info] Total Bins 3825\n",
      "[LightGBM] [Info] Number of data points in the train set: 6960, number of used features: 15\n",
      "[LightGBM] [Info] [binary:BoostFromScore]: pavg=0.677155 -> initscore=0.740729\n",
      "[LightGBM] [Info] Start training from score 0.740729\n",
      "[LightGBM] [Info] Number of positive: 4713, number of negative: 2247\n",
      "[LightGBM] [Info] Auto-choosing col-wise multi-threading, the overhead of testing was 0.000261 seconds.\n",
      "You can set `force_col_wise=true` to remove the overhead.\n",
      "[LightGBM] [Info] Total Bins 3825\n",
      "[LightGBM] [Info] Number of data points in the train set: 6960, number of used features: 15\n",
      "[LightGBM] [Info] [binary:BoostFromScore]: pavg=0.677155 -> initscore=0.740729\n",
      "[LightGBM] [Info] Start training from score 0.740729\n",
      "[LightGBM] [Info] Number of positive: 4714, number of negative: 2246\n",
      "[LightGBM] [Info] Auto-choosing col-wise multi-threading, the overhead of testing was 0.000263 seconds.\n",
      "You can set `force_col_wise=true` to remove the overhead.\n",
      "[LightGBM] [Info] Total Bins 3825\n",
      "[LightGBM] [Info] Number of data points in the train set: 6960, number of used features: 15\n",
      "[LightGBM] [Info] [binary:BoostFromScore]: pavg=0.677299 -> initscore=0.741386\n",
      "[LightGBM] [Info] Start training from score 0.741386\n",
      "[LightGBM] [Info] Number of positive: 4714, number of negative: 2246\n",
      "[LightGBM] [Info] Auto-choosing col-wise multi-threading, the overhead of testing was 0.000265 seconds.\n",
      "You can set `force_col_wise=true` to remove the overhead.\n",
      "[LightGBM] [Info] Total Bins 3825\n",
      "[LightGBM] [Info] Number of data points in the train set: 6960, number of used features: 15\n",
      "[LightGBM] [Info] [binary:BoostFromScore]: pavg=0.677299 -> initscore=0.741386\n",
      "[LightGBM] [Info] Start training from score 0.741386\n",
      "[LightGBM] [Info] Number of positive: 4714, number of negative: 2246\n",
      "[LightGBM] [Info] Auto-choosing col-wise multi-threading, the overhead of testing was 0.000258 seconds.\n",
      "You can set `force_col_wise=true` to remove the overhead.\n",
      "[LightGBM] [Info] Total Bins 3825\n",
      "[LightGBM] [Info] Number of data points in the train set: 6960, number of used features: 15\n",
      "[LightGBM] [Info] [binary:BoostFromScore]: pavg=0.677299 -> initscore=0.741386\n",
      "[LightGBM] [Info] Start training from score 0.741386\n"
     ]
    },
    {
     "name": "stderr",
     "output_type": "stream",
     "text": [
      "/home/onizuka/Documents/Project M1/venv/lib/python3.10/site-packages/sklearn/utils/deprecation.py:151: FutureWarning: 'force_all_finite' was renamed to 'ensure_all_finite' in 1.6 and will be removed in 1.8.\n",
      "  warnings.warn(\n",
      "/home/onizuka/Documents/Project M1/venv/lib/python3.10/site-packages/sklearn/utils/deprecation.py:151: FutureWarning: 'force_all_finite' was renamed to 'ensure_all_finite' in 1.6 and will be removed in 1.8.\n",
      "  warnings.warn(\n",
      "/home/onizuka/Documents/Project M1/venv/lib/python3.10/site-packages/sklearn/utils/deprecation.py:151: FutureWarning: 'force_all_finite' was renamed to 'ensure_all_finite' in 1.6 and will be removed in 1.8.\n",
      "  warnings.warn(\n",
      "/home/onizuka/Documents/Project M1/venv/lib/python3.10/site-packages/sklearn/utils/deprecation.py:151: FutureWarning: 'force_all_finite' was renamed to 'ensure_all_finite' in 1.6 and will be removed in 1.8.\n",
      "  warnings.warn(\n",
      "/home/onizuka/Documents/Project M1/venv/lib/python3.10/site-packages/sklearn/utils/deprecation.py:151: FutureWarning: 'force_all_finite' was renamed to 'ensure_all_finite' in 1.6 and will be removed in 1.8.\n",
      "  warnings.warn(\n",
      "/home/onizuka/Documents/Project M1/venv/lib/python3.10/site-packages/sklearn/utils/deprecation.py:151: FutureWarning: 'force_all_finite' was renamed to 'ensure_all_finite' in 1.6 and will be removed in 1.8.\n",
      "  warnings.warn(\n",
      "/home/onizuka/Documents/Project M1/venv/lib/python3.10/site-packages/sklearn/utils/deprecation.py:151: FutureWarning: 'force_all_finite' was renamed to 'ensure_all_finite' in 1.6 and will be removed in 1.8.\n",
      "  warnings.warn(\n",
      "/home/onizuka/Documents/Project M1/venv/lib/python3.10/site-packages/sklearn/utils/deprecation.py:151: FutureWarning: 'force_all_finite' was renamed to 'ensure_all_finite' in 1.6 and will be removed in 1.8.\n",
      "  warnings.warn(\n"
     ]
    },
    {
     "name": "stdout",
     "output_type": "stream",
     "text": [
      "[LightGBM] [Info] Number of positive: 4713, number of negative: 2247\n",
      "[LightGBM] [Info] Auto-choosing col-wise multi-threading, the overhead of testing was 0.000311 seconds.\n",
      "You can set `force_col_wise=true` to remove the overhead.\n",
      "[LightGBM] [Info] Total Bins 3825\n",
      "[LightGBM] [Info] Number of data points in the train set: 6960, number of used features: 15\n",
      "[LightGBM] [Info] [binary:BoostFromScore]: pavg=0.677155 -> initscore=0.740729\n",
      "[LightGBM] [Info] Start training from score 0.740729\n",
      "[LightGBM] [Info] Number of positive: 4713, number of negative: 2247\n",
      "[LightGBM] [Info] Auto-choosing col-wise multi-threading, the overhead of testing was 0.000251 seconds.\n",
      "You can set `force_col_wise=true` to remove the overhead.\n",
      "[LightGBM] [Info] Total Bins 3825\n",
      "[LightGBM] [Info] Number of data points in the train set: 6960, number of used features: 15\n",
      "[LightGBM] [Info] [binary:BoostFromScore]: pavg=0.677155 -> initscore=0.740729\n",
      "[LightGBM] [Info] Start training from score 0.740729\n",
      "[LightGBM] [Info] Number of positive: 4714, number of negative: 2246\n",
      "[LightGBM] [Info] Auto-choosing col-wise multi-threading, the overhead of testing was 0.000255 seconds.\n",
      "You can set `force_col_wise=true` to remove the overhead.\n",
      "[LightGBM] [Info] Total Bins 3825\n",
      "[LightGBM] [Info] Number of data points in the train set: 6960, number of used features: 15\n",
      "[LightGBM] [Info] [binary:BoostFromScore]: pavg=0.677299 -> initscore=0.741386\n",
      "[LightGBM] [Info] Start training from score 0.741386\n",
      "[LightGBM] [Info] Number of positive: 4714, number of negative: 2246\n",
      "[LightGBM] [Info] Auto-choosing col-wise multi-threading, the overhead of testing was 0.000264 seconds.\n",
      "You can set `force_col_wise=true` to remove the overhead.\n",
      "[LightGBM] [Info] Total Bins 3825\n",
      "[LightGBM] [Info] Number of data points in the train set: 6960, number of used features: 15\n",
      "[LightGBM] [Info] [binary:BoostFromScore]: pavg=0.677299 -> initscore=0.741386\n",
      "[LightGBM] [Info] Start training from score 0.741386\n"
     ]
    },
    {
     "name": "stderr",
     "output_type": "stream",
     "text": [
      "/home/onizuka/Documents/Project M1/venv/lib/python3.10/site-packages/sklearn/utils/deprecation.py:151: FutureWarning: 'force_all_finite' was renamed to 'ensure_all_finite' in 1.6 and will be removed in 1.8.\n",
      "  warnings.warn(\n",
      "/home/onizuka/Documents/Project M1/venv/lib/python3.10/site-packages/sklearn/utils/deprecation.py:151: FutureWarning: 'force_all_finite' was renamed to 'ensure_all_finite' in 1.6 and will be removed in 1.8.\n",
      "  warnings.warn(\n",
      "/home/onizuka/Documents/Project M1/venv/lib/python3.10/site-packages/sklearn/utils/deprecation.py:151: FutureWarning: 'force_all_finite' was renamed to 'ensure_all_finite' in 1.6 and will be removed in 1.8.\n",
      "  warnings.warn(\n",
      "/home/onizuka/Documents/Project M1/venv/lib/python3.10/site-packages/sklearn/utils/deprecation.py:151: FutureWarning: 'force_all_finite' was renamed to 'ensure_all_finite' in 1.6 and will be removed in 1.8.\n",
      "  warnings.warn(\n",
      "/home/onizuka/Documents/Project M1/venv/lib/python3.10/site-packages/sklearn/utils/deprecation.py:151: FutureWarning: 'force_all_finite' was renamed to 'ensure_all_finite' in 1.6 and will be removed in 1.8.\n",
      "  warnings.warn(\n",
      "/home/onizuka/Documents/Project M1/venv/lib/python3.10/site-packages/sklearn/utils/deprecation.py:151: FutureWarning: 'force_all_finite' was renamed to 'ensure_all_finite' in 1.6 and will be removed in 1.8.\n",
      "  warnings.warn(\n"
     ]
    },
    {
     "name": "stdout",
     "output_type": "stream",
     "text": [
      "[LightGBM] [Info] Number of positive: 4714, number of negative: 2246\n",
      "[LightGBM] [Info] Auto-choosing col-wise multi-threading, the overhead of testing was 0.000300 seconds.\n",
      "You can set `force_col_wise=true` to remove the overhead.\n",
      "[LightGBM] [Info] Total Bins 3825\n",
      "[LightGBM] [Info] Number of data points in the train set: 6960, number of used features: 15\n",
      "[LightGBM] [Info] [binary:BoostFromScore]: pavg=0.677299 -> initscore=0.741386\n",
      "[LightGBM] [Info] Start training from score 0.741386\n",
      "[LightGBM] [Info] Number of positive: 4713, number of negative: 2247\n",
      "[LightGBM] [Info] Auto-choosing col-wise multi-threading, the overhead of testing was 0.000467 seconds.\n",
      "You can set `force_col_wise=true` to remove the overhead.\n",
      "[LightGBM] [Info] Total Bins 3825\n",
      "[LightGBM] [Info] Number of data points in the train set: 6960, number of used features: 15\n",
      "[LightGBM] [Info] [binary:BoostFromScore]: pavg=0.677155 -> initscore=0.740729\n",
      "[LightGBM] [Info] Start training from score 0.740729\n",
      "[LightGBM] [Info] Number of positive: 4713, number of negative: 2247\n",
      "[LightGBM] [Info] Auto-choosing col-wise multi-threading, the overhead of testing was 0.000260 seconds.\n",
      "You can set `force_col_wise=true` to remove the overhead.\n",
      "[LightGBM] [Info] Total Bins 3825\n",
      "[LightGBM] [Info] Number of data points in the train set: 6960, number of used features: 15\n",
      "[LightGBM] [Info] [binary:BoostFromScore]: pavg=0.677155 -> initscore=0.740729\n",
      "[LightGBM] [Info] Start training from score 0.740729\n"
     ]
    },
    {
     "name": "stderr",
     "output_type": "stream",
     "text": [
      "/home/onizuka/Documents/Project M1/venv/lib/python3.10/site-packages/sklearn/utils/deprecation.py:151: FutureWarning: 'force_all_finite' was renamed to 'ensure_all_finite' in 1.6 and will be removed in 1.8.\n",
      "  warnings.warn(\n",
      "/home/onizuka/Documents/Project M1/venv/lib/python3.10/site-packages/sklearn/utils/deprecation.py:151: FutureWarning: 'force_all_finite' was renamed to 'ensure_all_finite' in 1.6 and will be removed in 1.8.\n",
      "  warnings.warn(\n",
      "/home/onizuka/Documents/Project M1/venv/lib/python3.10/site-packages/sklearn/utils/deprecation.py:151: FutureWarning: 'force_all_finite' was renamed to 'ensure_all_finite' in 1.6 and will be removed in 1.8.\n",
      "  warnings.warn(\n",
      "/home/onizuka/Documents/Project M1/venv/lib/python3.10/site-packages/sklearn/utils/deprecation.py:151: FutureWarning: 'force_all_finite' was renamed to 'ensure_all_finite' in 1.6 and will be removed in 1.8.\n",
      "  warnings.warn(\n",
      "/home/onizuka/Documents/Project M1/venv/lib/python3.10/site-packages/sklearn/utils/deprecation.py:151: FutureWarning: 'force_all_finite' was renamed to 'ensure_all_finite' in 1.6 and will be removed in 1.8.\n",
      "  warnings.warn(\n"
     ]
    },
    {
     "name": "stdout",
     "output_type": "stream",
     "text": [
      "[LightGBM] [Info] Number of positive: 4714, number of negative: 2246\n",
      "[LightGBM] [Info] Auto-choosing col-wise multi-threading, the overhead of testing was 0.000293 seconds.\n",
      "You can set `force_col_wise=true` to remove the overhead.\n",
      "[LightGBM] [Info] Total Bins 3825\n",
      "[LightGBM] [Info] Number of data points in the train set: 6960, number of used features: 15\n",
      "[LightGBM] [Info] [binary:BoostFromScore]: pavg=0.677299 -> initscore=0.741386\n",
      "[LightGBM] [Info] Start training from score 0.741386\n",
      "[LightGBM] [Info] Number of positive: 4714, number of negative: 2246\n",
      "[LightGBM] [Info] Auto-choosing col-wise multi-threading, the overhead of testing was 0.000253 seconds.\n",
      "You can set `force_col_wise=true` to remove the overhead.\n",
      "[LightGBM] [Info] Total Bins 3825\n",
      "[LightGBM] [Info] Number of data points in the train set: 6960, number of used features: 15\n",
      "[LightGBM] [Info] [binary:BoostFromScore]: pavg=0.677299 -> initscore=0.741386\n",
      "[LightGBM] [Info] Start training from score 0.741386\n",
      "[LightGBM] [Info] Number of positive: 4714, number of negative: 2246\n",
      "[LightGBM] [Info] Auto-choosing col-wise multi-threading, the overhead of testing was 0.000261 seconds.\n",
      "You can set `force_col_wise=true` to remove the overhead.\n",
      "[LightGBM] [Info] Total Bins 3825\n",
      "[LightGBM] [Info] Number of data points in the train set: 6960, number of used features: 15\n",
      "[LightGBM] [Info] [binary:BoostFromScore]: pavg=0.677299 -> initscore=0.741386\n",
      "[LightGBM] [Info] Start training from score 0.741386\n"
     ]
    },
    {
     "name": "stderr",
     "output_type": "stream",
     "text": [
      "/home/onizuka/Documents/Project M1/venv/lib/python3.10/site-packages/sklearn/utils/deprecation.py:151: FutureWarning: 'force_all_finite' was renamed to 'ensure_all_finite' in 1.6 and will be removed in 1.8.\n",
      "  warnings.warn(\n",
      "/home/onizuka/Documents/Project M1/venv/lib/python3.10/site-packages/sklearn/utils/deprecation.py:151: FutureWarning: 'force_all_finite' was renamed to 'ensure_all_finite' in 1.6 and will be removed in 1.8.\n",
      "  warnings.warn(\n",
      "/home/onizuka/Documents/Project M1/venv/lib/python3.10/site-packages/sklearn/utils/deprecation.py:151: FutureWarning: 'force_all_finite' was renamed to 'ensure_all_finite' in 1.6 and will be removed in 1.8.\n",
      "  warnings.warn(\n"
     ]
    },
    {
     "name": "stdout",
     "output_type": "stream",
     "text": [
      "[LightGBM] [Info] Number of positive: 4713, number of negative: 2247\n",
      "[LightGBM] [Info] Auto-choosing col-wise multi-threading, the overhead of testing was 0.000965 seconds.\n",
      "You can set `force_col_wise=true` to remove the overhead.\n",
      "[LightGBM] [Info] Total Bins 3825\n",
      "[LightGBM] [Info] Number of data points in the train set: 6960, number of used features: 15\n",
      "[LightGBM] [Info] [binary:BoostFromScore]: pavg=0.677155 -> initscore=0.740729\n",
      "[LightGBM] [Info] Start training from score 0.740729\n",
      "[LightGBM] [Info] Number of positive: 4713, number of negative: 2247\n",
      "[LightGBM] [Info] Auto-choosing row-wise multi-threading, the overhead of testing was 0.000408 seconds.\n",
      "You can set `force_row_wise=true` to remove the overhead.\n",
      "And if memory is not enough, you can set `force_col_wise=true`.\n",
      "[LightGBM] [Info] Total Bins 3825\n",
      "[LightGBM] [Info] Number of data points in the train set: 6960, number of used features: 15\n",
      "[LightGBM] [Info] [binary:BoostFromScore]: pavg=0.677155 -> initscore=0.740729\n",
      "[LightGBM] [Info] Start training from score 0.740729\n"
     ]
    },
    {
     "name": "stderr",
     "output_type": "stream",
     "text": [
      "/home/onizuka/Documents/Project M1/venv/lib/python3.10/site-packages/sklearn/utils/deprecation.py:151: FutureWarning: 'force_all_finite' was renamed to 'ensure_all_finite' in 1.6 and will be removed in 1.8.\n",
      "  warnings.warn(\n",
      "/home/onizuka/Documents/Project M1/venv/lib/python3.10/site-packages/sklearn/utils/deprecation.py:151: FutureWarning: 'force_all_finite' was renamed to 'ensure_all_finite' in 1.6 and will be removed in 1.8.\n",
      "  warnings.warn(\n",
      "/home/onizuka/Documents/Project M1/venv/lib/python3.10/site-packages/sklearn/utils/deprecation.py:151: FutureWarning: 'force_all_finite' was renamed to 'ensure_all_finite' in 1.6 and will be removed in 1.8.\n",
      "  warnings.warn(\n",
      "/home/onizuka/Documents/Project M1/venv/lib/python3.10/site-packages/sklearn/utils/deprecation.py:151: FutureWarning: 'force_all_finite' was renamed to 'ensure_all_finite' in 1.6 and will be removed in 1.8.\n",
      "  warnings.warn(\n"
     ]
    },
    {
     "name": "stdout",
     "output_type": "stream",
     "text": [
      "[LightGBM] [Info] Number of positive: 4714, number of negative: 2246\n",
      "[LightGBM] [Info] Auto-choosing col-wise multi-threading, the overhead of testing was 0.000522 seconds.\n",
      "You can set `force_col_wise=true` to remove the overhead.\n",
      "[LightGBM] [Info] Total Bins 3825\n",
      "[LightGBM] [Info] Number of data points in the train set: 6960, number of used features: 15\n",
      "[LightGBM] [Info] [binary:BoostFromScore]: pavg=0.677299 -> initscore=0.741386\n",
      "[LightGBM] [Info] Start training from score 0.741386\n",
      "[LightGBM] [Info] Number of positive: 4714, number of negative: 2246\n",
      "[LightGBM] [Info] Auto-choosing col-wise multi-threading, the overhead of testing was 0.000456 seconds.\n",
      "You can set `force_col_wise=true` to remove the overhead.\n",
      "[LightGBM] [Info] Total Bins 3825\n",
      "[LightGBM] [Info] Number of data points in the train set: 6960, number of used features: 15\n",
      "[LightGBM] [Info] [binary:BoostFromScore]: pavg=0.677299 -> initscore=0.741386\n",
      "[LightGBM] [Info] Start training from score 0.741386\n",
      "[LightGBM] [Info] Number of positive: 4714, number of negative: 2246\n",
      "[LightGBM] [Info] Auto-choosing col-wise multi-threading, the overhead of testing was 0.000397 seconds.\n",
      "You can set `force_col_wise=true` to remove the overhead.\n",
      "[LightGBM] [Info] Total Bins 3825\n",
      "[LightGBM] [Info] Number of data points in the train set: 6960, number of used features: 15\n",
      "[LightGBM] [Info] [binary:BoostFromScore]: pavg=0.677299 -> initscore=0.741386\n",
      "[LightGBM] [Info] Start training from score 0.741386\n"
     ]
    },
    {
     "name": "stderr",
     "output_type": "stream",
     "text": [
      "/home/onizuka/Documents/Project M1/venv/lib/python3.10/site-packages/sklearn/utils/deprecation.py:151: FutureWarning: 'force_all_finite' was renamed to 'ensure_all_finite' in 1.6 and will be removed in 1.8.\n",
      "  warnings.warn(\n",
      "/home/onizuka/Documents/Project M1/venv/lib/python3.10/site-packages/sklearn/utils/deprecation.py:151: FutureWarning: 'force_all_finite' was renamed to 'ensure_all_finite' in 1.6 and will be removed in 1.8.\n",
      "  warnings.warn(\n",
      "/home/onizuka/Documents/Project M1/venv/lib/python3.10/site-packages/sklearn/utils/deprecation.py:151: FutureWarning: 'force_all_finite' was renamed to 'ensure_all_finite' in 1.6 and will be removed in 1.8.\n",
      "  warnings.warn(\n",
      "/home/onizuka/Documents/Project M1/venv/lib/python3.10/site-packages/sklearn/utils/deprecation.py:151: FutureWarning: 'force_all_finite' was renamed to 'ensure_all_finite' in 1.6 and will be removed in 1.8.\n",
      "  warnings.warn(\n",
      "/home/onizuka/Documents/Project M1/venv/lib/python3.10/site-packages/sklearn/utils/deprecation.py:151: FutureWarning: 'force_all_finite' was renamed to 'ensure_all_finite' in 1.6 and will be removed in 1.8.\n",
      "  warnings.warn(\n",
      "/home/onizuka/Documents/Project M1/venv/lib/python3.10/site-packages/sklearn/utils/deprecation.py:151: FutureWarning: 'force_all_finite' was renamed to 'ensure_all_finite' in 1.6 and will be removed in 1.8.\n",
      "  warnings.warn(\n"
     ]
    },
    {
     "name": "stdout",
     "output_type": "stream",
     "text": [
      "[LightGBM] [Info] Number of positive: 4713, number of negative: 2247\n",
      "[LightGBM] [Info] Auto-choosing col-wise multi-threading, the overhead of testing was 0.000340 seconds.\n",
      "You can set `force_col_wise=true` to remove the overhead.\n",
      "[LightGBM] [Info] Total Bins 3825\n",
      "[LightGBM] [Info] Number of data points in the train set: 6960, number of used features: 15\n",
      "[LightGBM] [Info] [binary:BoostFromScore]: pavg=0.677155 -> initscore=0.740729\n",
      "[LightGBM] [Info] Start training from score 0.740729\n",
      "[LightGBM] [Info] Number of positive: 4713, number of negative: 2247\n",
      "[LightGBM] [Info] Auto-choosing col-wise multi-threading, the overhead of testing was 0.000284 seconds.\n",
      "You can set `force_col_wise=true` to remove the overhead.\n",
      "[LightGBM] [Info] Total Bins 3825\n",
      "[LightGBM] [Info] Number of data points in the train set: 6960, number of used features: 15\n",
      "[LightGBM] [Info] [binary:BoostFromScore]: pavg=0.677155 -> initscore=0.740729\n",
      "[LightGBM] [Info] Start training from score 0.740729\n"
     ]
    },
    {
     "name": "stderr",
     "output_type": "stream",
     "text": [
      "/home/onizuka/Documents/Project M1/venv/lib/python3.10/site-packages/sklearn/utils/deprecation.py:151: FutureWarning: 'force_all_finite' was renamed to 'ensure_all_finite' in 1.6 and will be removed in 1.8.\n",
      "  warnings.warn(\n",
      "/home/onizuka/Documents/Project M1/venv/lib/python3.10/site-packages/sklearn/utils/deprecation.py:151: FutureWarning: 'force_all_finite' was renamed to 'ensure_all_finite' in 1.6 and will be removed in 1.8.\n",
      "  warnings.warn(\n",
      "/home/onizuka/Documents/Project M1/venv/lib/python3.10/site-packages/sklearn/utils/deprecation.py:151: FutureWarning: 'force_all_finite' was renamed to 'ensure_all_finite' in 1.6 and will be removed in 1.8.\n",
      "  warnings.warn(\n",
      "/home/onizuka/Documents/Project M1/venv/lib/python3.10/site-packages/sklearn/utils/deprecation.py:151: FutureWarning: 'force_all_finite' was renamed to 'ensure_all_finite' in 1.6 and will be removed in 1.8.\n",
      "  warnings.warn(\n"
     ]
    },
    {
     "name": "stdout",
     "output_type": "stream",
     "text": [
      "[LightGBM] [Info] Number of positive: 4714, number of negative: 2246\n",
      "[LightGBM] [Info] Auto-choosing col-wise multi-threading, the overhead of testing was 0.000319 seconds.\n",
      "You can set `force_col_wise=true` to remove the overhead.\n",
      "[LightGBM] [Info] Total Bins 3825\n",
      "[LightGBM] [Info] Number of data points in the train set: 6960, number of used features: 15\n",
      "[LightGBM] [Info] [binary:BoostFromScore]: pavg=0.677299 -> initscore=0.741386\n",
      "[LightGBM] [Info] Start training from score 0.741386\n",
      "[LightGBM] [Info] Number of positive: 4714, number of negative: 2246\n",
      "[LightGBM] [Info] Auto-choosing col-wise multi-threading, the overhead of testing was 0.000482 seconds.\n",
      "You can set `force_col_wise=true` to remove the overhead.\n",
      "[LightGBM] [Info] Total Bins 3825\n",
      "[LightGBM] [Info] Number of data points in the train set: 6960, number of used features: 15\n",
      "[LightGBM] [Info] [binary:BoostFromScore]: pavg=0.677299 -> initscore=0.741386\n",
      "[LightGBM] [Info] Start training from score 0.741386\n"
     ]
    },
    {
     "name": "stderr",
     "output_type": "stream",
     "text": [
      "/home/onizuka/Documents/Project M1/venv/lib/python3.10/site-packages/sklearn/utils/deprecation.py:151: FutureWarning: 'force_all_finite' was renamed to 'ensure_all_finite' in 1.6 and will be removed in 1.8.\n",
      "  warnings.warn(\n",
      "/home/onizuka/Documents/Project M1/venv/lib/python3.10/site-packages/sklearn/utils/deprecation.py:151: FutureWarning: 'force_all_finite' was renamed to 'ensure_all_finite' in 1.6 and will be removed in 1.8.\n",
      "  warnings.warn(\n",
      "/home/onizuka/Documents/Project M1/venv/lib/python3.10/site-packages/sklearn/utils/deprecation.py:151: FutureWarning: 'force_all_finite' was renamed to 'ensure_all_finite' in 1.6 and will be removed in 1.8.\n",
      "  warnings.warn(\n",
      "/home/onizuka/Documents/Project M1/venv/lib/python3.10/site-packages/sklearn/utils/deprecation.py:151: FutureWarning: 'force_all_finite' was renamed to 'ensure_all_finite' in 1.6 and will be removed in 1.8.\n",
      "  warnings.warn(\n"
     ]
    },
    {
     "name": "stdout",
     "output_type": "stream",
     "text": [
      "[LightGBM] [Info] Number of positive: 4714, number of negative: 2246\n",
      "[LightGBM] [Info] Auto-choosing col-wise multi-threading, the overhead of testing was 0.000327 seconds.\n",
      "You can set `force_col_wise=true` to remove the overhead.\n",
      "[LightGBM] [Info] Total Bins 3825\n",
      "[LightGBM] [Info] Number of data points in the train set: 6960, number of used features: 15\n",
      "[LightGBM] [Info] [binary:BoostFromScore]: pavg=0.677299 -> initscore=0.741386\n",
      "[LightGBM] [Info] Start training from score 0.741386\n",
      "[LightGBM] [Info] Number of positive: 4713, number of negative: 2247\n",
      "[LightGBM] [Info] Auto-choosing col-wise multi-threading, the overhead of testing was 0.000411 seconds.\n",
      "You can set `force_col_wise=true` to remove the overhead.\n",
      "[LightGBM] [Info] Total Bins 3825\n",
      "[LightGBM] [Info] Number of data points in the train set: 6960, number of used features: 15\n",
      "[LightGBM] [Info] [binary:BoostFromScore]: pavg=0.677155 -> initscore=0.740729\n",
      "[LightGBM] [Info] Start training from score 0.740729\n"
     ]
    },
    {
     "name": "stderr",
     "output_type": "stream",
     "text": [
      "/home/onizuka/Documents/Project M1/venv/lib/python3.10/site-packages/sklearn/utils/deprecation.py:151: FutureWarning: 'force_all_finite' was renamed to 'ensure_all_finite' in 1.6 and will be removed in 1.8.\n",
      "  warnings.warn(\n",
      "/home/onizuka/Documents/Project M1/venv/lib/python3.10/site-packages/sklearn/utils/deprecation.py:151: FutureWarning: 'force_all_finite' was renamed to 'ensure_all_finite' in 1.6 and will be removed in 1.8.\n",
      "  warnings.warn(\n",
      "/home/onizuka/Documents/Project M1/venv/lib/python3.10/site-packages/sklearn/utils/deprecation.py:151: FutureWarning: 'force_all_finite' was renamed to 'ensure_all_finite' in 1.6 and will be removed in 1.8.\n",
      "  warnings.warn(\n",
      "/home/onizuka/Documents/Project M1/venv/lib/python3.10/site-packages/sklearn/utils/deprecation.py:151: FutureWarning: 'force_all_finite' was renamed to 'ensure_all_finite' in 1.6 and will be removed in 1.8.\n",
      "  warnings.warn(\n"
     ]
    },
    {
     "name": "stdout",
     "output_type": "stream",
     "text": [
      "[LightGBM] [Info] Number of positive: 4713, number of negative: 2247\n",
      "[LightGBM] [Info] Auto-choosing col-wise multi-threading, the overhead of testing was 0.000428 seconds.\n",
      "You can set `force_col_wise=true` to remove the overhead.\n",
      "[LightGBM] [Info] Total Bins 3825\n",
      "[LightGBM] [Info] Number of data points in the train set: 6960, number of used features: 15\n",
      "[LightGBM] [Info] [binary:BoostFromScore]: pavg=0.677155 -> initscore=0.740729\n",
      "[LightGBM] [Info] Start training from score 0.740729\n"
     ]
    },
    {
     "name": "stderr",
     "output_type": "stream",
     "text": [
      "/home/onizuka/Documents/Project M1/venv/lib/python3.10/site-packages/sklearn/utils/deprecation.py:151: FutureWarning: 'force_all_finite' was renamed to 'ensure_all_finite' in 1.6 and will be removed in 1.8.\n",
      "  warnings.warn(\n",
      "/home/onizuka/Documents/Project M1/venv/lib/python3.10/site-packages/sklearn/utils/deprecation.py:151: FutureWarning: 'force_all_finite' was renamed to 'ensure_all_finite' in 1.6 and will be removed in 1.8.\n",
      "  warnings.warn(\n"
     ]
    },
    {
     "name": "stdout",
     "output_type": "stream",
     "text": [
      "[LightGBM] [Info] Number of positive: 4714, number of negative: 2246\n",
      "[LightGBM] [Info] Auto-choosing col-wise multi-threading, the overhead of testing was 0.000484 seconds.\n",
      "You can set `force_col_wise=true` to remove the overhead.\n",
      "[LightGBM] [Info] Total Bins 3825\n",
      "[LightGBM] [Info] Number of data points in the train set: 6960, number of used features: 15\n",
      "[LightGBM] [Info] [binary:BoostFromScore]: pavg=0.677299 -> initscore=0.741386\n",
      "[LightGBM] [Info] Start training from score 0.741386\n"
     ]
    },
    {
     "name": "stderr",
     "output_type": "stream",
     "text": [
      "/home/onizuka/Documents/Project M1/venv/lib/python3.10/site-packages/sklearn/utils/deprecation.py:151: FutureWarning: 'force_all_finite' was renamed to 'ensure_all_finite' in 1.6 and will be removed in 1.8.\n",
      "  warnings.warn(\n",
      "/home/onizuka/Documents/Project M1/venv/lib/python3.10/site-packages/sklearn/utils/deprecation.py:151: FutureWarning: 'force_all_finite' was renamed to 'ensure_all_finite' in 1.6 and will be removed in 1.8.\n",
      "  warnings.warn(\n"
     ]
    },
    {
     "name": "stdout",
     "output_type": "stream",
     "text": [
      "[LightGBM] [Info] Number of positive: 4714, number of negative: 2246\n",
      "[LightGBM] [Info] Auto-choosing col-wise multi-threading, the overhead of testing was 0.000509 seconds.\n",
      "You can set `force_col_wise=true` to remove the overhead.\n",
      "[LightGBM] [Info] Total Bins 3825\n",
      "[LightGBM] [Info] Number of data points in the train set: 6960, number of used features: 15\n",
      "[LightGBM] [Info] [binary:BoostFromScore]: pavg=0.677299 -> initscore=0.741386\n",
      "[LightGBM] [Info] Start training from score 0.741386\n"
     ]
    },
    {
     "name": "stderr",
     "output_type": "stream",
     "text": [
      "/home/onizuka/Documents/Project M1/venv/lib/python3.10/site-packages/sklearn/utils/deprecation.py:151: FutureWarning: 'force_all_finite' was renamed to 'ensure_all_finite' in 1.6 and will be removed in 1.8.\n",
      "  warnings.warn(\n",
      "/home/onizuka/Documents/Project M1/venv/lib/python3.10/site-packages/sklearn/utils/deprecation.py:151: FutureWarning: 'force_all_finite' was renamed to 'ensure_all_finite' in 1.6 and will be removed in 1.8.\n",
      "  warnings.warn(\n"
     ]
    },
    {
     "name": "stdout",
     "output_type": "stream",
     "text": [
      "[LightGBM] [Info] Number of positive: 4714, number of negative: 2246\n",
      "[LightGBM] [Info] Auto-choosing col-wise multi-threading, the overhead of testing was 0.000520 seconds.\n",
      "You can set `force_col_wise=true` to remove the overhead.\n",
      "[LightGBM] [Info] Total Bins 3825\n",
      "[LightGBM] [Info] Number of data points in the train set: 6960, number of used features: 15\n",
      "[LightGBM] [Info] [binary:BoostFromScore]: pavg=0.677299 -> initscore=0.741386\n",
      "[LightGBM] [Info] Start training from score 0.741386\n"
     ]
    },
    {
     "name": "stderr",
     "output_type": "stream",
     "text": [
      "/home/onizuka/Documents/Project M1/venv/lib/python3.10/site-packages/sklearn/utils/deprecation.py:151: FutureWarning: 'force_all_finite' was renamed to 'ensure_all_finite' in 1.6 and will be removed in 1.8.\n",
      "  warnings.warn(\n",
      "/home/onizuka/Documents/Project M1/venv/lib/python3.10/site-packages/sklearn/utils/deprecation.py:151: FutureWarning: 'force_all_finite' was renamed to 'ensure_all_finite' in 1.6 and will be removed in 1.8.\n",
      "  warnings.warn(\n"
     ]
    },
    {
     "name": "stdout",
     "output_type": "stream",
     "text": [
      "[LightGBM] [Info] Number of positive: 4713, number of negative: 2247\n",
      "[LightGBM] [Info] Auto-choosing col-wise multi-threading, the overhead of testing was 0.000462 seconds.\n",
      "You can set `force_col_wise=true` to remove the overhead.\n",
      "[LightGBM] [Info] Total Bins 3825\n",
      "[LightGBM] [Info] Number of data points in the train set: 6960, number of used features: 15\n",
      "[LightGBM] [Info] [binary:BoostFromScore]: pavg=0.677155 -> initscore=0.740729\n",
      "[LightGBM] [Info] Start training from score 0.740729\n"
     ]
    },
    {
     "name": "stderr",
     "output_type": "stream",
     "text": [
      "/home/onizuka/Documents/Project M1/venv/lib/python3.10/site-packages/sklearn/utils/deprecation.py:151: FutureWarning: 'force_all_finite' was renamed to 'ensure_all_finite' in 1.6 and will be removed in 1.8.\n",
      "  warnings.warn(\n",
      "/home/onizuka/Documents/Project M1/venv/lib/python3.10/site-packages/sklearn/utils/deprecation.py:151: FutureWarning: 'force_all_finite' was renamed to 'ensure_all_finite' in 1.6 and will be removed in 1.8.\n",
      "  warnings.warn(\n"
     ]
    },
    {
     "name": "stdout",
     "output_type": "stream",
     "text": [
      "[LightGBM] [Info] Number of positive: 4713, number of negative: 2247\n",
      "[LightGBM] [Info] Auto-choosing col-wise multi-threading, the overhead of testing was 0.000532 seconds.\n",
      "You can set `force_col_wise=true` to remove the overhead.\n",
      "[LightGBM] [Info] Total Bins 3825\n",
      "[LightGBM] [Info] Number of data points in the train set: 6960, number of used features: 15\n",
      "[LightGBM] [Info] [binary:BoostFromScore]: pavg=0.677155 -> initscore=0.740729\n",
      "[LightGBM] [Info] Start training from score 0.740729\n"
     ]
    },
    {
     "name": "stderr",
     "output_type": "stream",
     "text": [
      "/home/onizuka/Documents/Project M1/venv/lib/python3.10/site-packages/sklearn/utils/deprecation.py:151: FutureWarning: 'force_all_finite' was renamed to 'ensure_all_finite' in 1.6 and will be removed in 1.8.\n",
      "  warnings.warn(\n",
      "/home/onizuka/Documents/Project M1/venv/lib/python3.10/site-packages/sklearn/utils/deprecation.py:151: FutureWarning: 'force_all_finite' was renamed to 'ensure_all_finite' in 1.6 and will be removed in 1.8.\n",
      "  warnings.warn(\n",
      "/home/onizuka/Documents/Project M1/venv/lib/python3.10/site-packages/sklearn/utils/deprecation.py:151: FutureWarning: 'force_all_finite' was renamed to 'ensure_all_finite' in 1.6 and will be removed in 1.8.\n",
      "  warnings.warn(\n",
      "/home/onizuka/Documents/Project M1/venv/lib/python3.10/site-packages/sklearn/utils/deprecation.py:151: FutureWarning: 'force_all_finite' was renamed to 'ensure_all_finite' in 1.6 and will be removed in 1.8.\n",
      "  warnings.warn(\n"
     ]
    },
    {
     "name": "stdout",
     "output_type": "stream",
     "text": [
      "[LightGBM] [Info] Number of positive: 4714, number of negative: 2246\n",
      "[LightGBM] [Info] Auto-choosing col-wise multi-threading, the overhead of testing was 0.000308 seconds.\n",
      "You can set `force_col_wise=true` to remove the overhead.\n",
      "[LightGBM] [Info] Total Bins 3825\n",
      "[LightGBM] [Info] Number of data points in the train set: 6960, number of used features: 15\n",
      "[LightGBM] [Info] [binary:BoostFromScore]: pavg=0.677299 -> initscore=0.741386\n",
      "[LightGBM] [Info] Start training from score 0.741386\n",
      "[LightGBM] [Info] Number of positive: 4714, number of negative: 2246\n",
      "[LightGBM] [Info] Auto-choosing col-wise multi-threading, the overhead of testing was 0.000256 seconds.\n",
      "You can set `force_col_wise=true` to remove the overhead.\n",
      "[LightGBM] [Info] Total Bins 3825\n",
      "[LightGBM] [Info] Number of data points in the train set: 6960, number of used features: 15\n",
      "[LightGBM] [Info] [binary:BoostFromScore]: pavg=0.677299 -> initscore=0.741386\n",
      "[LightGBM] [Info] Start training from score 0.741386\n"
     ]
    },
    {
     "name": "stderr",
     "output_type": "stream",
     "text": [
      "/home/onizuka/Documents/Project M1/venv/lib/python3.10/site-packages/sklearn/utils/deprecation.py:151: FutureWarning: 'force_all_finite' was renamed to 'ensure_all_finite' in 1.6 and will be removed in 1.8.\n",
      "  warnings.warn(\n",
      "/home/onizuka/Documents/Project M1/venv/lib/python3.10/site-packages/sklearn/utils/deprecation.py:151: FutureWarning: 'force_all_finite' was renamed to 'ensure_all_finite' in 1.6 and will be removed in 1.8.\n",
      "  warnings.warn(\n",
      "/home/onizuka/Documents/Project M1/venv/lib/python3.10/site-packages/sklearn/utils/deprecation.py:151: FutureWarning: 'force_all_finite' was renamed to 'ensure_all_finite' in 1.6 and will be removed in 1.8.\n",
      "  warnings.warn(\n",
      "/home/onizuka/Documents/Project M1/venv/lib/python3.10/site-packages/sklearn/utils/deprecation.py:151: FutureWarning: 'force_all_finite' was renamed to 'ensure_all_finite' in 1.6 and will be removed in 1.8.\n",
      "  warnings.warn(\n"
     ]
    },
    {
     "name": "stdout",
     "output_type": "stream",
     "text": [
      "[LightGBM] [Info] Number of positive: 4714, number of negative: 2246\n",
      "[LightGBM] [Info] Auto-choosing col-wise multi-threading, the overhead of testing was 0.000342 seconds.\n",
      "You can set `force_col_wise=true` to remove the overhead.\n",
      "[LightGBM] [Info] Total Bins 3825\n",
      "[LightGBM] [Info] Number of data points in the train set: 6960, number of used features: 15\n",
      "[LightGBM] [Info] [binary:BoostFromScore]: pavg=0.677299 -> initscore=0.741386\n",
      "[LightGBM] [Info] Start training from score 0.741386\n",
      "[LightGBM] [Info] Number of positive: 4713, number of negative: 2247\n",
      "[LightGBM] [Info] Auto-choosing col-wise multi-threading, the overhead of testing was 0.000411 seconds.\n",
      "You can set `force_col_wise=true` to remove the overhead.\n",
      "[LightGBM] [Info] Total Bins 3825\n",
      "[LightGBM] [Info] Number of data points in the train set: 6960, number of used features: 15\n",
      "[LightGBM] [Info] [binary:BoostFromScore]: pavg=0.677155 -> initscore=0.740729\n",
      "[LightGBM] [Info] Start training from score 0.740729\n"
     ]
    },
    {
     "name": "stderr",
     "output_type": "stream",
     "text": [
      "/home/onizuka/Documents/Project M1/venv/lib/python3.10/site-packages/sklearn/utils/deprecation.py:151: FutureWarning: 'force_all_finite' was renamed to 'ensure_all_finite' in 1.6 and will be removed in 1.8.\n",
      "  warnings.warn(\n",
      "/home/onizuka/Documents/Project M1/venv/lib/python3.10/site-packages/sklearn/utils/deprecation.py:151: FutureWarning: 'force_all_finite' was renamed to 'ensure_all_finite' in 1.6 and will be removed in 1.8.\n",
      "  warnings.warn(\n"
     ]
    },
    {
     "name": "stdout",
     "output_type": "stream",
     "text": [
      "[LightGBM] [Info] Number of positive: 4713, number of negative: 2247\n",
      "[LightGBM] [Info] Auto-choosing col-wise multi-threading, the overhead of testing was 0.000329 seconds.\n",
      "You can set `force_col_wise=true` to remove the overhead.\n",
      "[LightGBM] [Info] Total Bins 3825\n",
      "[LightGBM] [Info] Number of data points in the train set: 6960, number of used features: 15\n",
      "[LightGBM] [Info] [binary:BoostFromScore]: pavg=0.677155 -> initscore=0.740729\n",
      "[LightGBM] [Info] Start training from score 0.740729\n"
     ]
    },
    {
     "name": "stderr",
     "output_type": "stream",
     "text": [
      "/home/onizuka/Documents/Project M1/venv/lib/python3.10/site-packages/sklearn/utils/deprecation.py:151: FutureWarning: 'force_all_finite' was renamed to 'ensure_all_finite' in 1.6 and will be removed in 1.8.\n",
      "  warnings.warn(\n",
      "/home/onizuka/Documents/Project M1/venv/lib/python3.10/site-packages/sklearn/utils/deprecation.py:151: FutureWarning: 'force_all_finite' was renamed to 'ensure_all_finite' in 1.6 and will be removed in 1.8.\n",
      "  warnings.warn(\n"
     ]
    },
    {
     "name": "stdout",
     "output_type": "stream",
     "text": [
      "[LightGBM] [Info] Number of positive: 4714, number of negative: 2246\n",
      "[LightGBM] [Info] Auto-choosing col-wise multi-threading, the overhead of testing was 0.000324 seconds.\n",
      "You can set `force_col_wise=true` to remove the overhead.\n",
      "[LightGBM] [Info] Total Bins 3825\n",
      "[LightGBM] [Info] Number of data points in the train set: 6960, number of used features: 15\n",
      "[LightGBM] [Info] [binary:BoostFromScore]: pavg=0.677299 -> initscore=0.741386\n",
      "[LightGBM] [Info] Start training from score 0.741386\n"
     ]
    },
    {
     "name": "stderr",
     "output_type": "stream",
     "text": [
      "/home/onizuka/Documents/Project M1/venv/lib/python3.10/site-packages/sklearn/utils/deprecation.py:151: FutureWarning: 'force_all_finite' was renamed to 'ensure_all_finite' in 1.6 and will be removed in 1.8.\n",
      "  warnings.warn(\n",
      "/home/onizuka/Documents/Project M1/venv/lib/python3.10/site-packages/sklearn/utils/deprecation.py:151: FutureWarning: 'force_all_finite' was renamed to 'ensure_all_finite' in 1.6 and will be removed in 1.8.\n",
      "  warnings.warn(\n"
     ]
    },
    {
     "name": "stdout",
     "output_type": "stream",
     "text": [
      "[LightGBM] [Info] Number of positive: 4714, number of negative: 2246\n",
      "[LightGBM] [Info] Auto-choosing col-wise multi-threading, the overhead of testing was 0.000330 seconds.\n",
      "You can set `force_col_wise=true` to remove the overhead.\n",
      "[LightGBM] [Info] Total Bins 3825\n",
      "[LightGBM] [Info] Number of data points in the train set: 6960, number of used features: 15\n",
      "[LightGBM] [Info] [binary:BoostFromScore]: pavg=0.677299 -> initscore=0.741386\n",
      "[LightGBM] [Info] Start training from score 0.741386\n"
     ]
    },
    {
     "name": "stderr",
     "output_type": "stream",
     "text": [
      "/home/onizuka/Documents/Project M1/venv/lib/python3.10/site-packages/sklearn/utils/deprecation.py:151: FutureWarning: 'force_all_finite' was renamed to 'ensure_all_finite' in 1.6 and will be removed in 1.8.\n",
      "  warnings.warn(\n",
      "/home/onizuka/Documents/Project M1/venv/lib/python3.10/site-packages/sklearn/utils/deprecation.py:151: FutureWarning: 'force_all_finite' was renamed to 'ensure_all_finite' in 1.6 and will be removed in 1.8.\n",
      "  warnings.warn(\n"
     ]
    },
    {
     "name": "stdout",
     "output_type": "stream",
     "text": [
      "[LightGBM] [Info] Number of positive: 4714, number of negative: 2246\n",
      "[LightGBM] [Info] Auto-choosing col-wise multi-threading, the overhead of testing was 0.000317 seconds.\n",
      "You can set `force_col_wise=true` to remove the overhead.\n",
      "[LightGBM] [Info] Total Bins 3825\n",
      "[LightGBM] [Info] Number of data points in the train set: 6960, number of used features: 15\n",
      "[LightGBM] [Info] [binary:BoostFromScore]: pavg=0.677299 -> initscore=0.741386\n",
      "[LightGBM] [Info] Start training from score 0.741386\n"
     ]
    },
    {
     "name": "stderr",
     "output_type": "stream",
     "text": [
      "/home/onizuka/Documents/Project M1/venv/lib/python3.10/site-packages/sklearn/utils/deprecation.py:151: FutureWarning: 'force_all_finite' was renamed to 'ensure_all_finite' in 1.6 and will be removed in 1.8.\n",
      "  warnings.warn(\n",
      "/home/onizuka/Documents/Project M1/venv/lib/python3.10/site-packages/sklearn/utils/deprecation.py:151: FutureWarning: 'force_all_finite' was renamed to 'ensure_all_finite' in 1.6 and will be removed in 1.8.\n",
      "  warnings.warn(\n"
     ]
    },
    {
     "name": "stdout",
     "output_type": "stream",
     "text": [
      "[LightGBM] [Info] Number of positive: 4713, number of negative: 2247\n",
      "[LightGBM] [Info] Auto-choosing col-wise multi-threading, the overhead of testing was 0.000303 seconds.\n",
      "You can set `force_col_wise=true` to remove the overhead.\n",
      "[LightGBM] [Info] Total Bins 3825\n",
      "[LightGBM] [Info] Number of data points in the train set: 6960, number of used features: 15\n",
      "[LightGBM] [Info] [binary:BoostFromScore]: pavg=0.677155 -> initscore=0.740729\n",
      "[LightGBM] [Info] Start training from score 0.740729\n"
     ]
    },
    {
     "name": "stderr",
     "output_type": "stream",
     "text": [
      "/home/onizuka/Documents/Project M1/venv/lib/python3.10/site-packages/sklearn/utils/deprecation.py:151: FutureWarning: 'force_all_finite' was renamed to 'ensure_all_finite' in 1.6 and will be removed in 1.8.\n",
      "  warnings.warn(\n",
      "/home/onizuka/Documents/Project M1/venv/lib/python3.10/site-packages/sklearn/utils/deprecation.py:151: FutureWarning: 'force_all_finite' was renamed to 'ensure_all_finite' in 1.6 and will be removed in 1.8.\n",
      "  warnings.warn(\n"
     ]
    },
    {
     "name": "stdout",
     "output_type": "stream",
     "text": [
      "[LightGBM] [Info] Number of positive: 4713, number of negative: 2247\n",
      "[LightGBM] [Info] Auto-choosing col-wise multi-threading, the overhead of testing was 0.000418 seconds.\n",
      "You can set `force_col_wise=true` to remove the overhead.\n",
      "[LightGBM] [Info] Total Bins 3825\n",
      "[LightGBM] [Info] Number of data points in the train set: 6960, number of used features: 15\n",
      "[LightGBM] [Info] [binary:BoostFromScore]: pavg=0.677155 -> initscore=0.740729\n",
      "[LightGBM] [Info] Start training from score 0.740729\n"
     ]
    },
    {
     "name": "stderr",
     "output_type": "stream",
     "text": [
      "/home/onizuka/Documents/Project M1/venv/lib/python3.10/site-packages/sklearn/utils/deprecation.py:151: FutureWarning: 'force_all_finite' was renamed to 'ensure_all_finite' in 1.6 and will be removed in 1.8.\n",
      "  warnings.warn(\n",
      "/home/onizuka/Documents/Project M1/venv/lib/python3.10/site-packages/sklearn/utils/deprecation.py:151: FutureWarning: 'force_all_finite' was renamed to 'ensure_all_finite' in 1.6 and will be removed in 1.8.\n",
      "  warnings.warn(\n"
     ]
    },
    {
     "name": "stdout",
     "output_type": "stream",
     "text": [
      "[LightGBM] [Info] Number of positive: 4714, number of negative: 2246\n",
      "[LightGBM] [Info] Auto-choosing col-wise multi-threading, the overhead of testing was 0.000474 seconds.\n",
      "You can set `force_col_wise=true` to remove the overhead.\n",
      "[LightGBM] [Info] Total Bins 3825\n",
      "[LightGBM] [Info] Number of data points in the train set: 6960, number of used features: 15\n",
      "[LightGBM] [Info] [binary:BoostFromScore]: pavg=0.677299 -> initscore=0.741386\n",
      "[LightGBM] [Info] Start training from score 0.741386\n"
     ]
    },
    {
     "name": "stderr",
     "output_type": "stream",
     "text": [
      "/home/onizuka/Documents/Project M1/venv/lib/python3.10/site-packages/sklearn/utils/deprecation.py:151: FutureWarning: 'force_all_finite' was renamed to 'ensure_all_finite' in 1.6 and will be removed in 1.8.\n",
      "  warnings.warn(\n",
      "/home/onizuka/Documents/Project M1/venv/lib/python3.10/site-packages/sklearn/utils/deprecation.py:151: FutureWarning: 'force_all_finite' was renamed to 'ensure_all_finite' in 1.6 and will be removed in 1.8.\n",
      "  warnings.warn(\n"
     ]
    },
    {
     "name": "stdout",
     "output_type": "stream",
     "text": [
      "[LightGBM] [Info] Number of positive: 4714, number of negative: 2246\n",
      "[LightGBM] [Info] Auto-choosing col-wise multi-threading, the overhead of testing was 0.000488 seconds.\n",
      "You can set `force_col_wise=true` to remove the overhead.\n",
      "[LightGBM] [Info] Total Bins 3825\n",
      "[LightGBM] [Info] Number of data points in the train set: 6960, number of used features: 15\n",
      "[LightGBM] [Info] [binary:BoostFromScore]: pavg=0.677299 -> initscore=0.741386\n",
      "[LightGBM] [Info] Start training from score 0.741386\n"
     ]
    },
    {
     "name": "stderr",
     "output_type": "stream",
     "text": [
      "/home/onizuka/Documents/Project M1/venv/lib/python3.10/site-packages/sklearn/utils/deprecation.py:151: FutureWarning: 'force_all_finite' was renamed to 'ensure_all_finite' in 1.6 and will be removed in 1.8.\n",
      "  warnings.warn(\n",
      "/home/onizuka/Documents/Project M1/venv/lib/python3.10/site-packages/sklearn/utils/deprecation.py:151: FutureWarning: 'force_all_finite' was renamed to 'ensure_all_finite' in 1.6 and will be removed in 1.8.\n",
      "  warnings.warn(\n"
     ]
    },
    {
     "name": "stdout",
     "output_type": "stream",
     "text": [
      "[LightGBM] [Info] Number of positive: 4714, number of negative: 2246\n",
      "[LightGBM] [Info] Auto-choosing col-wise multi-threading, the overhead of testing was 0.000472 seconds.\n",
      "You can set `force_col_wise=true` to remove the overhead.\n",
      "[LightGBM] [Info] Total Bins 3825\n",
      "[LightGBM] [Info] Number of data points in the train set: 6960, number of used features: 15\n",
      "[LightGBM] [Info] [binary:BoostFromScore]: pavg=0.677299 -> initscore=0.741386\n",
      "[LightGBM] [Info] Start training from score 0.741386\n"
     ]
    },
    {
     "name": "stderr",
     "output_type": "stream",
     "text": [
      "/home/onizuka/Documents/Project M1/venv/lib/python3.10/site-packages/sklearn/utils/deprecation.py:151: FutureWarning: 'force_all_finite' was renamed to 'ensure_all_finite' in 1.6 and will be removed in 1.8.\n",
      "  warnings.warn(\n",
      "/home/onizuka/Documents/Project M1/venv/lib/python3.10/site-packages/sklearn/utils/deprecation.py:151: FutureWarning: 'force_all_finite' was renamed to 'ensure_all_finite' in 1.6 and will be removed in 1.8.\n",
      "  warnings.warn(\n"
     ]
    },
    {
     "name": "stdout",
     "output_type": "stream",
     "text": [
      "[LightGBM] [Info] Number of positive: 5892, number of negative: 2808\n",
      "[LightGBM] [Info] Auto-choosing col-wise multi-threading, the overhead of testing was 0.000577 seconds.\n",
      "You can set `force_col_wise=true` to remove the overhead.\n",
      "[LightGBM] [Info] Total Bins 3825\n",
      "[LightGBM] [Info] Number of data points in the train set: 8700, number of used features: 15\n",
      "[LightGBM] [Info] [binary:BoostFromScore]: pavg=0.677241 -> initscore=0.741123\n",
      "[LightGBM] [Info] Start training from score 0.741123\n",
      "Best Parameters: {'learning_rate': 0.1, 'n_estimators': 200, 'num_leaves': 100}\n",
      "Best Score: 0.7673563218390804\n"
     ]
    }
   ],
   "source": [
    "from sklearn.model_selection import GridSearchCV\n",
    "from lightgbm import LGBMClassifier\n",
    "\n",
    "# Define the model\n",
    "model = LGBMClassifier(objective='binary', random_state=42)\n",
    "\n",
    "# Define the hyperparameter grid\n",
    "param_grid = {\n",
    "    'num_leaves': [31, 50, 100],\n",
    "    'learning_rate': [0.01, 0.05, 0.1],\n",
    "    'n_estimators': [50, 100, 200]\n",
    "}\n",
    "\n",
    "# Perform GridSearchCV\n",
    "grid_search = GridSearchCV(model, param_grid, cv=5)\n",
    "grid_search.fit(X_train_scaled, y_train)\n",
    "\n",
    "# Print the best parameters\n",
    "print(\"Best Parameters:\", grid_search.best_params_)\n",
    "print(\"Best Score:\", grid_search.best_score_)\n"
   ]
  },
  {
   "cell_type": "markdown",
   "id": "0e6da01d-709b-4582-bf29-bc83a1b3d2c3",
   "metadata": {},
   "source": [
    "##  Rebuild the model with Hyperparameters "
   ]
  },
  {
   "cell_type": "code",
   "execution_count": 13,
   "id": "d095879e-1d1e-4131-9873-c9910d54227b",
   "metadata": {},
   "outputs": [
    {
     "name": "stdout",
     "output_type": "stream",
     "text": [
      "[LightGBM] [Info] Number of positive: 5892, number of negative: 2808\n",
      "[LightGBM] [Info] Auto-choosing col-wise multi-threading, the overhead of testing was 0.000600 seconds.\n",
      "You can set `force_col_wise=true` to remove the overhead.\n",
      "[LightGBM] [Info] Total Bins 3825\n",
      "[LightGBM] [Info] Number of data points in the train set: 8700, number of used features: 15\n",
      "[LightGBM] [Info] [binary:BoostFromScore]: pavg=0.677241 -> initscore=0.741123\n",
      "[LightGBM] [Info] Start training from score 0.741123\n"
     ]
    },
    {
     "name": "stderr",
     "output_type": "stream",
     "text": [
      "/home/onizuka/Documents/Project M1/venv/lib/python3.10/site-packages/sklearn/utils/deprecation.py:151: FutureWarning: 'force_all_finite' was renamed to 'ensure_all_finite' in 1.6 and will be removed in 1.8.\n",
      "  warnings.warn(\n"
     ]
    },
    {
     "name": "stdout",
     "output_type": "stream",
     "text": [
      "Accuracy on Test Data with Tuned Parameters: 0.7894252873563219\n"
     ]
    },
    {
     "name": "stderr",
     "output_type": "stream",
     "text": [
      "/home/onizuka/Documents/Project M1/venv/lib/python3.10/site-packages/sklearn/utils/deprecation.py:151: FutureWarning: 'force_all_finite' was renamed to 'ensure_all_finite' in 1.6 and will be removed in 1.8.\n",
      "  warnings.warn(\n"
     ]
    }
   ],
   "source": [
    "# Train the model with the best parameters\n",
    "best_model = LGBMClassifier(learning_rate=0.1, n_estimators=200, num_leaves=100, objective='binary', random_state=42)\n",
    "best_model.fit(X_train_scaled, y_train)\n",
    "\n",
    "# Make predictions\n",
    "y_pred = best_model.predict(X_test_scaled)\n",
    "\n",
    "# Evaluate performance\n",
    "accuracy = accuracy_score(y_test, y_pred)\n",
    "print(f\"Accuracy on Test Data with Tuned Parameters: {accuracy}\")\n"
   ]
  },
  {
   "cell_type": "code",
   "execution_count": 14,
   "id": "15141250-0bd1-48ed-b90b-a50240a463bc",
   "metadata": {},
   "outputs": [
    {
     "data": {
      "image/png": "[encoded data removed]",
      "text/plain": [
       "<Figure size 640x480 with 1 Axes>"
      ]
     },
     "metadata": {},
     "output_type": "display_data"
    }
   ],
   "source": [
    "import matplotlib.pyplot as plt\n",
    "\n",
    "# Plot feature importance\n",
    "feature_importances = best_model.feature_importances_\n",
    "features = X.columns\n",
    "\n",
    "# Sort and plot\n",
    "sorted_idx = feature_importances.argsort()\n",
    "plt.barh(features[sorted_idx], feature_importances[sorted_idx])\n",
    "plt.xlabel(\"Feature Importance\")\n",
    "plt.ylabel(\"Feature\")\n",
    "plt.title(\"Feature Importance (LightGBM)\")\n",
    "plt.show()\n"
   ]
  },
  {
   "cell_type": "code",
   "execution_count": 15,
   "id": "956b950d-c63f-40ab-b156-aa89a404565a",
   "metadata": {},
   "outputs": [
    {
     "data": {
      "image/png": "[encoded data removed]",
      "text/plain": [
       "<Figure size 600x400 with 2 Axes>"
      ]
     },
     "metadata": {},
     "output_type": "display_data"
    }
   ],
   "source": [
    "from sklearn.metrics import confusion_matrix\n",
    "import seaborn as sns\n",
    "import matplotlib.pyplot as plt\n",
    "\n",
    "# Generate confusion matrix\n",
    "cm = confusion_matrix(y_test, y_pred)\n",
    "\n",
    "# Plot confusion matrix as heatmap\n",
    "plt.figure(figsize=(6, 4))\n",
    "sns.heatmap(cm, annot=True, fmt='d', cmap='Blues', xticklabels=['Sell', 'Buy'], yticklabels=['Sell', 'Buy'])\n",
    "plt.title('Confusion Matrix LightGBoost')\n",
    "plt.xlabel('Predicted')\n",
    "plt.ylabel('Actual')\n",
    "plt.show()\n"
   ]
  },
  {
   "cell_type": "markdown",
   "id": "d3d71fc3-f4de-467c-b3ec-d49a76fd7d10",
   "metadata": {},
   "source": [
    "# 2. XGBoost Model\n"
   ]
  },
  {
   "cell_type": "code",
   "execution_count": 16,
   "id": "1b1dea83-d4be-43be-bcb7-285f98113d95",
   "metadata": {},
   "outputs": [],
   "source": [
    "import xgboost as xgb\n",
    "import numpy as np\n",
    "import optuna\n",
    "from sklearn.model_selection import train_test_split\n",
    "from sklearn.preprocessing import StandardScaler\n",
    "from sklearn.metrics import accuracy_score, classification_report\n"
   ]
  },
  {
   "cell_type": "code",
   "execution_count": 17,
   "id": "04972fec-85eb-4847-978a-c4b9ca12b5f8",
   "metadata": {},
   "outputs": [],
   "source": [
    "# Step 1: Define the list of features and target variable\n",
    "features = [\n",
    "    'RSI_14', 'RSI_30', 'RSI_200', 'MOM_10', 'MOM_30',\n",
    "    'MACD_12_26_9', 'MACDh_12_26_9', 'MACDs_12_26_9',\n",
    "    'PROC_9', 'EMA_10', 'EMA_30', 'Pct_Change', 'Log_Returns',\n",
    "    'Volatility_10', 'Volatility_30'\n",
    "]\n",
    "X = data[features]\n",
    "y = data['Signal'].replace({2: 1})  # Map '2' to '1' for binary classification\n"
   ]
  },
  {
   "cell_type": "code",
   "execution_count": 18,
   "id": "0794dee3-93c5-42be-a144-6d24215d4523",
   "metadata": {},
   "outputs": [],
   "source": [
    "# Step 2: Split the data into train and test sets\n",
    "X_train, X_test, y_train, y_test = train_test_split(\n",
    "    X, y, test_size=0.2, random_state=42, stratify=y\n",
    ")\n"
   ]
  },
  {
   "cell_type": "code",
   "execution_count": 19,
   "id": "056b092e-243d-4c5e-85ba-b2f5de772d0d",
   "metadata": {},
   "outputs": [],
   "source": [
    "# Step 3: Scale the features\n",
    "scaler = StandardScaler()\n",
    "X_train_scaled = scaler.fit_transform(X_train)\n",
    "X_test_scaled = scaler.transform(X_test)\n"
   ]
  },
  {
   "cell_type": "code",
   "execution_count": 20,
   "id": "02c594cf-5a5b-4520-94d3-51face84ae17",
   "metadata": {},
   "outputs": [],
   "source": [
    "# Step 4: Define the Optuna optimization function\n",
    "def objective(trial):\n",
    "    params = {\n",
    "        'booster': trial.suggest_categorical('booster', ['gbtree', 'dart']),\n",
    "        'objective': 'binary:logistic',\n",
    "        'eval_metric': 'logloss',\n",
    "        'eta': trial.suggest_float('eta', 0.01, 0.3, log=True),\n",
    "        'max_depth': trial.suggest_int('max_depth', 3, 10),\n",
    "        'min_child_weight': trial.suggest_float('min_child_weight', 1, 10, log=True),\n",
    "        'subsample': trial.suggest_float('subsample', 0.5, 1.0),\n",
    "        'colsample_bytree': trial.suggest_float('colsample_bytree', 0.5, 1.0),\n",
    "        'lambda': trial.suggest_float('lambda', 1e-3, 10.0, log=True),\n",
    "        'alpha': trial.suggest_float('alpha', 1e-3, 10.0, log=True),\n",
    "    }\n",
    "    \n",
    "    # Perform cross-validation using xgb.cv\n",
    "    dtrain = xgb.DMatrix(X_train_scaled, label=y_train)\n",
    "    cv_results = xgb.cv(\n",
    "        params=params,\n",
    "        dtrain=dtrain,\n",
    "        num_boost_round=100,\n",
    "        nfold=5,\n",
    "        stratified=True,\n",
    "        shuffle=True,\n",
    "        early_stopping_rounds=10,\n",
    "        seed=42,\n",
    "        verbose_eval=False\n",
    "    )\n",
    "    \n",
    "    # Return the mean of the test logloss\n",
    "    return cv_results['test-logloss-mean'].min()\n"
   ]
  },
  {
   "cell_type": "code",
   "execution_count": 21,
   "id": "23532aa8-4e9e-4637-9618-ce1cdfa981a6",
   "metadata": {},
   "outputs": [
    {
     "name": "stderr",
     "output_type": "stream",
     "text": [
      "[I 2025-01-17 20:31:52,944] A new study created in memory with name: XGBoost Hyperparameter Tuning\n",
      "[I 2025-01-17 20:32:09,247] Trial 0 finished with value: 0.5341253164581868 and parameters: {'booster': 'dart', 'eta': 0.035243364923932846, 'max_depth': 10, 'min_child_weight': 3.807962609804012, 'subsample': 0.7583540661903392, 'colsample_bytree': 0.9653207631800116, 'lambda': 0.010914655537687267, 'alpha': 0.19502359634429847}. Best is trial 0 with value: 0.5341253164581868.\n",
      "[I 2025-01-17 20:32:19,397] Trial 1 finished with value: 0.5585298010835359 and parameters: {'booster': 'dart', 'eta': 0.017480490806513024, 'max_depth': 10, 'min_child_weight': 6.728697987224763, 'subsample': 0.8439206365595926, 'colsample_bytree': 0.5560587603043154, 'lambda': 0.40314176078528097, 'alpha': 0.023741347625568426}. Best is trial 0 with value: 0.5341253164581868.\n",
      "[I 2025-01-17 20:32:27,942] Trial 2 finished with value: 0.5573643816951875 and parameters: {'booster': 'dart', 'eta': 0.032775402804839204, 'max_depth': 7, 'min_child_weight': 1.438331798296765, 'subsample': 0.6911337328698346, 'colsample_bytree': 0.5314569536007139, 'lambda': 0.7843894269240336, 'alpha': 1.4698332622068673}. Best is trial 0 with value: 0.5341253164581868.\n",
      "[I 2025-01-17 20:32:28,527] Trial 3 finished with value: 0.5881959250569343 and parameters: {'booster': 'gbtree', 'eta': 0.012510437252523224, 'max_depth': 4, 'min_child_weight': 6.854675089832219, 'subsample': 0.9137097981083674, 'colsample_bytree': 0.9066569113335788, 'lambda': 3.8836505836056485, 'alpha': 0.19272683080500638}. Best is trial 0 with value: 0.5341253164581868.\n",
      "[I 2025-01-17 20:32:29,721] Trial 4 finished with value: 0.5355253672675797 and parameters: {'booster': 'gbtree', 'eta': 0.055528649622605675, 'max_depth': 10, 'min_child_weight': 5.4533066596026405, 'subsample': 0.9770636424835581, 'colsample_bytree': 0.5038220900577359, 'lambda': 0.04323134412779736, 'alpha': 0.2091724638973332}. Best is trial 0 with value: 0.5341253164581868.\n",
      "[I 2025-01-17 20:32:31,272] Trial 5 finished with value: 0.5479904162641829 and parameters: {'booster': 'gbtree', 'eta': 0.053480105595297193, 'max_depth': 10, 'min_child_weight': 5.020715762288689, 'subsample': 0.7805915652233069, 'colsample_bytree': 0.7910251923848937, 'lambda': 0.1531776365867426, 'alpha': 5.314236032469672}. Best is trial 0 with value: 0.5341253164581868.\n",
      "[I 2025-01-17 20:32:33,014] Trial 6 finished with value: 0.547512342993641 and parameters: {'booster': 'gbtree', 'eta': 0.021688547688072293, 'max_depth': 10, 'min_child_weight': 5.01974844334615, 'subsample': 0.9916952428709034, 'colsample_bytree': 0.8348307671404196, 'lambda': 0.0038834242786064187, 'alpha': 2.7166037454998038}. Best is trial 0 with value: 0.5341253164581868.\n",
      "[I 2025-01-17 20:32:42,515] Trial 7 finished with value: 0.5430007011351315 and parameters: {'booster': 'dart', 'eta': 0.03263186846041278, 'max_depth': 8, 'min_child_weight': 1.1456370923321266, 'subsample': 0.5258441587630139, 'colsample_bytree': 0.9057618494535873, 'lambda': 0.0023827369396673785, 'alpha': 0.2300348129248645}. Best is trial 0 with value: 0.5341253164581868.\n",
      "[I 2025-01-17 20:32:52,074] Trial 8 finished with value: 0.5243118680146223 and parameters: {'booster': 'dart', 'eta': 0.06401640343168656, 'max_depth': 9, 'min_child_weight': 1.3853121820662577, 'subsample': 0.9791756770519435, 'colsample_bytree': 0.5284916323986562, 'lambda': 0.01899941781960494, 'alpha': 0.004438060619838186}. Best is trial 8 with value: 0.5243118680146223.\n",
      "[I 2025-01-17 20:32:52,880] Trial 9 finished with value: 0.5555309125565892 and parameters: {'booster': 'gbtree', 'eta': 0.04139995329441116, 'max_depth': 6, 'min_child_weight': 1.9796829216632768, 'subsample': 0.9188893732088581, 'colsample_bytree': 0.6473493211475894, 'lambda': 0.02460005985374028, 'alpha': 0.18108704193856798}. Best is trial 8 with value: 0.5243118680146223.\n",
      "[I 2025-01-17 20:32:57,335] Trial 10 finished with value: 0.5729250142892459 and parameters: {'booster': 'dart', 'eta': 0.1700128391787796, 'max_depth': 3, 'min_child_weight': 2.3659203015038415, 'subsample': 0.6467948497077343, 'colsample_bytree': 0.6746052993746872, 'lambda': 6.677570899356028, 'alpha': 0.0011846962581915927}. Best is trial 8 with value: 0.5243118680146223.\n",
      "[I 2025-01-17 20:33:03,465] Trial 11 finished with value: 0.5489864718816082 and parameters: {'booster': 'dart', 'eta': 0.11570166325096606, 'max_depth': 8, 'min_child_weight': 3.2071739002998134, 'subsample': 0.5105984742147067, 'colsample_bytree': 0.9914596978715005, 'lambda': 0.012559458699739902, 'alpha': 0.011274098644046106}. Best is trial 8 with value: 0.5243118680146223.\n",
      "[I 2025-01-17 20:33:12,389] Trial 12 finished with value: 0.5329808949553889 and parameters: {'booster': 'dart', 'eta': 0.09759649653327226, 'max_depth': 8, 'min_child_weight': 3.1664543546927097, 'subsample': 0.7946705797281923, 'colsample_bytree': 0.6844616281775596, 'lambda': 0.006669407326563897, 'alpha': 0.0017540148011552942}. Best is trial 8 with value: 0.5243118680146223.\n",
      "[I 2025-01-17 20:33:20,905] Trial 13 finished with value: 0.5487836388624328 and parameters: {'booster': 'dart', 'eta': 0.09002827336463437, 'max_depth': 8, 'min_child_weight': 9.66563277528033, 'subsample': 0.8539615139697989, 'colsample_bytree': 0.6335432102742433, 'lambda': 0.0010308968209189944, 'alpha': 0.0011136801994563268}. Best is trial 8 with value: 0.5243118680146223.\n",
      "[I 2025-01-17 20:33:22,231] Trial 14 finished with value: 0.5650744828688591 and parameters: {'booster': 'dart', 'eta': 0.26641107097309, 'max_depth': 6, 'min_child_weight': 2.150713632800339, 'subsample': 0.6180364029139138, 'colsample_bytree': 0.7184205135312455, 'lambda': 0.0988745979475218, 'alpha': 0.007124074365214968}. Best is trial 8 with value: 0.5243118680146223.\n",
      "[I 2025-01-17 20:33:30,796] Trial 15 finished with value: 0.5368372383811271 and parameters: {'booster': 'dart', 'eta': 0.08105137088115694, 'max_depth': 7, 'min_child_weight': 1.607055924277836, 'subsample': 0.8373887368386504, 'colsample_bytree': 0.5720950672712285, 'lambda': 0.006015226994109928, 'alpha': 0.00328393891258533}. Best is trial 8 with value: 0.5243118680146223.\n",
      "[I 2025-01-17 20:33:37,793] Trial 16 finished with value: 0.5387042017744642 and parameters: {'booster': 'dart', 'eta': 0.1440607909696281, 'max_depth': 9, 'min_child_weight': 2.718491685669986, 'subsample': 0.6948752273800409, 'colsample_bytree': 0.6063426513524812, 'lambda': 0.04166871314915413, 'alpha': 0.03619744920246767}. Best is trial 8 with value: 0.5243118680146223.\n",
      "[I 2025-01-17 20:33:45,064] Trial 17 finished with value: 0.5546208898617146 and parameters: {'booster': 'dart', 'eta': 0.0712560640405809, 'max_depth': 5, 'min_child_weight': 1.0086317665843711, 'subsample': 0.8998111016236046, 'colsample_bytree': 0.7267624342753201, 'lambda': 0.001013521121992641, 'alpha': 0.0036892950240572145}. Best is trial 8 with value: 0.5243118680146223.\n",
      "[I 2025-01-17 20:33:48,436] Trial 18 finished with value: 0.5407002896063121 and parameters: {'booster': 'dart', 'eta': 0.1893179136471244, 'max_depth': 9, 'min_child_weight': 3.4709672586316036, 'subsample': 0.7959416180606443, 'colsample_bytree': 0.7872811641984141, 'lambda': 0.01512641217961526, 'alpha': 0.039552442773235746}. Best is trial 8 with value: 0.5243118680146223.\n",
      "[I 2025-01-17 20:33:51,009] Trial 19 finished with value: 0.533070944980959 and parameters: {'booster': 'dart', 'eta': 0.269542087237143, 'max_depth': 9, 'min_child_weight': 1.4927349774850982, 'subsample': 0.9423248907170632, 'colsample_bytree': 0.6847258622710166, 'lambda': 0.19262565171061283, 'alpha': 0.0024678092289548625}. Best is trial 8 with value: 0.5243118680146223.\n",
      "[I 2025-01-17 20:34:02,482] Trial 20 finished with value: 0.5521273091163931 and parameters: {'booster': 'dart', 'eta': 0.10668665129236778, 'max_depth': 7, 'min_child_weight': 4.139948187094457, 'subsample': 0.5767568547832727, 'colsample_bytree': 0.5940935819420045, 'lambda': 0.060794722656812496, 'alpha': 0.011765732436475648}. Best is trial 8 with value: 0.5243118680146223.\n",
      "[I 2025-01-17 20:34:06,077] Trial 21 finished with value: 0.5322072983803909 and parameters: {'booster': 'dart', 'eta': 0.2838265167257963, 'max_depth': 9, 'min_child_weight': 1.5971095319153437, 'subsample': 0.9528685335641395, 'colsample_bytree': 0.6798298940340938, 'lambda': 0.2306774689817151, 'alpha': 0.002760330210109033}. Best is trial 8 with value: 0.5243118680146223.\n",
      "[I 2025-01-17 20:34:17,300] Trial 22 finished with value: 0.5273819636031062 and parameters: {'booster': 'dart', 'eta': 0.20385679197129294, 'max_depth': 8, 'min_child_weight': 1.791615382196668, 'subsample': 0.8792981580897641, 'colsample_bytree': 0.778475363056071, 'lambda': 1.2989541578407884, 'alpha': 0.005409060840875023}. Best is trial 8 with value: 0.5243118680146223.\n",
      "[I 2025-01-17 20:34:36,440] Trial 23 finished with value: 0.5235684025835114 and parameters: {'booster': 'dart', 'eta': 0.21789460061475643, 'max_depth': 9, 'min_child_weight': 1.7451921563934325, 'subsample': 0.957268806515167, 'colsample_bytree': 0.7743000880920762, 'lambda': 1.6474787212064552, 'alpha': 0.005939295364324505}. Best is trial 23 with value: 0.5235684025835114.\n",
      "[I 2025-01-17 20:34:42,070] Trial 24 finished with value: 0.5233309312776834 and parameters: {'booster': 'dart', 'eta': 0.19419154487212373, 'max_depth': 9, 'min_child_weight': 1.2407231315945675, 'subsample': 0.8769794976332841, 'colsample_bytree': 0.8451373064655914, 'lambda': 1.5709572837838592, 'alpha': 0.007182995015532646}. Best is trial 24 with value: 0.5233309312776834.\n",
      "[I 2025-01-17 20:35:11,498] Trial 25 finished with value: 0.5157255881937521 and parameters: {'booster': 'dart', 'eta': 0.1557317067558435, 'max_depth': 9, 'min_child_weight': 1.2514418684553004, 'subsample': 0.9930155526825493, 'colsample_bytree': 0.8405316418687909, 'lambda': 2.0543632883756446, 'alpha': 0.025022416722942562}. Best is trial 25 with value: 0.5157255881937521.\n",
      "[I 2025-01-17 20:35:13,760] Trial 26 finished with value: 0.5143894402694288 and parameters: {'booster': 'gbtree', 'eta': 0.13477261646749003, 'max_depth': 9, 'min_child_weight': 1.1858510658718522, 'subsample': 0.9408617771502162, 'colsample_bytree': 0.8519971554513678, 'lambda': 1.4881577380277788, 'alpha': 0.0753177997804894}. Best is trial 26 with value: 0.5143894402694288.\n",
      "[I 2025-01-17 20:35:15,151] Trial 27 finished with value: 0.5309430956054377 and parameters: {'booster': 'gbtree', 'eta': 0.15780611964812755, 'max_depth': 7, 'min_child_weight': 1.0766809780003566, 'subsample': 0.9970546455482281, 'colsample_bytree': 0.8434716334106273, 'lambda': 3.921183029934012, 'alpha': 0.0643142850620615}. Best is trial 26 with value: 0.5143894402694288.\n",
      "[I 2025-01-17 20:35:19,641] Trial 28 finished with value: 0.5175381385640044 and parameters: {'booster': 'gbtree', 'eta': 0.1297428478023841, 'max_depth': 8, 'min_child_weight': 1.2684268615470982, 'subsample': 0.8920037637416851, 'colsample_bytree': 0.8634318289285164, 'lambda': 0.600336648378423, 'alpha': 0.7823429631758294}. Best is trial 26 with value: 0.5143894402694288.\n",
      "[I 2025-01-17 20:35:23,981] Trial 29 finished with value: 0.5217117899749295 and parameters: {'booster': 'gbtree', 'eta': 0.1281556814039034, 'max_depth': 8, 'min_child_weight': 2.5088390918129084, 'subsample': 0.9299027351850032, 'colsample_bytree': 0.9269268021783387, 'lambda': 0.45443117936536304, 'alpha': 0.9092609318446123}. Best is trial 26 with value: 0.5143894402694288.\n",
      "[I 2025-01-17 20:35:26,416] Trial 30 finished with value: 0.5408230371944521 and parameters: {'booster': 'gbtree', 'eta': 0.13442013539054992, 'max_depth': 6, 'min_child_weight': 1.1643663383217875, 'subsample': 0.744538802371963, 'colsample_bytree': 0.8783941985797675, 'lambda': 3.059933404323112, 'alpha': 0.5576817968213961}. Best is trial 26 with value: 0.5143894402694288.\n",
      "[I 2025-01-17 20:35:28,355] Trial 31 finished with value: 0.516179152362921 and parameters: {'booster': 'gbtree', 'eta': 0.12238356268884755, 'max_depth': 8, 'min_child_weight': 1.3129934370579663, 'subsample': 0.9315074163919831, 'colsample_bytree': 0.9453727972875955, 'lambda': 0.5992275810518722, 'alpha': 0.5993169566038151}. Best is trial 26 with value: 0.5143894402694288.\n",
      "[I 2025-01-17 20:35:30,162] Trial 32 finished with value: 0.5190549338169479 and parameters: {'booster': 'gbtree', 'eta': 0.11619830178921338, 'max_depth': 8, 'min_child_weight': 1.2701965883846786, 'subsample': 0.8331504320738234, 'colsample_bytree': 0.9522607560898194, 'lambda': 0.6860622580400761, 'alpha': 0.09814386224599836}. Best is trial 26 with value: 0.5143894402694288.\n",
      "[I 2025-01-17 20:35:32,929] Trial 33 finished with value: 0.5164928741853727 and parameters: {'booster': 'gbtree', 'eta': 0.15253856778263683, 'max_depth': 10, 'min_child_weight': 1.0082978097227822, 'subsample': 0.8908753755265595, 'colsample_bytree': 0.8710282447103517, 'lambda': 9.778513074234972, 'alpha': 0.4704195589510757}. Best is trial 26 with value: 0.5143894402694288.\n",
      "[I 2025-01-17 20:35:35,273] Trial 34 finished with value: 0.5153870369237044 and parameters: {'booster': 'gbtree', 'eta': 0.2263366822701859, 'max_depth': 10, 'min_child_weight': 1.016536069531375, 'subsample': 0.949627376677789, 'colsample_bytree': 0.9583519998151744, 'lambda': 8.69331466907073, 'alpha': 0.33282905737050933}. Best is trial 26 with value: 0.5143894402694288.\n",
      "[I 2025-01-17 20:35:36,876] Trial 35 finished with value: 0.5159213959876764 and parameters: {'booster': 'gbtree', 'eta': 0.23664378709620462, 'max_depth': 10, 'min_child_weight': 1.3927267582331808, 'subsample': 0.9623827023313725, 'colsample_bytree': 0.9972721541634013, 'lambda': 2.5613110833693042, 'alpha': 0.35674892597055047}. Best is trial 26 with value: 0.5143894402694288.\n",
      "[I 2025-01-17 20:35:38,225] Trial 36 finished with value: 0.5165205555430334 and parameters: {'booster': 'gbtree', 'eta': 0.23413160044265924, 'max_depth': 10, 'min_child_weight': 1.8773546990099663, 'subsample': 0.9650871701930239, 'colsample_bytree': 0.9952892994180853, 'lambda': 5.182598126537547, 'alpha': 0.346336274333974}. Best is trial 26 with value: 0.5143894402694288.\n",
      "[I 2025-01-17 20:35:39,985] Trial 37 finished with value: 0.5115489808640821 and parameters: {'booster': 'gbtree', 'eta': 0.23733573299146843, 'max_depth': 10, 'min_child_weight': 1.4328773394667145, 'subsample': 0.9956738960924976, 'colsample_bytree': 0.9736675861038705, 'lambda': 2.583661425466017, 'alpha': 0.1233175079341732}. Best is trial 37 with value: 0.5115489808640821.\n",
      "[I 2025-01-17 20:35:42,268] Trial 38 finished with value: 0.5142154375220992 and parameters: {'booster': 'gbtree', 'eta': 0.18151389653179917, 'max_depth': 10, 'min_child_weight': 1.144357173523886, 'subsample': 0.9906834191729392, 'colsample_bytree': 0.8198668258674869, 'lambda': 9.322097692013678, 'alpha': 0.10737509417771278}. Best is trial 37 with value: 0.5115489808640821.\n",
      "[I 2025-01-17 20:35:45,089] Trial 39 finished with value: 0.5208262008072637 and parameters: {'booster': 'gbtree', 'eta': 0.18563436306544215, 'max_depth': 10, 'min_child_weight': 1.1041053305455122, 'subsample': 0.915787140166659, 'colsample_bytree': 0.9030787465182473, 'lambda': 9.829985719585729, 'alpha': 1.6203961552702328}. Best is trial 37 with value: 0.5115489808640821.\n",
      "[I 2025-01-17 20:35:47,701] Trial 40 finished with value: 0.5545001349640989 and parameters: {'booster': 'gbtree', 'eta': 0.011885965298743598, 'max_depth': 10, 'min_child_weight': 1.4980166873327303, 'subsample': 0.8621681600033534, 'colsample_bytree': 0.821119482133825, 'lambda': 1.141901517185678, 'alpha': 0.1140357487482928}. Best is trial 37 with value: 0.5115489808640821.\n",
      "[I 2025-01-17 20:35:49,657] Trial 41 finished with value: 0.5115450777864049 and parameters: {'booster': 'gbtree', 'eta': 0.16841567996991835, 'max_depth': 10, 'min_child_weight': 1.1688468032671147, 'subsample': 0.9982890804389568, 'colsample_bytree': 0.8139990211433628, 'lambda': 2.351096323268897, 'alpha': 0.025203882756061693}. Best is trial 41 with value: 0.5115450777864049.\n",
      "[I 2025-01-17 20:35:51,409] Trial 42 finished with value: 0.5162371003371262 and parameters: {'booster': 'gbtree', 'eta': 0.2884713896068049, 'max_depth': 10, 'min_child_weight': 1.115519642358362, 'subsample': 0.9762395528528761, 'colsample_bytree': 0.802067267257505, 'lambda': 5.539861040038432, 'alpha': 0.08341103865670993}. Best is trial 41 with value: 0.5115450777864049.\n",
      "[I 2025-01-17 20:35:53,798] Trial 43 finished with value: 0.5086579335713994 and parameters: {'booster': 'gbtree', 'eta': 0.2474359343096691, 'max_depth': 10, 'min_child_weight': 1.0237415460797403, 'subsample': 0.993784187106614, 'colsample_bytree': 0.9712031573159013, 'lambda': 3.807583054581832, 'alpha': 0.1517718972004248}. Best is trial 43 with value: 0.5086579335713994.\n",
      "[I 2025-01-17 20:35:56,322] Trial 44 finished with value: 0.5451703450366342 and parameters: {'booster': 'gbtree', 'eta': 0.02017868710371128, 'max_depth': 10, 'min_child_weight': 1.6160917441993845, 'subsample': 0.9973125472288709, 'colsample_bytree': 0.748746313319841, 'lambda': 3.8922661310769104, 'alpha': 0.13656521893517218}. Best is trial 43 with value: 0.5086579335713994.\n",
      "[I 2025-01-17 20:35:58,171] Trial 45 finished with value: 0.5068640725142803 and parameters: {'booster': 'gbtree', 'eta': 0.1686620481836618, 'max_depth': 10, 'min_child_weight': 1.1815286614813103, 'subsample': 0.971581897421733, 'colsample_bytree': 0.8973623981283936, 'lambda': 1.0182160431676457, 'alpha': 0.055466571100172654}. Best is trial 45 with value: 0.5068640725142803.\n",
      "[I 2025-01-17 20:36:00,265] Trial 46 finished with value: 0.5109561816301872 and parameters: {'booster': 'gbtree', 'eta': 0.17726669573217396, 'max_depth': 10, 'min_child_weight': 1.4117330607655987, 'subsample': 0.9762662115679981, 'colsample_bytree': 0.9229872865273748, 'lambda': 6.054938366746885, 'alpha': 0.04909471838563078}. Best is trial 45 with value: 0.5068640725142803.\n",
      "[I 2025-01-17 20:36:00,891] Trial 47 finished with value: 0.5763939212900641 and parameters: {'booster': 'gbtree', 'eta': 0.027306134952191717, 'max_depth': 4, 'min_child_weight': 1.4453294363967482, 'subsample': 0.9696647566699718, 'colsample_bytree': 0.9252000801464421, 'lambda': 0.997561567110718, 'alpha': 0.05278273194633699}. Best is trial 45 with value: 0.5068640725142803.\n",
      "[I 2025-01-17 20:36:02,893] Trial 48 finished with value: 0.5178741501381449 and parameters: {'booster': 'gbtree', 'eta': 0.05098154837442054, 'max_depth': 10, 'min_child_weight': 2.111585085562935, 'subsample': 0.9108538308892855, 'colsample_bytree': 0.9744842659026425, 'lambda': 0.31252279646720643, 'alpha': 0.01652586775407706}. Best is trial 45 with value: 0.5068640725142803.\n",
      "[I 2025-01-17 20:36:03,762] Trial 49 finished with value: 0.5398244359555264 and parameters: {'booster': 'gbtree', 'eta': 0.2525531692082725, 'max_depth': 9, 'min_child_weight': 6.786749614919666, 'subsample': 0.9777872463999614, 'colsample_bytree': 0.889673052978493, 'lambda': 2.36593010780859, 'alpha': 0.027386531262611254}. Best is trial 45 with value: 0.5068640725142803.\n"
     ]
    },
    {
     "name": "stdout",
     "output_type": "stream",
     "text": [
      "Best Hyperparameters: {'booster': 'gbtree', 'eta': 0.1686620481836618, 'max_depth': 10, 'min_child_weight': 1.1815286614813103, 'subsample': 0.971581897421733, 'colsample_bytree': 0.8973623981283936, 'lambda': 1.0182160431676457, 'alpha': 0.055466571100172654}\n"
     ]
    }
   ],
   "source": [
    "# Step 5: Run Optuna optimization\n",
    "study = optuna.create_study(direction='minimize', study_name=\"XGBoost Hyperparameter Tuning\")\n",
    "study.optimize(objective, n_trials=50)  # Adjust n_trials for more or fewer experiments\n",
    "\n",
    "# Step 6: Display the best hyperparameters\n",
    "print(\"Best Hyperparameters:\", study.best_params)\n"
   ]
  },
  {
   "cell_type": "code",
   "execution_count": 22,
   "id": "f5211ac6-a69e-4277-9620-00fdaaf55b68",
   "metadata": {},
   "outputs": [
    {
     "name": "stderr",
     "output_type": "stream",
     "text": [
      "/home/onizuka/Documents/Project M1/venv/lib/python3.10/site-packages/xgboost/core.py:158: UserWarning: [20:36:03] WARNING: /workspace/src/learner.cc:740: \n",
      "Parameters: { \"use_label_encoder\" } are not used.\n",
      "\n",
      "  warnings.warn(smsg, UserWarning)\n"
     ]
    },
    {
     "ename": "AttributeError",
     "evalue": "'super' object has no attribute '__sklearn_tags__'",
     "output_type": "error",
     "traceback": [
      "\u001b[0;31m---------------------------------------------------------------------------\u001b[0m",
      "\u001b[0;31mAttributeError\u001b[0m                            Traceback (most recent call last)",
      "File \u001b[0;32m~/Documents/Project M1/venv/lib/python3.10/site-packages/IPython/core/formatters.py:1036\u001b[0m, in \u001b[0;36mMimeBundleFormatter.__call__\u001b[0;34m(self, obj, include, exclude)\u001b[0m\n\u001b[1;32m   1033\u001b[0m     method \u001b[38;5;241m=\u001b[39m get_real_method(obj, \u001b[38;5;28mself\u001b[39m\u001b[38;5;241m.\u001b[39mprint_method)\n\u001b[1;32m   1035\u001b[0m     \u001b[38;5;28;01mif\u001b[39;00m method \u001b[38;5;129;01mis\u001b[39;00m \u001b[38;5;129;01mnot\u001b[39;00m \u001b[38;5;28;01mNone\u001b[39;00m:\n\u001b[0;32m-> 1036\u001b[0m         \u001b[38;5;28;01mreturn\u001b[39;00m \u001b[43mmethod\u001b[49m\u001b[43m(\u001b[49m\u001b[43minclude\u001b[49m\u001b[38;5;241;43m=\u001b[39;49m\u001b[43minclude\u001b[49m\u001b[43m,\u001b[49m\u001b[43m \u001b[49m\u001b[43mexclude\u001b[49m\u001b[38;5;241;43m=\u001b[39;49m\u001b[43mexclude\u001b[49m\u001b[43m)\u001b[49m\n\u001b[1;32m   1037\u001b[0m     \u001b[38;5;28;01mreturn\u001b[39;00m \u001b[38;5;28;01mNone\u001b[39;00m\n\u001b[1;32m   1038\u001b[0m \u001b[38;5;28;01melse\u001b[39;00m:\n",
      "File \u001b[0;32m~/Documents/Project M1/venv/lib/python3.10/site-packages/sklearn/base.py:469\u001b[0m, in \u001b[0;36mBaseEstimator._repr_mimebundle_\u001b[0;34m(self, **kwargs)\u001b[0m\n\u001b[1;32m    467\u001b[0m output \u001b[38;5;241m=\u001b[39m {\u001b[38;5;124m\"\u001b[39m\u001b[38;5;124mtext/plain\u001b[39m\u001b[38;5;124m\"\u001b[39m: \u001b[38;5;28mrepr\u001b[39m(\u001b[38;5;28mself\u001b[39m)}\n\u001b[1;32m    468\u001b[0m \u001b[38;5;28;01mif\u001b[39;00m get_config()[\u001b[38;5;124m\"\u001b[39m\u001b[38;5;124mdisplay\u001b[39m\u001b[38;5;124m\"\u001b[39m] \u001b[38;5;241m==\u001b[39m \u001b[38;5;124m\"\u001b[39m\u001b[38;5;124mdiagram\u001b[39m\u001b[38;5;124m\"\u001b[39m:\n\u001b[0;32m--> 469\u001b[0m     output[\u001b[38;5;124m\"\u001b[39m\u001b[38;5;124mtext/html\u001b[39m\u001b[38;5;124m\"\u001b[39m] \u001b[38;5;241m=\u001b[39m \u001b[43mestimator_html_repr\u001b[49m\u001b[43m(\u001b[49m\u001b[38;5;28;43mself\u001b[39;49m\u001b[43m)\u001b[49m\n\u001b[1;32m    470\u001b[0m \u001b[38;5;28;01mreturn\u001b[39;00m output\n",
      "File \u001b[0;32m~/Documents/Project M1/venv/lib/python3.10/site-packages/sklearn/utils/_estimator_html_repr.py:387\u001b[0m, in \u001b[0;36mestimator_html_repr\u001b[0;34m(estimator)\u001b[0m\n\u001b[1;32m    385\u001b[0m \u001b[38;5;28;01melse\u001b[39;00m:\n\u001b[1;32m    386\u001b[0m     \u001b[38;5;28;01mtry\u001b[39;00m:\n\u001b[0;32m--> 387\u001b[0m         \u001b[43mcheck_is_fitted\u001b[49m\u001b[43m(\u001b[49m\u001b[43mestimator\u001b[49m\u001b[43m)\u001b[49m\n\u001b[1;32m    388\u001b[0m         status_label \u001b[38;5;241m=\u001b[39m \u001b[38;5;124m\"\u001b[39m\u001b[38;5;124m<span>Fitted</span>\u001b[39m\u001b[38;5;124m\"\u001b[39m\n\u001b[1;32m    389\u001b[0m         is_fitted_css_class \u001b[38;5;241m=\u001b[39m \u001b[38;5;124m\"\u001b[39m\u001b[38;5;124mfitted\u001b[39m\u001b[38;5;124m\"\u001b[39m\n",
      "File \u001b[0;32m~/Documents/Project M1/venv/lib/python3.10/site-packages/sklearn/utils/validation.py:1751\u001b[0m, in \u001b[0;36mcheck_is_fitted\u001b[0;34m(estimator, attributes, msg, all_or_any)\u001b[0m\n\u001b[1;32m   1748\u001b[0m \u001b[38;5;28;01mif\u001b[39;00m \u001b[38;5;129;01mnot\u001b[39;00m \u001b[38;5;28mhasattr\u001b[39m(estimator, \u001b[38;5;124m\"\u001b[39m\u001b[38;5;124mfit\u001b[39m\u001b[38;5;124m\"\u001b[39m):\n\u001b[1;32m   1749\u001b[0m     \u001b[38;5;28;01mraise\u001b[39;00m \u001b[38;5;167;01mTypeError\u001b[39;00m(\u001b[38;5;124m\"\u001b[39m\u001b[38;5;132;01m%s\u001b[39;00m\u001b[38;5;124m is not an estimator instance.\u001b[39m\u001b[38;5;124m\"\u001b[39m \u001b[38;5;241m%\u001b[39m (estimator))\n\u001b[0;32m-> 1751\u001b[0m tags \u001b[38;5;241m=\u001b[39m \u001b[43mget_tags\u001b[49m\u001b[43m(\u001b[49m\u001b[43mestimator\u001b[49m\u001b[43m)\u001b[49m\n\u001b[1;32m   1753\u001b[0m \u001b[38;5;28;01mif\u001b[39;00m \u001b[38;5;129;01mnot\u001b[39;00m tags\u001b[38;5;241m.\u001b[39mrequires_fit \u001b[38;5;129;01mand\u001b[39;00m attributes \u001b[38;5;129;01mis\u001b[39;00m \u001b[38;5;28;01mNone\u001b[39;00m:\n\u001b[1;32m   1754\u001b[0m     \u001b[38;5;28;01mreturn\u001b[39;00m\n",
      "File \u001b[0;32m~/Documents/Project M1/venv/lib/python3.10/site-packages/sklearn/utils/_tags.py:430\u001b[0m, in \u001b[0;36mget_tags\u001b[0;34m(estimator)\u001b[0m\n\u001b[1;32m    428\u001b[0m \u001b[38;5;28;01mfor\u001b[39;00m klass \u001b[38;5;129;01min\u001b[39;00m \u001b[38;5;28mreversed\u001b[39m(\u001b[38;5;28mtype\u001b[39m(estimator)\u001b[38;5;241m.\u001b[39mmro()):\n\u001b[1;32m    429\u001b[0m     \u001b[38;5;28;01mif\u001b[39;00m \u001b[38;5;124m\"\u001b[39m\u001b[38;5;124m__sklearn_tags__\u001b[39m\u001b[38;5;124m\"\u001b[39m \u001b[38;5;129;01min\u001b[39;00m \u001b[38;5;28mvars\u001b[39m(klass):\n\u001b[0;32m--> 430\u001b[0m         sklearn_tags_provider[klass] \u001b[38;5;241m=\u001b[39m \u001b[43mklass\u001b[49m\u001b[38;5;241;43m.\u001b[39;49m\u001b[43m__sklearn_tags__\u001b[49m\u001b[43m(\u001b[49m\u001b[43mestimator\u001b[49m\u001b[43m)\u001b[49m  \u001b[38;5;66;03m# type: ignore[attr-defined]\u001b[39;00m\n\u001b[1;32m    431\u001b[0m         class_order\u001b[38;5;241m.\u001b[39mappend(klass)\n\u001b[1;32m    432\u001b[0m     \u001b[38;5;28;01melif\u001b[39;00m \u001b[38;5;124m\"\u001b[39m\u001b[38;5;124m_more_tags\u001b[39m\u001b[38;5;124m\"\u001b[39m \u001b[38;5;129;01min\u001b[39;00m \u001b[38;5;28mvars\u001b[39m(klass):\n",
      "File \u001b[0;32m~/Documents/Project M1/venv/lib/python3.10/site-packages/sklearn/base.py:540\u001b[0m, in \u001b[0;36mClassifierMixin.__sklearn_tags__\u001b[0;34m(self)\u001b[0m\n\u001b[1;32m    539\u001b[0m \u001b[38;5;28;01mdef\u001b[39;00m \u001b[38;5;21m__sklearn_tags__\u001b[39m(\u001b[38;5;28mself\u001b[39m):\n\u001b[0;32m--> 540\u001b[0m     tags \u001b[38;5;241m=\u001b[39m \u001b[38;5;28;43msuper\u001b[39;49m\u001b[43m(\u001b[49m\u001b[43m)\u001b[49m\u001b[38;5;241;43m.\u001b[39;49m\u001b[43m__sklearn_tags__\u001b[49m()\n\u001b[1;32m    541\u001b[0m     tags\u001b[38;5;241m.\u001b[39mestimator_type \u001b[38;5;241m=\u001b[39m \u001b[38;5;124m\"\u001b[39m\u001b[38;5;124mclassifier\u001b[39m\u001b[38;5;124m\"\u001b[39m\n\u001b[1;32m    542\u001b[0m     tags\u001b[38;5;241m.\u001b[39mclassifier_tags \u001b[38;5;241m=\u001b[39m ClassifierTags()\n",
      "\u001b[0;31mAttributeError\u001b[0m: 'super' object has no attribute '__sklearn_tags__'"
     ]
    },
    {
     "ename": "AttributeError",
     "evalue": "'super' object has no attribute '__sklearn_tags__'",
     "output_type": "error",
     "traceback": [
      "\u001b[0;31m---------------------------------------------------------------------------\u001b[0m",
      "\u001b[0;31mAttributeError\u001b[0m                            Traceback (most recent call last)",
      "File \u001b[0;32m~/Documents/Project M1/venv/lib/python3.10/site-packages/IPython/core/formatters.py:406\u001b[0m, in \u001b[0;36mBaseFormatter.__call__\u001b[0;34m(self, obj)\u001b[0m\n\u001b[1;32m    404\u001b[0m     method \u001b[38;5;241m=\u001b[39m get_real_method(obj, \u001b[38;5;28mself\u001b[39m\u001b[38;5;241m.\u001b[39mprint_method)\n\u001b[1;32m    405\u001b[0m     \u001b[38;5;28;01mif\u001b[39;00m method \u001b[38;5;129;01mis\u001b[39;00m \u001b[38;5;129;01mnot\u001b[39;00m \u001b[38;5;28;01mNone\u001b[39;00m:\n\u001b[0;32m--> 406\u001b[0m         \u001b[38;5;28;01mreturn\u001b[39;00m \u001b[43mmethod\u001b[49m\u001b[43m(\u001b[49m\u001b[43m)\u001b[49m\n\u001b[1;32m    407\u001b[0m     \u001b[38;5;28;01mreturn\u001b[39;00m \u001b[38;5;28;01mNone\u001b[39;00m\n\u001b[1;32m    408\u001b[0m \u001b[38;5;28;01melse\u001b[39;00m:\n",
      "File \u001b[0;32m~/Documents/Project M1/venv/lib/python3.10/site-packages/sklearn/base.py:463\u001b[0m, in \u001b[0;36mBaseEstimator._repr_html_inner\u001b[0;34m(self)\u001b[0m\n\u001b[1;32m    458\u001b[0m \u001b[38;5;28;01mdef\u001b[39;00m \u001b[38;5;21m_repr_html_inner\u001b[39m(\u001b[38;5;28mself\u001b[39m):\n\u001b[1;32m    459\u001b[0m \u001b[38;5;250m    \u001b[39m\u001b[38;5;124;03m\"\"\"This function is returned by the @property `_repr_html_` to make\u001b[39;00m\n\u001b[1;32m    460\u001b[0m \u001b[38;5;124;03m    `hasattr(estimator, \"_repr_html_\") return `True` or `False` depending\u001b[39;00m\n\u001b[1;32m    461\u001b[0m \u001b[38;5;124;03m    on `get_config()[\"display\"]`.\u001b[39;00m\n\u001b[1;32m    462\u001b[0m \u001b[38;5;124;03m    \"\"\"\u001b[39;00m\n\u001b[0;32m--> 463\u001b[0m     \u001b[38;5;28;01mreturn\u001b[39;00m \u001b[43mestimator_html_repr\u001b[49m\u001b[43m(\u001b[49m\u001b[38;5;28;43mself\u001b[39;49m\u001b[43m)\u001b[49m\n",
      "File \u001b[0;32m~/Documents/Project M1/venv/lib/python3.10/site-packages/sklearn/utils/_estimator_html_repr.py:387\u001b[0m, in \u001b[0;36mestimator_html_repr\u001b[0;34m(estimator)\u001b[0m\n\u001b[1;32m    385\u001b[0m \u001b[38;5;28;01melse\u001b[39;00m:\n\u001b[1;32m    386\u001b[0m     \u001b[38;5;28;01mtry\u001b[39;00m:\n\u001b[0;32m--> 387\u001b[0m         \u001b[43mcheck_is_fitted\u001b[49m\u001b[43m(\u001b[49m\u001b[43mestimator\u001b[49m\u001b[43m)\u001b[49m\n\u001b[1;32m    388\u001b[0m         status_label \u001b[38;5;241m=\u001b[39m \u001b[38;5;124m\"\u001b[39m\u001b[38;5;124m<span>Fitted</span>\u001b[39m\u001b[38;5;124m\"\u001b[39m\n\u001b[1;32m    389\u001b[0m         is_fitted_css_class \u001b[38;5;241m=\u001b[39m \u001b[38;5;124m\"\u001b[39m\u001b[38;5;124mfitted\u001b[39m\u001b[38;5;124m\"\u001b[39m\n",
      "File \u001b[0;32m~/Documents/Project M1/venv/lib/python3.10/site-packages/sklearn/utils/validation.py:1751\u001b[0m, in \u001b[0;36mcheck_is_fitted\u001b[0;34m(estimator, attributes, msg, all_or_any)\u001b[0m\n\u001b[1;32m   1748\u001b[0m \u001b[38;5;28;01mif\u001b[39;00m \u001b[38;5;129;01mnot\u001b[39;00m \u001b[38;5;28mhasattr\u001b[39m(estimator, \u001b[38;5;124m\"\u001b[39m\u001b[38;5;124mfit\u001b[39m\u001b[38;5;124m\"\u001b[39m):\n\u001b[1;32m   1749\u001b[0m     \u001b[38;5;28;01mraise\u001b[39;00m \u001b[38;5;167;01mTypeError\u001b[39;00m(\u001b[38;5;124m\"\u001b[39m\u001b[38;5;132;01m%s\u001b[39;00m\u001b[38;5;124m is not an estimator instance.\u001b[39m\u001b[38;5;124m\"\u001b[39m \u001b[38;5;241m%\u001b[39m (estimator))\n\u001b[0;32m-> 1751\u001b[0m tags \u001b[38;5;241m=\u001b[39m \u001b[43mget_tags\u001b[49m\u001b[43m(\u001b[49m\u001b[43mestimator\u001b[49m\u001b[43m)\u001b[49m\n\u001b[1;32m   1753\u001b[0m \u001b[38;5;28;01mif\u001b[39;00m \u001b[38;5;129;01mnot\u001b[39;00m tags\u001b[38;5;241m.\u001b[39mrequires_fit \u001b[38;5;129;01mand\u001b[39;00m attributes \u001b[38;5;129;01mis\u001b[39;00m \u001b[38;5;28;01mNone\u001b[39;00m:\n\u001b[1;32m   1754\u001b[0m     \u001b[38;5;28;01mreturn\u001b[39;00m\n",
      "File \u001b[0;32m~/Documents/Project M1/venv/lib/python3.10/site-packages/sklearn/utils/_tags.py:430\u001b[0m, in \u001b[0;36mget_tags\u001b[0;34m(estimator)\u001b[0m\n\u001b[1;32m    428\u001b[0m \u001b[38;5;28;01mfor\u001b[39;00m klass \u001b[38;5;129;01min\u001b[39;00m \u001b[38;5;28mreversed\u001b[39m(\u001b[38;5;28mtype\u001b[39m(estimator)\u001b[38;5;241m.\u001b[39mmro()):\n\u001b[1;32m    429\u001b[0m     \u001b[38;5;28;01mif\u001b[39;00m \u001b[38;5;124m\"\u001b[39m\u001b[38;5;124m__sklearn_tags__\u001b[39m\u001b[38;5;124m\"\u001b[39m \u001b[38;5;129;01min\u001b[39;00m \u001b[38;5;28mvars\u001b[39m(klass):\n\u001b[0;32m--> 430\u001b[0m         sklearn_tags_provider[klass] \u001b[38;5;241m=\u001b[39m \u001b[43mklass\u001b[49m\u001b[38;5;241;43m.\u001b[39;49m\u001b[43m__sklearn_tags__\u001b[49m\u001b[43m(\u001b[49m\u001b[43mestimator\u001b[49m\u001b[43m)\u001b[49m  \u001b[38;5;66;03m# type: ignore[attr-defined]\u001b[39;00m\n\u001b[1;32m    431\u001b[0m         class_order\u001b[38;5;241m.\u001b[39mappend(klass)\n\u001b[1;32m    432\u001b[0m     \u001b[38;5;28;01melif\u001b[39;00m \u001b[38;5;124m\"\u001b[39m\u001b[38;5;124m_more_tags\u001b[39m\u001b[38;5;124m\"\u001b[39m \u001b[38;5;129;01min\u001b[39;00m \u001b[38;5;28mvars\u001b[39m(klass):\n",
      "File \u001b[0;32m~/Documents/Project M1/venv/lib/python3.10/site-packages/sklearn/base.py:540\u001b[0m, in \u001b[0;36mClassifierMixin.__sklearn_tags__\u001b[0;34m(self)\u001b[0m\n\u001b[1;32m    539\u001b[0m \u001b[38;5;28;01mdef\u001b[39;00m \u001b[38;5;21m__sklearn_tags__\u001b[39m(\u001b[38;5;28mself\u001b[39m):\n\u001b[0;32m--> 540\u001b[0m     tags \u001b[38;5;241m=\u001b[39m \u001b[38;5;28;43msuper\u001b[39;49m\u001b[43m(\u001b[49m\u001b[43m)\u001b[49m\u001b[38;5;241;43m.\u001b[39;49m\u001b[43m__sklearn_tags__\u001b[49m()\n\u001b[1;32m    541\u001b[0m     tags\u001b[38;5;241m.\u001b[39mestimator_type \u001b[38;5;241m=\u001b[39m \u001b[38;5;124m\"\u001b[39m\u001b[38;5;124mclassifier\u001b[39m\u001b[38;5;124m\"\u001b[39m\n\u001b[1;32m    542\u001b[0m     tags\u001b[38;5;241m.\u001b[39mclassifier_tags \u001b[38;5;241m=\u001b[39m ClassifierTags()\n",
      "\u001b[0;31mAttributeError\u001b[0m: 'super' object has no attribute '__sklearn_tags__'"
     ]
    },
    {
     "data": {
      "text/plain": [
       "XGBClassifier(alpha=0.055466571100172654, base_score=None, booster='gbtree',\n",
       "              callbacks=None, colsample_bylevel=None, colsample_bynode=None,\n",
       "              colsample_bytree=0.8973623981283936, device=None,\n",
       "              early_stopping_rounds=None, enable_categorical=False,\n",
       "              eta=0.1686620481836618, eval_metric='logloss', feature_types=None,\n",
       "              gamma=None, grow_policy=None, importance_type=None,\n",
       "              interaction_constraints=None, lambda=1.0182160431676457,\n",
       "              learning_rate=None, max_bin=None, max_cat_threshold=None,\n",
       "              max_cat_to_onehot=None, max_delta_step=None, max_depth=10,\n",
       "              max_leaves=None, min_child_weight=1.1815286614813103, missing=nan,\n",
       "              monotone_constraints=None, multi_strategy=None, n_estimators=None, ...)"
      ]
     },
     "execution_count": 22,
     "metadata": {},
     "output_type": "execute_result"
    }
   ],
   "source": [
    "# Step 7: Train the final model with the best hyperparameters\n",
    "best_params = study.best_params\n",
    "best_params.update({\n",
    "    'objective': 'binary:logistic',\n",
    "    'eval_metric': 'logloss',\n",
    "    'use_label_encoder': False  # Avoid deprecation warning\n",
    "})\n",
    "final_model = xgb.XGBClassifier(**best_params, random_state=42)\n",
    "final_model.fit(X_train_scaled, y_train)\n"
   ]
  },
  {
   "cell_type": "code",
   "execution_count": 23,
   "id": "48ccadf5-77d0-46a2-a936-09151f349d7d",
   "metadata": {},
   "outputs": [
    {
     "name": "stdout",
     "output_type": "stream",
     "text": [
      "\n",
      "Test Accuracy: 0.7802298850574713\n",
      "\n",
      "Classification Report:\n",
      "               precision    recall  f1-score   support\n",
      "\n",
      "           0       0.70      0.54      0.61       698\n",
      "           1       0.81      0.89      0.85      1477\n",
      "\n",
      "    accuracy                           0.78      2175\n",
      "   macro avg       0.75      0.72      0.73      2175\n",
      "weighted avg       0.77      0.78      0.77      2175\n",
      "\n"
     ]
    }
   ],
   "source": [
    "# Step 8: Evaluate the model on the test set\n",
    "y_pred = final_model.predict(X_test_scaled)\n",
    "accuracy = accuracy_score(y_test, y_pred)\n",
    "print(\"\\nTest Accuracy:\", accuracy)\n",
    "print(\"\\nClassification Report:\\n\", classification_report(y_test, y_pred))\n"
   ]
  },
  {
   "cell_type": "code",
   "execution_count": 24,
   "id": "7f9c1a64-5991-4c60-82c9-18f0132fbbac",
   "metadata": {},
   "outputs": [
    {
     "data": {
      "image/png": "[encoded data removed]",
      "text/plain": [
       "<Figure size 600x400 with 2 Axes>"
      ]
     },
     "metadata": {},
     "output_type": "display_data"
    }
   ],
   "source": [
    "# Generate confusion matrix\n",
    "cm = confusion_matrix(y_test, y_pred)\n",
    "\n",
    "# Plot confusion matrix as heatmap\n",
    "plt.figure(figsize=(6, 4))\n",
    "sns.heatmap(cm, annot=True, fmt='d', cmap='Blues', xticklabels=['Sell', 'Buy'], yticklabels=['Sell', 'Buy'])\n",
    "plt.title('Confusion Matrix  XgBooost')\n",
    "plt.xlabel('Predicted')\n",
    "plt.ylabel('Actual')\n",
    "plt.show()\n"
   ]
  },
  {
   "cell_type": "markdown",
   "id": "efb8e894-ba62-4a2c-a4e1-faed99ba99d8",
   "metadata": {},
   "source": [
    "## Random Forest Classifier"
   ]
  },
  {
   "cell_type": "code",
   "execution_count": 25,
   "id": "147fe2fe-d39d-43ff-8936-2df808c13d2d",
   "metadata": {},
   "outputs": [
    {
     "name": "stderr",
     "output_type": "stream",
     "text": [
      "[I 2025-01-17 20:36:04,689] A new study created in memory with name: no-name-24deb107-1fc9-4fb9-9802-5b817b1beabe\n",
      "[I 2025-01-17 20:36:18,922] Trial 0 finished with value: 0.769008950178757 and parameters: {'n_estimators': 96, 'max_depth': 7, 'min_samples_split': 3, 'min_samples_leaf': 7, 'max_features': None, 'bootstrap': False}. Best is trial 0 with value: 0.769008950178757.\n",
      "[I 2025-01-17 20:36:23,780] Trial 1 finished with value: 0.5457119537615623 and parameters: {'n_estimators': 107, 'max_depth': 11, 'min_samples_split': 15, 'min_samples_leaf': 13, 'max_features': 'log2', 'bootstrap': False}. Best is trial 1 with value: 0.5457119537615623.\n",
      "[I 2025-01-17 20:36:41,285] Trial 2 finished with value: 3.247216882462486 and parameters: {'n_estimators': 78, 'max_depth': 15, 'min_samples_split': 11, 'min_samples_leaf': 2, 'max_features': None, 'bootstrap': False}. Best is trial 1 with value: 0.5457119537615623.\n",
      "[I 2025-01-17 20:36:44,716] Trial 3 finished with value: 0.5491227320435754 and parameters: {'n_estimators': 116, 'max_depth': 18, 'min_samples_split': 13, 'min_samples_leaf': 15, 'max_features': 'log2', 'bootstrap': True}. Best is trial 1 with value: 0.5457119537615623.\n",
      "[I 2025-01-17 20:36:58,416] Trial 4 finished with value: 0.5144231405185897 and parameters: {'n_estimators': 86, 'max_depth': 18, 'min_samples_split': 11, 'min_samples_leaf': 4, 'max_features': None, 'bootstrap': True}. Best is trial 4 with value: 0.5144231405185897.\n",
      "[I 2025-01-17 20:37:01,403] Trial 5 finished with value: 0.5186078664213721 and parameters: {'n_estimators': 78, 'max_depth': 18, 'min_samples_split': 10, 'min_samples_leaf': 2, 'max_features': 'sqrt', 'bootstrap': True}. Best is trial 4 with value: 0.5144231405185897.\n",
      "[I 2025-01-17 20:37:09,031] Trial 6 finished with value: 0.5413639627984079 and parameters: {'n_estimators': 176, 'max_depth': 11, 'min_samples_split': 5, 'min_samples_leaf': 8, 'max_features': 'log2', 'bootstrap': False}. Best is trial 4 with value: 0.5144231405185897.\n",
      "[I 2025-01-17 20:37:37,555] Trial 7 finished with value: 0.5420460191975434 and parameters: {'n_estimators': 200, 'max_depth': 20, 'min_samples_split': 18, 'min_samples_leaf': 18, 'max_features': None, 'bootstrap': True}. Best is trial 4 with value: 0.5144231405185897.\n",
      "[I 2025-01-17 20:38:03,982] Trial 8 finished with value: 0.5334410485076818 and parameters: {'n_estimators': 195, 'max_depth': 16, 'min_samples_split': 14, 'min_samples_leaf': 11, 'max_features': None, 'bootstrap': True}. Best is trial 4 with value: 0.5144231405185897.\n",
      "[I 2025-01-17 20:38:05,895] Trial 9 finished with value: 0.575299059848349 and parameters: {'n_estimators': 74, 'max_depth': 6, 'min_samples_split': 6, 'min_samples_leaf': 15, 'max_features': 'log2', 'bootstrap': False}. Best is trial 4 with value: 0.5144231405185897.\n",
      "[I 2025-01-17 20:38:10,300] Trial 10 finished with value: 0.5379112873144427 and parameters: {'n_estimators': 144, 'max_depth': 14, 'min_samples_split': 8, 'min_samples_leaf': 6, 'max_features': 'sqrt', 'bootstrap': True}. Best is trial 4 with value: 0.5144231405185897.\n",
      "[I 2025-01-17 20:38:12,701] Trial 11 finished with value: 0.5156078564062501 and parameters: {'n_estimators': 64, 'max_depth': 20, 'min_samples_split': 9, 'min_samples_leaf': 2, 'max_features': 'sqrt', 'bootstrap': True}. Best is trial 4 with value: 0.5144231405185897.\n",
      "[I 2025-01-17 20:38:14,630] Trial 12 finished with value: 0.5244343795150834 and parameters: {'n_estimators': 55, 'max_depth': 19, 'min_samples_split': 9, 'min_samples_leaf': 4, 'max_features': 'sqrt', 'bootstrap': True}. Best is trial 4 with value: 0.5144231405185897.\n",
      "[I 2025-01-17 20:38:19,572] Trial 13 finished with value: 0.5246864349888847 and parameters: {'n_estimators': 142, 'max_depth': 20, 'min_samples_split': 19, 'min_samples_leaf': 1, 'max_features': 'sqrt', 'bootstrap': True}. Best is trial 4 with value: 0.5144231405185897.\n",
      "[I 2025-01-17 20:38:28,305] Trial 14 finished with value: 0.5276105935922402 and parameters: {'n_estimators': 62, 'max_depth': 14, 'min_samples_split': 7, 'min_samples_leaf': 5, 'max_features': None, 'bootstrap': True}. Best is trial 4 with value: 0.5144231405185897.\n",
      "[I 2025-01-17 20:38:31,252] Trial 15 finished with value: 0.5392445846119985 and parameters: {'n_estimators': 95, 'max_depth': 17, 'min_samples_split': 12, 'min_samples_leaf': 9, 'max_features': 'sqrt', 'bootstrap': True}. Best is trial 4 with value: 0.5144231405185897.\n",
      "[I 2025-01-17 20:38:33,426] Trial 16 finished with value: 0.5875556190497147 and parameters: {'n_estimators': 51, 'max_depth': 3, 'min_samples_split': 16, 'min_samples_leaf': 4, 'max_features': None, 'bootstrap': True}. Best is trial 4 with value: 0.5144231405185897.\n",
      "[I 2025-01-17 20:38:36,856] Trial 17 finished with value: 0.5582127522598042 and parameters: {'n_estimators': 128, 'max_depth': 13, 'min_samples_split': 2, 'min_samples_leaf': 20, 'max_features': 'sqrt', 'bootstrap': True}. Best is trial 4 with value: 0.5144231405185897.\n",
      "[I 2025-01-17 20:38:39,167] Trial 18 finished with value: 0.5587019953663565 and parameters: {'n_estimators': 94, 'max_depth': 9, 'min_samples_split': 11, 'min_samples_leaf': 3, 'max_features': 'sqrt', 'bootstrap': True}. Best is trial 4 with value: 0.5144231405185897.\n",
      "[I 2025-01-17 20:38:50,023] Trial 19 finished with value: 0.5104857902584514 and parameters: {'n_estimators': 66, 'max_depth': 17, 'min_samples_split': 4, 'min_samples_leaf': 1, 'max_features': None, 'bootstrap': True}. Best is trial 19 with value: 0.5104857902584514.\n",
      "[I 2025-01-17 20:39:01,384] Trial 20 finished with value: 0.5329684439500273 and parameters: {'n_estimators': 85, 'max_depth': 16, 'min_samples_split': 4, 'min_samples_leaf': 10, 'max_features': None, 'bootstrap': True}. Best is trial 19 with value: 0.5104857902584514.\n",
      "[I 2025-01-17 20:39:12,154] Trial 21 finished with value: 0.5088627272856331 and parameters: {'n_estimators': 66, 'max_depth': 18, 'min_samples_split': 8, 'min_samples_leaf': 1, 'max_features': None, 'bootstrap': True}. Best is trial 21 with value: 0.5088627272856331.\n",
      "[I 2025-01-17 20:39:22,859] Trial 22 finished with value: 0.5124990689815766 and parameters: {'n_estimators': 67, 'max_depth': 17, 'min_samples_split': 6, 'min_samples_leaf': 1, 'max_features': None, 'bootstrap': True}. Best is trial 21 with value: 0.5088627272856331.\n",
      "[I 2025-01-17 20:39:33,762] Trial 23 finished with value: 0.5123339486499223 and parameters: {'n_estimators': 69, 'max_depth': 16, 'min_samples_split': 6, 'min_samples_leaf': 1, 'max_features': None, 'bootstrap': True}. Best is trial 21 with value: 0.5088627272856331.\n",
      "[I 2025-01-17 20:39:40,732] Trial 24 finished with value: 0.5345116437413372 and parameters: {'n_estimators': 54, 'max_depth': 13, 'min_samples_split': 4, 'min_samples_leaf': 6, 'max_features': None, 'bootstrap': True}. Best is trial 21 with value: 0.5088627272856331.\n",
      "[I 2025-01-17 20:39:58,039] Trial 25 finished with value: 0.5130535905702264 and parameters: {'n_estimators': 109, 'max_depth': 16, 'min_samples_split': 7, 'min_samples_leaf': 1, 'max_features': None, 'bootstrap': True}. Best is trial 21 with value: 0.5088627272856331.\n",
      "[I 2025-01-17 20:40:13,478] Trial 26 finished with value: 3.444528940985532 and parameters: {'n_estimators': 66, 'max_depth': 15, 'min_samples_split': 2, 'min_samples_leaf': 3, 'max_features': None, 'bootstrap': False}. Best is trial 21 with value: 0.5088627272856331.\n",
      "[I 2025-01-17 20:40:31,464] Trial 27 finished with value: 0.535968847035 and parameters: {'n_estimators': 130, 'max_depth': 12, 'min_samples_split': 5, 'min_samples_leaf': 5, 'max_features': None, 'bootstrap': True}. Best is trial 21 with value: 0.5088627272856331.\n",
      "[I 2025-01-17 20:40:39,795] Trial 28 finished with value: 0.508453345086659 and parameters: {'n_estimators': 50, 'max_depth': 19, 'min_samples_split': 8, 'min_samples_leaf': 3, 'max_features': None, 'bootstrap': True}. Best is trial 28 with value: 0.508453345086659.\n",
      "[I 2025-01-17 20:40:52,939] Trial 29 finished with value: 3.172893079787542 and parameters: {'n_estimators': 51, 'max_depth': 19, 'min_samples_split': 8, 'min_samples_leaf': 6, 'max_features': None, 'bootstrap': False}. Best is trial 28 with value: 0.508453345086659.\n",
      "[I 2025-01-17 20:41:06,230] Trial 30 finished with value: 0.5201127888079297 and parameters: {'n_estimators': 87, 'max_depth': 19, 'min_samples_split': 3, 'min_samples_leaf': 7, 'max_features': None, 'bootstrap': True}. Best is trial 28 with value: 0.508453345086659.\n",
      "[I 2025-01-17 20:41:17,989] Trial 31 finished with value: 0.511954387885918 and parameters: {'n_estimators': 71, 'max_depth': 17, 'min_samples_split': 6, 'min_samples_leaf': 1, 'max_features': None, 'bootstrap': True}. Best is trial 28 with value: 0.508453345086659.\n",
      "[I 2025-01-17 20:41:27,457] Trial 32 finished with value: 0.5133441834990005 and parameters: {'n_estimators': 59, 'max_depth': 17, 'min_samples_split': 8, 'min_samples_leaf': 3, 'max_features': None, 'bootstrap': True}. Best is trial 28 with value: 0.508453345086659.\n",
      "[I 2025-01-17 20:41:40,294] Trial 33 finished with value: 0.5051414385076207 and parameters: {'n_estimators': 76, 'max_depth': 18, 'min_samples_split': 4, 'min_samples_leaf': 2, 'max_features': None, 'bootstrap': True}. Best is trial 33 with value: 0.5051414385076207.\n",
      "[I 2025-01-17 20:41:45,658] Trial 34 finished with value: 0.4873201367905414 and parameters: {'n_estimators': 100, 'max_depth': 19, 'min_samples_split': 4, 'min_samples_leaf': 3, 'max_features': 'log2', 'bootstrap': False}. Best is trial 34 with value: 0.4873201367905414.\n",
      "[I 2025-01-17 20:41:49,713] Trial 35 finished with value: 0.5522114190367334 and parameters: {'n_estimators': 113, 'max_depth': 9, 'min_samples_split': 3, 'min_samples_leaf': 3, 'max_features': 'log2', 'bootstrap': False}. Best is trial 34 with value: 0.4873201367905414.\n",
      "[I 2025-01-17 20:41:54,812] Trial 36 finished with value: 0.4987117957937529 and parameters: {'n_estimators': 100, 'max_depth': 19, 'min_samples_split': 9, 'min_samples_leaf': 5, 'max_features': 'log2', 'bootstrap': False}. Best is trial 34 with value: 0.4873201367905414.\n",
      "[I 2025-01-17 20:41:59,808] Trial 37 finished with value: 0.510611647557397 and parameters: {'n_estimators': 102, 'max_depth': 19, 'min_samples_split': 10, 'min_samples_leaf': 8, 'max_features': 'log2', 'bootstrap': False}. Best is trial 34 with value: 0.4873201367905414.\n",
      "[I 2025-01-17 20:42:05,770] Trial 38 finished with value: 0.5032690755231279 and parameters: {'n_estimators': 120, 'max_depth': 18, 'min_samples_split': 13, 'min_samples_leaf': 5, 'max_features': 'log2', 'bootstrap': False}. Best is trial 34 with value: 0.4873201367905414.\n",
      "[I 2025-01-17 20:42:11,633] Trial 39 finished with value: 0.5024530551575697 and parameters: {'n_estimators': 116, 'max_depth': 20, 'min_samples_split': 16, 'min_samples_leaf': 5, 'max_features': 'log2', 'bootstrap': False}. Best is trial 34 with value: 0.4873201367905414.\n",
      "[I 2025-01-17 20:42:17,112] Trial 40 finished with value: 0.5220436217393492 and parameters: {'n_estimators': 119, 'max_depth': 20, 'min_samples_split': 15, 'min_samples_leaf': 12, 'max_features': 'log2', 'bootstrap': False}. Best is trial 34 with value: 0.4873201367905414.\n",
      "[I 2025-01-17 20:42:22,267] Trial 41 finished with value: 0.5076205508169872 and parameters: {'n_estimators': 102, 'max_depth': 18, 'min_samples_split': 16, 'min_samples_leaf': 5, 'max_features': 'log2', 'bootstrap': False}. Best is trial 34 with value: 0.4873201367905414.\n",
      "[I 2025-01-17 20:42:29,098] Trial 42 finished with value: 0.5046064768949776 and parameters: {'n_estimators': 136, 'max_depth': 20, 'min_samples_split': 14, 'min_samples_leaf': 7, 'max_features': 'log2', 'bootstrap': False}. Best is trial 34 with value: 0.4873201367905414.\n",
      "[I 2025-01-17 20:42:36,400] Trial 43 finished with value: 0.5045958868587531 and parameters: {'n_estimators': 140, 'max_depth': 20, 'min_samples_split': 13, 'min_samples_leaf': 7, 'max_features': 'log2', 'bootstrap': False}. Best is trial 34 with value: 0.4873201367905414.\n",
      "[I 2025-01-17 20:42:43,715] Trial 44 finished with value: 0.5095037105618684 and parameters: {'n_estimators': 150, 'max_depth': 20, 'min_samples_split': 12, 'min_samples_leaf': 8, 'max_features': 'log2', 'bootstrap': False}. Best is trial 34 with value: 0.4873201367905414.\n",
      "[I 2025-01-17 20:42:51,480] Trial 45 finished with value: 0.5070501978879276 and parameters: {'n_estimators': 154, 'max_depth': 18, 'min_samples_split': 17, 'min_samples_leaf': 4, 'max_features': 'log2', 'bootstrap': False}. Best is trial 34 with value: 0.4873201367905414.\n",
      "[I 2025-01-17 20:42:57,543] Trial 46 finished with value: 0.5034236366983424 and parameters: {'n_estimators': 122, 'max_depth': 19, 'min_samples_split': 13, 'min_samples_leaf': 6, 'max_features': 'log2', 'bootstrap': False}. Best is trial 34 with value: 0.4873201367905414.\n",
      "[I 2025-01-17 20:43:03,606] Trial 47 finished with value: 0.5215979095578229 and parameters: {'n_estimators': 121, 'max_depth': 15, 'min_samples_split': 20, 'min_samples_leaf': 5, 'max_features': 'log2', 'bootstrap': False}. Best is trial 34 with value: 0.4873201367905414.\n",
      "[I 2025-01-17 20:43:09,801] Trial 48 finished with value: 0.5135641448187063 and parameters: {'n_estimators': 112, 'max_depth': 19, 'min_samples_split': 14, 'min_samples_leaf': 9, 'max_features': 'log2', 'bootstrap': False}. Best is trial 34 with value: 0.4873201367905414.\n",
      "[I 2025-01-17 20:43:11,693] Trial 49 finished with value: 0.5885866139316953 and parameters: {'n_estimators': 105, 'max_depth': 3, 'min_samples_split': 13, 'min_samples_leaf': 15, 'max_features': 'log2', 'bootstrap': False}. Best is trial 34 with value: 0.4873201367905414.\n"
     ]
    }
   ],
   "source": [
    "import optuna\n",
    "from sklearn.ensemble import RandomForestClassifier\n",
    "from sklearn.model_selection import cross_val_score\n",
    "from sklearn.metrics import log_loss\n",
    "\n",
    "\n",
    "def objectiveRD(trial):\n",
    "    params = {\n",
    "        'n_estimators': trial.suggest_int('n_estimators', 50, 200),\n",
    "        'max_depth': trial.suggest_int('max_depth', 3, 20),\n",
    "        'min_samples_split': trial.suggest_int('min_samples_split', 2, 20),\n",
    "        'min_samples_leaf': trial.suggest_int('min_samples_leaf', 1, 20),\n",
    "        'max_features': trial.suggest_categorical('max_features', ['sqrt', 'log2', None]),\n",
    "        'bootstrap': trial.suggest_categorical('bootstrap', [True, False])\n",
    "    }\n",
    "    \n",
    "    # Créer le modèle RandomForest\n",
    "    model = RandomForestClassifier(**params, random_state=42)\n",
    "    \n",
    "    # Évaluation avec validation croisée\n",
    "    scores = cross_val_score(model, X_train_scaled, y_train, cv=5, scoring='neg_log_loss', n_jobs=-1)\n",
    "    \n",
    "    return -np.mean(scores)  # Minimiser la log loss\n",
    "\n",
    "# Étape d'optimisation avec Optuna\n",
    "study = optuna.create_study(direction=\"minimize\")\n",
    "study.optimize(objectiveRD, n_trials=50)"
   ]
  },
  {
   "cell_type": "code",
   "execution_count": 26,
   "id": "a1a4f1ba",
   "metadata": {},
   "outputs": [
    {
     "data": {
      "text/html": [
       "<style>#sk-container-id-1 {\n",
       "  /* Definition of color scheme common for light and dark mode */\n",
       "  --sklearn-color-text: #000;\n",
       "  --sklearn-color-text-muted: #666;\n",
       "  --sklearn-color-line: gray;\n",
       "  /* Definition of color scheme for unfitted estimators */\n",
       "  --sklearn-color-unfitted-level-0: #fff5e6;\n",
       "  --sklearn-color-unfitted-level-1: #f6e4d2;\n",
       "  --sklearn-color-unfitted-level-2: #ffe0b3;\n",
       "  --sklearn-color-unfitted-level-3: chocolate;\n",
       "  /* Definition of color scheme for fitted estimators */\n",
       "  --sklearn-color-fitted-level-0: #f0f8ff;\n",
       "  --sklearn-color-fitted-level-1: #d4ebff;\n",
       "  --sklearn-color-fitted-level-2: #b3dbfd;\n",
       "  --sklearn-color-fitted-level-3: cornflowerblue;\n",
       "\n",
       "  /* Specific color for light theme */\n",
       "  --sklearn-color-text-on-default-background: var(--sg-text-color, var(--theme-code-foreground, var(--jp-content-font-color1, black)));\n",
       "  --sklearn-color-background: var(--sg-background-color, var(--theme-background, var(--jp-layout-color0, white)));\n",
       "  --sklearn-color-border-box: var(--sg-text-color, var(--theme-code-foreground, var(--jp-content-font-color1, black)));\n",
       "  --sklearn-color-icon: #696969;\n",
       "\n",
       "  @media (prefers-color-scheme: dark) {\n",
       "    /* Redefinition of color scheme for dark theme */\n",
       "    --sklearn-color-text-on-default-background: var(--sg-text-color, var(--theme-code-foreground, var(--jp-content-font-color1, white)));\n",
       "    --sklearn-color-background: var(--sg-background-color, var(--theme-background, var(--jp-layout-color0, #111)));\n",
       "    --sklearn-color-border-box: var(--sg-text-color, var(--theme-code-foreground, var(--jp-content-font-color1, white)));\n",
       "    --sklearn-color-icon: #878787;\n",
       "  }\n",
       "}\n",
       "\n",
       "#sk-container-id-1 {\n",
       "  color: var(--sklearn-color-text);\n",
       "}\n",
       "\n",
       "#sk-container-id-1 pre {\n",
       "  padding: 0;\n",
       "}\n",
       "\n",
       "#sk-container-id-1 input.sk-hidden--visually {\n",
       "  border: 0;\n",
       "  clip: rect(1px 1px 1px 1px);\n",
       "  clip: rect(1px, 1px, 1px, 1px);\n",
       "  height: 1px;\n",
       "  margin: -1px;\n",
       "  overflow: hidden;\n",
       "  padding: 0;\n",
       "  position: absolute;\n",
       "  width: 1px;\n",
       "}\n",
       "\n",
       "#sk-container-id-1 div.sk-dashed-wrapped {\n",
       "  border: 1px dashed var(--sklearn-color-line);\n",
       "  margin: 0 0.4em 0.5em 0.4em;\n",
       "  box-sizing: border-box;\n",
       "  padding-bottom: 0.4em;\n",
       "  background-color: var(--sklearn-color-background);\n",
       "}\n",
       "\n",
       "#sk-container-id-1 div.sk-container {\n",
       "  /* jupyter's `normalize.less` sets `[hidden] { display: none; }`\n",
       "     but bootstrap.min.css set `[hidden] { display: none !important; }`\n",
       "     so we also need the `!important` here to be able to override the\n",
       "     default hidden behavior on the sphinx rendered scikit-learn.org.\n",
       "     See: https://github.com/scikit-learn/scikit-learn/issues/21755 */\n",
       "  display: inline-block !important;\n",
       "  position: relative;\n",
       "}\n",
       "\n",
       "#sk-container-id-1 div.sk-text-repr-fallback {\n",
       "  display: none;\n",
       "}\n",
       "\n",
       "div.sk-parallel-item,\n",
       "div.sk-serial,\n",
       "div.sk-item {\n",
       "  /* draw centered vertical line to link estimators */\n",
       "  background-image: linear-gradient(var(--sklearn-color-text-on-default-background), var(--sklearn-color-text-on-default-background));\n",
       "  background-size: 2px 100%;\n",
       "  background-repeat: no-repeat;\n",
       "  background-position: center center;\n",
       "}\n",
       "\n",
       "/* Parallel-specific style estimator block */\n",
       "\n",
       "#sk-container-id-1 div.sk-parallel-item::after {\n",
       "  content: \"\";\n",
       "  width: 100%;\n",
       "  border-bottom: 2px solid var(--sklearn-color-text-on-default-background);\n",
       "  flex-grow: 1;\n",
       "}\n",
       "\n",
       "#sk-container-id-1 div.sk-parallel {\n",
       "  display: flex;\n",
       "  align-items: stretch;\n",
       "  justify-content: center;\n",
       "  background-color: var(--sklearn-color-background);\n",
       "  position: relative;\n",
       "}\n",
       "\n",
       "#sk-container-id-1 div.sk-parallel-item {\n",
       "  display: flex;\n",
       "  flex-direction: column;\n",
       "}\n",
       "\n",
       "#sk-container-id-1 div.sk-parallel-item:first-child::after {\n",
       "  align-self: flex-end;\n",
       "  width: 50%;\n",
       "}\n",
       "\n",
       "#sk-container-id-1 div.sk-parallel-item:last-child::after {\n",
       "  align-self: flex-start;\n",
       "  width: 50%;\n",
       "}\n",
       "\n",
       "#sk-container-id-1 div.sk-parallel-item:only-child::after {\n",
       "  width: 0;\n",
       "}\n",
       "\n",
       "/* Serial-specific style estimator block */\n",
       "\n",
       "#sk-container-id-1 div.sk-serial {\n",
       "  display: flex;\n",
       "  flex-direction: column;\n",
       "  align-items: center;\n",
       "  background-color: var(--sklearn-color-background);\n",
       "  padding-right: 1em;\n",
       "  padding-left: 1em;\n",
       "}\n",
       "\n",
       "\n",
       "/* Toggleable style: style used for estimator/Pipeline/ColumnTransformer box that is\n",
       "clickable and can be expanded/collapsed.\n",
       "- Pipeline and ColumnTransformer use this feature and define the default style\n",
       "- Estimators will overwrite some part of the style using the `sk-estimator` class\n",
       "*/\n",
       "\n",
       "/* Pipeline and ColumnTransformer style (default) */\n",
       "\n",
       "#sk-container-id-1 div.sk-toggleable {\n",
       "  /* Default theme specific background. It is overwritten whether we have a\n",
       "  specific estimator or a Pipeline/ColumnTransformer */\n",
       "  background-color: var(--sklearn-color-background);\n",
       "}\n",
       "\n",
       "/* Toggleable label */\n",
       "#sk-container-id-1 label.sk-toggleable__label {\n",
       "  cursor: pointer;\n",
       "  display: flex;\n",
       "  width: 100%;\n",
       "  margin-bottom: 0;\n",
       "  padding: 0.5em;\n",
       "  box-sizing: border-box;\n",
       "  text-align: center;\n",
       "  align-items: start;\n",
       "  justify-content: space-between;\n",
       "  gap: 0.5em;\n",
       "}\n",
       "\n",
       "#sk-container-id-1 label.sk-toggleable__label .caption {\n",
       "  font-size: 0.6rem;\n",
       "  font-weight: lighter;\n",
       "  color: var(--sklearn-color-text-muted);\n",
       "}\n",
       "\n",
       "#sk-container-id-1 label.sk-toggleable__label-arrow:before {\n",
       "  /* Arrow on the left of the label */\n",
       "  content: \"▸\";\n",
       "  float: left;\n",
       "  margin-right: 0.25em;\n",
       "  color: var(--sklearn-color-icon);\n",
       "}\n",
       "\n",
       "#sk-container-id-1 label.sk-toggleable__label-arrow:hover:before {\n",
       "  color: var(--sklearn-color-text);\n",
       "}\n",
       "\n",
       "/* Toggleable content - dropdown */\n",
       "\n",
       "#sk-container-id-1 div.sk-toggleable__content {\n",
       "  max-height: 0;\n",
       "  max-width: 0;\n",
       "  overflow: hidden;\n",
       "  text-align: left;\n",
       "  /* unfitted */\n",
       "  background-color: var(--sklearn-color-unfitted-level-0);\n",
       "}\n",
       "\n",
       "#sk-container-id-1 div.sk-toggleable__content.fitted {\n",
       "  /* fitted */\n",
       "  background-color: var(--sklearn-color-fitted-level-0);\n",
       "}\n",
       "\n",
       "#sk-container-id-1 div.sk-toggleable__content pre {\n",
       "  margin: 0.2em;\n",
       "  border-radius: 0.25em;\n",
       "  color: var(--sklearn-color-text);\n",
       "  /* unfitted */\n",
       "  background-color: var(--sklearn-color-unfitted-level-0);\n",
       "}\n",
       "\n",
       "#sk-container-id-1 div.sk-toggleable__content.fitted pre {\n",
       "  /* unfitted */\n",
       "  background-color: var(--sklearn-color-fitted-level-0);\n",
       "}\n",
       "\n",
       "#sk-container-id-1 input.sk-toggleable__control:checked~div.sk-toggleable__content {\n",
       "  /* Expand drop-down */\n",
       "  max-height: 200px;\n",
       "  max-width: 100%;\n",
       "  overflow: auto;\n",
       "}\n",
       "\n",
       "#sk-container-id-1 input.sk-toggleable__control:checked~label.sk-toggleable__label-arrow:before {\n",
       "  content: \"▾\";\n",
       "}\n",
       "\n",
       "/* Pipeline/ColumnTransformer-specific style */\n",
       "\n",
       "#sk-container-id-1 div.sk-label input.sk-toggleable__control:checked~label.sk-toggleable__label {\n",
       "  color: var(--sklearn-color-text);\n",
       "  background-color: var(--sklearn-color-unfitted-level-2);\n",
       "}\n",
       "\n",
       "#sk-container-id-1 div.sk-label.fitted input.sk-toggleable__control:checked~label.sk-toggleable__label {\n",
       "  background-color: var(--sklearn-color-fitted-level-2);\n",
       "}\n",
       "\n",
       "/* Estimator-specific style */\n",
       "\n",
       "/* Colorize estimator box */\n",
       "#sk-container-id-1 div.sk-estimator input.sk-toggleable__control:checked~label.sk-toggleable__label {\n",
       "  /* unfitted */\n",
       "  background-color: var(--sklearn-color-unfitted-level-2);\n",
       "}\n",
       "\n",
       "#sk-container-id-1 div.sk-estimator.fitted input.sk-toggleable__control:checked~label.sk-toggleable__label {\n",
       "  /* fitted */\n",
       "  background-color: var(--sklearn-color-fitted-level-2);\n",
       "}\n",
       "\n",
       "#sk-container-id-1 div.sk-label label.sk-toggleable__label,\n",
       "#sk-container-id-1 div.sk-label label {\n",
       "  /* The background is the default theme color */\n",
       "  color: var(--sklearn-color-text-on-default-background);\n",
       "}\n",
       "\n",
       "/* On hover, darken the color of the background */\n",
       "#sk-container-id-1 div.sk-label:hover label.sk-toggleable__label {\n",
       "  color: var(--sklearn-color-text);\n",
       "  background-color: var(--sklearn-color-unfitted-level-2);\n",
       "}\n",
       "\n",
       "/* Label box, darken color on hover, fitted */\n",
       "#sk-container-id-1 div.sk-label.fitted:hover label.sk-toggleable__label.fitted {\n",
       "  color: var(--sklearn-color-text);\n",
       "  background-color: var(--sklearn-color-fitted-level-2);\n",
       "}\n",
       "\n",
       "/* Estimator label */\n",
       "\n",
       "#sk-container-id-1 div.sk-label label {\n",
       "  font-family: monospace;\n",
       "  font-weight: bold;\n",
       "  display: inline-block;\n",
       "  line-height: 1.2em;\n",
       "}\n",
       "\n",
       "#sk-container-id-1 div.sk-label-container {\n",
       "  text-align: center;\n",
       "}\n",
       "\n",
       "/* Estimator-specific */\n",
       "#sk-container-id-1 div.sk-estimator {\n",
       "  font-family: monospace;\n",
       "  border: 1px dotted var(--sklearn-color-border-box);\n",
       "  border-radius: 0.25em;\n",
       "  box-sizing: border-box;\n",
       "  margin-bottom: 0.5em;\n",
       "  /* unfitted */\n",
       "  background-color: var(--sklearn-color-unfitted-level-0);\n",
       "}\n",
       "\n",
       "#sk-container-id-1 div.sk-estimator.fitted {\n",
       "  /* fitted */\n",
       "  background-color: var(--sklearn-color-fitted-level-0);\n",
       "}\n",
       "\n",
       "/* on hover */\n",
       "#sk-container-id-1 div.sk-estimator:hover {\n",
       "  /* unfitted */\n",
       "  background-color: var(--sklearn-color-unfitted-level-2);\n",
       "}\n",
       "\n",
       "#sk-container-id-1 div.sk-estimator.fitted:hover {\n",
       "  /* fitted */\n",
       "  background-color: var(--sklearn-color-fitted-level-2);\n",
       "}\n",
       "\n",
       "/* Specification for estimator info (e.g. \"i\" and \"?\") */\n",
       "\n",
       "/* Common style for \"i\" and \"?\" */\n",
       "\n",
       ".sk-estimator-doc-link,\n",
       "a:link.sk-estimator-doc-link,\n",
       "a:visited.sk-estimator-doc-link {\n",
       "  float: right;\n",
       "  font-size: smaller;\n",
       "  line-height: 1em;\n",
       "  font-family: monospace;\n",
       "  background-color: var(--sklearn-color-background);\n",
       "  border-radius: 1em;\n",
       "  height: 1em;\n",
       "  width: 1em;\n",
       "  text-decoration: none !important;\n",
       "  margin-left: 0.5em;\n",
       "  text-align: center;\n",
       "  /* unfitted */\n",
       "  border: var(--sklearn-color-unfitted-level-1) 1pt solid;\n",
       "  color: var(--sklearn-color-unfitted-level-1);\n",
       "}\n",
       "\n",
       ".sk-estimator-doc-link.fitted,\n",
       "a:link.sk-estimator-doc-link.fitted,\n",
       "a:visited.sk-estimator-doc-link.fitted {\n",
       "  /* fitted */\n",
       "  border: var(--sklearn-color-fitted-level-1) 1pt solid;\n",
       "  color: var(--sklearn-color-fitted-level-1);\n",
       "}\n",
       "\n",
       "/* On hover */\n",
       "div.sk-estimator:hover .sk-estimator-doc-link:hover,\n",
       ".sk-estimator-doc-link:hover,\n",
       "div.sk-label-container:hover .sk-estimator-doc-link:hover,\n",
       ".sk-estimator-doc-link:hover {\n",
       "  /* unfitted */\n",
       "  background-color: var(--sklearn-color-unfitted-level-3);\n",
       "  color: var(--sklearn-color-background);\n",
       "  text-decoration: none;\n",
       "}\n",
       "\n",
       "div.sk-estimator.fitted:hover .sk-estimator-doc-link.fitted:hover,\n",
       ".sk-estimator-doc-link.fitted:hover,\n",
       "div.sk-label-container:hover .sk-estimator-doc-link.fitted:hover,\n",
       ".sk-estimator-doc-link.fitted:hover {\n",
       "  /* fitted */\n",
       "  background-color: var(--sklearn-color-fitted-level-3);\n",
       "  color: var(--sklearn-color-background);\n",
       "  text-decoration: none;\n",
       "}\n",
       "\n",
       "/* Span, style for the box shown on hovering the info icon */\n",
       ".sk-estimator-doc-link span {\n",
       "  display: none;\n",
       "  z-index: 9999;\n",
       "  position: relative;\n",
       "  font-weight: normal;\n",
       "  right: .2ex;\n",
       "  padding: .5ex;\n",
       "  margin: .5ex;\n",
       "  width: min-content;\n",
       "  min-width: 20ex;\n",
       "  max-width: 50ex;\n",
       "  color: var(--sklearn-color-text);\n",
       "  box-shadow: 2pt 2pt 4pt #999;\n",
       "  /* unfitted */\n",
       "  background: var(--sklearn-color-unfitted-level-0);\n",
       "  border: .5pt solid var(--sklearn-color-unfitted-level-3);\n",
       "}\n",
       "\n",
       ".sk-estimator-doc-link.fitted span {\n",
       "  /* fitted */\n",
       "  background: var(--sklearn-color-fitted-level-0);\n",
       "  border: var(--sklearn-color-fitted-level-3);\n",
       "}\n",
       "\n",
       ".sk-estimator-doc-link:hover span {\n",
       "  display: block;\n",
       "}\n",
       "\n",
       "/* \"?\"-specific style due to the `<a>` HTML tag */\n",
       "\n",
       "#sk-container-id-1 a.estimator_doc_link {\n",
       "  float: right;\n",
       "  font-size: 1rem;\n",
       "  line-height: 1em;\n",
       "  font-family: monospace;\n",
       "  background-color: var(--sklearn-color-background);\n",
       "  border-radius: 1rem;\n",
       "  height: 1rem;\n",
       "  width: 1rem;\n",
       "  text-decoration: none;\n",
       "  /* unfitted */\n",
       "  color: var(--sklearn-color-unfitted-level-1);\n",
       "  border: var(--sklearn-color-unfitted-level-1) 1pt solid;\n",
       "}\n",
       "\n",
       "#sk-container-id-1 a.estimator_doc_link.fitted {\n",
       "  /* fitted */\n",
       "  border: var(--sklearn-color-fitted-level-1) 1pt solid;\n",
       "  color: var(--sklearn-color-fitted-level-1);\n",
       "}\n",
       "\n",
       "/* On hover */\n",
       "#sk-container-id-1 a.estimator_doc_link:hover {\n",
       "  /* unfitted */\n",
       "  background-color: var(--sklearn-color-unfitted-level-3);\n",
       "  color: var(--sklearn-color-background);\n",
       "  text-decoration: none;\n",
       "}\n",
       "\n",
       "#sk-container-id-1 a.estimator_doc_link.fitted:hover {\n",
       "  /* fitted */\n",
       "  background-color: var(--sklearn-color-fitted-level-3);\n",
       "}\n",
       "</style><div id=\"sk-container-id-1\" class=\"sk-top-container\"><div class=\"sk-text-repr-fallback\"><pre>RandomForestClassifier(bootstrap=False, max_depth=19, max_features=&#x27;log2&#x27;,\n",
       "                       min_samples_leaf=3, min_samples_split=4,\n",
       "                       random_state=42)</pre><b>In a Jupyter environment, please rerun this cell to show the HTML representation or trust the notebook. <br />On GitHub, the HTML representation is unable to render, please try loading this page with nbviewer.org.</b></div><div class=\"sk-container\" hidden><div class=\"sk-item\"><div class=\"sk-estimator fitted sk-toggleable\"><input class=\"sk-toggleable__control sk-hidden--visually\" id=\"sk-estimator-id-1\" type=\"checkbox\" checked><label for=\"sk-estimator-id-1\" class=\"sk-toggleable__label fitted sk-toggleable__label-arrow\"><div><div>RandomForestClassifier</div></div><div><a class=\"sk-estimator-doc-link fitted\" rel=\"noreferrer\" target=\"_blank\" href=\"https://scikit-learn.org/1.6/modules/generated/sklearn.ensemble.RandomForestClassifier.html\">?<span>Documentation for RandomForestClassifier</span></a><span class=\"sk-estimator-doc-link fitted\">i<span>Fitted</span></span></div></label><div class=\"sk-toggleable__content fitted\"><pre>RandomForestClassifier(bootstrap=False, max_depth=19, max_features=&#x27;log2&#x27;,\n",
       "                       min_samples_leaf=3, min_samples_split=4,\n",
       "                       random_state=42)</pre></div> </div></div></div></div>"
      ],
      "text/plain": [
       "RandomForestClassifier(bootstrap=False, max_depth=19, max_features='log2',\n",
       "                       min_samples_leaf=3, min_samples_split=4,\n",
       "                       random_state=42)"
      ]
     },
     "execution_count": 26,
     "metadata": {},
     "output_type": "execute_result"
    }
   ],
   "source": [
    "# Récupérer les meilleurs hyperparamètres trouvés par Optuna\n",
    "best_params = study.best_params\n",
    "\n",
    "# Ajouter les paramètres fixes nécessaires pour RandomForestClassifier\n",
    "best_params.update({\n",
    "    'random_state': 42\n",
    "})\n",
    "\n",
    "# Créer et entraîner le modèle final avec les meilleurs hyperparamètres\n",
    "final_model = RandomForestClassifier(**best_params)\n",
    "final_model.fit(X_train_scaled, y_train)"
   ]
  },
  {
   "cell_type": "code",
   "execution_count": 27,
   "id": "5145a50e",
   "metadata": {},
   "outputs": [
    {
     "name": "stdout",
     "output_type": "stream",
     "text": [
      "\n",
      "Test Accuracy: 0.7986206896551724\n",
      "\n",
      "Classification Report:\n",
      "               precision    recall  f1-score   support\n",
      "\n",
      "           0       0.78      0.52      0.63       698\n",
      "           1       0.81      0.93      0.86      1477\n",
      "\n",
      "    accuracy                           0.80      2175\n",
      "   macro avg       0.79      0.73      0.74      2175\n",
      "weighted avg       0.80      0.80      0.79      2175\n",
      "\n"
     ]
    }
   ],
   "source": [
    "y_pred = final_model.predict(X_test_scaled)\n",
    "accuracy = accuracy_score(y_test, y_pred)\n",
    "print(\"\\nTest Accuracy:\", accuracy)\n",
    "print(\"\\nClassification Report:\\n\", classification_report(y_test, y_pred))"
   ]
  },
  {
   "cell_type": "code",
   "execution_count": 28,
   "id": "5ab6e495",
   "metadata": {},
   "outputs": [
    {
     "data": {
      "image/png": "[encoded data removed]",
      "text/plain": [
       "<Figure size 600x400 with 2 Axes>"
      ]
     },
     "metadata": {},
     "output_type": "display_data"
    }
   ],
   "source": [
    "cm = confusion_matrix(y_test, y_pred)\n",
    "\n",
    "# Plot confusion matrix as heatmap\n",
    "plt.figure(figsize=(6, 4))\n",
    "sns.heatmap(cm, annot=True, fmt='d', cmap='Blues', xticklabels=['Sell', 'Buy'], yticklabels=['Sell', 'Buy'])\n",
    "plt.title('Confusion Matrix  Random Forest')\n",
    "plt.xlabel('Predicted')\n",
    "plt.ylabel('Actual')\n",
    "plt.show()"
   ]
  },
  {
   "cell_type": "code",
   "execution_count": 29,
   "id": "279008a5",
   "metadata": {},
   "outputs": [
    {
     "data": {
      "image/png": "[encoded data removed]",
      "text/plain": [
       "<Figure size 600x400 with 2 Axes>"
      ]
     },
     "metadata": {},
     "output_type": "display_data"
    }
   ],
   "source": [
    "cm = confusion_matrix(y_test, y_pred)\n",
    "\n",
    "# Plot confusion matrix as heatmap\n",
    "plt.figure(figsize=(6, 4))\n",
    "sns.heatmap(cm, annot=True, fmt='d', cmap='Blues', xticklabels=['Sell', 'Buy'], yticklabels=['Sell', 'Buy'])\n",
    "plt.title('Confusion Matrix  XgBooost')\n",
    "plt.xlabel('Predicted')\n",
    "plt.ylabel('Actual')\n",
    "plt.show()"
   ]
  },
  {
   "cell_type": "code",
   "execution_count": null,
   "id": "1a54a46d-9697-4d6d-bcde-4c46db30efc5",
   "metadata": {},
   "outputs": [],
   "source": []
  }
 ],
 "metadata": {
  "kernelspec": {
   "display_name": "Python (Project M1)",
   "language": "python",
   "name": "project_m1"
  },
  "language_info": {
   "codemirror_mode": {
    "name": "ipython",
    "version": 3
   },
   "file_extension": ".py",
   "mimetype": "text/x-python",
   "name": "python",
   "nbconvert_exporter": "python",
   "pygments_lexer": "ipython3",
   "version": "3.10.12"
  },
  "widgets": {
   "application/vnd.jupyter.widget-state+json": {
    "state": {},
    "version_major": 2,
    "version_minor": 0
   }
  }
 },
 "nbformat": 4,
 "nbformat_minor": 5
}
