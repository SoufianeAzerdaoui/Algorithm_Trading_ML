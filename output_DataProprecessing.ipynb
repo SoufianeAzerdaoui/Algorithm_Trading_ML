{
 "cells": [
  {
   "cell_type": "code",
   "execution_count": 1,
   "id": "cf441b9e-8e1f-4acb-a2b2-7391e2a51879",
   "metadata": {
    "execution": {
     "iopub.execute_input": "2025-01-24T17:08:51.261160Z",
     "iopub.status.busy": "2025-01-24T17:08:51.260938Z",
     "iopub.status.idle": "2025-01-24T17:08:51.659748Z",
     "shell.execute_reply": "2025-01-24T17:08:51.659109Z"
    },
    "papermill": {
     "duration": 0.402413,
     "end_time": "2025-01-24T17:08:51.660848",
     "exception": false,
     "start_time": "2025-01-24T17:08:51.258435",
     "status": "completed"
    },
    "tags": []
   },
   "outputs": [],
   "source": [
    "import pandas as pd\n",
    "import pandas_ta as ta \n",
    "import numpy as np"
   ]
  },
  {
   "cell_type": "code",
   "execution_count": 2,
   "id": "67a558c8-0360-43bd-a828-1f9e99d1e605",
   "metadata": {
    "execution": {
     "iopub.execute_input": "2025-01-24T17:08:51.671568Z",
     "iopub.status.busy": "2025-01-24T17:08:51.671295Z",
     "iopub.status.idle": "2025-01-24T17:08:51.703257Z",
     "shell.execute_reply": "2025-01-24T17:08:51.702686Z"
    },
    "papermill": {
     "duration": 0.041565,
     "end_time": "2025-01-24T17:08:51.704271",
     "exception": false,
     "start_time": "2025-01-24T17:08:51.662706",
     "status": "completed"
    },
    "tags": []
   },
   "outputs": [
    {
     "data": {
      "text/plain": [
       "Date         object\n",
       "Adj Close    object\n",
       "Close        object\n",
       "High         object\n",
       "Low          object\n",
       "Open         object\n",
       "Volume       object\n",
       "dtype: object"
      ]
     },
     "execution_count": 2,
     "metadata": {},
     "output_type": "execute_result"
    }
   ],
   "source": [
    "path = \"Data Historical/AAPL_data.csv\"\n",
    "data = pd.read_csv(path)\n",
    "data.dtypes"
   ]
  },
  {
   "cell_type": "code",
   "execution_count": 3,
   "id": "c75b0f46-f4a8-48c5-987b-6a9c15bdd9da",
   "metadata": {
    "execution": {
     "iopub.execute_input": "2025-01-24T17:08:51.708979Z",
     "iopub.status.busy": "2025-01-24T17:08:51.708667Z",
     "iopub.status.idle": "2025-01-24T17:08:51.734633Z",
     "shell.execute_reply": "2025-01-24T17:08:51.734004Z"
    },
    "papermill": {
     "duration": 0.029549,
     "end_time": "2025-01-24T17:08:51.735699",
     "exception": false,
     "start_time": "2025-01-24T17:08:51.706150",
     "status": "completed"
    },
    "tags": []
   },
   "outputs": [],
   "source": [
    "numeric_cols = ['Adj Close', 'Close', 'High', 'Low', 'Open', 'Volume']\n",
    "data[numeric_cols] = data[numeric_cols].apply(pd.to_numeric, errors='coerce')\n"
   ]
  },
  {
   "cell_type": "code",
   "execution_count": 4,
   "id": "70d53bd7-953b-4bc7-868a-8de74948377a",
   "metadata": {
    "execution": {
     "iopub.execute_input": "2025-01-24T17:08:51.740281Z",
     "iopub.status.busy": "2025-01-24T17:08:51.740062Z",
     "iopub.status.idle": "2025-01-24T17:08:51.771731Z",
     "shell.execute_reply": "2025-01-24T17:08:51.771081Z"
    },
    "papermill": {
     "duration": 0.035152,
     "end_time": "2025-01-24T17:08:51.772733",
     "exception": false,
     "start_time": "2025-01-24T17:08:51.737581",
     "status": "completed"
    },
    "tags": []
   },
   "outputs": [
    {
     "name": "stdout",
     "output_type": "stream",
     "text": [
      "             Open        High         Low       Close   Adj Close     RSI_14  \\\n",
      "11116  232.119995  232.289993  228.479996  229.979996  229.979996  35.396657   \n",
      "11117  224.000000  224.419998  219.380005  222.639999  222.639999  29.692784   \n",
      "11118  219.789993  224.119995  219.789993  223.830002  223.830002  31.616735   \n",
      "11119  224.740005  227.029999  222.300003  223.660004  223.660004  31.484189   \n",
      "11120  224.975006  225.630005  222.350098  222.779999  222.779999  30.765178   \n",
      "\n",
      "          RSI_30    RSI_200     MOM_10     MOM_30  MACD_12_26_9  \\\n",
      "11116  44.192064  53.056888 -13.870010 -12.669998     -3.098927   \n",
      "11117  40.156453  52.157537 -20.720001 -20.369995     -4.096375   \n",
      "11118  41.059180  52.289312 -21.169998 -19.209991     -4.736240   \n",
      "11119  40.967852  52.268642 -18.550003 -19.179993     -5.197146   \n",
      "11120  40.485619  52.161370 -19.919998 -23.970001     -5.569227   \n",
      "\n",
      "       MACDh_12_26_9  MACDs_12_26_9    PROC_9      EMA_10      EMA_30  \n",
      "11116      -2.592732      -0.506195 -5.498030  236.853013  241.119444  \n",
      "11117      -2.872144      -1.224231 -9.126531  234.268829  239.927221  \n",
      "11118      -2.809607      -1.926633 -7.588458  232.370860  238.888691  \n",
      "11119      -2.616410      -2.580735 -7.845074  230.787068  237.906195  \n",
      "11120      -2.390793      -3.178434 -5.940472  229.331237  236.930312  \n"
     ]
    }
   ],
   "source": [
    "# Step 2: Calculate RSI for 14, 30, and 200 periods\n",
    "data['RSI_14'] = ta.rsi(data['Close'], length=14)\n",
    "data['RSI_30'] = ta.rsi(data['Close'], length=30)\n",
    "data['RSI_200'] = ta.rsi(data['Close'], length=200)\n",
    "\n",
    "# Step 3: Calculate Momentum for 10 and 30 periods\n",
    "data['MOM_10'] = ta.mom(data['Close'], length=10)\n",
    "data['MOM_30'] = ta.mom(data['Close'], length=30)\n",
    "\n",
    "# Step 4: Calculate MACD\n",
    "macd = ta.macd(data['Close'], fast=12, slow=26, signal=9)\n",
    "data = pd.concat([data, macd], axis=1)  # Add MACD columns to the dataframe\n",
    "\n",
    "# Step 5: Calculate PROC (Price Rate of Change) for 9 periods\n",
    "data['PROC_9'] = ta.roc(data['Close'], length=9)\n",
    "\n",
    "# Step 6: Calculate EMA for 10, 30 periods\n",
    "data['EMA_10'] = ta.ema(data['Close'], length=10)\n",
    "data['EMA_30'] = ta.ema(data['Close'], length=30)\n",
    "\n",
    "data['Pct_Change'] = data['Close'].pct_change()\n",
    "data['Log_Returns'] = np.log(data['Close'] / data['Close'].shift(1))\n",
    "\n",
    "data['Volatility_10'] = data['Close'].rolling(window=10).std()\n",
    "data['Volatility_30'] = data['Close'].rolling(window=30).std()\n",
    "\n",
    "\n",
    "# Step 7: Display the dataframe with new features\n",
    "print(data[['Open', 'High', 'Low', 'Close', 'Adj Close', \n",
    "            'RSI_14', 'RSI_30', 'RSI_200', \n",
    "            'MOM_10', 'MOM_30', \n",
    "            'MACD_12_26_9', 'MACDh_12_26_9', 'MACDs_12_26_9', \n",
    "            'PROC_9', \n",
    "            'EMA_10', 'EMA_30']].tail())"
   ]
  },
  {
   "cell_type": "code",
   "execution_count": 5,
   "id": "0897a1a0-9a66-4917-a9b2-2f4666d3948f",
   "metadata": {
    "execution": {
     "iopub.execute_input": "2025-01-24T17:08:51.777756Z",
     "iopub.status.busy": "2025-01-24T17:08:51.777534Z",
     "iopub.status.idle": "2025-01-24T17:08:51.794827Z",
     "shell.execute_reply": "2025-01-24T17:08:51.794159Z"
    },
    "papermill": {
     "duration": 0.020944,
     "end_time": "2025-01-24T17:08:51.795805",
     "exception": false,
     "start_time": "2025-01-24T17:08:51.774861",
     "status": "completed"
    },
    "tags": []
   },
   "outputs": [
    {
     "data": {
      "text/html": [
       "<div>\n",
       "<style scoped>\n",
       "    .dataframe tbody tr th:only-of-type {\n",
       "        vertical-align: middle;\n",
       "    }\n",
       "\n",
       "    .dataframe tbody tr th {\n",
       "        vertical-align: top;\n",
       "    }\n",
       "\n",
       "    .dataframe thead th {\n",
       "        text-align: right;\n",
       "    }\n",
       "</style>\n",
       "<table border=\"1\" class=\"dataframe\">\n",
       "  <thead>\n",
       "    <tr style=\"text-align: right;\">\n",
       "      <th></th>\n",
       "      <th>Date</th>\n",
       "      <th>Adj Close</th>\n",
       "      <th>Close</th>\n",
       "      <th>High</th>\n",
       "      <th>Low</th>\n",
       "      <th>Open</th>\n",
       "      <th>Volume</th>\n",
       "      <th>RSI_14</th>\n",
       "      <th>RSI_30</th>\n",
       "      <th>RSI_200</th>\n",
       "      <th>...</th>\n",
       "      <th>MACD_12_26_9</th>\n",
       "      <th>MACDh_12_26_9</th>\n",
       "      <th>MACDs_12_26_9</th>\n",
       "      <th>PROC_9</th>\n",
       "      <th>EMA_10</th>\n",
       "      <th>EMA_30</th>\n",
       "      <th>Pct_Change</th>\n",
       "      <th>Log_Returns</th>\n",
       "      <th>Volatility_10</th>\n",
       "      <th>Volatility_30</th>\n",
       "    </tr>\n",
       "  </thead>\n",
       "  <tbody>\n",
       "    <tr>\n",
       "      <th>11116</th>\n",
       "      <td>2025-01-17</td>\n",
       "      <td>229.979996</td>\n",
       "      <td>229.979996</td>\n",
       "      <td>232.289993</td>\n",
       "      <td>228.479996</td>\n",
       "      <td>232.119995</td>\n",
       "      <td>68488300.0</td>\n",
       "      <td>35.396657</td>\n",
       "      <td>44.192064</td>\n",
       "      <td>53.056888</td>\n",
       "      <td>...</td>\n",
       "      <td>-3.098927</td>\n",
       "      <td>-2.592732</td>\n",
       "      <td>-0.506195</td>\n",
       "      <td>-5.498030</td>\n",
       "      <td>236.853013</td>\n",
       "      <td>241.119444</td>\n",
       "      <td>0.007535</td>\n",
       "      <td>0.007507</td>\n",
       "      <td>5.865160</td>\n",
       "      <td>7.920047</td>\n",
       "    </tr>\n",
       "    <tr>\n",
       "      <th>11117</th>\n",
       "      <td>2025-01-21</td>\n",
       "      <td>222.639999</td>\n",
       "      <td>222.639999</td>\n",
       "      <td>224.419998</td>\n",
       "      <td>219.380005</td>\n",
       "      <td>224.000000</td>\n",
       "      <td>98070400.0</td>\n",
       "      <td>29.692784</td>\n",
       "      <td>40.156453</td>\n",
       "      <td>52.157537</td>\n",
       "      <td>...</td>\n",
       "      <td>-4.096375</td>\n",
       "      <td>-2.872144</td>\n",
       "      <td>-1.224231</td>\n",
       "      <td>-9.126531</td>\n",
       "      <td>234.268829</td>\n",
       "      <td>239.927221</td>\n",
       "      <td>-0.031916</td>\n",
       "      <td>-0.032436</td>\n",
       "      <td>7.060312</td>\n",
       "      <td>8.963895</td>\n",
       "    </tr>\n",
       "    <tr>\n",
       "      <th>11118</th>\n",
       "      <td>2025-01-22</td>\n",
       "      <td>223.830002</td>\n",
       "      <td>223.830002</td>\n",
       "      <td>224.119995</td>\n",
       "      <td>219.789993</td>\n",
       "      <td>219.789993</td>\n",
       "      <td>64126500.0</td>\n",
       "      <td>31.616735</td>\n",
       "      <td>41.059180</td>\n",
       "      <td>52.289312</td>\n",
       "      <td>...</td>\n",
       "      <td>-4.736240</td>\n",
       "      <td>-2.809607</td>\n",
       "      <td>-1.926633</td>\n",
       "      <td>-7.588458</td>\n",
       "      <td>232.370860</td>\n",
       "      <td>238.888691</td>\n",
       "      <td>0.005345</td>\n",
       "      <td>0.005331</td>\n",
       "      <td>7.008649</td>\n",
       "      <td>9.761657</td>\n",
       "    </tr>\n",
       "    <tr>\n",
       "      <th>11119</th>\n",
       "      <td>2025-01-23</td>\n",
       "      <td>223.660004</td>\n",
       "      <td>223.660004</td>\n",
       "      <td>227.029999</td>\n",
       "      <td>222.300003</td>\n",
       "      <td>224.740005</td>\n",
       "      <td>60178200.0</td>\n",
       "      <td>31.484189</td>\n",
       "      <td>40.967852</td>\n",
       "      <td>52.268642</td>\n",
       "      <td>...</td>\n",
       "      <td>-5.197146</td>\n",
       "      <td>-2.616410</td>\n",
       "      <td>-2.580735</td>\n",
       "      <td>-7.845074</td>\n",
       "      <td>230.787068</td>\n",
       "      <td>237.906195</td>\n",
       "      <td>-0.000759</td>\n",
       "      <td>-0.000760</td>\n",
       "      <td>6.811638</td>\n",
       "      <td>10.469169</td>\n",
       "    </tr>\n",
       "    <tr>\n",
       "      <th>11120</th>\n",
       "      <td>2025-01-24</td>\n",
       "      <td>222.779999</td>\n",
       "      <td>222.779999</td>\n",
       "      <td>225.630005</td>\n",
       "      <td>222.350098</td>\n",
       "      <td>224.975006</td>\n",
       "      <td>24824447.0</td>\n",
       "      <td>30.765178</td>\n",
       "      <td>40.485619</td>\n",
       "      <td>52.161370</td>\n",
       "      <td>...</td>\n",
       "      <td>-5.569227</td>\n",
       "      <td>-2.390793</td>\n",
       "      <td>-3.178434</td>\n",
       "      <td>-5.940472</td>\n",
       "      <td>229.331237</td>\n",
       "      <td>236.930312</td>\n",
       "      <td>-0.003935</td>\n",
       "      <td>-0.003942</td>\n",
       "      <td>5.985241</td>\n",
       "      <td>11.126474</td>\n",
       "    </tr>\n",
       "  </tbody>\n",
       "</table>\n",
       "<p>5 rows × 22 columns</p>\n",
       "</div>"
      ],
      "text/plain": [
       "             Date   Adj Close       Close        High         Low        Open  \\\n",
       "11116  2025-01-17  229.979996  229.979996  232.289993  228.479996  232.119995   \n",
       "11117  2025-01-21  222.639999  222.639999  224.419998  219.380005  224.000000   \n",
       "11118  2025-01-22  223.830002  223.830002  224.119995  219.789993  219.789993   \n",
       "11119  2025-01-23  223.660004  223.660004  227.029999  222.300003  224.740005   \n",
       "11120  2025-01-24  222.779999  222.779999  225.630005  222.350098  224.975006   \n",
       "\n",
       "           Volume     RSI_14     RSI_30    RSI_200  ...  MACD_12_26_9  \\\n",
       "11116  68488300.0  35.396657  44.192064  53.056888  ...     -3.098927   \n",
       "11117  98070400.0  29.692784  40.156453  52.157537  ...     -4.096375   \n",
       "11118  64126500.0  31.616735  41.059180  52.289312  ...     -4.736240   \n",
       "11119  60178200.0  31.484189  40.967852  52.268642  ...     -5.197146   \n",
       "11120  24824447.0  30.765178  40.485619  52.161370  ...     -5.569227   \n",
       "\n",
       "       MACDh_12_26_9  MACDs_12_26_9    PROC_9      EMA_10      EMA_30  \\\n",
       "11116      -2.592732      -0.506195 -5.498030  236.853013  241.119444   \n",
       "11117      -2.872144      -1.224231 -9.126531  234.268829  239.927221   \n",
       "11118      -2.809607      -1.926633 -7.588458  232.370860  238.888691   \n",
       "11119      -2.616410      -2.580735 -7.845074  230.787068  237.906195   \n",
       "11120      -2.390793      -3.178434 -5.940472  229.331237  236.930312   \n",
       "\n",
       "       Pct_Change  Log_Returns  Volatility_10  Volatility_30  \n",
       "11116    0.007535     0.007507       5.865160       7.920047  \n",
       "11117   -0.031916    -0.032436       7.060312       8.963895  \n",
       "11118    0.005345     0.005331       7.008649       9.761657  \n",
       "11119   -0.000759    -0.000760       6.811638      10.469169  \n",
       "11120   -0.003935    -0.003942       5.985241      11.126474  \n",
       "\n",
       "[5 rows x 22 columns]"
      ]
     },
     "execution_count": 5,
     "metadata": {},
     "output_type": "execute_result"
    }
   ],
   "source": [
    "data.tail()"
   ]
  },
  {
   "cell_type": "code",
   "execution_count": 6,
   "id": "ea89886f-c875-4e17-a640-a653311947e8",
   "metadata": {
    "execution": {
     "iopub.execute_input": "2025-01-24T17:08:51.801444Z",
     "iopub.status.busy": "2025-01-24T17:08:51.801172Z",
     "iopub.status.idle": "2025-01-24T17:08:51.816344Z",
     "shell.execute_reply": "2025-01-24T17:08:51.815738Z"
    },
    "papermill": {
     "duration": 0.019249,
     "end_time": "2025-01-24T17:08:51.817364",
     "exception": false,
     "start_time": "2025-01-24T17:08:51.798115",
     "status": "completed"
    },
    "tags": []
   },
   "outputs": [
    {
     "name": "stdout",
     "output_type": "stream",
     "text": [
      "Date             0\n",
      "Adj Close        0\n",
      "Close            0\n",
      "High             0\n",
      "Low              0\n",
      "Open             0\n",
      "Volume           0\n",
      "RSI_14           0\n",
      "RSI_30           0\n",
      "RSI_200          0\n",
      "MOM_10           0\n",
      "MOM_30           0\n",
      "MACD_12_26_9     0\n",
      "MACDh_12_26_9    0\n",
      "MACDs_12_26_9    0\n",
      "PROC_9           0\n",
      "EMA_10           0\n",
      "EMA_30           0\n",
      "Pct_Change       0\n",
      "Log_Returns      0\n",
      "Volatility_10    0\n",
      "Volatility_30    0\n",
      "dtype: int64\n"
     ]
    },
    {
     "name": "stderr",
     "output_type": "stream",
     "text": [
      "/tmp/ipykernel_23643/1071741576.py:6: FutureWarning: DataFrame.fillna with 'method' is deprecated and will raise in a future version. Use obj.ffill() or obj.bfill() instead.\n",
      "  data.fillna(method='ffill', inplace=True)\n"
     ]
    }
   ],
   "source": [
    "# Step 3: Handle null values\n",
    "# Drop rows with nulls in price data\n",
    "data.dropna(subset=['Open', 'High', 'Low', 'Close', 'Adj Close'], inplace=True)\n",
    "\n",
    "# Forward fill nulls in technical indicators\n",
    "data.fillna(method='ffill', inplace=True)\n",
    "\n",
    "# Drop any remaining nulls\n",
    "data.dropna(inplace=True)\n",
    "\n",
    "# Step 4: Display the cleaned dataframe\n",
    "print(data.isnull().sum())  # Check for remaining nulls\n"
   ]
  },
  {
   "cell_type": "markdown",
   "id": "b25473e2-3424-4aad-bd24-326e907a6cd9",
   "metadata": {
    "papermill": {
     "duration": 0.002484,
     "end_time": "2025-01-24T17:08:51.822414",
     "exception": false,
     "start_time": "2025-01-24T17:08:51.819930",
     "status": "completed"
    },
    "tags": []
   },
   "source": [
    "## Define target value"
   ]
  },
  {
   "cell_type": "code",
   "execution_count": 7,
   "id": "7917a8bd-4da3-40ef-bbc7-1960ce209fbd",
   "metadata": {
    "execution": {
     "iopub.execute_input": "2025-01-24T17:08:51.828192Z",
     "iopub.status.busy": "2025-01-24T17:08:51.827896Z",
     "iopub.status.idle": "2025-01-24T17:08:51.841542Z",
     "shell.execute_reply": "2025-01-24T17:08:51.840843Z"
    },
    "papermill": {
     "duration": 0.017898,
     "end_time": "2025-01-24T17:08:51.842649",
     "exception": false,
     "start_time": "2025-01-24T17:08:51.824751",
     "status": "completed"
    },
    "tags": []
   },
   "outputs": [],
   "source": [
    "# Define the horizon (e.g., 5 day ahead)\n",
    "horizon = 5\n",
    "threshold = 0.02\n",
    "# Calculate future price change\n",
    "data['Future_Close'] = data['Close'].shift(-horizon)  # Shift close price forward\n",
    "data['Price_Change'] = data['Future_Close'] - data['Close']\n",
    "\n",
    "# Define buy/sell signals\n",
    "data['Signal'] = np.where(data['Price_Change'] > threshold, 1, \n",
    "                         np.where(data['Price_Change'] < -threshold, 0, 2))\n",
    "data.dropna(subset=['Signal'], inplace=True)  # Remove rows with insignificant moves\n",
    "\n",
    "# Drop rows with NaN in the target variable (last `horizon` rows)\n",
    "data.dropna(subset=['Future_Close'], inplace=True)"
   ]
  },
  {
   "cell_type": "code",
   "execution_count": 8,
   "id": "0fd977de-5a44-4058-8052-dd3c018b7526",
   "metadata": {
    "execution": {
     "iopub.execute_input": "2025-01-24T17:08:51.848378Z",
     "iopub.status.busy": "2025-01-24T17:08:51.848105Z",
     "iopub.status.idle": "2025-01-24T17:08:51.853032Z",
     "shell.execute_reply": "2025-01-24T17:08:51.852243Z"
    },
    "papermill": {
     "duration": 0.009086,
     "end_time": "2025-01-24T17:08:51.854147",
     "exception": false,
     "start_time": "2025-01-24T17:08:51.845061",
     "status": "completed"
    },
    "tags": []
   },
   "outputs": [
    {
     "data": {
      "text/plain": [
       "Index(['Date', 'Adj Close', 'Close', 'High', 'Low', 'Open', 'Volume', 'RSI_14',\n",
       "       'RSI_30', 'RSI_200', 'MOM_10', 'MOM_30', 'MACD_12_26_9',\n",
       "       'MACDh_12_26_9', 'MACDs_12_26_9', 'PROC_9', 'EMA_10', 'EMA_30',\n",
       "       'Pct_Change', 'Log_Returns', 'Volatility_10', 'Volatility_30',\n",
       "       'Future_Close', 'Price_Change', 'Signal'],\n",
       "      dtype='object')"
      ]
     },
     "execution_count": 8,
     "metadata": {},
     "output_type": "execute_result"
    }
   ],
   "source": [
    "data.columns"
   ]
  },
  {
   "cell_type": "code",
   "execution_count": 9,
   "id": "3ba6f507-5493-4c64-aa6e-63897fe0d7fa",
   "metadata": {
    "execution": {
     "iopub.execute_input": "2025-01-24T17:08:51.860270Z",
     "iopub.status.busy": "2025-01-24T17:08:51.859973Z",
     "iopub.status.idle": "2025-01-24T17:08:52.243777Z",
     "shell.execute_reply": "2025-01-24T17:08:52.243234Z"
    },
    "papermill": {
     "duration": 0.388408,
     "end_time": "2025-01-24T17:08:52.245147",
     "exception": false,
     "start_time": "2025-01-24T17:08:51.856739",
     "status": "completed"
    },
    "tags": []
   },
   "outputs": [],
   "source": [
    "data.to_csv('final_data.csv', index = False)\n"
   ]
  }
 ],
 "metadata": {
  "kernelspec": {
   "display_name": "Python (Project M1)",
   "language": "python",
   "name": "project_m1"
  },
  "language_info": {
   "codemirror_mode": {
    "name": "ipython",
    "version": 3
   },
   "file_extension": ".py",
   "mimetype": "text/x-python",
   "name": "python",
   "nbconvert_exporter": "python",
   "pygments_lexer": "ipython3",
   "version": "3.10.12"
  },
  "papermill": {
   "default_parameters": {},
   "duration": 1.788949,
   "end_time": "2025-01-24T17:08:52.463030",
   "environment_variables": {},
   "exception": null,
   "input_path": "DataProprecessing.ipynb",
   "output_path": "output_DataProprecessing.ipynb",
   "parameters": {},
   "start_time": "2025-01-24T17:08:50.674081",
   "version": "2.6.0"
  },
  "widgets": {
   "application/vnd.jupyter.widget-state+json": {
    "state": {},
    "version_major": 2,
    "version_minor": 0
   }
  }
 },
 "nbformat": 4,
 "nbformat_minor": 5
}