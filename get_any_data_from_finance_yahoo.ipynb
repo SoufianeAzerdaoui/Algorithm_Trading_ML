{
 "cells": [
  {
   "cell_type": "markdown",
   "id": "6b2caa93-4a41-47dc-aa09-db60d4f0fd56",
   "metadata": {},
   "source": [
    "## Tesing  wiht web scraping "
   ]
  },
  {
   "cell_type": "code",
   "execution_count": 2,
   "id": "bfbd1070-b83e-463a-99ec-db859a6b635d",
   "metadata": {},
   "outputs": [],
   "source": [
    "import yfinance as yf\n",
    "import pandas as pd\n"
   ]
  },
  {
   "cell_type": "code",
   "execution_count": null,
   "id": "69cc71bf-a22a-404b-983b-de241a82dfe2",
   "metadata": {},
   "outputs": [
    {
     "data": {
      "text/plain": [
       "0"
      ]
     },
     "execution_count": 40,
     "metadata": {},
     "output_type": "execute_result"
    }
   ],
   "source": [
    "#appl_rows = historical_data.shape[0]\n",
    "#appl_rows"
   ]
  },
  {
   "cell_type": "code",
   "execution_count": 4,
   "id": "c2ab98d9-349d-4ee1-b408-86ab1900c8c3",
   "metadata": {},
   "outputs": [
    {
     "name": "stdout",
     "output_type": "stream",
     "text": [
      "Fetching historical data for AAPL...\n"
     ]
    },
    {
     "name": "stderr",
     "output_type": "stream",
     "text": [
      "[*********************100%***********************]  1 of 1 completed\n"
     ]
    },
    {
     "name": "stdout",
     "output_type": "stream",
     "text": [
      "Fetched 11140 rows of data.\n",
      "Price        Date     Close      High       Low      Open     Volume\n",
      "Ticker                 AAPL      AAPL      AAPL      AAPL       AAPL\n",
      "0      1980-12-12  0.098726  0.099155  0.098726  0.098726  469033600\n",
      "1      1980-12-15  0.093575  0.094005  0.093575  0.094005  175884800\n",
      "2      1980-12-16  0.086707  0.087136  0.086707  0.087136  105728000\n",
      "3      1980-12-17  0.088853  0.089282  0.088853  0.088853   86441600\n",
      "4      1980-12-18  0.091429  0.091858  0.091429  0.091429   73449600\n"
     ]
    }
   ],
   "source": [
    "\n",
    "# Fetch data with yfinance\n",
    "def fetch_historical_data(symbol, start_date=\"1970-01-01\"):\n",
    "    \"\"\"\n",
    "    Fetch historical stock data using yfinance.\n",
    "\n",
    "    Parameters:\n",
    "    - symbol (str): Stock ticker symbol (e.g., 'AAPL').\n",
    "    - start_date (str): Start date for data (format 'YYYY-MM-DD').\n",
    "\n",
    "    Returns:\n",
    "    - pd.DataFrame: DataFrame containing historical data with the 'Date' column.\n",
    "    \"\"\"\n",
    "    try:\n",
    "        print(f\"Fetching historical data for {symbol}...\")\n",
    "        data = yf.download(symbol, start=start_date)\n",
    "\n",
    "        # Ensure 'Date' column is properly set\n",
    "        if not data.empty:\n",
    "            data.reset_index(inplace=True)  # Ensure 'Date' is a column, not the index\n",
    "            print(f\"Fetched {len(data)} rows of data.\")\n",
    "        else:\n",
    "            print(\"No data found!\")\n",
    "\n",
    "        return data\n",
    "    except Exception as e:\n",
    "        print(f\"Error: {e}\")\n",
    "        return pd.DataFrame()\n",
    "\n",
    "# Example usage\n",
    "if __name__ == \"__main__\":\n",
    "    stock_symbol = \"AAPL\"  # Replace with desired stock symbol\n",
    "    historical_data = fetch_historical_data(stock_symbol)\n",
    "\n",
    "    if not historical_data.empty:\n",
    "        # Save data to a CSV file\n",
    "        historical_data.to_csv(f\"Data Historical/{stock_symbol}_data.csv\", index=False)\n",
    "        print(historical_data.head())  # Display the first few rows\n"
   ]
  },
  {
   "cell_type": "code",
   "execution_count": 5,
   "id": "a2ea3ec1-cb34-474b-8f43-4ab884f2a564",
   "metadata": {},
   "outputs": [
    {
     "data": {
      "text/html": [
       "<div>\n",
       "<style scoped>\n",
       "    .dataframe tbody tr th:only-of-type {\n",
       "        vertical-align: middle;\n",
       "    }\n",
       "\n",
       "    .dataframe tbody tr th {\n",
       "        vertical-align: top;\n",
       "    }\n",
       "\n",
       "    .dataframe thead tr th {\n",
       "        text-align: left;\n",
       "    }\n",
       "</style>\n",
       "<table border=\"1\" class=\"dataframe\">\n",
       "  <thead>\n",
       "    <tr>\n",
       "      <th>Price</th>\n",
       "      <th>Date</th>\n",
       "      <th>Close</th>\n",
       "      <th>High</th>\n",
       "      <th>Low</th>\n",
       "      <th>Open</th>\n",
       "      <th>Volume</th>\n",
       "    </tr>\n",
       "    <tr>\n",
       "      <th>Ticker</th>\n",
       "      <th></th>\n",
       "      <th>AAPL</th>\n",
       "      <th>AAPL</th>\n",
       "      <th>AAPL</th>\n",
       "      <th>AAPL</th>\n",
       "      <th>AAPL</th>\n",
       "    </tr>\n",
       "  </thead>\n",
       "  <tbody>\n",
       "    <tr>\n",
       "      <th>11130</th>\n",
       "      <td>2025-02-10</td>\n",
       "      <td>227.649994</td>\n",
       "      <td>230.589996</td>\n",
       "      <td>227.199997</td>\n",
       "      <td>229.570007</td>\n",
       "      <td>33115600</td>\n",
       "    </tr>\n",
       "    <tr>\n",
       "      <th>11131</th>\n",
       "      <td>2025-02-11</td>\n",
       "      <td>232.619995</td>\n",
       "      <td>235.229996</td>\n",
       "      <td>228.130005</td>\n",
       "      <td>228.199997</td>\n",
       "      <td>53718400</td>\n",
       "    </tr>\n",
       "    <tr>\n",
       "      <th>11132</th>\n",
       "      <td>2025-02-12</td>\n",
       "      <td>236.869995</td>\n",
       "      <td>236.960007</td>\n",
       "      <td>230.679993</td>\n",
       "      <td>231.199997</td>\n",
       "      <td>45243300</td>\n",
       "    </tr>\n",
       "    <tr>\n",
       "      <th>11133</th>\n",
       "      <td>2025-02-13</td>\n",
       "      <td>241.529999</td>\n",
       "      <td>242.339996</td>\n",
       "      <td>235.570007</td>\n",
       "      <td>236.910004</td>\n",
       "      <td>53614100</td>\n",
       "    </tr>\n",
       "    <tr>\n",
       "      <th>11134</th>\n",
       "      <td>2025-02-14</td>\n",
       "      <td>244.600006</td>\n",
       "      <td>245.550003</td>\n",
       "      <td>240.990005</td>\n",
       "      <td>241.250000</td>\n",
       "      <td>40896200</td>\n",
       "    </tr>\n",
       "    <tr>\n",
       "      <th>11135</th>\n",
       "      <td>2025-02-18</td>\n",
       "      <td>244.470001</td>\n",
       "      <td>245.179993</td>\n",
       "      <td>241.839996</td>\n",
       "      <td>244.149994</td>\n",
       "      <td>48822500</td>\n",
       "    </tr>\n",
       "    <tr>\n",
       "      <th>11136</th>\n",
       "      <td>2025-02-19</td>\n",
       "      <td>244.869995</td>\n",
       "      <td>246.009995</td>\n",
       "      <td>243.160004</td>\n",
       "      <td>244.660004</td>\n",
       "      <td>32204200</td>\n",
       "    </tr>\n",
       "    <tr>\n",
       "      <th>11137</th>\n",
       "      <td>2025-02-20</td>\n",
       "      <td>245.830002</td>\n",
       "      <td>246.779999</td>\n",
       "      <td>244.289993</td>\n",
       "      <td>244.940002</td>\n",
       "      <td>32316900</td>\n",
       "    </tr>\n",
       "    <tr>\n",
       "      <th>11138</th>\n",
       "      <td>2025-02-21</td>\n",
       "      <td>245.550003</td>\n",
       "      <td>248.690002</td>\n",
       "      <td>245.220001</td>\n",
       "      <td>245.949997</td>\n",
       "      <td>53119400</td>\n",
       "    </tr>\n",
       "    <tr>\n",
       "      <th>11139</th>\n",
       "      <td>2025-02-24</td>\n",
       "      <td>247.554993</td>\n",
       "      <td>248.860001</td>\n",
       "      <td>244.589996</td>\n",
       "      <td>244.807999</td>\n",
       "      <td>24437621</td>\n",
       "    </tr>\n",
       "  </tbody>\n",
       "</table>\n",
       "</div>"
      ],
      "text/plain": [
       "Price        Date       Close        High         Low        Open    Volume\n",
       "Ticker                   AAPL        AAPL        AAPL        AAPL      AAPL\n",
       "11130  2025-02-10  227.649994  230.589996  227.199997  229.570007  33115600\n",
       "11131  2025-02-11  232.619995  235.229996  228.130005  228.199997  53718400\n",
       "11132  2025-02-12  236.869995  236.960007  230.679993  231.199997  45243300\n",
       "11133  2025-02-13  241.529999  242.339996  235.570007  236.910004  53614100\n",
       "11134  2025-02-14  244.600006  245.550003  240.990005  241.250000  40896200\n",
       "11135  2025-02-18  244.470001  245.179993  241.839996  244.149994  48822500\n",
       "11136  2025-02-19  244.869995  246.009995  243.160004  244.660004  32204200\n",
       "11137  2025-02-20  245.830002  246.779999  244.289993  244.940002  32316900\n",
       "11138  2025-02-21  245.550003  248.690002  245.220001  245.949997  53119400\n",
       "11139  2025-02-24  247.554993  248.860001  244.589996  244.807999  24437621"
      ]
     },
     "execution_count": 5,
     "metadata": {},
     "output_type": "execute_result"
    }
   ],
   "source": [
    "historical_data.tail(10)"
   ]
  },
  {
   "cell_type": "code",
   "execution_count": null,
   "id": "f2b7cbd5-4187-4b17-aed2-08338975d2b7",
   "metadata": {},
   "outputs": [],
   "source": []
  }
 ],
 "metadata": {
  "kernelspec": {
   "display_name": "Python (venv)",
   "language": "python",
   "name": "venv"
  },
  "language_info": {
   "codemirror_mode": {
    "name": "ipython",
    "version": 3
   },
   "file_extension": ".py",
   "mimetype": "text/x-python",
   "name": "python",
   "nbconvert_exporter": "python",
   "pygments_lexer": "ipython3",
   "version": "3.10.5"
  },
  "widgets": {
   "application/vnd.jupyter.widget-state+json": {
    "state": {},
    "version_major": 2,
    "version_minor": 0
   }
  }
 },
 "nbformat": 4,
 "nbformat_minor": 5
}
